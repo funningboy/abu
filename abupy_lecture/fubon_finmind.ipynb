{
 "cells": [
  {
   "cell_type": "code",
   "execution_count": 20,
   "metadata": {},
   "outputs": [
    {
     "name": "stdout",
     "output_type": "stream",
     "text": [
      "UTF-8\n",
      "     industry symbol  co_name exchange\n",
      "0         ETF   0050   元大台灣50     twse\n",
      "1         ETF   0051  元大中型100     twse\n",
      "2         ETF   0052     富邦科技     twse\n",
      "3         ETF   0053     元大電子     twse\n",
      "4         ETF   0054   元大台商50     twse\n",
      "...       ...    ...      ...      ...\n",
      "2755     鋼鐵工業   9958      世紀鋼     twse\n",
      "2756     貿易百貨   9960      邁達康     tpex\n",
      "2757     鋼鐵工業   9962       有益     tpex\n",
      "2758       大盤  TAIEX     加權指數     twse\n",
      "2759       大盤   TPEx     櫃買指數     tpex\n",
      "\n",
      "[2760 rows x 4 columns]\n"
     ]
    }
   ],
   "source": [
    "import warnings\n",
    "warnings.filterwarnings('ignore')\n",
    "warnings.simplefilter('ignore')\n",
    "    \n",
    "import numpy as np\n",
    "import pandas as pd\n",
    "import matplotlib.pyplot as plt\n",
    "import mplfinance as mpf\n",
    "%matplotlib inline\n",
    "import os\n",
    "import sys\n",
    "\n",
    "print (sys.stdout.encoding)\n",
    "\n",
    "os.environ['E_FINMIND_USERID'] = 'funningboy'\n",
    "os.environ['E_FINMIND_PASSWORD'] = 'qwer1234'\n",
    "\n",
    "import requests\n",
    "import pandas as pd\n",
    "url = \"https://api.finmindtrade.com/api/v4/data\"\n",
    "parameter = {\n",
    "    \"dataset\": \"TaiwanStockInfo\",\n",
    "    \"token\": \"\", # 參考登入，獲取金鑰\n",
    "}\n",
    "resp = requests.get(url, params=parameter)\n",
    "data = resp.json()\n",
    "data = pd.DataFrame(data[\"data\"])\n",
    "\n",
    "rename = {\n",
    "    'stock_id': 'symbol',\n",
    "    'stock_name': 'co_name',\n",
    "    'type': 'exchange',\n",
    "    'industry_category': 'industry'\n",
    "}\n",
    "data = data.rename(columns=rename)\n",
    "#abu symbol frame\n",
    "#,co_name,symbol,market,asset,co_site,amplitude,pe_s_d,co_intro,sc,prospectus,co_tel,exchange,co_addr,mv,equity,industry,turnover,oo,pb_MRQ\n",
    "\n",
    "print(data)\n",
    "\n",
    "\n",
    "\n",
    "\n"
   ]
  },
  {
   "cell_type": "code",
   "execution_count": 2,
   "metadata": {},
   "outputs": [],
   "source": [
    "from bs4 import BeautifulSoup \n",
    "import requests\n",
    "import pandas as pd\n",
    "import numpy as np\n",
    "from datetime import date\n",
    "import matplotlib.pyplot as plt\n",
    "%matplotlib inline\n",
    "import os"
   ]
  },
  {
   "cell_type": "code",
   "execution_count": 3,
   "metadata": {},
   "outputs": [
    {
     "name": "stdout",
     "output_type": "stream",
     "text": [
      "2021-02-06\n"
     ]
    }
   ],
   "source": [
    "td = date.today().isoformat()\n",
    "print (td)\n",
    "lls = lambda x: [x]"
   ]
  },
  {
   "cell_type": "code",
   "execution_count": 4,
   "metadata": {},
   "outputs": [
    {
     "data": {
      "text/html": [
       "<div>\n",
       "<style scoped>\n",
       "    .dataframe tbody tr th:only-of-type {\n",
       "        vertical-align: middle;\n",
       "    }\n",
       "\n",
       "    .dataframe tbody tr th {\n",
       "        vertical-align: top;\n",
       "    }\n",
       "\n",
       "    .dataframe thead th {\n",
       "        text-align: right;\n",
       "    }\n",
       "</style>\n",
       "<table border=\"1\" class=\"dataframe\">\n",
       "  <thead>\n",
       "    <tr style=\"text-align: right;\">\n",
       "      <th></th>\n",
       "      <th>O</th>\n",
       "      <th>H</th>\n",
       "      <th>L</th>\n",
       "      <th>C</th>\n",
       "      <th>V</th>\n",
       "    </tr>\n",
       "  </thead>\n",
       "  <tbody>\n",
       "    <tr>\n",
       "      <td>0</td>\n",
       "      <td>638.00</td>\n",
       "      <td>641.00</td>\n",
       "      <td>631.00</td>\n",
       "      <td>632.00</td>\n",
       "      <td>61633</td>\n",
       "    </tr>\n",
       "  </tbody>\n",
       "</table>\n",
       "</div>"
      ],
      "text/plain": [
       "        O       H       L       C      V\n",
       "0  638.00  641.00  631.00  632.00  61633"
      ]
     },
     "execution_count": 4,
     "metadata": {},
     "output_type": "execute_result"
    }
   ],
   "source": [
    "URL = 'http://fubon-ebrokerdj.fbs.com.tw/Z/ZC/ZCX/ZCX_2330.djhtm'\n",
    "\n",
    "resp = requests.get(URL)\n",
    "soup = BeautifulSoup(resp.text, 'html.parser')\n",
    "table = soup.find_all('table', {'class': 't01'})[1]\n",
    "values = list(map(lambda x: str(x.text).replace(',',''), table.find_all('td', {'class': 't3n1'})))\n",
    "ohlcV = {\n",
    "    'O': 0,\n",
    "    'H': 1,\n",
    "    'L': 2,\n",
    "    'C': 3,\n",
    "    'V': 11\n",
    "}\n",
    "for k,v in ohlcV.items():\n",
    "    ohlcV[k] = lls(values[ohlcV[k]])\n",
    "    \n",
    "ohlcV = pd.DataFrame(ohlcV)\n",
    "ohlcV"
   ]
  },
  {
   "cell_type": "code",
   "execution_count": 5,
   "metadata": {},
   "outputs": [
    {
     "name": "stdout",
     "output_type": "stream",
     "text": [
      "['1603', '2059', '75', '32450', '6482595', '0.50%', '80', '80', '1', '903', '2.78%', '16', '1169', '1139', '361', '32981', '6482595', '0.51%', '68', '117', '1', '904', '2.74%', '9', '1363', '2409', '95', '33312', '6482595', '0.51%', '56', '78', '0', '954', '2.86%', '19', '3093', '5174', '190', '34453', '6482595', '0.53%', '206', '166', '0', '976', '2.83%', '45', '2614', '2742', '49', '36724', '6482595', '0.57%', '270', '109', '0', '936', '2.55%', '38']\n"
     ]
    },
    {
     "data": {
      "text/html": [
       "<div>\n",
       "<style scoped>\n",
       "    .dataframe tbody tr th:only-of-type {\n",
       "        vertical-align: middle;\n",
       "    }\n",
       "\n",
       "    .dataframe tbody tr th {\n",
       "        vertical-align: top;\n",
       "    }\n",
       "\n",
       "    .dataframe thead th {\n",
       "        text-align: right;\n",
       "    }\n",
       "</style>\n",
       "<table border=\"1\" class=\"dataframe\">\n",
       "  <thead>\n",
       "    <tr style=\"text-align: right;\">\n",
       "      <th></th>\n",
       "      <th>MarginPurchaseBuy</th>\n",
       "      <th>MarginPurchaseCashRepayment</th>\n",
       "      <th>MarginPurchaseLimit</th>\n",
       "      <th>MarginPurchaseSell</th>\n",
       "      <th>MarginPurchaseTodayBalance</th>\n",
       "      <th>MarginPurchaseYesterdayBalance</th>\n",
       "      <th>date</th>\n",
       "      <th>stock_id</th>\n",
       "    </tr>\n",
       "  </thead>\n",
       "  <tbody>\n",
       "    <tr>\n",
       "      <td>0</td>\n",
       "      <td>1603</td>\n",
       "      <td>75</td>\n",
       "      <td>6482595</td>\n",
       "      <td>2059</td>\n",
       "      <td>32450</td>\n",
       "      <td>80</td>\n",
       "      <td>2021-02-06</td>\n",
       "      <td>2330</td>\n",
       "    </tr>\n",
       "  </tbody>\n",
       "</table>\n",
       "</div>"
      ],
      "text/plain": [
       "  MarginPurchaseBuy MarginPurchaseCashRepayment MarginPurchaseLimit  \\\n",
       "0              1603                          75             6482595   \n",
       "\n",
       "  MarginPurchaseSell MarginPurchaseTodayBalance  \\\n",
       "0               2059                      32450   \n",
       "\n",
       "  MarginPurchaseYesterdayBalance        date stock_id  \n",
       "0                             80  2021-02-06     2330  "
      ]
     },
     "execution_count": 5,
     "metadata": {},
     "output_type": "execute_result"
    }
   ],
   "source": [
    "URL= 'http://fubon-ebrokerdj.fbs.com.tw/z/zc/zcx/zcxD5.djjs?A=2330'\n",
    "\n",
    "resp = requests.get(URL)\n",
    "soup = BeautifulSoup(resp.text, 'html.parser')\n",
    "table = soup.find_all('table', {'class': 't01'})[0]\n",
    "values = list(map(lambda x: str(x.text).replace(',',''), table.find_all('td', {'class': 't3n1'})))\n",
    "print(values)\n",
    "MarginPS = {\n",
    "    'MarginPurchaseBuy': 0,\n",
    "    'MarginPurchaseCashRepayment' : 2,\n",
    "    'MarginPurchaseLimit': 4,\n",
    "    'MarginPurchaseSell': 1,\n",
    "    'MarginPurchaseTodayBalance': 3,\n",
    "    'MarginPurchaseYesterdayBalance': 7\n",
    "}\n",
    "for k,v in MarginPS.items():\n",
    "    MarginPS[k] = lls(values[MarginPS[k]])\n",
    "    \n",
    "MarginPS.update({\n",
    "    'date': [td],\n",
    "    'stock_id': ['2330']\n",
    "})\n",
    "data = pd.DataFrame(MarginPS)\n",
    "data\n",
    "\n"
   ]
  },
  {
   "cell_type": "code",
   "execution_count": 6,
   "metadata": {},
   "outputs": [
    {
     "data": {
      "text/html": [
       "<div>\n",
       "<style scoped>\n",
       "    .dataframe tbody tr th:only-of-type {\n",
       "        vertical-align: middle;\n",
       "    }\n",
       "\n",
       "    .dataframe tbody tr th {\n",
       "        vertical-align: top;\n",
       "    }\n",
       "\n",
       "    .dataframe thead th {\n",
       "        text-align: right;\n",
       "    }\n",
       "</style>\n",
       "<table border=\"1\" class=\"dataframe\">\n",
       "  <thead>\n",
       "    <tr style=\"text-align: right;\">\n",
       "      <th></th>\n",
       "    </tr>\n",
       "  </thead>\n",
       "  <tbody>\n",
       "  </tbody>\n",
       "</table>\n",
       "</div>"
      ],
      "text/plain": [
       "Empty DataFrame\n",
       "Columns: []\n",
       "Index: []"
      ]
     },
     "execution_count": 6,
     "metadata": {},
     "output_type": "execute_result"
    }
   ],
   "source": [
    "url = \"https://api.finmindtrade.com/api/v4/data\"\n",
    "parameter = {\n",
    "    \"dataset\": \"TaiwanStockMarginPurchaseShortSale\",\n",
    "    \"data_id\": \"2330\",\n",
    "    \"start_date\": td,\n",
    "    \"token\": \"\", # 參考登入，獲取金鑰\n",
    "}\n",
    "data = requests.get(url, params=parameter)\n",
    "data = data.json()\n",
    "data = pd.DataFrame(data['data'])\n",
    "data\n",
    "#data.head()"
   ]
  },
  {
   "cell_type": "code",
   "execution_count": null,
   "metadata": {},
   "outputs": [],
   "source": []
  },
  {
   "cell_type": "code",
   "execution_count": 7,
   "metadata": {},
   "outputs": [
    {
     "name": "stderr",
     "output_type": "stream",
     "text": [
      "NumExpr defaulting to 8 threads.\n"
     ]
    }
   ],
   "source": [
    "# 使用insert 0即只使用github，避免交叉使用了pip安装的abupy，导致的版本不一致问题\n",
    "sys.path.insert(0, os.path.abspath('../'))\n",
    "import abupy"
   ]
  },
  {
   "cell_type": "code",
   "execution_count": 8,
   "metadata": {},
   "outputs": [
    {
     "name": "stderr",
     "output_type": "stream",
     "text": [
      "disable example env\n"
     ]
    }
   ],
   "source": [
    "# 使用沙盒数据，目的是和书中一样的数据环境\n",
    "abupy.env.disable_example_env_ipython()"
   ]
  },
  {
   "cell_type": "code",
   "execution_count": null,
   "metadata": {},
   "outputs": [],
   "source": []
  },
  {
   "cell_type": "code",
   "execution_count": 9,
   "metadata": {},
   "outputs": [],
   "source": [
    "abupy.env.g_is_ipython = 0"
   ]
  },
  {
   "cell_type": "code",
   "execution_count": 10,
   "metadata": {},
   "outputs": [
    {
     "data": {
      "text/plain": [
       "<EMarketDataFetchMode.E_DATA_FETCH_NORMAL: 0>"
      ]
     },
     "execution_count": 10,
     "metadata": {},
     "output_type": "execute_result"
    }
   ],
   "source": [
    "abupy.env.g_data_fetch_mode"
   ]
  },
  {
   "cell_type": "code",
   "execution_count": 11,
   "metadata": {},
   "outputs": [],
   "source": [
    "abupy.env.g_data_fetch_mode = abupy.EMarketDataFetchMode.E_DATA_FETCH_FORCE_NET"
   ]
  },
  {
   "cell_type": "code",
   "execution_count": 12,
   "metadata": {},
   "outputs": [
    {
     "name": "stdout",
     "output_type": "stream",
     "text": [
      "tw_TWSE:2330\n"
     ]
    },
    {
     "data": {
      "text/html": [
       "<div>\n",
       "<style scoped>\n",
       "    .dataframe tbody tr th:only-of-type {\n",
       "        vertical-align: middle;\n",
       "    }\n",
       "\n",
       "    .dataframe tbody tr th {\n",
       "        vertical-align: top;\n",
       "    }\n",
       "\n",
       "    .dataframe thead th {\n",
       "        text-align: right;\n",
       "    }\n",
       "</style>\n",
       "<table border=\"1\" class=\"dataframe\">\n",
       "  <thead>\n",
       "    <tr style=\"text-align: right;\">\n",
       "      <th></th>\n",
       "      <th>open</th>\n",
       "      <th>close</th>\n",
       "      <th>high</th>\n",
       "      <th>low</th>\n",
       "      <th>volume</th>\n",
       "      <th>date</th>\n",
       "      <th>pre_close</th>\n",
       "      <th>date_week</th>\n",
       "      <th>p_change</th>\n",
       "      <th>atr21</th>\n",
       "      <th>atr14</th>\n",
       "      <th>key</th>\n",
       "    </tr>\n",
       "  </thead>\n",
       "  <tbody>\n",
       "    <tr>\n",
       "      <td>2021-02-01</td>\n",
       "      <td>595.0</td>\n",
       "      <td>611.0</td>\n",
       "      <td>612.0</td>\n",
       "      <td>587.0</td>\n",
       "      <td>68880939</td>\n",
       "      <td>20210201</td>\n",
       "      <td>591.0</td>\n",
       "      <td>0</td>\n",
       "      <td>3.384</td>\n",
       "      <td>25.0616</td>\n",
       "      <td>26.9786</td>\n",
       "      <td>981</td>\n",
       "    </tr>\n",
       "    <tr>\n",
       "      <td>2021-02-02</td>\n",
       "      <td>629.0</td>\n",
       "      <td>632.0</td>\n",
       "      <td>638.0</td>\n",
       "      <td>622.0</td>\n",
       "      <td>80724207</td>\n",
       "      <td>20210202</td>\n",
       "      <td>611.0</td>\n",
       "      <td>1</td>\n",
       "      <td>3.437</td>\n",
       "      <td>27.0560</td>\n",
       "      <td>29.6481</td>\n",
       "      <td>982</td>\n",
       "    </tr>\n",
       "    <tr>\n",
       "      <td>2021-02-03</td>\n",
       "      <td>638.0</td>\n",
       "      <td>630.0</td>\n",
       "      <td>642.0</td>\n",
       "      <td>630.0</td>\n",
       "      <td>49634227</td>\n",
       "      <td>20210203</td>\n",
       "      <td>632.0</td>\n",
       "      <td>2</td>\n",
       "      <td>-0.316</td>\n",
       "      <td>27.4145</td>\n",
       "      <td>29.8283</td>\n",
       "      <td>983</td>\n",
       "    </tr>\n",
       "    <tr>\n",
       "      <td>2021-02-04</td>\n",
       "      <td>626.0</td>\n",
       "      <td>627.0</td>\n",
       "      <td>632.0</td>\n",
       "      <td>620.0</td>\n",
       "      <td>47008873</td>\n",
       "      <td>20210204</td>\n",
       "      <td>630.0</td>\n",
       "      <td>3</td>\n",
       "      <td>-0.476</td>\n",
       "      <td>26.0132</td>\n",
       "      <td>27.4512</td>\n",
       "      <td>984</td>\n",
       "    </tr>\n",
       "    <tr>\n",
       "      <td>2021-02-05</td>\n",
       "      <td>638.0</td>\n",
       "      <td>632.0</td>\n",
       "      <td>641.0</td>\n",
       "      <td>631.0</td>\n",
       "      <td>54090831</td>\n",
       "      <td>20210205</td>\n",
       "      <td>627.0</td>\n",
       "      <td>4</td>\n",
       "      <td>0.797</td>\n",
       "      <td>24.6484</td>\n",
       "      <td>25.2577</td>\n",
       "      <td>985</td>\n",
       "    </tr>\n",
       "  </tbody>\n",
       "</table>\n",
       "</div>"
      ],
      "text/plain": [
       "             open  close   high    low    volume      date  pre_close  \\\n",
       "2021-02-01  595.0  611.0  612.0  587.0  68880939  20210201      591.0   \n",
       "2021-02-02  629.0  632.0  638.0  622.0  80724207  20210202      611.0   \n",
       "2021-02-03  638.0  630.0  642.0  630.0  49634227  20210203      632.0   \n",
       "2021-02-04  626.0  627.0  632.0  620.0  47008873  20210204      630.0   \n",
       "2021-02-05  638.0  632.0  641.0  631.0  54090831  20210205      627.0   \n",
       "\n",
       "            date_week  p_change    atr21    atr14  key  \n",
       "2021-02-01          0     3.384  25.0616  26.9786  981  \n",
       "2021-02-02          1     3.437  27.0560  29.6481  982  \n",
       "2021-02-03          2    -0.316  27.4145  29.8283  983  \n",
       "2021-02-04          3    -0.476  26.0132  27.4512  984  \n",
       "2021-02-05          4     0.797  24.6484  25.2577  985  "
      ]
     },
     "execution_count": 12,
     "metadata": {},
     "output_type": "execute_result"
    }
   ],
   "source": [
    "abupy.ABuSymbolPd.make_kl_df('2330', n_folds=4).tail()"
   ]
  },
  {
   "cell_type": "code",
   "execution_count": 13,
   "metadata": {},
   "outputs": [],
   "source": [
    "from abupy import AbuDoubleMaBuy, AbuDoubleMaSell, AbuSDBreak, AbuFactorBuyBreak\n",
    "from abupy import AbuFactorCloseAtrNStop, AbuFactorAtrNStop, AbuFactorPreAtrNStop\n",
    "from abupy import abu, ABuProgress, AbuMetricsBase, EMarketTargetType, ABuMarketDrawing\n",
    "from abupy import AbuFactorSellNDay, AbuFactorBuyWD, AbuFactorSellBreak\n",
    "from abupy import AbuSymbolTW"
   ]
  },
  {
   "cell_type": "code",
   "execution_count": 14,
   "metadata": {},
   "outputs": [],
   "source": [
    "buy_factors = [{'class': AbuDoubleMaBuy},\n",
    "               {'xd': 21, 'class': AbuFactorBuyBreak}, \n",
    "               {'xd': 7, 'class': AbuSDBreak}]\n",
    "\n",
    "sell_factors = [\n",
    "    {'class': AbuDoubleMaSell},\n",
    "    {'xd': 21, 'class': AbuFactorSellBreak},\n",
    "    {'stop_loss_n': 1.0, 'stop_win_n': 3.0, 'class': AbuFactorAtrNStop},\n",
    "    {'class': AbuFactorPreAtrNStop, 'pre_atr_n': 1.5},\n",
    "    {'class': AbuFactorCloseAtrNStop, 'close_atr_n': 1.5}\n",
    "]"
   ]
  },
  {
   "cell_type": "code",
   "execution_count": 15,
   "metadata": {},
   "outputs": [],
   "source": [
    "# 使用沙盒内的美股做为回测目标\n",
    "choice_symbols = ['2330']\n",
    "\n",
    "# 初始资金量\n",
    "read_cash = 3000000\n",
    "# 使用run_loop_back运行策略\n",
    "abu_result_tuple, kl_pd_manger = abu.run_loop_back(read_cash,\n",
    "                                                   buy_factors,\n",
    "                                                   sell_factors,\n",
    "                                                   n_folds=6,\n",
    "                                                   choice_symbols=choice_symbols)\n",
    "ABuProgress.clear_output()"
   ]
  },
  {
   "cell_type": "code",
   "execution_count": 16,
   "metadata": {
    "scrolled": false
   },
   "outputs": [
    {
     "name": "stdout",
     "output_type": "stream",
     "text": [
      "买入后卖出的交易数量:131\n",
      "买入后尚未卖出的交易数量:0\n",
      "胜率:52.6718%\n",
      "平均获利期望:6.9064%\n",
      "平均亏损期望:-2.9491%\n",
      "盈亏比:2.5234\n",
      "策略收益: 43.6574%\n",
      "基准收益: 344.7553%\n",
      "策略年化收益: 10.8549%\n",
      "基准年化收益: 85.7191%\n",
      "策略买入成交比例:97.7099%\n",
      "策略资金利用率比例:21.9310%\n",
      "策略共执行1468个交易日\n"
     ]
    },
    {
     "data": {
      "image/png": "[encoded data removed]",
      "text/plain": [
       "<Figure size 1008x504 with 1 Axes>"
      ]
     },
     "metadata": {},
     "output_type": "display_data"
    },
    {
     "data": {
      "text/plain": [
       "<abupy.MetricsBu.ABuMetricsBase.AbuMetricsBase at 0x2678585a2c8>"
      ]
     },
     "execution_count": 16,
     "metadata": {},
     "output_type": "execute_result"
    }
   ],
   "source": [
    "AbuMetricsBase.show_general(*abu_result_tuple, only_show_returns=True)"
   ]
  },
  {
   "cell_type": "code",
   "execution_count": 17,
   "metadata": {},
   "outputs": [
    {
     "data": {
      "text/html": [
       "<div>\n",
       "<style scoped>\n",
       "    .dataframe tbody tr th:only-of-type {\n",
       "        vertical-align: middle;\n",
       "    }\n",
       "\n",
       "    .dataframe tbody tr th {\n",
       "        vertical-align: top;\n",
       "    }\n",
       "\n",
       "    .dataframe thead th {\n",
       "        text-align: right;\n",
       "    }\n",
       "</style>\n",
       "<table border=\"1\" class=\"dataframe\">\n",
       "  <thead>\n",
       "    <tr style=\"text-align: right;\">\n",
       "      <th></th>\n",
       "      <th>buy_date</th>\n",
       "      <th>buy_price</th>\n",
       "      <th>buy_cnt</th>\n",
       "      <th>buy_factor</th>\n",
       "      <th>symbol</th>\n",
       "      <th>buy_pos</th>\n",
       "      <th>buy_type_str</th>\n",
       "      <th>expect_direction</th>\n",
       "      <th>sell_type_extra</th>\n",
       "      <th>sell_date</th>\n",
       "      <th>sell_price</th>\n",
       "      <th>sell_type</th>\n",
       "      <th>ml_features</th>\n",
       "      <th>key</th>\n",
       "      <th>profit</th>\n",
       "      <th>result</th>\n",
       "      <th>profit_cg</th>\n",
       "      <th>profit_cg_hunder</th>\n",
       "      <th>keep_days</th>\n",
       "    </tr>\n",
       "  </thead>\n",
       "  <tbody>\n",
       "    <tr>\n",
       "      <td>2015-02-26</td>\n",
       "      <td>20150226</td>\n",
       "      <td>152.25</td>\n",
       "      <td>3000.0</td>\n",
       "      <td>AbuSDBreak:7</td>\n",
       "      <td>2330</td>\n",
       "      <td>AbuAtrPosition</td>\n",
       "      <td>call</td>\n",
       "      <td>1.0</td>\n",
       "      <td>AbuFactorAtrNStop:stop_loss=1.0</td>\n",
       "      <td>20150311</td>\n",
       "      <td>145.50</td>\n",
       "      <td>loss</td>\n",
       "      <td>None</td>\n",
       "      <td>7</td>\n",
       "      <td>-20250.0</td>\n",
       "      <td>-1</td>\n",
       "      <td>-0.0443</td>\n",
       "      <td>-4.4335</td>\n",
       "      <td>13</td>\n",
       "    </tr>\n",
       "    <tr>\n",
       "      <td>2015-03-18</td>\n",
       "      <td>20150318</td>\n",
       "      <td>152.00</td>\n",
       "      <td>3000.0</td>\n",
       "      <td>AbuSDBreak:7</td>\n",
       "      <td>2330</td>\n",
       "      <td>AbuAtrPosition</td>\n",
       "      <td>call</td>\n",
       "      <td>1.0</td>\n",
       "      <td>AbuFactorSellBreak:21</td>\n",
       "      <td>20150330</td>\n",
       "      <td>143.00</td>\n",
       "      <td>loss</td>\n",
       "      <td>None</td>\n",
       "      <td>20</td>\n",
       "      <td>-27000.0</td>\n",
       "      <td>-1</td>\n",
       "      <td>-0.0592</td>\n",
       "      <td>-5.9211</td>\n",
       "      <td>12</td>\n",
       "    </tr>\n",
       "    <tr>\n",
       "      <td>2015-04-13</td>\n",
       "      <td>20150413</td>\n",
       "      <td>146.75</td>\n",
       "      <td>4000.0</td>\n",
       "      <td>AbuSDBreak:7</td>\n",
       "      <td>2330</td>\n",
       "      <td>AbuAtrPosition</td>\n",
       "      <td>call</td>\n",
       "      <td>1.0</td>\n",
       "      <td>AbuFactorSellBreak:21</td>\n",
       "      <td>20150420</td>\n",
       "      <td>142.75</td>\n",
       "      <td>loss</td>\n",
       "      <td>None</td>\n",
       "      <td>36</td>\n",
       "      <td>-16000.0</td>\n",
       "      <td>-1</td>\n",
       "      <td>-0.0273</td>\n",
       "      <td>-2.7257</td>\n",
       "      <td>7</td>\n",
       "    </tr>\n",
       "    <tr>\n",
       "      <td>2015-04-24</td>\n",
       "      <td>20150424</td>\n",
       "      <td>150.50</td>\n",
       "      <td>3000.0</td>\n",
       "      <td>AbuSDBreak:7</td>\n",
       "      <td>2330</td>\n",
       "      <td>AbuAtrPosition</td>\n",
       "      <td>call</td>\n",
       "      <td>1.0</td>\n",
       "      <td>AbuFactorAtrNStop:stop_loss=1.0</td>\n",
       "      <td>20150522</td>\n",
       "      <td>146.00</td>\n",
       "      <td>loss</td>\n",
       "      <td>None</td>\n",
       "      <td>45</td>\n",
       "      <td>-13500.0</td>\n",
       "      <td>-1</td>\n",
       "      <td>-0.0299</td>\n",
       "      <td>-2.9900</td>\n",
       "      <td>28</td>\n",
       "    </tr>\n",
       "    <tr>\n",
       "      <td>2015-04-27</td>\n",
       "      <td>20150427</td>\n",
       "      <td>151.50</td>\n",
       "      <td>3000.0</td>\n",
       "      <td>AbuFactorBuyBreak:21</td>\n",
       "      <td>2330</td>\n",
       "      <td>AbuAtrPosition</td>\n",
       "      <td>call</td>\n",
       "      <td>1.0</td>\n",
       "      <td>AbuFactorAtrNStop:stop_loss=1.0</td>\n",
       "      <td>20150522</td>\n",
       "      <td>146.00</td>\n",
       "      <td>loss</td>\n",
       "      <td>None</td>\n",
       "      <td>46</td>\n",
       "      <td>-16500.0</td>\n",
       "      <td>-1</td>\n",
       "      <td>-0.0363</td>\n",
       "      <td>-3.6304</td>\n",
       "      <td>25</td>\n",
       "    </tr>\n",
       "    <tr>\n",
       "      <td>...</td>\n",
       "      <td>...</td>\n",
       "      <td>...</td>\n",
       "      <td>...</td>\n",
       "      <td>...</td>\n",
       "      <td>...</td>\n",
       "      <td>...</td>\n",
       "      <td>...</td>\n",
       "      <td>...</td>\n",
       "      <td>...</td>\n",
       "      <td>...</td>\n",
       "      <td>...</td>\n",
       "      <td>...</td>\n",
       "      <td>...</td>\n",
       "      <td>...</td>\n",
       "      <td>...</td>\n",
       "      <td>...</td>\n",
       "      <td>...</td>\n",
       "      <td>...</td>\n",
       "      <td>...</td>\n",
       "    </tr>\n",
       "    <tr>\n",
       "      <td>2020-11-16</td>\n",
       "      <td>20201116</td>\n",
       "      <td>476.75</td>\n",
       "      <td>1000.0</td>\n",
       "      <td>AbuFactorBuyBreak:21</td>\n",
       "      <td>2330</td>\n",
       "      <td>AbuAtrPosition</td>\n",
       "      <td>call</td>\n",
       "      <td>1.0</td>\n",
       "      <td>AbuFactorCloseAtrNStop:close_atr_n=1.5</td>\n",
       "      <td>20201216</td>\n",
       "      <td>511.00</td>\n",
       "      <td>win</td>\n",
       "      <td>None</td>\n",
       "      <td>1409</td>\n",
       "      <td>34250.0</td>\n",
       "      <td>1</td>\n",
       "      <td>0.0718</td>\n",
       "      <td>7.1841</td>\n",
       "      <td>30</td>\n",
       "    </tr>\n",
       "    <tr>\n",
       "      <td>2020-11-17</td>\n",
       "      <td>20201117</td>\n",
       "      <td>495.75</td>\n",
       "      <td>1000.0</td>\n",
       "      <td>AbuSDBreak:7</td>\n",
       "      <td>2330</td>\n",
       "      <td>AbuAtrPosition</td>\n",
       "      <td>call</td>\n",
       "      <td>1.0</td>\n",
       "      <td>AbuFactorCloseAtrNStop:close_atr_n=1.5</td>\n",
       "      <td>20201216</td>\n",
       "      <td>511.00</td>\n",
       "      <td>win</td>\n",
       "      <td>None</td>\n",
       "      <td>1410</td>\n",
       "      <td>15250.0</td>\n",
       "      <td>1</td>\n",
       "      <td>0.0308</td>\n",
       "      <td>3.0761</td>\n",
       "      <td>29</td>\n",
       "    </tr>\n",
       "    <tr>\n",
       "      <td>2020-12-31</td>\n",
       "      <td>20201231</td>\n",
       "      <td>527.00</td>\n",
       "      <td>1000.0</td>\n",
       "      <td>AbuFactorBuyBreak:21</td>\n",
       "      <td>2330</td>\n",
       "      <td>AbuAtrPosition</td>\n",
       "      <td>call</td>\n",
       "      <td>1.0</td>\n",
       "      <td>AbuFactorAtrNStop:stop_win=3.0</td>\n",
       "      <td>20210122</td>\n",
       "      <td>657.00</td>\n",
       "      <td>win</td>\n",
       "      <td>None</td>\n",
       "      <td>1442</td>\n",
       "      <td>130000.0</td>\n",
       "      <td>1</td>\n",
       "      <td>0.2467</td>\n",
       "      <td>24.6679</td>\n",
       "      <td>22</td>\n",
       "    </tr>\n",
       "    <tr>\n",
       "      <td>2021-01-04</td>\n",
       "      <td>20210104</td>\n",
       "      <td>534.00</td>\n",
       "      <td>1000.0</td>\n",
       "      <td>AbuSDBreak:7</td>\n",
       "      <td>2330</td>\n",
       "      <td>AbuAtrPosition</td>\n",
       "      <td>call</td>\n",
       "      <td>1.0</td>\n",
       "      <td>AbuFactorCloseAtrNStop:close_atr_n=1.5</td>\n",
       "      <td>20210126</td>\n",
       "      <td>625.00</td>\n",
       "      <td>win</td>\n",
       "      <td>None</td>\n",
       "      <td>1443</td>\n",
       "      <td>91000.0</td>\n",
       "      <td>1</td>\n",
       "      <td>0.1704</td>\n",
       "      <td>17.0412</td>\n",
       "      <td>22</td>\n",
       "    </tr>\n",
       "    <tr>\n",
       "      <td>2021-01-14</td>\n",
       "      <td>20210114</td>\n",
       "      <td>592.00</td>\n",
       "      <td>1000.0</td>\n",
       "      <td>AbuSDBreak:7</td>\n",
       "      <td>2330</td>\n",
       "      <td>AbuAtrPosition</td>\n",
       "      <td>call</td>\n",
       "      <td>1.0</td>\n",
       "      <td>AbuFactorCloseAtrNStop:close_atr_n=1.5</td>\n",
       "      <td>20210126</td>\n",
       "      <td>625.00</td>\n",
       "      <td>win</td>\n",
       "      <td>None</td>\n",
       "      <td>1451</td>\n",
       "      <td>33000.0</td>\n",
       "      <td>1</td>\n",
       "      <td>0.0557</td>\n",
       "      <td>5.5743</td>\n",
       "      <td>12</td>\n",
       "    </tr>\n",
       "  </tbody>\n",
       "</table>\n",
       "<p>131 rows × 19 columns</p>\n",
       "</div>"
      ],
      "text/plain": [
       "            buy_date  buy_price  buy_cnt            buy_factor symbol  \\\n",
       "2015-02-26  20150226     152.25   3000.0          AbuSDBreak:7   2330   \n",
       "2015-03-18  20150318     152.00   3000.0          AbuSDBreak:7   2330   \n",
       "2015-04-13  20150413     146.75   4000.0          AbuSDBreak:7   2330   \n",
       "2015-04-24  20150424     150.50   3000.0          AbuSDBreak:7   2330   \n",
       "2015-04-27  20150427     151.50   3000.0  AbuFactorBuyBreak:21   2330   \n",
       "...              ...        ...      ...                   ...    ...   \n",
       "2020-11-16  20201116     476.75   1000.0  AbuFactorBuyBreak:21   2330   \n",
       "2020-11-17  20201117     495.75   1000.0          AbuSDBreak:7   2330   \n",
       "2020-12-31  20201231     527.00   1000.0  AbuFactorBuyBreak:21   2330   \n",
       "2021-01-04  20210104     534.00   1000.0          AbuSDBreak:7   2330   \n",
       "2021-01-14  20210114     592.00   1000.0          AbuSDBreak:7   2330   \n",
       "\n",
       "                   buy_pos buy_type_str  expect_direction  \\\n",
       "2015-02-26  AbuAtrPosition         call               1.0   \n",
       "2015-03-18  AbuAtrPosition         call               1.0   \n",
       "2015-04-13  AbuAtrPosition         call               1.0   \n",
       "2015-04-24  AbuAtrPosition         call               1.0   \n",
       "2015-04-27  AbuAtrPosition         call               1.0   \n",
       "...                    ...          ...               ...   \n",
       "2020-11-16  AbuAtrPosition         call               1.0   \n",
       "2020-11-17  AbuAtrPosition         call               1.0   \n",
       "2020-12-31  AbuAtrPosition         call               1.0   \n",
       "2021-01-04  AbuAtrPosition         call               1.0   \n",
       "2021-01-14  AbuAtrPosition         call               1.0   \n",
       "\n",
       "                                   sell_type_extra  sell_date  sell_price  \\\n",
       "2015-02-26         AbuFactorAtrNStop:stop_loss=1.0   20150311      145.50   \n",
       "2015-03-18                   AbuFactorSellBreak:21   20150330      143.00   \n",
       "2015-04-13                   AbuFactorSellBreak:21   20150420      142.75   \n",
       "2015-04-24         AbuFactorAtrNStop:stop_loss=1.0   20150522      146.00   \n",
       "2015-04-27         AbuFactorAtrNStop:stop_loss=1.0   20150522      146.00   \n",
       "...                                            ...        ...         ...   \n",
       "2020-11-16  AbuFactorCloseAtrNStop:close_atr_n=1.5   20201216      511.00   \n",
       "2020-11-17  AbuFactorCloseAtrNStop:close_atr_n=1.5   20201216      511.00   \n",
       "2020-12-31          AbuFactorAtrNStop:stop_win=3.0   20210122      657.00   \n",
       "2021-01-04  AbuFactorCloseAtrNStop:close_atr_n=1.5   20210126      625.00   \n",
       "2021-01-14  AbuFactorCloseAtrNStop:close_atr_n=1.5   20210126      625.00   \n",
       "\n",
       "           sell_type ml_features   key    profit  result  profit_cg  \\\n",
       "2015-02-26      loss        None     7  -20250.0      -1    -0.0443   \n",
       "2015-03-18      loss        None    20  -27000.0      -1    -0.0592   \n",
       "2015-04-13      loss        None    36  -16000.0      -1    -0.0273   \n",
       "2015-04-24      loss        None    45  -13500.0      -1    -0.0299   \n",
       "2015-04-27      loss        None    46  -16500.0      -1    -0.0363   \n",
       "...              ...         ...   ...       ...     ...        ...   \n",
       "2020-11-16       win        None  1409   34250.0       1     0.0718   \n",
       "2020-11-17       win        None  1410   15250.0       1     0.0308   \n",
       "2020-12-31       win        None  1442  130000.0       1     0.2467   \n",
       "2021-01-04       win        None  1443   91000.0       1     0.1704   \n",
       "2021-01-14       win        None  1451   33000.0       1     0.0557   \n",
       "\n",
       "            profit_cg_hunder  keep_days  \n",
       "2015-02-26           -4.4335         13  \n",
       "2015-03-18           -5.9211         12  \n",
       "2015-04-13           -2.7257          7  \n",
       "2015-04-24           -2.9900         28  \n",
       "2015-04-27           -3.6304         25  \n",
       "...                      ...        ...  \n",
       "2020-11-16            7.1841         30  \n",
       "2020-11-17            3.0761         29  \n",
       "2020-12-31           24.6679         22  \n",
       "2021-01-04           17.0412         22  \n",
       "2021-01-14            5.5743         12  \n",
       "\n",
       "[131 rows x 19 columns]"
      ]
     },
     "execution_count": 17,
     "metadata": {},
     "output_type": "execute_result"
    }
   ],
   "source": [
    "orders_pd = abu_result_tuple.orders_pd\n",
    "view_orders = orders_pd[(orders_pd['symbol'] == '2330')]\n",
    "view_orders"
   ]
  },
  {
   "cell_type": "code",
   "execution_count": 18,
   "metadata": {},
   "outputs": [
    {
     "name": "stdout",
     "output_type": "stream",
     "text": [
      "tw_TWSE:2330\n"
     ]
    },
    {
     "name": "stderr",
     "output_type": "stream",
     "text": [
      "No module named 'matplotlib.date'\n",
      "Traceback (most recent call last):\n",
      "  File \"D:\\sean.chen\\trader\\abu\\abupy\\MarketBu\\ABuMarketDrawing.py\", line 252, in _do_plot_candle\n",
      "    import matplotlib.date as mdf\n",
      "ModuleNotFoundError: No module named 'matplotlib.date'\n",
      "\n",
      "During handling of the above exception, another exception occurred:\n",
      "\n",
      "Traceback (most recent call last):\n",
      "  File \"D:\\sean.chen\\trader\\abu\\abupy\\MarketBu\\ABuMarketDrawing.py\", line 92, in plot_from_series\n",
      "    view_index=view_index_inner, save=save)\n",
      "  File \"D:\\sean.chen\\trader\\abu\\abupy\\MarketBu\\ABuMarketDrawing.py\", line 133, in plot_candle_from_symbol\n",
      "    plot_candle_form_klpd(kl_pd, day_sum, html_bk, view_index, save=save)\n",
      "  File \"D:\\sean.chen\\trader\\abu\\abupy\\MarketBu\\ABuMarketDrawing.py\", line 166, in plot_candle_form_klpd\n",
      "    fn, day_sum, html_bk, save)\n",
      "  File \"D:\\sean.chen\\trader\\abu\\abupy\\MarketBu\\ABuMarketDrawing.py\", line 188, in plot_candle_stick\n",
      "    _do_plot_candle(date, p_open, high, low, close, volume, view_index, symbol, day_sum, save, minute)\n",
      "  File \"D:\\sean.chen\\trader\\abu\\abupy\\MarketBu\\ABuMarketDrawing.py\", line 257, in _do_plot_candle\n",
      "    import matplotlib.date as mdf\n",
      "ModuleNotFoundError: No module named 'matplotlib.date'\n"
     ]
    },
    {
     "name": "stdout",
     "output_type": "stream",
     "text": [
      "tw_TWSE:2330\n"
     ]
    },
    {
     "name": "stderr",
     "output_type": "stream",
     "text": [
      "No module named 'matplotlib.date'\n",
      "Traceback (most recent call last):\n",
      "  File \"D:\\sean.chen\\trader\\abu\\abupy\\MarketBu\\ABuMarketDrawing.py\", line 252, in _do_plot_candle\n",
      "    import matplotlib.date as mdf\n",
      "ModuleNotFoundError: No module named 'matplotlib.date'\n",
      "\n",
      "During handling of the above exception, another exception occurred:\n",
      "\n",
      "Traceback (most recent call last):\n",
      "  File \"D:\\sean.chen\\trader\\abu\\abupy\\MarketBu\\ABuMarketDrawing.py\", line 92, in plot_from_series\n",
      "    view_index=view_index_inner, save=save)\n",
      "  File \"D:\\sean.chen\\trader\\abu\\abupy\\MarketBu\\ABuMarketDrawing.py\", line 133, in plot_candle_from_symbol\n",
      "    plot_candle_form_klpd(kl_pd, day_sum, html_bk, view_index, save=save)\n",
      "  File \"D:\\sean.chen\\trader\\abu\\abupy\\MarketBu\\ABuMarketDrawing.py\", line 166, in plot_candle_form_klpd\n",
      "    fn, day_sum, html_bk, save)\n",
      "  File \"D:\\sean.chen\\trader\\abu\\abupy\\MarketBu\\ABuMarketDrawing.py\", line 188, in plot_candle_stick\n",
      "    _do_plot_candle(date, p_open, high, low, close, volume, view_index, symbol, day_sum, save, minute)\n",
      "  File \"D:\\sean.chen\\trader\\abu\\abupy\\MarketBu\\ABuMarketDrawing.py\", line 257, in _do_plot_candle\n",
      "    import matplotlib.date as mdf\n",
      "ModuleNotFoundError: No module named 'matplotlib.date'\n"
     ]
    },
    {
     "name": "stdout",
     "output_type": "stream",
     "text": [
      "tw_TWSE:2330\n"
     ]
    },
    {
     "name": "stderr",
     "output_type": "stream",
     "text": [
      "No module named 'matplotlib.date'\n",
      "Traceback (most recent call last):\n",
      "  File \"D:\\sean.chen\\trader\\abu\\abupy\\MarketBu\\ABuMarketDrawing.py\", line 252, in _do_plot_candle\n",
      "    import matplotlib.date as mdf\n",
      "ModuleNotFoundError: No module named 'matplotlib.date'\n",
      "\n",
      "During handling of the above exception, another exception occurred:\n",
      "\n",
      "Traceback (most recent call last):\n",
      "  File \"D:\\sean.chen\\trader\\abu\\abupy\\MarketBu\\ABuMarketDrawing.py\", line 92, in plot_from_series\n",
      "    view_index=view_index_inner, save=save)\n",
      "  File \"D:\\sean.chen\\trader\\abu\\abupy\\MarketBu\\ABuMarketDrawing.py\", line 133, in plot_candle_from_symbol\n",
      "    plot_candle_form_klpd(kl_pd, day_sum, html_bk, view_index, save=save)\n",
      "  File \"D:\\sean.chen\\trader\\abu\\abupy\\MarketBu\\ABuMarketDrawing.py\", line 166, in plot_candle_form_klpd\n",
      "    fn, day_sum, html_bk, save)\n",
      "  File \"D:\\sean.chen\\trader\\abu\\abupy\\MarketBu\\ABuMarketDrawing.py\", line 188, in plot_candle_stick\n",
      "    _do_plot_candle(date, p_open, high, low, close, volume, view_index, symbol, day_sum, save, minute)\n",
      "  File \"D:\\sean.chen\\trader\\abu\\abupy\\MarketBu\\ABuMarketDrawing.py\", line 257, in _do_plot_candle\n",
      "    import matplotlib.date as mdf\n",
      "ModuleNotFoundError: No module named 'matplotlib.date'\n"
     ]
    },
    {
     "name": "stdout",
     "output_type": "stream",
     "text": [
      "tw_TWSE:2330\n"
     ]
    },
    {
     "name": "stderr",
     "output_type": "stream",
     "text": [
      "No module named 'matplotlib.date'\n",
      "Traceback (most recent call last):\n",
      "  File \"D:\\sean.chen\\trader\\abu\\abupy\\MarketBu\\ABuMarketDrawing.py\", line 252, in _do_plot_candle\n",
      "    import matplotlib.date as mdf\n",
      "ModuleNotFoundError: No module named 'matplotlib.date'\n",
      "\n",
      "During handling of the above exception, another exception occurred:\n",
      "\n",
      "Traceback (most recent call last):\n",
      "  File \"D:\\sean.chen\\trader\\abu\\abupy\\MarketBu\\ABuMarketDrawing.py\", line 92, in plot_from_series\n",
      "    view_index=view_index_inner, save=save)\n",
      "  File \"D:\\sean.chen\\trader\\abu\\abupy\\MarketBu\\ABuMarketDrawing.py\", line 133, in plot_candle_from_symbol\n",
      "    plot_candle_form_klpd(kl_pd, day_sum, html_bk, view_index, save=save)\n",
      "  File \"D:\\sean.chen\\trader\\abu\\abupy\\MarketBu\\ABuMarketDrawing.py\", line 166, in plot_candle_form_klpd\n",
      "    fn, day_sum, html_bk, save)\n",
      "  File \"D:\\sean.chen\\trader\\abu\\abupy\\MarketBu\\ABuMarketDrawing.py\", line 188, in plot_candle_stick\n",
      "    _do_plot_candle(date, p_open, high, low, close, volume, view_index, symbol, day_sum, save, minute)\n",
      "  File \"D:\\sean.chen\\trader\\abu\\abupy\\MarketBu\\ABuMarketDrawing.py\", line 257, in _do_plot_candle\n",
      "    import matplotlib.date as mdf\n",
      "ModuleNotFoundError: No module named 'matplotlib.date'\n"
     ]
    },
    {
     "name": "stdout",
     "output_type": "stream",
     "text": [
      "tw_TWSE:2330\n"
     ]
    },
    {
     "name": "stderr",
     "output_type": "stream",
     "text": [
      "No module named 'matplotlib.date'\n",
      "Traceback (most recent call last):\n",
      "  File \"D:\\sean.chen\\trader\\abu\\abupy\\MarketBu\\ABuMarketDrawing.py\", line 252, in _do_plot_candle\n",
      "    import matplotlib.date as mdf\n",
      "ModuleNotFoundError: No module named 'matplotlib.date'\n",
      "\n",
      "During handling of the above exception, another exception occurred:\n",
      "\n",
      "Traceback (most recent call last):\n",
      "  File \"D:\\sean.chen\\trader\\abu\\abupy\\MarketBu\\ABuMarketDrawing.py\", line 92, in plot_from_series\n",
      "    view_index=view_index_inner, save=save)\n",
      "  File \"D:\\sean.chen\\trader\\abu\\abupy\\MarketBu\\ABuMarketDrawing.py\", line 133, in plot_candle_from_symbol\n",
      "    plot_candle_form_klpd(kl_pd, day_sum, html_bk, view_index, save=save)\n",
      "  File \"D:\\sean.chen\\trader\\abu\\abupy\\MarketBu\\ABuMarketDrawing.py\", line 166, in plot_candle_form_klpd\n",
      "    fn, day_sum, html_bk, save)\n",
      "  File \"D:\\sean.chen\\trader\\abu\\abupy\\MarketBu\\ABuMarketDrawing.py\", line 188, in plot_candle_stick\n",
      "    _do_plot_candle(date, p_open, high, low, close, volume, view_index, symbol, day_sum, save, minute)\n",
      "  File \"D:\\sean.chen\\trader\\abu\\abupy\\MarketBu\\ABuMarketDrawing.py\", line 257, in _do_plot_candle\n",
      "    import matplotlib.date as mdf\n",
      "ModuleNotFoundError: No module named 'matplotlib.date'\n"
     ]
    },
    {
     "name": "stdout",
     "output_type": "stream",
     "text": [
      "tw_TWSE:2330\n"
     ]
    },
    {
     "name": "stderr",
     "output_type": "stream",
     "text": [
      "No module named 'matplotlib.date'\n",
      "Traceback (most recent call last):\n",
      "  File \"D:\\sean.chen\\trader\\abu\\abupy\\MarketBu\\ABuMarketDrawing.py\", line 252, in _do_plot_candle\n",
      "    import matplotlib.date as mdf\n",
      "ModuleNotFoundError: No module named 'matplotlib.date'\n",
      "\n",
      "During handling of the above exception, another exception occurred:\n",
      "\n",
      "Traceback (most recent call last):\n",
      "  File \"D:\\sean.chen\\trader\\abu\\abupy\\MarketBu\\ABuMarketDrawing.py\", line 92, in plot_from_series\n",
      "    view_index=view_index_inner, save=save)\n",
      "  File \"D:\\sean.chen\\trader\\abu\\abupy\\MarketBu\\ABuMarketDrawing.py\", line 133, in plot_candle_from_symbol\n",
      "    plot_candle_form_klpd(kl_pd, day_sum, html_bk, view_index, save=save)\n",
      "  File \"D:\\sean.chen\\trader\\abu\\abupy\\MarketBu\\ABuMarketDrawing.py\", line 166, in plot_candle_form_klpd\n",
      "    fn, day_sum, html_bk, save)\n",
      "  File \"D:\\sean.chen\\trader\\abu\\abupy\\MarketBu\\ABuMarketDrawing.py\", line 188, in plot_candle_stick\n",
      "    _do_plot_candle(date, p_open, high, low, close, volume, view_index, symbol, day_sum, save, minute)\n",
      "  File \"D:\\sean.chen\\trader\\abu\\abupy\\MarketBu\\ABuMarketDrawing.py\", line 257, in _do_plot_candle\n",
      "    import matplotlib.date as mdf\n",
      "ModuleNotFoundError: No module named 'matplotlib.date'\n"
     ]
    },
    {
     "name": "stdout",
     "output_type": "stream",
     "text": [
      "tw_TWSE:2330\n"
     ]
    },
    {
     "name": "stderr",
     "output_type": "stream",
     "text": [
      "No module named 'matplotlib.date'\n",
      "Traceback (most recent call last):\n",
      "  File \"D:\\sean.chen\\trader\\abu\\abupy\\MarketBu\\ABuMarketDrawing.py\", line 252, in _do_plot_candle\n",
      "    import matplotlib.date as mdf\n",
      "ModuleNotFoundError: No module named 'matplotlib.date'\n",
      "\n",
      "During handling of the above exception, another exception occurred:\n",
      "\n",
      "Traceback (most recent call last):\n",
      "  File \"D:\\sean.chen\\trader\\abu\\abupy\\MarketBu\\ABuMarketDrawing.py\", line 92, in plot_from_series\n",
      "    view_index=view_index_inner, save=save)\n",
      "  File \"D:\\sean.chen\\trader\\abu\\abupy\\MarketBu\\ABuMarketDrawing.py\", line 133, in plot_candle_from_symbol\n",
      "    plot_candle_form_klpd(kl_pd, day_sum, html_bk, view_index, save=save)\n",
      "  File \"D:\\sean.chen\\trader\\abu\\abupy\\MarketBu\\ABuMarketDrawing.py\", line 166, in plot_candle_form_klpd\n",
      "    fn, day_sum, html_bk, save)\n",
      "  File \"D:\\sean.chen\\trader\\abu\\abupy\\MarketBu\\ABuMarketDrawing.py\", line 188, in plot_candle_stick\n",
      "    _do_plot_candle(date, p_open, high, low, close, volume, view_index, symbol, day_sum, save, minute)\n",
      "  File \"D:\\sean.chen\\trader\\abu\\abupy\\MarketBu\\ABuMarketDrawing.py\", line 257, in _do_plot_candle\n",
      "    import matplotlib.date as mdf\n",
      "ModuleNotFoundError: No module named 'matplotlib.date'\n"
     ]
    },
    {
     "name": "stdout",
     "output_type": "stream",
     "text": [
      "tw_TWSE:2330\n"
     ]
    },
    {
     "name": "stderr",
     "output_type": "stream",
     "text": [
      "No module named 'matplotlib.date'\n",
      "Traceback (most recent call last):\n",
      "  File \"D:\\sean.chen\\trader\\abu\\abupy\\MarketBu\\ABuMarketDrawing.py\", line 252, in _do_plot_candle\n",
      "    import matplotlib.date as mdf\n",
      "ModuleNotFoundError: No module named 'matplotlib.date'\n",
      "\n",
      "During handling of the above exception, another exception occurred:\n",
      "\n",
      "Traceback (most recent call last):\n",
      "  File \"D:\\sean.chen\\trader\\abu\\abupy\\MarketBu\\ABuMarketDrawing.py\", line 92, in plot_from_series\n",
      "    view_index=view_index_inner, save=save)\n",
      "  File \"D:\\sean.chen\\trader\\abu\\abupy\\MarketBu\\ABuMarketDrawing.py\", line 133, in plot_candle_from_symbol\n",
      "    plot_candle_form_klpd(kl_pd, day_sum, html_bk, view_index, save=save)\n",
      "  File \"D:\\sean.chen\\trader\\abu\\abupy\\MarketBu\\ABuMarketDrawing.py\", line 166, in plot_candle_form_klpd\n",
      "    fn, day_sum, html_bk, save)\n",
      "  File \"D:\\sean.chen\\trader\\abu\\abupy\\MarketBu\\ABuMarketDrawing.py\", line 188, in plot_candle_stick\n",
      "    _do_plot_candle(date, p_open, high, low, close, volume, view_index, symbol, day_sum, save, minute)\n",
      "  File \"D:\\sean.chen\\trader\\abu\\abupy\\MarketBu\\ABuMarketDrawing.py\", line 257, in _do_plot_candle\n",
      "    import matplotlib.date as mdf\n",
      "ModuleNotFoundError: No module named 'matplotlib.date'\n"
     ]
    },
    {
     "name": "stdout",
     "output_type": "stream",
     "text": [
      "tw_TWSE:2330\n"
     ]
    },
    {
     "name": "stderr",
     "output_type": "stream",
     "text": [
      "No module named 'matplotlib.date'\n",
      "Traceback (most recent call last):\n",
      "  File \"D:\\sean.chen\\trader\\abu\\abupy\\MarketBu\\ABuMarketDrawing.py\", line 252, in _do_plot_candle\n",
      "    import matplotlib.date as mdf\n",
      "ModuleNotFoundError: No module named 'matplotlib.date'\n",
      "\n",
      "During handling of the above exception, another exception occurred:\n",
      "\n",
      "Traceback (most recent call last):\n",
      "  File \"D:\\sean.chen\\trader\\abu\\abupy\\MarketBu\\ABuMarketDrawing.py\", line 92, in plot_from_series\n",
      "    view_index=view_index_inner, save=save)\n",
      "  File \"D:\\sean.chen\\trader\\abu\\abupy\\MarketBu\\ABuMarketDrawing.py\", line 133, in plot_candle_from_symbol\n",
      "    plot_candle_form_klpd(kl_pd, day_sum, html_bk, view_index, save=save)\n",
      "  File \"D:\\sean.chen\\trader\\abu\\abupy\\MarketBu\\ABuMarketDrawing.py\", line 166, in plot_candle_form_klpd\n",
      "    fn, day_sum, html_bk, save)\n",
      "  File \"D:\\sean.chen\\trader\\abu\\abupy\\MarketBu\\ABuMarketDrawing.py\", line 188, in plot_candle_stick\n",
      "    _do_plot_candle(date, p_open, high, low, close, volume, view_index, symbol, day_sum, save, minute)\n",
      "  File \"D:\\sean.chen\\trader\\abu\\abupy\\MarketBu\\ABuMarketDrawing.py\", line 257, in _do_plot_candle\n",
      "    import matplotlib.date as mdf\n",
      "ModuleNotFoundError: No module named 'matplotlib.date'\n"
     ]
    },
    {
     "name": "stdout",
     "output_type": "stream",
     "text": [
      "tw_TWSE:2330\n"
     ]
    },
    {
     "name": "stderr",
     "output_type": "stream",
     "text": [
      "No module named 'matplotlib.date'\n",
      "Traceback (most recent call last):\n",
      "  File \"D:\\sean.chen\\trader\\abu\\abupy\\MarketBu\\ABuMarketDrawing.py\", line 252, in _do_plot_candle\n",
      "    import matplotlib.date as mdf\n",
      "ModuleNotFoundError: No module named 'matplotlib.date'\n",
      "\n",
      "During handling of the above exception, another exception occurred:\n",
      "\n",
      "Traceback (most recent call last):\n",
      "  File \"D:\\sean.chen\\trader\\abu\\abupy\\MarketBu\\ABuMarketDrawing.py\", line 92, in plot_from_series\n",
      "    view_index=view_index_inner, save=save)\n",
      "  File \"D:\\sean.chen\\trader\\abu\\abupy\\MarketBu\\ABuMarketDrawing.py\", line 133, in plot_candle_from_symbol\n",
      "    plot_candle_form_klpd(kl_pd, day_sum, html_bk, view_index, save=save)\n",
      "  File \"D:\\sean.chen\\trader\\abu\\abupy\\MarketBu\\ABuMarketDrawing.py\", line 166, in plot_candle_form_klpd\n",
      "    fn, day_sum, html_bk, save)\n",
      "  File \"D:\\sean.chen\\trader\\abu\\abupy\\MarketBu\\ABuMarketDrawing.py\", line 188, in plot_candle_stick\n",
      "    _do_plot_candle(date, p_open, high, low, close, volume, view_index, symbol, day_sum, save, minute)\n",
      "  File \"D:\\sean.chen\\trader\\abu\\abupy\\MarketBu\\ABuMarketDrawing.py\", line 257, in _do_plot_candle\n",
      "    import matplotlib.date as mdf\n",
      "ModuleNotFoundError: No module named 'matplotlib.date'\n"
     ]
    },
    {
     "name": "stdout",
     "output_type": "stream",
     "text": [
      "tw_TWSE:2330\n"
     ]
    },
    {
     "name": "stderr",
     "output_type": "stream",
     "text": [
      "No module named 'matplotlib.date'\n",
      "Traceback (most recent call last):\n",
      "  File \"D:\\sean.chen\\trader\\abu\\abupy\\MarketBu\\ABuMarketDrawing.py\", line 252, in _do_plot_candle\n",
      "    import matplotlib.date as mdf\n",
      "ModuleNotFoundError: No module named 'matplotlib.date'\n",
      "\n",
      "During handling of the above exception, another exception occurred:\n",
      "\n",
      "Traceback (most recent call last):\n",
      "  File \"D:\\sean.chen\\trader\\abu\\abupy\\MarketBu\\ABuMarketDrawing.py\", line 92, in plot_from_series\n",
      "    view_index=view_index_inner, save=save)\n",
      "  File \"D:\\sean.chen\\trader\\abu\\abupy\\MarketBu\\ABuMarketDrawing.py\", line 133, in plot_candle_from_symbol\n",
      "    plot_candle_form_klpd(kl_pd, day_sum, html_bk, view_index, save=save)\n",
      "  File \"D:\\sean.chen\\trader\\abu\\abupy\\MarketBu\\ABuMarketDrawing.py\", line 166, in plot_candle_form_klpd\n",
      "    fn, day_sum, html_bk, save)\n",
      "  File \"D:\\sean.chen\\trader\\abu\\abupy\\MarketBu\\ABuMarketDrawing.py\", line 188, in plot_candle_stick\n",
      "    _do_plot_candle(date, p_open, high, low, close, volume, view_index, symbol, day_sum, save, minute)\n",
      "  File \"D:\\sean.chen\\trader\\abu\\abupy\\MarketBu\\ABuMarketDrawing.py\", line 257, in _do_plot_candle\n",
      "    import matplotlib.date as mdf\n",
      "ModuleNotFoundError: No module named 'matplotlib.date'\n"
     ]
    },
    {
     "name": "stdout",
     "output_type": "stream",
     "text": [
      "tw_TWSE:2330\n"
     ]
    },
    {
     "name": "stderr",
     "output_type": "stream",
     "text": [
      "No module named 'matplotlib.date'\n",
      "Traceback (most recent call last):\n",
      "  File \"D:\\sean.chen\\trader\\abu\\abupy\\MarketBu\\ABuMarketDrawing.py\", line 252, in _do_plot_candle\n",
      "    import matplotlib.date as mdf\n",
      "ModuleNotFoundError: No module named 'matplotlib.date'\n",
      "\n",
      "During handling of the above exception, another exception occurred:\n",
      "\n",
      "Traceback (most recent call last):\n",
      "  File \"D:\\sean.chen\\trader\\abu\\abupy\\MarketBu\\ABuMarketDrawing.py\", line 92, in plot_from_series\n",
      "    view_index=view_index_inner, save=save)\n",
      "  File \"D:\\sean.chen\\trader\\abu\\abupy\\MarketBu\\ABuMarketDrawing.py\", line 133, in plot_candle_from_symbol\n",
      "    plot_candle_form_klpd(kl_pd, day_sum, html_bk, view_index, save=save)\n",
      "  File \"D:\\sean.chen\\trader\\abu\\abupy\\MarketBu\\ABuMarketDrawing.py\", line 166, in plot_candle_form_klpd\n",
      "    fn, day_sum, html_bk, save)\n",
      "  File \"D:\\sean.chen\\trader\\abu\\abupy\\MarketBu\\ABuMarketDrawing.py\", line 188, in plot_candle_stick\n",
      "    _do_plot_candle(date, p_open, high, low, close, volume, view_index, symbol, day_sum, save, minute)\n",
      "  File \"D:\\sean.chen\\trader\\abu\\abupy\\MarketBu\\ABuMarketDrawing.py\", line 257, in _do_plot_candle\n",
      "    import matplotlib.date as mdf\n",
      "ModuleNotFoundError: No module named 'matplotlib.date'\n"
     ]
    },
    {
     "name": "stdout",
     "output_type": "stream",
     "text": [
      "tw_TWSE:2330\n"
     ]
    },
    {
     "name": "stderr",
     "output_type": "stream",
     "text": [
      "No module named 'matplotlib.date'\n",
      "Traceback (most recent call last):\n",
      "  File \"D:\\sean.chen\\trader\\abu\\abupy\\MarketBu\\ABuMarketDrawing.py\", line 252, in _do_plot_candle\n",
      "    import matplotlib.date as mdf\n",
      "ModuleNotFoundError: No module named 'matplotlib.date'\n",
      "\n",
      "During handling of the above exception, another exception occurred:\n",
      "\n",
      "Traceback (most recent call last):\n",
      "  File \"D:\\sean.chen\\trader\\abu\\abupy\\MarketBu\\ABuMarketDrawing.py\", line 92, in plot_from_series\n",
      "    view_index=view_index_inner, save=save)\n",
      "  File \"D:\\sean.chen\\trader\\abu\\abupy\\MarketBu\\ABuMarketDrawing.py\", line 133, in plot_candle_from_symbol\n",
      "    plot_candle_form_klpd(kl_pd, day_sum, html_bk, view_index, save=save)\n",
      "  File \"D:\\sean.chen\\trader\\abu\\abupy\\MarketBu\\ABuMarketDrawing.py\", line 166, in plot_candle_form_klpd\n",
      "    fn, day_sum, html_bk, save)\n",
      "  File \"D:\\sean.chen\\trader\\abu\\abupy\\MarketBu\\ABuMarketDrawing.py\", line 188, in plot_candle_stick\n",
      "    _do_plot_candle(date, p_open, high, low, close, volume, view_index, symbol, day_sum, save, minute)\n",
      "  File \"D:\\sean.chen\\trader\\abu\\abupy\\MarketBu\\ABuMarketDrawing.py\", line 257, in _do_plot_candle\n",
      "    import matplotlib.date as mdf\n",
      "ModuleNotFoundError: No module named 'matplotlib.date'\n"
     ]
    },
    {
     "name": "stdout",
     "output_type": "stream",
     "text": [
      "tw_TWSE:2330\n"
     ]
    },
    {
     "name": "stderr",
     "output_type": "stream",
     "text": [
      "No module named 'matplotlib.date'\n",
      "Traceback (most recent call last):\n",
      "  File \"D:\\sean.chen\\trader\\abu\\abupy\\MarketBu\\ABuMarketDrawing.py\", line 252, in _do_plot_candle\n",
      "    import matplotlib.date as mdf\n",
      "ModuleNotFoundError: No module named 'matplotlib.date'\n",
      "\n",
      "During handling of the above exception, another exception occurred:\n",
      "\n",
      "Traceback (most recent call last):\n",
      "  File \"D:\\sean.chen\\trader\\abu\\abupy\\MarketBu\\ABuMarketDrawing.py\", line 92, in plot_from_series\n",
      "    view_index=view_index_inner, save=save)\n",
      "  File \"D:\\sean.chen\\trader\\abu\\abupy\\MarketBu\\ABuMarketDrawing.py\", line 133, in plot_candle_from_symbol\n",
      "    plot_candle_form_klpd(kl_pd, day_sum, html_bk, view_index, save=save)\n",
      "  File \"D:\\sean.chen\\trader\\abu\\abupy\\MarketBu\\ABuMarketDrawing.py\", line 166, in plot_candle_form_klpd\n",
      "    fn, day_sum, html_bk, save)\n",
      "  File \"D:\\sean.chen\\trader\\abu\\abupy\\MarketBu\\ABuMarketDrawing.py\", line 188, in plot_candle_stick\n",
      "    _do_plot_candle(date, p_open, high, low, close, volume, view_index, symbol, day_sum, save, minute)\n",
      "  File \"D:\\sean.chen\\trader\\abu\\abupy\\MarketBu\\ABuMarketDrawing.py\", line 257, in _do_plot_candle\n",
      "    import matplotlib.date as mdf\n",
      "ModuleNotFoundError: No module named 'matplotlib.date'\n"
     ]
    },
    {
     "name": "stdout",
     "output_type": "stream",
     "text": [
      "tw_TWSE:2330\n"
     ]
    },
    {
     "name": "stderr",
     "output_type": "stream",
     "text": [
      "No module named 'matplotlib.date'\n",
      "Traceback (most recent call last):\n",
      "  File \"D:\\sean.chen\\trader\\abu\\abupy\\MarketBu\\ABuMarketDrawing.py\", line 252, in _do_plot_candle\n",
      "    import matplotlib.date as mdf\n",
      "ModuleNotFoundError: No module named 'matplotlib.date'\n",
      "\n",
      "During handling of the above exception, another exception occurred:\n",
      "\n",
      "Traceback (most recent call last):\n",
      "  File \"D:\\sean.chen\\trader\\abu\\abupy\\MarketBu\\ABuMarketDrawing.py\", line 92, in plot_from_series\n",
      "    view_index=view_index_inner, save=save)\n",
      "  File \"D:\\sean.chen\\trader\\abu\\abupy\\MarketBu\\ABuMarketDrawing.py\", line 133, in plot_candle_from_symbol\n",
      "    plot_candle_form_klpd(kl_pd, day_sum, html_bk, view_index, save=save)\n",
      "  File \"D:\\sean.chen\\trader\\abu\\abupy\\MarketBu\\ABuMarketDrawing.py\", line 166, in plot_candle_form_klpd\n",
      "    fn, day_sum, html_bk, save)\n",
      "  File \"D:\\sean.chen\\trader\\abu\\abupy\\MarketBu\\ABuMarketDrawing.py\", line 188, in plot_candle_stick\n",
      "    _do_plot_candle(date, p_open, high, low, close, volume, view_index, symbol, day_sum, save, minute)\n",
      "  File \"D:\\sean.chen\\trader\\abu\\abupy\\MarketBu\\ABuMarketDrawing.py\", line 257, in _do_plot_candle\n",
      "    import matplotlib.date as mdf\n",
      "ModuleNotFoundError: No module named 'matplotlib.date'\n"
     ]
    },
    {
     "name": "stdout",
     "output_type": "stream",
     "text": [
      "tw_TWSE:2330\n"
     ]
    },
    {
     "name": "stderr",
     "output_type": "stream",
     "text": [
      "No module named 'matplotlib.date'\n",
      "Traceback (most recent call last):\n",
      "  File \"D:\\sean.chen\\trader\\abu\\abupy\\MarketBu\\ABuMarketDrawing.py\", line 252, in _do_plot_candle\n",
      "    import matplotlib.date as mdf\n",
      "ModuleNotFoundError: No module named 'matplotlib.date'\n",
      "\n",
      "During handling of the above exception, another exception occurred:\n",
      "\n",
      "Traceback (most recent call last):\n",
      "  File \"D:\\sean.chen\\trader\\abu\\abupy\\MarketBu\\ABuMarketDrawing.py\", line 92, in plot_from_series\n",
      "    view_index=view_index_inner, save=save)\n",
      "  File \"D:\\sean.chen\\trader\\abu\\abupy\\MarketBu\\ABuMarketDrawing.py\", line 133, in plot_candle_from_symbol\n",
      "    plot_candle_form_klpd(kl_pd, day_sum, html_bk, view_index, save=save)\n",
      "  File \"D:\\sean.chen\\trader\\abu\\abupy\\MarketBu\\ABuMarketDrawing.py\", line 166, in plot_candle_form_klpd\n",
      "    fn, day_sum, html_bk, save)\n",
      "  File \"D:\\sean.chen\\trader\\abu\\abupy\\MarketBu\\ABuMarketDrawing.py\", line 188, in plot_candle_stick\n",
      "    _do_plot_candle(date, p_open, high, low, close, volume, view_index, symbol, day_sum, save, minute)\n",
      "  File \"D:\\sean.chen\\trader\\abu\\abupy\\MarketBu\\ABuMarketDrawing.py\", line 257, in _do_plot_candle\n",
      "    import matplotlib.date as mdf\n",
      "ModuleNotFoundError: No module named 'matplotlib.date'\n"
     ]
    },
    {
     "name": "stdout",
     "output_type": "stream",
     "text": [
      "tw_TWSE:2330\n"
     ]
    },
    {
     "name": "stderr",
     "output_type": "stream",
     "text": [
      "No module named 'matplotlib.date'\n",
      "Traceback (most recent call last):\n",
      "  File \"D:\\sean.chen\\trader\\abu\\abupy\\MarketBu\\ABuMarketDrawing.py\", line 252, in _do_plot_candle\n",
      "    import matplotlib.date as mdf\n",
      "ModuleNotFoundError: No module named 'matplotlib.date'\n",
      "\n",
      "During handling of the above exception, another exception occurred:\n",
      "\n",
      "Traceback (most recent call last):\n",
      "  File \"D:\\sean.chen\\trader\\abu\\abupy\\MarketBu\\ABuMarketDrawing.py\", line 92, in plot_from_series\n",
      "    view_index=view_index_inner, save=save)\n",
      "  File \"D:\\sean.chen\\trader\\abu\\abupy\\MarketBu\\ABuMarketDrawing.py\", line 133, in plot_candle_from_symbol\n",
      "    plot_candle_form_klpd(kl_pd, day_sum, html_bk, view_index, save=save)\n",
      "  File \"D:\\sean.chen\\trader\\abu\\abupy\\MarketBu\\ABuMarketDrawing.py\", line 166, in plot_candle_form_klpd\n",
      "    fn, day_sum, html_bk, save)\n",
      "  File \"D:\\sean.chen\\trader\\abu\\abupy\\MarketBu\\ABuMarketDrawing.py\", line 188, in plot_candle_stick\n",
      "    _do_plot_candle(date, p_open, high, low, close, volume, view_index, symbol, day_sum, save, minute)\n",
      "  File \"D:\\sean.chen\\trader\\abu\\abupy\\MarketBu\\ABuMarketDrawing.py\", line 257, in _do_plot_candle\n",
      "    import matplotlib.date as mdf\n",
      "ModuleNotFoundError: No module named 'matplotlib.date'\n"
     ]
    },
    {
     "name": "stdout",
     "output_type": "stream",
     "text": [
      "tw_TWSE:2330\n"
     ]
    },
    {
     "name": "stderr",
     "output_type": "stream",
     "text": [
      "No module named 'matplotlib.date'\n",
      "Traceback (most recent call last):\n",
      "  File \"D:\\sean.chen\\trader\\abu\\abupy\\MarketBu\\ABuMarketDrawing.py\", line 252, in _do_plot_candle\n",
      "    import matplotlib.date as mdf\n",
      "ModuleNotFoundError: No module named 'matplotlib.date'\n",
      "\n",
      "During handling of the above exception, another exception occurred:\n",
      "\n",
      "Traceback (most recent call last):\n",
      "  File \"D:\\sean.chen\\trader\\abu\\abupy\\MarketBu\\ABuMarketDrawing.py\", line 92, in plot_from_series\n",
      "    view_index=view_index_inner, save=save)\n",
      "  File \"D:\\sean.chen\\trader\\abu\\abupy\\MarketBu\\ABuMarketDrawing.py\", line 133, in plot_candle_from_symbol\n",
      "    plot_candle_form_klpd(kl_pd, day_sum, html_bk, view_index, save=save)\n",
      "  File \"D:\\sean.chen\\trader\\abu\\abupy\\MarketBu\\ABuMarketDrawing.py\", line 166, in plot_candle_form_klpd\n",
      "    fn, day_sum, html_bk, save)\n",
      "  File \"D:\\sean.chen\\trader\\abu\\abupy\\MarketBu\\ABuMarketDrawing.py\", line 188, in plot_candle_stick\n",
      "    _do_plot_candle(date, p_open, high, low, close, volume, view_index, symbol, day_sum, save, minute)\n",
      "  File \"D:\\sean.chen\\trader\\abu\\abupy\\MarketBu\\ABuMarketDrawing.py\", line 257, in _do_plot_candle\n",
      "    import matplotlib.date as mdf\n",
      "ModuleNotFoundError: No module named 'matplotlib.date'\n"
     ]
    },
    {
     "name": "stdout",
     "output_type": "stream",
     "text": [
      "tw_TWSE:2330\n"
     ]
    },
    {
     "name": "stderr",
     "output_type": "stream",
     "text": [
      "No module named 'matplotlib.date'\n",
      "Traceback (most recent call last):\n",
      "  File \"D:\\sean.chen\\trader\\abu\\abupy\\MarketBu\\ABuMarketDrawing.py\", line 252, in _do_plot_candle\n",
      "    import matplotlib.date as mdf\n",
      "ModuleNotFoundError: No module named 'matplotlib.date'\n",
      "\n",
      "During handling of the above exception, another exception occurred:\n",
      "\n",
      "Traceback (most recent call last):\n",
      "  File \"D:\\sean.chen\\trader\\abu\\abupy\\MarketBu\\ABuMarketDrawing.py\", line 92, in plot_from_series\n",
      "    view_index=view_index_inner, save=save)\n",
      "  File \"D:\\sean.chen\\trader\\abu\\abupy\\MarketBu\\ABuMarketDrawing.py\", line 133, in plot_candle_from_symbol\n",
      "    plot_candle_form_klpd(kl_pd, day_sum, html_bk, view_index, save=save)\n",
      "  File \"D:\\sean.chen\\trader\\abu\\abupy\\MarketBu\\ABuMarketDrawing.py\", line 166, in plot_candle_form_klpd\n",
      "    fn, day_sum, html_bk, save)\n",
      "  File \"D:\\sean.chen\\trader\\abu\\abupy\\MarketBu\\ABuMarketDrawing.py\", line 188, in plot_candle_stick\n",
      "    _do_plot_candle(date, p_open, high, low, close, volume, view_index, symbol, day_sum, save, minute)\n",
      "  File \"D:\\sean.chen\\trader\\abu\\abupy\\MarketBu\\ABuMarketDrawing.py\", line 257, in _do_plot_candle\n",
      "    import matplotlib.date as mdf\n",
      "ModuleNotFoundError: No module named 'matplotlib.date'\n"
     ]
    },
    {
     "name": "stdout",
     "output_type": "stream",
     "text": [
      "tw_TWSE:2330\n"
     ]
    },
    {
     "name": "stderr",
     "output_type": "stream",
     "text": [
      "No module named 'matplotlib.date'\n",
      "Traceback (most recent call last):\n",
      "  File \"D:\\sean.chen\\trader\\abu\\abupy\\MarketBu\\ABuMarketDrawing.py\", line 252, in _do_plot_candle\n",
      "    import matplotlib.date as mdf\n",
      "ModuleNotFoundError: No module named 'matplotlib.date'\n",
      "\n",
      "During handling of the above exception, another exception occurred:\n",
      "\n",
      "Traceback (most recent call last):\n",
      "  File \"D:\\sean.chen\\trader\\abu\\abupy\\MarketBu\\ABuMarketDrawing.py\", line 92, in plot_from_series\n",
      "    view_index=view_index_inner, save=save)\n",
      "  File \"D:\\sean.chen\\trader\\abu\\abupy\\MarketBu\\ABuMarketDrawing.py\", line 133, in plot_candle_from_symbol\n",
      "    plot_candle_form_klpd(kl_pd, day_sum, html_bk, view_index, save=save)\n",
      "  File \"D:\\sean.chen\\trader\\abu\\abupy\\MarketBu\\ABuMarketDrawing.py\", line 166, in plot_candle_form_klpd\n",
      "    fn, day_sum, html_bk, save)\n",
      "  File \"D:\\sean.chen\\trader\\abu\\abupy\\MarketBu\\ABuMarketDrawing.py\", line 188, in plot_candle_stick\n",
      "    _do_plot_candle(date, p_open, high, low, close, volume, view_index, symbol, day_sum, save, minute)\n",
      "  File \"D:\\sean.chen\\trader\\abu\\abupy\\MarketBu\\ABuMarketDrawing.py\", line 257, in _do_plot_candle\n",
      "    import matplotlib.date as mdf\n",
      "ModuleNotFoundError: No module named 'matplotlib.date'\n"
     ]
    },
    {
     "name": "stdout",
     "output_type": "stream",
     "text": [
      "tw_TWSE:2330\n"
     ]
    },
    {
     "name": "stderr",
     "output_type": "stream",
     "text": [
      "No module named 'matplotlib.date'\n",
      "Traceback (most recent call last):\n",
      "  File \"D:\\sean.chen\\trader\\abu\\abupy\\MarketBu\\ABuMarketDrawing.py\", line 252, in _do_plot_candle\n",
      "    import matplotlib.date as mdf\n",
      "ModuleNotFoundError: No module named 'matplotlib.date'\n",
      "\n",
      "During handling of the above exception, another exception occurred:\n",
      "\n",
      "Traceback (most recent call last):\n",
      "  File \"D:\\sean.chen\\trader\\abu\\abupy\\MarketBu\\ABuMarketDrawing.py\", line 92, in plot_from_series\n",
      "    view_index=view_index_inner, save=save)\n",
      "  File \"D:\\sean.chen\\trader\\abu\\abupy\\MarketBu\\ABuMarketDrawing.py\", line 133, in plot_candle_from_symbol\n",
      "    plot_candle_form_klpd(kl_pd, day_sum, html_bk, view_index, save=save)\n",
      "  File \"D:\\sean.chen\\trader\\abu\\abupy\\MarketBu\\ABuMarketDrawing.py\", line 166, in plot_candle_form_klpd\n",
      "    fn, day_sum, html_bk, save)\n",
      "  File \"D:\\sean.chen\\trader\\abu\\abupy\\MarketBu\\ABuMarketDrawing.py\", line 188, in plot_candle_stick\n",
      "    _do_plot_candle(date, p_open, high, low, close, volume, view_index, symbol, day_sum, save, minute)\n",
      "  File \"D:\\sean.chen\\trader\\abu\\abupy\\MarketBu\\ABuMarketDrawing.py\", line 257, in _do_plot_candle\n",
      "    import matplotlib.date as mdf\n",
      "ModuleNotFoundError: No module named 'matplotlib.date'\n"
     ]
    },
    {
     "name": "stdout",
     "output_type": "stream",
     "text": [
      "tw_TWSE:2330\n"
     ]
    },
    {
     "name": "stderr",
     "output_type": "stream",
     "text": [
      "No module named 'matplotlib.date'\n",
      "Traceback (most recent call last):\n",
      "  File \"D:\\sean.chen\\trader\\abu\\abupy\\MarketBu\\ABuMarketDrawing.py\", line 252, in _do_plot_candle\n",
      "    import matplotlib.date as mdf\n",
      "ModuleNotFoundError: No module named 'matplotlib.date'\n",
      "\n",
      "During handling of the above exception, another exception occurred:\n",
      "\n",
      "Traceback (most recent call last):\n",
      "  File \"D:\\sean.chen\\trader\\abu\\abupy\\MarketBu\\ABuMarketDrawing.py\", line 92, in plot_from_series\n",
      "    view_index=view_index_inner, save=save)\n",
      "  File \"D:\\sean.chen\\trader\\abu\\abupy\\MarketBu\\ABuMarketDrawing.py\", line 133, in plot_candle_from_symbol\n",
      "    plot_candle_form_klpd(kl_pd, day_sum, html_bk, view_index, save=save)\n",
      "  File \"D:\\sean.chen\\trader\\abu\\abupy\\MarketBu\\ABuMarketDrawing.py\", line 166, in plot_candle_form_klpd\n",
      "    fn, day_sum, html_bk, save)\n",
      "  File \"D:\\sean.chen\\trader\\abu\\abupy\\MarketBu\\ABuMarketDrawing.py\", line 188, in plot_candle_stick\n",
      "    _do_plot_candle(date, p_open, high, low, close, volume, view_index, symbol, day_sum, save, minute)\n",
      "  File \"D:\\sean.chen\\trader\\abu\\abupy\\MarketBu\\ABuMarketDrawing.py\", line 257, in _do_plot_candle\n",
      "    import matplotlib.date as mdf\n",
      "ModuleNotFoundError: No module named 'matplotlib.date'\n"
     ]
    },
    {
     "name": "stdout",
     "output_type": "stream",
     "text": [
      "tw_TWSE:2330\n"
     ]
    },
    {
     "name": "stderr",
     "output_type": "stream",
     "text": [
      "No module named 'matplotlib.date'\n",
      "Traceback (most recent call last):\n",
      "  File \"D:\\sean.chen\\trader\\abu\\abupy\\MarketBu\\ABuMarketDrawing.py\", line 252, in _do_plot_candle\n",
      "    import matplotlib.date as mdf\n",
      "ModuleNotFoundError: No module named 'matplotlib.date'\n",
      "\n",
      "During handling of the above exception, another exception occurred:\n",
      "\n",
      "Traceback (most recent call last):\n",
      "  File \"D:\\sean.chen\\trader\\abu\\abupy\\MarketBu\\ABuMarketDrawing.py\", line 92, in plot_from_series\n",
      "    view_index=view_index_inner, save=save)\n",
      "  File \"D:\\sean.chen\\trader\\abu\\abupy\\MarketBu\\ABuMarketDrawing.py\", line 133, in plot_candle_from_symbol\n",
      "    plot_candle_form_klpd(kl_pd, day_sum, html_bk, view_index, save=save)\n",
      "  File \"D:\\sean.chen\\trader\\abu\\abupy\\MarketBu\\ABuMarketDrawing.py\", line 166, in plot_candle_form_klpd\n",
      "    fn, day_sum, html_bk, save)\n",
      "  File \"D:\\sean.chen\\trader\\abu\\abupy\\MarketBu\\ABuMarketDrawing.py\", line 188, in plot_candle_stick\n",
      "    _do_plot_candle(date, p_open, high, low, close, volume, view_index, symbol, day_sum, save, minute)\n",
      "  File \"D:\\sean.chen\\trader\\abu\\abupy\\MarketBu\\ABuMarketDrawing.py\", line 257, in _do_plot_candle\n",
      "    import matplotlib.date as mdf\n",
      "ModuleNotFoundError: No module named 'matplotlib.date'\n"
     ]
    },
    {
     "name": "stdout",
     "output_type": "stream",
     "text": [
      "tw_TWSE:2330\n"
     ]
    },
    {
     "name": "stderr",
     "output_type": "stream",
     "text": [
      "No module named 'matplotlib.date'\n",
      "Traceback (most recent call last):\n",
      "  File \"D:\\sean.chen\\trader\\abu\\abupy\\MarketBu\\ABuMarketDrawing.py\", line 252, in _do_plot_candle\n",
      "    import matplotlib.date as mdf\n",
      "ModuleNotFoundError: No module named 'matplotlib.date'\n",
      "\n",
      "During handling of the above exception, another exception occurred:\n",
      "\n",
      "Traceback (most recent call last):\n",
      "  File \"D:\\sean.chen\\trader\\abu\\abupy\\MarketBu\\ABuMarketDrawing.py\", line 92, in plot_from_series\n",
      "    view_index=view_index_inner, save=save)\n",
      "  File \"D:\\sean.chen\\trader\\abu\\abupy\\MarketBu\\ABuMarketDrawing.py\", line 133, in plot_candle_from_symbol\n",
      "    plot_candle_form_klpd(kl_pd, day_sum, html_bk, view_index, save=save)\n",
      "  File \"D:\\sean.chen\\trader\\abu\\abupy\\MarketBu\\ABuMarketDrawing.py\", line 166, in plot_candle_form_klpd\n",
      "    fn, day_sum, html_bk, save)\n",
      "  File \"D:\\sean.chen\\trader\\abu\\abupy\\MarketBu\\ABuMarketDrawing.py\", line 188, in plot_candle_stick\n",
      "    _do_plot_candle(date, p_open, high, low, close, volume, view_index, symbol, day_sum, save, minute)\n",
      "  File \"D:\\sean.chen\\trader\\abu\\abupy\\MarketBu\\ABuMarketDrawing.py\", line 257, in _do_plot_candle\n",
      "    import matplotlib.date as mdf\n",
      "ModuleNotFoundError: No module named 'matplotlib.date'\n"
     ]
    },
    {
     "name": "stdout",
     "output_type": "stream",
     "text": [
      "tw_TWSE:2330\n"
     ]
    },
    {
     "name": "stderr",
     "output_type": "stream",
     "text": [
      "No module named 'matplotlib.date'\n",
      "Traceback (most recent call last):\n",
      "  File \"D:\\sean.chen\\trader\\abu\\abupy\\MarketBu\\ABuMarketDrawing.py\", line 252, in _do_plot_candle\n",
      "    import matplotlib.date as mdf\n",
      "ModuleNotFoundError: No module named 'matplotlib.date'\n",
      "\n",
      "During handling of the above exception, another exception occurred:\n",
      "\n",
      "Traceback (most recent call last):\n",
      "  File \"D:\\sean.chen\\trader\\abu\\abupy\\MarketBu\\ABuMarketDrawing.py\", line 92, in plot_from_series\n",
      "    view_index=view_index_inner, save=save)\n",
      "  File \"D:\\sean.chen\\trader\\abu\\abupy\\MarketBu\\ABuMarketDrawing.py\", line 133, in plot_candle_from_symbol\n",
      "    plot_candle_form_klpd(kl_pd, day_sum, html_bk, view_index, save=save)\n",
      "  File \"D:\\sean.chen\\trader\\abu\\abupy\\MarketBu\\ABuMarketDrawing.py\", line 166, in plot_candle_form_klpd\n",
      "    fn, day_sum, html_bk, save)\n",
      "  File \"D:\\sean.chen\\trader\\abu\\abupy\\MarketBu\\ABuMarketDrawing.py\", line 188, in plot_candle_stick\n",
      "    _do_plot_candle(date, p_open, high, low, close, volume, view_index, symbol, day_sum, save, minute)\n",
      "  File \"D:\\sean.chen\\trader\\abu\\abupy\\MarketBu\\ABuMarketDrawing.py\", line 257, in _do_plot_candle\n",
      "    import matplotlib.date as mdf\n",
      "ModuleNotFoundError: No module named 'matplotlib.date'\n"
     ]
    },
    {
     "name": "stdout",
     "output_type": "stream",
     "text": [
      "tw_TWSE:2330\n"
     ]
    },
    {
     "name": "stderr",
     "output_type": "stream",
     "text": [
      "No module named 'matplotlib.date'\n",
      "Traceback (most recent call last):\n",
      "  File \"D:\\sean.chen\\trader\\abu\\abupy\\MarketBu\\ABuMarketDrawing.py\", line 252, in _do_plot_candle\n",
      "    import matplotlib.date as mdf\n",
      "ModuleNotFoundError: No module named 'matplotlib.date'\n",
      "\n",
      "During handling of the above exception, another exception occurred:\n",
      "\n",
      "Traceback (most recent call last):\n",
      "  File \"D:\\sean.chen\\trader\\abu\\abupy\\MarketBu\\ABuMarketDrawing.py\", line 92, in plot_from_series\n",
      "    view_index=view_index_inner, save=save)\n",
      "  File \"D:\\sean.chen\\trader\\abu\\abupy\\MarketBu\\ABuMarketDrawing.py\", line 133, in plot_candle_from_symbol\n",
      "    plot_candle_form_klpd(kl_pd, day_sum, html_bk, view_index, save=save)\n",
      "  File \"D:\\sean.chen\\trader\\abu\\abupy\\MarketBu\\ABuMarketDrawing.py\", line 166, in plot_candle_form_klpd\n",
      "    fn, day_sum, html_bk, save)\n",
      "  File \"D:\\sean.chen\\trader\\abu\\abupy\\MarketBu\\ABuMarketDrawing.py\", line 188, in plot_candle_stick\n",
      "    _do_plot_candle(date, p_open, high, low, close, volume, view_index, symbol, day_sum, save, minute)\n",
      "  File \"D:\\sean.chen\\trader\\abu\\abupy\\MarketBu\\ABuMarketDrawing.py\", line 257, in _do_plot_candle\n",
      "    import matplotlib.date as mdf\n",
      "ModuleNotFoundError: No module named 'matplotlib.date'\n"
     ]
    },
    {
     "name": "stdout",
     "output_type": "stream",
     "text": [
      "tw_TWSE:2330\n"
     ]
    },
    {
     "name": "stderr",
     "output_type": "stream",
     "text": [
      "No module named 'matplotlib.date'\n",
      "Traceback (most recent call last):\n",
      "  File \"D:\\sean.chen\\trader\\abu\\abupy\\MarketBu\\ABuMarketDrawing.py\", line 252, in _do_plot_candle\n",
      "    import matplotlib.date as mdf\n",
      "ModuleNotFoundError: No module named 'matplotlib.date'\n",
      "\n",
      "During handling of the above exception, another exception occurred:\n",
      "\n",
      "Traceback (most recent call last):\n",
      "  File \"D:\\sean.chen\\trader\\abu\\abupy\\MarketBu\\ABuMarketDrawing.py\", line 92, in plot_from_series\n",
      "    view_index=view_index_inner, save=save)\n",
      "  File \"D:\\sean.chen\\trader\\abu\\abupy\\MarketBu\\ABuMarketDrawing.py\", line 133, in plot_candle_from_symbol\n",
      "    plot_candle_form_klpd(kl_pd, day_sum, html_bk, view_index, save=save)\n",
      "  File \"D:\\sean.chen\\trader\\abu\\abupy\\MarketBu\\ABuMarketDrawing.py\", line 166, in plot_candle_form_klpd\n",
      "    fn, day_sum, html_bk, save)\n",
      "  File \"D:\\sean.chen\\trader\\abu\\abupy\\MarketBu\\ABuMarketDrawing.py\", line 188, in plot_candle_stick\n",
      "    _do_plot_candle(date, p_open, high, low, close, volume, view_index, symbol, day_sum, save, minute)\n",
      "  File \"D:\\sean.chen\\trader\\abu\\abupy\\MarketBu\\ABuMarketDrawing.py\", line 257, in _do_plot_candle\n",
      "    import matplotlib.date as mdf\n",
      "ModuleNotFoundError: No module named 'matplotlib.date'\n"
     ]
    },
    {
     "name": "stdout",
     "output_type": "stream",
     "text": [
      "tw_TWSE:2330\n"
     ]
    },
    {
     "name": "stderr",
     "output_type": "stream",
     "text": [
      "No module named 'matplotlib.date'\n",
      "Traceback (most recent call last):\n",
      "  File \"D:\\sean.chen\\trader\\abu\\abupy\\MarketBu\\ABuMarketDrawing.py\", line 252, in _do_plot_candle\n",
      "    import matplotlib.date as mdf\n",
      "ModuleNotFoundError: No module named 'matplotlib.date'\n",
      "\n",
      "During handling of the above exception, another exception occurred:\n",
      "\n",
      "Traceback (most recent call last):\n",
      "  File \"D:\\sean.chen\\trader\\abu\\abupy\\MarketBu\\ABuMarketDrawing.py\", line 92, in plot_from_series\n",
      "    view_index=view_index_inner, save=save)\n",
      "  File \"D:\\sean.chen\\trader\\abu\\abupy\\MarketBu\\ABuMarketDrawing.py\", line 133, in plot_candle_from_symbol\n",
      "    plot_candle_form_klpd(kl_pd, day_sum, html_bk, view_index, save=save)\n",
      "  File \"D:\\sean.chen\\trader\\abu\\abupy\\MarketBu\\ABuMarketDrawing.py\", line 166, in plot_candle_form_klpd\n",
      "    fn, day_sum, html_bk, save)\n",
      "  File \"D:\\sean.chen\\trader\\abu\\abupy\\MarketBu\\ABuMarketDrawing.py\", line 188, in plot_candle_stick\n",
      "    _do_plot_candle(date, p_open, high, low, close, volume, view_index, symbol, day_sum, save, minute)\n",
      "  File \"D:\\sean.chen\\trader\\abu\\abupy\\MarketBu\\ABuMarketDrawing.py\", line 257, in _do_plot_candle\n",
      "    import matplotlib.date as mdf\n",
      "ModuleNotFoundError: No module named 'matplotlib.date'\n"
     ]
    },
    {
     "name": "stdout",
     "output_type": "stream",
     "text": [
      "tw_TWSE:2330\n"
     ]
    },
    {
     "name": "stderr",
     "output_type": "stream",
     "text": [
      "No module named 'matplotlib.date'\n",
      "Traceback (most recent call last):\n",
      "  File \"D:\\sean.chen\\trader\\abu\\abupy\\MarketBu\\ABuMarketDrawing.py\", line 252, in _do_plot_candle\n",
      "    import matplotlib.date as mdf\n",
      "ModuleNotFoundError: No module named 'matplotlib.date'\n",
      "\n",
      "During handling of the above exception, another exception occurred:\n",
      "\n",
      "Traceback (most recent call last):\n",
      "  File \"D:\\sean.chen\\trader\\abu\\abupy\\MarketBu\\ABuMarketDrawing.py\", line 92, in plot_from_series\n",
      "    view_index=view_index_inner, save=save)\n",
      "  File \"D:\\sean.chen\\trader\\abu\\abupy\\MarketBu\\ABuMarketDrawing.py\", line 133, in plot_candle_from_symbol\n",
      "    plot_candle_form_klpd(kl_pd, day_sum, html_bk, view_index, save=save)\n",
      "  File \"D:\\sean.chen\\trader\\abu\\abupy\\MarketBu\\ABuMarketDrawing.py\", line 166, in plot_candle_form_klpd\n",
      "    fn, day_sum, html_bk, save)\n",
      "  File \"D:\\sean.chen\\trader\\abu\\abupy\\MarketBu\\ABuMarketDrawing.py\", line 188, in plot_candle_stick\n",
      "    _do_plot_candle(date, p_open, high, low, close, volume, view_index, symbol, day_sum, save, minute)\n",
      "  File \"D:\\sean.chen\\trader\\abu\\abupy\\MarketBu\\ABuMarketDrawing.py\", line 257, in _do_plot_candle\n",
      "    import matplotlib.date as mdf\n",
      "ModuleNotFoundError: No module named 'matplotlib.date'\n"
     ]
    },
    {
     "name": "stdout",
     "output_type": "stream",
     "text": [
      "tw_TWSE:2330\n"
     ]
    },
    {
     "name": "stderr",
     "output_type": "stream",
     "text": [
      "No module named 'matplotlib.date'\n",
      "Traceback (most recent call last):\n",
      "  File \"D:\\sean.chen\\trader\\abu\\abupy\\MarketBu\\ABuMarketDrawing.py\", line 252, in _do_plot_candle\n",
      "    import matplotlib.date as mdf\n",
      "ModuleNotFoundError: No module named 'matplotlib.date'\n",
      "\n",
      "During handling of the above exception, another exception occurred:\n",
      "\n",
      "Traceback (most recent call last):\n",
      "  File \"D:\\sean.chen\\trader\\abu\\abupy\\MarketBu\\ABuMarketDrawing.py\", line 92, in plot_from_series\n",
      "    view_index=view_index_inner, save=save)\n",
      "  File \"D:\\sean.chen\\trader\\abu\\abupy\\MarketBu\\ABuMarketDrawing.py\", line 133, in plot_candle_from_symbol\n",
      "    plot_candle_form_klpd(kl_pd, day_sum, html_bk, view_index, save=save)\n",
      "  File \"D:\\sean.chen\\trader\\abu\\abupy\\MarketBu\\ABuMarketDrawing.py\", line 166, in plot_candle_form_klpd\n",
      "    fn, day_sum, html_bk, save)\n",
      "  File \"D:\\sean.chen\\trader\\abu\\abupy\\MarketBu\\ABuMarketDrawing.py\", line 188, in plot_candle_stick\n",
      "    _do_plot_candle(date, p_open, high, low, close, volume, view_index, symbol, day_sum, save, minute)\n",
      "  File \"D:\\sean.chen\\trader\\abu\\abupy\\MarketBu\\ABuMarketDrawing.py\", line 257, in _do_plot_candle\n",
      "    import matplotlib.date as mdf\n",
      "ModuleNotFoundError: No module named 'matplotlib.date'\n"
     ]
    },
    {
     "name": "stdout",
     "output_type": "stream",
     "text": [
      "tw_TWSE:2330\n"
     ]
    },
    {
     "name": "stderr",
     "output_type": "stream",
     "text": [
      "No module named 'matplotlib.date'\n",
      "Traceback (most recent call last):\n",
      "  File \"D:\\sean.chen\\trader\\abu\\abupy\\MarketBu\\ABuMarketDrawing.py\", line 252, in _do_plot_candle\n",
      "    import matplotlib.date as mdf\n",
      "ModuleNotFoundError: No module named 'matplotlib.date'\n",
      "\n",
      "During handling of the above exception, another exception occurred:\n",
      "\n",
      "Traceback (most recent call last):\n",
      "  File \"D:\\sean.chen\\trader\\abu\\abupy\\MarketBu\\ABuMarketDrawing.py\", line 92, in plot_from_series\n",
      "    view_index=view_index_inner, save=save)\n",
      "  File \"D:\\sean.chen\\trader\\abu\\abupy\\MarketBu\\ABuMarketDrawing.py\", line 133, in plot_candle_from_symbol\n",
      "    plot_candle_form_klpd(kl_pd, day_sum, html_bk, view_index, save=save)\n",
      "  File \"D:\\sean.chen\\trader\\abu\\abupy\\MarketBu\\ABuMarketDrawing.py\", line 166, in plot_candle_form_klpd\n",
      "    fn, day_sum, html_bk, save)\n",
      "  File \"D:\\sean.chen\\trader\\abu\\abupy\\MarketBu\\ABuMarketDrawing.py\", line 188, in plot_candle_stick\n",
      "    _do_plot_candle(date, p_open, high, low, close, volume, view_index, symbol, day_sum, save, minute)\n",
      "  File \"D:\\sean.chen\\trader\\abu\\abupy\\MarketBu\\ABuMarketDrawing.py\", line 257, in _do_plot_candle\n",
      "    import matplotlib.date as mdf\n",
      "ModuleNotFoundError: No module named 'matplotlib.date'\n"
     ]
    },
    {
     "name": "stdout",
     "output_type": "stream",
     "text": [
      "tw_TWSE:2330\n"
     ]
    },
    {
     "name": "stderr",
     "output_type": "stream",
     "text": [
      "No module named 'matplotlib.date'\n",
      "Traceback (most recent call last):\n",
      "  File \"D:\\sean.chen\\trader\\abu\\abupy\\MarketBu\\ABuMarketDrawing.py\", line 252, in _do_plot_candle\n",
      "    import matplotlib.date as mdf\n",
      "ModuleNotFoundError: No module named 'matplotlib.date'\n",
      "\n",
      "During handling of the above exception, another exception occurred:\n",
      "\n",
      "Traceback (most recent call last):\n",
      "  File \"D:\\sean.chen\\trader\\abu\\abupy\\MarketBu\\ABuMarketDrawing.py\", line 92, in plot_from_series\n",
      "    view_index=view_index_inner, save=save)\n",
      "  File \"D:\\sean.chen\\trader\\abu\\abupy\\MarketBu\\ABuMarketDrawing.py\", line 133, in plot_candle_from_symbol\n",
      "    plot_candle_form_klpd(kl_pd, day_sum, html_bk, view_index, save=save)\n",
      "  File \"D:\\sean.chen\\trader\\abu\\abupy\\MarketBu\\ABuMarketDrawing.py\", line 166, in plot_candle_form_klpd\n",
      "    fn, day_sum, html_bk, save)\n",
      "  File \"D:\\sean.chen\\trader\\abu\\abupy\\MarketBu\\ABuMarketDrawing.py\", line 188, in plot_candle_stick\n",
      "    _do_plot_candle(date, p_open, high, low, close, volume, view_index, symbol, day_sum, save, minute)\n",
      "  File \"D:\\sean.chen\\trader\\abu\\abupy\\MarketBu\\ABuMarketDrawing.py\", line 257, in _do_plot_candle\n",
      "    import matplotlib.date as mdf\n",
      "ModuleNotFoundError: No module named 'matplotlib.date'\n"
     ]
    },
    {
     "name": "stdout",
     "output_type": "stream",
     "text": [
      "tw_TWSE:2330\n"
     ]
    },
    {
     "name": "stderr",
     "output_type": "stream",
     "text": [
      "No module named 'matplotlib.date'\n",
      "Traceback (most recent call last):\n",
      "  File \"D:\\sean.chen\\trader\\abu\\abupy\\MarketBu\\ABuMarketDrawing.py\", line 252, in _do_plot_candle\n",
      "    import matplotlib.date as mdf\n",
      "ModuleNotFoundError: No module named 'matplotlib.date'\n",
      "\n",
      "During handling of the above exception, another exception occurred:\n",
      "\n",
      "Traceback (most recent call last):\n",
      "  File \"D:\\sean.chen\\trader\\abu\\abupy\\MarketBu\\ABuMarketDrawing.py\", line 92, in plot_from_series\n",
      "    view_index=view_index_inner, save=save)\n",
      "  File \"D:\\sean.chen\\trader\\abu\\abupy\\MarketBu\\ABuMarketDrawing.py\", line 133, in plot_candle_from_symbol\n",
      "    plot_candle_form_klpd(kl_pd, day_sum, html_bk, view_index, save=save)\n",
      "  File \"D:\\sean.chen\\trader\\abu\\abupy\\MarketBu\\ABuMarketDrawing.py\", line 166, in plot_candle_form_klpd\n",
      "    fn, day_sum, html_bk, save)\n",
      "  File \"D:\\sean.chen\\trader\\abu\\abupy\\MarketBu\\ABuMarketDrawing.py\", line 188, in plot_candle_stick\n",
      "    _do_plot_candle(date, p_open, high, low, close, volume, view_index, symbol, day_sum, save, minute)\n",
      "  File \"D:\\sean.chen\\trader\\abu\\abupy\\MarketBu\\ABuMarketDrawing.py\", line 257, in _do_plot_candle\n",
      "    import matplotlib.date as mdf\n",
      "ModuleNotFoundError: No module named 'matplotlib.date'\n"
     ]
    },
    {
     "name": "stdout",
     "output_type": "stream",
     "text": [
      "tw_TWSE:2330\n"
     ]
    },
    {
     "name": "stderr",
     "output_type": "stream",
     "text": [
      "No module named 'matplotlib.date'\n",
      "Traceback (most recent call last):\n",
      "  File \"D:\\sean.chen\\trader\\abu\\abupy\\MarketBu\\ABuMarketDrawing.py\", line 252, in _do_plot_candle\n",
      "    import matplotlib.date as mdf\n",
      "ModuleNotFoundError: No module named 'matplotlib.date'\n",
      "\n",
      "During handling of the above exception, another exception occurred:\n",
      "\n",
      "Traceback (most recent call last):\n",
      "  File \"D:\\sean.chen\\trader\\abu\\abupy\\MarketBu\\ABuMarketDrawing.py\", line 92, in plot_from_series\n",
      "    view_index=view_index_inner, save=save)\n",
      "  File \"D:\\sean.chen\\trader\\abu\\abupy\\MarketBu\\ABuMarketDrawing.py\", line 133, in plot_candle_from_symbol\n",
      "    plot_candle_form_klpd(kl_pd, day_sum, html_bk, view_index, save=save)\n",
      "  File \"D:\\sean.chen\\trader\\abu\\abupy\\MarketBu\\ABuMarketDrawing.py\", line 166, in plot_candle_form_klpd\n",
      "    fn, day_sum, html_bk, save)\n",
      "  File \"D:\\sean.chen\\trader\\abu\\abupy\\MarketBu\\ABuMarketDrawing.py\", line 188, in plot_candle_stick\n",
      "    _do_plot_candle(date, p_open, high, low, close, volume, view_index, symbol, day_sum, save, minute)\n",
      "  File \"D:\\sean.chen\\trader\\abu\\abupy\\MarketBu\\ABuMarketDrawing.py\", line 257, in _do_plot_candle\n",
      "    import matplotlib.date as mdf\n",
      "ModuleNotFoundError: No module named 'matplotlib.date'\n"
     ]
    },
    {
     "name": "stdout",
     "output_type": "stream",
     "text": [
      "tw_TWSE:2330\n"
     ]
    },
    {
     "name": "stderr",
     "output_type": "stream",
     "text": [
      "No module named 'matplotlib.date'\n",
      "Traceback (most recent call last):\n",
      "  File \"D:\\sean.chen\\trader\\abu\\abupy\\MarketBu\\ABuMarketDrawing.py\", line 252, in _do_plot_candle\n",
      "    import matplotlib.date as mdf\n",
      "ModuleNotFoundError: No module named 'matplotlib.date'\n",
      "\n",
      "During handling of the above exception, another exception occurred:\n",
      "\n",
      "Traceback (most recent call last):\n",
      "  File \"D:\\sean.chen\\trader\\abu\\abupy\\MarketBu\\ABuMarketDrawing.py\", line 92, in plot_from_series\n",
      "    view_index=view_index_inner, save=save)\n",
      "  File \"D:\\sean.chen\\trader\\abu\\abupy\\MarketBu\\ABuMarketDrawing.py\", line 133, in plot_candle_from_symbol\n",
      "    plot_candle_form_klpd(kl_pd, day_sum, html_bk, view_index, save=save)\n",
      "  File \"D:\\sean.chen\\trader\\abu\\abupy\\MarketBu\\ABuMarketDrawing.py\", line 166, in plot_candle_form_klpd\n",
      "    fn, day_sum, html_bk, save)\n",
      "  File \"D:\\sean.chen\\trader\\abu\\abupy\\MarketBu\\ABuMarketDrawing.py\", line 188, in plot_candle_stick\n",
      "    _do_plot_candle(date, p_open, high, low, close, volume, view_index, symbol, day_sum, save, minute)\n",
      "  File \"D:\\sean.chen\\trader\\abu\\abupy\\MarketBu\\ABuMarketDrawing.py\", line 257, in _do_plot_candle\n",
      "    import matplotlib.date as mdf\n",
      "ModuleNotFoundError: No module named 'matplotlib.date'\n"
     ]
    },
    {
     "name": "stdout",
     "output_type": "stream",
     "text": [
      "tw_TWSE:2330\n"
     ]
    },
    {
     "name": "stderr",
     "output_type": "stream",
     "text": [
      "No module named 'matplotlib.date'\n",
      "Traceback (most recent call last):\n",
      "  File \"D:\\sean.chen\\trader\\abu\\abupy\\MarketBu\\ABuMarketDrawing.py\", line 252, in _do_plot_candle\n",
      "    import matplotlib.date as mdf\n",
      "ModuleNotFoundError: No module named 'matplotlib.date'\n",
      "\n",
      "During handling of the above exception, another exception occurred:\n",
      "\n",
      "Traceback (most recent call last):\n",
      "  File \"D:\\sean.chen\\trader\\abu\\abupy\\MarketBu\\ABuMarketDrawing.py\", line 92, in plot_from_series\n",
      "    view_index=view_index_inner, save=save)\n",
      "  File \"D:\\sean.chen\\trader\\abu\\abupy\\MarketBu\\ABuMarketDrawing.py\", line 133, in plot_candle_from_symbol\n",
      "    plot_candle_form_klpd(kl_pd, day_sum, html_bk, view_index, save=save)\n",
      "  File \"D:\\sean.chen\\trader\\abu\\abupy\\MarketBu\\ABuMarketDrawing.py\", line 166, in plot_candle_form_klpd\n",
      "    fn, day_sum, html_bk, save)\n",
      "  File \"D:\\sean.chen\\trader\\abu\\abupy\\MarketBu\\ABuMarketDrawing.py\", line 188, in plot_candle_stick\n",
      "    _do_plot_candle(date, p_open, high, low, close, volume, view_index, symbol, day_sum, save, minute)\n",
      "  File \"D:\\sean.chen\\trader\\abu\\abupy\\MarketBu\\ABuMarketDrawing.py\", line 257, in _do_plot_candle\n",
      "    import matplotlib.date as mdf\n",
      "ModuleNotFoundError: No module named 'matplotlib.date'\n"
     ]
    },
    {
     "name": "stdout",
     "output_type": "stream",
     "text": [
      "tw_TWSE:2330\n"
     ]
    },
    {
     "name": "stderr",
     "output_type": "stream",
     "text": [
      "No module named 'matplotlib.date'\n",
      "Traceback (most recent call last):\n",
      "  File \"D:\\sean.chen\\trader\\abu\\abupy\\MarketBu\\ABuMarketDrawing.py\", line 252, in _do_plot_candle\n",
      "    import matplotlib.date as mdf\n",
      "ModuleNotFoundError: No module named 'matplotlib.date'\n",
      "\n",
      "During handling of the above exception, another exception occurred:\n",
      "\n",
      "Traceback (most recent call last):\n",
      "  File \"D:\\sean.chen\\trader\\abu\\abupy\\MarketBu\\ABuMarketDrawing.py\", line 92, in plot_from_series\n",
      "    view_index=view_index_inner, save=save)\n",
      "  File \"D:\\sean.chen\\trader\\abu\\abupy\\MarketBu\\ABuMarketDrawing.py\", line 133, in plot_candle_from_symbol\n",
      "    plot_candle_form_klpd(kl_pd, day_sum, html_bk, view_index, save=save)\n",
      "  File \"D:\\sean.chen\\trader\\abu\\abupy\\MarketBu\\ABuMarketDrawing.py\", line 166, in plot_candle_form_klpd\n",
      "    fn, day_sum, html_bk, save)\n",
      "  File \"D:\\sean.chen\\trader\\abu\\abupy\\MarketBu\\ABuMarketDrawing.py\", line 188, in plot_candle_stick\n",
      "    _do_plot_candle(date, p_open, high, low, close, volume, view_index, symbol, day_sum, save, minute)\n",
      "  File \"D:\\sean.chen\\trader\\abu\\abupy\\MarketBu\\ABuMarketDrawing.py\", line 257, in _do_plot_candle\n",
      "    import matplotlib.date as mdf\n",
      "ModuleNotFoundError: No module named 'matplotlib.date'\n"
     ]
    },
    {
     "name": "stdout",
     "output_type": "stream",
     "text": [
      "tw_TWSE:2330\n"
     ]
    },
    {
     "name": "stderr",
     "output_type": "stream",
     "text": [
      "No module named 'matplotlib.date'\n",
      "Traceback (most recent call last):\n",
      "  File \"D:\\sean.chen\\trader\\abu\\abupy\\MarketBu\\ABuMarketDrawing.py\", line 252, in _do_plot_candle\n",
      "    import matplotlib.date as mdf\n",
      "ModuleNotFoundError: No module named 'matplotlib.date'\n",
      "\n",
      "During handling of the above exception, another exception occurred:\n",
      "\n",
      "Traceback (most recent call last):\n",
      "  File \"D:\\sean.chen\\trader\\abu\\abupy\\MarketBu\\ABuMarketDrawing.py\", line 92, in plot_from_series\n",
      "    view_index=view_index_inner, save=save)\n",
      "  File \"D:\\sean.chen\\trader\\abu\\abupy\\MarketBu\\ABuMarketDrawing.py\", line 133, in plot_candle_from_symbol\n",
      "    plot_candle_form_klpd(kl_pd, day_sum, html_bk, view_index, save=save)\n",
      "  File \"D:\\sean.chen\\trader\\abu\\abupy\\MarketBu\\ABuMarketDrawing.py\", line 166, in plot_candle_form_klpd\n",
      "    fn, day_sum, html_bk, save)\n",
      "  File \"D:\\sean.chen\\trader\\abu\\abupy\\MarketBu\\ABuMarketDrawing.py\", line 188, in plot_candle_stick\n",
      "    _do_plot_candle(date, p_open, high, low, close, volume, view_index, symbol, day_sum, save, minute)\n",
      "  File \"D:\\sean.chen\\trader\\abu\\abupy\\MarketBu\\ABuMarketDrawing.py\", line 257, in _do_plot_candle\n",
      "    import matplotlib.date as mdf\n",
      "ModuleNotFoundError: No module named 'matplotlib.date'\n"
     ]
    },
    {
     "name": "stdout",
     "output_type": "stream",
     "text": [
      "tw_TWSE:2330\n"
     ]
    },
    {
     "name": "stderr",
     "output_type": "stream",
     "text": [
      "No module named 'matplotlib.date'\n",
      "Traceback (most recent call last):\n",
      "  File \"D:\\sean.chen\\trader\\abu\\abupy\\MarketBu\\ABuMarketDrawing.py\", line 252, in _do_plot_candle\n",
      "    import matplotlib.date as mdf\n",
      "ModuleNotFoundError: No module named 'matplotlib.date'\n",
      "\n",
      "During handling of the above exception, another exception occurred:\n",
      "\n",
      "Traceback (most recent call last):\n",
      "  File \"D:\\sean.chen\\trader\\abu\\abupy\\MarketBu\\ABuMarketDrawing.py\", line 92, in plot_from_series\n",
      "    view_index=view_index_inner, save=save)\n",
      "  File \"D:\\sean.chen\\trader\\abu\\abupy\\MarketBu\\ABuMarketDrawing.py\", line 133, in plot_candle_from_symbol\n",
      "    plot_candle_form_klpd(kl_pd, day_sum, html_bk, view_index, save=save)\n",
      "  File \"D:\\sean.chen\\trader\\abu\\abupy\\MarketBu\\ABuMarketDrawing.py\", line 166, in plot_candle_form_klpd\n",
      "    fn, day_sum, html_bk, save)\n",
      "  File \"D:\\sean.chen\\trader\\abu\\abupy\\MarketBu\\ABuMarketDrawing.py\", line 188, in plot_candle_stick\n",
      "    _do_plot_candle(date, p_open, high, low, close, volume, view_index, symbol, day_sum, save, minute)\n",
      "  File \"D:\\sean.chen\\trader\\abu\\abupy\\MarketBu\\ABuMarketDrawing.py\", line 257, in _do_plot_candle\n",
      "    import matplotlib.date as mdf\n",
      "ModuleNotFoundError: No module named 'matplotlib.date'\n"
     ]
    },
    {
     "name": "stdout",
     "output_type": "stream",
     "text": [
      "tw_TWSE:2330\n"
     ]
    },
    {
     "name": "stderr",
     "output_type": "stream",
     "text": [
      "No module named 'matplotlib.date'\n",
      "Traceback (most recent call last):\n",
      "  File \"D:\\sean.chen\\trader\\abu\\abupy\\MarketBu\\ABuMarketDrawing.py\", line 252, in _do_plot_candle\n",
      "    import matplotlib.date as mdf\n",
      "ModuleNotFoundError: No module named 'matplotlib.date'\n",
      "\n",
      "During handling of the above exception, another exception occurred:\n",
      "\n",
      "Traceback (most recent call last):\n",
      "  File \"D:\\sean.chen\\trader\\abu\\abupy\\MarketBu\\ABuMarketDrawing.py\", line 92, in plot_from_series\n",
      "    view_index=view_index_inner, save=save)\n",
      "  File \"D:\\sean.chen\\trader\\abu\\abupy\\MarketBu\\ABuMarketDrawing.py\", line 133, in plot_candle_from_symbol\n",
      "    plot_candle_form_klpd(kl_pd, day_sum, html_bk, view_index, save=save)\n",
      "  File \"D:\\sean.chen\\trader\\abu\\abupy\\MarketBu\\ABuMarketDrawing.py\", line 166, in plot_candle_form_klpd\n",
      "    fn, day_sum, html_bk, save)\n",
      "  File \"D:\\sean.chen\\trader\\abu\\abupy\\MarketBu\\ABuMarketDrawing.py\", line 188, in plot_candle_stick\n",
      "    _do_plot_candle(date, p_open, high, low, close, volume, view_index, symbol, day_sum, save, minute)\n",
      "  File \"D:\\sean.chen\\trader\\abu\\abupy\\MarketBu\\ABuMarketDrawing.py\", line 257, in _do_plot_candle\n",
      "    import matplotlib.date as mdf\n",
      "ModuleNotFoundError: No module named 'matplotlib.date'\n"
     ]
    },
    {
     "name": "stdout",
     "output_type": "stream",
     "text": [
      "tw_TWSE:2330\n"
     ]
    },
    {
     "name": "stderr",
     "output_type": "stream",
     "text": [
      "No module named 'matplotlib.date'\n",
      "Traceback (most recent call last):\n",
      "  File \"D:\\sean.chen\\trader\\abu\\abupy\\MarketBu\\ABuMarketDrawing.py\", line 252, in _do_plot_candle\n",
      "    import matplotlib.date as mdf\n",
      "ModuleNotFoundError: No module named 'matplotlib.date'\n",
      "\n",
      "During handling of the above exception, another exception occurred:\n",
      "\n",
      "Traceback (most recent call last):\n",
      "  File \"D:\\sean.chen\\trader\\abu\\abupy\\MarketBu\\ABuMarketDrawing.py\", line 92, in plot_from_series\n",
      "    view_index=view_index_inner, save=save)\n",
      "  File \"D:\\sean.chen\\trader\\abu\\abupy\\MarketBu\\ABuMarketDrawing.py\", line 133, in plot_candle_from_symbol\n",
      "    plot_candle_form_klpd(kl_pd, day_sum, html_bk, view_index, save=save)\n",
      "  File \"D:\\sean.chen\\trader\\abu\\abupy\\MarketBu\\ABuMarketDrawing.py\", line 166, in plot_candle_form_klpd\n",
      "    fn, day_sum, html_bk, save)\n",
      "  File \"D:\\sean.chen\\trader\\abu\\abupy\\MarketBu\\ABuMarketDrawing.py\", line 188, in plot_candle_stick\n",
      "    _do_plot_candle(date, p_open, high, low, close, volume, view_index, symbol, day_sum, save, minute)\n",
      "  File \"D:\\sean.chen\\trader\\abu\\abupy\\MarketBu\\ABuMarketDrawing.py\", line 257, in _do_plot_candle\n",
      "    import matplotlib.date as mdf\n",
      "ModuleNotFoundError: No module named 'matplotlib.date'\n"
     ]
    },
    {
     "name": "stdout",
     "output_type": "stream",
     "text": [
      "tw_TWSE:2330\n"
     ]
    },
    {
     "name": "stderr",
     "output_type": "stream",
     "text": [
      "No module named 'matplotlib.date'\n",
      "Traceback (most recent call last):\n",
      "  File \"D:\\sean.chen\\trader\\abu\\abupy\\MarketBu\\ABuMarketDrawing.py\", line 252, in _do_plot_candle\n",
      "    import matplotlib.date as mdf\n",
      "ModuleNotFoundError: No module named 'matplotlib.date'\n",
      "\n",
      "During handling of the above exception, another exception occurred:\n",
      "\n",
      "Traceback (most recent call last):\n",
      "  File \"D:\\sean.chen\\trader\\abu\\abupy\\MarketBu\\ABuMarketDrawing.py\", line 92, in plot_from_series\n",
      "    view_index=view_index_inner, save=save)\n",
      "  File \"D:\\sean.chen\\trader\\abu\\abupy\\MarketBu\\ABuMarketDrawing.py\", line 133, in plot_candle_from_symbol\n",
      "    plot_candle_form_klpd(kl_pd, day_sum, html_bk, view_index, save=save)\n",
      "  File \"D:\\sean.chen\\trader\\abu\\abupy\\MarketBu\\ABuMarketDrawing.py\", line 166, in plot_candle_form_klpd\n",
      "    fn, day_sum, html_bk, save)\n",
      "  File \"D:\\sean.chen\\trader\\abu\\abupy\\MarketBu\\ABuMarketDrawing.py\", line 188, in plot_candle_stick\n",
      "    _do_plot_candle(date, p_open, high, low, close, volume, view_index, symbol, day_sum, save, minute)\n",
      "  File \"D:\\sean.chen\\trader\\abu\\abupy\\MarketBu\\ABuMarketDrawing.py\", line 257, in _do_plot_candle\n",
      "    import matplotlib.date as mdf\n",
      "ModuleNotFoundError: No module named 'matplotlib.date'\n"
     ]
    },
    {
     "name": "stdout",
     "output_type": "stream",
     "text": [
      "tw_TWSE:2330\n"
     ]
    },
    {
     "name": "stderr",
     "output_type": "stream",
     "text": [
      "No module named 'matplotlib.date'\n",
      "Traceback (most recent call last):\n",
      "  File \"D:\\sean.chen\\trader\\abu\\abupy\\MarketBu\\ABuMarketDrawing.py\", line 252, in _do_plot_candle\n",
      "    import matplotlib.date as mdf\n",
      "ModuleNotFoundError: No module named 'matplotlib.date'\n",
      "\n",
      "During handling of the above exception, another exception occurred:\n",
      "\n",
      "Traceback (most recent call last):\n",
      "  File \"D:\\sean.chen\\trader\\abu\\abupy\\MarketBu\\ABuMarketDrawing.py\", line 92, in plot_from_series\n",
      "    view_index=view_index_inner, save=save)\n",
      "  File \"D:\\sean.chen\\trader\\abu\\abupy\\MarketBu\\ABuMarketDrawing.py\", line 133, in plot_candle_from_symbol\n",
      "    plot_candle_form_klpd(kl_pd, day_sum, html_bk, view_index, save=save)\n",
      "  File \"D:\\sean.chen\\trader\\abu\\abupy\\MarketBu\\ABuMarketDrawing.py\", line 166, in plot_candle_form_klpd\n",
      "    fn, day_sum, html_bk, save)\n",
      "  File \"D:\\sean.chen\\trader\\abu\\abupy\\MarketBu\\ABuMarketDrawing.py\", line 188, in plot_candle_stick\n",
      "    _do_plot_candle(date, p_open, high, low, close, volume, view_index, symbol, day_sum, save, minute)\n",
      "  File \"D:\\sean.chen\\trader\\abu\\abupy\\MarketBu\\ABuMarketDrawing.py\", line 257, in _do_plot_candle\n",
      "    import matplotlib.date as mdf\n",
      "ModuleNotFoundError: No module named 'matplotlib.date'\n"
     ]
    },
    {
     "name": "stdout",
     "output_type": "stream",
     "text": [
      "tw_TWSE:2330\n"
     ]
    },
    {
     "name": "stderr",
     "output_type": "stream",
     "text": [
      "No module named 'matplotlib.date'\n",
      "Traceback (most recent call last):\n",
      "  File \"D:\\sean.chen\\trader\\abu\\abupy\\MarketBu\\ABuMarketDrawing.py\", line 252, in _do_plot_candle\n",
      "    import matplotlib.date as mdf\n",
      "ModuleNotFoundError: No module named 'matplotlib.date'\n",
      "\n",
      "During handling of the above exception, another exception occurred:\n",
      "\n",
      "Traceback (most recent call last):\n",
      "  File \"D:\\sean.chen\\trader\\abu\\abupy\\MarketBu\\ABuMarketDrawing.py\", line 92, in plot_from_series\n",
      "    view_index=view_index_inner, save=save)\n",
      "  File \"D:\\sean.chen\\trader\\abu\\abupy\\MarketBu\\ABuMarketDrawing.py\", line 133, in plot_candle_from_symbol\n",
      "    plot_candle_form_klpd(kl_pd, day_sum, html_bk, view_index, save=save)\n",
      "  File \"D:\\sean.chen\\trader\\abu\\abupy\\MarketBu\\ABuMarketDrawing.py\", line 166, in plot_candle_form_klpd\n",
      "    fn, day_sum, html_bk, save)\n",
      "  File \"D:\\sean.chen\\trader\\abu\\abupy\\MarketBu\\ABuMarketDrawing.py\", line 188, in plot_candle_stick\n",
      "    _do_plot_candle(date, p_open, high, low, close, volume, view_index, symbol, day_sum, save, minute)\n",
      "  File \"D:\\sean.chen\\trader\\abu\\abupy\\MarketBu\\ABuMarketDrawing.py\", line 257, in _do_plot_candle\n",
      "    import matplotlib.date as mdf\n",
      "ModuleNotFoundError: No module named 'matplotlib.date'\n"
     ]
    },
    {
     "name": "stdout",
     "output_type": "stream",
     "text": [
      "tw_TWSE:2330\n"
     ]
    },
    {
     "name": "stderr",
     "output_type": "stream",
     "text": [
      "No module named 'matplotlib.date'\n",
      "Traceback (most recent call last):\n",
      "  File \"D:\\sean.chen\\trader\\abu\\abupy\\MarketBu\\ABuMarketDrawing.py\", line 252, in _do_plot_candle\n",
      "    import matplotlib.date as mdf\n",
      "ModuleNotFoundError: No module named 'matplotlib.date'\n",
      "\n",
      "During handling of the above exception, another exception occurred:\n",
      "\n",
      "Traceback (most recent call last):\n",
      "  File \"D:\\sean.chen\\trader\\abu\\abupy\\MarketBu\\ABuMarketDrawing.py\", line 92, in plot_from_series\n",
      "    view_index=view_index_inner, save=save)\n",
      "  File \"D:\\sean.chen\\trader\\abu\\abupy\\MarketBu\\ABuMarketDrawing.py\", line 133, in plot_candle_from_symbol\n",
      "    plot_candle_form_klpd(kl_pd, day_sum, html_bk, view_index, save=save)\n",
      "  File \"D:\\sean.chen\\trader\\abu\\abupy\\MarketBu\\ABuMarketDrawing.py\", line 166, in plot_candle_form_klpd\n",
      "    fn, day_sum, html_bk, save)\n",
      "  File \"D:\\sean.chen\\trader\\abu\\abupy\\MarketBu\\ABuMarketDrawing.py\", line 188, in plot_candle_stick\n",
      "    _do_plot_candle(date, p_open, high, low, close, volume, view_index, symbol, day_sum, save, minute)\n",
      "  File \"D:\\sean.chen\\trader\\abu\\abupy\\MarketBu\\ABuMarketDrawing.py\", line 257, in _do_plot_candle\n",
      "    import matplotlib.date as mdf\n",
      "ModuleNotFoundError: No module named 'matplotlib.date'\n"
     ]
    },
    {
     "name": "stdout",
     "output_type": "stream",
     "text": [
      "tw_TWSE:2330\n"
     ]
    },
    {
     "name": "stderr",
     "output_type": "stream",
     "text": [
      "No module named 'matplotlib.date'\n",
      "Traceback (most recent call last):\n",
      "  File \"D:\\sean.chen\\trader\\abu\\abupy\\MarketBu\\ABuMarketDrawing.py\", line 252, in _do_plot_candle\n",
      "    import matplotlib.date as mdf\n",
      "ModuleNotFoundError: No module named 'matplotlib.date'\n",
      "\n",
      "During handling of the above exception, another exception occurred:\n",
      "\n",
      "Traceback (most recent call last):\n",
      "  File \"D:\\sean.chen\\trader\\abu\\abupy\\MarketBu\\ABuMarketDrawing.py\", line 92, in plot_from_series\n",
      "    view_index=view_index_inner, save=save)\n",
      "  File \"D:\\sean.chen\\trader\\abu\\abupy\\MarketBu\\ABuMarketDrawing.py\", line 133, in plot_candle_from_symbol\n",
      "    plot_candle_form_klpd(kl_pd, day_sum, html_bk, view_index, save=save)\n",
      "  File \"D:\\sean.chen\\trader\\abu\\abupy\\MarketBu\\ABuMarketDrawing.py\", line 166, in plot_candle_form_klpd\n",
      "    fn, day_sum, html_bk, save)\n",
      "  File \"D:\\sean.chen\\trader\\abu\\abupy\\MarketBu\\ABuMarketDrawing.py\", line 188, in plot_candle_stick\n",
      "    _do_plot_candle(date, p_open, high, low, close, volume, view_index, symbol, day_sum, save, minute)\n",
      "  File \"D:\\sean.chen\\trader\\abu\\abupy\\MarketBu\\ABuMarketDrawing.py\", line 257, in _do_plot_candle\n",
      "    import matplotlib.date as mdf\n",
      "ModuleNotFoundError: No module named 'matplotlib.date'\n"
     ]
    },
    {
     "name": "stdout",
     "output_type": "stream",
     "text": [
      "tw_TWSE:2330\n"
     ]
    },
    {
     "name": "stderr",
     "output_type": "stream",
     "text": [
      "No module named 'matplotlib.date'\n",
      "Traceback (most recent call last):\n",
      "  File \"D:\\sean.chen\\trader\\abu\\abupy\\MarketBu\\ABuMarketDrawing.py\", line 252, in _do_plot_candle\n",
      "    import matplotlib.date as mdf\n",
      "ModuleNotFoundError: No module named 'matplotlib.date'\n",
      "\n",
      "During handling of the above exception, another exception occurred:\n",
      "\n",
      "Traceback (most recent call last):\n",
      "  File \"D:\\sean.chen\\trader\\abu\\abupy\\MarketBu\\ABuMarketDrawing.py\", line 92, in plot_from_series\n",
      "    view_index=view_index_inner, save=save)\n",
      "  File \"D:\\sean.chen\\trader\\abu\\abupy\\MarketBu\\ABuMarketDrawing.py\", line 133, in plot_candle_from_symbol\n",
      "    plot_candle_form_klpd(kl_pd, day_sum, html_bk, view_index, save=save)\n",
      "  File \"D:\\sean.chen\\trader\\abu\\abupy\\MarketBu\\ABuMarketDrawing.py\", line 166, in plot_candle_form_klpd\n",
      "    fn, day_sum, html_bk, save)\n",
      "  File \"D:\\sean.chen\\trader\\abu\\abupy\\MarketBu\\ABuMarketDrawing.py\", line 188, in plot_candle_stick\n",
      "    _do_plot_candle(date, p_open, high, low, close, volume, view_index, symbol, day_sum, save, minute)\n",
      "  File \"D:\\sean.chen\\trader\\abu\\abupy\\MarketBu\\ABuMarketDrawing.py\", line 257, in _do_plot_candle\n",
      "    import matplotlib.date as mdf\n",
      "ModuleNotFoundError: No module named 'matplotlib.date'\n"
     ]
    },
    {
     "name": "stdout",
     "output_type": "stream",
     "text": [
      "tw_TWSE:2330\n"
     ]
    },
    {
     "name": "stderr",
     "output_type": "stream",
     "text": [
      "No module named 'matplotlib.date'\n",
      "Traceback (most recent call last):\n",
      "  File \"D:\\sean.chen\\trader\\abu\\abupy\\MarketBu\\ABuMarketDrawing.py\", line 252, in _do_plot_candle\n",
      "    import matplotlib.date as mdf\n",
      "ModuleNotFoundError: No module named 'matplotlib.date'\n",
      "\n",
      "During handling of the above exception, another exception occurred:\n",
      "\n",
      "Traceback (most recent call last):\n",
      "  File \"D:\\sean.chen\\trader\\abu\\abupy\\MarketBu\\ABuMarketDrawing.py\", line 92, in plot_from_series\n",
      "    view_index=view_index_inner, save=save)\n",
      "  File \"D:\\sean.chen\\trader\\abu\\abupy\\MarketBu\\ABuMarketDrawing.py\", line 133, in plot_candle_from_symbol\n",
      "    plot_candle_form_klpd(kl_pd, day_sum, html_bk, view_index, save=save)\n",
      "  File \"D:\\sean.chen\\trader\\abu\\abupy\\MarketBu\\ABuMarketDrawing.py\", line 166, in plot_candle_form_klpd\n",
      "    fn, day_sum, html_bk, save)\n",
      "  File \"D:\\sean.chen\\trader\\abu\\abupy\\MarketBu\\ABuMarketDrawing.py\", line 188, in plot_candle_stick\n",
      "    _do_plot_candle(date, p_open, high, low, close, volume, view_index, symbol, day_sum, save, minute)\n",
      "  File \"D:\\sean.chen\\trader\\abu\\abupy\\MarketBu\\ABuMarketDrawing.py\", line 257, in _do_plot_candle\n",
      "    import matplotlib.date as mdf\n",
      "ModuleNotFoundError: No module named 'matplotlib.date'\n"
     ]
    },
    {
     "name": "stdout",
     "output_type": "stream",
     "text": [
      "tw_TWSE:2330\n"
     ]
    },
    {
     "name": "stderr",
     "output_type": "stream",
     "text": [
      "No module named 'matplotlib.date'\n",
      "Traceback (most recent call last):\n",
      "  File \"D:\\sean.chen\\trader\\abu\\abupy\\MarketBu\\ABuMarketDrawing.py\", line 252, in _do_plot_candle\n",
      "    import matplotlib.date as mdf\n",
      "ModuleNotFoundError: No module named 'matplotlib.date'\n",
      "\n",
      "During handling of the above exception, another exception occurred:\n",
      "\n",
      "Traceback (most recent call last):\n",
      "  File \"D:\\sean.chen\\trader\\abu\\abupy\\MarketBu\\ABuMarketDrawing.py\", line 92, in plot_from_series\n",
      "    view_index=view_index_inner, save=save)\n",
      "  File \"D:\\sean.chen\\trader\\abu\\abupy\\MarketBu\\ABuMarketDrawing.py\", line 133, in plot_candle_from_symbol\n",
      "    plot_candle_form_klpd(kl_pd, day_sum, html_bk, view_index, save=save)\n",
      "  File \"D:\\sean.chen\\trader\\abu\\abupy\\MarketBu\\ABuMarketDrawing.py\", line 166, in plot_candle_form_klpd\n",
      "    fn, day_sum, html_bk, save)\n",
      "  File \"D:\\sean.chen\\trader\\abu\\abupy\\MarketBu\\ABuMarketDrawing.py\", line 188, in plot_candle_stick\n",
      "    _do_plot_candle(date, p_open, high, low, close, volume, view_index, symbol, day_sum, save, minute)\n",
      "  File \"D:\\sean.chen\\trader\\abu\\abupy\\MarketBu\\ABuMarketDrawing.py\", line 257, in _do_plot_candle\n",
      "    import matplotlib.date as mdf\n",
      "ModuleNotFoundError: No module named 'matplotlib.date'\n"
     ]
    },
    {
     "name": "stdout",
     "output_type": "stream",
     "text": [
      "tw_TWSE:2330\n"
     ]
    },
    {
     "name": "stderr",
     "output_type": "stream",
     "text": [
      "No module named 'matplotlib.date'\n",
      "Traceback (most recent call last):\n",
      "  File \"D:\\sean.chen\\trader\\abu\\abupy\\MarketBu\\ABuMarketDrawing.py\", line 252, in _do_plot_candle\n",
      "    import matplotlib.date as mdf\n",
      "ModuleNotFoundError: No module named 'matplotlib.date'\n",
      "\n",
      "During handling of the above exception, another exception occurred:\n",
      "\n",
      "Traceback (most recent call last):\n",
      "  File \"D:\\sean.chen\\trader\\abu\\abupy\\MarketBu\\ABuMarketDrawing.py\", line 92, in plot_from_series\n",
      "    view_index=view_index_inner, save=save)\n",
      "  File \"D:\\sean.chen\\trader\\abu\\abupy\\MarketBu\\ABuMarketDrawing.py\", line 133, in plot_candle_from_symbol\n",
      "    plot_candle_form_klpd(kl_pd, day_sum, html_bk, view_index, save=save)\n",
      "  File \"D:\\sean.chen\\trader\\abu\\abupy\\MarketBu\\ABuMarketDrawing.py\", line 166, in plot_candle_form_klpd\n",
      "    fn, day_sum, html_bk, save)\n",
      "  File \"D:\\sean.chen\\trader\\abu\\abupy\\MarketBu\\ABuMarketDrawing.py\", line 188, in plot_candle_stick\n",
      "    _do_plot_candle(date, p_open, high, low, close, volume, view_index, symbol, day_sum, save, minute)\n",
      "  File \"D:\\sean.chen\\trader\\abu\\abupy\\MarketBu\\ABuMarketDrawing.py\", line 257, in _do_plot_candle\n",
      "    import matplotlib.date as mdf\n",
      "ModuleNotFoundError: No module named 'matplotlib.date'\n"
     ]
    },
    {
     "name": "stdout",
     "output_type": "stream",
     "text": [
      "tw_TWSE:2330\n"
     ]
    },
    {
     "name": "stderr",
     "output_type": "stream",
     "text": [
      "No module named 'matplotlib.date'\n",
      "Traceback (most recent call last):\n",
      "  File \"D:\\sean.chen\\trader\\abu\\abupy\\MarketBu\\ABuMarketDrawing.py\", line 252, in _do_plot_candle\n",
      "    import matplotlib.date as mdf\n",
      "ModuleNotFoundError: No module named 'matplotlib.date'\n",
      "\n",
      "During handling of the above exception, another exception occurred:\n",
      "\n",
      "Traceback (most recent call last):\n",
      "  File \"D:\\sean.chen\\trader\\abu\\abupy\\MarketBu\\ABuMarketDrawing.py\", line 92, in plot_from_series\n",
      "    view_index=view_index_inner, save=save)\n",
      "  File \"D:\\sean.chen\\trader\\abu\\abupy\\MarketBu\\ABuMarketDrawing.py\", line 133, in plot_candle_from_symbol\n",
      "    plot_candle_form_klpd(kl_pd, day_sum, html_bk, view_index, save=save)\n",
      "  File \"D:\\sean.chen\\trader\\abu\\abupy\\MarketBu\\ABuMarketDrawing.py\", line 166, in plot_candle_form_klpd\n",
      "    fn, day_sum, html_bk, save)\n",
      "  File \"D:\\sean.chen\\trader\\abu\\abupy\\MarketBu\\ABuMarketDrawing.py\", line 188, in plot_candle_stick\n",
      "    _do_plot_candle(date, p_open, high, low, close, volume, view_index, symbol, day_sum, save, minute)\n",
      "  File \"D:\\sean.chen\\trader\\abu\\abupy\\MarketBu\\ABuMarketDrawing.py\", line 257, in _do_plot_candle\n",
      "    import matplotlib.date as mdf\n",
      "ModuleNotFoundError: No module named 'matplotlib.date'\n"
     ]
    },
    {
     "name": "stdout",
     "output_type": "stream",
     "text": [
      "tw_TWSE:2330\n"
     ]
    },
    {
     "name": "stderr",
     "output_type": "stream",
     "text": [
      "No module named 'matplotlib.date'\n",
      "Traceback (most recent call last):\n",
      "  File \"D:\\sean.chen\\trader\\abu\\abupy\\MarketBu\\ABuMarketDrawing.py\", line 252, in _do_plot_candle\n",
      "    import matplotlib.date as mdf\n",
      "ModuleNotFoundError: No module named 'matplotlib.date'\n",
      "\n",
      "During handling of the above exception, another exception occurred:\n",
      "\n",
      "Traceback (most recent call last):\n",
      "  File \"D:\\sean.chen\\trader\\abu\\abupy\\MarketBu\\ABuMarketDrawing.py\", line 92, in plot_from_series\n",
      "    view_index=view_index_inner, save=save)\n",
      "  File \"D:\\sean.chen\\trader\\abu\\abupy\\MarketBu\\ABuMarketDrawing.py\", line 133, in plot_candle_from_symbol\n",
      "    plot_candle_form_klpd(kl_pd, day_sum, html_bk, view_index, save=save)\n",
      "  File \"D:\\sean.chen\\trader\\abu\\abupy\\MarketBu\\ABuMarketDrawing.py\", line 166, in plot_candle_form_klpd\n",
      "    fn, day_sum, html_bk, save)\n",
      "  File \"D:\\sean.chen\\trader\\abu\\abupy\\MarketBu\\ABuMarketDrawing.py\", line 188, in plot_candle_stick\n",
      "    _do_plot_candle(date, p_open, high, low, close, volume, view_index, symbol, day_sum, save, minute)\n",
      "  File \"D:\\sean.chen\\trader\\abu\\abupy\\MarketBu\\ABuMarketDrawing.py\", line 257, in _do_plot_candle\n",
      "    import matplotlib.date as mdf\n",
      "ModuleNotFoundError: No module named 'matplotlib.date'\n"
     ]
    },
    {
     "name": "stdout",
     "output_type": "stream",
     "text": [
      "tw_TWSE:2330\n"
     ]
    },
    {
     "name": "stderr",
     "output_type": "stream",
     "text": [
      "No module named 'matplotlib.date'\n",
      "Traceback (most recent call last):\n",
      "  File \"D:\\sean.chen\\trader\\abu\\abupy\\MarketBu\\ABuMarketDrawing.py\", line 252, in _do_plot_candle\n",
      "    import matplotlib.date as mdf\n",
      "ModuleNotFoundError: No module named 'matplotlib.date'\n",
      "\n",
      "During handling of the above exception, another exception occurred:\n",
      "\n",
      "Traceback (most recent call last):\n",
      "  File \"D:\\sean.chen\\trader\\abu\\abupy\\MarketBu\\ABuMarketDrawing.py\", line 92, in plot_from_series\n",
      "    view_index=view_index_inner, save=save)\n",
      "  File \"D:\\sean.chen\\trader\\abu\\abupy\\MarketBu\\ABuMarketDrawing.py\", line 133, in plot_candle_from_symbol\n",
      "    plot_candle_form_klpd(kl_pd, day_sum, html_bk, view_index, save=save)\n",
      "  File \"D:\\sean.chen\\trader\\abu\\abupy\\MarketBu\\ABuMarketDrawing.py\", line 166, in plot_candle_form_klpd\n",
      "    fn, day_sum, html_bk, save)\n",
      "  File \"D:\\sean.chen\\trader\\abu\\abupy\\MarketBu\\ABuMarketDrawing.py\", line 188, in plot_candle_stick\n",
      "    _do_plot_candle(date, p_open, high, low, close, volume, view_index, symbol, day_sum, save, minute)\n",
      "  File \"D:\\sean.chen\\trader\\abu\\abupy\\MarketBu\\ABuMarketDrawing.py\", line 257, in _do_plot_candle\n",
      "    import matplotlib.date as mdf\n",
      "ModuleNotFoundError: No module named 'matplotlib.date'\n"
     ]
    },
    {
     "name": "stdout",
     "output_type": "stream",
     "text": [
      "tw_TWSE:2330\n"
     ]
    },
    {
     "name": "stderr",
     "output_type": "stream",
     "text": [
      "No module named 'matplotlib.date'\n",
      "Traceback (most recent call last):\n",
      "  File \"D:\\sean.chen\\trader\\abu\\abupy\\MarketBu\\ABuMarketDrawing.py\", line 252, in _do_plot_candle\n",
      "    import matplotlib.date as mdf\n",
      "ModuleNotFoundError: No module named 'matplotlib.date'\n",
      "\n",
      "During handling of the above exception, another exception occurred:\n",
      "\n",
      "Traceback (most recent call last):\n",
      "  File \"D:\\sean.chen\\trader\\abu\\abupy\\MarketBu\\ABuMarketDrawing.py\", line 92, in plot_from_series\n",
      "    view_index=view_index_inner, save=save)\n",
      "  File \"D:\\sean.chen\\trader\\abu\\abupy\\MarketBu\\ABuMarketDrawing.py\", line 133, in plot_candle_from_symbol\n",
      "    plot_candle_form_klpd(kl_pd, day_sum, html_bk, view_index, save=save)\n",
      "  File \"D:\\sean.chen\\trader\\abu\\abupy\\MarketBu\\ABuMarketDrawing.py\", line 166, in plot_candle_form_klpd\n",
      "    fn, day_sum, html_bk, save)\n",
      "  File \"D:\\sean.chen\\trader\\abu\\abupy\\MarketBu\\ABuMarketDrawing.py\", line 188, in plot_candle_stick\n",
      "    _do_plot_candle(date, p_open, high, low, close, volume, view_index, symbol, day_sum, save, minute)\n",
      "  File \"D:\\sean.chen\\trader\\abu\\abupy\\MarketBu\\ABuMarketDrawing.py\", line 257, in _do_plot_candle\n",
      "    import matplotlib.date as mdf\n",
      "ModuleNotFoundError: No module named 'matplotlib.date'\n"
     ]
    },
    {
     "name": "stdout",
     "output_type": "stream",
     "text": [
      "tw_TWSE:2330\n"
     ]
    },
    {
     "name": "stderr",
     "output_type": "stream",
     "text": [
      "No module named 'matplotlib.date'\n",
      "Traceback (most recent call last):\n",
      "  File \"D:\\sean.chen\\trader\\abu\\abupy\\MarketBu\\ABuMarketDrawing.py\", line 252, in _do_plot_candle\n",
      "    import matplotlib.date as mdf\n",
      "ModuleNotFoundError: No module named 'matplotlib.date'\n",
      "\n",
      "During handling of the above exception, another exception occurred:\n",
      "\n",
      "Traceback (most recent call last):\n",
      "  File \"D:\\sean.chen\\trader\\abu\\abupy\\MarketBu\\ABuMarketDrawing.py\", line 92, in plot_from_series\n",
      "    view_index=view_index_inner, save=save)\n",
      "  File \"D:\\sean.chen\\trader\\abu\\abupy\\MarketBu\\ABuMarketDrawing.py\", line 133, in plot_candle_from_symbol\n",
      "    plot_candle_form_klpd(kl_pd, day_sum, html_bk, view_index, save=save)\n",
      "  File \"D:\\sean.chen\\trader\\abu\\abupy\\MarketBu\\ABuMarketDrawing.py\", line 166, in plot_candle_form_klpd\n",
      "    fn, day_sum, html_bk, save)\n",
      "  File \"D:\\sean.chen\\trader\\abu\\abupy\\MarketBu\\ABuMarketDrawing.py\", line 188, in plot_candle_stick\n",
      "    _do_plot_candle(date, p_open, high, low, close, volume, view_index, symbol, day_sum, save, minute)\n",
      "  File \"D:\\sean.chen\\trader\\abu\\abupy\\MarketBu\\ABuMarketDrawing.py\", line 257, in _do_plot_candle\n",
      "    import matplotlib.date as mdf\n",
      "ModuleNotFoundError: No module named 'matplotlib.date'\n"
     ]
    },
    {
     "name": "stdout",
     "output_type": "stream",
     "text": [
      "tw_TWSE:2330\n"
     ]
    },
    {
     "name": "stderr",
     "output_type": "stream",
     "text": [
      "No module named 'matplotlib.date'\n",
      "Traceback (most recent call last):\n",
      "  File \"D:\\sean.chen\\trader\\abu\\abupy\\MarketBu\\ABuMarketDrawing.py\", line 252, in _do_plot_candle\n",
      "    import matplotlib.date as mdf\n",
      "ModuleNotFoundError: No module named 'matplotlib.date'\n",
      "\n",
      "During handling of the above exception, another exception occurred:\n",
      "\n",
      "Traceback (most recent call last):\n",
      "  File \"D:\\sean.chen\\trader\\abu\\abupy\\MarketBu\\ABuMarketDrawing.py\", line 92, in plot_from_series\n",
      "    view_index=view_index_inner, save=save)\n",
      "  File \"D:\\sean.chen\\trader\\abu\\abupy\\MarketBu\\ABuMarketDrawing.py\", line 133, in plot_candle_from_symbol\n",
      "    plot_candle_form_klpd(kl_pd, day_sum, html_bk, view_index, save=save)\n",
      "  File \"D:\\sean.chen\\trader\\abu\\abupy\\MarketBu\\ABuMarketDrawing.py\", line 166, in plot_candle_form_klpd\n",
      "    fn, day_sum, html_bk, save)\n",
      "  File \"D:\\sean.chen\\trader\\abu\\abupy\\MarketBu\\ABuMarketDrawing.py\", line 188, in plot_candle_stick\n",
      "    _do_plot_candle(date, p_open, high, low, close, volume, view_index, symbol, day_sum, save, minute)\n",
      "  File \"D:\\sean.chen\\trader\\abu\\abupy\\MarketBu\\ABuMarketDrawing.py\", line 257, in _do_plot_candle\n",
      "    import matplotlib.date as mdf\n",
      "ModuleNotFoundError: No module named 'matplotlib.date'\n"
     ]
    },
    {
     "name": "stdout",
     "output_type": "stream",
     "text": [
      "tw_TWSE:2330\n"
     ]
    },
    {
     "name": "stderr",
     "output_type": "stream",
     "text": [
      "No module named 'matplotlib.date'\n",
      "Traceback (most recent call last):\n",
      "  File \"D:\\sean.chen\\trader\\abu\\abupy\\MarketBu\\ABuMarketDrawing.py\", line 252, in _do_plot_candle\n",
      "    import matplotlib.date as mdf\n",
      "ModuleNotFoundError: No module named 'matplotlib.date'\n",
      "\n",
      "During handling of the above exception, another exception occurred:\n",
      "\n",
      "Traceback (most recent call last):\n",
      "  File \"D:\\sean.chen\\trader\\abu\\abupy\\MarketBu\\ABuMarketDrawing.py\", line 92, in plot_from_series\n",
      "    view_index=view_index_inner, save=save)\n",
      "  File \"D:\\sean.chen\\trader\\abu\\abupy\\MarketBu\\ABuMarketDrawing.py\", line 133, in plot_candle_from_symbol\n",
      "    plot_candle_form_klpd(kl_pd, day_sum, html_bk, view_index, save=save)\n",
      "  File \"D:\\sean.chen\\trader\\abu\\abupy\\MarketBu\\ABuMarketDrawing.py\", line 166, in plot_candle_form_klpd\n",
      "    fn, day_sum, html_bk, save)\n",
      "  File \"D:\\sean.chen\\trader\\abu\\abupy\\MarketBu\\ABuMarketDrawing.py\", line 188, in plot_candle_stick\n",
      "    _do_plot_candle(date, p_open, high, low, close, volume, view_index, symbol, day_sum, save, minute)\n",
      "  File \"D:\\sean.chen\\trader\\abu\\abupy\\MarketBu\\ABuMarketDrawing.py\", line 257, in _do_plot_candle\n",
      "    import matplotlib.date as mdf\n",
      "ModuleNotFoundError: No module named 'matplotlib.date'\n"
     ]
    },
    {
     "name": "stdout",
     "output_type": "stream",
     "text": [
      "tw_TWSE:2330\n"
     ]
    },
    {
     "name": "stderr",
     "output_type": "stream",
     "text": [
      "No module named 'matplotlib.date'\n",
      "Traceback (most recent call last):\n",
      "  File \"D:\\sean.chen\\trader\\abu\\abupy\\MarketBu\\ABuMarketDrawing.py\", line 252, in _do_plot_candle\n",
      "    import matplotlib.date as mdf\n",
      "ModuleNotFoundError: No module named 'matplotlib.date'\n",
      "\n",
      "During handling of the above exception, another exception occurred:\n",
      "\n",
      "Traceback (most recent call last):\n",
      "  File \"D:\\sean.chen\\trader\\abu\\abupy\\MarketBu\\ABuMarketDrawing.py\", line 92, in plot_from_series\n",
      "    view_index=view_index_inner, save=save)\n",
      "  File \"D:\\sean.chen\\trader\\abu\\abupy\\MarketBu\\ABuMarketDrawing.py\", line 133, in plot_candle_from_symbol\n",
      "    plot_candle_form_klpd(kl_pd, day_sum, html_bk, view_index, save=save)\n",
      "  File \"D:\\sean.chen\\trader\\abu\\abupy\\MarketBu\\ABuMarketDrawing.py\", line 166, in plot_candle_form_klpd\n",
      "    fn, day_sum, html_bk, save)\n",
      "  File \"D:\\sean.chen\\trader\\abu\\abupy\\MarketBu\\ABuMarketDrawing.py\", line 188, in plot_candle_stick\n",
      "    _do_plot_candle(date, p_open, high, low, close, volume, view_index, symbol, day_sum, save, minute)\n",
      "  File \"D:\\sean.chen\\trader\\abu\\abupy\\MarketBu\\ABuMarketDrawing.py\", line 257, in _do_plot_candle\n",
      "    import matplotlib.date as mdf\n",
      "ModuleNotFoundError: No module named 'matplotlib.date'\n"
     ]
    },
    {
     "name": "stdout",
     "output_type": "stream",
     "text": [
      "tw_TWSE:2330\n"
     ]
    },
    {
     "name": "stderr",
     "output_type": "stream",
     "text": [
      "No module named 'matplotlib.date'\n",
      "Traceback (most recent call last):\n",
      "  File \"D:\\sean.chen\\trader\\abu\\abupy\\MarketBu\\ABuMarketDrawing.py\", line 252, in _do_plot_candle\n",
      "    import matplotlib.date as mdf\n",
      "ModuleNotFoundError: No module named 'matplotlib.date'\n",
      "\n",
      "During handling of the above exception, another exception occurred:\n",
      "\n",
      "Traceback (most recent call last):\n",
      "  File \"D:\\sean.chen\\trader\\abu\\abupy\\MarketBu\\ABuMarketDrawing.py\", line 92, in plot_from_series\n",
      "    view_index=view_index_inner, save=save)\n",
      "  File \"D:\\sean.chen\\trader\\abu\\abupy\\MarketBu\\ABuMarketDrawing.py\", line 133, in plot_candle_from_symbol\n",
      "    plot_candle_form_klpd(kl_pd, day_sum, html_bk, view_index, save=save)\n",
      "  File \"D:\\sean.chen\\trader\\abu\\abupy\\MarketBu\\ABuMarketDrawing.py\", line 166, in plot_candle_form_klpd\n",
      "    fn, day_sum, html_bk, save)\n",
      "  File \"D:\\sean.chen\\trader\\abu\\abupy\\MarketBu\\ABuMarketDrawing.py\", line 188, in plot_candle_stick\n",
      "    _do_plot_candle(date, p_open, high, low, close, volume, view_index, symbol, day_sum, save, minute)\n",
      "  File \"D:\\sean.chen\\trader\\abu\\abupy\\MarketBu\\ABuMarketDrawing.py\", line 257, in _do_plot_candle\n",
      "    import matplotlib.date as mdf\n",
      "ModuleNotFoundError: No module named 'matplotlib.date'\n"
     ]
    },
    {
     "name": "stdout",
     "output_type": "stream",
     "text": [
      "tw_TWSE:2330\n"
     ]
    },
    {
     "name": "stderr",
     "output_type": "stream",
     "text": [
      "No module named 'matplotlib.date'\n",
      "Traceback (most recent call last):\n",
      "  File \"D:\\sean.chen\\trader\\abu\\abupy\\MarketBu\\ABuMarketDrawing.py\", line 252, in _do_plot_candle\n",
      "    import matplotlib.date as mdf\n",
      "ModuleNotFoundError: No module named 'matplotlib.date'\n",
      "\n",
      "During handling of the above exception, another exception occurred:\n",
      "\n",
      "Traceback (most recent call last):\n",
      "  File \"D:\\sean.chen\\trader\\abu\\abupy\\MarketBu\\ABuMarketDrawing.py\", line 92, in plot_from_series\n",
      "    view_index=view_index_inner, save=save)\n",
      "  File \"D:\\sean.chen\\trader\\abu\\abupy\\MarketBu\\ABuMarketDrawing.py\", line 133, in plot_candle_from_symbol\n",
      "    plot_candle_form_klpd(kl_pd, day_sum, html_bk, view_index, save=save)\n",
      "  File \"D:\\sean.chen\\trader\\abu\\abupy\\MarketBu\\ABuMarketDrawing.py\", line 166, in plot_candle_form_klpd\n",
      "    fn, day_sum, html_bk, save)\n",
      "  File \"D:\\sean.chen\\trader\\abu\\abupy\\MarketBu\\ABuMarketDrawing.py\", line 188, in plot_candle_stick\n",
      "    _do_plot_candle(date, p_open, high, low, close, volume, view_index, symbol, day_sum, save, minute)\n",
      "  File \"D:\\sean.chen\\trader\\abu\\abupy\\MarketBu\\ABuMarketDrawing.py\", line 257, in _do_plot_candle\n",
      "    import matplotlib.date as mdf\n",
      "ModuleNotFoundError: No module named 'matplotlib.date'\n"
     ]
    },
    {
     "name": "stdout",
     "output_type": "stream",
     "text": [
      "tw_TWSE:2330\n"
     ]
    },
    {
     "name": "stderr",
     "output_type": "stream",
     "text": [
      "No module named 'matplotlib.date'\n",
      "Traceback (most recent call last):\n",
      "  File \"D:\\sean.chen\\trader\\abu\\abupy\\MarketBu\\ABuMarketDrawing.py\", line 252, in _do_plot_candle\n",
      "    import matplotlib.date as mdf\n",
      "ModuleNotFoundError: No module named 'matplotlib.date'\n",
      "\n",
      "During handling of the above exception, another exception occurred:\n",
      "\n",
      "Traceback (most recent call last):\n",
      "  File \"D:\\sean.chen\\trader\\abu\\abupy\\MarketBu\\ABuMarketDrawing.py\", line 92, in plot_from_series\n",
      "    view_index=view_index_inner, save=save)\n",
      "  File \"D:\\sean.chen\\trader\\abu\\abupy\\MarketBu\\ABuMarketDrawing.py\", line 133, in plot_candle_from_symbol\n",
      "    plot_candle_form_klpd(kl_pd, day_sum, html_bk, view_index, save=save)\n",
      "  File \"D:\\sean.chen\\trader\\abu\\abupy\\MarketBu\\ABuMarketDrawing.py\", line 166, in plot_candle_form_klpd\n",
      "    fn, day_sum, html_bk, save)\n",
      "  File \"D:\\sean.chen\\trader\\abu\\abupy\\MarketBu\\ABuMarketDrawing.py\", line 188, in plot_candle_stick\n",
      "    _do_plot_candle(date, p_open, high, low, close, volume, view_index, symbol, day_sum, save, minute)\n",
      "  File \"D:\\sean.chen\\trader\\abu\\abupy\\MarketBu\\ABuMarketDrawing.py\", line 257, in _do_plot_candle\n",
      "    import matplotlib.date as mdf\n",
      "ModuleNotFoundError: No module named 'matplotlib.date'\n"
     ]
    },
    {
     "name": "stdout",
     "output_type": "stream",
     "text": [
      "tw_TWSE:2330\n"
     ]
    },
    {
     "name": "stderr",
     "output_type": "stream",
     "text": [
      "No module named 'matplotlib.date'\n",
      "Traceback (most recent call last):\n",
      "  File \"D:\\sean.chen\\trader\\abu\\abupy\\MarketBu\\ABuMarketDrawing.py\", line 252, in _do_plot_candle\n",
      "    import matplotlib.date as mdf\n",
      "ModuleNotFoundError: No module named 'matplotlib.date'\n",
      "\n",
      "During handling of the above exception, another exception occurred:\n",
      "\n",
      "Traceback (most recent call last):\n",
      "  File \"D:\\sean.chen\\trader\\abu\\abupy\\MarketBu\\ABuMarketDrawing.py\", line 92, in plot_from_series\n",
      "    view_index=view_index_inner, save=save)\n",
      "  File \"D:\\sean.chen\\trader\\abu\\abupy\\MarketBu\\ABuMarketDrawing.py\", line 133, in plot_candle_from_symbol\n",
      "    plot_candle_form_klpd(kl_pd, day_sum, html_bk, view_index, save=save)\n",
      "  File \"D:\\sean.chen\\trader\\abu\\abupy\\MarketBu\\ABuMarketDrawing.py\", line 166, in plot_candle_form_klpd\n",
      "    fn, day_sum, html_bk, save)\n",
      "  File \"D:\\sean.chen\\trader\\abu\\abupy\\MarketBu\\ABuMarketDrawing.py\", line 188, in plot_candle_stick\n",
      "    _do_plot_candle(date, p_open, high, low, close, volume, view_index, symbol, day_sum, save, minute)\n",
      "  File \"D:\\sean.chen\\trader\\abu\\abupy\\MarketBu\\ABuMarketDrawing.py\", line 257, in _do_plot_candle\n",
      "    import matplotlib.date as mdf\n",
      "ModuleNotFoundError: No module named 'matplotlib.date'\n"
     ]
    },
    {
     "name": "stdout",
     "output_type": "stream",
     "text": [
      "tw_TWSE:2330\n"
     ]
    },
    {
     "name": "stderr",
     "output_type": "stream",
     "text": [
      "No module named 'matplotlib.date'\n",
      "Traceback (most recent call last):\n",
      "  File \"D:\\sean.chen\\trader\\abu\\abupy\\MarketBu\\ABuMarketDrawing.py\", line 252, in _do_plot_candle\n",
      "    import matplotlib.date as mdf\n",
      "ModuleNotFoundError: No module named 'matplotlib.date'\n",
      "\n",
      "During handling of the above exception, another exception occurred:\n",
      "\n",
      "Traceback (most recent call last):\n",
      "  File \"D:\\sean.chen\\trader\\abu\\abupy\\MarketBu\\ABuMarketDrawing.py\", line 92, in plot_from_series\n",
      "    view_index=view_index_inner, save=save)\n",
      "  File \"D:\\sean.chen\\trader\\abu\\abupy\\MarketBu\\ABuMarketDrawing.py\", line 133, in plot_candle_from_symbol\n",
      "    plot_candle_form_klpd(kl_pd, day_sum, html_bk, view_index, save=save)\n",
      "  File \"D:\\sean.chen\\trader\\abu\\abupy\\MarketBu\\ABuMarketDrawing.py\", line 166, in plot_candle_form_klpd\n",
      "    fn, day_sum, html_bk, save)\n",
      "  File \"D:\\sean.chen\\trader\\abu\\abupy\\MarketBu\\ABuMarketDrawing.py\", line 188, in plot_candle_stick\n",
      "    _do_plot_candle(date, p_open, high, low, close, volume, view_index, symbol, day_sum, save, minute)\n",
      "  File \"D:\\sean.chen\\trader\\abu\\abupy\\MarketBu\\ABuMarketDrawing.py\", line 257, in _do_plot_candle\n",
      "    import matplotlib.date as mdf\n",
      "ModuleNotFoundError: No module named 'matplotlib.date'\n"
     ]
    },
    {
     "name": "stdout",
     "output_type": "stream",
     "text": [
      "tw_TWSE:2330\n"
     ]
    },
    {
     "name": "stderr",
     "output_type": "stream",
     "text": [
      "No module named 'matplotlib.date'\n",
      "Traceback (most recent call last):\n",
      "  File \"D:\\sean.chen\\trader\\abu\\abupy\\MarketBu\\ABuMarketDrawing.py\", line 252, in _do_plot_candle\n",
      "    import matplotlib.date as mdf\n",
      "ModuleNotFoundError: No module named 'matplotlib.date'\n",
      "\n",
      "During handling of the above exception, another exception occurred:\n",
      "\n",
      "Traceback (most recent call last):\n",
      "  File \"D:\\sean.chen\\trader\\abu\\abupy\\MarketBu\\ABuMarketDrawing.py\", line 92, in plot_from_series\n",
      "    view_index=view_index_inner, save=save)\n",
      "  File \"D:\\sean.chen\\trader\\abu\\abupy\\MarketBu\\ABuMarketDrawing.py\", line 133, in plot_candle_from_symbol\n",
      "    plot_candle_form_klpd(kl_pd, day_sum, html_bk, view_index, save=save)\n",
      "  File \"D:\\sean.chen\\trader\\abu\\abupy\\MarketBu\\ABuMarketDrawing.py\", line 166, in plot_candle_form_klpd\n",
      "    fn, day_sum, html_bk, save)\n",
      "  File \"D:\\sean.chen\\trader\\abu\\abupy\\MarketBu\\ABuMarketDrawing.py\", line 188, in plot_candle_stick\n",
      "    _do_plot_candle(date, p_open, high, low, close, volume, view_index, symbol, day_sum, save, minute)\n",
      "  File \"D:\\sean.chen\\trader\\abu\\abupy\\MarketBu\\ABuMarketDrawing.py\", line 257, in _do_plot_candle\n",
      "    import matplotlib.date as mdf\n",
      "ModuleNotFoundError: No module named 'matplotlib.date'\n"
     ]
    },
    {
     "name": "stdout",
     "output_type": "stream",
     "text": [
      "tw_TWSE:2330\n"
     ]
    },
    {
     "name": "stderr",
     "output_type": "stream",
     "text": [
      "No module named 'matplotlib.date'\n",
      "Traceback (most recent call last):\n",
      "  File \"D:\\sean.chen\\trader\\abu\\abupy\\MarketBu\\ABuMarketDrawing.py\", line 252, in _do_plot_candle\n",
      "    import matplotlib.date as mdf\n",
      "ModuleNotFoundError: No module named 'matplotlib.date'\n",
      "\n",
      "During handling of the above exception, another exception occurred:\n",
      "\n",
      "Traceback (most recent call last):\n",
      "  File \"D:\\sean.chen\\trader\\abu\\abupy\\MarketBu\\ABuMarketDrawing.py\", line 92, in plot_from_series\n",
      "    view_index=view_index_inner, save=save)\n",
      "  File \"D:\\sean.chen\\trader\\abu\\abupy\\MarketBu\\ABuMarketDrawing.py\", line 133, in plot_candle_from_symbol\n",
      "    plot_candle_form_klpd(kl_pd, day_sum, html_bk, view_index, save=save)\n",
      "  File \"D:\\sean.chen\\trader\\abu\\abupy\\MarketBu\\ABuMarketDrawing.py\", line 166, in plot_candle_form_klpd\n",
      "    fn, day_sum, html_bk, save)\n",
      "  File \"D:\\sean.chen\\trader\\abu\\abupy\\MarketBu\\ABuMarketDrawing.py\", line 188, in plot_candle_stick\n",
      "    _do_plot_candle(date, p_open, high, low, close, volume, view_index, symbol, day_sum, save, minute)\n",
      "  File \"D:\\sean.chen\\trader\\abu\\abupy\\MarketBu\\ABuMarketDrawing.py\", line 257, in _do_plot_candle\n",
      "    import matplotlib.date as mdf\n",
      "ModuleNotFoundError: No module named 'matplotlib.date'\n"
     ]
    },
    {
     "name": "stdout",
     "output_type": "stream",
     "text": [
      "tw_TWSE:2330\n"
     ]
    },
    {
     "name": "stderr",
     "output_type": "stream",
     "text": [
      "No module named 'matplotlib.date'\n",
      "Traceback (most recent call last):\n",
      "  File \"D:\\sean.chen\\trader\\abu\\abupy\\MarketBu\\ABuMarketDrawing.py\", line 252, in _do_plot_candle\n",
      "    import matplotlib.date as mdf\n",
      "ModuleNotFoundError: No module named 'matplotlib.date'\n",
      "\n",
      "During handling of the above exception, another exception occurred:\n",
      "\n",
      "Traceback (most recent call last):\n",
      "  File \"D:\\sean.chen\\trader\\abu\\abupy\\MarketBu\\ABuMarketDrawing.py\", line 92, in plot_from_series\n",
      "    view_index=view_index_inner, save=save)\n",
      "  File \"D:\\sean.chen\\trader\\abu\\abupy\\MarketBu\\ABuMarketDrawing.py\", line 133, in plot_candle_from_symbol\n",
      "    plot_candle_form_klpd(kl_pd, day_sum, html_bk, view_index, save=save)\n",
      "  File \"D:\\sean.chen\\trader\\abu\\abupy\\MarketBu\\ABuMarketDrawing.py\", line 166, in plot_candle_form_klpd\n",
      "    fn, day_sum, html_bk, save)\n",
      "  File \"D:\\sean.chen\\trader\\abu\\abupy\\MarketBu\\ABuMarketDrawing.py\", line 188, in plot_candle_stick\n",
      "    _do_plot_candle(date, p_open, high, low, close, volume, view_index, symbol, day_sum, save, minute)\n",
      "  File \"D:\\sean.chen\\trader\\abu\\abupy\\MarketBu\\ABuMarketDrawing.py\", line 257, in _do_plot_candle\n",
      "    import matplotlib.date as mdf\n",
      "ModuleNotFoundError: No module named 'matplotlib.date'\n"
     ]
    },
    {
     "name": "stdout",
     "output_type": "stream",
     "text": [
      "tw_TWSE:2330\n"
     ]
    },
    {
     "name": "stderr",
     "output_type": "stream",
     "text": [
      "No module named 'matplotlib.date'\n",
      "Traceback (most recent call last):\n",
      "  File \"D:\\sean.chen\\trader\\abu\\abupy\\MarketBu\\ABuMarketDrawing.py\", line 252, in _do_plot_candle\n",
      "    import matplotlib.date as mdf\n",
      "ModuleNotFoundError: No module named 'matplotlib.date'\n",
      "\n",
      "During handling of the above exception, another exception occurred:\n",
      "\n",
      "Traceback (most recent call last):\n",
      "  File \"D:\\sean.chen\\trader\\abu\\abupy\\MarketBu\\ABuMarketDrawing.py\", line 92, in plot_from_series\n",
      "    view_index=view_index_inner, save=save)\n",
      "  File \"D:\\sean.chen\\trader\\abu\\abupy\\MarketBu\\ABuMarketDrawing.py\", line 133, in plot_candle_from_symbol\n",
      "    plot_candle_form_klpd(kl_pd, day_sum, html_bk, view_index, save=save)\n",
      "  File \"D:\\sean.chen\\trader\\abu\\abupy\\MarketBu\\ABuMarketDrawing.py\", line 166, in plot_candle_form_klpd\n",
      "    fn, day_sum, html_bk, save)\n",
      "  File \"D:\\sean.chen\\trader\\abu\\abupy\\MarketBu\\ABuMarketDrawing.py\", line 188, in plot_candle_stick\n",
      "    _do_plot_candle(date, p_open, high, low, close, volume, view_index, symbol, day_sum, save, minute)\n",
      "  File \"D:\\sean.chen\\trader\\abu\\abupy\\MarketBu\\ABuMarketDrawing.py\", line 257, in _do_plot_candle\n",
      "    import matplotlib.date as mdf\n",
      "ModuleNotFoundError: No module named 'matplotlib.date'\n"
     ]
    },
    {
     "name": "stdout",
     "output_type": "stream",
     "text": [
      "tw_TWSE:2330\n"
     ]
    },
    {
     "name": "stderr",
     "output_type": "stream",
     "text": [
      "No module named 'matplotlib.date'\n",
      "Traceback (most recent call last):\n",
      "  File \"D:\\sean.chen\\trader\\abu\\abupy\\MarketBu\\ABuMarketDrawing.py\", line 252, in _do_plot_candle\n",
      "    import matplotlib.date as mdf\n",
      "ModuleNotFoundError: No module named 'matplotlib.date'\n",
      "\n",
      "During handling of the above exception, another exception occurred:\n",
      "\n",
      "Traceback (most recent call last):\n",
      "  File \"D:\\sean.chen\\trader\\abu\\abupy\\MarketBu\\ABuMarketDrawing.py\", line 92, in plot_from_series\n",
      "    view_index=view_index_inner, save=save)\n",
      "  File \"D:\\sean.chen\\trader\\abu\\abupy\\MarketBu\\ABuMarketDrawing.py\", line 133, in plot_candle_from_symbol\n",
      "    plot_candle_form_klpd(kl_pd, day_sum, html_bk, view_index, save=save)\n",
      "  File \"D:\\sean.chen\\trader\\abu\\abupy\\MarketBu\\ABuMarketDrawing.py\", line 166, in plot_candle_form_klpd\n",
      "    fn, day_sum, html_bk, save)\n",
      "  File \"D:\\sean.chen\\trader\\abu\\abupy\\MarketBu\\ABuMarketDrawing.py\", line 188, in plot_candle_stick\n",
      "    _do_plot_candle(date, p_open, high, low, close, volume, view_index, symbol, day_sum, save, minute)\n",
      "  File \"D:\\sean.chen\\trader\\abu\\abupy\\MarketBu\\ABuMarketDrawing.py\", line 257, in _do_plot_candle\n",
      "    import matplotlib.date as mdf\n",
      "ModuleNotFoundError: No module named 'matplotlib.date'\n"
     ]
    },
    {
     "name": "stdout",
     "output_type": "stream",
     "text": [
      "tw_TWSE:2330\n"
     ]
    },
    {
     "name": "stderr",
     "output_type": "stream",
     "text": [
      "No module named 'matplotlib.date'\n",
      "Traceback (most recent call last):\n",
      "  File \"D:\\sean.chen\\trader\\abu\\abupy\\MarketBu\\ABuMarketDrawing.py\", line 252, in _do_plot_candle\n",
      "    import matplotlib.date as mdf\n",
      "ModuleNotFoundError: No module named 'matplotlib.date'\n",
      "\n",
      "During handling of the above exception, another exception occurred:\n",
      "\n",
      "Traceback (most recent call last):\n",
      "  File \"D:\\sean.chen\\trader\\abu\\abupy\\MarketBu\\ABuMarketDrawing.py\", line 92, in plot_from_series\n",
      "    view_index=view_index_inner, save=save)\n",
      "  File \"D:\\sean.chen\\trader\\abu\\abupy\\MarketBu\\ABuMarketDrawing.py\", line 133, in plot_candle_from_symbol\n",
      "    plot_candle_form_klpd(kl_pd, day_sum, html_bk, view_index, save=save)\n",
      "  File \"D:\\sean.chen\\trader\\abu\\abupy\\MarketBu\\ABuMarketDrawing.py\", line 166, in plot_candle_form_klpd\n",
      "    fn, day_sum, html_bk, save)\n",
      "  File \"D:\\sean.chen\\trader\\abu\\abupy\\MarketBu\\ABuMarketDrawing.py\", line 188, in plot_candle_stick\n",
      "    _do_plot_candle(date, p_open, high, low, close, volume, view_index, symbol, day_sum, save, minute)\n",
      "  File \"D:\\sean.chen\\trader\\abu\\abupy\\MarketBu\\ABuMarketDrawing.py\", line 257, in _do_plot_candle\n",
      "    import matplotlib.date as mdf\n",
      "ModuleNotFoundError: No module named 'matplotlib.date'\n"
     ]
    },
    {
     "name": "stdout",
     "output_type": "stream",
     "text": [
      "tw_TWSE:2330\n"
     ]
    },
    {
     "name": "stderr",
     "output_type": "stream",
     "text": [
      "No module named 'matplotlib.date'\n",
      "Traceback (most recent call last):\n",
      "  File \"D:\\sean.chen\\trader\\abu\\abupy\\MarketBu\\ABuMarketDrawing.py\", line 252, in _do_plot_candle\n",
      "    import matplotlib.date as mdf\n",
      "ModuleNotFoundError: No module named 'matplotlib.date'\n",
      "\n",
      "During handling of the above exception, another exception occurred:\n",
      "\n",
      "Traceback (most recent call last):\n",
      "  File \"D:\\sean.chen\\trader\\abu\\abupy\\MarketBu\\ABuMarketDrawing.py\", line 92, in plot_from_series\n",
      "    view_index=view_index_inner, save=save)\n",
      "  File \"D:\\sean.chen\\trader\\abu\\abupy\\MarketBu\\ABuMarketDrawing.py\", line 133, in plot_candle_from_symbol\n",
      "    plot_candle_form_klpd(kl_pd, day_sum, html_bk, view_index, save=save)\n",
      "  File \"D:\\sean.chen\\trader\\abu\\abupy\\MarketBu\\ABuMarketDrawing.py\", line 166, in plot_candle_form_klpd\n",
      "    fn, day_sum, html_bk, save)\n",
      "  File \"D:\\sean.chen\\trader\\abu\\abupy\\MarketBu\\ABuMarketDrawing.py\", line 188, in plot_candle_stick\n",
      "    _do_plot_candle(date, p_open, high, low, close, volume, view_index, symbol, day_sum, save, minute)\n",
      "  File \"D:\\sean.chen\\trader\\abu\\abupy\\MarketBu\\ABuMarketDrawing.py\", line 257, in _do_plot_candle\n",
      "    import matplotlib.date as mdf\n",
      "ModuleNotFoundError: No module named 'matplotlib.date'\n"
     ]
    },
    {
     "name": "stdout",
     "output_type": "stream",
     "text": [
      "tw_TWSE:2330\n"
     ]
    },
    {
     "name": "stderr",
     "output_type": "stream",
     "text": [
      "No module named 'matplotlib.date'\n",
      "Traceback (most recent call last):\n",
      "  File \"D:\\sean.chen\\trader\\abu\\abupy\\MarketBu\\ABuMarketDrawing.py\", line 252, in _do_plot_candle\n",
      "    import matplotlib.date as mdf\n",
      "ModuleNotFoundError: No module named 'matplotlib.date'\n",
      "\n",
      "During handling of the above exception, another exception occurred:\n",
      "\n",
      "Traceback (most recent call last):\n",
      "  File \"D:\\sean.chen\\trader\\abu\\abupy\\MarketBu\\ABuMarketDrawing.py\", line 92, in plot_from_series\n",
      "    view_index=view_index_inner, save=save)\n",
      "  File \"D:\\sean.chen\\trader\\abu\\abupy\\MarketBu\\ABuMarketDrawing.py\", line 133, in plot_candle_from_symbol\n",
      "    plot_candle_form_klpd(kl_pd, day_sum, html_bk, view_index, save=save)\n",
      "  File \"D:\\sean.chen\\trader\\abu\\abupy\\MarketBu\\ABuMarketDrawing.py\", line 166, in plot_candle_form_klpd\n",
      "    fn, day_sum, html_bk, save)\n",
      "  File \"D:\\sean.chen\\trader\\abu\\abupy\\MarketBu\\ABuMarketDrawing.py\", line 188, in plot_candle_stick\n",
      "    _do_plot_candle(date, p_open, high, low, close, volume, view_index, symbol, day_sum, save, minute)\n",
      "  File \"D:\\sean.chen\\trader\\abu\\abupy\\MarketBu\\ABuMarketDrawing.py\", line 257, in _do_plot_candle\n",
      "    import matplotlib.date as mdf\n",
      "ModuleNotFoundError: No module named 'matplotlib.date'\n"
     ]
    },
    {
     "name": "stdout",
     "output_type": "stream",
     "text": [
      "tw_TWSE:2330\n"
     ]
    },
    {
     "name": "stderr",
     "output_type": "stream",
     "text": [
      "No module named 'matplotlib.date'\n",
      "Traceback (most recent call last):\n",
      "  File \"D:\\sean.chen\\trader\\abu\\abupy\\MarketBu\\ABuMarketDrawing.py\", line 252, in _do_plot_candle\n",
      "    import matplotlib.date as mdf\n",
      "ModuleNotFoundError: No module named 'matplotlib.date'\n",
      "\n",
      "During handling of the above exception, another exception occurred:\n",
      "\n",
      "Traceback (most recent call last):\n",
      "  File \"D:\\sean.chen\\trader\\abu\\abupy\\MarketBu\\ABuMarketDrawing.py\", line 92, in plot_from_series\n",
      "    view_index=view_index_inner, save=save)\n",
      "  File \"D:\\sean.chen\\trader\\abu\\abupy\\MarketBu\\ABuMarketDrawing.py\", line 133, in plot_candle_from_symbol\n",
      "    plot_candle_form_klpd(kl_pd, day_sum, html_bk, view_index, save=save)\n",
      "  File \"D:\\sean.chen\\trader\\abu\\abupy\\MarketBu\\ABuMarketDrawing.py\", line 166, in plot_candle_form_klpd\n",
      "    fn, day_sum, html_bk, save)\n",
      "  File \"D:\\sean.chen\\trader\\abu\\abupy\\MarketBu\\ABuMarketDrawing.py\", line 188, in plot_candle_stick\n",
      "    _do_plot_candle(date, p_open, high, low, close, volume, view_index, symbol, day_sum, save, minute)\n",
      "  File \"D:\\sean.chen\\trader\\abu\\abupy\\MarketBu\\ABuMarketDrawing.py\", line 257, in _do_plot_candle\n",
      "    import matplotlib.date as mdf\n",
      "ModuleNotFoundError: No module named 'matplotlib.date'\n"
     ]
    },
    {
     "name": "stdout",
     "output_type": "stream",
     "text": [
      "tw_TWSE:2330\n"
     ]
    },
    {
     "name": "stderr",
     "output_type": "stream",
     "text": [
      "No module named 'matplotlib.date'\n",
      "Traceback (most recent call last):\n",
      "  File \"D:\\sean.chen\\trader\\abu\\abupy\\MarketBu\\ABuMarketDrawing.py\", line 252, in _do_plot_candle\n",
      "    import matplotlib.date as mdf\n",
      "ModuleNotFoundError: No module named 'matplotlib.date'\n",
      "\n",
      "During handling of the above exception, another exception occurred:\n",
      "\n",
      "Traceback (most recent call last):\n",
      "  File \"D:\\sean.chen\\trader\\abu\\abupy\\MarketBu\\ABuMarketDrawing.py\", line 92, in plot_from_series\n",
      "    view_index=view_index_inner, save=save)\n",
      "  File \"D:\\sean.chen\\trader\\abu\\abupy\\MarketBu\\ABuMarketDrawing.py\", line 133, in plot_candle_from_symbol\n",
      "    plot_candle_form_klpd(kl_pd, day_sum, html_bk, view_index, save=save)\n",
      "  File \"D:\\sean.chen\\trader\\abu\\abupy\\MarketBu\\ABuMarketDrawing.py\", line 166, in plot_candle_form_klpd\n",
      "    fn, day_sum, html_bk, save)\n",
      "  File \"D:\\sean.chen\\trader\\abu\\abupy\\MarketBu\\ABuMarketDrawing.py\", line 188, in plot_candle_stick\n",
      "    _do_plot_candle(date, p_open, high, low, close, volume, view_index, symbol, day_sum, save, minute)\n",
      "  File \"D:\\sean.chen\\trader\\abu\\abupy\\MarketBu\\ABuMarketDrawing.py\", line 257, in _do_plot_candle\n",
      "    import matplotlib.date as mdf\n",
      "ModuleNotFoundError: No module named 'matplotlib.date'\n"
     ]
    },
    {
     "name": "stdout",
     "output_type": "stream",
     "text": [
      "tw_TWSE:2330\n"
     ]
    },
    {
     "name": "stderr",
     "output_type": "stream",
     "text": [
      "No module named 'matplotlib.date'\n",
      "Traceback (most recent call last):\n",
      "  File \"D:\\sean.chen\\trader\\abu\\abupy\\MarketBu\\ABuMarketDrawing.py\", line 252, in _do_plot_candle\n",
      "    import matplotlib.date as mdf\n",
      "ModuleNotFoundError: No module named 'matplotlib.date'\n",
      "\n",
      "During handling of the above exception, another exception occurred:\n",
      "\n",
      "Traceback (most recent call last):\n",
      "  File \"D:\\sean.chen\\trader\\abu\\abupy\\MarketBu\\ABuMarketDrawing.py\", line 92, in plot_from_series\n",
      "    view_index=view_index_inner, save=save)\n",
      "  File \"D:\\sean.chen\\trader\\abu\\abupy\\MarketBu\\ABuMarketDrawing.py\", line 133, in plot_candle_from_symbol\n",
      "    plot_candle_form_klpd(kl_pd, day_sum, html_bk, view_index, save=save)\n",
      "  File \"D:\\sean.chen\\trader\\abu\\abupy\\MarketBu\\ABuMarketDrawing.py\", line 166, in plot_candle_form_klpd\n",
      "    fn, day_sum, html_bk, save)\n",
      "  File \"D:\\sean.chen\\trader\\abu\\abupy\\MarketBu\\ABuMarketDrawing.py\", line 188, in plot_candle_stick\n",
      "    _do_plot_candle(date, p_open, high, low, close, volume, view_index, symbol, day_sum, save, minute)\n",
      "  File \"D:\\sean.chen\\trader\\abu\\abupy\\MarketBu\\ABuMarketDrawing.py\", line 257, in _do_plot_candle\n",
      "    import matplotlib.date as mdf\n",
      "ModuleNotFoundError: No module named 'matplotlib.date'\n"
     ]
    },
    {
     "name": "stdout",
     "output_type": "stream",
     "text": [
      "tw_TWSE:2330\n"
     ]
    },
    {
     "name": "stderr",
     "output_type": "stream",
     "text": [
      "No module named 'matplotlib.date'\n",
      "Traceback (most recent call last):\n",
      "  File \"D:\\sean.chen\\trader\\abu\\abupy\\MarketBu\\ABuMarketDrawing.py\", line 252, in _do_plot_candle\n",
      "    import matplotlib.date as mdf\n",
      "ModuleNotFoundError: No module named 'matplotlib.date'\n",
      "\n",
      "During handling of the above exception, another exception occurred:\n",
      "\n",
      "Traceback (most recent call last):\n",
      "  File \"D:\\sean.chen\\trader\\abu\\abupy\\MarketBu\\ABuMarketDrawing.py\", line 92, in plot_from_series\n",
      "    view_index=view_index_inner, save=save)\n",
      "  File \"D:\\sean.chen\\trader\\abu\\abupy\\MarketBu\\ABuMarketDrawing.py\", line 133, in plot_candle_from_symbol\n",
      "    plot_candle_form_klpd(kl_pd, day_sum, html_bk, view_index, save=save)\n",
      "  File \"D:\\sean.chen\\trader\\abu\\abupy\\MarketBu\\ABuMarketDrawing.py\", line 166, in plot_candle_form_klpd\n",
      "    fn, day_sum, html_bk, save)\n",
      "  File \"D:\\sean.chen\\trader\\abu\\abupy\\MarketBu\\ABuMarketDrawing.py\", line 188, in plot_candle_stick\n",
      "    _do_plot_candle(date, p_open, high, low, close, volume, view_index, symbol, day_sum, save, minute)\n",
      "  File \"D:\\sean.chen\\trader\\abu\\abupy\\MarketBu\\ABuMarketDrawing.py\", line 257, in _do_plot_candle\n",
      "    import matplotlib.date as mdf\n",
      "ModuleNotFoundError: No module named 'matplotlib.date'\n"
     ]
    },
    {
     "name": "stdout",
     "output_type": "stream",
     "text": [
      "tw_TWSE:2330\n"
     ]
    },
    {
     "name": "stderr",
     "output_type": "stream",
     "text": [
      "No module named 'matplotlib.date'\n",
      "Traceback (most recent call last):\n",
      "  File \"D:\\sean.chen\\trader\\abu\\abupy\\MarketBu\\ABuMarketDrawing.py\", line 252, in _do_plot_candle\n",
      "    import matplotlib.date as mdf\n",
      "ModuleNotFoundError: No module named 'matplotlib.date'\n",
      "\n",
      "During handling of the above exception, another exception occurred:\n",
      "\n",
      "Traceback (most recent call last):\n",
      "  File \"D:\\sean.chen\\trader\\abu\\abupy\\MarketBu\\ABuMarketDrawing.py\", line 92, in plot_from_series\n",
      "    view_index=view_index_inner, save=save)\n",
      "  File \"D:\\sean.chen\\trader\\abu\\abupy\\MarketBu\\ABuMarketDrawing.py\", line 133, in plot_candle_from_symbol\n",
      "    plot_candle_form_klpd(kl_pd, day_sum, html_bk, view_index, save=save)\n",
      "  File \"D:\\sean.chen\\trader\\abu\\abupy\\MarketBu\\ABuMarketDrawing.py\", line 166, in plot_candle_form_klpd\n",
      "    fn, day_sum, html_bk, save)\n",
      "  File \"D:\\sean.chen\\trader\\abu\\abupy\\MarketBu\\ABuMarketDrawing.py\", line 188, in plot_candle_stick\n",
      "    _do_plot_candle(date, p_open, high, low, close, volume, view_index, symbol, day_sum, save, minute)\n",
      "  File \"D:\\sean.chen\\trader\\abu\\abupy\\MarketBu\\ABuMarketDrawing.py\", line 257, in _do_plot_candle\n",
      "    import matplotlib.date as mdf\n",
      "ModuleNotFoundError: No module named 'matplotlib.date'\n"
     ]
    },
    {
     "name": "stdout",
     "output_type": "stream",
     "text": [
      "tw_TWSE:2330\n"
     ]
    },
    {
     "name": "stderr",
     "output_type": "stream",
     "text": [
      "No module named 'matplotlib.date'\n",
      "Traceback (most recent call last):\n",
      "  File \"D:\\sean.chen\\trader\\abu\\abupy\\MarketBu\\ABuMarketDrawing.py\", line 252, in _do_plot_candle\n",
      "    import matplotlib.date as mdf\n",
      "ModuleNotFoundError: No module named 'matplotlib.date'\n",
      "\n",
      "During handling of the above exception, another exception occurred:\n",
      "\n",
      "Traceback (most recent call last):\n",
      "  File \"D:\\sean.chen\\trader\\abu\\abupy\\MarketBu\\ABuMarketDrawing.py\", line 92, in plot_from_series\n",
      "    view_index=view_index_inner, save=save)\n",
      "  File \"D:\\sean.chen\\trader\\abu\\abupy\\MarketBu\\ABuMarketDrawing.py\", line 133, in plot_candle_from_symbol\n",
      "    plot_candle_form_klpd(kl_pd, day_sum, html_bk, view_index, save=save)\n",
      "  File \"D:\\sean.chen\\trader\\abu\\abupy\\MarketBu\\ABuMarketDrawing.py\", line 166, in plot_candle_form_klpd\n",
      "    fn, day_sum, html_bk, save)\n",
      "  File \"D:\\sean.chen\\trader\\abu\\abupy\\MarketBu\\ABuMarketDrawing.py\", line 188, in plot_candle_stick\n",
      "    _do_plot_candle(date, p_open, high, low, close, volume, view_index, symbol, day_sum, save, minute)\n",
      "  File \"D:\\sean.chen\\trader\\abu\\abupy\\MarketBu\\ABuMarketDrawing.py\", line 257, in _do_plot_candle\n",
      "    import matplotlib.date as mdf\n",
      "ModuleNotFoundError: No module named 'matplotlib.date'\n"
     ]
    },
    {
     "name": "stdout",
     "output_type": "stream",
     "text": [
      "tw_TWSE:2330\n"
     ]
    },
    {
     "name": "stderr",
     "output_type": "stream",
     "text": [
      "No module named 'matplotlib.date'\n",
      "Traceback (most recent call last):\n",
      "  File \"D:\\sean.chen\\trader\\abu\\abupy\\MarketBu\\ABuMarketDrawing.py\", line 252, in _do_plot_candle\n",
      "    import matplotlib.date as mdf\n",
      "ModuleNotFoundError: No module named 'matplotlib.date'\n",
      "\n",
      "During handling of the above exception, another exception occurred:\n",
      "\n",
      "Traceback (most recent call last):\n",
      "  File \"D:\\sean.chen\\trader\\abu\\abupy\\MarketBu\\ABuMarketDrawing.py\", line 92, in plot_from_series\n",
      "    view_index=view_index_inner, save=save)\n",
      "  File \"D:\\sean.chen\\trader\\abu\\abupy\\MarketBu\\ABuMarketDrawing.py\", line 133, in plot_candle_from_symbol\n",
      "    plot_candle_form_klpd(kl_pd, day_sum, html_bk, view_index, save=save)\n",
      "  File \"D:\\sean.chen\\trader\\abu\\abupy\\MarketBu\\ABuMarketDrawing.py\", line 166, in plot_candle_form_klpd\n",
      "    fn, day_sum, html_bk, save)\n",
      "  File \"D:\\sean.chen\\trader\\abu\\abupy\\MarketBu\\ABuMarketDrawing.py\", line 188, in plot_candle_stick\n",
      "    _do_plot_candle(date, p_open, high, low, close, volume, view_index, symbol, day_sum, save, minute)\n",
      "  File \"D:\\sean.chen\\trader\\abu\\abupy\\MarketBu\\ABuMarketDrawing.py\", line 257, in _do_plot_candle\n",
      "    import matplotlib.date as mdf\n",
      "ModuleNotFoundError: No module named 'matplotlib.date'\n"
     ]
    },
    {
     "name": "stdout",
     "output_type": "stream",
     "text": [
      "tw_TWSE:2330\n"
     ]
    },
    {
     "name": "stderr",
     "output_type": "stream",
     "text": [
      "No module named 'matplotlib.date'\n",
      "Traceback (most recent call last):\n",
      "  File \"D:\\sean.chen\\trader\\abu\\abupy\\MarketBu\\ABuMarketDrawing.py\", line 252, in _do_plot_candle\n",
      "    import matplotlib.date as mdf\n",
      "ModuleNotFoundError: No module named 'matplotlib.date'\n",
      "\n",
      "During handling of the above exception, another exception occurred:\n",
      "\n",
      "Traceback (most recent call last):\n",
      "  File \"D:\\sean.chen\\trader\\abu\\abupy\\MarketBu\\ABuMarketDrawing.py\", line 92, in plot_from_series\n",
      "    view_index=view_index_inner, save=save)\n",
      "  File \"D:\\sean.chen\\trader\\abu\\abupy\\MarketBu\\ABuMarketDrawing.py\", line 133, in plot_candle_from_symbol\n",
      "    plot_candle_form_klpd(kl_pd, day_sum, html_bk, view_index, save=save)\n",
      "  File \"D:\\sean.chen\\trader\\abu\\abupy\\MarketBu\\ABuMarketDrawing.py\", line 166, in plot_candle_form_klpd\n",
      "    fn, day_sum, html_bk, save)\n",
      "  File \"D:\\sean.chen\\trader\\abu\\abupy\\MarketBu\\ABuMarketDrawing.py\", line 188, in plot_candle_stick\n",
      "    _do_plot_candle(date, p_open, high, low, close, volume, view_index, symbol, day_sum, save, minute)\n",
      "  File \"D:\\sean.chen\\trader\\abu\\abupy\\MarketBu\\ABuMarketDrawing.py\", line 257, in _do_plot_candle\n",
      "    import matplotlib.date as mdf\n",
      "ModuleNotFoundError: No module named 'matplotlib.date'\n"
     ]
    },
    {
     "name": "stdout",
     "output_type": "stream",
     "text": [
      "tw_TWSE:2330\n"
     ]
    },
    {
     "name": "stderr",
     "output_type": "stream",
     "text": [
      "No module named 'matplotlib.date'\n",
      "Traceback (most recent call last):\n",
      "  File \"D:\\sean.chen\\trader\\abu\\abupy\\MarketBu\\ABuMarketDrawing.py\", line 252, in _do_plot_candle\n",
      "    import matplotlib.date as mdf\n",
      "ModuleNotFoundError: No module named 'matplotlib.date'\n",
      "\n",
      "During handling of the above exception, another exception occurred:\n",
      "\n",
      "Traceback (most recent call last):\n",
      "  File \"D:\\sean.chen\\trader\\abu\\abupy\\MarketBu\\ABuMarketDrawing.py\", line 92, in plot_from_series\n",
      "    view_index=view_index_inner, save=save)\n",
      "  File \"D:\\sean.chen\\trader\\abu\\abupy\\MarketBu\\ABuMarketDrawing.py\", line 133, in plot_candle_from_symbol\n",
      "    plot_candle_form_klpd(kl_pd, day_sum, html_bk, view_index, save=save)\n",
      "  File \"D:\\sean.chen\\trader\\abu\\abupy\\MarketBu\\ABuMarketDrawing.py\", line 166, in plot_candle_form_klpd\n",
      "    fn, day_sum, html_bk, save)\n",
      "  File \"D:\\sean.chen\\trader\\abu\\abupy\\MarketBu\\ABuMarketDrawing.py\", line 188, in plot_candle_stick\n",
      "    _do_plot_candle(date, p_open, high, low, close, volume, view_index, symbol, day_sum, save, minute)\n",
      "  File \"D:\\sean.chen\\trader\\abu\\abupy\\MarketBu\\ABuMarketDrawing.py\", line 257, in _do_plot_candle\n",
      "    import matplotlib.date as mdf\n",
      "ModuleNotFoundError: No module named 'matplotlib.date'\n"
     ]
    },
    {
     "name": "stdout",
     "output_type": "stream",
     "text": [
      "tw_TWSE:2330\n"
     ]
    },
    {
     "name": "stderr",
     "output_type": "stream",
     "text": [
      "No module named 'matplotlib.date'\n",
      "Traceback (most recent call last):\n",
      "  File \"D:\\sean.chen\\trader\\abu\\abupy\\MarketBu\\ABuMarketDrawing.py\", line 252, in _do_plot_candle\n",
      "    import matplotlib.date as mdf\n",
      "ModuleNotFoundError: No module named 'matplotlib.date'\n",
      "\n",
      "During handling of the above exception, another exception occurred:\n",
      "\n",
      "Traceback (most recent call last):\n",
      "  File \"D:\\sean.chen\\trader\\abu\\abupy\\MarketBu\\ABuMarketDrawing.py\", line 92, in plot_from_series\n",
      "    view_index=view_index_inner, save=save)\n",
      "  File \"D:\\sean.chen\\trader\\abu\\abupy\\MarketBu\\ABuMarketDrawing.py\", line 133, in plot_candle_from_symbol\n",
      "    plot_candle_form_klpd(kl_pd, day_sum, html_bk, view_index, save=save)\n",
      "  File \"D:\\sean.chen\\trader\\abu\\abupy\\MarketBu\\ABuMarketDrawing.py\", line 166, in plot_candle_form_klpd\n",
      "    fn, day_sum, html_bk, save)\n",
      "  File \"D:\\sean.chen\\trader\\abu\\abupy\\MarketBu\\ABuMarketDrawing.py\", line 188, in plot_candle_stick\n",
      "    _do_plot_candle(date, p_open, high, low, close, volume, view_index, symbol, day_sum, save, minute)\n",
      "  File \"D:\\sean.chen\\trader\\abu\\abupy\\MarketBu\\ABuMarketDrawing.py\", line 257, in _do_plot_candle\n",
      "    import matplotlib.date as mdf\n",
      "ModuleNotFoundError: No module named 'matplotlib.date'\n"
     ]
    },
    {
     "name": "stdout",
     "output_type": "stream",
     "text": [
      "tw_TWSE:2330\n"
     ]
    },
    {
     "name": "stderr",
     "output_type": "stream",
     "text": [
      "No module named 'matplotlib.date'\n",
      "Traceback (most recent call last):\n",
      "  File \"D:\\sean.chen\\trader\\abu\\abupy\\MarketBu\\ABuMarketDrawing.py\", line 252, in _do_plot_candle\n",
      "    import matplotlib.date as mdf\n",
      "ModuleNotFoundError: No module named 'matplotlib.date'\n",
      "\n",
      "During handling of the above exception, another exception occurred:\n",
      "\n",
      "Traceback (most recent call last):\n",
      "  File \"D:\\sean.chen\\trader\\abu\\abupy\\MarketBu\\ABuMarketDrawing.py\", line 92, in plot_from_series\n",
      "    view_index=view_index_inner, save=save)\n",
      "  File \"D:\\sean.chen\\trader\\abu\\abupy\\MarketBu\\ABuMarketDrawing.py\", line 133, in plot_candle_from_symbol\n",
      "    plot_candle_form_klpd(kl_pd, day_sum, html_bk, view_index, save=save)\n",
      "  File \"D:\\sean.chen\\trader\\abu\\abupy\\MarketBu\\ABuMarketDrawing.py\", line 166, in plot_candle_form_klpd\n",
      "    fn, day_sum, html_bk, save)\n",
      "  File \"D:\\sean.chen\\trader\\abu\\abupy\\MarketBu\\ABuMarketDrawing.py\", line 188, in plot_candle_stick\n",
      "    _do_plot_candle(date, p_open, high, low, close, volume, view_index, symbol, day_sum, save, minute)\n",
      "  File \"D:\\sean.chen\\trader\\abu\\abupy\\MarketBu\\ABuMarketDrawing.py\", line 257, in _do_plot_candle\n",
      "    import matplotlib.date as mdf\n",
      "ModuleNotFoundError: No module named 'matplotlib.date'\n"
     ]
    },
    {
     "name": "stdout",
     "output_type": "stream",
     "text": [
      "tw_TWSE:2330\n"
     ]
    },
    {
     "name": "stderr",
     "output_type": "stream",
     "text": [
      "No module named 'matplotlib.date'\n",
      "Traceback (most recent call last):\n",
      "  File \"D:\\sean.chen\\trader\\abu\\abupy\\MarketBu\\ABuMarketDrawing.py\", line 252, in _do_plot_candle\n",
      "    import matplotlib.date as mdf\n",
      "ModuleNotFoundError: No module named 'matplotlib.date'\n",
      "\n",
      "During handling of the above exception, another exception occurred:\n",
      "\n",
      "Traceback (most recent call last):\n",
      "  File \"D:\\sean.chen\\trader\\abu\\abupy\\MarketBu\\ABuMarketDrawing.py\", line 92, in plot_from_series\n",
      "    view_index=view_index_inner, save=save)\n",
      "  File \"D:\\sean.chen\\trader\\abu\\abupy\\MarketBu\\ABuMarketDrawing.py\", line 133, in plot_candle_from_symbol\n",
      "    plot_candle_form_klpd(kl_pd, day_sum, html_bk, view_index, save=save)\n",
      "  File \"D:\\sean.chen\\trader\\abu\\abupy\\MarketBu\\ABuMarketDrawing.py\", line 166, in plot_candle_form_klpd\n",
      "    fn, day_sum, html_bk, save)\n",
      "  File \"D:\\sean.chen\\trader\\abu\\abupy\\MarketBu\\ABuMarketDrawing.py\", line 188, in plot_candle_stick\n",
      "    _do_plot_candle(date, p_open, high, low, close, volume, view_index, symbol, day_sum, save, minute)\n",
      "  File \"D:\\sean.chen\\trader\\abu\\abupy\\MarketBu\\ABuMarketDrawing.py\", line 257, in _do_plot_candle\n",
      "    import matplotlib.date as mdf\n",
      "ModuleNotFoundError: No module named 'matplotlib.date'\n"
     ]
    },
    {
     "name": "stdout",
     "output_type": "stream",
     "text": [
      "tw_TWSE:2330\n"
     ]
    },
    {
     "name": "stderr",
     "output_type": "stream",
     "text": [
      "No module named 'matplotlib.date'\n",
      "Traceback (most recent call last):\n",
      "  File \"D:\\sean.chen\\trader\\abu\\abupy\\MarketBu\\ABuMarketDrawing.py\", line 252, in _do_plot_candle\n",
      "    import matplotlib.date as mdf\n",
      "ModuleNotFoundError: No module named 'matplotlib.date'\n",
      "\n",
      "During handling of the above exception, another exception occurred:\n",
      "\n",
      "Traceback (most recent call last):\n",
      "  File \"D:\\sean.chen\\trader\\abu\\abupy\\MarketBu\\ABuMarketDrawing.py\", line 92, in plot_from_series\n",
      "    view_index=view_index_inner, save=save)\n",
      "  File \"D:\\sean.chen\\trader\\abu\\abupy\\MarketBu\\ABuMarketDrawing.py\", line 133, in plot_candle_from_symbol\n",
      "    plot_candle_form_klpd(kl_pd, day_sum, html_bk, view_index, save=save)\n",
      "  File \"D:\\sean.chen\\trader\\abu\\abupy\\MarketBu\\ABuMarketDrawing.py\", line 166, in plot_candle_form_klpd\n",
      "    fn, day_sum, html_bk, save)\n",
      "  File \"D:\\sean.chen\\trader\\abu\\abupy\\MarketBu\\ABuMarketDrawing.py\", line 188, in plot_candle_stick\n",
      "    _do_plot_candle(date, p_open, high, low, close, volume, view_index, symbol, day_sum, save, minute)\n",
      "  File \"D:\\sean.chen\\trader\\abu\\abupy\\MarketBu\\ABuMarketDrawing.py\", line 257, in _do_plot_candle\n",
      "    import matplotlib.date as mdf\n",
      "ModuleNotFoundError: No module named 'matplotlib.date'\n"
     ]
    },
    {
     "name": "stdout",
     "output_type": "stream",
     "text": [
      "tw_TWSE:2330\n"
     ]
    },
    {
     "name": "stderr",
     "output_type": "stream",
     "text": [
      "No module named 'matplotlib.date'\n",
      "Traceback (most recent call last):\n",
      "  File \"D:\\sean.chen\\trader\\abu\\abupy\\MarketBu\\ABuMarketDrawing.py\", line 252, in _do_plot_candle\n",
      "    import matplotlib.date as mdf\n",
      "ModuleNotFoundError: No module named 'matplotlib.date'\n",
      "\n",
      "During handling of the above exception, another exception occurred:\n",
      "\n",
      "Traceback (most recent call last):\n",
      "  File \"D:\\sean.chen\\trader\\abu\\abupy\\MarketBu\\ABuMarketDrawing.py\", line 92, in plot_from_series\n",
      "    view_index=view_index_inner, save=save)\n",
      "  File \"D:\\sean.chen\\trader\\abu\\abupy\\MarketBu\\ABuMarketDrawing.py\", line 133, in plot_candle_from_symbol\n",
      "    plot_candle_form_klpd(kl_pd, day_sum, html_bk, view_index, save=save)\n",
      "  File \"D:\\sean.chen\\trader\\abu\\abupy\\MarketBu\\ABuMarketDrawing.py\", line 166, in plot_candle_form_klpd\n",
      "    fn, day_sum, html_bk, save)\n",
      "  File \"D:\\sean.chen\\trader\\abu\\abupy\\MarketBu\\ABuMarketDrawing.py\", line 188, in plot_candle_stick\n",
      "    _do_plot_candle(date, p_open, high, low, close, volume, view_index, symbol, day_sum, save, minute)\n",
      "  File \"D:\\sean.chen\\trader\\abu\\abupy\\MarketBu\\ABuMarketDrawing.py\", line 257, in _do_plot_candle\n",
      "    import matplotlib.date as mdf\n",
      "ModuleNotFoundError: No module named 'matplotlib.date'\n"
     ]
    },
    {
     "name": "stdout",
     "output_type": "stream",
     "text": [
      "tw_TWSE:2330\n"
     ]
    },
    {
     "name": "stderr",
     "output_type": "stream",
     "text": [
      "No module named 'matplotlib.date'\n",
      "Traceback (most recent call last):\n",
      "  File \"D:\\sean.chen\\trader\\abu\\abupy\\MarketBu\\ABuMarketDrawing.py\", line 252, in _do_plot_candle\n",
      "    import matplotlib.date as mdf\n",
      "ModuleNotFoundError: No module named 'matplotlib.date'\n",
      "\n",
      "During handling of the above exception, another exception occurred:\n",
      "\n",
      "Traceback (most recent call last):\n",
      "  File \"D:\\sean.chen\\trader\\abu\\abupy\\MarketBu\\ABuMarketDrawing.py\", line 92, in plot_from_series\n",
      "    view_index=view_index_inner, save=save)\n",
      "  File \"D:\\sean.chen\\trader\\abu\\abupy\\MarketBu\\ABuMarketDrawing.py\", line 133, in plot_candle_from_symbol\n",
      "    plot_candle_form_klpd(kl_pd, day_sum, html_bk, view_index, save=save)\n",
      "  File \"D:\\sean.chen\\trader\\abu\\abupy\\MarketBu\\ABuMarketDrawing.py\", line 166, in plot_candle_form_klpd\n",
      "    fn, day_sum, html_bk, save)\n",
      "  File \"D:\\sean.chen\\trader\\abu\\abupy\\MarketBu\\ABuMarketDrawing.py\", line 188, in plot_candle_stick\n",
      "    _do_plot_candle(date, p_open, high, low, close, volume, view_index, symbol, day_sum, save, minute)\n",
      "  File \"D:\\sean.chen\\trader\\abu\\abupy\\MarketBu\\ABuMarketDrawing.py\", line 257, in _do_plot_candle\n",
      "    import matplotlib.date as mdf\n",
      "ModuleNotFoundError: No module named 'matplotlib.date'\n"
     ]
    },
    {
     "name": "stdout",
     "output_type": "stream",
     "text": [
      "tw_TWSE:2330\n"
     ]
    },
    {
     "name": "stderr",
     "output_type": "stream",
     "text": [
      "No module named 'matplotlib.date'\n",
      "Traceback (most recent call last):\n",
      "  File \"D:\\sean.chen\\trader\\abu\\abupy\\MarketBu\\ABuMarketDrawing.py\", line 252, in _do_plot_candle\n",
      "    import matplotlib.date as mdf\n",
      "ModuleNotFoundError: No module named 'matplotlib.date'\n",
      "\n",
      "During handling of the above exception, another exception occurred:\n",
      "\n",
      "Traceback (most recent call last):\n",
      "  File \"D:\\sean.chen\\trader\\abu\\abupy\\MarketBu\\ABuMarketDrawing.py\", line 92, in plot_from_series\n",
      "    view_index=view_index_inner, save=save)\n",
      "  File \"D:\\sean.chen\\trader\\abu\\abupy\\MarketBu\\ABuMarketDrawing.py\", line 133, in plot_candle_from_symbol\n",
      "    plot_candle_form_klpd(kl_pd, day_sum, html_bk, view_index, save=save)\n",
      "  File \"D:\\sean.chen\\trader\\abu\\abupy\\MarketBu\\ABuMarketDrawing.py\", line 166, in plot_candle_form_klpd\n",
      "    fn, day_sum, html_bk, save)\n",
      "  File \"D:\\sean.chen\\trader\\abu\\abupy\\MarketBu\\ABuMarketDrawing.py\", line 188, in plot_candle_stick\n",
      "    _do_plot_candle(date, p_open, high, low, close, volume, view_index, symbol, day_sum, save, minute)\n",
      "  File \"D:\\sean.chen\\trader\\abu\\abupy\\MarketBu\\ABuMarketDrawing.py\", line 257, in _do_plot_candle\n",
      "    import matplotlib.date as mdf\n",
      "ModuleNotFoundError: No module named 'matplotlib.date'\n"
     ]
    },
    {
     "name": "stdout",
     "output_type": "stream",
     "text": [
      "tw_TWSE:2330\n"
     ]
    },
    {
     "name": "stderr",
     "output_type": "stream",
     "text": [
      "No module named 'matplotlib.date'\n",
      "Traceback (most recent call last):\n",
      "  File \"D:\\sean.chen\\trader\\abu\\abupy\\MarketBu\\ABuMarketDrawing.py\", line 252, in _do_plot_candle\n",
      "    import matplotlib.date as mdf\n",
      "ModuleNotFoundError: No module named 'matplotlib.date'\n",
      "\n",
      "During handling of the above exception, another exception occurred:\n",
      "\n",
      "Traceback (most recent call last):\n",
      "  File \"D:\\sean.chen\\trader\\abu\\abupy\\MarketBu\\ABuMarketDrawing.py\", line 92, in plot_from_series\n",
      "    view_index=view_index_inner, save=save)\n",
      "  File \"D:\\sean.chen\\trader\\abu\\abupy\\MarketBu\\ABuMarketDrawing.py\", line 133, in plot_candle_from_symbol\n",
      "    plot_candle_form_klpd(kl_pd, day_sum, html_bk, view_index, save=save)\n",
      "  File \"D:\\sean.chen\\trader\\abu\\abupy\\MarketBu\\ABuMarketDrawing.py\", line 166, in plot_candle_form_klpd\n",
      "    fn, day_sum, html_bk, save)\n",
      "  File \"D:\\sean.chen\\trader\\abu\\abupy\\MarketBu\\ABuMarketDrawing.py\", line 188, in plot_candle_stick\n",
      "    _do_plot_candle(date, p_open, high, low, close, volume, view_index, symbol, day_sum, save, minute)\n",
      "  File \"D:\\sean.chen\\trader\\abu\\abupy\\MarketBu\\ABuMarketDrawing.py\", line 257, in _do_plot_candle\n",
      "    import matplotlib.date as mdf\n",
      "ModuleNotFoundError: No module named 'matplotlib.date'\n"
     ]
    },
    {
     "name": "stdout",
     "output_type": "stream",
     "text": [
      "tw_TWSE:2330\n"
     ]
    },
    {
     "name": "stderr",
     "output_type": "stream",
     "text": [
      "No module named 'matplotlib.date'\n",
      "Traceback (most recent call last):\n",
      "  File \"D:\\sean.chen\\trader\\abu\\abupy\\MarketBu\\ABuMarketDrawing.py\", line 252, in _do_plot_candle\n",
      "    import matplotlib.date as mdf\n",
      "ModuleNotFoundError: No module named 'matplotlib.date'\n",
      "\n",
      "During handling of the above exception, another exception occurred:\n",
      "\n",
      "Traceback (most recent call last):\n",
      "  File \"D:\\sean.chen\\trader\\abu\\abupy\\MarketBu\\ABuMarketDrawing.py\", line 92, in plot_from_series\n",
      "    view_index=view_index_inner, save=save)\n",
      "  File \"D:\\sean.chen\\trader\\abu\\abupy\\MarketBu\\ABuMarketDrawing.py\", line 133, in plot_candle_from_symbol\n",
      "    plot_candle_form_klpd(kl_pd, day_sum, html_bk, view_index, save=save)\n",
      "  File \"D:\\sean.chen\\trader\\abu\\abupy\\MarketBu\\ABuMarketDrawing.py\", line 166, in plot_candle_form_klpd\n",
      "    fn, day_sum, html_bk, save)\n",
      "  File \"D:\\sean.chen\\trader\\abu\\abupy\\MarketBu\\ABuMarketDrawing.py\", line 188, in plot_candle_stick\n",
      "    _do_plot_candle(date, p_open, high, low, close, volume, view_index, symbol, day_sum, save, minute)\n",
      "  File \"D:\\sean.chen\\trader\\abu\\abupy\\MarketBu\\ABuMarketDrawing.py\", line 257, in _do_plot_candle\n",
      "    import matplotlib.date as mdf\n",
      "ModuleNotFoundError: No module named 'matplotlib.date'\n"
     ]
    },
    {
     "name": "stdout",
     "output_type": "stream",
     "text": [
      "tw_TWSE:2330\n"
     ]
    },
    {
     "name": "stderr",
     "output_type": "stream",
     "text": [
      "No module named 'matplotlib.date'\n",
      "Traceback (most recent call last):\n",
      "  File \"D:\\sean.chen\\trader\\abu\\abupy\\MarketBu\\ABuMarketDrawing.py\", line 252, in _do_plot_candle\n",
      "    import matplotlib.date as mdf\n",
      "ModuleNotFoundError: No module named 'matplotlib.date'\n",
      "\n",
      "During handling of the above exception, another exception occurred:\n",
      "\n",
      "Traceback (most recent call last):\n",
      "  File \"D:\\sean.chen\\trader\\abu\\abupy\\MarketBu\\ABuMarketDrawing.py\", line 92, in plot_from_series\n",
      "    view_index=view_index_inner, save=save)\n",
      "  File \"D:\\sean.chen\\trader\\abu\\abupy\\MarketBu\\ABuMarketDrawing.py\", line 133, in plot_candle_from_symbol\n",
      "    plot_candle_form_klpd(kl_pd, day_sum, html_bk, view_index, save=save)\n",
      "  File \"D:\\sean.chen\\trader\\abu\\abupy\\MarketBu\\ABuMarketDrawing.py\", line 166, in plot_candle_form_klpd\n",
      "    fn, day_sum, html_bk, save)\n",
      "  File \"D:\\sean.chen\\trader\\abu\\abupy\\MarketBu\\ABuMarketDrawing.py\", line 188, in plot_candle_stick\n",
      "    _do_plot_candle(date, p_open, high, low, close, volume, view_index, symbol, day_sum, save, minute)\n",
      "  File \"D:\\sean.chen\\trader\\abu\\abupy\\MarketBu\\ABuMarketDrawing.py\", line 257, in _do_plot_candle\n",
      "    import matplotlib.date as mdf\n",
      "ModuleNotFoundError: No module named 'matplotlib.date'\n"
     ]
    },
    {
     "name": "stdout",
     "output_type": "stream",
     "text": [
      "tw_TWSE:2330\n"
     ]
    },
    {
     "name": "stderr",
     "output_type": "stream",
     "text": [
      "No module named 'matplotlib.date'\n",
      "Traceback (most recent call last):\n",
      "  File \"D:\\sean.chen\\trader\\abu\\abupy\\MarketBu\\ABuMarketDrawing.py\", line 252, in _do_plot_candle\n",
      "    import matplotlib.date as mdf\n",
      "ModuleNotFoundError: No module named 'matplotlib.date'\n",
      "\n",
      "During handling of the above exception, another exception occurred:\n",
      "\n",
      "Traceback (most recent call last):\n",
      "  File \"D:\\sean.chen\\trader\\abu\\abupy\\MarketBu\\ABuMarketDrawing.py\", line 92, in plot_from_series\n",
      "    view_index=view_index_inner, save=save)\n",
      "  File \"D:\\sean.chen\\trader\\abu\\abupy\\MarketBu\\ABuMarketDrawing.py\", line 133, in plot_candle_from_symbol\n",
      "    plot_candle_form_klpd(kl_pd, day_sum, html_bk, view_index, save=save)\n",
      "  File \"D:\\sean.chen\\trader\\abu\\abupy\\MarketBu\\ABuMarketDrawing.py\", line 166, in plot_candle_form_klpd\n",
      "    fn, day_sum, html_bk, save)\n",
      "  File \"D:\\sean.chen\\trader\\abu\\abupy\\MarketBu\\ABuMarketDrawing.py\", line 188, in plot_candle_stick\n",
      "    _do_plot_candle(date, p_open, high, low, close, volume, view_index, symbol, day_sum, save, minute)\n",
      "  File \"D:\\sean.chen\\trader\\abu\\abupy\\MarketBu\\ABuMarketDrawing.py\", line 257, in _do_plot_candle\n",
      "    import matplotlib.date as mdf\n",
      "ModuleNotFoundError: No module named 'matplotlib.date'\n"
     ]
    },
    {
     "name": "stdout",
     "output_type": "stream",
     "text": [
      "tw_TWSE:2330\n"
     ]
    },
    {
     "name": "stderr",
     "output_type": "stream",
     "text": [
      "No module named 'matplotlib.date'\n",
      "Traceback (most recent call last):\n",
      "  File \"D:\\sean.chen\\trader\\abu\\abupy\\MarketBu\\ABuMarketDrawing.py\", line 252, in _do_plot_candle\n",
      "    import matplotlib.date as mdf\n",
      "ModuleNotFoundError: No module named 'matplotlib.date'\n",
      "\n",
      "During handling of the above exception, another exception occurred:\n",
      "\n",
      "Traceback (most recent call last):\n",
      "  File \"D:\\sean.chen\\trader\\abu\\abupy\\MarketBu\\ABuMarketDrawing.py\", line 92, in plot_from_series\n",
      "    view_index=view_index_inner, save=save)\n",
      "  File \"D:\\sean.chen\\trader\\abu\\abupy\\MarketBu\\ABuMarketDrawing.py\", line 133, in plot_candle_from_symbol\n",
      "    plot_candle_form_klpd(kl_pd, day_sum, html_bk, view_index, save=save)\n",
      "  File \"D:\\sean.chen\\trader\\abu\\abupy\\MarketBu\\ABuMarketDrawing.py\", line 166, in plot_candle_form_klpd\n",
      "    fn, day_sum, html_bk, save)\n",
      "  File \"D:\\sean.chen\\trader\\abu\\abupy\\MarketBu\\ABuMarketDrawing.py\", line 188, in plot_candle_stick\n",
      "    _do_plot_candle(date, p_open, high, low, close, volume, view_index, symbol, day_sum, save, minute)\n",
      "  File \"D:\\sean.chen\\trader\\abu\\abupy\\MarketBu\\ABuMarketDrawing.py\", line 257, in _do_plot_candle\n",
      "    import matplotlib.date as mdf\n",
      "ModuleNotFoundError: No module named 'matplotlib.date'\n"
     ]
    },
    {
     "name": "stdout",
     "output_type": "stream",
     "text": [
      "tw_TWSE:2330\n"
     ]
    },
    {
     "name": "stderr",
     "output_type": "stream",
     "text": [
      "No module named 'matplotlib.date'\n",
      "Traceback (most recent call last):\n",
      "  File \"D:\\sean.chen\\trader\\abu\\abupy\\MarketBu\\ABuMarketDrawing.py\", line 252, in _do_plot_candle\n",
      "    import matplotlib.date as mdf\n",
      "ModuleNotFoundError: No module named 'matplotlib.date'\n",
      "\n",
      "During handling of the above exception, another exception occurred:\n",
      "\n",
      "Traceback (most recent call last):\n",
      "  File \"D:\\sean.chen\\trader\\abu\\abupy\\MarketBu\\ABuMarketDrawing.py\", line 92, in plot_from_series\n",
      "    view_index=view_index_inner, save=save)\n",
      "  File \"D:\\sean.chen\\trader\\abu\\abupy\\MarketBu\\ABuMarketDrawing.py\", line 133, in plot_candle_from_symbol\n",
      "    plot_candle_form_klpd(kl_pd, day_sum, html_bk, view_index, save=save)\n",
      "  File \"D:\\sean.chen\\trader\\abu\\abupy\\MarketBu\\ABuMarketDrawing.py\", line 166, in plot_candle_form_klpd\n",
      "    fn, day_sum, html_bk, save)\n",
      "  File \"D:\\sean.chen\\trader\\abu\\abupy\\MarketBu\\ABuMarketDrawing.py\", line 188, in plot_candle_stick\n",
      "    _do_plot_candle(date, p_open, high, low, close, volume, view_index, symbol, day_sum, save, minute)\n",
      "  File \"D:\\sean.chen\\trader\\abu\\abupy\\MarketBu\\ABuMarketDrawing.py\", line 257, in _do_plot_candle\n",
      "    import matplotlib.date as mdf\n",
      "ModuleNotFoundError: No module named 'matplotlib.date'\n"
     ]
    },
    {
     "name": "stdout",
     "output_type": "stream",
     "text": [
      "tw_TWSE:2330\n"
     ]
    },
    {
     "name": "stderr",
     "output_type": "stream",
     "text": [
      "No module named 'matplotlib.date'\n",
      "Traceback (most recent call last):\n",
      "  File \"D:\\sean.chen\\trader\\abu\\abupy\\MarketBu\\ABuMarketDrawing.py\", line 252, in _do_plot_candle\n",
      "    import matplotlib.date as mdf\n",
      "ModuleNotFoundError: No module named 'matplotlib.date'\n",
      "\n",
      "During handling of the above exception, another exception occurred:\n",
      "\n",
      "Traceback (most recent call last):\n",
      "  File \"D:\\sean.chen\\trader\\abu\\abupy\\MarketBu\\ABuMarketDrawing.py\", line 92, in plot_from_series\n",
      "    view_index=view_index_inner, save=save)\n",
      "  File \"D:\\sean.chen\\trader\\abu\\abupy\\MarketBu\\ABuMarketDrawing.py\", line 133, in plot_candle_from_symbol\n",
      "    plot_candle_form_klpd(kl_pd, day_sum, html_bk, view_index, save=save)\n",
      "  File \"D:\\sean.chen\\trader\\abu\\abupy\\MarketBu\\ABuMarketDrawing.py\", line 166, in plot_candle_form_klpd\n",
      "    fn, day_sum, html_bk, save)\n",
      "  File \"D:\\sean.chen\\trader\\abu\\abupy\\MarketBu\\ABuMarketDrawing.py\", line 188, in plot_candle_stick\n",
      "    _do_plot_candle(date, p_open, high, low, close, volume, view_index, symbol, day_sum, save, minute)\n",
      "  File \"D:\\sean.chen\\trader\\abu\\abupy\\MarketBu\\ABuMarketDrawing.py\", line 257, in _do_plot_candle\n",
      "    import matplotlib.date as mdf\n",
      "ModuleNotFoundError: No module named 'matplotlib.date'\n"
     ]
    },
    {
     "name": "stdout",
     "output_type": "stream",
     "text": [
      "tw_TWSE:2330\n"
     ]
    },
    {
     "name": "stderr",
     "output_type": "stream",
     "text": [
      "No module named 'matplotlib.date'\n",
      "Traceback (most recent call last):\n",
      "  File \"D:\\sean.chen\\trader\\abu\\abupy\\MarketBu\\ABuMarketDrawing.py\", line 252, in _do_plot_candle\n",
      "    import matplotlib.date as mdf\n",
      "ModuleNotFoundError: No module named 'matplotlib.date'\n",
      "\n",
      "During handling of the above exception, another exception occurred:\n",
      "\n",
      "Traceback (most recent call last):\n",
      "  File \"D:\\sean.chen\\trader\\abu\\abupy\\MarketBu\\ABuMarketDrawing.py\", line 92, in plot_from_series\n",
      "    view_index=view_index_inner, save=save)\n",
      "  File \"D:\\sean.chen\\trader\\abu\\abupy\\MarketBu\\ABuMarketDrawing.py\", line 133, in plot_candle_from_symbol\n",
      "    plot_candle_form_klpd(kl_pd, day_sum, html_bk, view_index, save=save)\n",
      "  File \"D:\\sean.chen\\trader\\abu\\abupy\\MarketBu\\ABuMarketDrawing.py\", line 166, in plot_candle_form_klpd\n",
      "    fn, day_sum, html_bk, save)\n",
      "  File \"D:\\sean.chen\\trader\\abu\\abupy\\MarketBu\\ABuMarketDrawing.py\", line 188, in plot_candle_stick\n",
      "    _do_plot_candle(date, p_open, high, low, close, volume, view_index, symbol, day_sum, save, minute)\n",
      "  File \"D:\\sean.chen\\trader\\abu\\abupy\\MarketBu\\ABuMarketDrawing.py\", line 257, in _do_plot_candle\n",
      "    import matplotlib.date as mdf\n",
      "ModuleNotFoundError: No module named 'matplotlib.date'\n"
     ]
    },
    {
     "name": "stdout",
     "output_type": "stream",
     "text": [
      "tw_TWSE:2330\n"
     ]
    },
    {
     "name": "stderr",
     "output_type": "stream",
     "text": [
      "No module named 'matplotlib.date'\n",
      "Traceback (most recent call last):\n",
      "  File \"D:\\sean.chen\\trader\\abu\\abupy\\MarketBu\\ABuMarketDrawing.py\", line 252, in _do_plot_candle\n",
      "    import matplotlib.date as mdf\n",
      "ModuleNotFoundError: No module named 'matplotlib.date'\n",
      "\n",
      "During handling of the above exception, another exception occurred:\n",
      "\n",
      "Traceback (most recent call last):\n",
      "  File \"D:\\sean.chen\\trader\\abu\\abupy\\MarketBu\\ABuMarketDrawing.py\", line 92, in plot_from_series\n",
      "    view_index=view_index_inner, save=save)\n",
      "  File \"D:\\sean.chen\\trader\\abu\\abupy\\MarketBu\\ABuMarketDrawing.py\", line 133, in plot_candle_from_symbol\n",
      "    plot_candle_form_klpd(kl_pd, day_sum, html_bk, view_index, save=save)\n",
      "  File \"D:\\sean.chen\\trader\\abu\\abupy\\MarketBu\\ABuMarketDrawing.py\", line 166, in plot_candle_form_klpd\n",
      "    fn, day_sum, html_bk, save)\n",
      "  File \"D:\\sean.chen\\trader\\abu\\abupy\\MarketBu\\ABuMarketDrawing.py\", line 188, in plot_candle_stick\n",
      "    _do_plot_candle(date, p_open, high, low, close, volume, view_index, symbol, day_sum, save, minute)\n",
      "  File \"D:\\sean.chen\\trader\\abu\\abupy\\MarketBu\\ABuMarketDrawing.py\", line 257, in _do_plot_candle\n",
      "    import matplotlib.date as mdf\n",
      "ModuleNotFoundError: No module named 'matplotlib.date'\n"
     ]
    },
    {
     "name": "stdout",
     "output_type": "stream",
     "text": [
      "tw_TWSE:2330\n"
     ]
    },
    {
     "name": "stderr",
     "output_type": "stream",
     "text": [
      "No module named 'matplotlib.date'\n",
      "Traceback (most recent call last):\n",
      "  File \"D:\\sean.chen\\trader\\abu\\abupy\\MarketBu\\ABuMarketDrawing.py\", line 252, in _do_plot_candle\n",
      "    import matplotlib.date as mdf\n",
      "ModuleNotFoundError: No module named 'matplotlib.date'\n",
      "\n",
      "During handling of the above exception, another exception occurred:\n",
      "\n",
      "Traceback (most recent call last):\n",
      "  File \"D:\\sean.chen\\trader\\abu\\abupy\\MarketBu\\ABuMarketDrawing.py\", line 92, in plot_from_series\n",
      "    view_index=view_index_inner, save=save)\n",
      "  File \"D:\\sean.chen\\trader\\abu\\abupy\\MarketBu\\ABuMarketDrawing.py\", line 133, in plot_candle_from_symbol\n",
      "    plot_candle_form_klpd(kl_pd, day_sum, html_bk, view_index, save=save)\n",
      "  File \"D:\\sean.chen\\trader\\abu\\abupy\\MarketBu\\ABuMarketDrawing.py\", line 166, in plot_candle_form_klpd\n",
      "    fn, day_sum, html_bk, save)\n",
      "  File \"D:\\sean.chen\\trader\\abu\\abupy\\MarketBu\\ABuMarketDrawing.py\", line 188, in plot_candle_stick\n",
      "    _do_plot_candle(date, p_open, high, low, close, volume, view_index, symbol, day_sum, save, minute)\n",
      "  File \"D:\\sean.chen\\trader\\abu\\abupy\\MarketBu\\ABuMarketDrawing.py\", line 257, in _do_plot_candle\n",
      "    import matplotlib.date as mdf\n",
      "ModuleNotFoundError: No module named 'matplotlib.date'\n"
     ]
    },
    {
     "name": "stdout",
     "output_type": "stream",
     "text": [
      "tw_TWSE:2330\n"
     ]
    },
    {
     "name": "stderr",
     "output_type": "stream",
     "text": [
      "No module named 'matplotlib.date'\n",
      "Traceback (most recent call last):\n",
      "  File \"D:\\sean.chen\\trader\\abu\\abupy\\MarketBu\\ABuMarketDrawing.py\", line 252, in _do_plot_candle\n",
      "    import matplotlib.date as mdf\n",
      "ModuleNotFoundError: No module named 'matplotlib.date'\n",
      "\n",
      "During handling of the above exception, another exception occurred:\n",
      "\n",
      "Traceback (most recent call last):\n",
      "  File \"D:\\sean.chen\\trader\\abu\\abupy\\MarketBu\\ABuMarketDrawing.py\", line 92, in plot_from_series\n",
      "    view_index=view_index_inner, save=save)\n",
      "  File \"D:\\sean.chen\\trader\\abu\\abupy\\MarketBu\\ABuMarketDrawing.py\", line 133, in plot_candle_from_symbol\n",
      "    plot_candle_form_klpd(kl_pd, day_sum, html_bk, view_index, save=save)\n",
      "  File \"D:\\sean.chen\\trader\\abu\\abupy\\MarketBu\\ABuMarketDrawing.py\", line 166, in plot_candle_form_klpd\n",
      "    fn, day_sum, html_bk, save)\n",
      "  File \"D:\\sean.chen\\trader\\abu\\abupy\\MarketBu\\ABuMarketDrawing.py\", line 188, in plot_candle_stick\n",
      "    _do_plot_candle(date, p_open, high, low, close, volume, view_index, symbol, day_sum, save, minute)\n",
      "  File \"D:\\sean.chen\\trader\\abu\\abupy\\MarketBu\\ABuMarketDrawing.py\", line 257, in _do_plot_candle\n",
      "    import matplotlib.date as mdf\n",
      "ModuleNotFoundError: No module named 'matplotlib.date'\n"
     ]
    },
    {
     "name": "stdout",
     "output_type": "stream",
     "text": [
      "tw_TWSE:2330\n"
     ]
    },
    {
     "name": "stderr",
     "output_type": "stream",
     "text": [
      "No module named 'matplotlib.date'\n",
      "Traceback (most recent call last):\n",
      "  File \"D:\\sean.chen\\trader\\abu\\abupy\\MarketBu\\ABuMarketDrawing.py\", line 252, in _do_plot_candle\n",
      "    import matplotlib.date as mdf\n",
      "ModuleNotFoundError: No module named 'matplotlib.date'\n",
      "\n",
      "During handling of the above exception, another exception occurred:\n",
      "\n",
      "Traceback (most recent call last):\n",
      "  File \"D:\\sean.chen\\trader\\abu\\abupy\\MarketBu\\ABuMarketDrawing.py\", line 92, in plot_from_series\n",
      "    view_index=view_index_inner, save=save)\n",
      "  File \"D:\\sean.chen\\trader\\abu\\abupy\\MarketBu\\ABuMarketDrawing.py\", line 133, in plot_candle_from_symbol\n",
      "    plot_candle_form_klpd(kl_pd, day_sum, html_bk, view_index, save=save)\n",
      "  File \"D:\\sean.chen\\trader\\abu\\abupy\\MarketBu\\ABuMarketDrawing.py\", line 166, in plot_candle_form_klpd\n",
      "    fn, day_sum, html_bk, save)\n",
      "  File \"D:\\sean.chen\\trader\\abu\\abupy\\MarketBu\\ABuMarketDrawing.py\", line 188, in plot_candle_stick\n",
      "    _do_plot_candle(date, p_open, high, low, close, volume, view_index, symbol, day_sum, save, minute)\n",
      "  File \"D:\\sean.chen\\trader\\abu\\abupy\\MarketBu\\ABuMarketDrawing.py\", line 257, in _do_plot_candle\n",
      "    import matplotlib.date as mdf\n",
      "ModuleNotFoundError: No module named 'matplotlib.date'\n"
     ]
    },
    {
     "name": "stdout",
     "output_type": "stream",
     "text": [
      "tw_TWSE:2330\n"
     ]
    },
    {
     "name": "stderr",
     "output_type": "stream",
     "text": [
      "No module named 'matplotlib.date'\n",
      "Traceback (most recent call last):\n",
      "  File \"D:\\sean.chen\\trader\\abu\\abupy\\MarketBu\\ABuMarketDrawing.py\", line 252, in _do_plot_candle\n",
      "    import matplotlib.date as mdf\n",
      "ModuleNotFoundError: No module named 'matplotlib.date'\n",
      "\n",
      "During handling of the above exception, another exception occurred:\n",
      "\n",
      "Traceback (most recent call last):\n",
      "  File \"D:\\sean.chen\\trader\\abu\\abupy\\MarketBu\\ABuMarketDrawing.py\", line 92, in plot_from_series\n",
      "    view_index=view_index_inner, save=save)\n",
      "  File \"D:\\sean.chen\\trader\\abu\\abupy\\MarketBu\\ABuMarketDrawing.py\", line 133, in plot_candle_from_symbol\n",
      "    plot_candle_form_klpd(kl_pd, day_sum, html_bk, view_index, save=save)\n",
      "  File \"D:\\sean.chen\\trader\\abu\\abupy\\MarketBu\\ABuMarketDrawing.py\", line 166, in plot_candle_form_klpd\n",
      "    fn, day_sum, html_bk, save)\n",
      "  File \"D:\\sean.chen\\trader\\abu\\abupy\\MarketBu\\ABuMarketDrawing.py\", line 188, in plot_candle_stick\n",
      "    _do_plot_candle(date, p_open, high, low, close, volume, view_index, symbol, day_sum, save, minute)\n",
      "  File \"D:\\sean.chen\\trader\\abu\\abupy\\MarketBu\\ABuMarketDrawing.py\", line 257, in _do_plot_candle\n",
      "    import matplotlib.date as mdf\n",
      "ModuleNotFoundError: No module named 'matplotlib.date'\n"
     ]
    },
    {
     "name": "stdout",
     "output_type": "stream",
     "text": [
      "tw_TWSE:2330\n"
     ]
    },
    {
     "name": "stderr",
     "output_type": "stream",
     "text": [
      "No module named 'matplotlib.date'\n",
      "Traceback (most recent call last):\n",
      "  File \"D:\\sean.chen\\trader\\abu\\abupy\\MarketBu\\ABuMarketDrawing.py\", line 252, in _do_plot_candle\n",
      "    import matplotlib.date as mdf\n",
      "ModuleNotFoundError: No module named 'matplotlib.date'\n",
      "\n",
      "During handling of the above exception, another exception occurred:\n",
      "\n",
      "Traceback (most recent call last):\n",
      "  File \"D:\\sean.chen\\trader\\abu\\abupy\\MarketBu\\ABuMarketDrawing.py\", line 92, in plot_from_series\n",
      "    view_index=view_index_inner, save=save)\n",
      "  File \"D:\\sean.chen\\trader\\abu\\abupy\\MarketBu\\ABuMarketDrawing.py\", line 133, in plot_candle_from_symbol\n",
      "    plot_candle_form_klpd(kl_pd, day_sum, html_bk, view_index, save=save)\n",
      "  File \"D:\\sean.chen\\trader\\abu\\abupy\\MarketBu\\ABuMarketDrawing.py\", line 166, in plot_candle_form_klpd\n",
      "    fn, day_sum, html_bk, save)\n",
      "  File \"D:\\sean.chen\\trader\\abu\\abupy\\MarketBu\\ABuMarketDrawing.py\", line 188, in plot_candle_stick\n",
      "    _do_plot_candle(date, p_open, high, low, close, volume, view_index, symbol, day_sum, save, minute)\n",
      "  File \"D:\\sean.chen\\trader\\abu\\abupy\\MarketBu\\ABuMarketDrawing.py\", line 257, in _do_plot_candle\n",
      "    import matplotlib.date as mdf\n",
      "ModuleNotFoundError: No module named 'matplotlib.date'\n"
     ]
    },
    {
     "name": "stdout",
     "output_type": "stream",
     "text": [
      "tw_TWSE:2330\n"
     ]
    },
    {
     "name": "stderr",
     "output_type": "stream",
     "text": [
      "No module named 'matplotlib.date'\n",
      "Traceback (most recent call last):\n",
      "  File \"D:\\sean.chen\\trader\\abu\\abupy\\MarketBu\\ABuMarketDrawing.py\", line 252, in _do_plot_candle\n",
      "    import matplotlib.date as mdf\n",
      "ModuleNotFoundError: No module named 'matplotlib.date'\n",
      "\n",
      "During handling of the above exception, another exception occurred:\n",
      "\n",
      "Traceback (most recent call last):\n",
      "  File \"D:\\sean.chen\\trader\\abu\\abupy\\MarketBu\\ABuMarketDrawing.py\", line 92, in plot_from_series\n",
      "    view_index=view_index_inner, save=save)\n",
      "  File \"D:\\sean.chen\\trader\\abu\\abupy\\MarketBu\\ABuMarketDrawing.py\", line 133, in plot_candle_from_symbol\n",
      "    plot_candle_form_klpd(kl_pd, day_sum, html_bk, view_index, save=save)\n",
      "  File \"D:\\sean.chen\\trader\\abu\\abupy\\MarketBu\\ABuMarketDrawing.py\", line 166, in plot_candle_form_klpd\n",
      "    fn, day_sum, html_bk, save)\n",
      "  File \"D:\\sean.chen\\trader\\abu\\abupy\\MarketBu\\ABuMarketDrawing.py\", line 188, in plot_candle_stick\n",
      "    _do_plot_candle(date, p_open, high, low, close, volume, view_index, symbol, day_sum, save, minute)\n",
      "  File \"D:\\sean.chen\\trader\\abu\\abupy\\MarketBu\\ABuMarketDrawing.py\", line 257, in _do_plot_candle\n",
      "    import matplotlib.date as mdf\n",
      "ModuleNotFoundError: No module named 'matplotlib.date'\n"
     ]
    },
    {
     "name": "stdout",
     "output_type": "stream",
     "text": [
      "tw_TWSE:2330\n"
     ]
    },
    {
     "name": "stderr",
     "output_type": "stream",
     "text": [
      "No module named 'matplotlib.date'\n",
      "Traceback (most recent call last):\n",
      "  File \"D:\\sean.chen\\trader\\abu\\abupy\\MarketBu\\ABuMarketDrawing.py\", line 252, in _do_plot_candle\n",
      "    import matplotlib.date as mdf\n",
      "ModuleNotFoundError: No module named 'matplotlib.date'\n",
      "\n",
      "During handling of the above exception, another exception occurred:\n",
      "\n",
      "Traceback (most recent call last):\n",
      "  File \"D:\\sean.chen\\trader\\abu\\abupy\\MarketBu\\ABuMarketDrawing.py\", line 92, in plot_from_series\n",
      "    view_index=view_index_inner, save=save)\n",
      "  File \"D:\\sean.chen\\trader\\abu\\abupy\\MarketBu\\ABuMarketDrawing.py\", line 133, in plot_candle_from_symbol\n",
      "    plot_candle_form_klpd(kl_pd, day_sum, html_bk, view_index, save=save)\n",
      "  File \"D:\\sean.chen\\trader\\abu\\abupy\\MarketBu\\ABuMarketDrawing.py\", line 166, in plot_candle_form_klpd\n",
      "    fn, day_sum, html_bk, save)\n",
      "  File \"D:\\sean.chen\\trader\\abu\\abupy\\MarketBu\\ABuMarketDrawing.py\", line 188, in plot_candle_stick\n",
      "    _do_plot_candle(date, p_open, high, low, close, volume, view_index, symbol, day_sum, save, minute)\n",
      "  File \"D:\\sean.chen\\trader\\abu\\abupy\\MarketBu\\ABuMarketDrawing.py\", line 257, in _do_plot_candle\n",
      "    import matplotlib.date as mdf\n",
      "ModuleNotFoundError: No module named 'matplotlib.date'\n"
     ]
    },
    {
     "name": "stdout",
     "output_type": "stream",
     "text": [
      "tw_TWSE:2330\n"
     ]
    },
    {
     "name": "stderr",
     "output_type": "stream",
     "text": [
      "No module named 'matplotlib.date'\n",
      "Traceback (most recent call last):\n",
      "  File \"D:\\sean.chen\\trader\\abu\\abupy\\MarketBu\\ABuMarketDrawing.py\", line 252, in _do_plot_candle\n",
      "    import matplotlib.date as mdf\n",
      "ModuleNotFoundError: No module named 'matplotlib.date'\n",
      "\n",
      "During handling of the above exception, another exception occurred:\n",
      "\n",
      "Traceback (most recent call last):\n",
      "  File \"D:\\sean.chen\\trader\\abu\\abupy\\MarketBu\\ABuMarketDrawing.py\", line 92, in plot_from_series\n",
      "    view_index=view_index_inner, save=save)\n",
      "  File \"D:\\sean.chen\\trader\\abu\\abupy\\MarketBu\\ABuMarketDrawing.py\", line 133, in plot_candle_from_symbol\n",
      "    plot_candle_form_klpd(kl_pd, day_sum, html_bk, view_index, save=save)\n",
      "  File \"D:\\sean.chen\\trader\\abu\\abupy\\MarketBu\\ABuMarketDrawing.py\", line 166, in plot_candle_form_klpd\n",
      "    fn, day_sum, html_bk, save)\n",
      "  File \"D:\\sean.chen\\trader\\abu\\abupy\\MarketBu\\ABuMarketDrawing.py\", line 188, in plot_candle_stick\n",
      "    _do_plot_candle(date, p_open, high, low, close, volume, view_index, symbol, day_sum, save, minute)\n",
      "  File \"D:\\sean.chen\\trader\\abu\\abupy\\MarketBu\\ABuMarketDrawing.py\", line 257, in _do_plot_candle\n",
      "    import matplotlib.date as mdf\n",
      "ModuleNotFoundError: No module named 'matplotlib.date'\n"
     ]
    },
    {
     "name": "stdout",
     "output_type": "stream",
     "text": [
      "tw_TWSE:2330\n"
     ]
    },
    {
     "name": "stderr",
     "output_type": "stream",
     "text": [
      "No module named 'matplotlib.date'\n",
      "Traceback (most recent call last):\n",
      "  File \"D:\\sean.chen\\trader\\abu\\abupy\\MarketBu\\ABuMarketDrawing.py\", line 252, in _do_plot_candle\n",
      "    import matplotlib.date as mdf\n",
      "ModuleNotFoundError: No module named 'matplotlib.date'\n",
      "\n",
      "During handling of the above exception, another exception occurred:\n",
      "\n",
      "Traceback (most recent call last):\n",
      "  File \"D:\\sean.chen\\trader\\abu\\abupy\\MarketBu\\ABuMarketDrawing.py\", line 92, in plot_from_series\n",
      "    view_index=view_index_inner, save=save)\n",
      "  File \"D:\\sean.chen\\trader\\abu\\abupy\\MarketBu\\ABuMarketDrawing.py\", line 133, in plot_candle_from_symbol\n",
      "    plot_candle_form_klpd(kl_pd, day_sum, html_bk, view_index, save=save)\n",
      "  File \"D:\\sean.chen\\trader\\abu\\abupy\\MarketBu\\ABuMarketDrawing.py\", line 166, in plot_candle_form_klpd\n",
      "    fn, day_sum, html_bk, save)\n",
      "  File \"D:\\sean.chen\\trader\\abu\\abupy\\MarketBu\\ABuMarketDrawing.py\", line 188, in plot_candle_stick\n",
      "    _do_plot_candle(date, p_open, high, low, close, volume, view_index, symbol, day_sum, save, minute)\n",
      "  File \"D:\\sean.chen\\trader\\abu\\abupy\\MarketBu\\ABuMarketDrawing.py\", line 257, in _do_plot_candle\n",
      "    import matplotlib.date as mdf\n",
      "ModuleNotFoundError: No module named 'matplotlib.date'\n"
     ]
    },
    {
     "name": "stdout",
     "output_type": "stream",
     "text": [
      "tw_TWSE:2330\n"
     ]
    },
    {
     "name": "stderr",
     "output_type": "stream",
     "text": [
      "No module named 'matplotlib.date'\n",
      "Traceback (most recent call last):\n",
      "  File \"D:\\sean.chen\\trader\\abu\\abupy\\MarketBu\\ABuMarketDrawing.py\", line 252, in _do_plot_candle\n",
      "    import matplotlib.date as mdf\n",
      "ModuleNotFoundError: No module named 'matplotlib.date'\n",
      "\n",
      "During handling of the above exception, another exception occurred:\n",
      "\n",
      "Traceback (most recent call last):\n",
      "  File \"D:\\sean.chen\\trader\\abu\\abupy\\MarketBu\\ABuMarketDrawing.py\", line 92, in plot_from_series\n",
      "    view_index=view_index_inner, save=save)\n",
      "  File \"D:\\sean.chen\\trader\\abu\\abupy\\MarketBu\\ABuMarketDrawing.py\", line 133, in plot_candle_from_symbol\n",
      "    plot_candle_form_klpd(kl_pd, day_sum, html_bk, view_index, save=save)\n",
      "  File \"D:\\sean.chen\\trader\\abu\\abupy\\MarketBu\\ABuMarketDrawing.py\", line 166, in plot_candle_form_klpd\n",
      "    fn, day_sum, html_bk, save)\n",
      "  File \"D:\\sean.chen\\trader\\abu\\abupy\\MarketBu\\ABuMarketDrawing.py\", line 188, in plot_candle_stick\n",
      "    _do_plot_candle(date, p_open, high, low, close, volume, view_index, symbol, day_sum, save, minute)\n",
      "  File \"D:\\sean.chen\\trader\\abu\\abupy\\MarketBu\\ABuMarketDrawing.py\", line 257, in _do_plot_candle\n",
      "    import matplotlib.date as mdf\n",
      "ModuleNotFoundError: No module named 'matplotlib.date'\n"
     ]
    },
    {
     "name": "stdout",
     "output_type": "stream",
     "text": [
      "tw_TWSE:2330\n"
     ]
    },
    {
     "name": "stderr",
     "output_type": "stream",
     "text": [
      "No module named 'matplotlib.date'\n",
      "Traceback (most recent call last):\n",
      "  File \"D:\\sean.chen\\trader\\abu\\abupy\\MarketBu\\ABuMarketDrawing.py\", line 252, in _do_plot_candle\n",
      "    import matplotlib.date as mdf\n",
      "ModuleNotFoundError: No module named 'matplotlib.date'\n",
      "\n",
      "During handling of the above exception, another exception occurred:\n",
      "\n",
      "Traceback (most recent call last):\n",
      "  File \"D:\\sean.chen\\trader\\abu\\abupy\\MarketBu\\ABuMarketDrawing.py\", line 92, in plot_from_series\n",
      "    view_index=view_index_inner, save=save)\n",
      "  File \"D:\\sean.chen\\trader\\abu\\abupy\\MarketBu\\ABuMarketDrawing.py\", line 133, in plot_candle_from_symbol\n",
      "    plot_candle_form_klpd(kl_pd, day_sum, html_bk, view_index, save=save)\n",
      "  File \"D:\\sean.chen\\trader\\abu\\abupy\\MarketBu\\ABuMarketDrawing.py\", line 166, in plot_candle_form_klpd\n",
      "    fn, day_sum, html_bk, save)\n",
      "  File \"D:\\sean.chen\\trader\\abu\\abupy\\MarketBu\\ABuMarketDrawing.py\", line 188, in plot_candle_stick\n",
      "    _do_plot_candle(date, p_open, high, low, close, volume, view_index, symbol, day_sum, save, minute)\n",
      "  File \"D:\\sean.chen\\trader\\abu\\abupy\\MarketBu\\ABuMarketDrawing.py\", line 257, in _do_plot_candle\n",
      "    import matplotlib.date as mdf\n",
      "ModuleNotFoundError: No module named 'matplotlib.date'\n"
     ]
    },
    {
     "name": "stdout",
     "output_type": "stream",
     "text": [
      "tw_TWSE:2330\n"
     ]
    },
    {
     "name": "stderr",
     "output_type": "stream",
     "text": [
      "No module named 'matplotlib.date'\n",
      "Traceback (most recent call last):\n",
      "  File \"D:\\sean.chen\\trader\\abu\\abupy\\MarketBu\\ABuMarketDrawing.py\", line 252, in _do_plot_candle\n",
      "    import matplotlib.date as mdf\n",
      "ModuleNotFoundError: No module named 'matplotlib.date'\n",
      "\n",
      "During handling of the above exception, another exception occurred:\n",
      "\n",
      "Traceback (most recent call last):\n",
      "  File \"D:\\sean.chen\\trader\\abu\\abupy\\MarketBu\\ABuMarketDrawing.py\", line 92, in plot_from_series\n",
      "    view_index=view_index_inner, save=save)\n",
      "  File \"D:\\sean.chen\\trader\\abu\\abupy\\MarketBu\\ABuMarketDrawing.py\", line 133, in plot_candle_from_symbol\n",
      "    plot_candle_form_klpd(kl_pd, day_sum, html_bk, view_index, save=save)\n",
      "  File \"D:\\sean.chen\\trader\\abu\\abupy\\MarketBu\\ABuMarketDrawing.py\", line 166, in plot_candle_form_klpd\n",
      "    fn, day_sum, html_bk, save)\n",
      "  File \"D:\\sean.chen\\trader\\abu\\abupy\\MarketBu\\ABuMarketDrawing.py\", line 188, in plot_candle_stick\n",
      "    _do_plot_candle(date, p_open, high, low, close, volume, view_index, symbol, day_sum, save, minute)\n",
      "  File \"D:\\sean.chen\\trader\\abu\\abupy\\MarketBu\\ABuMarketDrawing.py\", line 257, in _do_plot_candle\n",
      "    import matplotlib.date as mdf\n",
      "ModuleNotFoundError: No module named 'matplotlib.date'\n"
     ]
    },
    {
     "name": "stdout",
     "output_type": "stream",
     "text": [
      "tw_TWSE:2330\n"
     ]
    },
    {
     "name": "stderr",
     "output_type": "stream",
     "text": [
      "No module named 'matplotlib.date'\n",
      "Traceback (most recent call last):\n",
      "  File \"D:\\sean.chen\\trader\\abu\\abupy\\MarketBu\\ABuMarketDrawing.py\", line 252, in _do_plot_candle\n",
      "    import matplotlib.date as mdf\n",
      "ModuleNotFoundError: No module named 'matplotlib.date'\n",
      "\n",
      "During handling of the above exception, another exception occurred:\n",
      "\n",
      "Traceback (most recent call last):\n",
      "  File \"D:\\sean.chen\\trader\\abu\\abupy\\MarketBu\\ABuMarketDrawing.py\", line 92, in plot_from_series\n",
      "    view_index=view_index_inner, save=save)\n",
      "  File \"D:\\sean.chen\\trader\\abu\\abupy\\MarketBu\\ABuMarketDrawing.py\", line 133, in plot_candle_from_symbol\n",
      "    plot_candle_form_klpd(kl_pd, day_sum, html_bk, view_index, save=save)\n",
      "  File \"D:\\sean.chen\\trader\\abu\\abupy\\MarketBu\\ABuMarketDrawing.py\", line 166, in plot_candle_form_klpd\n",
      "    fn, day_sum, html_bk, save)\n",
      "  File \"D:\\sean.chen\\trader\\abu\\abupy\\MarketBu\\ABuMarketDrawing.py\", line 188, in plot_candle_stick\n",
      "    _do_plot_candle(date, p_open, high, low, close, volume, view_index, symbol, day_sum, save, minute)\n",
      "  File \"D:\\sean.chen\\trader\\abu\\abupy\\MarketBu\\ABuMarketDrawing.py\", line 257, in _do_plot_candle\n",
      "    import matplotlib.date as mdf\n",
      "ModuleNotFoundError: No module named 'matplotlib.date'\n"
     ]
    },
    {
     "name": "stdout",
     "output_type": "stream",
     "text": [
      "tw_TWSE:2330\n"
     ]
    },
    {
     "name": "stderr",
     "output_type": "stream",
     "text": [
      "No module named 'matplotlib.date'\n",
      "Traceback (most recent call last):\n",
      "  File \"D:\\sean.chen\\trader\\abu\\abupy\\MarketBu\\ABuMarketDrawing.py\", line 252, in _do_plot_candle\n",
      "    import matplotlib.date as mdf\n",
      "ModuleNotFoundError: No module named 'matplotlib.date'\n",
      "\n",
      "During handling of the above exception, another exception occurred:\n",
      "\n",
      "Traceback (most recent call last):\n",
      "  File \"D:\\sean.chen\\trader\\abu\\abupy\\MarketBu\\ABuMarketDrawing.py\", line 92, in plot_from_series\n",
      "    view_index=view_index_inner, save=save)\n",
      "  File \"D:\\sean.chen\\trader\\abu\\abupy\\MarketBu\\ABuMarketDrawing.py\", line 133, in plot_candle_from_symbol\n",
      "    plot_candle_form_klpd(kl_pd, day_sum, html_bk, view_index, save=save)\n",
      "  File \"D:\\sean.chen\\trader\\abu\\abupy\\MarketBu\\ABuMarketDrawing.py\", line 166, in plot_candle_form_klpd\n",
      "    fn, day_sum, html_bk, save)\n",
      "  File \"D:\\sean.chen\\trader\\abu\\abupy\\MarketBu\\ABuMarketDrawing.py\", line 188, in plot_candle_stick\n",
      "    _do_plot_candle(date, p_open, high, low, close, volume, view_index, symbol, day_sum, save, minute)\n",
      "  File \"D:\\sean.chen\\trader\\abu\\abupy\\MarketBu\\ABuMarketDrawing.py\", line 257, in _do_plot_candle\n",
      "    import matplotlib.date as mdf\n",
      "ModuleNotFoundError: No module named 'matplotlib.date'\n"
     ]
    },
    {
     "name": "stdout",
     "output_type": "stream",
     "text": [
      "tw_TWSE:2330\n"
     ]
    },
    {
     "name": "stderr",
     "output_type": "stream",
     "text": [
      "No module named 'matplotlib.date'\n",
      "Traceback (most recent call last):\n",
      "  File \"D:\\sean.chen\\trader\\abu\\abupy\\MarketBu\\ABuMarketDrawing.py\", line 252, in _do_plot_candle\n",
      "    import matplotlib.date as mdf\n",
      "ModuleNotFoundError: No module named 'matplotlib.date'\n",
      "\n",
      "During handling of the above exception, another exception occurred:\n",
      "\n",
      "Traceback (most recent call last):\n",
      "  File \"D:\\sean.chen\\trader\\abu\\abupy\\MarketBu\\ABuMarketDrawing.py\", line 92, in plot_from_series\n",
      "    view_index=view_index_inner, save=save)\n",
      "  File \"D:\\sean.chen\\trader\\abu\\abupy\\MarketBu\\ABuMarketDrawing.py\", line 133, in plot_candle_from_symbol\n",
      "    plot_candle_form_klpd(kl_pd, day_sum, html_bk, view_index, save=save)\n",
      "  File \"D:\\sean.chen\\trader\\abu\\abupy\\MarketBu\\ABuMarketDrawing.py\", line 166, in plot_candle_form_klpd\n",
      "    fn, day_sum, html_bk, save)\n",
      "  File \"D:\\sean.chen\\trader\\abu\\abupy\\MarketBu\\ABuMarketDrawing.py\", line 188, in plot_candle_stick\n",
      "    _do_plot_candle(date, p_open, high, low, close, volume, view_index, symbol, day_sum, save, minute)\n",
      "  File \"D:\\sean.chen\\trader\\abu\\abupy\\MarketBu\\ABuMarketDrawing.py\", line 257, in _do_plot_candle\n",
      "    import matplotlib.date as mdf\n",
      "ModuleNotFoundError: No module named 'matplotlib.date'\n"
     ]
    },
    {
     "name": "stdout",
     "output_type": "stream",
     "text": [
      "tw_TWSE:2330\n"
     ]
    },
    {
     "name": "stderr",
     "output_type": "stream",
     "text": [
      "No module named 'matplotlib.date'\n",
      "Traceback (most recent call last):\n",
      "  File \"D:\\sean.chen\\trader\\abu\\abupy\\MarketBu\\ABuMarketDrawing.py\", line 252, in _do_plot_candle\n",
      "    import matplotlib.date as mdf\n",
      "ModuleNotFoundError: No module named 'matplotlib.date'\n",
      "\n",
      "During handling of the above exception, another exception occurred:\n",
      "\n",
      "Traceback (most recent call last):\n",
      "  File \"D:\\sean.chen\\trader\\abu\\abupy\\MarketBu\\ABuMarketDrawing.py\", line 92, in plot_from_series\n",
      "    view_index=view_index_inner, save=save)\n",
      "  File \"D:\\sean.chen\\trader\\abu\\abupy\\MarketBu\\ABuMarketDrawing.py\", line 133, in plot_candle_from_symbol\n",
      "    plot_candle_form_klpd(kl_pd, day_sum, html_bk, view_index, save=save)\n",
      "  File \"D:\\sean.chen\\trader\\abu\\abupy\\MarketBu\\ABuMarketDrawing.py\", line 166, in plot_candle_form_klpd\n",
      "    fn, day_sum, html_bk, save)\n",
      "  File \"D:\\sean.chen\\trader\\abu\\abupy\\MarketBu\\ABuMarketDrawing.py\", line 188, in plot_candle_stick\n",
      "    _do_plot_candle(date, p_open, high, low, close, volume, view_index, symbol, day_sum, save, minute)\n",
      "  File \"D:\\sean.chen\\trader\\abu\\abupy\\MarketBu\\ABuMarketDrawing.py\", line 257, in _do_plot_candle\n",
      "    import matplotlib.date as mdf\n",
      "ModuleNotFoundError: No module named 'matplotlib.date'\n"
     ]
    },
    {
     "name": "stdout",
     "output_type": "stream",
     "text": [
      "tw_TWSE:2330\n"
     ]
    },
    {
     "name": "stderr",
     "output_type": "stream",
     "text": [
      "No module named 'matplotlib.date'\n",
      "Traceback (most recent call last):\n",
      "  File \"D:\\sean.chen\\trader\\abu\\abupy\\MarketBu\\ABuMarketDrawing.py\", line 252, in _do_plot_candle\n",
      "    import matplotlib.date as mdf\n",
      "ModuleNotFoundError: No module named 'matplotlib.date'\n",
      "\n",
      "During handling of the above exception, another exception occurred:\n",
      "\n",
      "Traceback (most recent call last):\n",
      "  File \"D:\\sean.chen\\trader\\abu\\abupy\\MarketBu\\ABuMarketDrawing.py\", line 92, in plot_from_series\n",
      "    view_index=view_index_inner, save=save)\n",
      "  File \"D:\\sean.chen\\trader\\abu\\abupy\\MarketBu\\ABuMarketDrawing.py\", line 133, in plot_candle_from_symbol\n",
      "    plot_candle_form_klpd(kl_pd, day_sum, html_bk, view_index, save=save)\n",
      "  File \"D:\\sean.chen\\trader\\abu\\abupy\\MarketBu\\ABuMarketDrawing.py\", line 166, in plot_candle_form_klpd\n",
      "    fn, day_sum, html_bk, save)\n",
      "  File \"D:\\sean.chen\\trader\\abu\\abupy\\MarketBu\\ABuMarketDrawing.py\", line 188, in plot_candle_stick\n",
      "    _do_plot_candle(date, p_open, high, low, close, volume, view_index, symbol, day_sum, save, minute)\n",
      "  File \"D:\\sean.chen\\trader\\abu\\abupy\\MarketBu\\ABuMarketDrawing.py\", line 257, in _do_plot_candle\n",
      "    import matplotlib.date as mdf\n",
      "ModuleNotFoundError: No module named 'matplotlib.date'\n"
     ]
    },
    {
     "name": "stdout",
     "output_type": "stream",
     "text": [
      "tw_TWSE:2330\n"
     ]
    },
    {
     "name": "stderr",
     "output_type": "stream",
     "text": [
      "No module named 'matplotlib.date'\n",
      "Traceback (most recent call last):\n",
      "  File \"D:\\sean.chen\\trader\\abu\\abupy\\MarketBu\\ABuMarketDrawing.py\", line 252, in _do_plot_candle\n",
      "    import matplotlib.date as mdf\n",
      "ModuleNotFoundError: No module named 'matplotlib.date'\n",
      "\n",
      "During handling of the above exception, another exception occurred:\n",
      "\n",
      "Traceback (most recent call last):\n",
      "  File \"D:\\sean.chen\\trader\\abu\\abupy\\MarketBu\\ABuMarketDrawing.py\", line 92, in plot_from_series\n",
      "    view_index=view_index_inner, save=save)\n",
      "  File \"D:\\sean.chen\\trader\\abu\\abupy\\MarketBu\\ABuMarketDrawing.py\", line 133, in plot_candle_from_symbol\n",
      "    plot_candle_form_klpd(kl_pd, day_sum, html_bk, view_index, save=save)\n",
      "  File \"D:\\sean.chen\\trader\\abu\\abupy\\MarketBu\\ABuMarketDrawing.py\", line 166, in plot_candle_form_klpd\n",
      "    fn, day_sum, html_bk, save)\n",
      "  File \"D:\\sean.chen\\trader\\abu\\abupy\\MarketBu\\ABuMarketDrawing.py\", line 188, in plot_candle_stick\n",
      "    _do_plot_candle(date, p_open, high, low, close, volume, view_index, symbol, day_sum, save, minute)\n",
      "  File \"D:\\sean.chen\\trader\\abu\\abupy\\MarketBu\\ABuMarketDrawing.py\", line 257, in _do_plot_candle\n",
      "    import matplotlib.date as mdf\n",
      "ModuleNotFoundError: No module named 'matplotlib.date'\n"
     ]
    },
    {
     "name": "stdout",
     "output_type": "stream",
     "text": [
      "tw_TWSE:2330\n"
     ]
    },
    {
     "name": "stderr",
     "output_type": "stream",
     "text": [
      "No module named 'matplotlib.date'\n",
      "Traceback (most recent call last):\n",
      "  File \"D:\\sean.chen\\trader\\abu\\abupy\\MarketBu\\ABuMarketDrawing.py\", line 252, in _do_plot_candle\n",
      "    import matplotlib.date as mdf\n",
      "ModuleNotFoundError: No module named 'matplotlib.date'\n",
      "\n",
      "During handling of the above exception, another exception occurred:\n",
      "\n",
      "Traceback (most recent call last):\n",
      "  File \"D:\\sean.chen\\trader\\abu\\abupy\\MarketBu\\ABuMarketDrawing.py\", line 92, in plot_from_series\n",
      "    view_index=view_index_inner, save=save)\n",
      "  File \"D:\\sean.chen\\trader\\abu\\abupy\\MarketBu\\ABuMarketDrawing.py\", line 133, in plot_candle_from_symbol\n",
      "    plot_candle_form_klpd(kl_pd, day_sum, html_bk, view_index, save=save)\n",
      "  File \"D:\\sean.chen\\trader\\abu\\abupy\\MarketBu\\ABuMarketDrawing.py\", line 166, in plot_candle_form_klpd\n",
      "    fn, day_sum, html_bk, save)\n",
      "  File \"D:\\sean.chen\\trader\\abu\\abupy\\MarketBu\\ABuMarketDrawing.py\", line 188, in plot_candle_stick\n",
      "    _do_plot_candle(date, p_open, high, low, close, volume, view_index, symbol, day_sum, save, minute)\n",
      "  File \"D:\\sean.chen\\trader\\abu\\abupy\\MarketBu\\ABuMarketDrawing.py\", line 257, in _do_plot_candle\n",
      "    import matplotlib.date as mdf\n",
      "ModuleNotFoundError: No module named 'matplotlib.date'\n"
     ]
    },
    {
     "name": "stdout",
     "output_type": "stream",
     "text": [
      "tw_TWSE:2330\n"
     ]
    },
    {
     "name": "stderr",
     "output_type": "stream",
     "text": [
      "No module named 'matplotlib.date'\n",
      "Traceback (most recent call last):\n",
      "  File \"D:\\sean.chen\\trader\\abu\\abupy\\MarketBu\\ABuMarketDrawing.py\", line 252, in _do_plot_candle\n",
      "    import matplotlib.date as mdf\n",
      "ModuleNotFoundError: No module named 'matplotlib.date'\n",
      "\n",
      "During handling of the above exception, another exception occurred:\n",
      "\n",
      "Traceback (most recent call last):\n",
      "  File \"D:\\sean.chen\\trader\\abu\\abupy\\MarketBu\\ABuMarketDrawing.py\", line 92, in plot_from_series\n",
      "    view_index=view_index_inner, save=save)\n",
      "  File \"D:\\sean.chen\\trader\\abu\\abupy\\MarketBu\\ABuMarketDrawing.py\", line 133, in plot_candle_from_symbol\n",
      "    plot_candle_form_klpd(kl_pd, day_sum, html_bk, view_index, save=save)\n",
      "  File \"D:\\sean.chen\\trader\\abu\\abupy\\MarketBu\\ABuMarketDrawing.py\", line 166, in plot_candle_form_klpd\n",
      "    fn, day_sum, html_bk, save)\n",
      "  File \"D:\\sean.chen\\trader\\abu\\abupy\\MarketBu\\ABuMarketDrawing.py\", line 188, in plot_candle_stick\n",
      "    _do_plot_candle(date, p_open, high, low, close, volume, view_index, symbol, day_sum, save, minute)\n",
      "  File \"D:\\sean.chen\\trader\\abu\\abupy\\MarketBu\\ABuMarketDrawing.py\", line 257, in _do_plot_candle\n",
      "    import matplotlib.date as mdf\n",
      "ModuleNotFoundError: No module named 'matplotlib.date'\n"
     ]
    },
    {
     "name": "stdout",
     "output_type": "stream",
     "text": [
      "tw_TWSE:2330\n"
     ]
    },
    {
     "name": "stderr",
     "output_type": "stream",
     "text": [
      "No module named 'matplotlib.date'\n",
      "Traceback (most recent call last):\n",
      "  File \"D:\\sean.chen\\trader\\abu\\abupy\\MarketBu\\ABuMarketDrawing.py\", line 252, in _do_plot_candle\n",
      "    import matplotlib.date as mdf\n",
      "ModuleNotFoundError: No module named 'matplotlib.date'\n",
      "\n",
      "During handling of the above exception, another exception occurred:\n",
      "\n",
      "Traceback (most recent call last):\n",
      "  File \"D:\\sean.chen\\trader\\abu\\abupy\\MarketBu\\ABuMarketDrawing.py\", line 92, in plot_from_series\n",
      "    view_index=view_index_inner, save=save)\n",
      "  File \"D:\\sean.chen\\trader\\abu\\abupy\\MarketBu\\ABuMarketDrawing.py\", line 133, in plot_candle_from_symbol\n",
      "    plot_candle_form_klpd(kl_pd, day_sum, html_bk, view_index, save=save)\n",
      "  File \"D:\\sean.chen\\trader\\abu\\abupy\\MarketBu\\ABuMarketDrawing.py\", line 166, in plot_candle_form_klpd\n",
      "    fn, day_sum, html_bk, save)\n",
      "  File \"D:\\sean.chen\\trader\\abu\\abupy\\MarketBu\\ABuMarketDrawing.py\", line 188, in plot_candle_stick\n",
      "    _do_plot_candle(date, p_open, high, low, close, volume, view_index, symbol, day_sum, save, minute)\n",
      "  File \"D:\\sean.chen\\trader\\abu\\abupy\\MarketBu\\ABuMarketDrawing.py\", line 257, in _do_plot_candle\n",
      "    import matplotlib.date as mdf\n",
      "ModuleNotFoundError: No module named 'matplotlib.date'\n"
     ]
    },
    {
     "name": "stdout",
     "output_type": "stream",
     "text": [
      "tw_TWSE:2330\n"
     ]
    },
    {
     "name": "stderr",
     "output_type": "stream",
     "text": [
      "No module named 'matplotlib.date'\n",
      "Traceback (most recent call last):\n",
      "  File \"D:\\sean.chen\\trader\\abu\\abupy\\MarketBu\\ABuMarketDrawing.py\", line 252, in _do_plot_candle\n",
      "    import matplotlib.date as mdf\n",
      "ModuleNotFoundError: No module named 'matplotlib.date'\n",
      "\n",
      "During handling of the above exception, another exception occurred:\n",
      "\n",
      "Traceback (most recent call last):\n",
      "  File \"D:\\sean.chen\\trader\\abu\\abupy\\MarketBu\\ABuMarketDrawing.py\", line 92, in plot_from_series\n",
      "    view_index=view_index_inner, save=save)\n",
      "  File \"D:\\sean.chen\\trader\\abu\\abupy\\MarketBu\\ABuMarketDrawing.py\", line 133, in plot_candle_from_symbol\n",
      "    plot_candle_form_klpd(kl_pd, day_sum, html_bk, view_index, save=save)\n",
      "  File \"D:\\sean.chen\\trader\\abu\\abupy\\MarketBu\\ABuMarketDrawing.py\", line 166, in plot_candle_form_klpd\n",
      "    fn, day_sum, html_bk, save)\n",
      "  File \"D:\\sean.chen\\trader\\abu\\abupy\\MarketBu\\ABuMarketDrawing.py\", line 188, in plot_candle_stick\n",
      "    _do_plot_candle(date, p_open, high, low, close, volume, view_index, symbol, day_sum, save, minute)\n",
      "  File \"D:\\sean.chen\\trader\\abu\\abupy\\MarketBu\\ABuMarketDrawing.py\", line 257, in _do_plot_candle\n",
      "    import matplotlib.date as mdf\n",
      "ModuleNotFoundError: No module named 'matplotlib.date'\n"
     ]
    },
    {
     "name": "stdout",
     "output_type": "stream",
     "text": [
      "tw_TWSE:2330\n"
     ]
    },
    {
     "name": "stderr",
     "output_type": "stream",
     "text": [
      "No module named 'matplotlib.date'\n",
      "Traceback (most recent call last):\n",
      "  File \"D:\\sean.chen\\trader\\abu\\abupy\\MarketBu\\ABuMarketDrawing.py\", line 252, in _do_plot_candle\n",
      "    import matplotlib.date as mdf\n",
      "ModuleNotFoundError: No module named 'matplotlib.date'\n",
      "\n",
      "During handling of the above exception, another exception occurred:\n",
      "\n",
      "Traceback (most recent call last):\n",
      "  File \"D:\\sean.chen\\trader\\abu\\abupy\\MarketBu\\ABuMarketDrawing.py\", line 92, in plot_from_series\n",
      "    view_index=view_index_inner, save=save)\n",
      "  File \"D:\\sean.chen\\trader\\abu\\abupy\\MarketBu\\ABuMarketDrawing.py\", line 133, in plot_candle_from_symbol\n",
      "    plot_candle_form_klpd(kl_pd, day_sum, html_bk, view_index, save=save)\n",
      "  File \"D:\\sean.chen\\trader\\abu\\abupy\\MarketBu\\ABuMarketDrawing.py\", line 166, in plot_candle_form_klpd\n",
      "    fn, day_sum, html_bk, save)\n",
      "  File \"D:\\sean.chen\\trader\\abu\\abupy\\MarketBu\\ABuMarketDrawing.py\", line 188, in plot_candle_stick\n",
      "    _do_plot_candle(date, p_open, high, low, close, volume, view_index, symbol, day_sum, save, minute)\n",
      "  File \"D:\\sean.chen\\trader\\abu\\abupy\\MarketBu\\ABuMarketDrawing.py\", line 257, in _do_plot_candle\n",
      "    import matplotlib.date as mdf\n",
      "ModuleNotFoundError: No module named 'matplotlib.date'\n"
     ]
    },
    {
     "name": "stdout",
     "output_type": "stream",
     "text": [
      "tw_TWSE:2330\n"
     ]
    },
    {
     "name": "stderr",
     "output_type": "stream",
     "text": [
      "No module named 'matplotlib.date'\n",
      "Traceback (most recent call last):\n",
      "  File \"D:\\sean.chen\\trader\\abu\\abupy\\MarketBu\\ABuMarketDrawing.py\", line 252, in _do_plot_candle\n",
      "    import matplotlib.date as mdf\n",
      "ModuleNotFoundError: No module named 'matplotlib.date'\n",
      "\n",
      "During handling of the above exception, another exception occurred:\n",
      "\n",
      "Traceback (most recent call last):\n",
      "  File \"D:\\sean.chen\\trader\\abu\\abupy\\MarketBu\\ABuMarketDrawing.py\", line 92, in plot_from_series\n",
      "    view_index=view_index_inner, save=save)\n",
      "  File \"D:\\sean.chen\\trader\\abu\\abupy\\MarketBu\\ABuMarketDrawing.py\", line 133, in plot_candle_from_symbol\n",
      "    plot_candle_form_klpd(kl_pd, day_sum, html_bk, view_index, save=save)\n",
      "  File \"D:\\sean.chen\\trader\\abu\\abupy\\MarketBu\\ABuMarketDrawing.py\", line 166, in plot_candle_form_klpd\n",
      "    fn, day_sum, html_bk, save)\n",
      "  File \"D:\\sean.chen\\trader\\abu\\abupy\\MarketBu\\ABuMarketDrawing.py\", line 188, in plot_candle_stick\n",
      "    _do_plot_candle(date, p_open, high, low, close, volume, view_index, symbol, day_sum, save, minute)\n",
      "  File \"D:\\sean.chen\\trader\\abu\\abupy\\MarketBu\\ABuMarketDrawing.py\", line 257, in _do_plot_candle\n",
      "    import matplotlib.date as mdf\n",
      "ModuleNotFoundError: No module named 'matplotlib.date'\n"
     ]
    },
    {
     "name": "stdout",
     "output_type": "stream",
     "text": [
      "tw_TWSE:2330\n"
     ]
    },
    {
     "name": "stderr",
     "output_type": "stream",
     "text": [
      "No module named 'matplotlib.date'\n",
      "Traceback (most recent call last):\n",
      "  File \"D:\\sean.chen\\trader\\abu\\abupy\\MarketBu\\ABuMarketDrawing.py\", line 252, in _do_plot_candle\n",
      "    import matplotlib.date as mdf\n",
      "ModuleNotFoundError: No module named 'matplotlib.date'\n",
      "\n",
      "During handling of the above exception, another exception occurred:\n",
      "\n",
      "Traceback (most recent call last):\n",
      "  File \"D:\\sean.chen\\trader\\abu\\abupy\\MarketBu\\ABuMarketDrawing.py\", line 92, in plot_from_series\n",
      "    view_index=view_index_inner, save=save)\n",
      "  File \"D:\\sean.chen\\trader\\abu\\abupy\\MarketBu\\ABuMarketDrawing.py\", line 133, in plot_candle_from_symbol\n",
      "    plot_candle_form_klpd(kl_pd, day_sum, html_bk, view_index, save=save)\n",
      "  File \"D:\\sean.chen\\trader\\abu\\abupy\\MarketBu\\ABuMarketDrawing.py\", line 166, in plot_candle_form_klpd\n",
      "    fn, day_sum, html_bk, save)\n",
      "  File \"D:\\sean.chen\\trader\\abu\\abupy\\MarketBu\\ABuMarketDrawing.py\", line 188, in plot_candle_stick\n",
      "    _do_plot_candle(date, p_open, high, low, close, volume, view_index, symbol, day_sum, save, minute)\n",
      "  File \"D:\\sean.chen\\trader\\abu\\abupy\\MarketBu\\ABuMarketDrawing.py\", line 257, in _do_plot_candle\n",
      "    import matplotlib.date as mdf\n",
      "ModuleNotFoundError: No module named 'matplotlib.date'\n"
     ]
    },
    {
     "name": "stdout",
     "output_type": "stream",
     "text": [
      "tw_TWSE:2330\n"
     ]
    },
    {
     "name": "stderr",
     "output_type": "stream",
     "text": [
      "No module named 'matplotlib.date'\n",
      "Traceback (most recent call last):\n",
      "  File \"D:\\sean.chen\\trader\\abu\\abupy\\MarketBu\\ABuMarketDrawing.py\", line 252, in _do_plot_candle\n",
      "    import matplotlib.date as mdf\n",
      "ModuleNotFoundError: No module named 'matplotlib.date'\n",
      "\n",
      "During handling of the above exception, another exception occurred:\n",
      "\n",
      "Traceback (most recent call last):\n",
      "  File \"D:\\sean.chen\\trader\\abu\\abupy\\MarketBu\\ABuMarketDrawing.py\", line 92, in plot_from_series\n",
      "    view_index=view_index_inner, save=save)\n",
      "  File \"D:\\sean.chen\\trader\\abu\\abupy\\MarketBu\\ABuMarketDrawing.py\", line 133, in plot_candle_from_symbol\n",
      "    plot_candle_form_klpd(kl_pd, day_sum, html_bk, view_index, save=save)\n",
      "  File \"D:\\sean.chen\\trader\\abu\\abupy\\MarketBu\\ABuMarketDrawing.py\", line 166, in plot_candle_form_klpd\n",
      "    fn, day_sum, html_bk, save)\n",
      "  File \"D:\\sean.chen\\trader\\abu\\abupy\\MarketBu\\ABuMarketDrawing.py\", line 188, in plot_candle_stick\n",
      "    _do_plot_candle(date, p_open, high, low, close, volume, view_index, symbol, day_sum, save, minute)\n",
      "  File \"D:\\sean.chen\\trader\\abu\\abupy\\MarketBu\\ABuMarketDrawing.py\", line 257, in _do_plot_candle\n",
      "    import matplotlib.date as mdf\n",
      "ModuleNotFoundError: No module named 'matplotlib.date'\n"
     ]
    },
    {
     "name": "stdout",
     "output_type": "stream",
     "text": [
      "tw_TWSE:2330\n"
     ]
    },
    {
     "name": "stderr",
     "output_type": "stream",
     "text": [
      "No module named 'matplotlib.date'\n",
      "Traceback (most recent call last):\n",
      "  File \"D:\\sean.chen\\trader\\abu\\abupy\\MarketBu\\ABuMarketDrawing.py\", line 252, in _do_plot_candle\n",
      "    import matplotlib.date as mdf\n",
      "ModuleNotFoundError: No module named 'matplotlib.date'\n",
      "\n",
      "During handling of the above exception, another exception occurred:\n",
      "\n",
      "Traceback (most recent call last):\n",
      "  File \"D:\\sean.chen\\trader\\abu\\abupy\\MarketBu\\ABuMarketDrawing.py\", line 92, in plot_from_series\n",
      "    view_index=view_index_inner, save=save)\n",
      "  File \"D:\\sean.chen\\trader\\abu\\abupy\\MarketBu\\ABuMarketDrawing.py\", line 133, in plot_candle_from_symbol\n",
      "    plot_candle_form_klpd(kl_pd, day_sum, html_bk, view_index, save=save)\n",
      "  File \"D:\\sean.chen\\trader\\abu\\abupy\\MarketBu\\ABuMarketDrawing.py\", line 166, in plot_candle_form_klpd\n",
      "    fn, day_sum, html_bk, save)\n",
      "  File \"D:\\sean.chen\\trader\\abu\\abupy\\MarketBu\\ABuMarketDrawing.py\", line 188, in plot_candle_stick\n",
      "    _do_plot_candle(date, p_open, high, low, close, volume, view_index, symbol, day_sum, save, minute)\n",
      "  File \"D:\\sean.chen\\trader\\abu\\abupy\\MarketBu\\ABuMarketDrawing.py\", line 257, in _do_plot_candle\n",
      "    import matplotlib.date as mdf\n",
      "ModuleNotFoundError: No module named 'matplotlib.date'\n"
     ]
    },
    {
     "name": "stdout",
     "output_type": "stream",
     "text": [
      "tw_TWSE:2330\n"
     ]
    },
    {
     "name": "stderr",
     "output_type": "stream",
     "text": [
      "No module named 'matplotlib.date'\n",
      "Traceback (most recent call last):\n",
      "  File \"D:\\sean.chen\\trader\\abu\\abupy\\MarketBu\\ABuMarketDrawing.py\", line 252, in _do_plot_candle\n",
      "    import matplotlib.date as mdf\n",
      "ModuleNotFoundError: No module named 'matplotlib.date'\n",
      "\n",
      "During handling of the above exception, another exception occurred:\n",
      "\n",
      "Traceback (most recent call last):\n",
      "  File \"D:\\sean.chen\\trader\\abu\\abupy\\MarketBu\\ABuMarketDrawing.py\", line 92, in plot_from_series\n",
      "    view_index=view_index_inner, save=save)\n",
      "  File \"D:\\sean.chen\\trader\\abu\\abupy\\MarketBu\\ABuMarketDrawing.py\", line 133, in plot_candle_from_symbol\n",
      "    plot_candle_form_klpd(kl_pd, day_sum, html_bk, view_index, save=save)\n",
      "  File \"D:\\sean.chen\\trader\\abu\\abupy\\MarketBu\\ABuMarketDrawing.py\", line 166, in plot_candle_form_klpd\n",
      "    fn, day_sum, html_bk, save)\n",
      "  File \"D:\\sean.chen\\trader\\abu\\abupy\\MarketBu\\ABuMarketDrawing.py\", line 188, in plot_candle_stick\n",
      "    _do_plot_candle(date, p_open, high, low, close, volume, view_index, symbol, day_sum, save, minute)\n",
      "  File \"D:\\sean.chen\\trader\\abu\\abupy\\MarketBu\\ABuMarketDrawing.py\", line 257, in _do_plot_candle\n",
      "    import matplotlib.date as mdf\n",
      "ModuleNotFoundError: No module named 'matplotlib.date'\n"
     ]
    },
    {
     "name": "stdout",
     "output_type": "stream",
     "text": [
      "tw_TWSE:2330\n"
     ]
    },
    {
     "name": "stderr",
     "output_type": "stream",
     "text": [
      "No module named 'matplotlib.date'\n",
      "Traceback (most recent call last):\n",
      "  File \"D:\\sean.chen\\trader\\abu\\abupy\\MarketBu\\ABuMarketDrawing.py\", line 252, in _do_plot_candle\n",
      "    import matplotlib.date as mdf\n",
      "ModuleNotFoundError: No module named 'matplotlib.date'\n",
      "\n",
      "During handling of the above exception, another exception occurred:\n",
      "\n",
      "Traceback (most recent call last):\n",
      "  File \"D:\\sean.chen\\trader\\abu\\abupy\\MarketBu\\ABuMarketDrawing.py\", line 92, in plot_from_series\n",
      "    view_index=view_index_inner, save=save)\n",
      "  File \"D:\\sean.chen\\trader\\abu\\abupy\\MarketBu\\ABuMarketDrawing.py\", line 133, in plot_candle_from_symbol\n",
      "    plot_candle_form_klpd(kl_pd, day_sum, html_bk, view_index, save=save)\n",
      "  File \"D:\\sean.chen\\trader\\abu\\abupy\\MarketBu\\ABuMarketDrawing.py\", line 166, in plot_candle_form_klpd\n",
      "    fn, day_sum, html_bk, save)\n",
      "  File \"D:\\sean.chen\\trader\\abu\\abupy\\MarketBu\\ABuMarketDrawing.py\", line 188, in plot_candle_stick\n",
      "    _do_plot_candle(date, p_open, high, low, close, volume, view_index, symbol, day_sum, save, minute)\n",
      "  File \"D:\\sean.chen\\trader\\abu\\abupy\\MarketBu\\ABuMarketDrawing.py\", line 257, in _do_plot_candle\n",
      "    import matplotlib.date as mdf\n",
      "ModuleNotFoundError: No module named 'matplotlib.date'\n"
     ]
    },
    {
     "name": "stdout",
     "output_type": "stream",
     "text": [
      "tw_TWSE:2330\n"
     ]
    },
    {
     "name": "stderr",
     "output_type": "stream",
     "text": [
      "No module named 'matplotlib.date'\n",
      "Traceback (most recent call last):\n",
      "  File \"D:\\sean.chen\\trader\\abu\\abupy\\MarketBu\\ABuMarketDrawing.py\", line 252, in _do_plot_candle\n",
      "    import matplotlib.date as mdf\n",
      "ModuleNotFoundError: No module named 'matplotlib.date'\n",
      "\n",
      "During handling of the above exception, another exception occurred:\n",
      "\n",
      "Traceback (most recent call last):\n",
      "  File \"D:\\sean.chen\\trader\\abu\\abupy\\MarketBu\\ABuMarketDrawing.py\", line 92, in plot_from_series\n",
      "    view_index=view_index_inner, save=save)\n",
      "  File \"D:\\sean.chen\\trader\\abu\\abupy\\MarketBu\\ABuMarketDrawing.py\", line 133, in plot_candle_from_symbol\n",
      "    plot_candle_form_klpd(kl_pd, day_sum, html_bk, view_index, save=save)\n",
      "  File \"D:\\sean.chen\\trader\\abu\\abupy\\MarketBu\\ABuMarketDrawing.py\", line 166, in plot_candle_form_klpd\n",
      "    fn, day_sum, html_bk, save)\n",
      "  File \"D:\\sean.chen\\trader\\abu\\abupy\\MarketBu\\ABuMarketDrawing.py\", line 188, in plot_candle_stick\n",
      "    _do_plot_candle(date, p_open, high, low, close, volume, view_index, symbol, day_sum, save, minute)\n",
      "  File \"D:\\sean.chen\\trader\\abu\\abupy\\MarketBu\\ABuMarketDrawing.py\", line 257, in _do_plot_candle\n",
      "    import matplotlib.date as mdf\n",
      "ModuleNotFoundError: No module named 'matplotlib.date'\n"
     ]
    },
    {
     "name": "stdout",
     "output_type": "stream",
     "text": [
      "tw_TWSE:2330\n"
     ]
    },
    {
     "name": "stderr",
     "output_type": "stream",
     "text": [
      "No module named 'matplotlib.date'\n",
      "Traceback (most recent call last):\n",
      "  File \"D:\\sean.chen\\trader\\abu\\abupy\\MarketBu\\ABuMarketDrawing.py\", line 252, in _do_plot_candle\n",
      "    import matplotlib.date as mdf\n",
      "ModuleNotFoundError: No module named 'matplotlib.date'\n",
      "\n",
      "During handling of the above exception, another exception occurred:\n",
      "\n",
      "Traceback (most recent call last):\n",
      "  File \"D:\\sean.chen\\trader\\abu\\abupy\\MarketBu\\ABuMarketDrawing.py\", line 92, in plot_from_series\n",
      "    view_index=view_index_inner, save=save)\n",
      "  File \"D:\\sean.chen\\trader\\abu\\abupy\\MarketBu\\ABuMarketDrawing.py\", line 133, in plot_candle_from_symbol\n",
      "    plot_candle_form_klpd(kl_pd, day_sum, html_bk, view_index, save=save)\n",
      "  File \"D:\\sean.chen\\trader\\abu\\abupy\\MarketBu\\ABuMarketDrawing.py\", line 166, in plot_candle_form_klpd\n",
      "    fn, day_sum, html_bk, save)\n",
      "  File \"D:\\sean.chen\\trader\\abu\\abupy\\MarketBu\\ABuMarketDrawing.py\", line 188, in plot_candle_stick\n",
      "    _do_plot_candle(date, p_open, high, low, close, volume, view_index, symbol, day_sum, save, minute)\n",
      "  File \"D:\\sean.chen\\trader\\abu\\abupy\\MarketBu\\ABuMarketDrawing.py\", line 257, in _do_plot_candle\n",
      "    import matplotlib.date as mdf\n",
      "ModuleNotFoundError: No module named 'matplotlib.date'\n"
     ]
    },
    {
     "name": "stdout",
     "output_type": "stream",
     "text": [
      "tw_TWSE:2330\n"
     ]
    },
    {
     "name": "stderr",
     "output_type": "stream",
     "text": [
      "No module named 'matplotlib.date'\n",
      "Traceback (most recent call last):\n",
      "  File \"D:\\sean.chen\\trader\\abu\\abupy\\MarketBu\\ABuMarketDrawing.py\", line 252, in _do_plot_candle\n",
      "    import matplotlib.date as mdf\n",
      "ModuleNotFoundError: No module named 'matplotlib.date'\n",
      "\n",
      "During handling of the above exception, another exception occurred:\n",
      "\n",
      "Traceback (most recent call last):\n",
      "  File \"D:\\sean.chen\\trader\\abu\\abupy\\MarketBu\\ABuMarketDrawing.py\", line 92, in plot_from_series\n",
      "    view_index=view_index_inner, save=save)\n",
      "  File \"D:\\sean.chen\\trader\\abu\\abupy\\MarketBu\\ABuMarketDrawing.py\", line 133, in plot_candle_from_symbol\n",
      "    plot_candle_form_klpd(kl_pd, day_sum, html_bk, view_index, save=save)\n",
      "  File \"D:\\sean.chen\\trader\\abu\\abupy\\MarketBu\\ABuMarketDrawing.py\", line 166, in plot_candle_form_klpd\n",
      "    fn, day_sum, html_bk, save)\n",
      "  File \"D:\\sean.chen\\trader\\abu\\abupy\\MarketBu\\ABuMarketDrawing.py\", line 188, in plot_candle_stick\n",
      "    _do_plot_candle(date, p_open, high, low, close, volume, view_index, symbol, day_sum, save, minute)\n",
      "  File \"D:\\sean.chen\\trader\\abu\\abupy\\MarketBu\\ABuMarketDrawing.py\", line 257, in _do_plot_candle\n",
      "    import matplotlib.date as mdf\n",
      "ModuleNotFoundError: No module named 'matplotlib.date'\n"
     ]
    },
    {
     "name": "stdout",
     "output_type": "stream",
     "text": [
      "tw_TWSE:2330\n"
     ]
    },
    {
     "name": "stderr",
     "output_type": "stream",
     "text": [
      "No module named 'matplotlib.date'\n",
      "Traceback (most recent call last):\n",
      "  File \"D:\\sean.chen\\trader\\abu\\abupy\\MarketBu\\ABuMarketDrawing.py\", line 252, in _do_plot_candle\n",
      "    import matplotlib.date as mdf\n",
      "ModuleNotFoundError: No module named 'matplotlib.date'\n",
      "\n",
      "During handling of the above exception, another exception occurred:\n",
      "\n",
      "Traceback (most recent call last):\n",
      "  File \"D:\\sean.chen\\trader\\abu\\abupy\\MarketBu\\ABuMarketDrawing.py\", line 92, in plot_from_series\n",
      "    view_index=view_index_inner, save=save)\n",
      "  File \"D:\\sean.chen\\trader\\abu\\abupy\\MarketBu\\ABuMarketDrawing.py\", line 133, in plot_candle_from_symbol\n",
      "    plot_candle_form_klpd(kl_pd, day_sum, html_bk, view_index, save=save)\n",
      "  File \"D:\\sean.chen\\trader\\abu\\abupy\\MarketBu\\ABuMarketDrawing.py\", line 166, in plot_candle_form_klpd\n",
      "    fn, day_sum, html_bk, save)\n",
      "  File \"D:\\sean.chen\\trader\\abu\\abupy\\MarketBu\\ABuMarketDrawing.py\", line 188, in plot_candle_stick\n",
      "    _do_plot_candle(date, p_open, high, low, close, volume, view_index, symbol, day_sum, save, minute)\n",
      "  File \"D:\\sean.chen\\trader\\abu\\abupy\\MarketBu\\ABuMarketDrawing.py\", line 257, in _do_plot_candle\n",
      "    import matplotlib.date as mdf\n",
      "ModuleNotFoundError: No module named 'matplotlib.date'\n"
     ]
    },
    {
     "name": "stdout",
     "output_type": "stream",
     "text": [
      "tw_TWSE:2330\n"
     ]
    },
    {
     "name": "stderr",
     "output_type": "stream",
     "text": [
      "No module named 'matplotlib.date'\n",
      "Traceback (most recent call last):\n",
      "  File \"D:\\sean.chen\\trader\\abu\\abupy\\MarketBu\\ABuMarketDrawing.py\", line 252, in _do_plot_candle\n",
      "    import matplotlib.date as mdf\n",
      "ModuleNotFoundError: No module named 'matplotlib.date'\n",
      "\n",
      "During handling of the above exception, another exception occurred:\n",
      "\n",
      "Traceback (most recent call last):\n",
      "  File \"D:\\sean.chen\\trader\\abu\\abupy\\MarketBu\\ABuMarketDrawing.py\", line 92, in plot_from_series\n",
      "    view_index=view_index_inner, save=save)\n",
      "  File \"D:\\sean.chen\\trader\\abu\\abupy\\MarketBu\\ABuMarketDrawing.py\", line 133, in plot_candle_from_symbol\n",
      "    plot_candle_form_klpd(kl_pd, day_sum, html_bk, view_index, save=save)\n",
      "  File \"D:\\sean.chen\\trader\\abu\\abupy\\MarketBu\\ABuMarketDrawing.py\", line 166, in plot_candle_form_klpd\n",
      "    fn, day_sum, html_bk, save)\n",
      "  File \"D:\\sean.chen\\trader\\abu\\abupy\\MarketBu\\ABuMarketDrawing.py\", line 188, in plot_candle_stick\n",
      "    _do_plot_candle(date, p_open, high, low, close, volume, view_index, symbol, day_sum, save, minute)\n",
      "  File \"D:\\sean.chen\\trader\\abu\\abupy\\MarketBu\\ABuMarketDrawing.py\", line 257, in _do_plot_candle\n",
      "    import matplotlib.date as mdf\n",
      "ModuleNotFoundError: No module named 'matplotlib.date'\n"
     ]
    },
    {
     "name": "stdout",
     "output_type": "stream",
     "text": [
      "tw_TWSE:2330\n"
     ]
    },
    {
     "name": "stderr",
     "output_type": "stream",
     "text": [
      "No module named 'matplotlib.date'\n",
      "Traceback (most recent call last):\n",
      "  File \"D:\\sean.chen\\trader\\abu\\abupy\\MarketBu\\ABuMarketDrawing.py\", line 252, in _do_plot_candle\n",
      "    import matplotlib.date as mdf\n",
      "ModuleNotFoundError: No module named 'matplotlib.date'\n",
      "\n",
      "During handling of the above exception, another exception occurred:\n",
      "\n",
      "Traceback (most recent call last):\n",
      "  File \"D:\\sean.chen\\trader\\abu\\abupy\\MarketBu\\ABuMarketDrawing.py\", line 92, in plot_from_series\n",
      "    view_index=view_index_inner, save=save)\n",
      "  File \"D:\\sean.chen\\trader\\abu\\abupy\\MarketBu\\ABuMarketDrawing.py\", line 133, in plot_candle_from_symbol\n",
      "    plot_candle_form_klpd(kl_pd, day_sum, html_bk, view_index, save=save)\n",
      "  File \"D:\\sean.chen\\trader\\abu\\abupy\\MarketBu\\ABuMarketDrawing.py\", line 166, in plot_candle_form_klpd\n",
      "    fn, day_sum, html_bk, save)\n",
      "  File \"D:\\sean.chen\\trader\\abu\\abupy\\MarketBu\\ABuMarketDrawing.py\", line 188, in plot_candle_stick\n",
      "    _do_plot_candle(date, p_open, high, low, close, volume, view_index, symbol, day_sum, save, minute)\n",
      "  File \"D:\\sean.chen\\trader\\abu\\abupy\\MarketBu\\ABuMarketDrawing.py\", line 257, in _do_plot_candle\n",
      "    import matplotlib.date as mdf\n",
      "ModuleNotFoundError: No module named 'matplotlib.date'\n"
     ]
    }
   ],
   "source": [
    "trade_df = ABuMarketDrawing.plot_candle_from_order(view_orders)"
   ]
  },
  {
   "cell_type": "code",
   "execution_count": 19,
   "metadata": {},
   "outputs": [
    {
     "ename": "SyntaxError",
     "evalue": "invalid syntax (<ipython-input-19-4cf4f10edf52>, line 1)",
     "output_type": "error",
     "traceback": [
      "\u001b[1;36m  File \u001b[1;32m\"<ipython-input-19-4cf4f10edf52>\"\u001b[1;36m, line \u001b[1;32m1\u001b[0m\n\u001b[1;33m    import\u001b[0m\n\u001b[1;37m           ^\u001b[0m\n\u001b[1;31mSyntaxError\u001b[0m\u001b[1;31m:\u001b[0m invalid syntax\n"
     ]
    }
   ],
   "source": [
    "\n",
    "import "
   ]
  },
  {
   "cell_type": "code",
   "execution_count": null,
   "metadata": {},
   "outputs": [],
   "source": []
  }
 ],
 "metadata": {
  "kernelspec": {
   "display_name": "Python 3",
   "language": "python",
   "name": "python3"
  },
  "language_info": {
   "codemirror_mode": {
    "name": "ipython",
    "version": 3
   },
   "file_extension": ".py",
   "mimetype": "text/x-python",
   "name": "python",
   "nbconvert_exporter": "python",
   "pygments_lexer": "ipython3",
   "version": "3.7.4"
  }
 },
 "nbformat": 4,
 "nbformat_minor": 2
}
