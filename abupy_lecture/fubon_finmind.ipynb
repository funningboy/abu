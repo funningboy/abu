{
 "cells": [
  {
   "cell_type": "code",
   "execution_count": 1,
   "metadata": {},
   "outputs": [
    {
     "name": "stdout",
     "output_type": "stream",
     "text": [
      "UTF-8\n",
      "     industry symbol  co_name exchange\n",
      "0         ETF   0050   元大台灣50     twse\n",
      "1         ETF   0051  元大中型100     twse\n",
      "2         ETF   0052     富邦科技     twse\n",
      "3         ETF   0053     元大電子     twse\n",
      "4         ETF   0054   元大台商50     twse\n",
      "...       ...    ...      ...      ...\n",
      "2752     鋼鐵工業   9958      世紀鋼     twse\n",
      "2753     貿易百貨   9960      邁達康     tpex\n",
      "2754     鋼鐵工業   9962       有益     tpex\n",
      "2755       大盤  TAIEX     加權指數     twse\n",
      "2756       大盤   TPEx     櫃買指數     tpex\n",
      "\n",
      "[2757 rows x 4 columns]\n"
     ]
    }
   ],
   "source": [
    "import warnings\n",
    "warnings.filterwarnings('ignore')\n",
    "warnings.simplefilter('ignore')\n",
    "    \n",
    "import numpy as np\n",
    "import pandas as pd\n",
    "import matplotlib.pyplot as plt\n",
    "import mplfinance as mpf\n",
    "%matplotlib inline\n",
    "import os\n",
    "import sys\n",
    "\n",
    "print (sys.stdout.encoding)\n",
    "\n",
    "os.environ['E_FINMIND_USERID'] = 'funningboy'\n",
    "os.environ['E_FINMIND_PASSWORD'] = 'qwer1234'\n",
    "\n",
    "import requests\n",
    "import pandas as pd\n",
    "url = \"https://api.finmindtrade.com/api/v4/data\"\n",
    "parameter = {\n",
    "    \"dataset\": \"TaiwanStockInfo\",\n",
    "    \"token\": \"\", # 參考登入，獲取金鑰\n",
    "}\n",
    "resp = requests.get(url, params=parameter)\n",
    "data = resp.json()\n",
    "data = pd.DataFrame(data[\"data\"])\n",
    "\n",
    "rename = {\n",
    "    'stock_id': 'symbol',\n",
    "    'stock_name': 'co_name',\n",
    "    'type': 'exchange',\n",
    "    'industry_category': 'industry'\n",
    "}\n",
    "data = data.rename(columns=rename)\n",
    "#abu symbol frame\n",
    "#,co_name,symbol,market,asset,co_site,amplitude,pe_s_d,co_intro,sc,prospectus,co_tel,exchange,co_addr,mv,equity,industry,turnover,oo,pb_MRQ\n",
    "\n",
    "print(data)\n",
    "\n",
    "\n",
    "\n",
    "\n"
   ]
  },
  {
   "cell_type": "code",
   "execution_count": 100,
   "metadata": {},
   "outputs": [],
   "source": [
    "from bs4 import BeautifulSoup \n",
    "import requests\n",
    "import pandas as pd\n",
    "import numpy as np\n",
    "from datetime import date\n",
    "import matplotlib.pyplot as plt\n",
    "%matplotlib inline\n",
    "import os"
   ]
  },
  {
   "cell_type": "code",
   "execution_count": 103,
   "metadata": {},
   "outputs": [
    {
     "name": "stdout",
     "output_type": "stream",
     "text": [
      "2021-02-02\n"
     ]
    }
   ],
   "source": [
    "td = date.today().isoformat()\n",
    "print (td)\n",
    "lls = lambda x: [x]"
   ]
  },
  {
   "cell_type": "code",
   "execution_count": 125,
   "metadata": {},
   "outputs": [
    {
     "data": {
      "text/html": [
       "<div>\n",
       "<style scoped>\n",
       "    .dataframe tbody tr th:only-of-type {\n",
       "        vertical-align: middle;\n",
       "    }\n",
       "\n",
       "    .dataframe tbody tr th {\n",
       "        vertical-align: top;\n",
       "    }\n",
       "\n",
       "    .dataframe thead th {\n",
       "        text-align: right;\n",
       "    }\n",
       "</style>\n",
       "<table border=\"1\" class=\"dataframe\">\n",
       "  <thead>\n",
       "    <tr style=\"text-align: right;\">\n",
       "      <th></th>\n",
       "      <th>O</th>\n",
       "      <th>H</th>\n",
       "      <th>L</th>\n",
       "      <th>C</th>\n",
       "      <th>V</th>\n",
       "    </tr>\n",
       "  </thead>\n",
       "  <tbody>\n",
       "    <tr>\n",
       "      <td>0</td>\n",
       "      <td>629.00</td>\n",
       "      <td>638.00</td>\n",
       "      <td>622.00</td>\n",
       "      <td>632.00</td>\n",
       "      <td>83157</td>\n",
       "    </tr>\n",
       "  </tbody>\n",
       "</table>\n",
       "</div>"
      ],
      "text/plain": [
       "        O       H       L       C      V\n",
       "0  629.00  638.00  622.00  632.00  83157"
      ]
     },
     "execution_count": 125,
     "metadata": {},
     "output_type": "execute_result"
    }
   ],
   "source": [
    "URL = 'http://fubon-ebrokerdj.fbs.com.tw/Z/ZC/ZCX/ZCX_2330.djhtm'\n",
    "\n",
    "resp = requests.get(URL)\n",
    "soup = BeautifulSoup(resp.text, 'html.parser')\n",
    "table = soup.find_all('table', {'class': 't01'})[1]\n",
    "values = list(map(lambda x: str(x.text).replace(',',''), table.find_all('td', {'class': 't3n1'})))\n",
    "ohlcV = {\n",
    "    'O': 0,\n",
    "    'H': 1,\n",
    "    'L': 2,\n",
    "    'C': 3,\n",
    "    'V': 11\n",
    "}\n",
    "for k,v in ohlcV.items():\n",
    "    ohlcV[k] = lls(values[ohlcV[k]])\n",
    "    \n",
    "ohlcV = pd.DataFrame(ohlcV)\n",
    "ohlcV"
   ]
  },
  {
   "cell_type": "code",
   "execution_count": 126,
   "metadata": {},
   "outputs": [
    {
     "name": "stdout",
     "output_type": "stream",
     "text": [
      "['3093', '5174', '190', '34453', '6482595', '0.53%', '206', '166', '0', '976', '2.83%', '45', '2614', '2742', '49', '36724', '6482595', '0.57%', '270', '109', '0', '936', '2.55%', '38', '2925', '3153', '180', '36901', '6482595', '0.57%', '79', '125', '1', '775', '2.10%', '26', '4007', '2235', '107', '37309', '6482595', '0.58%', '102', '239', '0', '822', '2.20%', '134', '2125', '1316', '110', '35644', '6482595', '0.55%', '113', '60', '2', '959', '2.69%', '33']\n"
     ]
    },
    {
     "data": {
      "text/html": [
       "<div>\n",
       "<style scoped>\n",
       "    .dataframe tbody tr th:only-of-type {\n",
       "        vertical-align: middle;\n",
       "    }\n",
       "\n",
       "    .dataframe tbody tr th {\n",
       "        vertical-align: top;\n",
       "    }\n",
       "\n",
       "    .dataframe thead th {\n",
       "        text-align: right;\n",
       "    }\n",
       "</style>\n",
       "<table border=\"1\" class=\"dataframe\">\n",
       "  <thead>\n",
       "    <tr style=\"text-align: right;\">\n",
       "      <th></th>\n",
       "      <th>MarginPurchaseBuy</th>\n",
       "      <th>MarginPurchaseCashRepayment</th>\n",
       "      <th>MarginPurchaseLimit</th>\n",
       "      <th>MarginPurchaseSell</th>\n",
       "      <th>MarginPurchaseTodayBalance</th>\n",
       "      <th>MarginPurchaseYesterdayBalance</th>\n",
       "      <th>date</th>\n",
       "      <th>stock_id</th>\n",
       "    </tr>\n",
       "  </thead>\n",
       "  <tbody>\n",
       "    <tr>\n",
       "      <td>0</td>\n",
       "      <td>3093</td>\n",
       "      <td>190</td>\n",
       "      <td>6482595</td>\n",
       "      <td>5174</td>\n",
       "      <td>34453</td>\n",
       "      <td>166</td>\n",
       "      <td>2021-02-02</td>\n",
       "      <td>2330</td>\n",
       "    </tr>\n",
       "  </tbody>\n",
       "</table>\n",
       "</div>"
      ],
      "text/plain": [
       "  MarginPurchaseBuy MarginPurchaseCashRepayment MarginPurchaseLimit  \\\n",
       "0              3093                         190             6482595   \n",
       "\n",
       "  MarginPurchaseSell MarginPurchaseTodayBalance  \\\n",
       "0               5174                      34453   \n",
       "\n",
       "  MarginPurchaseYesterdayBalance        date stock_id  \n",
       "0                            166  2021-02-02     2330  "
      ]
     },
     "execution_count": 126,
     "metadata": {},
     "output_type": "execute_result"
    }
   ],
   "source": [
    "URL= 'http://fubon-ebrokerdj.fbs.com.tw/z/zc/zcx/zcxD5.djjs?A=2330'\n",
    "\n",
    "resp = requests.get(URL)\n",
    "soup = BeautifulSoup(resp.text, 'html.parser')\n",
    "table = soup.find_all('table', {'class': 't01'})[0]\n",
    "values = list(map(lambda x: str(x.text).replace(',',''), table.find_all('td', {'class': 't3n1'})))\n",
    "print(values)\n",
    "MarginPS = {\n",
    "    'MarginPurchaseBuy': 0,\n",
    "    'MarginPurchaseCashRepayment' : 2,\n",
    "    'MarginPurchaseLimit': 4,\n",
    "    'MarginPurchaseSell': 1,\n",
    "    'MarginPurchaseTodayBalance': 3,\n",
    "    'MarginPurchaseYesterdayBalance': 7\n",
    "}\n",
    "for k,v in MarginPS.items():\n",
    "    MarginPS[k] = lls(values[MarginPS[k]])\n",
    "    \n",
    "MarginPS.update({\n",
    "    'date': [td],\n",
    "    'stock_id': ['2330']\n",
    "})\n",
    "data = pd.DataFrame(MarginPS)\n",
    "data\n",
    "\n"
   ]
  },
  {
   "cell_type": "code",
   "execution_count": 120,
   "metadata": {},
   "outputs": [
    {
     "data": {
      "text/html": [
       "<div>\n",
       "<style scoped>\n",
       "    .dataframe tbody tr th:only-of-type {\n",
       "        vertical-align: middle;\n",
       "    }\n",
       "\n",
       "    .dataframe tbody tr th {\n",
       "        vertical-align: top;\n",
       "    }\n",
       "\n",
       "    .dataframe thead th {\n",
       "        text-align: right;\n",
       "    }\n",
       "</style>\n",
       "<table border=\"1\" class=\"dataframe\">\n",
       "  <thead>\n",
       "    <tr style=\"text-align: right;\">\n",
       "      <th></th>\n",
       "      <th>date</th>\n",
       "      <th>stock_id</th>\n",
       "      <th>MarginPurchaseBuy</th>\n",
       "      <th>MarginPurchaseCashRepayment</th>\n",
       "      <th>MarginPurchaseLimit</th>\n",
       "      <th>MarginPurchaseSell</th>\n",
       "      <th>MarginPurchaseTodayBalance</th>\n",
       "      <th>MarginPurchaseYesterdayBalance</th>\n",
       "      <th>Note</th>\n",
       "      <th>OffsetLoanAndShort</th>\n",
       "      <th>ShortSaleBuy</th>\n",
       "      <th>ShortSaleCashRepayment</th>\n",
       "      <th>ShortSaleLimit</th>\n",
       "      <th>ShortSaleSell</th>\n",
       "      <th>ShortSaleTodayBalance</th>\n",
       "      <th>ShortSaleYesterdayBalance</th>\n",
       "    </tr>\n",
       "  </thead>\n",
       "  <tbody>\n",
       "    <tr>\n",
       "      <td>0</td>\n",
       "      <td>2021-02-02</td>\n",
       "      <td>2330</td>\n",
       "      <td>3093</td>\n",
       "      <td>190</td>\n",
       "      <td>6482595</td>\n",
       "      <td>5174</td>\n",
       "      <td>34453</td>\n",
       "      <td>36724</td>\n",
       "      <td></td>\n",
       "      <td>45</td>\n",
       "      <td>166</td>\n",
       "      <td>0</td>\n",
       "      <td>6482595</td>\n",
       "      <td>206</td>\n",
       "      <td>976</td>\n",
       "      <td>936</td>\n",
       "    </tr>\n",
       "  </tbody>\n",
       "</table>\n",
       "</div>"
      ],
      "text/plain": [
       "         date stock_id  MarginPurchaseBuy  MarginPurchaseCashRepayment  \\\n",
       "0  2021-02-02     2330               3093                          190   \n",
       "\n",
       "   MarginPurchaseLimit  MarginPurchaseSell  MarginPurchaseTodayBalance  \\\n",
       "0              6482595                5174                       34453   \n",
       "\n",
       "   MarginPurchaseYesterdayBalance Note  OffsetLoanAndShort  ShortSaleBuy  \\\n",
       "0                           36724                       45           166   \n",
       "\n",
       "   ShortSaleCashRepayment  ShortSaleLimit  ShortSaleSell  \\\n",
       "0                       0         6482595            206   \n",
       "\n",
       "   ShortSaleTodayBalance  ShortSaleYesterdayBalance  \n",
       "0                    976                        936  "
      ]
     },
     "execution_count": 120,
     "metadata": {},
     "output_type": "execute_result"
    }
   ],
   "source": [
    "url = \"https://api.finmindtrade.com/api/v4/data\"\n",
    "parameter = {\n",
    "    \"dataset\": \"TaiwanStockMarginPurchaseShortSale\",\n",
    "    \"data_id\": \"2330\",\n",
    "    \"start_date\": td,\n",
    "    \"token\": \"\", # 參考登入，獲取金鑰\n",
    "}\n",
    "data = requests.get(url, params=parameter)\n",
    "data = data.json()\n",
    "data = pd.DataFrame(data['data'])\n",
    "data\n",
    "#data.head()"
   ]
  },
  {
   "cell_type": "code",
   "execution_count": null,
   "metadata": {},
   "outputs": [],
   "source": []
  },
  {
   "cell_type": "code",
   "execution_count": 47,
   "metadata": {},
   "outputs": [
    {
     "ename": "NameError",
     "evalue": "name 'sys' is not defined",
     "output_type": "error",
     "traceback": [
      "\u001b[1;31m---------------------------------------------------------------------------\u001b[0m",
      "\u001b[1;31mNameError\u001b[0m                                 Traceback (most recent call last)",
      "\u001b[1;32m<ipython-input-47-940cd825bf84>\u001b[0m in \u001b[0;36m<module>\u001b[1;34m\u001b[0m\n\u001b[0;32m      1\u001b[0m \u001b[1;31m# 使用insert 0即只使用github，避免交叉使用了pip安装的abupy，导致的版本不一致问题\u001b[0m\u001b[1;33m\u001b[0m\u001b[1;33m\u001b[0m\u001b[1;33m\u001b[0m\u001b[0m\n\u001b[1;32m----> 2\u001b[1;33m \u001b[0msys\u001b[0m\u001b[1;33m.\u001b[0m\u001b[0mpath\u001b[0m\u001b[1;33m.\u001b[0m\u001b[0minsert\u001b[0m\u001b[1;33m(\u001b[0m\u001b[1;36m0\u001b[0m\u001b[1;33m,\u001b[0m \u001b[0mos\u001b[0m\u001b[1;33m.\u001b[0m\u001b[0mpath\u001b[0m\u001b[1;33m.\u001b[0m\u001b[0mabspath\u001b[0m\u001b[1;33m(\u001b[0m\u001b[1;34m'../'\u001b[0m\u001b[1;33m)\u001b[0m\u001b[1;33m)\u001b[0m\u001b[1;33m\u001b[0m\u001b[1;33m\u001b[0m\u001b[0m\n\u001b[0m\u001b[0;32m      3\u001b[0m \u001b[1;32mimport\u001b[0m \u001b[0mabupy\u001b[0m\u001b[1;33m\u001b[0m\u001b[1;33m\u001b[0m\u001b[0m\n",
      "\u001b[1;31mNameError\u001b[0m: name 'sys' is not defined"
     ]
    }
   ],
   "source": [
    "# 使用insert 0即只使用github，避免交叉使用了pip安装的abupy，导致的版本不一致问题\n",
    "sys.path.insert(0, os.path.abspath('../'))\n",
    "import abupy"
   ]
  },
  {
   "cell_type": "code",
   "execution_count": 3,
   "metadata": {},
   "outputs": [
    {
     "name": "stderr",
     "output_type": "stream",
     "text": [
      "disable example env\n"
     ]
    }
   ],
   "source": [
    "# 使用沙盒数据，目的是和书中一样的数据环境\n",
    "abupy.env.disable_example_env_ipython()"
   ]
  },
  {
   "cell_type": "code",
   "execution_count": null,
   "metadata": {},
   "outputs": [],
   "source": []
  },
  {
   "cell_type": "code",
   "execution_count": 4,
   "metadata": {},
   "outputs": [],
   "source": [
    "abupy.env.g_is_ipython = 0"
   ]
  },
  {
   "cell_type": "code",
   "execution_count": 5,
   "metadata": {},
   "outputs": [
    {
     "data": {
      "text/plain": [
       "<EMarketDataFetchMode.E_DATA_FETCH_NORMAL: 0>"
      ]
     },
     "execution_count": 5,
     "metadata": {},
     "output_type": "execute_result"
    }
   ],
   "source": [
    "abupy.env.g_data_fetch_mode"
   ]
  },
  {
   "cell_type": "code",
   "execution_count": 6,
   "metadata": {},
   "outputs": [],
   "source": [
    "abupy.env.g_data_fetch_mode = abupy.EMarketDataFetchMode.E_DATA_FETCH_FORCE_NET"
   ]
  },
  {
   "cell_type": "code",
   "execution_count": 7,
   "metadata": {},
   "outputs": [
    {
     "name": "stdout",
     "output_type": "stream",
     "text": [
      "tw_TWSE:2330\n"
     ]
    },
    {
     "data": {
      "text/html": [
       "<div>\n",
       "<style scoped>\n",
       "    .dataframe tbody tr th:only-of-type {\n",
       "        vertical-align: middle;\n",
       "    }\n",
       "\n",
       "    .dataframe tbody tr th {\n",
       "        vertical-align: top;\n",
       "    }\n",
       "\n",
       "    .dataframe thead th {\n",
       "        text-align: right;\n",
       "    }\n",
       "</style>\n",
       "<table border=\"1\" class=\"dataframe\">\n",
       "  <thead>\n",
       "    <tr style=\"text-align: right;\">\n",
       "      <th></th>\n",
       "      <th>open</th>\n",
       "      <th>close</th>\n",
       "      <th>high</th>\n",
       "      <th>low</th>\n",
       "      <th>volume</th>\n",
       "      <th>date</th>\n",
       "      <th>pre_close</th>\n",
       "      <th>date_week</th>\n",
       "      <th>p_change</th>\n",
       "      <th>atr21</th>\n",
       "      <th>atr14</th>\n",
       "      <th>key</th>\n",
       "    </tr>\n",
       "  </thead>\n",
       "  <tbody>\n",
       "    <tr>\n",
       "      <td>2021-01-25</td>\n",
       "      <td>642.0</td>\n",
       "      <td>633.0</td>\n",
       "      <td>646.0</td>\n",
       "      <td>626.0</td>\n",
       "      <td>96640285</td>\n",
       "      <td>20210125</td>\n",
       "      <td>649.0</td>\n",
       "      <td>0</td>\n",
       "      <td>-2.465</td>\n",
       "      <td>24.3559</td>\n",
       "      <td>27.9452</td>\n",
       "      <td>979</td>\n",
       "    </tr>\n",
       "    <tr>\n",
       "      <td>2021-01-26</td>\n",
       "      <td>632.0</td>\n",
       "      <td>617.0</td>\n",
       "      <td>640.0</td>\n",
       "      <td>610.0</td>\n",
       "      <td>104358609</td>\n",
       "      <td>20210126</td>\n",
       "      <td>633.0</td>\n",
       "      <td>1</td>\n",
       "      <td>-2.528</td>\n",
       "      <td>25.6872</td>\n",
       "      <td>29.4192</td>\n",
       "      <td>980</td>\n",
       "    </tr>\n",
       "    <tr>\n",
       "      <td>2021-01-27</td>\n",
       "      <td>618.0</td>\n",
       "      <td>615.0</td>\n",
       "      <td>625.0</td>\n",
       "      <td>611.0</td>\n",
       "      <td>61490229</td>\n",
       "      <td>20210127</td>\n",
       "      <td>617.0</td>\n",
       "      <td>2</td>\n",
       "      <td>-0.324</td>\n",
       "      <td>25.3520</td>\n",
       "      <td>28.4300</td>\n",
       "      <td>981</td>\n",
       "    </tr>\n",
       "    <tr>\n",
       "      <td>2021-01-28</td>\n",
       "      <td>600.0</td>\n",
       "      <td>601.0</td>\n",
       "      <td>608.0</td>\n",
       "      <td>598.0</td>\n",
       "      <td>96108000</td>\n",
       "      <td>20210128</td>\n",
       "      <td>615.0</td>\n",
       "      <td>3</td>\n",
       "      <td>-2.276</td>\n",
       "      <td>24.7745</td>\n",
       "      <td>27.1727</td>\n",
       "      <td>982</td>\n",
       "    </tr>\n",
       "    <tr>\n",
       "      <td>2021-01-29</td>\n",
       "      <td>619.0</td>\n",
       "      <td>591.0</td>\n",
       "      <td>619.0</td>\n",
       "      <td>591.0</td>\n",
       "      <td>89819000</td>\n",
       "      <td>20210129</td>\n",
       "      <td>601.0</td>\n",
       "      <td>4</td>\n",
       "      <td>-1.664</td>\n",
       "      <td>25.0678</td>\n",
       "      <td>27.2830</td>\n",
       "      <td>983</td>\n",
       "    </tr>\n",
       "  </tbody>\n",
       "</table>\n",
       "</div>"
      ],
      "text/plain": [
       "             open  close   high    low     volume      date  pre_close  \\\n",
       "2021-01-25  642.0  633.0  646.0  626.0   96640285  20210125      649.0   \n",
       "2021-01-26  632.0  617.0  640.0  610.0  104358609  20210126      633.0   \n",
       "2021-01-27  618.0  615.0  625.0  611.0   61490229  20210127      617.0   \n",
       "2021-01-28  600.0  601.0  608.0  598.0   96108000  20210128      615.0   \n",
       "2021-01-29  619.0  591.0  619.0  591.0   89819000  20210129      601.0   \n",
       "\n",
       "            date_week  p_change    atr21    atr14  key  \n",
       "2021-01-25          0    -2.465  24.3559  27.9452  979  \n",
       "2021-01-26          1    -2.528  25.6872  29.4192  980  \n",
       "2021-01-27          2    -0.324  25.3520  28.4300  981  \n",
       "2021-01-28          3    -2.276  24.7745  27.1727  982  \n",
       "2021-01-29          4    -1.664  25.0678  27.2830  983  "
      ]
     },
     "execution_count": 7,
     "metadata": {},
     "output_type": "execute_result"
    }
   ],
   "source": [
    "abupy.ABuSymbolPd.make_kl_df('2330', n_folds=4).tail()"
   ]
  },
  {
   "cell_type": "code",
   "execution_count": null,
   "metadata": {},
   "outputs": [],
   "source": [
    "from abupy import AbuDoubleMaBuy, AbuDoubleMaSell, AbuSDBreak, AbuFactorBuyBreak\n",
    "from abupy import AbuFactorCloseAtrNStop, AbuFactorAtrNStop, AbuFactorPreAtrNStop\n",
    "from abupy import abu, ABuProgress, AbuMetricsBase, EMarketTargetType, ABuMarketDrawing\n",
    "from abupy import AbuFactorSellNDay, AbuFactorBuyWD, AbuFactorSellBreak"
   ]
  },
  {
   "cell_type": "code",
   "execution_count": 9,
   "metadata": {},
   "outputs": [],
   "source": [
    "buy_factors = [{'class': AbuDoubleMaBuy},\n",
    "               {'xd': 21, 'class': AbuFactorBuyBreak}, \n",
    "               {'xd': 7, 'class': AbuSDBreak}]\n",
    "\n",
    "sell_factors = [\n",
    "    {'class': AbuDoubleMaSell},\n",
    "    {'xd': 21, 'class': AbuFactorSellBreak},\n",
    "    {'stop_loss_n': 1.0, 'stop_win_n': 3.0, 'class': AbuFactorAtrNStop},\n",
    "    {'class': AbuFactorPreAtrNStop, 'pre_atr_n': 1.5},\n",
    "    {'class': AbuFactorCloseAtrNStop, 'close_atr_n': 1.5}\n",
    "]"
   ]
  },
  {
   "cell_type": "code",
   "execution_count": 10,
   "metadata": {},
   "outputs": [],
   "source": [
    "# 使用沙盒内的美股做为回测目标\n",
    "choice_symbols = ['2330']\n",
    "\n",
    "# 初始资金量\n",
    "read_cash = 3000000\n",
    "# 使用run_loop_back运行策略\n",
    "abu_result_tuple, kl_pd_manger = abu.run_loop_back(read_cash,\n",
    "                                                   buy_factors,\n",
    "                                                   sell_factors,\n",
    "                                                   n_folds=6,\n",
    "                                                   choice_symbols=choice_symbols)\n",
    "ABuProgress.clear_output()"
   ]
  },
  {
   "cell_type": "code",
   "execution_count": 11,
   "metadata": {
    "scrolled": false
   },
   "outputs": [
    {
     "name": "stdout",
     "output_type": "stream",
     "text": [
      "买入后卖出的交易数量:132\n",
      "买入后尚未卖出的交易数量:0\n",
      "胜率:52.2727%\n",
      "平均获利期望:6.9064%\n",
      "平均亏损期望:-2.8791%\n",
      "盈亏比:2.5300\n",
      "策略收益: 43.6585%\n",
      "基准收益: 314.6279%\n",
      "策略年化收益: 10.8551%\n",
      "基准年化收益: 78.2283%\n",
      "策略买入成交比例:97.7273%\n",
      "策略资金利用率比例:21.8259%\n",
      "策略共执行1468个交易日\n"
     ]
    },
    {
     "data": {
      "image/png": "[encoded data removed]",
      "text/plain": [
       "<Figure size 1008x504 with 1 Axes>"
      ]
     },
     "metadata": {},
     "output_type": "display_data"
    },
    {
     "data": {
      "text/plain": [
       "<abupy.MetricsBu.ABuMetricsBase.AbuMetricsBase at 0x1cde5f69448>"
      ]
     },
     "execution_count": 11,
     "metadata": {},
     "output_type": "execute_result"
    }
   ],
   "source": [
    "AbuMetricsBase.show_general(*abu_result_tuple, only_show_returns=True)"
   ]
  },
  {
   "cell_type": "code",
   "execution_count": 12,
   "metadata": {},
   "outputs": [
    {
     "data": {
      "text/html": [
       "<div>\n",
       "<style scoped>\n",
       "    .dataframe tbody tr th:only-of-type {\n",
       "        vertical-align: middle;\n",
       "    }\n",
       "\n",
       "    .dataframe tbody tr th {\n",
       "        vertical-align: top;\n",
       "    }\n",
       "\n",
       "    .dataframe thead th {\n",
       "        text-align: right;\n",
       "    }\n",
       "</style>\n",
       "<table border=\"1\" class=\"dataframe\">\n",
       "  <thead>\n",
       "    <tr style=\"text-align: right;\">\n",
       "      <th></th>\n",
       "      <th>buy_date</th>\n",
       "      <th>buy_price</th>\n",
       "      <th>buy_cnt</th>\n",
       "      <th>buy_factor</th>\n",
       "      <th>symbol</th>\n",
       "      <th>buy_pos</th>\n",
       "      <th>buy_type_str</th>\n",
       "      <th>expect_direction</th>\n",
       "      <th>sell_type_extra</th>\n",
       "      <th>sell_date</th>\n",
       "      <th>sell_price</th>\n",
       "      <th>sell_type</th>\n",
       "      <th>ml_features</th>\n",
       "      <th>key</th>\n",
       "      <th>profit</th>\n",
       "      <th>result</th>\n",
       "      <th>profit_cg</th>\n",
       "      <th>profit_cg_hunder</th>\n",
       "      <th>keep_days</th>\n",
       "    </tr>\n",
       "  </thead>\n",
       "  <tbody>\n",
       "    <tr>\n",
       "      <td>2015-02-12</td>\n",
       "      <td>20150212</td>\n",
       "      <td>148.50</td>\n",
       "      <td>4000.0</td>\n",
       "      <td>AbuSDBreak:7</td>\n",
       "      <td>2330</td>\n",
       "      <td>AbuAtrPosition</td>\n",
       "      <td>call</td>\n",
       "      <td>1.0</td>\n",
       "      <td>AbuFactorCloseAtrNStop:close_atr_n=1.5</td>\n",
       "      <td>20150309</td>\n",
       "      <td>146.25</td>\n",
       "      <td>loss</td>\n",
       "      <td>None</td>\n",
       "      <td>8</td>\n",
       "      <td>-9000.0</td>\n",
       "      <td>-1</td>\n",
       "      <td>-0.0152</td>\n",
       "      <td>-1.5152</td>\n",
       "      <td>25</td>\n",
       "    </tr>\n",
       "    <tr>\n",
       "      <td>2015-03-18</td>\n",
       "      <td>20150318</td>\n",
       "      <td>152.00</td>\n",
       "      <td>3000.0</td>\n",
       "      <td>AbuSDBreak:7</td>\n",
       "      <td>2330</td>\n",
       "      <td>AbuAtrPosition</td>\n",
       "      <td>call</td>\n",
       "      <td>1.0</td>\n",
       "      <td>AbuFactorSellBreak:21</td>\n",
       "      <td>20150330</td>\n",
       "      <td>143.00</td>\n",
       "      <td>loss</td>\n",
       "      <td>None</td>\n",
       "      <td>25</td>\n",
       "      <td>-27000.0</td>\n",
       "      <td>-1</td>\n",
       "      <td>-0.0592</td>\n",
       "      <td>-5.9211</td>\n",
       "      <td>12</td>\n",
       "    </tr>\n",
       "    <tr>\n",
       "      <td>2015-04-13</td>\n",
       "      <td>20150413</td>\n",
       "      <td>146.75</td>\n",
       "      <td>4000.0</td>\n",
       "      <td>AbuSDBreak:7</td>\n",
       "      <td>2330</td>\n",
       "      <td>AbuAtrPosition</td>\n",
       "      <td>call</td>\n",
       "      <td>1.0</td>\n",
       "      <td>AbuFactorSellBreak:21</td>\n",
       "      <td>20150420</td>\n",
       "      <td>142.75</td>\n",
       "      <td>loss</td>\n",
       "      <td>None</td>\n",
       "      <td>41</td>\n",
       "      <td>-16000.0</td>\n",
       "      <td>-1</td>\n",
       "      <td>-0.0273</td>\n",
       "      <td>-2.7257</td>\n",
       "      <td>7</td>\n",
       "    </tr>\n",
       "    <tr>\n",
       "      <td>2015-04-24</td>\n",
       "      <td>20150424</td>\n",
       "      <td>150.50</td>\n",
       "      <td>3000.0</td>\n",
       "      <td>AbuSDBreak:7</td>\n",
       "      <td>2330</td>\n",
       "      <td>AbuAtrPosition</td>\n",
       "      <td>call</td>\n",
       "      <td>1.0</td>\n",
       "      <td>AbuDoubleMaSell:61</td>\n",
       "      <td>20150515</td>\n",
       "      <td>146.00</td>\n",
       "      <td>loss</td>\n",
       "      <td>None</td>\n",
       "      <td>50</td>\n",
       "      <td>-13500.0</td>\n",
       "      <td>-1</td>\n",
       "      <td>-0.0299</td>\n",
       "      <td>-2.9900</td>\n",
       "      <td>21</td>\n",
       "    </tr>\n",
       "    <tr>\n",
       "      <td>2015-04-27</td>\n",
       "      <td>20150427</td>\n",
       "      <td>151.50</td>\n",
       "      <td>3000.0</td>\n",
       "      <td>AbuFactorBuyBreak:21</td>\n",
       "      <td>2330</td>\n",
       "      <td>AbuAtrPosition</td>\n",
       "      <td>call</td>\n",
       "      <td>1.0</td>\n",
       "      <td>AbuDoubleMaSell:61</td>\n",
       "      <td>20150515</td>\n",
       "      <td>146.00</td>\n",
       "      <td>loss</td>\n",
       "      <td>None</td>\n",
       "      <td>51</td>\n",
       "      <td>-16500.0</td>\n",
       "      <td>-1</td>\n",
       "      <td>-0.0363</td>\n",
       "      <td>-3.6304</td>\n",
       "      <td>18</td>\n",
       "    </tr>\n",
       "    <tr>\n",
       "      <td>...</td>\n",
       "      <td>...</td>\n",
       "      <td>...</td>\n",
       "      <td>...</td>\n",
       "      <td>...</td>\n",
       "      <td>...</td>\n",
       "      <td>...</td>\n",
       "      <td>...</td>\n",
       "      <td>...</td>\n",
       "      <td>...</td>\n",
       "      <td>...</td>\n",
       "      <td>...</td>\n",
       "      <td>...</td>\n",
       "      <td>...</td>\n",
       "      <td>...</td>\n",
       "      <td>...</td>\n",
       "      <td>...</td>\n",
       "      <td>...</td>\n",
       "      <td>...</td>\n",
       "      <td>...</td>\n",
       "    </tr>\n",
       "    <tr>\n",
       "      <td>2020-11-16</td>\n",
       "      <td>20201116</td>\n",
       "      <td>476.75</td>\n",
       "      <td>1000.0</td>\n",
       "      <td>AbuFactorBuyBreak:21</td>\n",
       "      <td>2330</td>\n",
       "      <td>AbuAtrPosition</td>\n",
       "      <td>call</td>\n",
       "      <td>1.0</td>\n",
       "      <td>AbuFactorCloseAtrNStop:close_atr_n=1.5</td>\n",
       "      <td>20201216</td>\n",
       "      <td>511.00</td>\n",
       "      <td>win</td>\n",
       "      <td>None</td>\n",
       "      <td>1414</td>\n",
       "      <td>34250.0</td>\n",
       "      <td>1</td>\n",
       "      <td>0.0718</td>\n",
       "      <td>7.1841</td>\n",
       "      <td>30</td>\n",
       "    </tr>\n",
       "    <tr>\n",
       "      <td>2020-11-17</td>\n",
       "      <td>20201117</td>\n",
       "      <td>495.75</td>\n",
       "      <td>1000.0</td>\n",
       "      <td>AbuSDBreak:7</td>\n",
       "      <td>2330</td>\n",
       "      <td>AbuAtrPosition</td>\n",
       "      <td>call</td>\n",
       "      <td>1.0</td>\n",
       "      <td>AbuFactorCloseAtrNStop:close_atr_n=1.5</td>\n",
       "      <td>20201216</td>\n",
       "      <td>511.00</td>\n",
       "      <td>win</td>\n",
       "      <td>None</td>\n",
       "      <td>1415</td>\n",
       "      <td>15250.0</td>\n",
       "      <td>1</td>\n",
       "      <td>0.0308</td>\n",
       "      <td>3.0761</td>\n",
       "      <td>29</td>\n",
       "    </tr>\n",
       "    <tr>\n",
       "      <td>2020-12-31</td>\n",
       "      <td>20201231</td>\n",
       "      <td>527.00</td>\n",
       "      <td>1000.0</td>\n",
       "      <td>AbuFactorBuyBreak:21</td>\n",
       "      <td>2330</td>\n",
       "      <td>AbuAtrPosition</td>\n",
       "      <td>call</td>\n",
       "      <td>1.0</td>\n",
       "      <td>AbuFactorAtrNStop:stop_win=3.0</td>\n",
       "      <td>20210122</td>\n",
       "      <td>657.00</td>\n",
       "      <td>win</td>\n",
       "      <td>None</td>\n",
       "      <td>1447</td>\n",
       "      <td>130000.0</td>\n",
       "      <td>1</td>\n",
       "      <td>0.2467</td>\n",
       "      <td>24.6679</td>\n",
       "      <td>22</td>\n",
       "    </tr>\n",
       "    <tr>\n",
       "      <td>2021-01-04</td>\n",
       "      <td>20210104</td>\n",
       "      <td>534.00</td>\n",
       "      <td>1000.0</td>\n",
       "      <td>AbuSDBreak:7</td>\n",
       "      <td>2330</td>\n",
       "      <td>AbuAtrPosition</td>\n",
       "      <td>call</td>\n",
       "      <td>1.0</td>\n",
       "      <td>AbuFactorCloseAtrNStop:close_atr_n=1.5</td>\n",
       "      <td>20210126</td>\n",
       "      <td>625.00</td>\n",
       "      <td>win</td>\n",
       "      <td>None</td>\n",
       "      <td>1448</td>\n",
       "      <td>91000.0</td>\n",
       "      <td>1</td>\n",
       "      <td>0.1704</td>\n",
       "      <td>17.0412</td>\n",
       "      <td>22</td>\n",
       "    </tr>\n",
       "    <tr>\n",
       "      <td>2021-01-14</td>\n",
       "      <td>20210114</td>\n",
       "      <td>592.00</td>\n",
       "      <td>1000.0</td>\n",
       "      <td>AbuSDBreak:7</td>\n",
       "      <td>2330</td>\n",
       "      <td>AbuAtrPosition</td>\n",
       "      <td>call</td>\n",
       "      <td>1.0</td>\n",
       "      <td>AbuFactorCloseAtrNStop:close_atr_n=1.5</td>\n",
       "      <td>20210126</td>\n",
       "      <td>625.00</td>\n",
       "      <td>win</td>\n",
       "      <td>None</td>\n",
       "      <td>1456</td>\n",
       "      <td>33000.0</td>\n",
       "      <td>1</td>\n",
       "      <td>0.0557</td>\n",
       "      <td>5.5743</td>\n",
       "      <td>12</td>\n",
       "    </tr>\n",
       "  </tbody>\n",
       "</table>\n",
       "<p>132 rows × 19 columns</p>\n",
       "</div>"
      ],
      "text/plain": [
       "            buy_date  buy_price  buy_cnt            buy_factor symbol  \\\n",
       "2015-02-12  20150212     148.50   4000.0          AbuSDBreak:7   2330   \n",
       "2015-03-18  20150318     152.00   3000.0          AbuSDBreak:7   2330   \n",
       "2015-04-13  20150413     146.75   4000.0          AbuSDBreak:7   2330   \n",
       "2015-04-24  20150424     150.50   3000.0          AbuSDBreak:7   2330   \n",
       "2015-04-27  20150427     151.50   3000.0  AbuFactorBuyBreak:21   2330   \n",
       "...              ...        ...      ...                   ...    ...   \n",
       "2020-11-16  20201116     476.75   1000.0  AbuFactorBuyBreak:21   2330   \n",
       "2020-11-17  20201117     495.75   1000.0          AbuSDBreak:7   2330   \n",
       "2020-12-31  20201231     527.00   1000.0  AbuFactorBuyBreak:21   2330   \n",
       "2021-01-04  20210104     534.00   1000.0          AbuSDBreak:7   2330   \n",
       "2021-01-14  20210114     592.00   1000.0          AbuSDBreak:7   2330   \n",
       "\n",
       "                   buy_pos buy_type_str  expect_direction  \\\n",
       "2015-02-12  AbuAtrPosition         call               1.0   \n",
       "2015-03-18  AbuAtrPosition         call               1.0   \n",
       "2015-04-13  AbuAtrPosition         call               1.0   \n",
       "2015-04-24  AbuAtrPosition         call               1.0   \n",
       "2015-04-27  AbuAtrPosition         call               1.0   \n",
       "...                    ...          ...               ...   \n",
       "2020-11-16  AbuAtrPosition         call               1.0   \n",
       "2020-11-17  AbuAtrPosition         call               1.0   \n",
       "2020-12-31  AbuAtrPosition         call               1.0   \n",
       "2021-01-04  AbuAtrPosition         call               1.0   \n",
       "2021-01-14  AbuAtrPosition         call               1.0   \n",
       "\n",
       "                                   sell_type_extra  sell_date  sell_price  \\\n",
       "2015-02-12  AbuFactorCloseAtrNStop:close_atr_n=1.5   20150309      146.25   \n",
       "2015-03-18                   AbuFactorSellBreak:21   20150330      143.00   \n",
       "2015-04-13                   AbuFactorSellBreak:21   20150420      142.75   \n",
       "2015-04-24                      AbuDoubleMaSell:61   20150515      146.00   \n",
       "2015-04-27                      AbuDoubleMaSell:61   20150515      146.00   \n",
       "...                                            ...        ...         ...   \n",
       "2020-11-16  AbuFactorCloseAtrNStop:close_atr_n=1.5   20201216      511.00   \n",
       "2020-11-17  AbuFactorCloseAtrNStop:close_atr_n=1.5   20201216      511.00   \n",
       "2020-12-31          AbuFactorAtrNStop:stop_win=3.0   20210122      657.00   \n",
       "2021-01-04  AbuFactorCloseAtrNStop:close_atr_n=1.5   20210126      625.00   \n",
       "2021-01-14  AbuFactorCloseAtrNStop:close_atr_n=1.5   20210126      625.00   \n",
       "\n",
       "           sell_type ml_features   key    profit  result  profit_cg  \\\n",
       "2015-02-12      loss        None     8   -9000.0      -1    -0.0152   \n",
       "2015-03-18      loss        None    25  -27000.0      -1    -0.0592   \n",
       "2015-04-13      loss        None    41  -16000.0      -1    -0.0273   \n",
       "2015-04-24      loss        None    50  -13500.0      -1    -0.0299   \n",
       "2015-04-27      loss        None    51  -16500.0      -1    -0.0363   \n",
       "...              ...         ...   ...       ...     ...        ...   \n",
       "2020-11-16       win        None  1414   34250.0       1     0.0718   \n",
       "2020-11-17       win        None  1415   15250.0       1     0.0308   \n",
       "2020-12-31       win        None  1447  130000.0       1     0.2467   \n",
       "2021-01-04       win        None  1448   91000.0       1     0.1704   \n",
       "2021-01-14       win        None  1456   33000.0       1     0.0557   \n",
       "\n",
       "            profit_cg_hunder  keep_days  \n",
       "2015-02-12           -1.5152         25  \n",
       "2015-03-18           -5.9211         12  \n",
       "2015-04-13           -2.7257          7  \n",
       "2015-04-24           -2.9900         21  \n",
       "2015-04-27           -3.6304         18  \n",
       "...                      ...        ...  \n",
       "2020-11-16            7.1841         30  \n",
       "2020-11-17            3.0761         29  \n",
       "2020-12-31           24.6679         22  \n",
       "2021-01-04           17.0412         22  \n",
       "2021-01-14            5.5743         12  \n",
       "\n",
       "[132 rows x 19 columns]"
      ]
     },
     "execution_count": 12,
     "metadata": {},
     "output_type": "execute_result"
    }
   ],
   "source": [
    "orders_pd = abu_result_tuple.orders_pd\n",
    "view_orders = orders_pd[(orders_pd['symbol'] == '2330')]\n",
    "view_orders"
   ]
  },
  {
   "cell_type": "code",
   "execution_count": null,
   "metadata": {},
   "outputs": [
    {
     "name": "stdout",
     "output_type": "stream",
     "text": [
      "tw_TWSE:2330\n"
     ]
    },
    {
     "name": "stderr",
     "output_type": "stream",
     "text": [
      "module 'mplfinance' has no attribute 'date2num'\n",
      "Traceback (most recent call last):\n",
      "  File \"D:\\sean.chen\\trader\\abu\\abupy\\MarketBu\\ABuMarketDrawing.py\", line 92, in plot_from_series\n",
      "    view_index=view_index_inner, save=save)\n",
      "  File \"D:\\sean.chen\\trader\\abu\\abupy\\MarketBu\\ABuMarketDrawing.py\", line 133, in plot_candle_from_symbol\n",
      "    plot_candle_form_klpd(kl_pd, day_sum, html_bk, view_index, save=save)\n",
      "  File \"D:\\sean.chen\\trader\\abu\\abupy\\MarketBu\\ABuMarketDrawing.py\", line 166, in plot_candle_form_klpd\n",
      "    fn, day_sum, html_bk, save)\n",
      "  File \"D:\\sean.chen\\trader\\abu\\abupy\\MarketBu\\ABuMarketDrawing.py\", line 188, in plot_candle_stick\n",
      "    _do_plot_candle(date, p_open, high, low, close, volume, view_index, symbol, day_sum, save, minute)\n",
      "  File \"D:\\sean.chen\\trader\\abu\\abupy\\MarketBu\\ABuMarketDrawing.py\", line 277, in _do_plot_candle\n",
      "    qutotes = []\n",
      "AttributeError: module 'mplfinance' has no attribute 'date2num'\n"
     ]
    },
    {
     "name": "stdout",
     "output_type": "stream",
     "text": [
      "tw_TWSE:2330\n"
     ]
    },
    {
     "name": "stderr",
     "output_type": "stream",
     "text": [
      "module 'mplfinance' has no attribute 'date2num'\n",
      "Traceback (most recent call last):\n",
      "  File \"D:\\sean.chen\\trader\\abu\\abupy\\MarketBu\\ABuMarketDrawing.py\", line 92, in plot_from_series\n",
      "    view_index=view_index_inner, save=save)\n",
      "  File \"D:\\sean.chen\\trader\\abu\\abupy\\MarketBu\\ABuMarketDrawing.py\", line 133, in plot_candle_from_symbol\n",
      "    plot_candle_form_klpd(kl_pd, day_sum, html_bk, view_index, save=save)\n",
      "  File \"D:\\sean.chen\\trader\\abu\\abupy\\MarketBu\\ABuMarketDrawing.py\", line 166, in plot_candle_form_klpd\n",
      "    fn, day_sum, html_bk, save)\n",
      "  File \"D:\\sean.chen\\trader\\abu\\abupy\\MarketBu\\ABuMarketDrawing.py\", line 188, in plot_candle_stick\n",
      "    _do_plot_candle(date, p_open, high, low, close, volume, view_index, symbol, day_sum, save, minute)\n",
      "  File \"D:\\sean.chen\\trader\\abu\\abupy\\MarketBu\\ABuMarketDrawing.py\", line 277, in _do_plot_candle\n",
      "    qutotes = []\n",
      "AttributeError: module 'mplfinance' has no attribute 'date2num'\n"
     ]
    },
    {
     "name": "stdout",
     "output_type": "stream",
     "text": [
      "tw_TWSE:2330\n"
     ]
    },
    {
     "name": "stderr",
     "output_type": "stream",
     "text": [
      "module 'mplfinance' has no attribute 'date2num'\n",
      "Traceback (most recent call last):\n",
      "  File \"D:\\sean.chen\\trader\\abu\\abupy\\MarketBu\\ABuMarketDrawing.py\", line 92, in plot_from_series\n",
      "    view_index=view_index_inner, save=save)\n",
      "  File \"D:\\sean.chen\\trader\\abu\\abupy\\MarketBu\\ABuMarketDrawing.py\", line 133, in plot_candle_from_symbol\n",
      "    plot_candle_form_klpd(kl_pd, day_sum, html_bk, view_index, save=save)\n",
      "  File \"D:\\sean.chen\\trader\\abu\\abupy\\MarketBu\\ABuMarketDrawing.py\", line 166, in plot_candle_form_klpd\n",
      "    fn, day_sum, html_bk, save)\n",
      "  File \"D:\\sean.chen\\trader\\abu\\abupy\\MarketBu\\ABuMarketDrawing.py\", line 188, in plot_candle_stick\n",
      "    _do_plot_candle(date, p_open, high, low, close, volume, view_index, symbol, day_sum, save, minute)\n",
      "  File \"D:\\sean.chen\\trader\\abu\\abupy\\MarketBu\\ABuMarketDrawing.py\", line 277, in _do_plot_candle\n",
      "    qutotes = []\n",
      "AttributeError: module 'mplfinance' has no attribute 'date2num'\n"
     ]
    },
    {
     "name": "stdout",
     "output_type": "stream",
     "text": [
      "tw_TWSE:2330\n"
     ]
    },
    {
     "name": "stderr",
     "output_type": "stream",
     "text": [
      "module 'mplfinance' has no attribute 'date2num'\n",
      "Traceback (most recent call last):\n",
      "  File \"D:\\sean.chen\\trader\\abu\\abupy\\MarketBu\\ABuMarketDrawing.py\", line 92, in plot_from_series\n",
      "    view_index=view_index_inner, save=save)\n",
      "  File \"D:\\sean.chen\\trader\\abu\\abupy\\MarketBu\\ABuMarketDrawing.py\", line 133, in plot_candle_from_symbol\n",
      "    plot_candle_form_klpd(kl_pd, day_sum, html_bk, view_index, save=save)\n",
      "  File \"D:\\sean.chen\\trader\\abu\\abupy\\MarketBu\\ABuMarketDrawing.py\", line 166, in plot_candle_form_klpd\n",
      "    fn, day_sum, html_bk, save)\n",
      "  File \"D:\\sean.chen\\trader\\abu\\abupy\\MarketBu\\ABuMarketDrawing.py\", line 188, in plot_candle_stick\n",
      "    _do_plot_candle(date, p_open, high, low, close, volume, view_index, symbol, day_sum, save, minute)\n",
      "  File \"D:\\sean.chen\\trader\\abu\\abupy\\MarketBu\\ABuMarketDrawing.py\", line 277, in _do_plot_candle\n",
      "    qutotes = []\n",
      "AttributeError: module 'mplfinance' has no attribute 'date2num'\n"
     ]
    },
    {
     "name": "stdout",
     "output_type": "stream",
     "text": [
      "tw_TWSE:2330\n"
     ]
    },
    {
     "name": "stderr",
     "output_type": "stream",
     "text": [
      "module 'mplfinance' has no attribute 'date2num'\n",
      "Traceback (most recent call last):\n",
      "  File \"D:\\sean.chen\\trader\\abu\\abupy\\MarketBu\\ABuMarketDrawing.py\", line 92, in plot_from_series\n",
      "    view_index=view_index_inner, save=save)\n",
      "  File \"D:\\sean.chen\\trader\\abu\\abupy\\MarketBu\\ABuMarketDrawing.py\", line 133, in plot_candle_from_symbol\n",
      "    plot_candle_form_klpd(kl_pd, day_sum, html_bk, view_index, save=save)\n",
      "  File \"D:\\sean.chen\\trader\\abu\\abupy\\MarketBu\\ABuMarketDrawing.py\", line 166, in plot_candle_form_klpd\n",
      "    fn, day_sum, html_bk, save)\n",
      "  File \"D:\\sean.chen\\trader\\abu\\abupy\\MarketBu\\ABuMarketDrawing.py\", line 188, in plot_candle_stick\n",
      "    _do_plot_candle(date, p_open, high, low, close, volume, view_index, symbol, day_sum, save, minute)\n",
      "  File \"D:\\sean.chen\\trader\\abu\\abupy\\MarketBu\\ABuMarketDrawing.py\", line 277, in _do_plot_candle\n",
      "    qutotes = []\n",
      "AttributeError: module 'mplfinance' has no attribute 'date2num'\n"
     ]
    },
    {
     "name": "stdout",
     "output_type": "stream",
     "text": [
      "tw_TWSE:2330\n"
     ]
    },
    {
     "name": "stderr",
     "output_type": "stream",
     "text": [
      "module 'mplfinance' has no attribute 'date2num'\n",
      "Traceback (most recent call last):\n",
      "  File \"D:\\sean.chen\\trader\\abu\\abupy\\MarketBu\\ABuMarketDrawing.py\", line 92, in plot_from_series\n",
      "    view_index=view_index_inner, save=save)\n",
      "  File \"D:\\sean.chen\\trader\\abu\\abupy\\MarketBu\\ABuMarketDrawing.py\", line 133, in plot_candle_from_symbol\n",
      "    plot_candle_form_klpd(kl_pd, day_sum, html_bk, view_index, save=save)\n",
      "  File \"D:\\sean.chen\\trader\\abu\\abupy\\MarketBu\\ABuMarketDrawing.py\", line 166, in plot_candle_form_klpd\n",
      "    fn, day_sum, html_bk, save)\n",
      "  File \"D:\\sean.chen\\trader\\abu\\abupy\\MarketBu\\ABuMarketDrawing.py\", line 188, in plot_candle_stick\n",
      "    _do_plot_candle(date, p_open, high, low, close, volume, view_index, symbol, day_sum, save, minute)\n",
      "  File \"D:\\sean.chen\\trader\\abu\\abupy\\MarketBu\\ABuMarketDrawing.py\", line 277, in _do_plot_candle\n",
      "    qutotes = []\n",
      "AttributeError: module 'mplfinance' has no attribute 'date2num'\n"
     ]
    },
    {
     "name": "stdout",
     "output_type": "stream",
     "text": [
      "tw_TWSE:2330\n"
     ]
    },
    {
     "name": "stderr",
     "output_type": "stream",
     "text": [
      "module 'mplfinance' has no attribute 'date2num'\n",
      "Traceback (most recent call last):\n",
      "  File \"D:\\sean.chen\\trader\\abu\\abupy\\MarketBu\\ABuMarketDrawing.py\", line 92, in plot_from_series\n",
      "    view_index=view_index_inner, save=save)\n",
      "  File \"D:\\sean.chen\\trader\\abu\\abupy\\MarketBu\\ABuMarketDrawing.py\", line 133, in plot_candle_from_symbol\n",
      "    plot_candle_form_klpd(kl_pd, day_sum, html_bk, view_index, save=save)\n",
      "  File \"D:\\sean.chen\\trader\\abu\\abupy\\MarketBu\\ABuMarketDrawing.py\", line 166, in plot_candle_form_klpd\n",
      "    fn, day_sum, html_bk, save)\n",
      "  File \"D:\\sean.chen\\trader\\abu\\abupy\\MarketBu\\ABuMarketDrawing.py\", line 188, in plot_candle_stick\n",
      "    _do_plot_candle(date, p_open, high, low, close, volume, view_index, symbol, day_sum, save, minute)\n",
      "  File \"D:\\sean.chen\\trader\\abu\\abupy\\MarketBu\\ABuMarketDrawing.py\", line 277, in _do_plot_candle\n",
      "    qutotes = []\n",
      "AttributeError: module 'mplfinance' has no attribute 'date2num'\n"
     ]
    },
    {
     "name": "stdout",
     "output_type": "stream",
     "text": [
      "tw_TWSE:2330\n"
     ]
    },
    {
     "name": "stderr",
     "output_type": "stream",
     "text": [
      "module 'mplfinance' has no attribute 'date2num'\n",
      "Traceback (most recent call last):\n",
      "  File \"D:\\sean.chen\\trader\\abu\\abupy\\MarketBu\\ABuMarketDrawing.py\", line 92, in plot_from_series\n",
      "    view_index=view_index_inner, save=save)\n",
      "  File \"D:\\sean.chen\\trader\\abu\\abupy\\MarketBu\\ABuMarketDrawing.py\", line 133, in plot_candle_from_symbol\n",
      "    plot_candle_form_klpd(kl_pd, day_sum, html_bk, view_index, save=save)\n",
      "  File \"D:\\sean.chen\\trader\\abu\\abupy\\MarketBu\\ABuMarketDrawing.py\", line 166, in plot_candle_form_klpd\n",
      "    fn, day_sum, html_bk, save)\n",
      "  File \"D:\\sean.chen\\trader\\abu\\abupy\\MarketBu\\ABuMarketDrawing.py\", line 188, in plot_candle_stick\n",
      "    _do_plot_candle(date, p_open, high, low, close, volume, view_index, symbol, day_sum, save, minute)\n",
      "  File \"D:\\sean.chen\\trader\\abu\\abupy\\MarketBu\\ABuMarketDrawing.py\", line 277, in _do_plot_candle\n",
      "    qutotes = []\n",
      "AttributeError: module 'mplfinance' has no attribute 'date2num'\n"
     ]
    },
    {
     "name": "stdout",
     "output_type": "stream",
     "text": [
      "tw_TWSE:2330\n"
     ]
    },
    {
     "name": "stderr",
     "output_type": "stream",
     "text": [
      "module 'mplfinance' has no attribute 'date2num'\n",
      "Traceback (most recent call last):\n",
      "  File \"D:\\sean.chen\\trader\\abu\\abupy\\MarketBu\\ABuMarketDrawing.py\", line 92, in plot_from_series\n",
      "    view_index=view_index_inner, save=save)\n",
      "  File \"D:\\sean.chen\\trader\\abu\\abupy\\MarketBu\\ABuMarketDrawing.py\", line 133, in plot_candle_from_symbol\n",
      "    plot_candle_form_klpd(kl_pd, day_sum, html_bk, view_index, save=save)\n",
      "  File \"D:\\sean.chen\\trader\\abu\\abupy\\MarketBu\\ABuMarketDrawing.py\", line 166, in plot_candle_form_klpd\n",
      "    fn, day_sum, html_bk, save)\n",
      "  File \"D:\\sean.chen\\trader\\abu\\abupy\\MarketBu\\ABuMarketDrawing.py\", line 188, in plot_candle_stick\n",
      "    _do_plot_candle(date, p_open, high, low, close, volume, view_index, symbol, day_sum, save, minute)\n",
      "  File \"D:\\sean.chen\\trader\\abu\\abupy\\MarketBu\\ABuMarketDrawing.py\", line 277, in _do_plot_candle\n",
      "    qutotes = []\n",
      "AttributeError: module 'mplfinance' has no attribute 'date2num'\n"
     ]
    },
    {
     "name": "stdout",
     "output_type": "stream",
     "text": [
      "tw_TWSE:2330\n"
     ]
    },
    {
     "name": "stderr",
     "output_type": "stream",
     "text": [
      "module 'mplfinance' has no attribute 'date2num'\n",
      "Traceback (most recent call last):\n",
      "  File \"D:\\sean.chen\\trader\\abu\\abupy\\MarketBu\\ABuMarketDrawing.py\", line 92, in plot_from_series\n",
      "    view_index=view_index_inner, save=save)\n",
      "  File \"D:\\sean.chen\\trader\\abu\\abupy\\MarketBu\\ABuMarketDrawing.py\", line 133, in plot_candle_from_symbol\n",
      "    plot_candle_form_klpd(kl_pd, day_sum, html_bk, view_index, save=save)\n",
      "  File \"D:\\sean.chen\\trader\\abu\\abupy\\MarketBu\\ABuMarketDrawing.py\", line 166, in plot_candle_form_klpd\n",
      "    fn, day_sum, html_bk, save)\n",
      "  File \"D:\\sean.chen\\trader\\abu\\abupy\\MarketBu\\ABuMarketDrawing.py\", line 188, in plot_candle_stick\n",
      "    _do_plot_candle(date, p_open, high, low, close, volume, view_index, symbol, day_sum, save, minute)\n",
      "  File \"D:\\sean.chen\\trader\\abu\\abupy\\MarketBu\\ABuMarketDrawing.py\", line 277, in _do_plot_candle\n",
      "    qutotes = []\n",
      "AttributeError: module 'mplfinance' has no attribute 'date2num'\n"
     ]
    },
    {
     "name": "stdout",
     "output_type": "stream",
     "text": [
      "tw_TWSE:2330\n"
     ]
    },
    {
     "name": "stderr",
     "output_type": "stream",
     "text": [
      "module 'mplfinance' has no attribute 'date2num'\n",
      "Traceback (most recent call last):\n",
      "  File \"D:\\sean.chen\\trader\\abu\\abupy\\MarketBu\\ABuMarketDrawing.py\", line 92, in plot_from_series\n",
      "    view_index=view_index_inner, save=save)\n",
      "  File \"D:\\sean.chen\\trader\\abu\\abupy\\MarketBu\\ABuMarketDrawing.py\", line 133, in plot_candle_from_symbol\n",
      "    plot_candle_form_klpd(kl_pd, day_sum, html_bk, view_index, save=save)\n",
      "  File \"D:\\sean.chen\\trader\\abu\\abupy\\MarketBu\\ABuMarketDrawing.py\", line 166, in plot_candle_form_klpd\n",
      "    fn, day_sum, html_bk, save)\n",
      "  File \"D:\\sean.chen\\trader\\abu\\abupy\\MarketBu\\ABuMarketDrawing.py\", line 188, in plot_candle_stick\n",
      "    _do_plot_candle(date, p_open, high, low, close, volume, view_index, symbol, day_sum, save, minute)\n",
      "  File \"D:\\sean.chen\\trader\\abu\\abupy\\MarketBu\\ABuMarketDrawing.py\", line 277, in _do_plot_candle\n",
      "    qutotes = []\n",
      "AttributeError: module 'mplfinance' has no attribute 'date2num'\n"
     ]
    },
    {
     "name": "stdout",
     "output_type": "stream",
     "text": [
      "tw_TWSE:2330\n"
     ]
    },
    {
     "name": "stderr",
     "output_type": "stream",
     "text": [
      "module 'mplfinance' has no attribute 'date2num'\n",
      "Traceback (most recent call last):\n",
      "  File \"D:\\sean.chen\\trader\\abu\\abupy\\MarketBu\\ABuMarketDrawing.py\", line 92, in plot_from_series\n",
      "    view_index=view_index_inner, save=save)\n",
      "  File \"D:\\sean.chen\\trader\\abu\\abupy\\MarketBu\\ABuMarketDrawing.py\", line 133, in plot_candle_from_symbol\n",
      "    plot_candle_form_klpd(kl_pd, day_sum, html_bk, view_index, save=save)\n",
      "  File \"D:\\sean.chen\\trader\\abu\\abupy\\MarketBu\\ABuMarketDrawing.py\", line 166, in plot_candle_form_klpd\n",
      "    fn, day_sum, html_bk, save)\n",
      "  File \"D:\\sean.chen\\trader\\abu\\abupy\\MarketBu\\ABuMarketDrawing.py\", line 188, in plot_candle_stick\n",
      "    _do_plot_candle(date, p_open, high, low, close, volume, view_index, symbol, day_sum, save, minute)\n",
      "  File \"D:\\sean.chen\\trader\\abu\\abupy\\MarketBu\\ABuMarketDrawing.py\", line 277, in _do_plot_candle\n",
      "    qutotes = []\n",
      "AttributeError: module 'mplfinance' has no attribute 'date2num'\n"
     ]
    },
    {
     "name": "stdout",
     "output_type": "stream",
     "text": [
      "tw_TWSE:2330\n"
     ]
    },
    {
     "name": "stderr",
     "output_type": "stream",
     "text": [
      "module 'mplfinance' has no attribute 'date2num'\n",
      "Traceback (most recent call last):\n",
      "  File \"D:\\sean.chen\\trader\\abu\\abupy\\MarketBu\\ABuMarketDrawing.py\", line 92, in plot_from_series\n",
      "    view_index=view_index_inner, save=save)\n",
      "  File \"D:\\sean.chen\\trader\\abu\\abupy\\MarketBu\\ABuMarketDrawing.py\", line 133, in plot_candle_from_symbol\n",
      "    plot_candle_form_klpd(kl_pd, day_sum, html_bk, view_index, save=save)\n",
      "  File \"D:\\sean.chen\\trader\\abu\\abupy\\MarketBu\\ABuMarketDrawing.py\", line 166, in plot_candle_form_klpd\n",
      "    fn, day_sum, html_bk, save)\n",
      "  File \"D:\\sean.chen\\trader\\abu\\abupy\\MarketBu\\ABuMarketDrawing.py\", line 188, in plot_candle_stick\n",
      "    _do_plot_candle(date, p_open, high, low, close, volume, view_index, symbol, day_sum, save, minute)\n",
      "  File \"D:\\sean.chen\\trader\\abu\\abupy\\MarketBu\\ABuMarketDrawing.py\", line 277, in _do_plot_candle\n",
      "    qutotes = []\n",
      "AttributeError: module 'mplfinance' has no attribute 'date2num'\n"
     ]
    },
    {
     "name": "stdout",
     "output_type": "stream",
     "text": [
      "tw_TWSE:2330\n"
     ]
    },
    {
     "name": "stderr",
     "output_type": "stream",
     "text": [
      "module 'mplfinance' has no attribute 'date2num'\n",
      "Traceback (most recent call last):\n",
      "  File \"D:\\sean.chen\\trader\\abu\\abupy\\MarketBu\\ABuMarketDrawing.py\", line 92, in plot_from_series\n",
      "    view_index=view_index_inner, save=save)\n",
      "  File \"D:\\sean.chen\\trader\\abu\\abupy\\MarketBu\\ABuMarketDrawing.py\", line 133, in plot_candle_from_symbol\n",
      "    plot_candle_form_klpd(kl_pd, day_sum, html_bk, view_index, save=save)\n",
      "  File \"D:\\sean.chen\\trader\\abu\\abupy\\MarketBu\\ABuMarketDrawing.py\", line 166, in plot_candle_form_klpd\n",
      "    fn, day_sum, html_bk, save)\n",
      "  File \"D:\\sean.chen\\trader\\abu\\abupy\\MarketBu\\ABuMarketDrawing.py\", line 188, in plot_candle_stick\n",
      "    _do_plot_candle(date, p_open, high, low, close, volume, view_index, symbol, day_sum, save, minute)\n",
      "  File \"D:\\sean.chen\\trader\\abu\\abupy\\MarketBu\\ABuMarketDrawing.py\", line 277, in _do_plot_candle\n",
      "    qutotes = []\n",
      "AttributeError: module 'mplfinance' has no attribute 'date2num'\n"
     ]
    },
    {
     "name": "stdout",
     "output_type": "stream",
     "text": [
      "tw_TWSE:2330\n"
     ]
    },
    {
     "name": "stderr",
     "output_type": "stream",
     "text": [
      "module 'mplfinance' has no attribute 'date2num'\n",
      "Traceback (most recent call last):\n",
      "  File \"D:\\sean.chen\\trader\\abu\\abupy\\MarketBu\\ABuMarketDrawing.py\", line 92, in plot_from_series\n",
      "    view_index=view_index_inner, save=save)\n",
      "  File \"D:\\sean.chen\\trader\\abu\\abupy\\MarketBu\\ABuMarketDrawing.py\", line 133, in plot_candle_from_symbol\n",
      "    plot_candle_form_klpd(kl_pd, day_sum, html_bk, view_index, save=save)\n",
      "  File \"D:\\sean.chen\\trader\\abu\\abupy\\MarketBu\\ABuMarketDrawing.py\", line 166, in plot_candle_form_klpd\n",
      "    fn, day_sum, html_bk, save)\n",
      "  File \"D:\\sean.chen\\trader\\abu\\abupy\\MarketBu\\ABuMarketDrawing.py\", line 188, in plot_candle_stick\n",
      "    _do_plot_candle(date, p_open, high, low, close, volume, view_index, symbol, day_sum, save, minute)\n",
      "  File \"D:\\sean.chen\\trader\\abu\\abupy\\MarketBu\\ABuMarketDrawing.py\", line 277, in _do_plot_candle\n",
      "    qutotes = []\n",
      "AttributeError: module 'mplfinance' has no attribute 'date2num'\n"
     ]
    },
    {
     "name": "stdout",
     "output_type": "stream",
     "text": [
      "tw_TWSE:2330\n"
     ]
    },
    {
     "name": "stderr",
     "output_type": "stream",
     "text": [
      "module 'mplfinance' has no attribute 'date2num'\n",
      "Traceback (most recent call last):\n",
      "  File \"D:\\sean.chen\\trader\\abu\\abupy\\MarketBu\\ABuMarketDrawing.py\", line 92, in plot_from_series\n",
      "    view_index=view_index_inner, save=save)\n",
      "  File \"D:\\sean.chen\\trader\\abu\\abupy\\MarketBu\\ABuMarketDrawing.py\", line 133, in plot_candle_from_symbol\n",
      "    plot_candle_form_klpd(kl_pd, day_sum, html_bk, view_index, save=save)\n",
      "  File \"D:\\sean.chen\\trader\\abu\\abupy\\MarketBu\\ABuMarketDrawing.py\", line 166, in plot_candle_form_klpd\n",
      "    fn, day_sum, html_bk, save)\n",
      "  File \"D:\\sean.chen\\trader\\abu\\abupy\\MarketBu\\ABuMarketDrawing.py\", line 188, in plot_candle_stick\n",
      "    _do_plot_candle(date, p_open, high, low, close, volume, view_index, symbol, day_sum, save, minute)\n",
      "  File \"D:\\sean.chen\\trader\\abu\\abupy\\MarketBu\\ABuMarketDrawing.py\", line 277, in _do_plot_candle\n",
      "    qutotes = []\n",
      "AttributeError: module 'mplfinance' has no attribute 'date2num'\n"
     ]
    },
    {
     "name": "stdout",
     "output_type": "stream",
     "text": [
      "tw_TWSE:2330\n"
     ]
    },
    {
     "name": "stderr",
     "output_type": "stream",
     "text": [
      "module 'mplfinance' has no attribute 'date2num'\n",
      "Traceback (most recent call last):\n",
      "  File \"D:\\sean.chen\\trader\\abu\\abupy\\MarketBu\\ABuMarketDrawing.py\", line 92, in plot_from_series\n",
      "    view_index=view_index_inner, save=save)\n",
      "  File \"D:\\sean.chen\\trader\\abu\\abupy\\MarketBu\\ABuMarketDrawing.py\", line 133, in plot_candle_from_symbol\n",
      "    plot_candle_form_klpd(kl_pd, day_sum, html_bk, view_index, save=save)\n",
      "  File \"D:\\sean.chen\\trader\\abu\\abupy\\MarketBu\\ABuMarketDrawing.py\", line 166, in plot_candle_form_klpd\n",
      "    fn, day_sum, html_bk, save)\n",
      "  File \"D:\\sean.chen\\trader\\abu\\abupy\\MarketBu\\ABuMarketDrawing.py\", line 188, in plot_candle_stick\n",
      "    _do_plot_candle(date, p_open, high, low, close, volume, view_index, symbol, day_sum, save, minute)\n",
      "  File \"D:\\sean.chen\\trader\\abu\\abupy\\MarketBu\\ABuMarketDrawing.py\", line 277, in _do_plot_candle\n",
      "    qutotes = []\n",
      "AttributeError: module 'mplfinance' has no attribute 'date2num'\n"
     ]
    },
    {
     "name": "stdout",
     "output_type": "stream",
     "text": [
      "tw_TWSE:2330\n"
     ]
    },
    {
     "name": "stderr",
     "output_type": "stream",
     "text": [
      "module 'mplfinance' has no attribute 'date2num'\n",
      "Traceback (most recent call last):\n",
      "  File \"D:\\sean.chen\\trader\\abu\\abupy\\MarketBu\\ABuMarketDrawing.py\", line 92, in plot_from_series\n",
      "    view_index=view_index_inner, save=save)\n",
      "  File \"D:\\sean.chen\\trader\\abu\\abupy\\MarketBu\\ABuMarketDrawing.py\", line 133, in plot_candle_from_symbol\n",
      "    plot_candle_form_klpd(kl_pd, day_sum, html_bk, view_index, save=save)\n",
      "  File \"D:\\sean.chen\\trader\\abu\\abupy\\MarketBu\\ABuMarketDrawing.py\", line 166, in plot_candle_form_klpd\n",
      "    fn, day_sum, html_bk, save)\n",
      "  File \"D:\\sean.chen\\trader\\abu\\abupy\\MarketBu\\ABuMarketDrawing.py\", line 188, in plot_candle_stick\n",
      "    _do_plot_candle(date, p_open, high, low, close, volume, view_index, symbol, day_sum, save, minute)\n",
      "  File \"D:\\sean.chen\\trader\\abu\\abupy\\MarketBu\\ABuMarketDrawing.py\", line 277, in _do_plot_candle\n",
      "    qutotes = []\n",
      "AttributeError: module 'mplfinance' has no attribute 'date2num'\n"
     ]
    },
    {
     "name": "stdout",
     "output_type": "stream",
     "text": [
      "tw_TWSE:2330\n"
     ]
    },
    {
     "name": "stderr",
     "output_type": "stream",
     "text": [
      "module 'mplfinance' has no attribute 'date2num'\n",
      "Traceback (most recent call last):\n",
      "  File \"D:\\sean.chen\\trader\\abu\\abupy\\MarketBu\\ABuMarketDrawing.py\", line 92, in plot_from_series\n",
      "    view_index=view_index_inner, save=save)\n",
      "  File \"D:\\sean.chen\\trader\\abu\\abupy\\MarketBu\\ABuMarketDrawing.py\", line 133, in plot_candle_from_symbol\n",
      "    plot_candle_form_klpd(kl_pd, day_sum, html_bk, view_index, save=save)\n",
      "  File \"D:\\sean.chen\\trader\\abu\\abupy\\MarketBu\\ABuMarketDrawing.py\", line 166, in plot_candle_form_klpd\n",
      "    fn, day_sum, html_bk, save)\n",
      "  File \"D:\\sean.chen\\trader\\abu\\abupy\\MarketBu\\ABuMarketDrawing.py\", line 188, in plot_candle_stick\n",
      "    _do_plot_candle(date, p_open, high, low, close, volume, view_index, symbol, day_sum, save, minute)\n",
      "  File \"D:\\sean.chen\\trader\\abu\\abupy\\MarketBu\\ABuMarketDrawing.py\", line 277, in _do_plot_candle\n",
      "    qutotes = []\n",
      "AttributeError: module 'mplfinance' has no attribute 'date2num'\n"
     ]
    },
    {
     "name": "stdout",
     "output_type": "stream",
     "text": [
      "tw_TWSE:2330\n"
     ]
    },
    {
     "name": "stderr",
     "output_type": "stream",
     "text": [
      "module 'mplfinance' has no attribute 'date2num'\n",
      "Traceback (most recent call last):\n",
      "  File \"D:\\sean.chen\\trader\\abu\\abupy\\MarketBu\\ABuMarketDrawing.py\", line 92, in plot_from_series\n",
      "    view_index=view_index_inner, save=save)\n",
      "  File \"D:\\sean.chen\\trader\\abu\\abupy\\MarketBu\\ABuMarketDrawing.py\", line 133, in plot_candle_from_symbol\n",
      "    plot_candle_form_klpd(kl_pd, day_sum, html_bk, view_index, save=save)\n",
      "  File \"D:\\sean.chen\\trader\\abu\\abupy\\MarketBu\\ABuMarketDrawing.py\", line 166, in plot_candle_form_klpd\n",
      "    fn, day_sum, html_bk, save)\n",
      "  File \"D:\\sean.chen\\trader\\abu\\abupy\\MarketBu\\ABuMarketDrawing.py\", line 188, in plot_candle_stick\n",
      "    _do_plot_candle(date, p_open, high, low, close, volume, view_index, symbol, day_sum, save, minute)\n",
      "  File \"D:\\sean.chen\\trader\\abu\\abupy\\MarketBu\\ABuMarketDrawing.py\", line 277, in _do_plot_candle\n",
      "    qutotes = []\n",
      "AttributeError: module 'mplfinance' has no attribute 'date2num'\n"
     ]
    },
    {
     "name": "stdout",
     "output_type": "stream",
     "text": [
      "tw_TWSE:2330\n"
     ]
    },
    {
     "name": "stderr",
     "output_type": "stream",
     "text": [
      "module 'mplfinance' has no attribute 'date2num'\n",
      "Traceback (most recent call last):\n",
      "  File \"D:\\sean.chen\\trader\\abu\\abupy\\MarketBu\\ABuMarketDrawing.py\", line 92, in plot_from_series\n",
      "    view_index=view_index_inner, save=save)\n",
      "  File \"D:\\sean.chen\\trader\\abu\\abupy\\MarketBu\\ABuMarketDrawing.py\", line 133, in plot_candle_from_symbol\n",
      "    plot_candle_form_klpd(kl_pd, day_sum, html_bk, view_index, save=save)\n",
      "  File \"D:\\sean.chen\\trader\\abu\\abupy\\MarketBu\\ABuMarketDrawing.py\", line 166, in plot_candle_form_klpd\n",
      "    fn, day_sum, html_bk, save)\n",
      "  File \"D:\\sean.chen\\trader\\abu\\abupy\\MarketBu\\ABuMarketDrawing.py\", line 188, in plot_candle_stick\n",
      "    _do_plot_candle(date, p_open, high, low, close, volume, view_index, symbol, day_sum, save, minute)\n",
      "  File \"D:\\sean.chen\\trader\\abu\\abupy\\MarketBu\\ABuMarketDrawing.py\", line 277, in _do_plot_candle\n",
      "    qutotes = []\n",
      "AttributeError: module 'mplfinance' has no attribute 'date2num'\n"
     ]
    },
    {
     "name": "stdout",
     "output_type": "stream",
     "text": [
      "tw_TWSE:2330\n"
     ]
    },
    {
     "name": "stderr",
     "output_type": "stream",
     "text": [
      "module 'mplfinance' has no attribute 'date2num'\n",
      "Traceback (most recent call last):\n",
      "  File \"D:\\sean.chen\\trader\\abu\\abupy\\MarketBu\\ABuMarketDrawing.py\", line 92, in plot_from_series\n",
      "    view_index=view_index_inner, save=save)\n",
      "  File \"D:\\sean.chen\\trader\\abu\\abupy\\MarketBu\\ABuMarketDrawing.py\", line 133, in plot_candle_from_symbol\n",
      "    plot_candle_form_klpd(kl_pd, day_sum, html_bk, view_index, save=save)\n",
      "  File \"D:\\sean.chen\\trader\\abu\\abupy\\MarketBu\\ABuMarketDrawing.py\", line 166, in plot_candle_form_klpd\n",
      "    fn, day_sum, html_bk, save)\n",
      "  File \"D:\\sean.chen\\trader\\abu\\abupy\\MarketBu\\ABuMarketDrawing.py\", line 188, in plot_candle_stick\n",
      "    _do_plot_candle(date, p_open, high, low, close, volume, view_index, symbol, day_sum, save, minute)\n",
      "  File \"D:\\sean.chen\\trader\\abu\\abupy\\MarketBu\\ABuMarketDrawing.py\", line 277, in _do_plot_candle\n",
      "    qutotes = []\n",
      "AttributeError: module 'mplfinance' has no attribute 'date2num'\n"
     ]
    },
    {
     "name": "stdout",
     "output_type": "stream",
     "text": [
      "tw_TWSE:2330\n"
     ]
    },
    {
     "name": "stderr",
     "output_type": "stream",
     "text": [
      "module 'mplfinance' has no attribute 'date2num'\n",
      "Traceback (most recent call last):\n",
      "  File \"D:\\sean.chen\\trader\\abu\\abupy\\MarketBu\\ABuMarketDrawing.py\", line 92, in plot_from_series\n",
      "    view_index=view_index_inner, save=save)\n",
      "  File \"D:\\sean.chen\\trader\\abu\\abupy\\MarketBu\\ABuMarketDrawing.py\", line 133, in plot_candle_from_symbol\n",
      "    plot_candle_form_klpd(kl_pd, day_sum, html_bk, view_index, save=save)\n",
      "  File \"D:\\sean.chen\\trader\\abu\\abupy\\MarketBu\\ABuMarketDrawing.py\", line 166, in plot_candle_form_klpd\n",
      "    fn, day_sum, html_bk, save)\n",
      "  File \"D:\\sean.chen\\trader\\abu\\abupy\\MarketBu\\ABuMarketDrawing.py\", line 188, in plot_candle_stick\n",
      "    _do_plot_candle(date, p_open, high, low, close, volume, view_index, symbol, day_sum, save, minute)\n",
      "  File \"D:\\sean.chen\\trader\\abu\\abupy\\MarketBu\\ABuMarketDrawing.py\", line 277, in _do_plot_candle\n",
      "    qutotes = []\n",
      "AttributeError: module 'mplfinance' has no attribute 'date2num'\n"
     ]
    },
    {
     "name": "stdout",
     "output_type": "stream",
     "text": [
      "tw_TWSE:2330\n"
     ]
    },
    {
     "name": "stderr",
     "output_type": "stream",
     "text": [
      "module 'mplfinance' has no attribute 'date2num'\n",
      "Traceback (most recent call last):\n",
      "  File \"D:\\sean.chen\\trader\\abu\\abupy\\MarketBu\\ABuMarketDrawing.py\", line 92, in plot_from_series\n",
      "    view_index=view_index_inner, save=save)\n",
      "  File \"D:\\sean.chen\\trader\\abu\\abupy\\MarketBu\\ABuMarketDrawing.py\", line 133, in plot_candle_from_symbol\n",
      "    plot_candle_form_klpd(kl_pd, day_sum, html_bk, view_index, save=save)\n",
      "  File \"D:\\sean.chen\\trader\\abu\\abupy\\MarketBu\\ABuMarketDrawing.py\", line 166, in plot_candle_form_klpd\n",
      "    fn, day_sum, html_bk, save)\n",
      "  File \"D:\\sean.chen\\trader\\abu\\abupy\\MarketBu\\ABuMarketDrawing.py\", line 188, in plot_candle_stick\n",
      "    _do_plot_candle(date, p_open, high, low, close, volume, view_index, symbol, day_sum, save, minute)\n",
      "  File \"D:\\sean.chen\\trader\\abu\\abupy\\MarketBu\\ABuMarketDrawing.py\", line 277, in _do_plot_candle\n",
      "    qutotes = []\n",
      "AttributeError: module 'mplfinance' has no attribute 'date2num'\n"
     ]
    },
    {
     "name": "stdout",
     "output_type": "stream",
     "text": [
      "tw_TWSE:2330\n"
     ]
    },
    {
     "name": "stderr",
     "output_type": "stream",
     "text": [
      "module 'mplfinance' has no attribute 'date2num'\n",
      "Traceback (most recent call last):\n",
      "  File \"D:\\sean.chen\\trader\\abu\\abupy\\MarketBu\\ABuMarketDrawing.py\", line 92, in plot_from_series\n",
      "    view_index=view_index_inner, save=save)\n",
      "  File \"D:\\sean.chen\\trader\\abu\\abupy\\MarketBu\\ABuMarketDrawing.py\", line 133, in plot_candle_from_symbol\n",
      "    plot_candle_form_klpd(kl_pd, day_sum, html_bk, view_index, save=save)\n",
      "  File \"D:\\sean.chen\\trader\\abu\\abupy\\MarketBu\\ABuMarketDrawing.py\", line 166, in plot_candle_form_klpd\n",
      "    fn, day_sum, html_bk, save)\n",
      "  File \"D:\\sean.chen\\trader\\abu\\abupy\\MarketBu\\ABuMarketDrawing.py\", line 188, in plot_candle_stick\n",
      "    _do_plot_candle(date, p_open, high, low, close, volume, view_index, symbol, day_sum, save, minute)\n",
      "  File \"D:\\sean.chen\\trader\\abu\\abupy\\MarketBu\\ABuMarketDrawing.py\", line 277, in _do_plot_candle\n",
      "    qutotes = []\n",
      "AttributeError: module 'mplfinance' has no attribute 'date2num'\n"
     ]
    },
    {
     "name": "stdout",
     "output_type": "stream",
     "text": [
      "tw_TWSE:2330\n"
     ]
    },
    {
     "name": "stderr",
     "output_type": "stream",
     "text": [
      "module 'mplfinance' has no attribute 'date2num'\n",
      "Traceback (most recent call last):\n",
      "  File \"D:\\sean.chen\\trader\\abu\\abupy\\MarketBu\\ABuMarketDrawing.py\", line 92, in plot_from_series\n",
      "    view_index=view_index_inner, save=save)\n",
      "  File \"D:\\sean.chen\\trader\\abu\\abupy\\MarketBu\\ABuMarketDrawing.py\", line 133, in plot_candle_from_symbol\n",
      "    plot_candle_form_klpd(kl_pd, day_sum, html_bk, view_index, save=save)\n",
      "  File \"D:\\sean.chen\\trader\\abu\\abupy\\MarketBu\\ABuMarketDrawing.py\", line 166, in plot_candle_form_klpd\n",
      "    fn, day_sum, html_bk, save)\n",
      "  File \"D:\\sean.chen\\trader\\abu\\abupy\\MarketBu\\ABuMarketDrawing.py\", line 188, in plot_candle_stick\n",
      "    _do_plot_candle(date, p_open, high, low, close, volume, view_index, symbol, day_sum, save, minute)\n",
      "  File \"D:\\sean.chen\\trader\\abu\\abupy\\MarketBu\\ABuMarketDrawing.py\", line 277, in _do_plot_candle\n",
      "    qutotes = []\n",
      "AttributeError: module 'mplfinance' has no attribute 'date2num'\n"
     ]
    },
    {
     "name": "stdout",
     "output_type": "stream",
     "text": [
      "tw_TWSE:2330\n"
     ]
    },
    {
     "name": "stderr",
     "output_type": "stream",
     "text": [
      "module 'mplfinance' has no attribute 'date2num'\n",
      "Traceback (most recent call last):\n",
      "  File \"D:\\sean.chen\\trader\\abu\\abupy\\MarketBu\\ABuMarketDrawing.py\", line 92, in plot_from_series\n",
      "    view_index=view_index_inner, save=save)\n",
      "  File \"D:\\sean.chen\\trader\\abu\\abupy\\MarketBu\\ABuMarketDrawing.py\", line 133, in plot_candle_from_symbol\n",
      "    plot_candle_form_klpd(kl_pd, day_sum, html_bk, view_index, save=save)\n",
      "  File \"D:\\sean.chen\\trader\\abu\\abupy\\MarketBu\\ABuMarketDrawing.py\", line 166, in plot_candle_form_klpd\n",
      "    fn, day_sum, html_bk, save)\n",
      "  File \"D:\\sean.chen\\trader\\abu\\abupy\\MarketBu\\ABuMarketDrawing.py\", line 188, in plot_candle_stick\n",
      "    _do_plot_candle(date, p_open, high, low, close, volume, view_index, symbol, day_sum, save, minute)\n",
      "  File \"D:\\sean.chen\\trader\\abu\\abupy\\MarketBu\\ABuMarketDrawing.py\", line 277, in _do_plot_candle\n",
      "    qutotes = []\n",
      "AttributeError: module 'mplfinance' has no attribute 'date2num'\n"
     ]
    },
    {
     "name": "stdout",
     "output_type": "stream",
     "text": [
      "tw_TWSE:2330\n"
     ]
    },
    {
     "name": "stderr",
     "output_type": "stream",
     "text": [
      "module 'mplfinance' has no attribute 'date2num'\n",
      "Traceback (most recent call last):\n",
      "  File \"D:\\sean.chen\\trader\\abu\\abupy\\MarketBu\\ABuMarketDrawing.py\", line 92, in plot_from_series\n",
      "    view_index=view_index_inner, save=save)\n",
      "  File \"D:\\sean.chen\\trader\\abu\\abupy\\MarketBu\\ABuMarketDrawing.py\", line 133, in plot_candle_from_symbol\n",
      "    plot_candle_form_klpd(kl_pd, day_sum, html_bk, view_index, save=save)\n",
      "  File \"D:\\sean.chen\\trader\\abu\\abupy\\MarketBu\\ABuMarketDrawing.py\", line 166, in plot_candle_form_klpd\n",
      "    fn, day_sum, html_bk, save)\n",
      "  File \"D:\\sean.chen\\trader\\abu\\abupy\\MarketBu\\ABuMarketDrawing.py\", line 188, in plot_candle_stick\n",
      "    _do_plot_candle(date, p_open, high, low, close, volume, view_index, symbol, day_sum, save, minute)\n",
      "  File \"D:\\sean.chen\\trader\\abu\\abupy\\MarketBu\\ABuMarketDrawing.py\", line 277, in _do_plot_candle\n",
      "    qutotes = []\n",
      "AttributeError: module 'mplfinance' has no attribute 'date2num'\n"
     ]
    },
    {
     "name": "stdout",
     "output_type": "stream",
     "text": [
      "tw_TWSE:2330\n"
     ]
    },
    {
     "name": "stderr",
     "output_type": "stream",
     "text": [
      "module 'mplfinance' has no attribute 'date2num'\n",
      "Traceback (most recent call last):\n",
      "  File \"D:\\sean.chen\\trader\\abu\\abupy\\MarketBu\\ABuMarketDrawing.py\", line 92, in plot_from_series\n",
      "    view_index=view_index_inner, save=save)\n",
      "  File \"D:\\sean.chen\\trader\\abu\\abupy\\MarketBu\\ABuMarketDrawing.py\", line 133, in plot_candle_from_symbol\n",
      "    plot_candle_form_klpd(kl_pd, day_sum, html_bk, view_index, save=save)\n",
      "  File \"D:\\sean.chen\\trader\\abu\\abupy\\MarketBu\\ABuMarketDrawing.py\", line 166, in plot_candle_form_klpd\n",
      "    fn, day_sum, html_bk, save)\n",
      "  File \"D:\\sean.chen\\trader\\abu\\abupy\\MarketBu\\ABuMarketDrawing.py\", line 188, in plot_candle_stick\n",
      "    _do_plot_candle(date, p_open, high, low, close, volume, view_index, symbol, day_sum, save, minute)\n",
      "  File \"D:\\sean.chen\\trader\\abu\\abupy\\MarketBu\\ABuMarketDrawing.py\", line 277, in _do_plot_candle\n",
      "    qutotes = []\n",
      "AttributeError: module 'mplfinance' has no attribute 'date2num'\n"
     ]
    },
    {
     "name": "stdout",
     "output_type": "stream",
     "text": [
      "tw_TWSE:2330\n"
     ]
    },
    {
     "name": "stderr",
     "output_type": "stream",
     "text": [
      "module 'mplfinance' has no attribute 'date2num'\n",
      "Traceback (most recent call last):\n",
      "  File \"D:\\sean.chen\\trader\\abu\\abupy\\MarketBu\\ABuMarketDrawing.py\", line 92, in plot_from_series\n",
      "    view_index=view_index_inner, save=save)\n",
      "  File \"D:\\sean.chen\\trader\\abu\\abupy\\MarketBu\\ABuMarketDrawing.py\", line 133, in plot_candle_from_symbol\n",
      "    plot_candle_form_klpd(kl_pd, day_sum, html_bk, view_index, save=save)\n",
      "  File \"D:\\sean.chen\\trader\\abu\\abupy\\MarketBu\\ABuMarketDrawing.py\", line 166, in plot_candle_form_klpd\n",
      "    fn, day_sum, html_bk, save)\n",
      "  File \"D:\\sean.chen\\trader\\abu\\abupy\\MarketBu\\ABuMarketDrawing.py\", line 188, in plot_candle_stick\n",
      "    _do_plot_candle(date, p_open, high, low, close, volume, view_index, symbol, day_sum, save, minute)\n",
      "  File \"D:\\sean.chen\\trader\\abu\\abupy\\MarketBu\\ABuMarketDrawing.py\", line 277, in _do_plot_candle\n",
      "    qutotes = []\n",
      "AttributeError: module 'mplfinance' has no attribute 'date2num'\n"
     ]
    },
    {
     "name": "stdout",
     "output_type": "stream",
     "text": [
      "tw_TWSE:2330\n"
     ]
    },
    {
     "name": "stderr",
     "output_type": "stream",
     "text": [
      "module 'mplfinance' has no attribute 'date2num'\n",
      "Traceback (most recent call last):\n",
      "  File \"D:\\sean.chen\\trader\\abu\\abupy\\MarketBu\\ABuMarketDrawing.py\", line 92, in plot_from_series\n",
      "    view_index=view_index_inner, save=save)\n",
      "  File \"D:\\sean.chen\\trader\\abu\\abupy\\MarketBu\\ABuMarketDrawing.py\", line 133, in plot_candle_from_symbol\n",
      "    plot_candle_form_klpd(kl_pd, day_sum, html_bk, view_index, save=save)\n",
      "  File \"D:\\sean.chen\\trader\\abu\\abupy\\MarketBu\\ABuMarketDrawing.py\", line 166, in plot_candle_form_klpd\n",
      "    fn, day_sum, html_bk, save)\n",
      "  File \"D:\\sean.chen\\trader\\abu\\abupy\\MarketBu\\ABuMarketDrawing.py\", line 188, in plot_candle_stick\n",
      "    _do_plot_candle(date, p_open, high, low, close, volume, view_index, symbol, day_sum, save, minute)\n",
      "  File \"D:\\sean.chen\\trader\\abu\\abupy\\MarketBu\\ABuMarketDrawing.py\", line 277, in _do_plot_candle\n",
      "    qutotes = []\n",
      "AttributeError: module 'mplfinance' has no attribute 'date2num'\n"
     ]
    },
    {
     "name": "stdout",
     "output_type": "stream",
     "text": [
      "tw_TWSE:2330\n"
     ]
    },
    {
     "name": "stderr",
     "output_type": "stream",
     "text": [
      "module 'mplfinance' has no attribute 'date2num'\n",
      "Traceback (most recent call last):\n",
      "  File \"D:\\sean.chen\\trader\\abu\\abupy\\MarketBu\\ABuMarketDrawing.py\", line 92, in plot_from_series\n",
      "    view_index=view_index_inner, save=save)\n",
      "  File \"D:\\sean.chen\\trader\\abu\\abupy\\MarketBu\\ABuMarketDrawing.py\", line 133, in plot_candle_from_symbol\n",
      "    plot_candle_form_klpd(kl_pd, day_sum, html_bk, view_index, save=save)\n",
      "  File \"D:\\sean.chen\\trader\\abu\\abupy\\MarketBu\\ABuMarketDrawing.py\", line 166, in plot_candle_form_klpd\n",
      "    fn, day_sum, html_bk, save)\n",
      "  File \"D:\\sean.chen\\trader\\abu\\abupy\\MarketBu\\ABuMarketDrawing.py\", line 188, in plot_candle_stick\n",
      "    _do_plot_candle(date, p_open, high, low, close, volume, view_index, symbol, day_sum, save, minute)\n",
      "  File \"D:\\sean.chen\\trader\\abu\\abupy\\MarketBu\\ABuMarketDrawing.py\", line 277, in _do_plot_candle\n",
      "    qutotes = []\n",
      "AttributeError: module 'mplfinance' has no attribute 'date2num'\n"
     ]
    },
    {
     "name": "stdout",
     "output_type": "stream",
     "text": [
      "tw_TWSE:2330\n"
     ]
    },
    {
     "name": "stderr",
     "output_type": "stream",
     "text": [
      "module 'mplfinance' has no attribute 'date2num'\n",
      "Traceback (most recent call last):\n",
      "  File \"D:\\sean.chen\\trader\\abu\\abupy\\MarketBu\\ABuMarketDrawing.py\", line 92, in plot_from_series\n",
      "    view_index=view_index_inner, save=save)\n",
      "  File \"D:\\sean.chen\\trader\\abu\\abupy\\MarketBu\\ABuMarketDrawing.py\", line 133, in plot_candle_from_symbol\n",
      "    plot_candle_form_klpd(kl_pd, day_sum, html_bk, view_index, save=save)\n",
      "  File \"D:\\sean.chen\\trader\\abu\\abupy\\MarketBu\\ABuMarketDrawing.py\", line 166, in plot_candle_form_klpd\n",
      "    fn, day_sum, html_bk, save)\n",
      "  File \"D:\\sean.chen\\trader\\abu\\abupy\\MarketBu\\ABuMarketDrawing.py\", line 188, in plot_candle_stick\n",
      "    _do_plot_candle(date, p_open, high, low, close, volume, view_index, symbol, day_sum, save, minute)\n",
      "  File \"D:\\sean.chen\\trader\\abu\\abupy\\MarketBu\\ABuMarketDrawing.py\", line 277, in _do_plot_candle\n",
      "    qutotes = []\n",
      "AttributeError: module 'mplfinance' has no attribute 'date2num'\n"
     ]
    },
    {
     "name": "stdout",
     "output_type": "stream",
     "text": [
      "tw_TWSE:2330\n"
     ]
    },
    {
     "name": "stderr",
     "output_type": "stream",
     "text": [
      "module 'mplfinance' has no attribute 'date2num'\n",
      "Traceback (most recent call last):\n",
      "  File \"D:\\sean.chen\\trader\\abu\\abupy\\MarketBu\\ABuMarketDrawing.py\", line 92, in plot_from_series\n",
      "    view_index=view_index_inner, save=save)\n",
      "  File \"D:\\sean.chen\\trader\\abu\\abupy\\MarketBu\\ABuMarketDrawing.py\", line 133, in plot_candle_from_symbol\n",
      "    plot_candle_form_klpd(kl_pd, day_sum, html_bk, view_index, save=save)\n",
      "  File \"D:\\sean.chen\\trader\\abu\\abupy\\MarketBu\\ABuMarketDrawing.py\", line 166, in plot_candle_form_klpd\n",
      "    fn, day_sum, html_bk, save)\n",
      "  File \"D:\\sean.chen\\trader\\abu\\abupy\\MarketBu\\ABuMarketDrawing.py\", line 188, in plot_candle_stick\n",
      "    _do_plot_candle(date, p_open, high, low, close, volume, view_index, symbol, day_sum, save, minute)\n",
      "  File \"D:\\sean.chen\\trader\\abu\\abupy\\MarketBu\\ABuMarketDrawing.py\", line 277, in _do_plot_candle\n",
      "    qutotes = []\n",
      "AttributeError: module 'mplfinance' has no attribute 'date2num'\n"
     ]
    },
    {
     "name": "stdout",
     "output_type": "stream",
     "text": [
      "tw_TWSE:2330\n"
     ]
    },
    {
     "name": "stderr",
     "output_type": "stream",
     "text": [
      "module 'mplfinance' has no attribute 'date2num'\n",
      "Traceback (most recent call last):\n",
      "  File \"D:\\sean.chen\\trader\\abu\\abupy\\MarketBu\\ABuMarketDrawing.py\", line 92, in plot_from_series\n",
      "    view_index=view_index_inner, save=save)\n",
      "  File \"D:\\sean.chen\\trader\\abu\\abupy\\MarketBu\\ABuMarketDrawing.py\", line 133, in plot_candle_from_symbol\n",
      "    plot_candle_form_klpd(kl_pd, day_sum, html_bk, view_index, save=save)\n",
      "  File \"D:\\sean.chen\\trader\\abu\\abupy\\MarketBu\\ABuMarketDrawing.py\", line 166, in plot_candle_form_klpd\n",
      "    fn, day_sum, html_bk, save)\n",
      "  File \"D:\\sean.chen\\trader\\abu\\abupy\\MarketBu\\ABuMarketDrawing.py\", line 188, in plot_candle_stick\n",
      "    _do_plot_candle(date, p_open, high, low, close, volume, view_index, symbol, day_sum, save, minute)\n",
      "  File \"D:\\sean.chen\\trader\\abu\\abupy\\MarketBu\\ABuMarketDrawing.py\", line 277, in _do_plot_candle\n",
      "    qutotes = []\n",
      "AttributeError: module 'mplfinance' has no attribute 'date2num'\n"
     ]
    },
    {
     "name": "stdout",
     "output_type": "stream",
     "text": [
      "tw_TWSE:2330\n"
     ]
    },
    {
     "name": "stderr",
     "output_type": "stream",
     "text": [
      "module 'mplfinance' has no attribute 'date2num'\n",
      "Traceback (most recent call last):\n",
      "  File \"D:\\sean.chen\\trader\\abu\\abupy\\MarketBu\\ABuMarketDrawing.py\", line 92, in plot_from_series\n",
      "    view_index=view_index_inner, save=save)\n",
      "  File \"D:\\sean.chen\\trader\\abu\\abupy\\MarketBu\\ABuMarketDrawing.py\", line 133, in plot_candle_from_symbol\n",
      "    plot_candle_form_klpd(kl_pd, day_sum, html_bk, view_index, save=save)\n",
      "  File \"D:\\sean.chen\\trader\\abu\\abupy\\MarketBu\\ABuMarketDrawing.py\", line 166, in plot_candle_form_klpd\n",
      "    fn, day_sum, html_bk, save)\n",
      "  File \"D:\\sean.chen\\trader\\abu\\abupy\\MarketBu\\ABuMarketDrawing.py\", line 188, in plot_candle_stick\n",
      "    _do_plot_candle(date, p_open, high, low, close, volume, view_index, symbol, day_sum, save, minute)\n",
      "  File \"D:\\sean.chen\\trader\\abu\\abupy\\MarketBu\\ABuMarketDrawing.py\", line 277, in _do_plot_candle\n",
      "    qutotes = []\n",
      "AttributeError: module 'mplfinance' has no attribute 'date2num'\n"
     ]
    },
    {
     "name": "stdout",
     "output_type": "stream",
     "text": [
      "tw_TWSE:2330\n"
     ]
    },
    {
     "name": "stderr",
     "output_type": "stream",
     "text": [
      "module 'mplfinance' has no attribute 'date2num'\n",
      "Traceback (most recent call last):\n",
      "  File \"D:\\sean.chen\\trader\\abu\\abupy\\MarketBu\\ABuMarketDrawing.py\", line 92, in plot_from_series\n",
      "    view_index=view_index_inner, save=save)\n",
      "  File \"D:\\sean.chen\\trader\\abu\\abupy\\MarketBu\\ABuMarketDrawing.py\", line 133, in plot_candle_from_symbol\n",
      "    plot_candle_form_klpd(kl_pd, day_sum, html_bk, view_index, save=save)\n",
      "  File \"D:\\sean.chen\\trader\\abu\\abupy\\MarketBu\\ABuMarketDrawing.py\", line 166, in plot_candle_form_klpd\n",
      "    fn, day_sum, html_bk, save)\n",
      "  File \"D:\\sean.chen\\trader\\abu\\abupy\\MarketBu\\ABuMarketDrawing.py\", line 188, in plot_candle_stick\n",
      "    _do_plot_candle(date, p_open, high, low, close, volume, view_index, symbol, day_sum, save, minute)\n",
      "  File \"D:\\sean.chen\\trader\\abu\\abupy\\MarketBu\\ABuMarketDrawing.py\", line 277, in _do_plot_candle\n",
      "    qutotes = []\n",
      "AttributeError: module 'mplfinance' has no attribute 'date2num'\n"
     ]
    },
    {
     "name": "stdout",
     "output_type": "stream",
     "text": [
      "tw_TWSE:2330\n"
     ]
    },
    {
     "name": "stderr",
     "output_type": "stream",
     "text": [
      "module 'mplfinance' has no attribute 'date2num'\n",
      "Traceback (most recent call last):\n",
      "  File \"D:\\sean.chen\\trader\\abu\\abupy\\MarketBu\\ABuMarketDrawing.py\", line 92, in plot_from_series\n",
      "    view_index=view_index_inner, save=save)\n",
      "  File \"D:\\sean.chen\\trader\\abu\\abupy\\MarketBu\\ABuMarketDrawing.py\", line 133, in plot_candle_from_symbol\n",
      "    plot_candle_form_klpd(kl_pd, day_sum, html_bk, view_index, save=save)\n",
      "  File \"D:\\sean.chen\\trader\\abu\\abupy\\MarketBu\\ABuMarketDrawing.py\", line 166, in plot_candle_form_klpd\n",
      "    fn, day_sum, html_bk, save)\n",
      "  File \"D:\\sean.chen\\trader\\abu\\abupy\\MarketBu\\ABuMarketDrawing.py\", line 188, in plot_candle_stick\n",
      "    _do_plot_candle(date, p_open, high, low, close, volume, view_index, symbol, day_sum, save, minute)\n",
      "  File \"D:\\sean.chen\\trader\\abu\\abupy\\MarketBu\\ABuMarketDrawing.py\", line 277, in _do_plot_candle\n",
      "    qutotes = []\n",
      "AttributeError: module 'mplfinance' has no attribute 'date2num'\n"
     ]
    },
    {
     "name": "stdout",
     "output_type": "stream",
     "text": [
      "tw_TWSE:2330\n"
     ]
    },
    {
     "name": "stderr",
     "output_type": "stream",
     "text": [
      "module 'mplfinance' has no attribute 'date2num'\n",
      "Traceback (most recent call last):\n",
      "  File \"D:\\sean.chen\\trader\\abu\\abupy\\MarketBu\\ABuMarketDrawing.py\", line 92, in plot_from_series\n",
      "    view_index=view_index_inner, save=save)\n",
      "  File \"D:\\sean.chen\\trader\\abu\\abupy\\MarketBu\\ABuMarketDrawing.py\", line 133, in plot_candle_from_symbol\n",
      "    plot_candle_form_klpd(kl_pd, day_sum, html_bk, view_index, save=save)\n",
      "  File \"D:\\sean.chen\\trader\\abu\\abupy\\MarketBu\\ABuMarketDrawing.py\", line 166, in plot_candle_form_klpd\n",
      "    fn, day_sum, html_bk, save)\n",
      "  File \"D:\\sean.chen\\trader\\abu\\abupy\\MarketBu\\ABuMarketDrawing.py\", line 188, in plot_candle_stick\n",
      "    _do_plot_candle(date, p_open, high, low, close, volume, view_index, symbol, day_sum, save, minute)\n",
      "  File \"D:\\sean.chen\\trader\\abu\\abupy\\MarketBu\\ABuMarketDrawing.py\", line 277, in _do_plot_candle\n",
      "    qutotes = []\n",
      "AttributeError: module 'mplfinance' has no attribute 'date2num'\n"
     ]
    },
    {
     "name": "stdout",
     "output_type": "stream",
     "text": [
      "tw_TWSE:2330\n"
     ]
    },
    {
     "name": "stderr",
     "output_type": "stream",
     "text": [
      "module 'mplfinance' has no attribute 'date2num'\n",
      "Traceback (most recent call last):\n",
      "  File \"D:\\sean.chen\\trader\\abu\\abupy\\MarketBu\\ABuMarketDrawing.py\", line 92, in plot_from_series\n",
      "    view_index=view_index_inner, save=save)\n",
      "  File \"D:\\sean.chen\\trader\\abu\\abupy\\MarketBu\\ABuMarketDrawing.py\", line 133, in plot_candle_from_symbol\n",
      "    plot_candle_form_klpd(kl_pd, day_sum, html_bk, view_index, save=save)\n",
      "  File \"D:\\sean.chen\\trader\\abu\\abupy\\MarketBu\\ABuMarketDrawing.py\", line 166, in plot_candle_form_klpd\n",
      "    fn, day_sum, html_bk, save)\n",
      "  File \"D:\\sean.chen\\trader\\abu\\abupy\\MarketBu\\ABuMarketDrawing.py\", line 188, in plot_candle_stick\n",
      "    _do_plot_candle(date, p_open, high, low, close, volume, view_index, symbol, day_sum, save, minute)\n",
      "  File \"D:\\sean.chen\\trader\\abu\\abupy\\MarketBu\\ABuMarketDrawing.py\", line 277, in _do_plot_candle\n",
      "    qutotes = []\n",
      "AttributeError: module 'mplfinance' has no attribute 'date2num'\n"
     ]
    },
    {
     "name": "stdout",
     "output_type": "stream",
     "text": [
      "tw_TWSE:2330\n"
     ]
    },
    {
     "name": "stderr",
     "output_type": "stream",
     "text": [
      "module 'mplfinance' has no attribute 'date2num'\n",
      "Traceback (most recent call last):\n",
      "  File \"D:\\sean.chen\\trader\\abu\\abupy\\MarketBu\\ABuMarketDrawing.py\", line 92, in plot_from_series\n",
      "    view_index=view_index_inner, save=save)\n",
      "  File \"D:\\sean.chen\\trader\\abu\\abupy\\MarketBu\\ABuMarketDrawing.py\", line 133, in plot_candle_from_symbol\n",
      "    plot_candle_form_klpd(kl_pd, day_sum, html_bk, view_index, save=save)\n",
      "  File \"D:\\sean.chen\\trader\\abu\\abupy\\MarketBu\\ABuMarketDrawing.py\", line 166, in plot_candle_form_klpd\n",
      "    fn, day_sum, html_bk, save)\n",
      "  File \"D:\\sean.chen\\trader\\abu\\abupy\\MarketBu\\ABuMarketDrawing.py\", line 188, in plot_candle_stick\n",
      "    _do_plot_candle(date, p_open, high, low, close, volume, view_index, symbol, day_sum, save, minute)\n",
      "  File \"D:\\sean.chen\\trader\\abu\\abupy\\MarketBu\\ABuMarketDrawing.py\", line 277, in _do_plot_candle\n",
      "    qutotes = []\n",
      "AttributeError: module 'mplfinance' has no attribute 'date2num'\n"
     ]
    },
    {
     "name": "stdout",
     "output_type": "stream",
     "text": [
      "tw_TWSE:2330\n"
     ]
    },
    {
     "name": "stderr",
     "output_type": "stream",
     "text": [
      "module 'mplfinance' has no attribute 'date2num'\n",
      "Traceback (most recent call last):\n",
      "  File \"D:\\sean.chen\\trader\\abu\\abupy\\MarketBu\\ABuMarketDrawing.py\", line 92, in plot_from_series\n",
      "    view_index=view_index_inner, save=save)\n",
      "  File \"D:\\sean.chen\\trader\\abu\\abupy\\MarketBu\\ABuMarketDrawing.py\", line 133, in plot_candle_from_symbol\n",
      "    plot_candle_form_klpd(kl_pd, day_sum, html_bk, view_index, save=save)\n",
      "  File \"D:\\sean.chen\\trader\\abu\\abupy\\MarketBu\\ABuMarketDrawing.py\", line 166, in plot_candle_form_klpd\n",
      "    fn, day_sum, html_bk, save)\n",
      "  File \"D:\\sean.chen\\trader\\abu\\abupy\\MarketBu\\ABuMarketDrawing.py\", line 188, in plot_candle_stick\n",
      "    _do_plot_candle(date, p_open, high, low, close, volume, view_index, symbol, day_sum, save, minute)\n",
      "  File \"D:\\sean.chen\\trader\\abu\\abupy\\MarketBu\\ABuMarketDrawing.py\", line 277, in _do_plot_candle\n",
      "    qutotes = []\n",
      "AttributeError: module 'mplfinance' has no attribute 'date2num'\n"
     ]
    },
    {
     "name": "stdout",
     "output_type": "stream",
     "text": [
      "tw_TWSE:2330\n"
     ]
    },
    {
     "name": "stderr",
     "output_type": "stream",
     "text": [
      "module 'mplfinance' has no attribute 'date2num'\n",
      "Traceback (most recent call last):\n",
      "  File \"D:\\sean.chen\\trader\\abu\\abupy\\MarketBu\\ABuMarketDrawing.py\", line 92, in plot_from_series\n",
      "    view_index=view_index_inner, save=save)\n",
      "  File \"D:\\sean.chen\\trader\\abu\\abupy\\MarketBu\\ABuMarketDrawing.py\", line 133, in plot_candle_from_symbol\n",
      "    plot_candle_form_klpd(kl_pd, day_sum, html_bk, view_index, save=save)\n",
      "  File \"D:\\sean.chen\\trader\\abu\\abupy\\MarketBu\\ABuMarketDrawing.py\", line 166, in plot_candle_form_klpd\n",
      "    fn, day_sum, html_bk, save)\n",
      "  File \"D:\\sean.chen\\trader\\abu\\abupy\\MarketBu\\ABuMarketDrawing.py\", line 188, in plot_candle_stick\n",
      "    _do_plot_candle(date, p_open, high, low, close, volume, view_index, symbol, day_sum, save, minute)\n",
      "  File \"D:\\sean.chen\\trader\\abu\\abupy\\MarketBu\\ABuMarketDrawing.py\", line 277, in _do_plot_candle\n",
      "    qutotes = []\n",
      "AttributeError: module 'mplfinance' has no attribute 'date2num'\n"
     ]
    },
    {
     "name": "stdout",
     "output_type": "stream",
     "text": [
      "tw_TWSE:2330\n"
     ]
    },
    {
     "name": "stderr",
     "output_type": "stream",
     "text": [
      "module 'mplfinance' has no attribute 'date2num'\n",
      "Traceback (most recent call last):\n",
      "  File \"D:\\sean.chen\\trader\\abu\\abupy\\MarketBu\\ABuMarketDrawing.py\", line 92, in plot_from_series\n",
      "    view_index=view_index_inner, save=save)\n",
      "  File \"D:\\sean.chen\\trader\\abu\\abupy\\MarketBu\\ABuMarketDrawing.py\", line 133, in plot_candle_from_symbol\n",
      "    plot_candle_form_klpd(kl_pd, day_sum, html_bk, view_index, save=save)\n",
      "  File \"D:\\sean.chen\\trader\\abu\\abupy\\MarketBu\\ABuMarketDrawing.py\", line 166, in plot_candle_form_klpd\n",
      "    fn, day_sum, html_bk, save)\n",
      "  File \"D:\\sean.chen\\trader\\abu\\abupy\\MarketBu\\ABuMarketDrawing.py\", line 188, in plot_candle_stick\n",
      "    _do_plot_candle(date, p_open, high, low, close, volume, view_index, symbol, day_sum, save, minute)\n",
      "  File \"D:\\sean.chen\\trader\\abu\\abupy\\MarketBu\\ABuMarketDrawing.py\", line 277, in _do_plot_candle\n",
      "    qutotes = []\n",
      "AttributeError: module 'mplfinance' has no attribute 'date2num'\n"
     ]
    },
    {
     "name": "stdout",
     "output_type": "stream",
     "text": [
      "tw_TWSE:2330\n"
     ]
    },
    {
     "name": "stderr",
     "output_type": "stream",
     "text": [
      "module 'mplfinance' has no attribute 'date2num'\n",
      "Traceback (most recent call last):\n",
      "  File \"D:\\sean.chen\\trader\\abu\\abupy\\MarketBu\\ABuMarketDrawing.py\", line 92, in plot_from_series\n",
      "    view_index=view_index_inner, save=save)\n",
      "  File \"D:\\sean.chen\\trader\\abu\\abupy\\MarketBu\\ABuMarketDrawing.py\", line 133, in plot_candle_from_symbol\n",
      "    plot_candle_form_klpd(kl_pd, day_sum, html_bk, view_index, save=save)\n",
      "  File \"D:\\sean.chen\\trader\\abu\\abupy\\MarketBu\\ABuMarketDrawing.py\", line 166, in plot_candle_form_klpd\n",
      "    fn, day_sum, html_bk, save)\n",
      "  File \"D:\\sean.chen\\trader\\abu\\abupy\\MarketBu\\ABuMarketDrawing.py\", line 188, in plot_candle_stick\n",
      "    _do_plot_candle(date, p_open, high, low, close, volume, view_index, symbol, day_sum, save, minute)\n",
      "  File \"D:\\sean.chen\\trader\\abu\\abupy\\MarketBu\\ABuMarketDrawing.py\", line 277, in _do_plot_candle\n",
      "    qutotes = []\n",
      "AttributeError: module 'mplfinance' has no attribute 'date2num'\n"
     ]
    },
    {
     "name": "stdout",
     "output_type": "stream",
     "text": [
      "tw_TWSE:2330\n"
     ]
    },
    {
     "name": "stderr",
     "output_type": "stream",
     "text": [
      "module 'mplfinance' has no attribute 'date2num'\n",
      "Traceback (most recent call last):\n",
      "  File \"D:\\sean.chen\\trader\\abu\\abupy\\MarketBu\\ABuMarketDrawing.py\", line 92, in plot_from_series\n",
      "    view_index=view_index_inner, save=save)\n",
      "  File \"D:\\sean.chen\\trader\\abu\\abupy\\MarketBu\\ABuMarketDrawing.py\", line 133, in plot_candle_from_symbol\n",
      "    plot_candle_form_klpd(kl_pd, day_sum, html_bk, view_index, save=save)\n",
      "  File \"D:\\sean.chen\\trader\\abu\\abupy\\MarketBu\\ABuMarketDrawing.py\", line 166, in plot_candle_form_klpd\n",
      "    fn, day_sum, html_bk, save)\n",
      "  File \"D:\\sean.chen\\trader\\abu\\abupy\\MarketBu\\ABuMarketDrawing.py\", line 188, in plot_candle_stick\n",
      "    _do_plot_candle(date, p_open, high, low, close, volume, view_index, symbol, day_sum, save, minute)\n",
      "  File \"D:\\sean.chen\\trader\\abu\\abupy\\MarketBu\\ABuMarketDrawing.py\", line 277, in _do_plot_candle\n",
      "    qutotes = []\n",
      "AttributeError: module 'mplfinance' has no attribute 'date2num'\n"
     ]
    },
    {
     "name": "stdout",
     "output_type": "stream",
     "text": [
      "tw_TWSE:2330\n"
     ]
    },
    {
     "name": "stderr",
     "output_type": "stream",
     "text": [
      "module 'mplfinance' has no attribute 'date2num'\n",
      "Traceback (most recent call last):\n",
      "  File \"D:\\sean.chen\\trader\\abu\\abupy\\MarketBu\\ABuMarketDrawing.py\", line 92, in plot_from_series\n",
      "    view_index=view_index_inner, save=save)\n",
      "  File \"D:\\sean.chen\\trader\\abu\\abupy\\MarketBu\\ABuMarketDrawing.py\", line 133, in plot_candle_from_symbol\n",
      "    plot_candle_form_klpd(kl_pd, day_sum, html_bk, view_index, save=save)\n",
      "  File \"D:\\sean.chen\\trader\\abu\\abupy\\MarketBu\\ABuMarketDrawing.py\", line 166, in plot_candle_form_klpd\n",
      "    fn, day_sum, html_bk, save)\n",
      "  File \"D:\\sean.chen\\trader\\abu\\abupy\\MarketBu\\ABuMarketDrawing.py\", line 188, in plot_candle_stick\n",
      "    _do_plot_candle(date, p_open, high, low, close, volume, view_index, symbol, day_sum, save, minute)\n",
      "  File \"D:\\sean.chen\\trader\\abu\\abupy\\MarketBu\\ABuMarketDrawing.py\", line 277, in _do_plot_candle\n",
      "    qutotes = []\n",
      "AttributeError: module 'mplfinance' has no attribute 'date2num'\n"
     ]
    },
    {
     "name": "stdout",
     "output_type": "stream",
     "text": [
      "tw_TWSE:2330\n"
     ]
    },
    {
     "name": "stderr",
     "output_type": "stream",
     "text": [
      "module 'mplfinance' has no attribute 'date2num'\n",
      "Traceback (most recent call last):\n",
      "  File \"D:\\sean.chen\\trader\\abu\\abupy\\MarketBu\\ABuMarketDrawing.py\", line 92, in plot_from_series\n",
      "    view_index=view_index_inner, save=save)\n",
      "  File \"D:\\sean.chen\\trader\\abu\\abupy\\MarketBu\\ABuMarketDrawing.py\", line 133, in plot_candle_from_symbol\n",
      "    plot_candle_form_klpd(kl_pd, day_sum, html_bk, view_index, save=save)\n",
      "  File \"D:\\sean.chen\\trader\\abu\\abupy\\MarketBu\\ABuMarketDrawing.py\", line 166, in plot_candle_form_klpd\n",
      "    fn, day_sum, html_bk, save)\n",
      "  File \"D:\\sean.chen\\trader\\abu\\abupy\\MarketBu\\ABuMarketDrawing.py\", line 188, in plot_candle_stick\n",
      "    _do_plot_candle(date, p_open, high, low, close, volume, view_index, symbol, day_sum, save, minute)\n",
      "  File \"D:\\sean.chen\\trader\\abu\\abupy\\MarketBu\\ABuMarketDrawing.py\", line 277, in _do_plot_candle\n",
      "    qutotes = []\n",
      "AttributeError: module 'mplfinance' has no attribute 'date2num'\n"
     ]
    },
    {
     "name": "stdout",
     "output_type": "stream",
     "text": [
      "tw_TWSE:2330\n"
     ]
    },
    {
     "name": "stderr",
     "output_type": "stream",
     "text": [
      "module 'mplfinance' has no attribute 'date2num'\n",
      "Traceback (most recent call last):\n",
      "  File \"D:\\sean.chen\\trader\\abu\\abupy\\MarketBu\\ABuMarketDrawing.py\", line 92, in plot_from_series\n",
      "    view_index=view_index_inner, save=save)\n",
      "  File \"D:\\sean.chen\\trader\\abu\\abupy\\MarketBu\\ABuMarketDrawing.py\", line 133, in plot_candle_from_symbol\n",
      "    plot_candle_form_klpd(kl_pd, day_sum, html_bk, view_index, save=save)\n",
      "  File \"D:\\sean.chen\\trader\\abu\\abupy\\MarketBu\\ABuMarketDrawing.py\", line 166, in plot_candle_form_klpd\n",
      "    fn, day_sum, html_bk, save)\n",
      "  File \"D:\\sean.chen\\trader\\abu\\abupy\\MarketBu\\ABuMarketDrawing.py\", line 188, in plot_candle_stick\n",
      "    _do_plot_candle(date, p_open, high, low, close, volume, view_index, symbol, day_sum, save, minute)\n",
      "  File \"D:\\sean.chen\\trader\\abu\\abupy\\MarketBu\\ABuMarketDrawing.py\", line 277, in _do_plot_candle\n",
      "    qutotes = []\n",
      "AttributeError: module 'mplfinance' has no attribute 'date2num'\n"
     ]
    },
    {
     "name": "stdout",
     "output_type": "stream",
     "text": [
      "tw_TWSE:2330\n"
     ]
    },
    {
     "name": "stderr",
     "output_type": "stream",
     "text": [
      "module 'mplfinance' has no attribute 'date2num'\n",
      "Traceback (most recent call last):\n",
      "  File \"D:\\sean.chen\\trader\\abu\\abupy\\MarketBu\\ABuMarketDrawing.py\", line 92, in plot_from_series\n",
      "    view_index=view_index_inner, save=save)\n",
      "  File \"D:\\sean.chen\\trader\\abu\\abupy\\MarketBu\\ABuMarketDrawing.py\", line 133, in plot_candle_from_symbol\n",
      "    plot_candle_form_klpd(kl_pd, day_sum, html_bk, view_index, save=save)\n",
      "  File \"D:\\sean.chen\\trader\\abu\\abupy\\MarketBu\\ABuMarketDrawing.py\", line 166, in plot_candle_form_klpd\n",
      "    fn, day_sum, html_bk, save)\n",
      "  File \"D:\\sean.chen\\trader\\abu\\abupy\\MarketBu\\ABuMarketDrawing.py\", line 188, in plot_candle_stick\n",
      "    _do_plot_candle(date, p_open, high, low, close, volume, view_index, symbol, day_sum, save, minute)\n",
      "  File \"D:\\sean.chen\\trader\\abu\\abupy\\MarketBu\\ABuMarketDrawing.py\", line 277, in _do_plot_candle\n",
      "    qutotes = []\n",
      "AttributeError: module 'mplfinance' has no attribute 'date2num'\n"
     ]
    },
    {
     "name": "stdout",
     "output_type": "stream",
     "text": [
      "tw_TWSE:2330\n"
     ]
    },
    {
     "name": "stderr",
     "output_type": "stream",
     "text": [
      "module 'mplfinance' has no attribute 'date2num'\n",
      "Traceback (most recent call last):\n",
      "  File \"D:\\sean.chen\\trader\\abu\\abupy\\MarketBu\\ABuMarketDrawing.py\", line 92, in plot_from_series\n",
      "    view_index=view_index_inner, save=save)\n",
      "  File \"D:\\sean.chen\\trader\\abu\\abupy\\MarketBu\\ABuMarketDrawing.py\", line 133, in plot_candle_from_symbol\n",
      "    plot_candle_form_klpd(kl_pd, day_sum, html_bk, view_index, save=save)\n",
      "  File \"D:\\sean.chen\\trader\\abu\\abupy\\MarketBu\\ABuMarketDrawing.py\", line 166, in plot_candle_form_klpd\n",
      "    fn, day_sum, html_bk, save)\n",
      "  File \"D:\\sean.chen\\trader\\abu\\abupy\\MarketBu\\ABuMarketDrawing.py\", line 188, in plot_candle_stick\n",
      "    _do_plot_candle(date, p_open, high, low, close, volume, view_index, symbol, day_sum, save, minute)\n",
      "  File \"D:\\sean.chen\\trader\\abu\\abupy\\MarketBu\\ABuMarketDrawing.py\", line 277, in _do_plot_candle\n",
      "    qutotes = []\n",
      "AttributeError: module 'mplfinance' has no attribute 'date2num'\n"
     ]
    },
    {
     "name": "stdout",
     "output_type": "stream",
     "text": [
      "tw_TWSE:2330\n"
     ]
    },
    {
     "name": "stderr",
     "output_type": "stream",
     "text": [
      "module 'mplfinance' has no attribute 'date2num'\n",
      "Traceback (most recent call last):\n",
      "  File \"D:\\sean.chen\\trader\\abu\\abupy\\MarketBu\\ABuMarketDrawing.py\", line 92, in plot_from_series\n",
      "    view_index=view_index_inner, save=save)\n",
      "  File \"D:\\sean.chen\\trader\\abu\\abupy\\MarketBu\\ABuMarketDrawing.py\", line 133, in plot_candle_from_symbol\n",
      "    plot_candle_form_klpd(kl_pd, day_sum, html_bk, view_index, save=save)\n",
      "  File \"D:\\sean.chen\\trader\\abu\\abupy\\MarketBu\\ABuMarketDrawing.py\", line 166, in plot_candle_form_klpd\n",
      "    fn, day_sum, html_bk, save)\n",
      "  File \"D:\\sean.chen\\trader\\abu\\abupy\\MarketBu\\ABuMarketDrawing.py\", line 188, in plot_candle_stick\n",
      "    _do_plot_candle(date, p_open, high, low, close, volume, view_index, symbol, day_sum, save, minute)\n",
      "  File \"D:\\sean.chen\\trader\\abu\\abupy\\MarketBu\\ABuMarketDrawing.py\", line 277, in _do_plot_candle\n",
      "    qutotes = []\n",
      "AttributeError: module 'mplfinance' has no attribute 'date2num'\n"
     ]
    },
    {
     "name": "stdout",
     "output_type": "stream",
     "text": [
      "tw_TWSE:2330\n"
     ]
    },
    {
     "name": "stderr",
     "output_type": "stream",
     "text": [
      "module 'mplfinance' has no attribute 'date2num'\n",
      "Traceback (most recent call last):\n",
      "  File \"D:\\sean.chen\\trader\\abu\\abupy\\MarketBu\\ABuMarketDrawing.py\", line 92, in plot_from_series\n",
      "    view_index=view_index_inner, save=save)\n",
      "  File \"D:\\sean.chen\\trader\\abu\\abupy\\MarketBu\\ABuMarketDrawing.py\", line 133, in plot_candle_from_symbol\n",
      "    plot_candle_form_klpd(kl_pd, day_sum, html_bk, view_index, save=save)\n",
      "  File \"D:\\sean.chen\\trader\\abu\\abupy\\MarketBu\\ABuMarketDrawing.py\", line 166, in plot_candle_form_klpd\n",
      "    fn, day_sum, html_bk, save)\n",
      "  File \"D:\\sean.chen\\trader\\abu\\abupy\\MarketBu\\ABuMarketDrawing.py\", line 188, in plot_candle_stick\n",
      "    _do_plot_candle(date, p_open, high, low, close, volume, view_index, symbol, day_sum, save, minute)\n",
      "  File \"D:\\sean.chen\\trader\\abu\\abupy\\MarketBu\\ABuMarketDrawing.py\", line 277, in _do_plot_candle\n",
      "    qutotes = []\n",
      "AttributeError: module 'mplfinance' has no attribute 'date2num'\n"
     ]
    },
    {
     "name": "stdout",
     "output_type": "stream",
     "text": [
      "tw_TWSE:2330\n"
     ]
    },
    {
     "name": "stderr",
     "output_type": "stream",
     "text": [
      "module 'mplfinance' has no attribute 'date2num'\n",
      "Traceback (most recent call last):\n",
      "  File \"D:\\sean.chen\\trader\\abu\\abupy\\MarketBu\\ABuMarketDrawing.py\", line 92, in plot_from_series\n",
      "    view_index=view_index_inner, save=save)\n",
      "  File \"D:\\sean.chen\\trader\\abu\\abupy\\MarketBu\\ABuMarketDrawing.py\", line 133, in plot_candle_from_symbol\n",
      "    plot_candle_form_klpd(kl_pd, day_sum, html_bk, view_index, save=save)\n",
      "  File \"D:\\sean.chen\\trader\\abu\\abupy\\MarketBu\\ABuMarketDrawing.py\", line 166, in plot_candle_form_klpd\n",
      "    fn, day_sum, html_bk, save)\n",
      "  File \"D:\\sean.chen\\trader\\abu\\abupy\\MarketBu\\ABuMarketDrawing.py\", line 188, in plot_candle_stick\n",
      "    _do_plot_candle(date, p_open, high, low, close, volume, view_index, symbol, day_sum, save, minute)\n",
      "  File \"D:\\sean.chen\\trader\\abu\\abupy\\MarketBu\\ABuMarketDrawing.py\", line 277, in _do_plot_candle\n",
      "    qutotes = []\n",
      "AttributeError: module 'mplfinance' has no attribute 'date2num'\n"
     ]
    },
    {
     "name": "stdout",
     "output_type": "stream",
     "text": [
      "tw_TWSE:2330\n"
     ]
    },
    {
     "name": "stderr",
     "output_type": "stream",
     "text": [
      "module 'mplfinance' has no attribute 'date2num'\n",
      "Traceback (most recent call last):\n",
      "  File \"D:\\sean.chen\\trader\\abu\\abupy\\MarketBu\\ABuMarketDrawing.py\", line 92, in plot_from_series\n",
      "    view_index=view_index_inner, save=save)\n",
      "  File \"D:\\sean.chen\\trader\\abu\\abupy\\MarketBu\\ABuMarketDrawing.py\", line 133, in plot_candle_from_symbol\n",
      "    plot_candle_form_klpd(kl_pd, day_sum, html_bk, view_index, save=save)\n",
      "  File \"D:\\sean.chen\\trader\\abu\\abupy\\MarketBu\\ABuMarketDrawing.py\", line 166, in plot_candle_form_klpd\n",
      "    fn, day_sum, html_bk, save)\n",
      "  File \"D:\\sean.chen\\trader\\abu\\abupy\\MarketBu\\ABuMarketDrawing.py\", line 188, in plot_candle_stick\n",
      "    _do_plot_candle(date, p_open, high, low, close, volume, view_index, symbol, day_sum, save, minute)\n",
      "  File \"D:\\sean.chen\\trader\\abu\\abupy\\MarketBu\\ABuMarketDrawing.py\", line 277, in _do_plot_candle\n",
      "    qutotes = []\n",
      "AttributeError: module 'mplfinance' has no attribute 'date2num'\n"
     ]
    },
    {
     "name": "stdout",
     "output_type": "stream",
     "text": [
      "tw_TWSE:2330\n"
     ]
    },
    {
     "name": "stderr",
     "output_type": "stream",
     "text": [
      "module 'mplfinance' has no attribute 'date2num'\n",
      "Traceback (most recent call last):\n",
      "  File \"D:\\sean.chen\\trader\\abu\\abupy\\MarketBu\\ABuMarketDrawing.py\", line 92, in plot_from_series\n",
      "    view_index=view_index_inner, save=save)\n",
      "  File \"D:\\sean.chen\\trader\\abu\\abupy\\MarketBu\\ABuMarketDrawing.py\", line 133, in plot_candle_from_symbol\n",
      "    plot_candle_form_klpd(kl_pd, day_sum, html_bk, view_index, save=save)\n",
      "  File \"D:\\sean.chen\\trader\\abu\\abupy\\MarketBu\\ABuMarketDrawing.py\", line 166, in plot_candle_form_klpd\n",
      "    fn, day_sum, html_bk, save)\n",
      "  File \"D:\\sean.chen\\trader\\abu\\abupy\\MarketBu\\ABuMarketDrawing.py\", line 188, in plot_candle_stick\n",
      "    _do_plot_candle(date, p_open, high, low, close, volume, view_index, symbol, day_sum, save, minute)\n",
      "  File \"D:\\sean.chen\\trader\\abu\\abupy\\MarketBu\\ABuMarketDrawing.py\", line 277, in _do_plot_candle\n",
      "    qutotes = []\n",
      "AttributeError: module 'mplfinance' has no attribute 'date2num'\n"
     ]
    },
    {
     "name": "stdout",
     "output_type": "stream",
     "text": [
      "tw_TWSE:2330\n"
     ]
    },
    {
     "name": "stderr",
     "output_type": "stream",
     "text": [
      "module 'mplfinance' has no attribute 'date2num'\n",
      "Traceback (most recent call last):\n",
      "  File \"D:\\sean.chen\\trader\\abu\\abupy\\MarketBu\\ABuMarketDrawing.py\", line 92, in plot_from_series\n",
      "    view_index=view_index_inner, save=save)\n",
      "  File \"D:\\sean.chen\\trader\\abu\\abupy\\MarketBu\\ABuMarketDrawing.py\", line 133, in plot_candle_from_symbol\n",
      "    plot_candle_form_klpd(kl_pd, day_sum, html_bk, view_index, save=save)\n",
      "  File \"D:\\sean.chen\\trader\\abu\\abupy\\MarketBu\\ABuMarketDrawing.py\", line 166, in plot_candle_form_klpd\n",
      "    fn, day_sum, html_bk, save)\n",
      "  File \"D:\\sean.chen\\trader\\abu\\abupy\\MarketBu\\ABuMarketDrawing.py\", line 188, in plot_candle_stick\n",
      "    _do_plot_candle(date, p_open, high, low, close, volume, view_index, symbol, day_sum, save, minute)\n",
      "  File \"D:\\sean.chen\\trader\\abu\\abupy\\MarketBu\\ABuMarketDrawing.py\", line 277, in _do_plot_candle\n",
      "    qutotes = []\n",
      "AttributeError: module 'mplfinance' has no attribute 'date2num'\n"
     ]
    },
    {
     "name": "stdout",
     "output_type": "stream",
     "text": [
      "tw_TWSE:2330\n"
     ]
    },
    {
     "name": "stderr",
     "output_type": "stream",
     "text": [
      "module 'mplfinance' has no attribute 'date2num'\n",
      "Traceback (most recent call last):\n",
      "  File \"D:\\sean.chen\\trader\\abu\\abupy\\MarketBu\\ABuMarketDrawing.py\", line 92, in plot_from_series\n",
      "    view_index=view_index_inner, save=save)\n",
      "  File \"D:\\sean.chen\\trader\\abu\\abupy\\MarketBu\\ABuMarketDrawing.py\", line 133, in plot_candle_from_symbol\n",
      "    plot_candle_form_klpd(kl_pd, day_sum, html_bk, view_index, save=save)\n",
      "  File \"D:\\sean.chen\\trader\\abu\\abupy\\MarketBu\\ABuMarketDrawing.py\", line 166, in plot_candle_form_klpd\n",
      "    fn, day_sum, html_bk, save)\n",
      "  File \"D:\\sean.chen\\trader\\abu\\abupy\\MarketBu\\ABuMarketDrawing.py\", line 188, in plot_candle_stick\n",
      "    _do_plot_candle(date, p_open, high, low, close, volume, view_index, symbol, day_sum, save, minute)\n",
      "  File \"D:\\sean.chen\\trader\\abu\\abupy\\MarketBu\\ABuMarketDrawing.py\", line 277, in _do_plot_candle\n",
      "    qutotes = []\n",
      "AttributeError: module 'mplfinance' has no attribute 'date2num'\n"
     ]
    },
    {
     "name": "stdout",
     "output_type": "stream",
     "text": [
      "tw_TWSE:2330\n"
     ]
    }
   ],
   "source": [
    "trade_df = ABuMarketDrawing.plot_candle_from_order(view_orders)"
   ]
  },
  {
   "cell_type": "code",
   "execution_count": null,
   "metadata": {},
   "outputs": [],
   "source": []
  }
 ],
 "metadata": {
  "kernelspec": {
   "display_name": "Python 3",
   "language": "python",
   "name": "python3"
  },
  "language_info": {
   "codemirror_mode": {
    "name": "ipython",
    "version": 3
   },
   "file_extension": ".py",
   "mimetype": "text/x-python",
   "name": "python",
   "nbconvert_exporter": "python",
   "pygments_lexer": "ipython3",
   "version": "3.7.4"
  }
 },
 "nbformat": 4,
 "nbformat_minor": 2
}
