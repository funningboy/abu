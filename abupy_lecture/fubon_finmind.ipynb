{
 "cells": [
  {
   "cell_type": "code",
   "execution_count": 1,
   "metadata": {},
   "outputs": [
    {
     "name": "stdout",
     "output_type": "stream",
     "text": [
      "UTF-8\n"
     ]
    }
   ],
   "source": [
    "import warnings\n",
    "warnings.filterwarnings('ignore')\n",
    "warnings.simplefilter('ignore')\n",
    "    \n",
    "import numpy as np\n",
    "import pandas as pd\n",
    "import matplotlib.pyplot as plt\n",
    "import mplfinance as mpf\n",
    "%matplotlib inline\n",
    "import os\n",
    "import sys\n",
    "\n",
    "print (sys.stdout.encoding)"
   ]
  },
  {
   "cell_type": "code",
   "execution_count": 2,
   "metadata": {},
   "outputs": [],
   "source": [
    "from bs4 import BeautifulSoup \n",
    "import requests\n",
    "import pandas as pd\n",
    "import numpy as np\n",
    "from datetime import date\n",
    "import matplotlib.pyplot as plt\n",
    "%matplotlib inline\n",
    "import os"
   ]
  },
  {
   "cell_type": "code",
   "execution_count": 3,
   "metadata": {},
   "outputs": [
    {
     "name": "stdout",
     "output_type": "stream",
     "text": [
      "2021-03-07\n"
     ]
    },
    {
     "data": {
      "text/plain": [
       "'2021-3-7'"
      ]
     },
     "execution_count": 3,
     "metadata": {},
     "output_type": "execute_result"
    }
   ],
   "source": [
    "td = date.today().isoformat()\n",
    "print (td)\n",
    "lls = lambda x: [x]\n",
    "\n",
    "dateiso = '-'.join(map(lambda x: str(int(x)), date.today().isoformat().split(\"-\")))\n",
    "dateiso"
   ]
  },
  {
   "cell_type": "code",
   "execution_count": 4,
   "metadata": {},
   "outputs": [
    {
     "data": {
      "text/html": [
       "<div>\n",
       "<style scoped>\n",
       "    .dataframe tbody tr th:only-of-type {\n",
       "        vertical-align: middle;\n",
       "    }\n",
       "\n",
       "    .dataframe tbody tr th {\n",
       "        vertical-align: top;\n",
       "    }\n",
       "\n",
       "    .dataframe thead th {\n",
       "        text-align: right;\n",
       "    }\n",
       "</style>\n",
       "<table border=\"1\" class=\"dataframe\">\n",
       "  <thead>\n",
       "    <tr style=\"text-align: right;\">\n",
       "      <th></th>\n",
       "      <th>O</th>\n",
       "      <th>H</th>\n",
       "      <th>L</th>\n",
       "      <th>C</th>\n",
       "      <th>V</th>\n",
       "    </tr>\n",
       "  </thead>\n",
       "  <tbody>\n",
       "    <tr>\n",
       "      <td>0</td>\n",
       "      <td>588.00</td>\n",
       "      <td>605.00</td>\n",
       "      <td>584.00</td>\n",
       "      <td>601.00</td>\n",
       "      <td>91339</td>\n",
       "    </tr>\n",
       "  </tbody>\n",
       "</table>\n",
       "</div>"
      ],
      "text/plain": [
       "        O       H       L       C      V\n",
       "0  588.00  605.00  584.00  601.00  91339"
      ]
     },
     "execution_count": 4,
     "metadata": {},
     "output_type": "execute_result"
    }
   ],
   "source": [
    "URL = 'http://fubon-ebrokerdj.fbs.com.tw/Z/ZC/ZCX/ZCX_2330.djhtm'\n",
    "\n",
    "resp = requests.get(URL)\n",
    "soup = BeautifulSoup(resp.text, 'html.parser')\n",
    "table = soup.find_all('table', {'class': 't01'})[1]\n",
    "values = list(map(lambda x: str(x.text).replace(',',''), table.find_all('td', {'class': 't3n1'})))\n",
    "ohlcV = {\n",
    "    'O': 0,\n",
    "    'H': 1,\n",
    "    'L': 2,\n",
    "    'C': 3,\n",
    "    'V': 11\n",
    "}\n",
    "for k,v in ohlcV.items():\n",
    "    ohlcV[k] = lls(values[ohlcV[k]])\n",
    "    \n",
    "ohlcV = pd.DataFrame(ohlcV)\n",
    "ohlcV"
   ]
  },
  {
   "cell_type": "code",
   "execution_count": 5,
   "metadata": {},
   "outputs": [
    {
     "data": {
      "text/html": [
       "<div>\n",
       "<style scoped>\n",
       "    .dataframe tbody tr th:only-of-type {\n",
       "        vertical-align: middle;\n",
       "    }\n",
       "\n",
       "    .dataframe tbody tr th {\n",
       "        vertical-align: top;\n",
       "    }\n",
       "\n",
       "    .dataframe thead th {\n",
       "        text-align: right;\n",
       "    }\n",
       "</style>\n",
       "<table border=\"1\" class=\"dataframe\">\n",
       "  <thead>\n",
       "    <tr style=\"text-align: right;\">\n",
       "      <th></th>\n",
       "      <th>MarginPurchaseBuy</th>\n",
       "      <th>MarginPurchaseCashRepayment</th>\n",
       "      <th>MarginPurchaseLimit</th>\n",
       "      <th>MarginPurchaseSell</th>\n",
       "      <th>MarginPurchaseTodayBalance</th>\n",
       "      <th>MarginPurchaseYesterdayBalance</th>\n",
       "      <th>date</th>\n",
       "      <th>stock_id</th>\n",
       "    </tr>\n",
       "  </thead>\n",
       "  <tbody>\n",
       "    <tr>\n",
       "      <td>0</td>\n",
       "      <td>2563</td>\n",
       "      <td>39</td>\n",
       "      <td>6482595</td>\n",
       "      <td>1488</td>\n",
       "      <td>37639</td>\n",
       "      <td>86</td>\n",
       "      <td>2021-03-07</td>\n",
       "      <td>2330</td>\n",
       "    </tr>\n",
       "  </tbody>\n",
       "</table>\n",
       "</div>"
      ],
      "text/plain": [
       "  MarginPurchaseBuy MarginPurchaseCashRepayment MarginPurchaseLimit  \\\n",
       "0              2563                          39             6482595   \n",
       "\n",
       "  MarginPurchaseSell MarginPurchaseTodayBalance  \\\n",
       "0               1488                      37639   \n",
       "\n",
       "  MarginPurchaseYesterdayBalance        date stock_id  \n",
       "0                             86  2021-03-07     2330  "
      ]
     },
     "execution_count": 5,
     "metadata": {},
     "output_type": "execute_result"
    }
   ],
   "source": [
    "URL= 'http://fubon-ebrokerdj.fbs.com.tw/z/zc/zcx/zcxD5.djjs?A=2330'\n",
    "\n",
    "resp = requests.get(URL)\n",
    "soup = BeautifulSoup(resp.text, 'html.parser')\n",
    "table = soup.find_all('table', {'class': 't01'})[0]\n",
    "values = list(map(lambda x: str(x.text).replace(',',''), table.find_all('td', {'class': 't3n1'})))\n",
    "\n",
    "MarginPS = {\n",
    "    'MarginPurchaseBuy': 0,\n",
    "    'MarginPurchaseCashRepayment' : 2,\n",
    "    'MarginPurchaseLimit': 4,\n",
    "    'MarginPurchaseSell': 1,\n",
    "    'MarginPurchaseTodayBalance': 3,\n",
    "    'MarginPurchaseYesterdayBalance': 7\n",
    "}\n",
    "for k,v in MarginPS.items():\n",
    "    MarginPS[k] = lls(values[MarginPS[k]])\n",
    "    \n",
    "MarginPS.update({\n",
    "    'date': [td],\n",
    "    'stock_id': ['2330']\n",
    "})\n",
    "data = pd.DataFrame(MarginPS)\n",
    "data\n",
    "\n"
   ]
  },
  {
   "cell_type": "code",
   "execution_count": 6,
   "metadata": {},
   "outputs": [
    {
     "data": {
      "text/html": [
       "<div>\n",
       "<style scoped>\n",
       "    .dataframe tbody tr th:only-of-type {\n",
       "        vertical-align: middle;\n",
       "    }\n",
       "\n",
       "    .dataframe tbody tr th {\n",
       "        vertical-align: top;\n",
       "    }\n",
       "\n",
       "    .dataframe thead th {\n",
       "        text-align: right;\n",
       "    }\n",
       "</style>\n",
       "<table border=\"1\" class=\"dataframe\">\n",
       "  <thead>\n",
       "    <tr style=\"text-align: right;\">\n",
       "      <th></th>\n",
       "      <th>date</th>\n",
       "      <th>stock_id</th>\n",
       "      <th>buy</th>\n",
       "      <th>name</th>\n",
       "      <th>sell</th>\n",
       "    </tr>\n",
       "  </thead>\n",
       "  <tbody>\n",
       "    <tr>\n",
       "      <td>0</td>\n",
       "      <td>2021-03-05</td>\n",
       "      <td>2330</td>\n",
       "      <td>24533019</td>\n",
       "      <td>Foreign_Investor</td>\n",
       "      <td>46846114</td>\n",
       "    </tr>\n",
       "    <tr>\n",
       "      <td>1</td>\n",
       "      <td>2021-03-05</td>\n",
       "      <td>2330</td>\n",
       "      <td>0</td>\n",
       "      <td>Foreign_Dealer_Self</td>\n",
       "      <td>0</td>\n",
       "    </tr>\n",
       "    <tr>\n",
       "      <td>2</td>\n",
       "      <td>2021-03-05</td>\n",
       "      <td>2330</td>\n",
       "      <td>1196000</td>\n",
       "      <td>Investment_Trust</td>\n",
       "      <td>5000</td>\n",
       "    </tr>\n",
       "    <tr>\n",
       "      <td>3</td>\n",
       "      <td>2021-03-05</td>\n",
       "      <td>2330</td>\n",
       "      <td>1341000</td>\n",
       "      <td>Dealer_self</td>\n",
       "      <td>1533898</td>\n",
       "    </tr>\n",
       "    <tr>\n",
       "      <td>4</td>\n",
       "      <td>2021-03-05</td>\n",
       "      <td>2330</td>\n",
       "      <td>526000</td>\n",
       "      <td>Dealer_Hedging</td>\n",
       "      <td>579374</td>\n",
       "    </tr>\n",
       "  </tbody>\n",
       "</table>\n",
       "</div>"
      ],
      "text/plain": [
       "         date stock_id       buy                 name      sell\n",
       "0  2021-03-05     2330  24533019     Foreign_Investor  46846114\n",
       "1  2021-03-05     2330         0  Foreign_Dealer_Self         0\n",
       "2  2021-03-05     2330   1196000     Investment_Trust      5000\n",
       "3  2021-03-05     2330   1341000          Dealer_self   1533898\n",
       "4  2021-03-05     2330    526000       Dealer_Hedging    579374"
      ]
     },
     "execution_count": 6,
     "metadata": {},
     "output_type": "execute_result"
    }
   ],
   "source": [
    "url = \"https://api.finmindtrade.com/api/v4/data\"\n",
    "parameter = {\n",
    "    \"dataset\": \"TaiwanStockInstitutionalInvestorsBuySell\",\n",
    "    \"data_id\": \"2330\",\n",
    "    \"start_date\": \"2021-03-05\",\n",
    "    \"token\": \"\", # 參考登入，獲取金鑰\n",
    "}\n",
    "data = requests.get(url, params=parameter)\n",
    "data = data.json()\n",
    "data = pd.DataFrame(data['data'])\n",
    "#data\n",
    "data.head()"
   ]
  },
  {
   "cell_type": "code",
   "execution_count": 7,
   "metadata": {},
   "outputs": [
    {
     "name": "stdout",
     "output_type": "stream",
     "text": [
      "         date stock_id transaction_type  volume  fee_rate  close  \\\n",
      "0  2021-02-26     8044               議借      50       3.5   82.3   \n",
      "1  2021-03-02     8044               議借     110       3.5   81.7   \n",
      "2  2021-03-04     8044               議借     320       3.5   79.3   \n",
      "\n",
      "  original_return_date  original_lending_period  \n",
      "0           2021-08-26                      181  \n",
      "1           2021-09-02                      184  \n",
      "2           2021-09-03                      183  \n"
     ]
    }
   ],
   "source": [
    "url = \"https://api.finmindtrade.com/api/v4/data\"\n",
    "parameter = {\n",
    "    \"dataset\": \"TaiwanStockSecuritiesLending\",\n",
    "    \"data_id\": \"8044\",\n",
    "    \"start_date\": \"2021-02-01\",\n",
    "    \"token\": \"\", # 參考登入，獲取金鑰\n",
    "}\n",
    "data = requests.get(url, params=parameter)\n",
    "data = data.json()\n",
    "data = pd.DataFrame(data['data'])\n",
    "print(data.head())"
   ]
  },
  {
   "cell_type": "code",
   "execution_count": 8,
   "metadata": {},
   "outputs": [
    {
     "name": "stderr",
     "output_type": "stream",
     "text": [
      "NumExpr defaulting to 8 threads.\n"
     ]
    }
   ],
   "source": [
    "# 使用insert 0即只使用github，避免交叉使用了pip安装的abupy，导致的版本不一致问题\n",
    "sys.path.insert(0, os.path.abspath('../'))\n",
    "import abupy"
   ]
  },
  {
   "cell_type": "code",
   "execution_count": 9,
   "metadata": {},
   "outputs": [
    {
     "name": "stderr",
     "output_type": "stream",
     "text": [
      "disable example env\n"
     ]
    }
   ],
   "source": [
    "# 使用沙盒数据，目的是和书中一样的数据环境\n",
    "abupy.env.disable_example_env_ipython()"
   ]
  },
  {
   "cell_type": "code",
   "execution_count": null,
   "metadata": {},
   "outputs": [],
   "source": []
  },
  {
   "cell_type": "code",
   "execution_count": 10,
   "metadata": {},
   "outputs": [],
   "source": [
    "abupy.env.g_is_ipython = 0"
   ]
  },
  {
   "cell_type": "code",
   "execution_count": 11,
   "metadata": {},
   "outputs": [
    {
     "data": {
      "text/plain": [
       "<EMarketDataFetchMode.E_DATA_FETCH_NORMAL: 0>"
      ]
     },
     "execution_count": 11,
     "metadata": {},
     "output_type": "execute_result"
    }
   ],
   "source": [
    "abupy.env.g_data_fetch_mode"
   ]
  },
  {
   "cell_type": "code",
   "execution_count": 12,
   "metadata": {},
   "outputs": [],
   "source": [
    "abupy.env.g_data_fetch_mode = abupy.EMarketDataFetchMode.E_DATA_FETCH_FORCE_NET"
   ]
  },
  {
   "cell_type": "code",
   "execution_count": 13,
   "metadata": {},
   "outputs": [
    {
     "name": "stdout",
     "output_type": "stream",
     "text": [
      "tw_TWSE:2330\n"
     ]
    },
    {
     "data": {
      "text/html": [
       "<div>\n",
       "<style scoped>\n",
       "    .dataframe tbody tr th:only-of-type {\n",
       "        vertical-align: middle;\n",
       "    }\n",
       "\n",
       "    .dataframe tbody tr th {\n",
       "        vertical-align: top;\n",
       "    }\n",
       "\n",
       "    .dataframe thead th {\n",
       "        text-align: right;\n",
       "    }\n",
       "</style>\n",
       "<table border=\"1\" class=\"dataframe\">\n",
       "  <thead>\n",
       "    <tr style=\"text-align: right;\">\n",
       "      <th></th>\n",
       "      <th>open</th>\n",
       "      <th>close</th>\n",
       "      <th>high</th>\n",
       "      <th>low</th>\n",
       "      <th>volume</th>\n",
       "      <th>date</th>\n",
       "      <th>pre_close</th>\n",
       "      <th>date_week</th>\n",
       "      <th>p_change</th>\n",
       "      <th>atr21</th>\n",
       "      <th>atr14</th>\n",
       "      <th>key</th>\n",
       "    </tr>\n",
       "  </thead>\n",
       "  <tbody>\n",
       "    <tr>\n",
       "      <td>2021-02-26</td>\n",
       "      <td>611.0</td>\n",
       "      <td>606.0</td>\n",
       "      <td>618.0</td>\n",
       "      <td>606.0</td>\n",
       "      <td>111483000</td>\n",
       "      <td>20210226</td>\n",
       "      <td>635.0</td>\n",
       "      <td>4</td>\n",
       "      <td>-4.567</td>\n",
       "      <td>22.7307</td>\n",
       "      <td>22.0454</td>\n",
       "      <td>973</td>\n",
       "    </tr>\n",
       "    <tr>\n",
       "      <td>2021-03-02</td>\n",
       "      <td>621.0</td>\n",
       "      <td>609.0</td>\n",
       "      <td>622.0</td>\n",
       "      <td>609.0</td>\n",
       "      <td>55444973</td>\n",
       "      <td>20210302</td>\n",
       "      <td>606.0</td>\n",
       "      <td>1</td>\n",
       "      <td>0.495</td>\n",
       "      <td>23.0279</td>\n",
       "      <td>22.5727</td>\n",
       "      <td>974</td>\n",
       "    </tr>\n",
       "    <tr>\n",
       "      <td>2021-03-03</td>\n",
       "      <td>609.0</td>\n",
       "      <td>622.0</td>\n",
       "      <td>622.0</td>\n",
       "      <td>601.0</td>\n",
       "      <td>47944000</td>\n",
       "      <td>20210303</td>\n",
       "      <td>609.0</td>\n",
       "      <td>2</td>\n",
       "      <td>2.135</td>\n",
       "      <td>22.8435</td>\n",
       "      <td>22.3630</td>\n",
       "      <td>975</td>\n",
       "    </tr>\n",
       "    <tr>\n",
       "      <td>2021-03-04</td>\n",
       "      <td>609.0</td>\n",
       "      <td>601.0</td>\n",
       "      <td>611.0</td>\n",
       "      <td>601.0</td>\n",
       "      <td>67387000</td>\n",
       "      <td>20210304</td>\n",
       "      <td>622.0</td>\n",
       "      <td>3</td>\n",
       "      <td>-3.376</td>\n",
       "      <td>21.6759</td>\n",
       "      <td>20.7146</td>\n",
       "      <td>976</td>\n",
       "    </tr>\n",
       "    <tr>\n",
       "      <td>2021-03-05</td>\n",
       "      <td>588.0</td>\n",
       "      <td>601.0</td>\n",
       "      <td>605.0</td>\n",
       "      <td>584.0</td>\n",
       "      <td>79687000</td>\n",
       "      <td>20210305</td>\n",
       "      <td>601.0</td>\n",
       "      <td>4</td>\n",
       "      <td>0.000</td>\n",
       "      <td>23.1599</td>\n",
       "      <td>23.0193</td>\n",
       "      <td>977</td>\n",
       "    </tr>\n",
       "  </tbody>\n",
       "</table>\n",
       "</div>"
      ],
      "text/plain": [
       "             open  close   high    low     volume      date  pre_close  \\\n",
       "2021-02-26  611.0  606.0  618.0  606.0  111483000  20210226      635.0   \n",
       "2021-03-02  621.0  609.0  622.0  609.0   55444973  20210302      606.0   \n",
       "2021-03-03  609.0  622.0  622.0  601.0   47944000  20210303      609.0   \n",
       "2021-03-04  609.0  601.0  611.0  601.0   67387000  20210304      622.0   \n",
       "2021-03-05  588.0  601.0  605.0  584.0   79687000  20210305      601.0   \n",
       "\n",
       "            date_week  p_change    atr21    atr14  key  \n",
       "2021-02-26          4    -4.567  22.7307  22.0454  973  \n",
       "2021-03-02          1     0.495  23.0279  22.5727  974  \n",
       "2021-03-03          2     2.135  22.8435  22.3630  975  \n",
       "2021-03-04          3    -3.376  21.6759  20.7146  976  \n",
       "2021-03-05          4     0.000  23.1599  23.0193  977  "
      ]
     },
     "execution_count": 13,
     "metadata": {},
     "output_type": "execute_result"
    }
   ],
   "source": [
    "abupy.ABuSymbolPd.make_kl_df('2330', n_folds=4).tail()"
   ]
  },
  {
   "cell_type": "code",
   "execution_count": 14,
   "metadata": {},
   "outputs": [],
   "source": [
    "from abupy import AbuDoubleMaBuy, AbuDoubleMaSell, AbuSDBreak, AbuFactorBuyBreak\n",
    "from abupy import AbuFactorCloseAtrNStop, AbuFactorAtrNStop, AbuFactorPreAtrNStop\n",
    "from abupy import abu, ABuProgress, AbuMetricsBase, EMarketTargetType, ABuMarketDrawing\n",
    "from abupy import AbuFactorSellNDay, AbuFactorBuyWD, AbuFactorSellBreak\n",
    "from abupy import AbuSymbolTW"
   ]
  },
  {
   "cell_type": "code",
   "execution_count": 15,
   "metadata": {},
   "outputs": [],
   "source": [
    "buy_factors = [{'class': AbuDoubleMaBuy},\n",
    "               {'xd': 21, 'class': AbuFactorBuyBreak}, \n",
    "               {'xd': 7, 'class': AbuSDBreak}]\n",
    "\n",
    "sell_factors = [\n",
    "    {'class': AbuDoubleMaSell},\n",
    "    {'xd': 21, 'class': AbuFactorSellBreak},\n",
    "    {'stop_loss_n': 1.0, 'stop_win_n': 3.0, 'class': AbuFactorAtrNStop},\n",
    "    {'class': AbuFactorPreAtrNStop, 'pre_atr_n': 1.5},\n",
    "    {'class': AbuFactorCloseAtrNStop, 'close_atr_n': 1.5}\n",
    "]"
   ]
  },
  {
   "cell_type": "code",
   "execution_count": 16,
   "metadata": {},
   "outputs": [],
   "source": [
    "# 使用沙盒内的美股做为回测目标\n",
    "choice_symbols = ['2330']\n",
    "\n",
    "# 初始资金量\n",
    "read_cash = 3000000\n",
    "# 使用run_loop_back运行策略\n",
    "abu_result_tuple, kl_pd_manger = abu.run_loop_back(read_cash,\n",
    "                                                   buy_factors,\n",
    "                                                   sell_factors,\n",
    "                                                   n_folds=6,\n",
    "                                                   choice_symbols=choice_symbols)\n",
    "ABuProgress.clear_output()"
   ]
  },
  {
   "cell_type": "code",
   "execution_count": 17,
   "metadata": {
    "scrolled": false
   },
   "outputs": [
    {
     "name": "stdout",
     "output_type": "stream",
     "text": [
      "买入后卖出的交易数量:130\n",
      "买入后尚未卖出的交易数量:0\n",
      "胜率:53.0769%\n",
      "平均获利期望:6.9064%\n",
      "平均亏损期望:-2.9244%\n",
      "盈亏比:2.5836\n",
      "策略收益: 45.2318%\n",
      "基准收益: 311.8728%\n",
      "策略年化收益: 11.2540%\n",
      "基准年化收益: 77.5962%\n",
      "策略买入成交比例:97.6923%\n",
      "策略资金利用率比例:21.8851%\n",
      "策略共执行1467个交易日\n"
     ]
    },
    {
     "data": {
      "image/png": "[encoded data removed]",
      "text/plain": [
       "<Figure size 1008x504 with 1 Axes>"
      ]
     },
     "metadata": {},
     "output_type": "display_data"
    },
    {
     "data": {
      "text/plain": [
       "<abupy.MetricsBu.ABuMetricsBase.AbuMetricsBase at 0x1df0005a608>"
      ]
     },
     "execution_count": 17,
     "metadata": {},
     "output_type": "execute_result"
    }
   ],
   "source": [
    "AbuMetricsBase.show_general(*abu_result_tuple, only_show_returns=True)"
   ]
  },
  {
   "cell_type": "code",
   "execution_count": 18,
   "metadata": {},
   "outputs": [
    {
     "data": {
      "text/html": [
       "<div>\n",
       "<style scoped>\n",
       "    .dataframe tbody tr th:only-of-type {\n",
       "        vertical-align: middle;\n",
       "    }\n",
       "\n",
       "    .dataframe tbody tr th {\n",
       "        vertical-align: top;\n",
       "    }\n",
       "\n",
       "    .dataframe thead th {\n",
       "        text-align: right;\n",
       "    }\n",
       "</style>\n",
       "<table border=\"1\" class=\"dataframe\">\n",
       "  <thead>\n",
       "    <tr style=\"text-align: right;\">\n",
       "      <th></th>\n",
       "      <th>buy_date</th>\n",
       "      <th>buy_price</th>\n",
       "      <th>buy_cnt</th>\n",
       "      <th>buy_factor</th>\n",
       "      <th>symbol</th>\n",
       "      <th>buy_pos</th>\n",
       "      <th>buy_type_str</th>\n",
       "      <th>expect_direction</th>\n",
       "      <th>sell_type_extra</th>\n",
       "      <th>sell_date</th>\n",
       "      <th>sell_price</th>\n",
       "      <th>sell_type</th>\n",
       "      <th>ml_features</th>\n",
       "      <th>key</th>\n",
       "      <th>profit</th>\n",
       "      <th>result</th>\n",
       "      <th>profit_cg</th>\n",
       "      <th>profit_cg_hunder</th>\n",
       "      <th>keep_days</th>\n",
       "    </tr>\n",
       "  </thead>\n",
       "  <tbody>\n",
       "    <tr>\n",
       "      <td>2015-03-18</td>\n",
       "      <td>20150318</td>\n",
       "      <td>152.00</td>\n",
       "      <td>3000.0</td>\n",
       "      <td>AbuSDBreak:7</td>\n",
       "      <td>2330</td>\n",
       "      <td>AbuAtrPosition</td>\n",
       "      <td>call</td>\n",
       "      <td>1.0</td>\n",
       "      <td>AbuFactorAtrNStop:stop_loss=1.0</td>\n",
       "      <td>20150330</td>\n",
       "      <td>143.00</td>\n",
       "      <td>loss</td>\n",
       "      <td>None</td>\n",
       "      <td>7</td>\n",
       "      <td>-27000.0</td>\n",
       "      <td>-1</td>\n",
       "      <td>-0.0592</td>\n",
       "      <td>-5.9211</td>\n",
       "      <td>12</td>\n",
       "    </tr>\n",
       "    <tr>\n",
       "      <td>2015-04-13</td>\n",
       "      <td>20150413</td>\n",
       "      <td>146.75</td>\n",
       "      <td>4000.0</td>\n",
       "      <td>AbuSDBreak:7</td>\n",
       "      <td>2330</td>\n",
       "      <td>AbuAtrPosition</td>\n",
       "      <td>call</td>\n",
       "      <td>1.0</td>\n",
       "      <td>AbuFactorSellBreak:21</td>\n",
       "      <td>20150420</td>\n",
       "      <td>142.75</td>\n",
       "      <td>loss</td>\n",
       "      <td>None</td>\n",
       "      <td>23</td>\n",
       "      <td>-16000.0</td>\n",
       "      <td>-1</td>\n",
       "      <td>-0.0273</td>\n",
       "      <td>-2.7257</td>\n",
       "      <td>7</td>\n",
       "    </tr>\n",
       "    <tr>\n",
       "      <td>2015-04-24</td>\n",
       "      <td>20150424</td>\n",
       "      <td>150.50</td>\n",
       "      <td>3000.0</td>\n",
       "      <td>AbuSDBreak:7</td>\n",
       "      <td>2330</td>\n",
       "      <td>AbuAtrPosition</td>\n",
       "      <td>call</td>\n",
       "      <td>1.0</td>\n",
       "      <td>AbuFactorAtrNStop:stop_loss=1.0</td>\n",
       "      <td>20150522</td>\n",
       "      <td>146.00</td>\n",
       "      <td>loss</td>\n",
       "      <td>None</td>\n",
       "      <td>32</td>\n",
       "      <td>-13500.0</td>\n",
       "      <td>-1</td>\n",
       "      <td>-0.0299</td>\n",
       "      <td>-2.9900</td>\n",
       "      <td>28</td>\n",
       "    </tr>\n",
       "    <tr>\n",
       "      <td>2015-04-27</td>\n",
       "      <td>20150427</td>\n",
       "      <td>151.50</td>\n",
       "      <td>3000.0</td>\n",
       "      <td>AbuFactorBuyBreak:21</td>\n",
       "      <td>2330</td>\n",
       "      <td>AbuAtrPosition</td>\n",
       "      <td>call</td>\n",
       "      <td>1.0</td>\n",
       "      <td>AbuFactorAtrNStop:stop_loss=1.0</td>\n",
       "      <td>20150522</td>\n",
       "      <td>146.00</td>\n",
       "      <td>loss</td>\n",
       "      <td>None</td>\n",
       "      <td>33</td>\n",
       "      <td>-16500.0</td>\n",
       "      <td>-1</td>\n",
       "      <td>-0.0363</td>\n",
       "      <td>-3.6304</td>\n",
       "      <td>25</td>\n",
       "    </tr>\n",
       "    <tr>\n",
       "      <td>2015-05-12</td>\n",
       "      <td>20150512</td>\n",
       "      <td>147.75</td>\n",
       "      <td>4000.0</td>\n",
       "      <td>AbuSDBreak:7</td>\n",
       "      <td>2330</td>\n",
       "      <td>AbuAtrPosition</td>\n",
       "      <td>call</td>\n",
       "      <td>1.0</td>\n",
       "      <td>AbuFactorSellBreak:21</td>\n",
       "      <td>20150525</td>\n",
       "      <td>146.50</td>\n",
       "      <td>loss</td>\n",
       "      <td>None</td>\n",
       "      <td>43</td>\n",
       "      <td>-5000.0</td>\n",
       "      <td>-1</td>\n",
       "      <td>-0.0085</td>\n",
       "      <td>-0.8460</td>\n",
       "      <td>13</td>\n",
       "    </tr>\n",
       "    <tr>\n",
       "      <td>...</td>\n",
       "      <td>...</td>\n",
       "      <td>...</td>\n",
       "      <td>...</td>\n",
       "      <td>...</td>\n",
       "      <td>...</td>\n",
       "      <td>...</td>\n",
       "      <td>...</td>\n",
       "      <td>...</td>\n",
       "      <td>...</td>\n",
       "      <td>...</td>\n",
       "      <td>...</td>\n",
       "      <td>...</td>\n",
       "      <td>...</td>\n",
       "      <td>...</td>\n",
       "      <td>...</td>\n",
       "      <td>...</td>\n",
       "      <td>...</td>\n",
       "      <td>...</td>\n",
       "      <td>...</td>\n",
       "    </tr>\n",
       "    <tr>\n",
       "      <td>2020-11-16</td>\n",
       "      <td>20201116</td>\n",
       "      <td>476.75</td>\n",
       "      <td>1000.0</td>\n",
       "      <td>AbuFactorBuyBreak:21</td>\n",
       "      <td>2330</td>\n",
       "      <td>AbuAtrPosition</td>\n",
       "      <td>call</td>\n",
       "      <td>1.0</td>\n",
       "      <td>AbuFactorCloseAtrNStop:close_atr_n=1.5</td>\n",
       "      <td>20201216</td>\n",
       "      <td>511.00</td>\n",
       "      <td>win</td>\n",
       "      <td>None</td>\n",
       "      <td>1396</td>\n",
       "      <td>34250.0</td>\n",
       "      <td>1</td>\n",
       "      <td>0.0718</td>\n",
       "      <td>7.1841</td>\n",
       "      <td>30</td>\n",
       "    </tr>\n",
       "    <tr>\n",
       "      <td>2020-11-17</td>\n",
       "      <td>20201117</td>\n",
       "      <td>495.75</td>\n",
       "      <td>1000.0</td>\n",
       "      <td>AbuSDBreak:7</td>\n",
       "      <td>2330</td>\n",
       "      <td>AbuAtrPosition</td>\n",
       "      <td>call</td>\n",
       "      <td>1.0</td>\n",
       "      <td>AbuFactorCloseAtrNStop:close_atr_n=1.5</td>\n",
       "      <td>20201216</td>\n",
       "      <td>511.00</td>\n",
       "      <td>win</td>\n",
       "      <td>None</td>\n",
       "      <td>1397</td>\n",
       "      <td>15250.0</td>\n",
       "      <td>1</td>\n",
       "      <td>0.0308</td>\n",
       "      <td>3.0761</td>\n",
       "      <td>29</td>\n",
       "    </tr>\n",
       "    <tr>\n",
       "      <td>2020-12-31</td>\n",
       "      <td>20201231</td>\n",
       "      <td>527.00</td>\n",
       "      <td>1000.0</td>\n",
       "      <td>AbuFactorBuyBreak:21</td>\n",
       "      <td>2330</td>\n",
       "      <td>AbuAtrPosition</td>\n",
       "      <td>call</td>\n",
       "      <td>1.0</td>\n",
       "      <td>AbuFactorAtrNStop:stop_win=3.0</td>\n",
       "      <td>20210122</td>\n",
       "      <td>657.00</td>\n",
       "      <td>win</td>\n",
       "      <td>None</td>\n",
       "      <td>1429</td>\n",
       "      <td>130000.0</td>\n",
       "      <td>1</td>\n",
       "      <td>0.2467</td>\n",
       "      <td>24.6679</td>\n",
       "      <td>22</td>\n",
       "    </tr>\n",
       "    <tr>\n",
       "      <td>2021-01-04</td>\n",
       "      <td>20210104</td>\n",
       "      <td>534.00</td>\n",
       "      <td>1000.0</td>\n",
       "      <td>AbuSDBreak:7</td>\n",
       "      <td>2330</td>\n",
       "      <td>AbuAtrPosition</td>\n",
       "      <td>call</td>\n",
       "      <td>1.0</td>\n",
       "      <td>AbuFactorCloseAtrNStop:close_atr_n=1.5</td>\n",
       "      <td>20210126</td>\n",
       "      <td>625.00</td>\n",
       "      <td>win</td>\n",
       "      <td>None</td>\n",
       "      <td>1430</td>\n",
       "      <td>91000.0</td>\n",
       "      <td>1</td>\n",
       "      <td>0.1704</td>\n",
       "      <td>17.0412</td>\n",
       "      <td>22</td>\n",
       "    </tr>\n",
       "    <tr>\n",
       "      <td>2021-01-14</td>\n",
       "      <td>20210114</td>\n",
       "      <td>592.00</td>\n",
       "      <td>1000.0</td>\n",
       "      <td>AbuSDBreak:7</td>\n",
       "      <td>2330</td>\n",
       "      <td>AbuAtrPosition</td>\n",
       "      <td>call</td>\n",
       "      <td>1.0</td>\n",
       "      <td>AbuFactorCloseAtrNStop:close_atr_n=1.5</td>\n",
       "      <td>20210126</td>\n",
       "      <td>625.00</td>\n",
       "      <td>win</td>\n",
       "      <td>None</td>\n",
       "      <td>1438</td>\n",
       "      <td>33000.0</td>\n",
       "      <td>1</td>\n",
       "      <td>0.0557</td>\n",
       "      <td>5.5743</td>\n",
       "      <td>12</td>\n",
       "    </tr>\n",
       "  </tbody>\n",
       "</table>\n",
       "<p>130 rows × 19 columns</p>\n",
       "</div>"
      ],
      "text/plain": [
       "            buy_date  buy_price  buy_cnt            buy_factor symbol  \\\n",
       "2015-03-18  20150318     152.00   3000.0          AbuSDBreak:7   2330   \n",
       "2015-04-13  20150413     146.75   4000.0          AbuSDBreak:7   2330   \n",
       "2015-04-24  20150424     150.50   3000.0          AbuSDBreak:7   2330   \n",
       "2015-04-27  20150427     151.50   3000.0  AbuFactorBuyBreak:21   2330   \n",
       "2015-05-12  20150512     147.75   4000.0          AbuSDBreak:7   2330   \n",
       "...              ...        ...      ...                   ...    ...   \n",
       "2020-11-16  20201116     476.75   1000.0  AbuFactorBuyBreak:21   2330   \n",
       "2020-11-17  20201117     495.75   1000.0          AbuSDBreak:7   2330   \n",
       "2020-12-31  20201231     527.00   1000.0  AbuFactorBuyBreak:21   2330   \n",
       "2021-01-04  20210104     534.00   1000.0          AbuSDBreak:7   2330   \n",
       "2021-01-14  20210114     592.00   1000.0          AbuSDBreak:7   2330   \n",
       "\n",
       "                   buy_pos buy_type_str  expect_direction  \\\n",
       "2015-03-18  AbuAtrPosition         call               1.0   \n",
       "2015-04-13  AbuAtrPosition         call               1.0   \n",
       "2015-04-24  AbuAtrPosition         call               1.0   \n",
       "2015-04-27  AbuAtrPosition         call               1.0   \n",
       "2015-05-12  AbuAtrPosition         call               1.0   \n",
       "...                    ...          ...               ...   \n",
       "2020-11-16  AbuAtrPosition         call               1.0   \n",
       "2020-11-17  AbuAtrPosition         call               1.0   \n",
       "2020-12-31  AbuAtrPosition         call               1.0   \n",
       "2021-01-04  AbuAtrPosition         call               1.0   \n",
       "2021-01-14  AbuAtrPosition         call               1.0   \n",
       "\n",
       "                                   sell_type_extra  sell_date  sell_price  \\\n",
       "2015-03-18         AbuFactorAtrNStop:stop_loss=1.0   20150330      143.00   \n",
       "2015-04-13                   AbuFactorSellBreak:21   20150420      142.75   \n",
       "2015-04-24         AbuFactorAtrNStop:stop_loss=1.0   20150522      146.00   \n",
       "2015-04-27         AbuFactorAtrNStop:stop_loss=1.0   20150522      146.00   \n",
       "2015-05-12                   AbuFactorSellBreak:21   20150525      146.50   \n",
       "...                                            ...        ...         ...   \n",
       "2020-11-16  AbuFactorCloseAtrNStop:close_atr_n=1.5   20201216      511.00   \n",
       "2020-11-17  AbuFactorCloseAtrNStop:close_atr_n=1.5   20201216      511.00   \n",
       "2020-12-31          AbuFactorAtrNStop:stop_win=3.0   20210122      657.00   \n",
       "2021-01-04  AbuFactorCloseAtrNStop:close_atr_n=1.5   20210126      625.00   \n",
       "2021-01-14  AbuFactorCloseAtrNStop:close_atr_n=1.5   20210126      625.00   \n",
       "\n",
       "           sell_type ml_features   key    profit  result  profit_cg  \\\n",
       "2015-03-18      loss        None     7  -27000.0      -1    -0.0592   \n",
       "2015-04-13      loss        None    23  -16000.0      -1    -0.0273   \n",
       "2015-04-24      loss        None    32  -13500.0      -1    -0.0299   \n",
       "2015-04-27      loss        None    33  -16500.0      -1    -0.0363   \n",
       "2015-05-12      loss        None    43   -5000.0      -1    -0.0085   \n",
       "...              ...         ...   ...       ...     ...        ...   \n",
       "2020-11-16       win        None  1396   34250.0       1     0.0718   \n",
       "2020-11-17       win        None  1397   15250.0       1     0.0308   \n",
       "2020-12-31       win        None  1429  130000.0       1     0.2467   \n",
       "2021-01-04       win        None  1430   91000.0       1     0.1704   \n",
       "2021-01-14       win        None  1438   33000.0       1     0.0557   \n",
       "\n",
       "            profit_cg_hunder  keep_days  \n",
       "2015-03-18           -5.9211         12  \n",
       "2015-04-13           -2.7257          7  \n",
       "2015-04-24           -2.9900         28  \n",
       "2015-04-27           -3.6304         25  \n",
       "2015-05-12           -0.8460         13  \n",
       "...                      ...        ...  \n",
       "2020-11-16            7.1841         30  \n",
       "2020-11-17            3.0761         29  \n",
       "2020-12-31           24.6679         22  \n",
       "2021-01-04           17.0412         22  \n",
       "2021-01-14            5.5743         12  \n",
       "\n",
       "[130 rows x 19 columns]"
      ]
     },
     "execution_count": 18,
     "metadata": {},
     "output_type": "execute_result"
    }
   ],
   "source": [
    "orders_pd = abu_result_tuple.orders_pd\n",
    "view_orders = orders_pd[(orders_pd['symbol'] == '2330')]\n",
    "view_orders"
   ]
  },
  {
   "cell_type": "code",
   "execution_count": 19,
   "metadata": {},
   "outputs": [
    {
     "name": "stdout",
     "output_type": "stream",
     "text": [
      "tw_TWSE:2330\n"
     ]
    },
    {
     "name": "stderr",
     "output_type": "stream",
     "text": [
      "No module named 'matplotlib.date'\n",
      "Traceback (most recent call last):\n",
      "  File \"D:\\sean.chen\\trader\\abu\\abupy\\MarketBu\\ABuMarketDrawing.py\", line 252, in _do_plot_candle\n",
      "    import matplotlib.date as mdf\n",
      "ModuleNotFoundError: No module named 'matplotlib.date'\n",
      "\n",
      "During handling of the above exception, another exception occurred:\n",
      "\n",
      "Traceback (most recent call last):\n",
      "  File \"D:\\sean.chen\\trader\\abu\\abupy\\MarketBu\\ABuMarketDrawing.py\", line 92, in plot_from_series\n",
      "    view_index=view_index_inner, save=save)\n",
      "  File \"D:\\sean.chen\\trader\\abu\\abupy\\MarketBu\\ABuMarketDrawing.py\", line 133, in plot_candle_from_symbol\n",
      "    plot_candle_form_klpd(kl_pd, day_sum, html_bk, view_index, save=save)\n",
      "  File \"D:\\sean.chen\\trader\\abu\\abupy\\MarketBu\\ABuMarketDrawing.py\", line 166, in plot_candle_form_klpd\n",
      "    fn, day_sum, html_bk, save)\n",
      "  File \"D:\\sean.chen\\trader\\abu\\abupy\\MarketBu\\ABuMarketDrawing.py\", line 188, in plot_candle_stick\n",
      "    _do_plot_candle(date, p_open, high, low, close, volume, view_index, symbol, day_sum, save, minute)\n",
      "  File \"D:\\sean.chen\\trader\\abu\\abupy\\MarketBu\\ABuMarketDrawing.py\", line 257, in _do_plot_candle\n",
      "    import matplotlib.date as mdf\n",
      "ModuleNotFoundError: No module named 'matplotlib.date'\n"
     ]
    },
    {
     "name": "stdout",
     "output_type": "stream",
     "text": [
      "tw_TWSE:2330\n"
     ]
    },
    {
     "name": "stderr",
     "output_type": "stream",
     "text": [
      "No module named 'matplotlib.date'\n",
      "Traceback (most recent call last):\n",
      "  File \"D:\\sean.chen\\trader\\abu\\abupy\\MarketBu\\ABuMarketDrawing.py\", line 252, in _do_plot_candle\n",
      "    import matplotlib.date as mdf\n",
      "ModuleNotFoundError: No module named 'matplotlib.date'\n",
      "\n",
      "During handling of the above exception, another exception occurred:\n",
      "\n",
      "Traceback (most recent call last):\n",
      "  File \"D:\\sean.chen\\trader\\abu\\abupy\\MarketBu\\ABuMarketDrawing.py\", line 92, in plot_from_series\n",
      "    view_index=view_index_inner, save=save)\n",
      "  File \"D:\\sean.chen\\trader\\abu\\abupy\\MarketBu\\ABuMarketDrawing.py\", line 133, in plot_candle_from_symbol\n",
      "    plot_candle_form_klpd(kl_pd, day_sum, html_bk, view_index, save=save)\n",
      "  File \"D:\\sean.chen\\trader\\abu\\abupy\\MarketBu\\ABuMarketDrawing.py\", line 166, in plot_candle_form_klpd\n",
      "    fn, day_sum, html_bk, save)\n",
      "  File \"D:\\sean.chen\\trader\\abu\\abupy\\MarketBu\\ABuMarketDrawing.py\", line 188, in plot_candle_stick\n",
      "    _do_plot_candle(date, p_open, high, low, close, volume, view_index, symbol, day_sum, save, minute)\n",
      "  File \"D:\\sean.chen\\trader\\abu\\abupy\\MarketBu\\ABuMarketDrawing.py\", line 257, in _do_plot_candle\n",
      "    import matplotlib.date as mdf\n",
      "ModuleNotFoundError: No module named 'matplotlib.date'\n"
     ]
    },
    {
     "name": "stdout",
     "output_type": "stream",
     "text": [
      "tw_TWSE:2330\n"
     ]
    },
    {
     "name": "stderr",
     "output_type": "stream",
     "text": [
      "No module named 'matplotlib.date'\n",
      "Traceback (most recent call last):\n",
      "  File \"D:\\sean.chen\\trader\\abu\\abupy\\MarketBu\\ABuMarketDrawing.py\", line 252, in _do_plot_candle\n",
      "    import matplotlib.date as mdf\n",
      "ModuleNotFoundError: No module named 'matplotlib.date'\n",
      "\n",
      "During handling of the above exception, another exception occurred:\n",
      "\n",
      "Traceback (most recent call last):\n",
      "  File \"D:\\sean.chen\\trader\\abu\\abupy\\MarketBu\\ABuMarketDrawing.py\", line 92, in plot_from_series\n",
      "    view_index=view_index_inner, save=save)\n",
      "  File \"D:\\sean.chen\\trader\\abu\\abupy\\MarketBu\\ABuMarketDrawing.py\", line 133, in plot_candle_from_symbol\n",
      "    plot_candle_form_klpd(kl_pd, day_sum, html_bk, view_index, save=save)\n",
      "  File \"D:\\sean.chen\\trader\\abu\\abupy\\MarketBu\\ABuMarketDrawing.py\", line 166, in plot_candle_form_klpd\n",
      "    fn, day_sum, html_bk, save)\n",
      "  File \"D:\\sean.chen\\trader\\abu\\abupy\\MarketBu\\ABuMarketDrawing.py\", line 188, in plot_candle_stick\n",
      "    _do_plot_candle(date, p_open, high, low, close, volume, view_index, symbol, day_sum, save, minute)\n",
      "  File \"D:\\sean.chen\\trader\\abu\\abupy\\MarketBu\\ABuMarketDrawing.py\", line 257, in _do_plot_candle\n",
      "    import matplotlib.date as mdf\n",
      "ModuleNotFoundError: No module named 'matplotlib.date'\n"
     ]
    },
    {
     "name": "stdout",
     "output_type": "stream",
     "text": [
      "tw_TWSE:2330\n"
     ]
    },
    {
     "name": "stderr",
     "output_type": "stream",
     "text": [
      "No module named 'matplotlib.date'\n",
      "Traceback (most recent call last):\n",
      "  File \"D:\\sean.chen\\trader\\abu\\abupy\\MarketBu\\ABuMarketDrawing.py\", line 252, in _do_plot_candle\n",
      "    import matplotlib.date as mdf\n",
      "ModuleNotFoundError: No module named 'matplotlib.date'\n",
      "\n",
      "During handling of the above exception, another exception occurred:\n",
      "\n",
      "Traceback (most recent call last):\n",
      "  File \"D:\\sean.chen\\trader\\abu\\abupy\\MarketBu\\ABuMarketDrawing.py\", line 92, in plot_from_series\n",
      "    view_index=view_index_inner, save=save)\n",
      "  File \"D:\\sean.chen\\trader\\abu\\abupy\\MarketBu\\ABuMarketDrawing.py\", line 133, in plot_candle_from_symbol\n",
      "    plot_candle_form_klpd(kl_pd, day_sum, html_bk, view_index, save=save)\n",
      "  File \"D:\\sean.chen\\trader\\abu\\abupy\\MarketBu\\ABuMarketDrawing.py\", line 166, in plot_candle_form_klpd\n",
      "    fn, day_sum, html_bk, save)\n",
      "  File \"D:\\sean.chen\\trader\\abu\\abupy\\MarketBu\\ABuMarketDrawing.py\", line 188, in plot_candle_stick\n",
      "    _do_plot_candle(date, p_open, high, low, close, volume, view_index, symbol, day_sum, save, minute)\n",
      "  File \"D:\\sean.chen\\trader\\abu\\abupy\\MarketBu\\ABuMarketDrawing.py\", line 257, in _do_plot_candle\n",
      "    import matplotlib.date as mdf\n",
      "ModuleNotFoundError: No module named 'matplotlib.date'\n"
     ]
    },
    {
     "name": "stdout",
     "output_type": "stream",
     "text": [
      "tw_TWSE:2330\n"
     ]
    },
    {
     "name": "stderr",
     "output_type": "stream",
     "text": [
      "No module named 'matplotlib.date'\n",
      "Traceback (most recent call last):\n",
      "  File \"D:\\sean.chen\\trader\\abu\\abupy\\MarketBu\\ABuMarketDrawing.py\", line 252, in _do_plot_candle\n",
      "    import matplotlib.date as mdf\n",
      "ModuleNotFoundError: No module named 'matplotlib.date'\n",
      "\n",
      "During handling of the above exception, another exception occurred:\n",
      "\n",
      "Traceback (most recent call last):\n",
      "  File \"D:\\sean.chen\\trader\\abu\\abupy\\MarketBu\\ABuMarketDrawing.py\", line 92, in plot_from_series\n",
      "    view_index=view_index_inner, save=save)\n",
      "  File \"D:\\sean.chen\\trader\\abu\\abupy\\MarketBu\\ABuMarketDrawing.py\", line 133, in plot_candle_from_symbol\n",
      "    plot_candle_form_klpd(kl_pd, day_sum, html_bk, view_index, save=save)\n",
      "  File \"D:\\sean.chen\\trader\\abu\\abupy\\MarketBu\\ABuMarketDrawing.py\", line 166, in plot_candle_form_klpd\n",
      "    fn, day_sum, html_bk, save)\n",
      "  File \"D:\\sean.chen\\trader\\abu\\abupy\\MarketBu\\ABuMarketDrawing.py\", line 188, in plot_candle_stick\n",
      "    _do_plot_candle(date, p_open, high, low, close, volume, view_index, symbol, day_sum, save, minute)\n",
      "  File \"D:\\sean.chen\\trader\\abu\\abupy\\MarketBu\\ABuMarketDrawing.py\", line 257, in _do_plot_candle\n",
      "    import matplotlib.date as mdf\n",
      "ModuleNotFoundError: No module named 'matplotlib.date'\n"
     ]
    },
    {
     "name": "stdout",
     "output_type": "stream",
     "text": [
      "tw_TWSE:2330\n"
     ]
    },
    {
     "name": "stderr",
     "output_type": "stream",
     "text": [
      "No module named 'matplotlib.date'\n",
      "Traceback (most recent call last):\n",
      "  File \"D:\\sean.chen\\trader\\abu\\abupy\\MarketBu\\ABuMarketDrawing.py\", line 252, in _do_plot_candle\n",
      "    import matplotlib.date as mdf\n",
      "ModuleNotFoundError: No module named 'matplotlib.date'\n",
      "\n",
      "During handling of the above exception, another exception occurred:\n",
      "\n",
      "Traceback (most recent call last):\n",
      "  File \"D:\\sean.chen\\trader\\abu\\abupy\\MarketBu\\ABuMarketDrawing.py\", line 92, in plot_from_series\n",
      "    view_index=view_index_inner, save=save)\n",
      "  File \"D:\\sean.chen\\trader\\abu\\abupy\\MarketBu\\ABuMarketDrawing.py\", line 133, in plot_candle_from_symbol\n",
      "    plot_candle_form_klpd(kl_pd, day_sum, html_bk, view_index, save=save)\n",
      "  File \"D:\\sean.chen\\trader\\abu\\abupy\\MarketBu\\ABuMarketDrawing.py\", line 166, in plot_candle_form_klpd\n",
      "    fn, day_sum, html_bk, save)\n",
      "  File \"D:\\sean.chen\\trader\\abu\\abupy\\MarketBu\\ABuMarketDrawing.py\", line 188, in plot_candle_stick\n",
      "    _do_plot_candle(date, p_open, high, low, close, volume, view_index, symbol, day_sum, save, minute)\n",
      "  File \"D:\\sean.chen\\trader\\abu\\abupy\\MarketBu\\ABuMarketDrawing.py\", line 257, in _do_plot_candle\n",
      "    import matplotlib.date as mdf\n",
      "ModuleNotFoundError: No module named 'matplotlib.date'\n"
     ]
    },
    {
     "name": "stdout",
     "output_type": "stream",
     "text": [
      "tw_TWSE:2330\n"
     ]
    },
    {
     "name": "stderr",
     "output_type": "stream",
     "text": [
      "No module named 'matplotlib.date'\n",
      "Traceback (most recent call last):\n",
      "  File \"D:\\sean.chen\\trader\\abu\\abupy\\MarketBu\\ABuMarketDrawing.py\", line 252, in _do_plot_candle\n",
      "    import matplotlib.date as mdf\n",
      "ModuleNotFoundError: No module named 'matplotlib.date'\n",
      "\n",
      "During handling of the above exception, another exception occurred:\n",
      "\n",
      "Traceback (most recent call last):\n",
      "  File \"D:\\sean.chen\\trader\\abu\\abupy\\MarketBu\\ABuMarketDrawing.py\", line 92, in plot_from_series\n",
      "    view_index=view_index_inner, save=save)\n",
      "  File \"D:\\sean.chen\\trader\\abu\\abupy\\MarketBu\\ABuMarketDrawing.py\", line 133, in plot_candle_from_symbol\n",
      "    plot_candle_form_klpd(kl_pd, day_sum, html_bk, view_index, save=save)\n",
      "  File \"D:\\sean.chen\\trader\\abu\\abupy\\MarketBu\\ABuMarketDrawing.py\", line 166, in plot_candle_form_klpd\n",
      "    fn, day_sum, html_bk, save)\n",
      "  File \"D:\\sean.chen\\trader\\abu\\abupy\\MarketBu\\ABuMarketDrawing.py\", line 188, in plot_candle_stick\n",
      "    _do_plot_candle(date, p_open, high, low, close, volume, view_index, symbol, day_sum, save, minute)\n",
      "  File \"D:\\sean.chen\\trader\\abu\\abupy\\MarketBu\\ABuMarketDrawing.py\", line 257, in _do_plot_candle\n",
      "    import matplotlib.date as mdf\n",
      "ModuleNotFoundError: No module named 'matplotlib.date'\n"
     ]
    },
    {
     "name": "stdout",
     "output_type": "stream",
     "text": [
      "tw_TWSE:2330\n"
     ]
    },
    {
     "name": "stderr",
     "output_type": "stream",
     "text": [
      "No module named 'matplotlib.date'\n",
      "Traceback (most recent call last):\n",
      "  File \"D:\\sean.chen\\trader\\abu\\abupy\\MarketBu\\ABuMarketDrawing.py\", line 252, in _do_plot_candle\n",
      "    import matplotlib.date as mdf\n",
      "ModuleNotFoundError: No module named 'matplotlib.date'\n",
      "\n",
      "During handling of the above exception, another exception occurred:\n",
      "\n",
      "Traceback (most recent call last):\n",
      "  File \"D:\\sean.chen\\trader\\abu\\abupy\\MarketBu\\ABuMarketDrawing.py\", line 92, in plot_from_series\n",
      "    view_index=view_index_inner, save=save)\n",
      "  File \"D:\\sean.chen\\trader\\abu\\abupy\\MarketBu\\ABuMarketDrawing.py\", line 133, in plot_candle_from_symbol\n",
      "    plot_candle_form_klpd(kl_pd, day_sum, html_bk, view_index, save=save)\n",
      "  File \"D:\\sean.chen\\trader\\abu\\abupy\\MarketBu\\ABuMarketDrawing.py\", line 166, in plot_candle_form_klpd\n",
      "    fn, day_sum, html_bk, save)\n",
      "  File \"D:\\sean.chen\\trader\\abu\\abupy\\MarketBu\\ABuMarketDrawing.py\", line 188, in plot_candle_stick\n",
      "    _do_plot_candle(date, p_open, high, low, close, volume, view_index, symbol, day_sum, save, minute)\n",
      "  File \"D:\\sean.chen\\trader\\abu\\abupy\\MarketBu\\ABuMarketDrawing.py\", line 257, in _do_plot_candle\n",
      "    import matplotlib.date as mdf\n",
      "ModuleNotFoundError: No module named 'matplotlib.date'\n"
     ]
    },
    {
     "name": "stdout",
     "output_type": "stream",
     "text": [
      "tw_TWSE:2330\n"
     ]
    },
    {
     "name": "stderr",
     "output_type": "stream",
     "text": [
      "No module named 'matplotlib.date'\n",
      "Traceback (most recent call last):\n",
      "  File \"D:\\sean.chen\\trader\\abu\\abupy\\MarketBu\\ABuMarketDrawing.py\", line 252, in _do_plot_candle\n",
      "    import matplotlib.date as mdf\n",
      "ModuleNotFoundError: No module named 'matplotlib.date'\n",
      "\n",
      "During handling of the above exception, another exception occurred:\n",
      "\n",
      "Traceback (most recent call last):\n",
      "  File \"D:\\sean.chen\\trader\\abu\\abupy\\MarketBu\\ABuMarketDrawing.py\", line 92, in plot_from_series\n",
      "    view_index=view_index_inner, save=save)\n",
      "  File \"D:\\sean.chen\\trader\\abu\\abupy\\MarketBu\\ABuMarketDrawing.py\", line 133, in plot_candle_from_symbol\n",
      "    plot_candle_form_klpd(kl_pd, day_sum, html_bk, view_index, save=save)\n",
      "  File \"D:\\sean.chen\\trader\\abu\\abupy\\MarketBu\\ABuMarketDrawing.py\", line 166, in plot_candle_form_klpd\n",
      "    fn, day_sum, html_bk, save)\n",
      "  File \"D:\\sean.chen\\trader\\abu\\abupy\\MarketBu\\ABuMarketDrawing.py\", line 188, in plot_candle_stick\n",
      "    _do_plot_candle(date, p_open, high, low, close, volume, view_index, symbol, day_sum, save, minute)\n",
      "  File \"D:\\sean.chen\\trader\\abu\\abupy\\MarketBu\\ABuMarketDrawing.py\", line 257, in _do_plot_candle\n",
      "    import matplotlib.date as mdf\n",
      "ModuleNotFoundError: No module named 'matplotlib.date'\n"
     ]
    },
    {
     "name": "stdout",
     "output_type": "stream",
     "text": [
      "tw_TWSE:2330\n"
     ]
    },
    {
     "name": "stderr",
     "output_type": "stream",
     "text": [
      "No module named 'matplotlib.date'\n",
      "Traceback (most recent call last):\n",
      "  File \"D:\\sean.chen\\trader\\abu\\abupy\\MarketBu\\ABuMarketDrawing.py\", line 252, in _do_plot_candle\n",
      "    import matplotlib.date as mdf\n",
      "ModuleNotFoundError: No module named 'matplotlib.date'\n",
      "\n",
      "During handling of the above exception, another exception occurred:\n",
      "\n",
      "Traceback (most recent call last):\n",
      "  File \"D:\\sean.chen\\trader\\abu\\abupy\\MarketBu\\ABuMarketDrawing.py\", line 92, in plot_from_series\n",
      "    view_index=view_index_inner, save=save)\n",
      "  File \"D:\\sean.chen\\trader\\abu\\abupy\\MarketBu\\ABuMarketDrawing.py\", line 133, in plot_candle_from_symbol\n",
      "    plot_candle_form_klpd(kl_pd, day_sum, html_bk, view_index, save=save)\n",
      "  File \"D:\\sean.chen\\trader\\abu\\abupy\\MarketBu\\ABuMarketDrawing.py\", line 166, in plot_candle_form_klpd\n",
      "    fn, day_sum, html_bk, save)\n",
      "  File \"D:\\sean.chen\\trader\\abu\\abupy\\MarketBu\\ABuMarketDrawing.py\", line 188, in plot_candle_stick\n",
      "    _do_plot_candle(date, p_open, high, low, close, volume, view_index, symbol, day_sum, save, minute)\n",
      "  File \"D:\\sean.chen\\trader\\abu\\abupy\\MarketBu\\ABuMarketDrawing.py\", line 257, in _do_plot_candle\n",
      "    import matplotlib.date as mdf\n",
      "ModuleNotFoundError: No module named 'matplotlib.date'\n"
     ]
    },
    {
     "name": "stdout",
     "output_type": "stream",
     "text": [
      "tw_TWSE:2330\n"
     ]
    },
    {
     "name": "stderr",
     "output_type": "stream",
     "text": [
      "No module named 'matplotlib.date'\n",
      "Traceback (most recent call last):\n",
      "  File \"D:\\sean.chen\\trader\\abu\\abupy\\MarketBu\\ABuMarketDrawing.py\", line 252, in _do_plot_candle\n",
      "    import matplotlib.date as mdf\n",
      "ModuleNotFoundError: No module named 'matplotlib.date'\n",
      "\n",
      "During handling of the above exception, another exception occurred:\n",
      "\n",
      "Traceback (most recent call last):\n",
      "  File \"D:\\sean.chen\\trader\\abu\\abupy\\MarketBu\\ABuMarketDrawing.py\", line 92, in plot_from_series\n",
      "    view_index=view_index_inner, save=save)\n",
      "  File \"D:\\sean.chen\\trader\\abu\\abupy\\MarketBu\\ABuMarketDrawing.py\", line 133, in plot_candle_from_symbol\n",
      "    plot_candle_form_klpd(kl_pd, day_sum, html_bk, view_index, save=save)\n",
      "  File \"D:\\sean.chen\\trader\\abu\\abupy\\MarketBu\\ABuMarketDrawing.py\", line 166, in plot_candle_form_klpd\n",
      "    fn, day_sum, html_bk, save)\n",
      "  File \"D:\\sean.chen\\trader\\abu\\abupy\\MarketBu\\ABuMarketDrawing.py\", line 188, in plot_candle_stick\n",
      "    _do_plot_candle(date, p_open, high, low, close, volume, view_index, symbol, day_sum, save, minute)\n",
      "  File \"D:\\sean.chen\\trader\\abu\\abupy\\MarketBu\\ABuMarketDrawing.py\", line 257, in _do_plot_candle\n",
      "    import matplotlib.date as mdf\n",
      "ModuleNotFoundError: No module named 'matplotlib.date'\n"
     ]
    },
    {
     "name": "stdout",
     "output_type": "stream",
     "text": [
      "tw_TWSE:2330\n"
     ]
    },
    {
     "name": "stderr",
     "output_type": "stream",
     "text": [
      "No module named 'matplotlib.date'\n",
      "Traceback (most recent call last):\n",
      "  File \"D:\\sean.chen\\trader\\abu\\abupy\\MarketBu\\ABuMarketDrawing.py\", line 252, in _do_plot_candle\n",
      "    import matplotlib.date as mdf\n",
      "ModuleNotFoundError: No module named 'matplotlib.date'\n",
      "\n",
      "During handling of the above exception, another exception occurred:\n",
      "\n",
      "Traceback (most recent call last):\n",
      "  File \"D:\\sean.chen\\trader\\abu\\abupy\\MarketBu\\ABuMarketDrawing.py\", line 92, in plot_from_series\n",
      "    view_index=view_index_inner, save=save)\n",
      "  File \"D:\\sean.chen\\trader\\abu\\abupy\\MarketBu\\ABuMarketDrawing.py\", line 133, in plot_candle_from_symbol\n",
      "    plot_candle_form_klpd(kl_pd, day_sum, html_bk, view_index, save=save)\n",
      "  File \"D:\\sean.chen\\trader\\abu\\abupy\\MarketBu\\ABuMarketDrawing.py\", line 166, in plot_candle_form_klpd\n",
      "    fn, day_sum, html_bk, save)\n",
      "  File \"D:\\sean.chen\\trader\\abu\\abupy\\MarketBu\\ABuMarketDrawing.py\", line 188, in plot_candle_stick\n",
      "    _do_plot_candle(date, p_open, high, low, close, volume, view_index, symbol, day_sum, save, minute)\n",
      "  File \"D:\\sean.chen\\trader\\abu\\abupy\\MarketBu\\ABuMarketDrawing.py\", line 257, in _do_plot_candle\n",
      "    import matplotlib.date as mdf\n",
      "ModuleNotFoundError: No module named 'matplotlib.date'\n"
     ]
    },
    {
     "name": "stdout",
     "output_type": "stream",
     "text": [
      "tw_TWSE:2330\n"
     ]
    },
    {
     "name": "stderr",
     "output_type": "stream",
     "text": [
      "No module named 'matplotlib.date'\n",
      "Traceback (most recent call last):\n",
      "  File \"D:\\sean.chen\\trader\\abu\\abupy\\MarketBu\\ABuMarketDrawing.py\", line 252, in _do_plot_candle\n",
      "    import matplotlib.date as mdf\n",
      "ModuleNotFoundError: No module named 'matplotlib.date'\n",
      "\n",
      "During handling of the above exception, another exception occurred:\n",
      "\n",
      "Traceback (most recent call last):\n",
      "  File \"D:\\sean.chen\\trader\\abu\\abupy\\MarketBu\\ABuMarketDrawing.py\", line 92, in plot_from_series\n",
      "    view_index=view_index_inner, save=save)\n",
      "  File \"D:\\sean.chen\\trader\\abu\\abupy\\MarketBu\\ABuMarketDrawing.py\", line 133, in plot_candle_from_symbol\n",
      "    plot_candle_form_klpd(kl_pd, day_sum, html_bk, view_index, save=save)\n",
      "  File \"D:\\sean.chen\\trader\\abu\\abupy\\MarketBu\\ABuMarketDrawing.py\", line 166, in plot_candle_form_klpd\n",
      "    fn, day_sum, html_bk, save)\n",
      "  File \"D:\\sean.chen\\trader\\abu\\abupy\\MarketBu\\ABuMarketDrawing.py\", line 188, in plot_candle_stick\n",
      "    _do_plot_candle(date, p_open, high, low, close, volume, view_index, symbol, day_sum, save, minute)\n",
      "  File \"D:\\sean.chen\\trader\\abu\\abupy\\MarketBu\\ABuMarketDrawing.py\", line 257, in _do_plot_candle\n",
      "    import matplotlib.date as mdf\n",
      "ModuleNotFoundError: No module named 'matplotlib.date'\n"
     ]
    },
    {
     "name": "stdout",
     "output_type": "stream",
     "text": [
      "tw_TWSE:2330\n"
     ]
    },
    {
     "name": "stderr",
     "output_type": "stream",
     "text": [
      "No module named 'matplotlib.date'\n",
      "Traceback (most recent call last):\n",
      "  File \"D:\\sean.chen\\trader\\abu\\abupy\\MarketBu\\ABuMarketDrawing.py\", line 252, in _do_plot_candle\n",
      "    import matplotlib.date as mdf\n",
      "ModuleNotFoundError: No module named 'matplotlib.date'\n",
      "\n",
      "During handling of the above exception, another exception occurred:\n",
      "\n",
      "Traceback (most recent call last):\n",
      "  File \"D:\\sean.chen\\trader\\abu\\abupy\\MarketBu\\ABuMarketDrawing.py\", line 92, in plot_from_series\n",
      "    view_index=view_index_inner, save=save)\n",
      "  File \"D:\\sean.chen\\trader\\abu\\abupy\\MarketBu\\ABuMarketDrawing.py\", line 133, in plot_candle_from_symbol\n",
      "    plot_candle_form_klpd(kl_pd, day_sum, html_bk, view_index, save=save)\n",
      "  File \"D:\\sean.chen\\trader\\abu\\abupy\\MarketBu\\ABuMarketDrawing.py\", line 166, in plot_candle_form_klpd\n",
      "    fn, day_sum, html_bk, save)\n",
      "  File \"D:\\sean.chen\\trader\\abu\\abupy\\MarketBu\\ABuMarketDrawing.py\", line 188, in plot_candle_stick\n",
      "    _do_plot_candle(date, p_open, high, low, close, volume, view_index, symbol, day_sum, save, minute)\n",
      "  File \"D:\\sean.chen\\trader\\abu\\abupy\\MarketBu\\ABuMarketDrawing.py\", line 257, in _do_plot_candle\n",
      "    import matplotlib.date as mdf\n",
      "ModuleNotFoundError: No module named 'matplotlib.date'\n"
     ]
    },
    {
     "name": "stdout",
     "output_type": "stream",
     "text": [
      "tw_TWSE:2330\n"
     ]
    },
    {
     "name": "stderr",
     "output_type": "stream",
     "text": [
      "No module named 'matplotlib.date'\n",
      "Traceback (most recent call last):\n",
      "  File \"D:\\sean.chen\\trader\\abu\\abupy\\MarketBu\\ABuMarketDrawing.py\", line 252, in _do_plot_candle\n",
      "    import matplotlib.date as mdf\n",
      "ModuleNotFoundError: No module named 'matplotlib.date'\n",
      "\n",
      "During handling of the above exception, another exception occurred:\n",
      "\n",
      "Traceback (most recent call last):\n",
      "  File \"D:\\sean.chen\\trader\\abu\\abupy\\MarketBu\\ABuMarketDrawing.py\", line 92, in plot_from_series\n",
      "    view_index=view_index_inner, save=save)\n",
      "  File \"D:\\sean.chen\\trader\\abu\\abupy\\MarketBu\\ABuMarketDrawing.py\", line 133, in plot_candle_from_symbol\n",
      "    plot_candle_form_klpd(kl_pd, day_sum, html_bk, view_index, save=save)\n",
      "  File \"D:\\sean.chen\\trader\\abu\\abupy\\MarketBu\\ABuMarketDrawing.py\", line 166, in plot_candle_form_klpd\n",
      "    fn, day_sum, html_bk, save)\n",
      "  File \"D:\\sean.chen\\trader\\abu\\abupy\\MarketBu\\ABuMarketDrawing.py\", line 188, in plot_candle_stick\n",
      "    _do_plot_candle(date, p_open, high, low, close, volume, view_index, symbol, day_sum, save, minute)\n",
      "  File \"D:\\sean.chen\\trader\\abu\\abupy\\MarketBu\\ABuMarketDrawing.py\", line 257, in _do_plot_candle\n",
      "    import matplotlib.date as mdf\n",
      "ModuleNotFoundError: No module named 'matplotlib.date'\n"
     ]
    },
    {
     "name": "stdout",
     "output_type": "stream",
     "text": [
      "tw_TWSE:2330\n"
     ]
    },
    {
     "name": "stderr",
     "output_type": "stream",
     "text": [
      "No module named 'matplotlib.date'\n",
      "Traceback (most recent call last):\n",
      "  File \"D:\\sean.chen\\trader\\abu\\abupy\\MarketBu\\ABuMarketDrawing.py\", line 252, in _do_plot_candle\n",
      "    import matplotlib.date as mdf\n",
      "ModuleNotFoundError: No module named 'matplotlib.date'\n",
      "\n",
      "During handling of the above exception, another exception occurred:\n",
      "\n",
      "Traceback (most recent call last):\n",
      "  File \"D:\\sean.chen\\trader\\abu\\abupy\\MarketBu\\ABuMarketDrawing.py\", line 92, in plot_from_series\n",
      "    view_index=view_index_inner, save=save)\n",
      "  File \"D:\\sean.chen\\trader\\abu\\abupy\\MarketBu\\ABuMarketDrawing.py\", line 133, in plot_candle_from_symbol\n",
      "    plot_candle_form_klpd(kl_pd, day_sum, html_bk, view_index, save=save)\n",
      "  File \"D:\\sean.chen\\trader\\abu\\abupy\\MarketBu\\ABuMarketDrawing.py\", line 166, in plot_candle_form_klpd\n",
      "    fn, day_sum, html_bk, save)\n",
      "  File \"D:\\sean.chen\\trader\\abu\\abupy\\MarketBu\\ABuMarketDrawing.py\", line 188, in plot_candle_stick\n",
      "    _do_plot_candle(date, p_open, high, low, close, volume, view_index, symbol, day_sum, save, minute)\n",
      "  File \"D:\\sean.chen\\trader\\abu\\abupy\\MarketBu\\ABuMarketDrawing.py\", line 257, in _do_plot_candle\n",
      "    import matplotlib.date as mdf\n",
      "ModuleNotFoundError: No module named 'matplotlib.date'\n"
     ]
    },
    {
     "name": "stdout",
     "output_type": "stream",
     "text": [
      "tw_TWSE:2330\n"
     ]
    },
    {
     "name": "stderr",
     "output_type": "stream",
     "text": [
      "No module named 'matplotlib.date'\n",
      "Traceback (most recent call last):\n",
      "  File \"D:\\sean.chen\\trader\\abu\\abupy\\MarketBu\\ABuMarketDrawing.py\", line 252, in _do_plot_candle\n",
      "    import matplotlib.date as mdf\n",
      "ModuleNotFoundError: No module named 'matplotlib.date'\n",
      "\n",
      "During handling of the above exception, another exception occurred:\n",
      "\n",
      "Traceback (most recent call last):\n",
      "  File \"D:\\sean.chen\\trader\\abu\\abupy\\MarketBu\\ABuMarketDrawing.py\", line 92, in plot_from_series\n",
      "    view_index=view_index_inner, save=save)\n",
      "  File \"D:\\sean.chen\\trader\\abu\\abupy\\MarketBu\\ABuMarketDrawing.py\", line 133, in plot_candle_from_symbol\n",
      "    plot_candle_form_klpd(kl_pd, day_sum, html_bk, view_index, save=save)\n",
      "  File \"D:\\sean.chen\\trader\\abu\\abupy\\MarketBu\\ABuMarketDrawing.py\", line 166, in plot_candle_form_klpd\n",
      "    fn, day_sum, html_bk, save)\n",
      "  File \"D:\\sean.chen\\trader\\abu\\abupy\\MarketBu\\ABuMarketDrawing.py\", line 188, in plot_candle_stick\n",
      "    _do_plot_candle(date, p_open, high, low, close, volume, view_index, symbol, day_sum, save, minute)\n",
      "  File \"D:\\sean.chen\\trader\\abu\\abupy\\MarketBu\\ABuMarketDrawing.py\", line 257, in _do_plot_candle\n",
      "    import matplotlib.date as mdf\n",
      "ModuleNotFoundError: No module named 'matplotlib.date'\n"
     ]
    },
    {
     "name": "stdout",
     "output_type": "stream",
     "text": [
      "tw_TWSE:2330\n"
     ]
    },
    {
     "name": "stderr",
     "output_type": "stream",
     "text": [
      "No module named 'matplotlib.date'\n",
      "Traceback (most recent call last):\n",
      "  File \"D:\\sean.chen\\trader\\abu\\abupy\\MarketBu\\ABuMarketDrawing.py\", line 252, in _do_plot_candle\n",
      "    import matplotlib.date as mdf\n",
      "ModuleNotFoundError: No module named 'matplotlib.date'\n",
      "\n",
      "During handling of the above exception, another exception occurred:\n",
      "\n",
      "Traceback (most recent call last):\n",
      "  File \"D:\\sean.chen\\trader\\abu\\abupy\\MarketBu\\ABuMarketDrawing.py\", line 92, in plot_from_series\n",
      "    view_index=view_index_inner, save=save)\n",
      "  File \"D:\\sean.chen\\trader\\abu\\abupy\\MarketBu\\ABuMarketDrawing.py\", line 133, in plot_candle_from_symbol\n",
      "    plot_candle_form_klpd(kl_pd, day_sum, html_bk, view_index, save=save)\n",
      "  File \"D:\\sean.chen\\trader\\abu\\abupy\\MarketBu\\ABuMarketDrawing.py\", line 166, in plot_candle_form_klpd\n",
      "    fn, day_sum, html_bk, save)\n",
      "  File \"D:\\sean.chen\\trader\\abu\\abupy\\MarketBu\\ABuMarketDrawing.py\", line 188, in plot_candle_stick\n",
      "    _do_plot_candle(date, p_open, high, low, close, volume, view_index, symbol, day_sum, save, minute)\n",
      "  File \"D:\\sean.chen\\trader\\abu\\abupy\\MarketBu\\ABuMarketDrawing.py\", line 257, in _do_plot_candle\n",
      "    import matplotlib.date as mdf\n",
      "ModuleNotFoundError: No module named 'matplotlib.date'\n"
     ]
    },
    {
     "name": "stdout",
     "output_type": "stream",
     "text": [
      "tw_TWSE:2330\n"
     ]
    },
    {
     "name": "stderr",
     "output_type": "stream",
     "text": [
      "No module named 'matplotlib.date'\n",
      "Traceback (most recent call last):\n",
      "  File \"D:\\sean.chen\\trader\\abu\\abupy\\MarketBu\\ABuMarketDrawing.py\", line 252, in _do_plot_candle\n",
      "    import matplotlib.date as mdf\n",
      "ModuleNotFoundError: No module named 'matplotlib.date'\n",
      "\n",
      "During handling of the above exception, another exception occurred:\n",
      "\n",
      "Traceback (most recent call last):\n",
      "  File \"D:\\sean.chen\\trader\\abu\\abupy\\MarketBu\\ABuMarketDrawing.py\", line 92, in plot_from_series\n",
      "    view_index=view_index_inner, save=save)\n",
      "  File \"D:\\sean.chen\\trader\\abu\\abupy\\MarketBu\\ABuMarketDrawing.py\", line 133, in plot_candle_from_symbol\n",
      "    plot_candle_form_klpd(kl_pd, day_sum, html_bk, view_index, save=save)\n",
      "  File \"D:\\sean.chen\\trader\\abu\\abupy\\MarketBu\\ABuMarketDrawing.py\", line 166, in plot_candle_form_klpd\n",
      "    fn, day_sum, html_bk, save)\n",
      "  File \"D:\\sean.chen\\trader\\abu\\abupy\\MarketBu\\ABuMarketDrawing.py\", line 188, in plot_candle_stick\n",
      "    _do_plot_candle(date, p_open, high, low, close, volume, view_index, symbol, day_sum, save, minute)\n",
      "  File \"D:\\sean.chen\\trader\\abu\\abupy\\MarketBu\\ABuMarketDrawing.py\", line 257, in _do_plot_candle\n",
      "    import matplotlib.date as mdf\n",
      "ModuleNotFoundError: No module named 'matplotlib.date'\n"
     ]
    },
    {
     "name": "stdout",
     "output_type": "stream",
     "text": [
      "tw_TWSE:2330\n"
     ]
    },
    {
     "name": "stderr",
     "output_type": "stream",
     "text": [
      "No module named 'matplotlib.date'\n",
      "Traceback (most recent call last):\n",
      "  File \"D:\\sean.chen\\trader\\abu\\abupy\\MarketBu\\ABuMarketDrawing.py\", line 252, in _do_plot_candle\n",
      "    import matplotlib.date as mdf\n",
      "ModuleNotFoundError: No module named 'matplotlib.date'\n",
      "\n",
      "During handling of the above exception, another exception occurred:\n",
      "\n",
      "Traceback (most recent call last):\n",
      "  File \"D:\\sean.chen\\trader\\abu\\abupy\\MarketBu\\ABuMarketDrawing.py\", line 92, in plot_from_series\n",
      "    view_index=view_index_inner, save=save)\n",
      "  File \"D:\\sean.chen\\trader\\abu\\abupy\\MarketBu\\ABuMarketDrawing.py\", line 133, in plot_candle_from_symbol\n",
      "    plot_candle_form_klpd(kl_pd, day_sum, html_bk, view_index, save=save)\n",
      "  File \"D:\\sean.chen\\trader\\abu\\abupy\\MarketBu\\ABuMarketDrawing.py\", line 166, in plot_candle_form_klpd\n",
      "    fn, day_sum, html_bk, save)\n",
      "  File \"D:\\sean.chen\\trader\\abu\\abupy\\MarketBu\\ABuMarketDrawing.py\", line 188, in plot_candle_stick\n",
      "    _do_plot_candle(date, p_open, high, low, close, volume, view_index, symbol, day_sum, save, minute)\n",
      "  File \"D:\\sean.chen\\trader\\abu\\abupy\\MarketBu\\ABuMarketDrawing.py\", line 257, in _do_plot_candle\n",
      "    import matplotlib.date as mdf\n",
      "ModuleNotFoundError: No module named 'matplotlib.date'\n"
     ]
    },
    {
     "name": "stdout",
     "output_type": "stream",
     "text": [
      "tw_TWSE:2330\n"
     ]
    },
    {
     "name": "stderr",
     "output_type": "stream",
     "text": [
      "No module named 'matplotlib.date'\n",
      "Traceback (most recent call last):\n",
      "  File \"D:\\sean.chen\\trader\\abu\\abupy\\MarketBu\\ABuMarketDrawing.py\", line 252, in _do_plot_candle\n",
      "    import matplotlib.date as mdf\n",
      "ModuleNotFoundError: No module named 'matplotlib.date'\n",
      "\n",
      "During handling of the above exception, another exception occurred:\n",
      "\n",
      "Traceback (most recent call last):\n",
      "  File \"D:\\sean.chen\\trader\\abu\\abupy\\MarketBu\\ABuMarketDrawing.py\", line 92, in plot_from_series\n",
      "    view_index=view_index_inner, save=save)\n",
      "  File \"D:\\sean.chen\\trader\\abu\\abupy\\MarketBu\\ABuMarketDrawing.py\", line 133, in plot_candle_from_symbol\n",
      "    plot_candle_form_klpd(kl_pd, day_sum, html_bk, view_index, save=save)\n",
      "  File \"D:\\sean.chen\\trader\\abu\\abupy\\MarketBu\\ABuMarketDrawing.py\", line 166, in plot_candle_form_klpd\n",
      "    fn, day_sum, html_bk, save)\n",
      "  File \"D:\\sean.chen\\trader\\abu\\abupy\\MarketBu\\ABuMarketDrawing.py\", line 188, in plot_candle_stick\n",
      "    _do_plot_candle(date, p_open, high, low, close, volume, view_index, symbol, day_sum, save, minute)\n",
      "  File \"D:\\sean.chen\\trader\\abu\\abupy\\MarketBu\\ABuMarketDrawing.py\", line 257, in _do_plot_candle\n",
      "    import matplotlib.date as mdf\n",
      "ModuleNotFoundError: No module named 'matplotlib.date'\n"
     ]
    },
    {
     "name": "stdout",
     "output_type": "stream",
     "text": [
      "tw_TWSE:2330\n"
     ]
    },
    {
     "name": "stderr",
     "output_type": "stream",
     "text": [
      "No module named 'matplotlib.date'\n",
      "Traceback (most recent call last):\n",
      "  File \"D:\\sean.chen\\trader\\abu\\abupy\\MarketBu\\ABuMarketDrawing.py\", line 252, in _do_plot_candle\n",
      "    import matplotlib.date as mdf\n",
      "ModuleNotFoundError: No module named 'matplotlib.date'\n",
      "\n",
      "During handling of the above exception, another exception occurred:\n",
      "\n",
      "Traceback (most recent call last):\n",
      "  File \"D:\\sean.chen\\trader\\abu\\abupy\\MarketBu\\ABuMarketDrawing.py\", line 92, in plot_from_series\n",
      "    view_index=view_index_inner, save=save)\n",
      "  File \"D:\\sean.chen\\trader\\abu\\abupy\\MarketBu\\ABuMarketDrawing.py\", line 133, in plot_candle_from_symbol\n",
      "    plot_candle_form_klpd(kl_pd, day_sum, html_bk, view_index, save=save)\n",
      "  File \"D:\\sean.chen\\trader\\abu\\abupy\\MarketBu\\ABuMarketDrawing.py\", line 166, in plot_candle_form_klpd\n",
      "    fn, day_sum, html_bk, save)\n",
      "  File \"D:\\sean.chen\\trader\\abu\\abupy\\MarketBu\\ABuMarketDrawing.py\", line 188, in plot_candle_stick\n",
      "    _do_plot_candle(date, p_open, high, low, close, volume, view_index, symbol, day_sum, save, minute)\n",
      "  File \"D:\\sean.chen\\trader\\abu\\abupy\\MarketBu\\ABuMarketDrawing.py\", line 257, in _do_plot_candle\n",
      "    import matplotlib.date as mdf\n",
      "ModuleNotFoundError: No module named 'matplotlib.date'\n"
     ]
    },
    {
     "name": "stdout",
     "output_type": "stream",
     "text": [
      "tw_TWSE:2330\n"
     ]
    },
    {
     "name": "stderr",
     "output_type": "stream",
     "text": [
      "No module named 'matplotlib.date'\n",
      "Traceback (most recent call last):\n",
      "  File \"D:\\sean.chen\\trader\\abu\\abupy\\MarketBu\\ABuMarketDrawing.py\", line 252, in _do_plot_candle\n",
      "    import matplotlib.date as mdf\n",
      "ModuleNotFoundError: No module named 'matplotlib.date'\n",
      "\n",
      "During handling of the above exception, another exception occurred:\n",
      "\n",
      "Traceback (most recent call last):\n",
      "  File \"D:\\sean.chen\\trader\\abu\\abupy\\MarketBu\\ABuMarketDrawing.py\", line 92, in plot_from_series\n",
      "    view_index=view_index_inner, save=save)\n",
      "  File \"D:\\sean.chen\\trader\\abu\\abupy\\MarketBu\\ABuMarketDrawing.py\", line 133, in plot_candle_from_symbol\n",
      "    plot_candle_form_klpd(kl_pd, day_sum, html_bk, view_index, save=save)\n",
      "  File \"D:\\sean.chen\\trader\\abu\\abupy\\MarketBu\\ABuMarketDrawing.py\", line 166, in plot_candle_form_klpd\n",
      "    fn, day_sum, html_bk, save)\n",
      "  File \"D:\\sean.chen\\trader\\abu\\abupy\\MarketBu\\ABuMarketDrawing.py\", line 188, in plot_candle_stick\n",
      "    _do_plot_candle(date, p_open, high, low, close, volume, view_index, symbol, day_sum, save, minute)\n",
      "  File \"D:\\sean.chen\\trader\\abu\\abupy\\MarketBu\\ABuMarketDrawing.py\", line 257, in _do_plot_candle\n",
      "    import matplotlib.date as mdf\n",
      "ModuleNotFoundError: No module named 'matplotlib.date'\n"
     ]
    },
    {
     "name": "stdout",
     "output_type": "stream",
     "text": [
      "tw_TWSE:2330\n"
     ]
    },
    {
     "name": "stderr",
     "output_type": "stream",
     "text": [
      "No module named 'matplotlib.date'\n",
      "Traceback (most recent call last):\n",
      "  File \"D:\\sean.chen\\trader\\abu\\abupy\\MarketBu\\ABuMarketDrawing.py\", line 252, in _do_plot_candle\n",
      "    import matplotlib.date as mdf\n",
      "ModuleNotFoundError: No module named 'matplotlib.date'\n",
      "\n",
      "During handling of the above exception, another exception occurred:\n",
      "\n",
      "Traceback (most recent call last):\n",
      "  File \"D:\\sean.chen\\trader\\abu\\abupy\\MarketBu\\ABuMarketDrawing.py\", line 92, in plot_from_series\n",
      "    view_index=view_index_inner, save=save)\n",
      "  File \"D:\\sean.chen\\trader\\abu\\abupy\\MarketBu\\ABuMarketDrawing.py\", line 133, in plot_candle_from_symbol\n",
      "    plot_candle_form_klpd(kl_pd, day_sum, html_bk, view_index, save=save)\n",
      "  File \"D:\\sean.chen\\trader\\abu\\abupy\\MarketBu\\ABuMarketDrawing.py\", line 166, in plot_candle_form_klpd\n",
      "    fn, day_sum, html_bk, save)\n",
      "  File \"D:\\sean.chen\\trader\\abu\\abupy\\MarketBu\\ABuMarketDrawing.py\", line 188, in plot_candle_stick\n",
      "    _do_plot_candle(date, p_open, high, low, close, volume, view_index, symbol, day_sum, save, minute)\n",
      "  File \"D:\\sean.chen\\trader\\abu\\abupy\\MarketBu\\ABuMarketDrawing.py\", line 257, in _do_plot_candle\n",
      "    import matplotlib.date as mdf\n",
      "ModuleNotFoundError: No module named 'matplotlib.date'\n"
     ]
    },
    {
     "name": "stdout",
     "output_type": "stream",
     "text": [
      "tw_TWSE:2330\n"
     ]
    },
    {
     "name": "stderr",
     "output_type": "stream",
     "text": [
      "No module named 'matplotlib.date'\n",
      "Traceback (most recent call last):\n",
      "  File \"D:\\sean.chen\\trader\\abu\\abupy\\MarketBu\\ABuMarketDrawing.py\", line 252, in _do_plot_candle\n",
      "    import matplotlib.date as mdf\n",
      "ModuleNotFoundError: No module named 'matplotlib.date'\n",
      "\n",
      "During handling of the above exception, another exception occurred:\n",
      "\n",
      "Traceback (most recent call last):\n",
      "  File \"D:\\sean.chen\\trader\\abu\\abupy\\MarketBu\\ABuMarketDrawing.py\", line 92, in plot_from_series\n",
      "    view_index=view_index_inner, save=save)\n",
      "  File \"D:\\sean.chen\\trader\\abu\\abupy\\MarketBu\\ABuMarketDrawing.py\", line 133, in plot_candle_from_symbol\n",
      "    plot_candle_form_klpd(kl_pd, day_sum, html_bk, view_index, save=save)\n",
      "  File \"D:\\sean.chen\\trader\\abu\\abupy\\MarketBu\\ABuMarketDrawing.py\", line 166, in plot_candle_form_klpd\n",
      "    fn, day_sum, html_bk, save)\n",
      "  File \"D:\\sean.chen\\trader\\abu\\abupy\\MarketBu\\ABuMarketDrawing.py\", line 188, in plot_candle_stick\n",
      "    _do_plot_candle(date, p_open, high, low, close, volume, view_index, symbol, day_sum, save, minute)\n",
      "  File \"D:\\sean.chen\\trader\\abu\\abupy\\MarketBu\\ABuMarketDrawing.py\", line 257, in _do_plot_candle\n",
      "    import matplotlib.date as mdf\n",
      "ModuleNotFoundError: No module named 'matplotlib.date'\n"
     ]
    },
    {
     "name": "stdout",
     "output_type": "stream",
     "text": [
      "tw_TWSE:2330\n"
     ]
    },
    {
     "name": "stderr",
     "output_type": "stream",
     "text": [
      "No module named 'matplotlib.date'\n",
      "Traceback (most recent call last):\n",
      "  File \"D:\\sean.chen\\trader\\abu\\abupy\\MarketBu\\ABuMarketDrawing.py\", line 252, in _do_plot_candle\n",
      "    import matplotlib.date as mdf\n",
      "ModuleNotFoundError: No module named 'matplotlib.date'\n",
      "\n",
      "During handling of the above exception, another exception occurred:\n",
      "\n",
      "Traceback (most recent call last):\n",
      "  File \"D:\\sean.chen\\trader\\abu\\abupy\\MarketBu\\ABuMarketDrawing.py\", line 92, in plot_from_series\n",
      "    view_index=view_index_inner, save=save)\n",
      "  File \"D:\\sean.chen\\trader\\abu\\abupy\\MarketBu\\ABuMarketDrawing.py\", line 133, in plot_candle_from_symbol\n",
      "    plot_candle_form_klpd(kl_pd, day_sum, html_bk, view_index, save=save)\n",
      "  File \"D:\\sean.chen\\trader\\abu\\abupy\\MarketBu\\ABuMarketDrawing.py\", line 166, in plot_candle_form_klpd\n",
      "    fn, day_sum, html_bk, save)\n",
      "  File \"D:\\sean.chen\\trader\\abu\\abupy\\MarketBu\\ABuMarketDrawing.py\", line 188, in plot_candle_stick\n",
      "    _do_plot_candle(date, p_open, high, low, close, volume, view_index, symbol, day_sum, save, minute)\n",
      "  File \"D:\\sean.chen\\trader\\abu\\abupy\\MarketBu\\ABuMarketDrawing.py\", line 257, in _do_plot_candle\n",
      "    import matplotlib.date as mdf\n",
      "ModuleNotFoundError: No module named 'matplotlib.date'\n"
     ]
    },
    {
     "name": "stdout",
     "output_type": "stream",
     "text": [
      "tw_TWSE:2330\n"
     ]
    },
    {
     "name": "stderr",
     "output_type": "stream",
     "text": [
      "No module named 'matplotlib.date'\n",
      "Traceback (most recent call last):\n",
      "  File \"D:\\sean.chen\\trader\\abu\\abupy\\MarketBu\\ABuMarketDrawing.py\", line 252, in _do_plot_candle\n",
      "    import matplotlib.date as mdf\n",
      "ModuleNotFoundError: No module named 'matplotlib.date'\n",
      "\n",
      "During handling of the above exception, another exception occurred:\n",
      "\n",
      "Traceback (most recent call last):\n",
      "  File \"D:\\sean.chen\\trader\\abu\\abupy\\MarketBu\\ABuMarketDrawing.py\", line 92, in plot_from_series\n",
      "    view_index=view_index_inner, save=save)\n",
      "  File \"D:\\sean.chen\\trader\\abu\\abupy\\MarketBu\\ABuMarketDrawing.py\", line 133, in plot_candle_from_symbol\n",
      "    plot_candle_form_klpd(kl_pd, day_sum, html_bk, view_index, save=save)\n",
      "  File \"D:\\sean.chen\\trader\\abu\\abupy\\MarketBu\\ABuMarketDrawing.py\", line 166, in plot_candle_form_klpd\n",
      "    fn, day_sum, html_bk, save)\n",
      "  File \"D:\\sean.chen\\trader\\abu\\abupy\\MarketBu\\ABuMarketDrawing.py\", line 188, in plot_candle_stick\n",
      "    _do_plot_candle(date, p_open, high, low, close, volume, view_index, symbol, day_sum, save, minute)\n",
      "  File \"D:\\sean.chen\\trader\\abu\\abupy\\MarketBu\\ABuMarketDrawing.py\", line 257, in _do_plot_candle\n",
      "    import matplotlib.date as mdf\n",
      "ModuleNotFoundError: No module named 'matplotlib.date'\n"
     ]
    },
    {
     "name": "stdout",
     "output_type": "stream",
     "text": [
      "tw_TWSE:2330\n"
     ]
    },
    {
     "name": "stderr",
     "output_type": "stream",
     "text": [
      "No module named 'matplotlib.date'\n",
      "Traceback (most recent call last):\n",
      "  File \"D:\\sean.chen\\trader\\abu\\abupy\\MarketBu\\ABuMarketDrawing.py\", line 252, in _do_plot_candle\n",
      "    import matplotlib.date as mdf\n",
      "ModuleNotFoundError: No module named 'matplotlib.date'\n",
      "\n",
      "During handling of the above exception, another exception occurred:\n",
      "\n",
      "Traceback (most recent call last):\n",
      "  File \"D:\\sean.chen\\trader\\abu\\abupy\\MarketBu\\ABuMarketDrawing.py\", line 92, in plot_from_series\n",
      "    view_index=view_index_inner, save=save)\n",
      "  File \"D:\\sean.chen\\trader\\abu\\abupy\\MarketBu\\ABuMarketDrawing.py\", line 133, in plot_candle_from_symbol\n",
      "    plot_candle_form_klpd(kl_pd, day_sum, html_bk, view_index, save=save)\n",
      "  File \"D:\\sean.chen\\trader\\abu\\abupy\\MarketBu\\ABuMarketDrawing.py\", line 166, in plot_candle_form_klpd\n",
      "    fn, day_sum, html_bk, save)\n",
      "  File \"D:\\sean.chen\\trader\\abu\\abupy\\MarketBu\\ABuMarketDrawing.py\", line 188, in plot_candle_stick\n",
      "    _do_plot_candle(date, p_open, high, low, close, volume, view_index, symbol, day_sum, save, minute)\n",
      "  File \"D:\\sean.chen\\trader\\abu\\abupy\\MarketBu\\ABuMarketDrawing.py\", line 257, in _do_plot_candle\n",
      "    import matplotlib.date as mdf\n",
      "ModuleNotFoundError: No module named 'matplotlib.date'\n"
     ]
    },
    {
     "name": "stdout",
     "output_type": "stream",
     "text": [
      "tw_TWSE:2330\n"
     ]
    },
    {
     "name": "stderr",
     "output_type": "stream",
     "text": [
      "No module named 'matplotlib.date'\n",
      "Traceback (most recent call last):\n",
      "  File \"D:\\sean.chen\\trader\\abu\\abupy\\MarketBu\\ABuMarketDrawing.py\", line 252, in _do_plot_candle\n",
      "    import matplotlib.date as mdf\n",
      "ModuleNotFoundError: No module named 'matplotlib.date'\n",
      "\n",
      "During handling of the above exception, another exception occurred:\n",
      "\n",
      "Traceback (most recent call last):\n",
      "  File \"D:\\sean.chen\\trader\\abu\\abupy\\MarketBu\\ABuMarketDrawing.py\", line 92, in plot_from_series\n",
      "    view_index=view_index_inner, save=save)\n",
      "  File \"D:\\sean.chen\\trader\\abu\\abupy\\MarketBu\\ABuMarketDrawing.py\", line 133, in plot_candle_from_symbol\n",
      "    plot_candle_form_klpd(kl_pd, day_sum, html_bk, view_index, save=save)\n",
      "  File \"D:\\sean.chen\\trader\\abu\\abupy\\MarketBu\\ABuMarketDrawing.py\", line 166, in plot_candle_form_klpd\n",
      "    fn, day_sum, html_bk, save)\n",
      "  File \"D:\\sean.chen\\trader\\abu\\abupy\\MarketBu\\ABuMarketDrawing.py\", line 188, in plot_candle_stick\n",
      "    _do_plot_candle(date, p_open, high, low, close, volume, view_index, symbol, day_sum, save, minute)\n",
      "  File \"D:\\sean.chen\\trader\\abu\\abupy\\MarketBu\\ABuMarketDrawing.py\", line 257, in _do_plot_candle\n",
      "    import matplotlib.date as mdf\n",
      "ModuleNotFoundError: No module named 'matplotlib.date'\n"
     ]
    },
    {
     "name": "stdout",
     "output_type": "stream",
     "text": [
      "tw_TWSE:2330\n"
     ]
    },
    {
     "name": "stderr",
     "output_type": "stream",
     "text": [
      "No module named 'matplotlib.date'\n",
      "Traceback (most recent call last):\n",
      "  File \"D:\\sean.chen\\trader\\abu\\abupy\\MarketBu\\ABuMarketDrawing.py\", line 252, in _do_plot_candle\n",
      "    import matplotlib.date as mdf\n",
      "ModuleNotFoundError: No module named 'matplotlib.date'\n",
      "\n",
      "During handling of the above exception, another exception occurred:\n",
      "\n",
      "Traceback (most recent call last):\n",
      "  File \"D:\\sean.chen\\trader\\abu\\abupy\\MarketBu\\ABuMarketDrawing.py\", line 92, in plot_from_series\n",
      "    view_index=view_index_inner, save=save)\n",
      "  File \"D:\\sean.chen\\trader\\abu\\abupy\\MarketBu\\ABuMarketDrawing.py\", line 133, in plot_candle_from_symbol\n",
      "    plot_candle_form_klpd(kl_pd, day_sum, html_bk, view_index, save=save)\n",
      "  File \"D:\\sean.chen\\trader\\abu\\abupy\\MarketBu\\ABuMarketDrawing.py\", line 166, in plot_candle_form_klpd\n",
      "    fn, day_sum, html_bk, save)\n",
      "  File \"D:\\sean.chen\\trader\\abu\\abupy\\MarketBu\\ABuMarketDrawing.py\", line 188, in plot_candle_stick\n",
      "    _do_plot_candle(date, p_open, high, low, close, volume, view_index, symbol, day_sum, save, minute)\n",
      "  File \"D:\\sean.chen\\trader\\abu\\abupy\\MarketBu\\ABuMarketDrawing.py\", line 257, in _do_plot_candle\n",
      "    import matplotlib.date as mdf\n",
      "ModuleNotFoundError: No module named 'matplotlib.date'\n"
     ]
    },
    {
     "name": "stdout",
     "output_type": "stream",
     "text": [
      "tw_TWSE:2330\n"
     ]
    },
    {
     "name": "stderr",
     "output_type": "stream",
     "text": [
      "No module named 'matplotlib.date'\n",
      "Traceback (most recent call last):\n",
      "  File \"D:\\sean.chen\\trader\\abu\\abupy\\MarketBu\\ABuMarketDrawing.py\", line 252, in _do_plot_candle\n",
      "    import matplotlib.date as mdf\n",
      "ModuleNotFoundError: No module named 'matplotlib.date'\n",
      "\n",
      "During handling of the above exception, another exception occurred:\n",
      "\n",
      "Traceback (most recent call last):\n",
      "  File \"D:\\sean.chen\\trader\\abu\\abupy\\MarketBu\\ABuMarketDrawing.py\", line 92, in plot_from_series\n",
      "    view_index=view_index_inner, save=save)\n",
      "  File \"D:\\sean.chen\\trader\\abu\\abupy\\MarketBu\\ABuMarketDrawing.py\", line 133, in plot_candle_from_symbol\n",
      "    plot_candle_form_klpd(kl_pd, day_sum, html_bk, view_index, save=save)\n",
      "  File \"D:\\sean.chen\\trader\\abu\\abupy\\MarketBu\\ABuMarketDrawing.py\", line 166, in plot_candle_form_klpd\n",
      "    fn, day_sum, html_bk, save)\n",
      "  File \"D:\\sean.chen\\trader\\abu\\abupy\\MarketBu\\ABuMarketDrawing.py\", line 188, in plot_candle_stick\n",
      "    _do_plot_candle(date, p_open, high, low, close, volume, view_index, symbol, day_sum, save, minute)\n",
      "  File \"D:\\sean.chen\\trader\\abu\\abupy\\MarketBu\\ABuMarketDrawing.py\", line 257, in _do_plot_candle\n",
      "    import matplotlib.date as mdf\n",
      "ModuleNotFoundError: No module named 'matplotlib.date'\n"
     ]
    },
    {
     "name": "stdout",
     "output_type": "stream",
     "text": [
      "tw_TWSE:2330\n"
     ]
    },
    {
     "name": "stderr",
     "output_type": "stream",
     "text": [
      "No module named 'matplotlib.date'\n",
      "Traceback (most recent call last):\n",
      "  File \"D:\\sean.chen\\trader\\abu\\abupy\\MarketBu\\ABuMarketDrawing.py\", line 252, in _do_plot_candle\n",
      "    import matplotlib.date as mdf\n",
      "ModuleNotFoundError: No module named 'matplotlib.date'\n",
      "\n",
      "During handling of the above exception, another exception occurred:\n",
      "\n",
      "Traceback (most recent call last):\n",
      "  File \"D:\\sean.chen\\trader\\abu\\abupy\\MarketBu\\ABuMarketDrawing.py\", line 92, in plot_from_series\n",
      "    view_index=view_index_inner, save=save)\n",
      "  File \"D:\\sean.chen\\trader\\abu\\abupy\\MarketBu\\ABuMarketDrawing.py\", line 133, in plot_candle_from_symbol\n",
      "    plot_candle_form_klpd(kl_pd, day_sum, html_bk, view_index, save=save)\n",
      "  File \"D:\\sean.chen\\trader\\abu\\abupy\\MarketBu\\ABuMarketDrawing.py\", line 166, in plot_candle_form_klpd\n",
      "    fn, day_sum, html_bk, save)\n",
      "  File \"D:\\sean.chen\\trader\\abu\\abupy\\MarketBu\\ABuMarketDrawing.py\", line 188, in plot_candle_stick\n",
      "    _do_plot_candle(date, p_open, high, low, close, volume, view_index, symbol, day_sum, save, minute)\n",
      "  File \"D:\\sean.chen\\trader\\abu\\abupy\\MarketBu\\ABuMarketDrawing.py\", line 257, in _do_plot_candle\n",
      "    import matplotlib.date as mdf\n",
      "ModuleNotFoundError: No module named 'matplotlib.date'\n"
     ]
    },
    {
     "name": "stdout",
     "output_type": "stream",
     "text": [
      "tw_TWSE:2330\n"
     ]
    },
    {
     "name": "stderr",
     "output_type": "stream",
     "text": [
      "No module named 'matplotlib.date'\n",
      "Traceback (most recent call last):\n",
      "  File \"D:\\sean.chen\\trader\\abu\\abupy\\MarketBu\\ABuMarketDrawing.py\", line 252, in _do_plot_candle\n",
      "    import matplotlib.date as mdf\n",
      "ModuleNotFoundError: No module named 'matplotlib.date'\n",
      "\n",
      "During handling of the above exception, another exception occurred:\n",
      "\n",
      "Traceback (most recent call last):\n",
      "  File \"D:\\sean.chen\\trader\\abu\\abupy\\MarketBu\\ABuMarketDrawing.py\", line 92, in plot_from_series\n",
      "    view_index=view_index_inner, save=save)\n",
      "  File \"D:\\sean.chen\\trader\\abu\\abupy\\MarketBu\\ABuMarketDrawing.py\", line 133, in plot_candle_from_symbol\n",
      "    plot_candle_form_klpd(kl_pd, day_sum, html_bk, view_index, save=save)\n",
      "  File \"D:\\sean.chen\\trader\\abu\\abupy\\MarketBu\\ABuMarketDrawing.py\", line 166, in plot_candle_form_klpd\n",
      "    fn, day_sum, html_bk, save)\n",
      "  File \"D:\\sean.chen\\trader\\abu\\abupy\\MarketBu\\ABuMarketDrawing.py\", line 188, in plot_candle_stick\n",
      "    _do_plot_candle(date, p_open, high, low, close, volume, view_index, symbol, day_sum, save, minute)\n",
      "  File \"D:\\sean.chen\\trader\\abu\\abupy\\MarketBu\\ABuMarketDrawing.py\", line 257, in _do_plot_candle\n",
      "    import matplotlib.date as mdf\n",
      "ModuleNotFoundError: No module named 'matplotlib.date'\n"
     ]
    },
    {
     "name": "stdout",
     "output_type": "stream",
     "text": [
      "tw_TWSE:2330\n"
     ]
    },
    {
     "name": "stderr",
     "output_type": "stream",
     "text": [
      "No module named 'matplotlib.date'\n",
      "Traceback (most recent call last):\n",
      "  File \"D:\\sean.chen\\trader\\abu\\abupy\\MarketBu\\ABuMarketDrawing.py\", line 252, in _do_plot_candle\n",
      "    import matplotlib.date as mdf\n",
      "ModuleNotFoundError: No module named 'matplotlib.date'\n",
      "\n",
      "During handling of the above exception, another exception occurred:\n",
      "\n",
      "Traceback (most recent call last):\n",
      "  File \"D:\\sean.chen\\trader\\abu\\abupy\\MarketBu\\ABuMarketDrawing.py\", line 92, in plot_from_series\n",
      "    view_index=view_index_inner, save=save)\n",
      "  File \"D:\\sean.chen\\trader\\abu\\abupy\\MarketBu\\ABuMarketDrawing.py\", line 133, in plot_candle_from_symbol\n",
      "    plot_candle_form_klpd(kl_pd, day_sum, html_bk, view_index, save=save)\n",
      "  File \"D:\\sean.chen\\trader\\abu\\abupy\\MarketBu\\ABuMarketDrawing.py\", line 166, in plot_candle_form_klpd\n",
      "    fn, day_sum, html_bk, save)\n",
      "  File \"D:\\sean.chen\\trader\\abu\\abupy\\MarketBu\\ABuMarketDrawing.py\", line 188, in plot_candle_stick\n",
      "    _do_plot_candle(date, p_open, high, low, close, volume, view_index, symbol, day_sum, save, minute)\n",
      "  File \"D:\\sean.chen\\trader\\abu\\abupy\\MarketBu\\ABuMarketDrawing.py\", line 257, in _do_plot_candle\n",
      "    import matplotlib.date as mdf\n",
      "ModuleNotFoundError: No module named 'matplotlib.date'\n"
     ]
    },
    {
     "name": "stdout",
     "output_type": "stream",
     "text": [
      "tw_TWSE:2330\n"
     ]
    },
    {
     "name": "stderr",
     "output_type": "stream",
     "text": [
      "No module named 'matplotlib.date'\n",
      "Traceback (most recent call last):\n",
      "  File \"D:\\sean.chen\\trader\\abu\\abupy\\MarketBu\\ABuMarketDrawing.py\", line 252, in _do_plot_candle\n",
      "    import matplotlib.date as mdf\n",
      "ModuleNotFoundError: No module named 'matplotlib.date'\n",
      "\n",
      "During handling of the above exception, another exception occurred:\n",
      "\n",
      "Traceback (most recent call last):\n",
      "  File \"D:\\sean.chen\\trader\\abu\\abupy\\MarketBu\\ABuMarketDrawing.py\", line 92, in plot_from_series\n",
      "    view_index=view_index_inner, save=save)\n",
      "  File \"D:\\sean.chen\\trader\\abu\\abupy\\MarketBu\\ABuMarketDrawing.py\", line 133, in plot_candle_from_symbol\n",
      "    plot_candle_form_klpd(kl_pd, day_sum, html_bk, view_index, save=save)\n",
      "  File \"D:\\sean.chen\\trader\\abu\\abupy\\MarketBu\\ABuMarketDrawing.py\", line 166, in plot_candle_form_klpd\n",
      "    fn, day_sum, html_bk, save)\n",
      "  File \"D:\\sean.chen\\trader\\abu\\abupy\\MarketBu\\ABuMarketDrawing.py\", line 188, in plot_candle_stick\n",
      "    _do_plot_candle(date, p_open, high, low, close, volume, view_index, symbol, day_sum, save, minute)\n",
      "  File \"D:\\sean.chen\\trader\\abu\\abupy\\MarketBu\\ABuMarketDrawing.py\", line 257, in _do_plot_candle\n",
      "    import matplotlib.date as mdf\n",
      "ModuleNotFoundError: No module named 'matplotlib.date'\n"
     ]
    },
    {
     "name": "stdout",
     "output_type": "stream",
     "text": [
      "tw_TWSE:2330\n"
     ]
    },
    {
     "name": "stderr",
     "output_type": "stream",
     "text": [
      "No module named 'matplotlib.date'\n",
      "Traceback (most recent call last):\n",
      "  File \"D:\\sean.chen\\trader\\abu\\abupy\\MarketBu\\ABuMarketDrawing.py\", line 252, in _do_plot_candle\n",
      "    import matplotlib.date as mdf\n",
      "ModuleNotFoundError: No module named 'matplotlib.date'\n",
      "\n",
      "During handling of the above exception, another exception occurred:\n",
      "\n",
      "Traceback (most recent call last):\n",
      "  File \"D:\\sean.chen\\trader\\abu\\abupy\\MarketBu\\ABuMarketDrawing.py\", line 92, in plot_from_series\n",
      "    view_index=view_index_inner, save=save)\n",
      "  File \"D:\\sean.chen\\trader\\abu\\abupy\\MarketBu\\ABuMarketDrawing.py\", line 133, in plot_candle_from_symbol\n",
      "    plot_candle_form_klpd(kl_pd, day_sum, html_bk, view_index, save=save)\n",
      "  File \"D:\\sean.chen\\trader\\abu\\abupy\\MarketBu\\ABuMarketDrawing.py\", line 166, in plot_candle_form_klpd\n",
      "    fn, day_sum, html_bk, save)\n",
      "  File \"D:\\sean.chen\\trader\\abu\\abupy\\MarketBu\\ABuMarketDrawing.py\", line 188, in plot_candle_stick\n",
      "    _do_plot_candle(date, p_open, high, low, close, volume, view_index, symbol, day_sum, save, minute)\n",
      "  File \"D:\\sean.chen\\trader\\abu\\abupy\\MarketBu\\ABuMarketDrawing.py\", line 257, in _do_plot_candle\n",
      "    import matplotlib.date as mdf\n",
      "ModuleNotFoundError: No module named 'matplotlib.date'\n"
     ]
    },
    {
     "name": "stdout",
     "output_type": "stream",
     "text": [
      "tw_TWSE:2330\n"
     ]
    },
    {
     "name": "stderr",
     "output_type": "stream",
     "text": [
      "No module named 'matplotlib.date'\n",
      "Traceback (most recent call last):\n",
      "  File \"D:\\sean.chen\\trader\\abu\\abupy\\MarketBu\\ABuMarketDrawing.py\", line 252, in _do_plot_candle\n",
      "    import matplotlib.date as mdf\n",
      "ModuleNotFoundError: No module named 'matplotlib.date'\n",
      "\n",
      "During handling of the above exception, another exception occurred:\n",
      "\n",
      "Traceback (most recent call last):\n",
      "  File \"D:\\sean.chen\\trader\\abu\\abupy\\MarketBu\\ABuMarketDrawing.py\", line 92, in plot_from_series\n",
      "    view_index=view_index_inner, save=save)\n",
      "  File \"D:\\sean.chen\\trader\\abu\\abupy\\MarketBu\\ABuMarketDrawing.py\", line 133, in plot_candle_from_symbol\n",
      "    plot_candle_form_klpd(kl_pd, day_sum, html_bk, view_index, save=save)\n",
      "  File \"D:\\sean.chen\\trader\\abu\\abupy\\MarketBu\\ABuMarketDrawing.py\", line 166, in plot_candle_form_klpd\n",
      "    fn, day_sum, html_bk, save)\n",
      "  File \"D:\\sean.chen\\trader\\abu\\abupy\\MarketBu\\ABuMarketDrawing.py\", line 188, in plot_candle_stick\n",
      "    _do_plot_candle(date, p_open, high, low, close, volume, view_index, symbol, day_sum, save, minute)\n",
      "  File \"D:\\sean.chen\\trader\\abu\\abupy\\MarketBu\\ABuMarketDrawing.py\", line 257, in _do_plot_candle\n",
      "    import matplotlib.date as mdf\n",
      "ModuleNotFoundError: No module named 'matplotlib.date'\n"
     ]
    },
    {
     "name": "stdout",
     "output_type": "stream",
     "text": [
      "tw_TWSE:2330\n"
     ]
    },
    {
     "name": "stderr",
     "output_type": "stream",
     "text": [
      "No module named 'matplotlib.date'\n",
      "Traceback (most recent call last):\n",
      "  File \"D:\\sean.chen\\trader\\abu\\abupy\\MarketBu\\ABuMarketDrawing.py\", line 252, in _do_plot_candle\n",
      "    import matplotlib.date as mdf\n",
      "ModuleNotFoundError: No module named 'matplotlib.date'\n",
      "\n",
      "During handling of the above exception, another exception occurred:\n",
      "\n",
      "Traceback (most recent call last):\n",
      "  File \"D:\\sean.chen\\trader\\abu\\abupy\\MarketBu\\ABuMarketDrawing.py\", line 92, in plot_from_series\n",
      "    view_index=view_index_inner, save=save)\n",
      "  File \"D:\\sean.chen\\trader\\abu\\abupy\\MarketBu\\ABuMarketDrawing.py\", line 133, in plot_candle_from_symbol\n",
      "    plot_candle_form_klpd(kl_pd, day_sum, html_bk, view_index, save=save)\n",
      "  File \"D:\\sean.chen\\trader\\abu\\abupy\\MarketBu\\ABuMarketDrawing.py\", line 166, in plot_candle_form_klpd\n",
      "    fn, day_sum, html_bk, save)\n",
      "  File \"D:\\sean.chen\\trader\\abu\\abupy\\MarketBu\\ABuMarketDrawing.py\", line 188, in plot_candle_stick\n",
      "    _do_plot_candle(date, p_open, high, low, close, volume, view_index, symbol, day_sum, save, minute)\n",
      "  File \"D:\\sean.chen\\trader\\abu\\abupy\\MarketBu\\ABuMarketDrawing.py\", line 257, in _do_plot_candle\n",
      "    import matplotlib.date as mdf\n",
      "ModuleNotFoundError: No module named 'matplotlib.date'\n"
     ]
    },
    {
     "name": "stdout",
     "output_type": "stream",
     "text": [
      "tw_TWSE:2330\n"
     ]
    },
    {
     "name": "stderr",
     "output_type": "stream",
     "text": [
      "No module named 'matplotlib.date'\n",
      "Traceback (most recent call last):\n",
      "  File \"D:\\sean.chen\\trader\\abu\\abupy\\MarketBu\\ABuMarketDrawing.py\", line 252, in _do_plot_candle\n",
      "    import matplotlib.date as mdf\n",
      "ModuleNotFoundError: No module named 'matplotlib.date'\n",
      "\n",
      "During handling of the above exception, another exception occurred:\n",
      "\n",
      "Traceback (most recent call last):\n",
      "  File \"D:\\sean.chen\\trader\\abu\\abupy\\MarketBu\\ABuMarketDrawing.py\", line 92, in plot_from_series\n",
      "    view_index=view_index_inner, save=save)\n",
      "  File \"D:\\sean.chen\\trader\\abu\\abupy\\MarketBu\\ABuMarketDrawing.py\", line 133, in plot_candle_from_symbol\n",
      "    plot_candle_form_klpd(kl_pd, day_sum, html_bk, view_index, save=save)\n",
      "  File \"D:\\sean.chen\\trader\\abu\\abupy\\MarketBu\\ABuMarketDrawing.py\", line 166, in plot_candle_form_klpd\n",
      "    fn, day_sum, html_bk, save)\n",
      "  File \"D:\\sean.chen\\trader\\abu\\abupy\\MarketBu\\ABuMarketDrawing.py\", line 188, in plot_candle_stick\n",
      "    _do_plot_candle(date, p_open, high, low, close, volume, view_index, symbol, day_sum, save, minute)\n",
      "  File \"D:\\sean.chen\\trader\\abu\\abupy\\MarketBu\\ABuMarketDrawing.py\", line 257, in _do_plot_candle\n",
      "    import matplotlib.date as mdf\n",
      "ModuleNotFoundError: No module named 'matplotlib.date'\n"
     ]
    },
    {
     "name": "stdout",
     "output_type": "stream",
     "text": [
      "tw_TWSE:2330\n"
     ]
    },
    {
     "name": "stderr",
     "output_type": "stream",
     "text": [
      "No module named 'matplotlib.date'\n",
      "Traceback (most recent call last):\n",
      "  File \"D:\\sean.chen\\trader\\abu\\abupy\\MarketBu\\ABuMarketDrawing.py\", line 252, in _do_plot_candle\n",
      "    import matplotlib.date as mdf\n",
      "ModuleNotFoundError: No module named 'matplotlib.date'\n",
      "\n",
      "During handling of the above exception, another exception occurred:\n",
      "\n",
      "Traceback (most recent call last):\n",
      "  File \"D:\\sean.chen\\trader\\abu\\abupy\\MarketBu\\ABuMarketDrawing.py\", line 92, in plot_from_series\n",
      "    view_index=view_index_inner, save=save)\n",
      "  File \"D:\\sean.chen\\trader\\abu\\abupy\\MarketBu\\ABuMarketDrawing.py\", line 133, in plot_candle_from_symbol\n",
      "    plot_candle_form_klpd(kl_pd, day_sum, html_bk, view_index, save=save)\n",
      "  File \"D:\\sean.chen\\trader\\abu\\abupy\\MarketBu\\ABuMarketDrawing.py\", line 166, in plot_candle_form_klpd\n",
      "    fn, day_sum, html_bk, save)\n",
      "  File \"D:\\sean.chen\\trader\\abu\\abupy\\MarketBu\\ABuMarketDrawing.py\", line 188, in plot_candle_stick\n",
      "    _do_plot_candle(date, p_open, high, low, close, volume, view_index, symbol, day_sum, save, minute)\n",
      "  File \"D:\\sean.chen\\trader\\abu\\abupy\\MarketBu\\ABuMarketDrawing.py\", line 257, in _do_plot_candle\n",
      "    import matplotlib.date as mdf\n",
      "ModuleNotFoundError: No module named 'matplotlib.date'\n"
     ]
    },
    {
     "name": "stdout",
     "output_type": "stream",
     "text": [
      "tw_TWSE:2330\n"
     ]
    },
    {
     "name": "stderr",
     "output_type": "stream",
     "text": [
      "No module named 'matplotlib.date'\n",
      "Traceback (most recent call last):\n",
      "  File \"D:\\sean.chen\\trader\\abu\\abupy\\MarketBu\\ABuMarketDrawing.py\", line 252, in _do_plot_candle\n",
      "    import matplotlib.date as mdf\n",
      "ModuleNotFoundError: No module named 'matplotlib.date'\n",
      "\n",
      "During handling of the above exception, another exception occurred:\n",
      "\n",
      "Traceback (most recent call last):\n",
      "  File \"D:\\sean.chen\\trader\\abu\\abupy\\MarketBu\\ABuMarketDrawing.py\", line 92, in plot_from_series\n",
      "    view_index=view_index_inner, save=save)\n",
      "  File \"D:\\sean.chen\\trader\\abu\\abupy\\MarketBu\\ABuMarketDrawing.py\", line 133, in plot_candle_from_symbol\n",
      "    plot_candle_form_klpd(kl_pd, day_sum, html_bk, view_index, save=save)\n",
      "  File \"D:\\sean.chen\\trader\\abu\\abupy\\MarketBu\\ABuMarketDrawing.py\", line 166, in plot_candle_form_klpd\n",
      "    fn, day_sum, html_bk, save)\n",
      "  File \"D:\\sean.chen\\trader\\abu\\abupy\\MarketBu\\ABuMarketDrawing.py\", line 188, in plot_candle_stick\n",
      "    _do_plot_candle(date, p_open, high, low, close, volume, view_index, symbol, day_sum, save, minute)\n",
      "  File \"D:\\sean.chen\\trader\\abu\\abupy\\MarketBu\\ABuMarketDrawing.py\", line 257, in _do_plot_candle\n",
      "    import matplotlib.date as mdf\n",
      "ModuleNotFoundError: No module named 'matplotlib.date'\n"
     ]
    },
    {
     "name": "stdout",
     "output_type": "stream",
     "text": [
      "tw_TWSE:2330\n"
     ]
    },
    {
     "name": "stderr",
     "output_type": "stream",
     "text": [
      "No module named 'matplotlib.date'\n",
      "Traceback (most recent call last):\n",
      "  File \"D:\\sean.chen\\trader\\abu\\abupy\\MarketBu\\ABuMarketDrawing.py\", line 252, in _do_plot_candle\n",
      "    import matplotlib.date as mdf\n",
      "ModuleNotFoundError: No module named 'matplotlib.date'\n",
      "\n",
      "During handling of the above exception, another exception occurred:\n",
      "\n",
      "Traceback (most recent call last):\n",
      "  File \"D:\\sean.chen\\trader\\abu\\abupy\\MarketBu\\ABuMarketDrawing.py\", line 92, in plot_from_series\n",
      "    view_index=view_index_inner, save=save)\n",
      "  File \"D:\\sean.chen\\trader\\abu\\abupy\\MarketBu\\ABuMarketDrawing.py\", line 133, in plot_candle_from_symbol\n",
      "    plot_candle_form_klpd(kl_pd, day_sum, html_bk, view_index, save=save)\n",
      "  File \"D:\\sean.chen\\trader\\abu\\abupy\\MarketBu\\ABuMarketDrawing.py\", line 166, in plot_candle_form_klpd\n",
      "    fn, day_sum, html_bk, save)\n",
      "  File \"D:\\sean.chen\\trader\\abu\\abupy\\MarketBu\\ABuMarketDrawing.py\", line 188, in plot_candle_stick\n",
      "    _do_plot_candle(date, p_open, high, low, close, volume, view_index, symbol, day_sum, save, minute)\n",
      "  File \"D:\\sean.chen\\trader\\abu\\abupy\\MarketBu\\ABuMarketDrawing.py\", line 257, in _do_plot_candle\n",
      "    import matplotlib.date as mdf\n",
      "ModuleNotFoundError: No module named 'matplotlib.date'\n"
     ]
    },
    {
     "name": "stdout",
     "output_type": "stream",
     "text": [
      "tw_TWSE:2330\n"
     ]
    },
    {
     "name": "stderr",
     "output_type": "stream",
     "text": [
      "No module named 'matplotlib.date'\n",
      "Traceback (most recent call last):\n",
      "  File \"D:\\sean.chen\\trader\\abu\\abupy\\MarketBu\\ABuMarketDrawing.py\", line 252, in _do_plot_candle\n",
      "    import matplotlib.date as mdf\n",
      "ModuleNotFoundError: No module named 'matplotlib.date'\n",
      "\n",
      "During handling of the above exception, another exception occurred:\n",
      "\n",
      "Traceback (most recent call last):\n",
      "  File \"D:\\sean.chen\\trader\\abu\\abupy\\MarketBu\\ABuMarketDrawing.py\", line 92, in plot_from_series\n",
      "    view_index=view_index_inner, save=save)\n",
      "  File \"D:\\sean.chen\\trader\\abu\\abupy\\MarketBu\\ABuMarketDrawing.py\", line 133, in plot_candle_from_symbol\n",
      "    plot_candle_form_klpd(kl_pd, day_sum, html_bk, view_index, save=save)\n",
      "  File \"D:\\sean.chen\\trader\\abu\\abupy\\MarketBu\\ABuMarketDrawing.py\", line 166, in plot_candle_form_klpd\n",
      "    fn, day_sum, html_bk, save)\n",
      "  File \"D:\\sean.chen\\trader\\abu\\abupy\\MarketBu\\ABuMarketDrawing.py\", line 188, in plot_candle_stick\n",
      "    _do_plot_candle(date, p_open, high, low, close, volume, view_index, symbol, day_sum, save, minute)\n",
      "  File \"D:\\sean.chen\\trader\\abu\\abupy\\MarketBu\\ABuMarketDrawing.py\", line 257, in _do_plot_candle\n",
      "    import matplotlib.date as mdf\n",
      "ModuleNotFoundError: No module named 'matplotlib.date'\n"
     ]
    },
    {
     "name": "stdout",
     "output_type": "stream",
     "text": [
      "tw_TWSE:2330\n"
     ]
    },
    {
     "name": "stderr",
     "output_type": "stream",
     "text": [
      "No module named 'matplotlib.date'\n",
      "Traceback (most recent call last):\n",
      "  File \"D:\\sean.chen\\trader\\abu\\abupy\\MarketBu\\ABuMarketDrawing.py\", line 252, in _do_plot_candle\n",
      "    import matplotlib.date as mdf\n",
      "ModuleNotFoundError: No module named 'matplotlib.date'\n",
      "\n",
      "During handling of the above exception, another exception occurred:\n",
      "\n",
      "Traceback (most recent call last):\n",
      "  File \"D:\\sean.chen\\trader\\abu\\abupy\\MarketBu\\ABuMarketDrawing.py\", line 92, in plot_from_series\n",
      "    view_index=view_index_inner, save=save)\n",
      "  File \"D:\\sean.chen\\trader\\abu\\abupy\\MarketBu\\ABuMarketDrawing.py\", line 133, in plot_candle_from_symbol\n",
      "    plot_candle_form_klpd(kl_pd, day_sum, html_bk, view_index, save=save)\n",
      "  File \"D:\\sean.chen\\trader\\abu\\abupy\\MarketBu\\ABuMarketDrawing.py\", line 166, in plot_candle_form_klpd\n",
      "    fn, day_sum, html_bk, save)\n",
      "  File \"D:\\sean.chen\\trader\\abu\\abupy\\MarketBu\\ABuMarketDrawing.py\", line 188, in plot_candle_stick\n",
      "    _do_plot_candle(date, p_open, high, low, close, volume, view_index, symbol, day_sum, save, minute)\n",
      "  File \"D:\\sean.chen\\trader\\abu\\abupy\\MarketBu\\ABuMarketDrawing.py\", line 257, in _do_plot_candle\n",
      "    import matplotlib.date as mdf\n",
      "ModuleNotFoundError: No module named 'matplotlib.date'\n"
     ]
    },
    {
     "name": "stdout",
     "output_type": "stream",
     "text": [
      "tw_TWSE:2330\n"
     ]
    },
    {
     "name": "stderr",
     "output_type": "stream",
     "text": [
      "No module named 'matplotlib.date'\n",
      "Traceback (most recent call last):\n",
      "  File \"D:\\sean.chen\\trader\\abu\\abupy\\MarketBu\\ABuMarketDrawing.py\", line 252, in _do_plot_candle\n",
      "    import matplotlib.date as mdf\n",
      "ModuleNotFoundError: No module named 'matplotlib.date'\n",
      "\n",
      "During handling of the above exception, another exception occurred:\n",
      "\n",
      "Traceback (most recent call last):\n",
      "  File \"D:\\sean.chen\\trader\\abu\\abupy\\MarketBu\\ABuMarketDrawing.py\", line 92, in plot_from_series\n",
      "    view_index=view_index_inner, save=save)\n",
      "  File \"D:\\sean.chen\\trader\\abu\\abupy\\MarketBu\\ABuMarketDrawing.py\", line 133, in plot_candle_from_symbol\n",
      "    plot_candle_form_klpd(kl_pd, day_sum, html_bk, view_index, save=save)\n",
      "  File \"D:\\sean.chen\\trader\\abu\\abupy\\MarketBu\\ABuMarketDrawing.py\", line 166, in plot_candle_form_klpd\n",
      "    fn, day_sum, html_bk, save)\n",
      "  File \"D:\\sean.chen\\trader\\abu\\abupy\\MarketBu\\ABuMarketDrawing.py\", line 188, in plot_candle_stick\n",
      "    _do_plot_candle(date, p_open, high, low, close, volume, view_index, symbol, day_sum, save, minute)\n",
      "  File \"D:\\sean.chen\\trader\\abu\\abupy\\MarketBu\\ABuMarketDrawing.py\", line 257, in _do_plot_candle\n",
      "    import matplotlib.date as mdf\n",
      "ModuleNotFoundError: No module named 'matplotlib.date'\n"
     ]
    },
    {
     "name": "stdout",
     "output_type": "stream",
     "text": [
      "tw_TWSE:2330\n"
     ]
    },
    {
     "name": "stderr",
     "output_type": "stream",
     "text": [
      "No module named 'matplotlib.date'\n",
      "Traceback (most recent call last):\n",
      "  File \"D:\\sean.chen\\trader\\abu\\abupy\\MarketBu\\ABuMarketDrawing.py\", line 252, in _do_plot_candle\n",
      "    import matplotlib.date as mdf\n",
      "ModuleNotFoundError: No module named 'matplotlib.date'\n",
      "\n",
      "During handling of the above exception, another exception occurred:\n",
      "\n",
      "Traceback (most recent call last):\n",
      "  File \"D:\\sean.chen\\trader\\abu\\abupy\\MarketBu\\ABuMarketDrawing.py\", line 92, in plot_from_series\n",
      "    view_index=view_index_inner, save=save)\n",
      "  File \"D:\\sean.chen\\trader\\abu\\abupy\\MarketBu\\ABuMarketDrawing.py\", line 133, in plot_candle_from_symbol\n",
      "    plot_candle_form_klpd(kl_pd, day_sum, html_bk, view_index, save=save)\n",
      "  File \"D:\\sean.chen\\trader\\abu\\abupy\\MarketBu\\ABuMarketDrawing.py\", line 166, in plot_candle_form_klpd\n",
      "    fn, day_sum, html_bk, save)\n",
      "  File \"D:\\sean.chen\\trader\\abu\\abupy\\MarketBu\\ABuMarketDrawing.py\", line 188, in plot_candle_stick\n",
      "    _do_plot_candle(date, p_open, high, low, close, volume, view_index, symbol, day_sum, save, minute)\n",
      "  File \"D:\\sean.chen\\trader\\abu\\abupy\\MarketBu\\ABuMarketDrawing.py\", line 257, in _do_plot_candle\n",
      "    import matplotlib.date as mdf\n",
      "ModuleNotFoundError: No module named 'matplotlib.date'\n"
     ]
    },
    {
     "name": "stdout",
     "output_type": "stream",
     "text": [
      "tw_TWSE:2330\n"
     ]
    },
    {
     "name": "stderr",
     "output_type": "stream",
     "text": [
      "No module named 'matplotlib.date'\n",
      "Traceback (most recent call last):\n",
      "  File \"D:\\sean.chen\\trader\\abu\\abupy\\MarketBu\\ABuMarketDrawing.py\", line 252, in _do_plot_candle\n",
      "    import matplotlib.date as mdf\n",
      "ModuleNotFoundError: No module named 'matplotlib.date'\n",
      "\n",
      "During handling of the above exception, another exception occurred:\n",
      "\n",
      "Traceback (most recent call last):\n",
      "  File \"D:\\sean.chen\\trader\\abu\\abupy\\MarketBu\\ABuMarketDrawing.py\", line 92, in plot_from_series\n",
      "    view_index=view_index_inner, save=save)\n",
      "  File \"D:\\sean.chen\\trader\\abu\\abupy\\MarketBu\\ABuMarketDrawing.py\", line 133, in plot_candle_from_symbol\n",
      "    plot_candle_form_klpd(kl_pd, day_sum, html_bk, view_index, save=save)\n",
      "  File \"D:\\sean.chen\\trader\\abu\\abupy\\MarketBu\\ABuMarketDrawing.py\", line 166, in plot_candle_form_klpd\n",
      "    fn, day_sum, html_bk, save)\n",
      "  File \"D:\\sean.chen\\trader\\abu\\abupy\\MarketBu\\ABuMarketDrawing.py\", line 188, in plot_candle_stick\n",
      "    _do_plot_candle(date, p_open, high, low, close, volume, view_index, symbol, day_sum, save, minute)\n",
      "  File \"D:\\sean.chen\\trader\\abu\\abupy\\MarketBu\\ABuMarketDrawing.py\", line 257, in _do_plot_candle\n",
      "    import matplotlib.date as mdf\n",
      "ModuleNotFoundError: No module named 'matplotlib.date'\n"
     ]
    },
    {
     "name": "stdout",
     "output_type": "stream",
     "text": [
      "tw_TWSE:2330\n"
     ]
    },
    {
     "name": "stderr",
     "output_type": "stream",
     "text": [
      "No module named 'matplotlib.date'\n",
      "Traceback (most recent call last):\n",
      "  File \"D:\\sean.chen\\trader\\abu\\abupy\\MarketBu\\ABuMarketDrawing.py\", line 252, in _do_plot_candle\n",
      "    import matplotlib.date as mdf\n",
      "ModuleNotFoundError: No module named 'matplotlib.date'\n",
      "\n",
      "During handling of the above exception, another exception occurred:\n",
      "\n",
      "Traceback (most recent call last):\n",
      "  File \"D:\\sean.chen\\trader\\abu\\abupy\\MarketBu\\ABuMarketDrawing.py\", line 92, in plot_from_series\n",
      "    view_index=view_index_inner, save=save)\n",
      "  File \"D:\\sean.chen\\trader\\abu\\abupy\\MarketBu\\ABuMarketDrawing.py\", line 133, in plot_candle_from_symbol\n",
      "    plot_candle_form_klpd(kl_pd, day_sum, html_bk, view_index, save=save)\n",
      "  File \"D:\\sean.chen\\trader\\abu\\abupy\\MarketBu\\ABuMarketDrawing.py\", line 166, in plot_candle_form_klpd\n",
      "    fn, day_sum, html_bk, save)\n",
      "  File \"D:\\sean.chen\\trader\\abu\\abupy\\MarketBu\\ABuMarketDrawing.py\", line 188, in plot_candle_stick\n",
      "    _do_plot_candle(date, p_open, high, low, close, volume, view_index, symbol, day_sum, save, minute)\n",
      "  File \"D:\\sean.chen\\trader\\abu\\abupy\\MarketBu\\ABuMarketDrawing.py\", line 257, in _do_plot_candle\n",
      "    import matplotlib.date as mdf\n",
      "ModuleNotFoundError: No module named 'matplotlib.date'\n"
     ]
    },
    {
     "name": "stdout",
     "output_type": "stream",
     "text": [
      "tw_TWSE:2330\n"
     ]
    },
    {
     "name": "stderr",
     "output_type": "stream",
     "text": [
      "No module named 'matplotlib.date'\n",
      "Traceback (most recent call last):\n",
      "  File \"D:\\sean.chen\\trader\\abu\\abupy\\MarketBu\\ABuMarketDrawing.py\", line 252, in _do_plot_candle\n",
      "    import matplotlib.date as mdf\n",
      "ModuleNotFoundError: No module named 'matplotlib.date'\n",
      "\n",
      "During handling of the above exception, another exception occurred:\n",
      "\n",
      "Traceback (most recent call last):\n",
      "  File \"D:\\sean.chen\\trader\\abu\\abupy\\MarketBu\\ABuMarketDrawing.py\", line 92, in plot_from_series\n",
      "    view_index=view_index_inner, save=save)\n",
      "  File \"D:\\sean.chen\\trader\\abu\\abupy\\MarketBu\\ABuMarketDrawing.py\", line 133, in plot_candle_from_symbol\n",
      "    plot_candle_form_klpd(kl_pd, day_sum, html_bk, view_index, save=save)\n",
      "  File \"D:\\sean.chen\\trader\\abu\\abupy\\MarketBu\\ABuMarketDrawing.py\", line 166, in plot_candle_form_klpd\n",
      "    fn, day_sum, html_bk, save)\n",
      "  File \"D:\\sean.chen\\trader\\abu\\abupy\\MarketBu\\ABuMarketDrawing.py\", line 188, in plot_candle_stick\n",
      "    _do_plot_candle(date, p_open, high, low, close, volume, view_index, symbol, day_sum, save, minute)\n",
      "  File \"D:\\sean.chen\\trader\\abu\\abupy\\MarketBu\\ABuMarketDrawing.py\", line 257, in _do_plot_candle\n",
      "    import matplotlib.date as mdf\n",
      "ModuleNotFoundError: No module named 'matplotlib.date'\n"
     ]
    },
    {
     "name": "stdout",
     "output_type": "stream",
     "text": [
      "tw_TWSE:2330\n"
     ]
    },
    {
     "name": "stderr",
     "output_type": "stream",
     "text": [
      "No module named 'matplotlib.date'\n",
      "Traceback (most recent call last):\n",
      "  File \"D:\\sean.chen\\trader\\abu\\abupy\\MarketBu\\ABuMarketDrawing.py\", line 252, in _do_plot_candle\n",
      "    import matplotlib.date as mdf\n",
      "ModuleNotFoundError: No module named 'matplotlib.date'\n",
      "\n",
      "During handling of the above exception, another exception occurred:\n",
      "\n",
      "Traceback (most recent call last):\n",
      "  File \"D:\\sean.chen\\trader\\abu\\abupy\\MarketBu\\ABuMarketDrawing.py\", line 92, in plot_from_series\n",
      "    view_index=view_index_inner, save=save)\n",
      "  File \"D:\\sean.chen\\trader\\abu\\abupy\\MarketBu\\ABuMarketDrawing.py\", line 133, in plot_candle_from_symbol\n",
      "    plot_candle_form_klpd(kl_pd, day_sum, html_bk, view_index, save=save)\n",
      "  File \"D:\\sean.chen\\trader\\abu\\abupy\\MarketBu\\ABuMarketDrawing.py\", line 166, in plot_candle_form_klpd\n",
      "    fn, day_sum, html_bk, save)\n",
      "  File \"D:\\sean.chen\\trader\\abu\\abupy\\MarketBu\\ABuMarketDrawing.py\", line 188, in plot_candle_stick\n",
      "    _do_plot_candle(date, p_open, high, low, close, volume, view_index, symbol, day_sum, save, minute)\n",
      "  File \"D:\\sean.chen\\trader\\abu\\abupy\\MarketBu\\ABuMarketDrawing.py\", line 257, in _do_plot_candle\n",
      "    import matplotlib.date as mdf\n",
      "ModuleNotFoundError: No module named 'matplotlib.date'\n"
     ]
    },
    {
     "name": "stdout",
     "output_type": "stream",
     "text": [
      "tw_TWSE:2330\n"
     ]
    },
    {
     "name": "stderr",
     "output_type": "stream",
     "text": [
      "No module named 'matplotlib.date'\n",
      "Traceback (most recent call last):\n",
      "  File \"D:\\sean.chen\\trader\\abu\\abupy\\MarketBu\\ABuMarketDrawing.py\", line 252, in _do_plot_candle\n",
      "    import matplotlib.date as mdf\n",
      "ModuleNotFoundError: No module named 'matplotlib.date'\n",
      "\n",
      "During handling of the above exception, another exception occurred:\n",
      "\n",
      "Traceback (most recent call last):\n",
      "  File \"D:\\sean.chen\\trader\\abu\\abupy\\MarketBu\\ABuMarketDrawing.py\", line 92, in plot_from_series\n",
      "    view_index=view_index_inner, save=save)\n",
      "  File \"D:\\sean.chen\\trader\\abu\\abupy\\MarketBu\\ABuMarketDrawing.py\", line 133, in plot_candle_from_symbol\n",
      "    plot_candle_form_klpd(kl_pd, day_sum, html_bk, view_index, save=save)\n",
      "  File \"D:\\sean.chen\\trader\\abu\\abupy\\MarketBu\\ABuMarketDrawing.py\", line 166, in plot_candle_form_klpd\n",
      "    fn, day_sum, html_bk, save)\n",
      "  File \"D:\\sean.chen\\trader\\abu\\abupy\\MarketBu\\ABuMarketDrawing.py\", line 188, in plot_candle_stick\n",
      "    _do_plot_candle(date, p_open, high, low, close, volume, view_index, symbol, day_sum, save, minute)\n",
      "  File \"D:\\sean.chen\\trader\\abu\\abupy\\MarketBu\\ABuMarketDrawing.py\", line 257, in _do_plot_candle\n",
      "    import matplotlib.date as mdf\n",
      "ModuleNotFoundError: No module named 'matplotlib.date'\n"
     ]
    },
    {
     "name": "stdout",
     "output_type": "stream",
     "text": [
      "tw_TWSE:2330\n"
     ]
    },
    {
     "name": "stderr",
     "output_type": "stream",
     "text": [
      "No module named 'matplotlib.date'\n",
      "Traceback (most recent call last):\n",
      "  File \"D:\\sean.chen\\trader\\abu\\abupy\\MarketBu\\ABuMarketDrawing.py\", line 252, in _do_plot_candle\n",
      "    import matplotlib.date as mdf\n",
      "ModuleNotFoundError: No module named 'matplotlib.date'\n",
      "\n",
      "During handling of the above exception, another exception occurred:\n",
      "\n",
      "Traceback (most recent call last):\n",
      "  File \"D:\\sean.chen\\trader\\abu\\abupy\\MarketBu\\ABuMarketDrawing.py\", line 92, in plot_from_series\n",
      "    view_index=view_index_inner, save=save)\n",
      "  File \"D:\\sean.chen\\trader\\abu\\abupy\\MarketBu\\ABuMarketDrawing.py\", line 133, in plot_candle_from_symbol\n",
      "    plot_candle_form_klpd(kl_pd, day_sum, html_bk, view_index, save=save)\n",
      "  File \"D:\\sean.chen\\trader\\abu\\abupy\\MarketBu\\ABuMarketDrawing.py\", line 166, in plot_candle_form_klpd\n",
      "    fn, day_sum, html_bk, save)\n",
      "  File \"D:\\sean.chen\\trader\\abu\\abupy\\MarketBu\\ABuMarketDrawing.py\", line 188, in plot_candle_stick\n",
      "    _do_plot_candle(date, p_open, high, low, close, volume, view_index, symbol, day_sum, save, minute)\n",
      "  File \"D:\\sean.chen\\trader\\abu\\abupy\\MarketBu\\ABuMarketDrawing.py\", line 257, in _do_plot_candle\n",
      "    import matplotlib.date as mdf\n",
      "ModuleNotFoundError: No module named 'matplotlib.date'\n"
     ]
    },
    {
     "name": "stdout",
     "output_type": "stream",
     "text": [
      "tw_TWSE:2330\n"
     ]
    },
    {
     "name": "stderr",
     "output_type": "stream",
     "text": [
      "No module named 'matplotlib.date'\n",
      "Traceback (most recent call last):\n",
      "  File \"D:\\sean.chen\\trader\\abu\\abupy\\MarketBu\\ABuMarketDrawing.py\", line 252, in _do_plot_candle\n",
      "    import matplotlib.date as mdf\n",
      "ModuleNotFoundError: No module named 'matplotlib.date'\n",
      "\n",
      "During handling of the above exception, another exception occurred:\n",
      "\n",
      "Traceback (most recent call last):\n",
      "  File \"D:\\sean.chen\\trader\\abu\\abupy\\MarketBu\\ABuMarketDrawing.py\", line 92, in plot_from_series\n",
      "    view_index=view_index_inner, save=save)\n",
      "  File \"D:\\sean.chen\\trader\\abu\\abupy\\MarketBu\\ABuMarketDrawing.py\", line 133, in plot_candle_from_symbol\n",
      "    plot_candle_form_klpd(kl_pd, day_sum, html_bk, view_index, save=save)\n",
      "  File \"D:\\sean.chen\\trader\\abu\\abupy\\MarketBu\\ABuMarketDrawing.py\", line 166, in plot_candle_form_klpd\n",
      "    fn, day_sum, html_bk, save)\n",
      "  File \"D:\\sean.chen\\trader\\abu\\abupy\\MarketBu\\ABuMarketDrawing.py\", line 188, in plot_candle_stick\n",
      "    _do_plot_candle(date, p_open, high, low, close, volume, view_index, symbol, day_sum, save, minute)\n",
      "  File \"D:\\sean.chen\\trader\\abu\\abupy\\MarketBu\\ABuMarketDrawing.py\", line 257, in _do_plot_candle\n",
      "    import matplotlib.date as mdf\n",
      "ModuleNotFoundError: No module named 'matplotlib.date'\n"
     ]
    },
    {
     "name": "stdout",
     "output_type": "stream",
     "text": [
      "tw_TWSE:2330\n"
     ]
    },
    {
     "name": "stderr",
     "output_type": "stream",
     "text": [
      "No module named 'matplotlib.date'\n",
      "Traceback (most recent call last):\n",
      "  File \"D:\\sean.chen\\trader\\abu\\abupy\\MarketBu\\ABuMarketDrawing.py\", line 252, in _do_plot_candle\n",
      "    import matplotlib.date as mdf\n",
      "ModuleNotFoundError: No module named 'matplotlib.date'\n",
      "\n",
      "During handling of the above exception, another exception occurred:\n",
      "\n",
      "Traceback (most recent call last):\n",
      "  File \"D:\\sean.chen\\trader\\abu\\abupy\\MarketBu\\ABuMarketDrawing.py\", line 92, in plot_from_series\n",
      "    view_index=view_index_inner, save=save)\n",
      "  File \"D:\\sean.chen\\trader\\abu\\abupy\\MarketBu\\ABuMarketDrawing.py\", line 133, in plot_candle_from_symbol\n",
      "    plot_candle_form_klpd(kl_pd, day_sum, html_bk, view_index, save=save)\n",
      "  File \"D:\\sean.chen\\trader\\abu\\abupy\\MarketBu\\ABuMarketDrawing.py\", line 166, in plot_candle_form_klpd\n",
      "    fn, day_sum, html_bk, save)\n",
      "  File \"D:\\sean.chen\\trader\\abu\\abupy\\MarketBu\\ABuMarketDrawing.py\", line 188, in plot_candle_stick\n",
      "    _do_plot_candle(date, p_open, high, low, close, volume, view_index, symbol, day_sum, save, minute)\n",
      "  File \"D:\\sean.chen\\trader\\abu\\abupy\\MarketBu\\ABuMarketDrawing.py\", line 257, in _do_plot_candle\n",
      "    import matplotlib.date as mdf\n",
      "ModuleNotFoundError: No module named 'matplotlib.date'\n"
     ]
    },
    {
     "name": "stdout",
     "output_type": "stream",
     "text": [
      "tw_TWSE:2330\n"
     ]
    },
    {
     "name": "stderr",
     "output_type": "stream",
     "text": [
      "No module named 'matplotlib.date'\n",
      "Traceback (most recent call last):\n",
      "  File \"D:\\sean.chen\\trader\\abu\\abupy\\MarketBu\\ABuMarketDrawing.py\", line 252, in _do_plot_candle\n",
      "    import matplotlib.date as mdf\n",
      "ModuleNotFoundError: No module named 'matplotlib.date'\n",
      "\n",
      "During handling of the above exception, another exception occurred:\n",
      "\n",
      "Traceback (most recent call last):\n",
      "  File \"D:\\sean.chen\\trader\\abu\\abupy\\MarketBu\\ABuMarketDrawing.py\", line 92, in plot_from_series\n",
      "    view_index=view_index_inner, save=save)\n",
      "  File \"D:\\sean.chen\\trader\\abu\\abupy\\MarketBu\\ABuMarketDrawing.py\", line 133, in plot_candle_from_symbol\n",
      "    plot_candle_form_klpd(kl_pd, day_sum, html_bk, view_index, save=save)\n",
      "  File \"D:\\sean.chen\\trader\\abu\\abupy\\MarketBu\\ABuMarketDrawing.py\", line 166, in plot_candle_form_klpd\n",
      "    fn, day_sum, html_bk, save)\n",
      "  File \"D:\\sean.chen\\trader\\abu\\abupy\\MarketBu\\ABuMarketDrawing.py\", line 188, in plot_candle_stick\n",
      "    _do_plot_candle(date, p_open, high, low, close, volume, view_index, symbol, day_sum, save, minute)\n",
      "  File \"D:\\sean.chen\\trader\\abu\\abupy\\MarketBu\\ABuMarketDrawing.py\", line 257, in _do_plot_candle\n",
      "    import matplotlib.date as mdf\n",
      "ModuleNotFoundError: No module named 'matplotlib.date'\n"
     ]
    },
    {
     "name": "stdout",
     "output_type": "stream",
     "text": [
      "tw_TWSE:2330\n"
     ]
    },
    {
     "name": "stderr",
     "output_type": "stream",
     "text": [
      "No module named 'matplotlib.date'\n",
      "Traceback (most recent call last):\n",
      "  File \"D:\\sean.chen\\trader\\abu\\abupy\\MarketBu\\ABuMarketDrawing.py\", line 252, in _do_plot_candle\n",
      "    import matplotlib.date as mdf\n",
      "ModuleNotFoundError: No module named 'matplotlib.date'\n",
      "\n",
      "During handling of the above exception, another exception occurred:\n",
      "\n",
      "Traceback (most recent call last):\n",
      "  File \"D:\\sean.chen\\trader\\abu\\abupy\\MarketBu\\ABuMarketDrawing.py\", line 92, in plot_from_series\n",
      "    view_index=view_index_inner, save=save)\n",
      "  File \"D:\\sean.chen\\trader\\abu\\abupy\\MarketBu\\ABuMarketDrawing.py\", line 133, in plot_candle_from_symbol\n",
      "    plot_candle_form_klpd(kl_pd, day_sum, html_bk, view_index, save=save)\n",
      "  File \"D:\\sean.chen\\trader\\abu\\abupy\\MarketBu\\ABuMarketDrawing.py\", line 166, in plot_candle_form_klpd\n",
      "    fn, day_sum, html_bk, save)\n",
      "  File \"D:\\sean.chen\\trader\\abu\\abupy\\MarketBu\\ABuMarketDrawing.py\", line 188, in plot_candle_stick\n",
      "    _do_plot_candle(date, p_open, high, low, close, volume, view_index, symbol, day_sum, save, minute)\n",
      "  File \"D:\\sean.chen\\trader\\abu\\abupy\\MarketBu\\ABuMarketDrawing.py\", line 257, in _do_plot_candle\n",
      "    import matplotlib.date as mdf\n",
      "ModuleNotFoundError: No module named 'matplotlib.date'\n"
     ]
    },
    {
     "name": "stdout",
     "output_type": "stream",
     "text": [
      "tw_TWSE:2330\n"
     ]
    },
    {
     "name": "stderr",
     "output_type": "stream",
     "text": [
      "No module named 'matplotlib.date'\n",
      "Traceback (most recent call last):\n",
      "  File \"D:\\sean.chen\\trader\\abu\\abupy\\MarketBu\\ABuMarketDrawing.py\", line 252, in _do_plot_candle\n",
      "    import matplotlib.date as mdf\n",
      "ModuleNotFoundError: No module named 'matplotlib.date'\n",
      "\n",
      "During handling of the above exception, another exception occurred:\n",
      "\n",
      "Traceback (most recent call last):\n",
      "  File \"D:\\sean.chen\\trader\\abu\\abupy\\MarketBu\\ABuMarketDrawing.py\", line 92, in plot_from_series\n",
      "    view_index=view_index_inner, save=save)\n",
      "  File \"D:\\sean.chen\\trader\\abu\\abupy\\MarketBu\\ABuMarketDrawing.py\", line 133, in plot_candle_from_symbol\n",
      "    plot_candle_form_klpd(kl_pd, day_sum, html_bk, view_index, save=save)\n",
      "  File \"D:\\sean.chen\\trader\\abu\\abupy\\MarketBu\\ABuMarketDrawing.py\", line 166, in plot_candle_form_klpd\n",
      "    fn, day_sum, html_bk, save)\n",
      "  File \"D:\\sean.chen\\trader\\abu\\abupy\\MarketBu\\ABuMarketDrawing.py\", line 188, in plot_candle_stick\n",
      "    _do_plot_candle(date, p_open, high, low, close, volume, view_index, symbol, day_sum, save, minute)\n",
      "  File \"D:\\sean.chen\\trader\\abu\\abupy\\MarketBu\\ABuMarketDrawing.py\", line 257, in _do_plot_candle\n",
      "    import matplotlib.date as mdf\n",
      "ModuleNotFoundError: No module named 'matplotlib.date'\n"
     ]
    },
    {
     "name": "stdout",
     "output_type": "stream",
     "text": [
      "tw_TWSE:2330\n"
     ]
    },
    {
     "name": "stderr",
     "output_type": "stream",
     "text": [
      "No module named 'matplotlib.date'\n",
      "Traceback (most recent call last):\n",
      "  File \"D:\\sean.chen\\trader\\abu\\abupy\\MarketBu\\ABuMarketDrawing.py\", line 252, in _do_plot_candle\n",
      "    import matplotlib.date as mdf\n",
      "ModuleNotFoundError: No module named 'matplotlib.date'\n",
      "\n",
      "During handling of the above exception, another exception occurred:\n",
      "\n",
      "Traceback (most recent call last):\n",
      "  File \"D:\\sean.chen\\trader\\abu\\abupy\\MarketBu\\ABuMarketDrawing.py\", line 92, in plot_from_series\n",
      "    view_index=view_index_inner, save=save)\n",
      "  File \"D:\\sean.chen\\trader\\abu\\abupy\\MarketBu\\ABuMarketDrawing.py\", line 133, in plot_candle_from_symbol\n",
      "    plot_candle_form_klpd(kl_pd, day_sum, html_bk, view_index, save=save)\n",
      "  File \"D:\\sean.chen\\trader\\abu\\abupy\\MarketBu\\ABuMarketDrawing.py\", line 166, in plot_candle_form_klpd\n",
      "    fn, day_sum, html_bk, save)\n",
      "  File \"D:\\sean.chen\\trader\\abu\\abupy\\MarketBu\\ABuMarketDrawing.py\", line 188, in plot_candle_stick\n",
      "    _do_plot_candle(date, p_open, high, low, close, volume, view_index, symbol, day_sum, save, minute)\n",
      "  File \"D:\\sean.chen\\trader\\abu\\abupy\\MarketBu\\ABuMarketDrawing.py\", line 257, in _do_plot_candle\n",
      "    import matplotlib.date as mdf\n",
      "ModuleNotFoundError: No module named 'matplotlib.date'\n"
     ]
    },
    {
     "name": "stdout",
     "output_type": "stream",
     "text": [
      "tw_TWSE:2330\n"
     ]
    },
    {
     "name": "stderr",
     "output_type": "stream",
     "text": [
      "No module named 'matplotlib.date'\n",
      "Traceback (most recent call last):\n",
      "  File \"D:\\sean.chen\\trader\\abu\\abupy\\MarketBu\\ABuMarketDrawing.py\", line 252, in _do_plot_candle\n",
      "    import matplotlib.date as mdf\n",
      "ModuleNotFoundError: No module named 'matplotlib.date'\n",
      "\n",
      "During handling of the above exception, another exception occurred:\n",
      "\n",
      "Traceback (most recent call last):\n",
      "  File \"D:\\sean.chen\\trader\\abu\\abupy\\MarketBu\\ABuMarketDrawing.py\", line 92, in plot_from_series\n",
      "    view_index=view_index_inner, save=save)\n",
      "  File \"D:\\sean.chen\\trader\\abu\\abupy\\MarketBu\\ABuMarketDrawing.py\", line 133, in plot_candle_from_symbol\n",
      "    plot_candle_form_klpd(kl_pd, day_sum, html_bk, view_index, save=save)\n",
      "  File \"D:\\sean.chen\\trader\\abu\\abupy\\MarketBu\\ABuMarketDrawing.py\", line 166, in plot_candle_form_klpd\n",
      "    fn, day_sum, html_bk, save)\n",
      "  File \"D:\\sean.chen\\trader\\abu\\abupy\\MarketBu\\ABuMarketDrawing.py\", line 188, in plot_candle_stick\n",
      "    _do_plot_candle(date, p_open, high, low, close, volume, view_index, symbol, day_sum, save, minute)\n",
      "  File \"D:\\sean.chen\\trader\\abu\\abupy\\MarketBu\\ABuMarketDrawing.py\", line 257, in _do_plot_candle\n",
      "    import matplotlib.date as mdf\n",
      "ModuleNotFoundError: No module named 'matplotlib.date'\n"
     ]
    },
    {
     "name": "stdout",
     "output_type": "stream",
     "text": [
      "tw_TWSE:2330\n"
     ]
    },
    {
     "name": "stderr",
     "output_type": "stream",
     "text": [
      "No module named 'matplotlib.date'\n",
      "Traceback (most recent call last):\n",
      "  File \"D:\\sean.chen\\trader\\abu\\abupy\\MarketBu\\ABuMarketDrawing.py\", line 252, in _do_plot_candle\n",
      "    import matplotlib.date as mdf\n",
      "ModuleNotFoundError: No module named 'matplotlib.date'\n",
      "\n",
      "During handling of the above exception, another exception occurred:\n",
      "\n",
      "Traceback (most recent call last):\n",
      "  File \"D:\\sean.chen\\trader\\abu\\abupy\\MarketBu\\ABuMarketDrawing.py\", line 92, in plot_from_series\n",
      "    view_index=view_index_inner, save=save)\n",
      "  File \"D:\\sean.chen\\trader\\abu\\abupy\\MarketBu\\ABuMarketDrawing.py\", line 133, in plot_candle_from_symbol\n",
      "    plot_candle_form_klpd(kl_pd, day_sum, html_bk, view_index, save=save)\n",
      "  File \"D:\\sean.chen\\trader\\abu\\abupy\\MarketBu\\ABuMarketDrawing.py\", line 166, in plot_candle_form_klpd\n",
      "    fn, day_sum, html_bk, save)\n",
      "  File \"D:\\sean.chen\\trader\\abu\\abupy\\MarketBu\\ABuMarketDrawing.py\", line 188, in plot_candle_stick\n",
      "    _do_plot_candle(date, p_open, high, low, close, volume, view_index, symbol, day_sum, save, minute)\n",
      "  File \"D:\\sean.chen\\trader\\abu\\abupy\\MarketBu\\ABuMarketDrawing.py\", line 257, in _do_plot_candle\n",
      "    import matplotlib.date as mdf\n",
      "ModuleNotFoundError: No module named 'matplotlib.date'\n"
     ]
    },
    {
     "name": "stdout",
     "output_type": "stream",
     "text": [
      "tw_TWSE:2330\n"
     ]
    },
    {
     "name": "stderr",
     "output_type": "stream",
     "text": [
      "No module named 'matplotlib.date'\n",
      "Traceback (most recent call last):\n",
      "  File \"D:\\sean.chen\\trader\\abu\\abupy\\MarketBu\\ABuMarketDrawing.py\", line 252, in _do_plot_candle\n",
      "    import matplotlib.date as mdf\n",
      "ModuleNotFoundError: No module named 'matplotlib.date'\n",
      "\n",
      "During handling of the above exception, another exception occurred:\n",
      "\n",
      "Traceback (most recent call last):\n",
      "  File \"D:\\sean.chen\\trader\\abu\\abupy\\MarketBu\\ABuMarketDrawing.py\", line 92, in plot_from_series\n",
      "    view_index=view_index_inner, save=save)\n",
      "  File \"D:\\sean.chen\\trader\\abu\\abupy\\MarketBu\\ABuMarketDrawing.py\", line 133, in plot_candle_from_symbol\n",
      "    plot_candle_form_klpd(kl_pd, day_sum, html_bk, view_index, save=save)\n",
      "  File \"D:\\sean.chen\\trader\\abu\\abupy\\MarketBu\\ABuMarketDrawing.py\", line 166, in plot_candle_form_klpd\n",
      "    fn, day_sum, html_bk, save)\n",
      "  File \"D:\\sean.chen\\trader\\abu\\abupy\\MarketBu\\ABuMarketDrawing.py\", line 188, in plot_candle_stick\n",
      "    _do_plot_candle(date, p_open, high, low, close, volume, view_index, symbol, day_sum, save, minute)\n",
      "  File \"D:\\sean.chen\\trader\\abu\\abupy\\MarketBu\\ABuMarketDrawing.py\", line 257, in _do_plot_candle\n",
      "    import matplotlib.date as mdf\n",
      "ModuleNotFoundError: No module named 'matplotlib.date'\n"
     ]
    },
    {
     "name": "stdout",
     "output_type": "stream",
     "text": [
      "tw_TWSE:2330\n"
     ]
    },
    {
     "name": "stderr",
     "output_type": "stream",
     "text": [
      "No module named 'matplotlib.date'\n",
      "Traceback (most recent call last):\n",
      "  File \"D:\\sean.chen\\trader\\abu\\abupy\\MarketBu\\ABuMarketDrawing.py\", line 252, in _do_plot_candle\n",
      "    import matplotlib.date as mdf\n",
      "ModuleNotFoundError: No module named 'matplotlib.date'\n",
      "\n",
      "During handling of the above exception, another exception occurred:\n",
      "\n",
      "Traceback (most recent call last):\n",
      "  File \"D:\\sean.chen\\trader\\abu\\abupy\\MarketBu\\ABuMarketDrawing.py\", line 92, in plot_from_series\n",
      "    view_index=view_index_inner, save=save)\n",
      "  File \"D:\\sean.chen\\trader\\abu\\abupy\\MarketBu\\ABuMarketDrawing.py\", line 133, in plot_candle_from_symbol\n",
      "    plot_candle_form_klpd(kl_pd, day_sum, html_bk, view_index, save=save)\n",
      "  File \"D:\\sean.chen\\trader\\abu\\abupy\\MarketBu\\ABuMarketDrawing.py\", line 166, in plot_candle_form_klpd\n",
      "    fn, day_sum, html_bk, save)\n",
      "  File \"D:\\sean.chen\\trader\\abu\\abupy\\MarketBu\\ABuMarketDrawing.py\", line 188, in plot_candle_stick\n",
      "    _do_plot_candle(date, p_open, high, low, close, volume, view_index, symbol, day_sum, save, minute)\n",
      "  File \"D:\\sean.chen\\trader\\abu\\abupy\\MarketBu\\ABuMarketDrawing.py\", line 257, in _do_plot_candle\n",
      "    import matplotlib.date as mdf\n",
      "ModuleNotFoundError: No module named 'matplotlib.date'\n"
     ]
    },
    {
     "name": "stdout",
     "output_type": "stream",
     "text": [
      "tw_TWSE:2330\n"
     ]
    },
    {
     "name": "stderr",
     "output_type": "stream",
     "text": [
      "No module named 'matplotlib.date'\n",
      "Traceback (most recent call last):\n",
      "  File \"D:\\sean.chen\\trader\\abu\\abupy\\MarketBu\\ABuMarketDrawing.py\", line 252, in _do_plot_candle\n",
      "    import matplotlib.date as mdf\n",
      "ModuleNotFoundError: No module named 'matplotlib.date'\n",
      "\n",
      "During handling of the above exception, another exception occurred:\n",
      "\n",
      "Traceback (most recent call last):\n",
      "  File \"D:\\sean.chen\\trader\\abu\\abupy\\MarketBu\\ABuMarketDrawing.py\", line 92, in plot_from_series\n",
      "    view_index=view_index_inner, save=save)\n",
      "  File \"D:\\sean.chen\\trader\\abu\\abupy\\MarketBu\\ABuMarketDrawing.py\", line 133, in plot_candle_from_symbol\n",
      "    plot_candle_form_klpd(kl_pd, day_sum, html_bk, view_index, save=save)\n",
      "  File \"D:\\sean.chen\\trader\\abu\\abupy\\MarketBu\\ABuMarketDrawing.py\", line 166, in plot_candle_form_klpd\n",
      "    fn, day_sum, html_bk, save)\n",
      "  File \"D:\\sean.chen\\trader\\abu\\abupy\\MarketBu\\ABuMarketDrawing.py\", line 188, in plot_candle_stick\n",
      "    _do_plot_candle(date, p_open, high, low, close, volume, view_index, symbol, day_sum, save, minute)\n",
      "  File \"D:\\sean.chen\\trader\\abu\\abupy\\MarketBu\\ABuMarketDrawing.py\", line 257, in _do_plot_candle\n",
      "    import matplotlib.date as mdf\n",
      "ModuleNotFoundError: No module named 'matplotlib.date'\n"
     ]
    },
    {
     "name": "stdout",
     "output_type": "stream",
     "text": [
      "tw_TWSE:2330\n"
     ]
    },
    {
     "name": "stderr",
     "output_type": "stream",
     "text": [
      "No module named 'matplotlib.date'\n",
      "Traceback (most recent call last):\n",
      "  File \"D:\\sean.chen\\trader\\abu\\abupy\\MarketBu\\ABuMarketDrawing.py\", line 252, in _do_plot_candle\n",
      "    import matplotlib.date as mdf\n",
      "ModuleNotFoundError: No module named 'matplotlib.date'\n",
      "\n",
      "During handling of the above exception, another exception occurred:\n",
      "\n",
      "Traceback (most recent call last):\n",
      "  File \"D:\\sean.chen\\trader\\abu\\abupy\\MarketBu\\ABuMarketDrawing.py\", line 92, in plot_from_series\n",
      "    view_index=view_index_inner, save=save)\n",
      "  File \"D:\\sean.chen\\trader\\abu\\abupy\\MarketBu\\ABuMarketDrawing.py\", line 133, in plot_candle_from_symbol\n",
      "    plot_candle_form_klpd(kl_pd, day_sum, html_bk, view_index, save=save)\n",
      "  File \"D:\\sean.chen\\trader\\abu\\abupy\\MarketBu\\ABuMarketDrawing.py\", line 166, in plot_candle_form_klpd\n",
      "    fn, day_sum, html_bk, save)\n",
      "  File \"D:\\sean.chen\\trader\\abu\\abupy\\MarketBu\\ABuMarketDrawing.py\", line 188, in plot_candle_stick\n",
      "    _do_plot_candle(date, p_open, high, low, close, volume, view_index, symbol, day_sum, save, minute)\n",
      "  File \"D:\\sean.chen\\trader\\abu\\abupy\\MarketBu\\ABuMarketDrawing.py\", line 257, in _do_plot_candle\n",
      "    import matplotlib.date as mdf\n",
      "ModuleNotFoundError: No module named 'matplotlib.date'\n"
     ]
    },
    {
     "name": "stdout",
     "output_type": "stream",
     "text": [
      "tw_TWSE:2330\n"
     ]
    },
    {
     "name": "stderr",
     "output_type": "stream",
     "text": [
      "No module named 'matplotlib.date'\n",
      "Traceback (most recent call last):\n",
      "  File \"D:\\sean.chen\\trader\\abu\\abupy\\MarketBu\\ABuMarketDrawing.py\", line 252, in _do_plot_candle\n",
      "    import matplotlib.date as mdf\n",
      "ModuleNotFoundError: No module named 'matplotlib.date'\n",
      "\n",
      "During handling of the above exception, another exception occurred:\n",
      "\n",
      "Traceback (most recent call last):\n",
      "  File \"D:\\sean.chen\\trader\\abu\\abupy\\MarketBu\\ABuMarketDrawing.py\", line 92, in plot_from_series\n",
      "    view_index=view_index_inner, save=save)\n",
      "  File \"D:\\sean.chen\\trader\\abu\\abupy\\MarketBu\\ABuMarketDrawing.py\", line 133, in plot_candle_from_symbol\n",
      "    plot_candle_form_klpd(kl_pd, day_sum, html_bk, view_index, save=save)\n",
      "  File \"D:\\sean.chen\\trader\\abu\\abupy\\MarketBu\\ABuMarketDrawing.py\", line 166, in plot_candle_form_klpd\n",
      "    fn, day_sum, html_bk, save)\n",
      "  File \"D:\\sean.chen\\trader\\abu\\abupy\\MarketBu\\ABuMarketDrawing.py\", line 188, in plot_candle_stick\n",
      "    _do_plot_candle(date, p_open, high, low, close, volume, view_index, symbol, day_sum, save, minute)\n",
      "  File \"D:\\sean.chen\\trader\\abu\\abupy\\MarketBu\\ABuMarketDrawing.py\", line 257, in _do_plot_candle\n",
      "    import matplotlib.date as mdf\n",
      "ModuleNotFoundError: No module named 'matplotlib.date'\n"
     ]
    },
    {
     "name": "stdout",
     "output_type": "stream",
     "text": [
      "tw_TWSE:2330\n"
     ]
    },
    {
     "name": "stderr",
     "output_type": "stream",
     "text": [
      "No module named 'matplotlib.date'\n",
      "Traceback (most recent call last):\n",
      "  File \"D:\\sean.chen\\trader\\abu\\abupy\\MarketBu\\ABuMarketDrawing.py\", line 252, in _do_plot_candle\n",
      "    import matplotlib.date as mdf\n",
      "ModuleNotFoundError: No module named 'matplotlib.date'\n",
      "\n",
      "During handling of the above exception, another exception occurred:\n",
      "\n",
      "Traceback (most recent call last):\n",
      "  File \"D:\\sean.chen\\trader\\abu\\abupy\\MarketBu\\ABuMarketDrawing.py\", line 92, in plot_from_series\n",
      "    view_index=view_index_inner, save=save)\n",
      "  File \"D:\\sean.chen\\trader\\abu\\abupy\\MarketBu\\ABuMarketDrawing.py\", line 133, in plot_candle_from_symbol\n",
      "    plot_candle_form_klpd(kl_pd, day_sum, html_bk, view_index, save=save)\n",
      "  File \"D:\\sean.chen\\trader\\abu\\abupy\\MarketBu\\ABuMarketDrawing.py\", line 166, in plot_candle_form_klpd\n",
      "    fn, day_sum, html_bk, save)\n",
      "  File \"D:\\sean.chen\\trader\\abu\\abupy\\MarketBu\\ABuMarketDrawing.py\", line 188, in plot_candle_stick\n",
      "    _do_plot_candle(date, p_open, high, low, close, volume, view_index, symbol, day_sum, save, minute)\n",
      "  File \"D:\\sean.chen\\trader\\abu\\abupy\\MarketBu\\ABuMarketDrawing.py\", line 257, in _do_plot_candle\n",
      "    import matplotlib.date as mdf\n",
      "ModuleNotFoundError: No module named 'matplotlib.date'\n"
     ]
    },
    {
     "name": "stdout",
     "output_type": "stream",
     "text": [
      "tw_TWSE:2330\n"
     ]
    },
    {
     "name": "stderr",
     "output_type": "stream",
     "text": [
      "No module named 'matplotlib.date'\n",
      "Traceback (most recent call last):\n",
      "  File \"D:\\sean.chen\\trader\\abu\\abupy\\MarketBu\\ABuMarketDrawing.py\", line 252, in _do_plot_candle\n",
      "    import matplotlib.date as mdf\n",
      "ModuleNotFoundError: No module named 'matplotlib.date'\n",
      "\n",
      "During handling of the above exception, another exception occurred:\n",
      "\n",
      "Traceback (most recent call last):\n",
      "  File \"D:\\sean.chen\\trader\\abu\\abupy\\MarketBu\\ABuMarketDrawing.py\", line 92, in plot_from_series\n",
      "    view_index=view_index_inner, save=save)\n",
      "  File \"D:\\sean.chen\\trader\\abu\\abupy\\MarketBu\\ABuMarketDrawing.py\", line 133, in plot_candle_from_symbol\n",
      "    plot_candle_form_klpd(kl_pd, day_sum, html_bk, view_index, save=save)\n",
      "  File \"D:\\sean.chen\\trader\\abu\\abupy\\MarketBu\\ABuMarketDrawing.py\", line 166, in plot_candle_form_klpd\n",
      "    fn, day_sum, html_bk, save)\n",
      "  File \"D:\\sean.chen\\trader\\abu\\abupy\\MarketBu\\ABuMarketDrawing.py\", line 188, in plot_candle_stick\n",
      "    _do_plot_candle(date, p_open, high, low, close, volume, view_index, symbol, day_sum, save, minute)\n",
      "  File \"D:\\sean.chen\\trader\\abu\\abupy\\MarketBu\\ABuMarketDrawing.py\", line 257, in _do_plot_candle\n",
      "    import matplotlib.date as mdf\n",
      "ModuleNotFoundError: No module named 'matplotlib.date'\n"
     ]
    },
    {
     "name": "stdout",
     "output_type": "stream",
     "text": [
      "tw_TWSE:2330\n"
     ]
    },
    {
     "name": "stderr",
     "output_type": "stream",
     "text": [
      "No module named 'matplotlib.date'\n",
      "Traceback (most recent call last):\n",
      "  File \"D:\\sean.chen\\trader\\abu\\abupy\\MarketBu\\ABuMarketDrawing.py\", line 252, in _do_plot_candle\n",
      "    import matplotlib.date as mdf\n",
      "ModuleNotFoundError: No module named 'matplotlib.date'\n",
      "\n",
      "During handling of the above exception, another exception occurred:\n",
      "\n",
      "Traceback (most recent call last):\n",
      "  File \"D:\\sean.chen\\trader\\abu\\abupy\\MarketBu\\ABuMarketDrawing.py\", line 92, in plot_from_series\n",
      "    view_index=view_index_inner, save=save)\n",
      "  File \"D:\\sean.chen\\trader\\abu\\abupy\\MarketBu\\ABuMarketDrawing.py\", line 133, in plot_candle_from_symbol\n",
      "    plot_candle_form_klpd(kl_pd, day_sum, html_bk, view_index, save=save)\n",
      "  File \"D:\\sean.chen\\trader\\abu\\abupy\\MarketBu\\ABuMarketDrawing.py\", line 166, in plot_candle_form_klpd\n",
      "    fn, day_sum, html_bk, save)\n",
      "  File \"D:\\sean.chen\\trader\\abu\\abupy\\MarketBu\\ABuMarketDrawing.py\", line 188, in plot_candle_stick\n",
      "    _do_plot_candle(date, p_open, high, low, close, volume, view_index, symbol, day_sum, save, minute)\n",
      "  File \"D:\\sean.chen\\trader\\abu\\abupy\\MarketBu\\ABuMarketDrawing.py\", line 257, in _do_plot_candle\n",
      "    import matplotlib.date as mdf\n",
      "ModuleNotFoundError: No module named 'matplotlib.date'\n"
     ]
    },
    {
     "name": "stdout",
     "output_type": "stream",
     "text": [
      "tw_TWSE:2330\n"
     ]
    },
    {
     "name": "stderr",
     "output_type": "stream",
     "text": [
      "No module named 'matplotlib.date'\n",
      "Traceback (most recent call last):\n",
      "  File \"D:\\sean.chen\\trader\\abu\\abupy\\MarketBu\\ABuMarketDrawing.py\", line 252, in _do_plot_candle\n",
      "    import matplotlib.date as mdf\n",
      "ModuleNotFoundError: No module named 'matplotlib.date'\n",
      "\n",
      "During handling of the above exception, another exception occurred:\n",
      "\n",
      "Traceback (most recent call last):\n",
      "  File \"D:\\sean.chen\\trader\\abu\\abupy\\MarketBu\\ABuMarketDrawing.py\", line 92, in plot_from_series\n",
      "    view_index=view_index_inner, save=save)\n",
      "  File \"D:\\sean.chen\\trader\\abu\\abupy\\MarketBu\\ABuMarketDrawing.py\", line 133, in plot_candle_from_symbol\n",
      "    plot_candle_form_klpd(kl_pd, day_sum, html_bk, view_index, save=save)\n",
      "  File \"D:\\sean.chen\\trader\\abu\\abupy\\MarketBu\\ABuMarketDrawing.py\", line 166, in plot_candle_form_klpd\n",
      "    fn, day_sum, html_bk, save)\n",
      "  File \"D:\\sean.chen\\trader\\abu\\abupy\\MarketBu\\ABuMarketDrawing.py\", line 188, in plot_candle_stick\n",
      "    _do_plot_candle(date, p_open, high, low, close, volume, view_index, symbol, day_sum, save, minute)\n",
      "  File \"D:\\sean.chen\\trader\\abu\\abupy\\MarketBu\\ABuMarketDrawing.py\", line 257, in _do_plot_candle\n",
      "    import matplotlib.date as mdf\n",
      "ModuleNotFoundError: No module named 'matplotlib.date'\n"
     ]
    },
    {
     "name": "stdout",
     "output_type": "stream",
     "text": [
      "tw_TWSE:2330\n"
     ]
    },
    {
     "name": "stderr",
     "output_type": "stream",
     "text": [
      "No module named 'matplotlib.date'\n",
      "Traceback (most recent call last):\n",
      "  File \"D:\\sean.chen\\trader\\abu\\abupy\\MarketBu\\ABuMarketDrawing.py\", line 252, in _do_plot_candle\n",
      "    import matplotlib.date as mdf\n",
      "ModuleNotFoundError: No module named 'matplotlib.date'\n",
      "\n",
      "During handling of the above exception, another exception occurred:\n",
      "\n",
      "Traceback (most recent call last):\n",
      "  File \"D:\\sean.chen\\trader\\abu\\abupy\\MarketBu\\ABuMarketDrawing.py\", line 92, in plot_from_series\n",
      "    view_index=view_index_inner, save=save)\n",
      "  File \"D:\\sean.chen\\trader\\abu\\abupy\\MarketBu\\ABuMarketDrawing.py\", line 133, in plot_candle_from_symbol\n",
      "    plot_candle_form_klpd(kl_pd, day_sum, html_bk, view_index, save=save)\n",
      "  File \"D:\\sean.chen\\trader\\abu\\abupy\\MarketBu\\ABuMarketDrawing.py\", line 166, in plot_candle_form_klpd\n",
      "    fn, day_sum, html_bk, save)\n",
      "  File \"D:\\sean.chen\\trader\\abu\\abupy\\MarketBu\\ABuMarketDrawing.py\", line 188, in plot_candle_stick\n",
      "    _do_plot_candle(date, p_open, high, low, close, volume, view_index, symbol, day_sum, save, minute)\n",
      "  File \"D:\\sean.chen\\trader\\abu\\abupy\\MarketBu\\ABuMarketDrawing.py\", line 257, in _do_plot_candle\n",
      "    import matplotlib.date as mdf\n",
      "ModuleNotFoundError: No module named 'matplotlib.date'\n"
     ]
    },
    {
     "name": "stdout",
     "output_type": "stream",
     "text": [
      "tw_TWSE:2330\n"
     ]
    },
    {
     "name": "stderr",
     "output_type": "stream",
     "text": [
      "No module named 'matplotlib.date'\n",
      "Traceback (most recent call last):\n",
      "  File \"D:\\sean.chen\\trader\\abu\\abupy\\MarketBu\\ABuMarketDrawing.py\", line 252, in _do_plot_candle\n",
      "    import matplotlib.date as mdf\n",
      "ModuleNotFoundError: No module named 'matplotlib.date'\n",
      "\n",
      "During handling of the above exception, another exception occurred:\n",
      "\n",
      "Traceback (most recent call last):\n",
      "  File \"D:\\sean.chen\\trader\\abu\\abupy\\MarketBu\\ABuMarketDrawing.py\", line 92, in plot_from_series\n",
      "    view_index=view_index_inner, save=save)\n",
      "  File \"D:\\sean.chen\\trader\\abu\\abupy\\MarketBu\\ABuMarketDrawing.py\", line 133, in plot_candle_from_symbol\n",
      "    plot_candle_form_klpd(kl_pd, day_sum, html_bk, view_index, save=save)\n",
      "  File \"D:\\sean.chen\\trader\\abu\\abupy\\MarketBu\\ABuMarketDrawing.py\", line 166, in plot_candle_form_klpd\n",
      "    fn, day_sum, html_bk, save)\n",
      "  File \"D:\\sean.chen\\trader\\abu\\abupy\\MarketBu\\ABuMarketDrawing.py\", line 188, in plot_candle_stick\n",
      "    _do_plot_candle(date, p_open, high, low, close, volume, view_index, symbol, day_sum, save, minute)\n",
      "  File \"D:\\sean.chen\\trader\\abu\\abupy\\MarketBu\\ABuMarketDrawing.py\", line 257, in _do_plot_candle\n",
      "    import matplotlib.date as mdf\n",
      "ModuleNotFoundError: No module named 'matplotlib.date'\n"
     ]
    },
    {
     "name": "stdout",
     "output_type": "stream",
     "text": [
      "tw_TWSE:2330\n"
     ]
    },
    {
     "name": "stderr",
     "output_type": "stream",
     "text": [
      "No module named 'matplotlib.date'\n",
      "Traceback (most recent call last):\n",
      "  File \"D:\\sean.chen\\trader\\abu\\abupy\\MarketBu\\ABuMarketDrawing.py\", line 252, in _do_plot_candle\n",
      "    import matplotlib.date as mdf\n",
      "ModuleNotFoundError: No module named 'matplotlib.date'\n",
      "\n",
      "During handling of the above exception, another exception occurred:\n",
      "\n",
      "Traceback (most recent call last):\n",
      "  File \"D:\\sean.chen\\trader\\abu\\abupy\\MarketBu\\ABuMarketDrawing.py\", line 92, in plot_from_series\n",
      "    view_index=view_index_inner, save=save)\n",
      "  File \"D:\\sean.chen\\trader\\abu\\abupy\\MarketBu\\ABuMarketDrawing.py\", line 133, in plot_candle_from_symbol\n",
      "    plot_candle_form_klpd(kl_pd, day_sum, html_bk, view_index, save=save)\n",
      "  File \"D:\\sean.chen\\trader\\abu\\abupy\\MarketBu\\ABuMarketDrawing.py\", line 166, in plot_candle_form_klpd\n",
      "    fn, day_sum, html_bk, save)\n",
      "  File \"D:\\sean.chen\\trader\\abu\\abupy\\MarketBu\\ABuMarketDrawing.py\", line 188, in plot_candle_stick\n",
      "    _do_plot_candle(date, p_open, high, low, close, volume, view_index, symbol, day_sum, save, minute)\n",
      "  File \"D:\\sean.chen\\trader\\abu\\abupy\\MarketBu\\ABuMarketDrawing.py\", line 257, in _do_plot_candle\n",
      "    import matplotlib.date as mdf\n",
      "ModuleNotFoundError: No module named 'matplotlib.date'\n"
     ]
    },
    {
     "name": "stdout",
     "output_type": "stream",
     "text": [
      "tw_TWSE:2330\n"
     ]
    },
    {
     "name": "stderr",
     "output_type": "stream",
     "text": [
      "No module named 'matplotlib.date'\n",
      "Traceback (most recent call last):\n",
      "  File \"D:\\sean.chen\\trader\\abu\\abupy\\MarketBu\\ABuMarketDrawing.py\", line 252, in _do_plot_candle\n",
      "    import matplotlib.date as mdf\n",
      "ModuleNotFoundError: No module named 'matplotlib.date'\n",
      "\n",
      "During handling of the above exception, another exception occurred:\n",
      "\n",
      "Traceback (most recent call last):\n",
      "  File \"D:\\sean.chen\\trader\\abu\\abupy\\MarketBu\\ABuMarketDrawing.py\", line 92, in plot_from_series\n",
      "    view_index=view_index_inner, save=save)\n",
      "  File \"D:\\sean.chen\\trader\\abu\\abupy\\MarketBu\\ABuMarketDrawing.py\", line 133, in plot_candle_from_symbol\n",
      "    plot_candle_form_klpd(kl_pd, day_sum, html_bk, view_index, save=save)\n",
      "  File \"D:\\sean.chen\\trader\\abu\\abupy\\MarketBu\\ABuMarketDrawing.py\", line 166, in plot_candle_form_klpd\n",
      "    fn, day_sum, html_bk, save)\n",
      "  File \"D:\\sean.chen\\trader\\abu\\abupy\\MarketBu\\ABuMarketDrawing.py\", line 188, in plot_candle_stick\n",
      "    _do_plot_candle(date, p_open, high, low, close, volume, view_index, symbol, day_sum, save, minute)\n",
      "  File \"D:\\sean.chen\\trader\\abu\\abupy\\MarketBu\\ABuMarketDrawing.py\", line 257, in _do_plot_candle\n",
      "    import matplotlib.date as mdf\n",
      "ModuleNotFoundError: No module named 'matplotlib.date'\n"
     ]
    },
    {
     "name": "stdout",
     "output_type": "stream",
     "text": [
      "tw_TWSE:2330\n"
     ]
    },
    {
     "name": "stderr",
     "output_type": "stream",
     "text": [
      "No module named 'matplotlib.date'\n",
      "Traceback (most recent call last):\n",
      "  File \"D:\\sean.chen\\trader\\abu\\abupy\\MarketBu\\ABuMarketDrawing.py\", line 252, in _do_plot_candle\n",
      "    import matplotlib.date as mdf\n",
      "ModuleNotFoundError: No module named 'matplotlib.date'\n",
      "\n",
      "During handling of the above exception, another exception occurred:\n",
      "\n",
      "Traceback (most recent call last):\n",
      "  File \"D:\\sean.chen\\trader\\abu\\abupy\\MarketBu\\ABuMarketDrawing.py\", line 92, in plot_from_series\n",
      "    view_index=view_index_inner, save=save)\n",
      "  File \"D:\\sean.chen\\trader\\abu\\abupy\\MarketBu\\ABuMarketDrawing.py\", line 133, in plot_candle_from_symbol\n",
      "    plot_candle_form_klpd(kl_pd, day_sum, html_bk, view_index, save=save)\n",
      "  File \"D:\\sean.chen\\trader\\abu\\abupy\\MarketBu\\ABuMarketDrawing.py\", line 166, in plot_candle_form_klpd\n",
      "    fn, day_sum, html_bk, save)\n",
      "  File \"D:\\sean.chen\\trader\\abu\\abupy\\MarketBu\\ABuMarketDrawing.py\", line 188, in plot_candle_stick\n",
      "    _do_plot_candle(date, p_open, high, low, close, volume, view_index, symbol, day_sum, save, minute)\n",
      "  File \"D:\\sean.chen\\trader\\abu\\abupy\\MarketBu\\ABuMarketDrawing.py\", line 257, in _do_plot_candle\n",
      "    import matplotlib.date as mdf\n",
      "ModuleNotFoundError: No module named 'matplotlib.date'\n"
     ]
    },
    {
     "name": "stdout",
     "output_type": "stream",
     "text": [
      "tw_TWSE:2330\n"
     ]
    },
    {
     "name": "stderr",
     "output_type": "stream",
     "text": [
      "No module named 'matplotlib.date'\n",
      "Traceback (most recent call last):\n",
      "  File \"D:\\sean.chen\\trader\\abu\\abupy\\MarketBu\\ABuMarketDrawing.py\", line 252, in _do_plot_candle\n",
      "    import matplotlib.date as mdf\n",
      "ModuleNotFoundError: No module named 'matplotlib.date'\n",
      "\n",
      "During handling of the above exception, another exception occurred:\n",
      "\n",
      "Traceback (most recent call last):\n",
      "  File \"D:\\sean.chen\\trader\\abu\\abupy\\MarketBu\\ABuMarketDrawing.py\", line 92, in plot_from_series\n",
      "    view_index=view_index_inner, save=save)\n",
      "  File \"D:\\sean.chen\\trader\\abu\\abupy\\MarketBu\\ABuMarketDrawing.py\", line 133, in plot_candle_from_symbol\n",
      "    plot_candle_form_klpd(kl_pd, day_sum, html_bk, view_index, save=save)\n",
      "  File \"D:\\sean.chen\\trader\\abu\\abupy\\MarketBu\\ABuMarketDrawing.py\", line 166, in plot_candle_form_klpd\n",
      "    fn, day_sum, html_bk, save)\n",
      "  File \"D:\\sean.chen\\trader\\abu\\abupy\\MarketBu\\ABuMarketDrawing.py\", line 188, in plot_candle_stick\n",
      "    _do_plot_candle(date, p_open, high, low, close, volume, view_index, symbol, day_sum, save, minute)\n",
      "  File \"D:\\sean.chen\\trader\\abu\\abupy\\MarketBu\\ABuMarketDrawing.py\", line 257, in _do_plot_candle\n",
      "    import matplotlib.date as mdf\n",
      "ModuleNotFoundError: No module named 'matplotlib.date'\n"
     ]
    },
    {
     "name": "stdout",
     "output_type": "stream",
     "text": [
      "tw_TWSE:2330\n"
     ]
    },
    {
     "name": "stderr",
     "output_type": "stream",
     "text": [
      "No module named 'matplotlib.date'\n",
      "Traceback (most recent call last):\n",
      "  File \"D:\\sean.chen\\trader\\abu\\abupy\\MarketBu\\ABuMarketDrawing.py\", line 252, in _do_plot_candle\n",
      "    import matplotlib.date as mdf\n",
      "ModuleNotFoundError: No module named 'matplotlib.date'\n",
      "\n",
      "During handling of the above exception, another exception occurred:\n",
      "\n",
      "Traceback (most recent call last):\n",
      "  File \"D:\\sean.chen\\trader\\abu\\abupy\\MarketBu\\ABuMarketDrawing.py\", line 92, in plot_from_series\n",
      "    view_index=view_index_inner, save=save)\n",
      "  File \"D:\\sean.chen\\trader\\abu\\abupy\\MarketBu\\ABuMarketDrawing.py\", line 133, in plot_candle_from_symbol\n",
      "    plot_candle_form_klpd(kl_pd, day_sum, html_bk, view_index, save=save)\n",
      "  File \"D:\\sean.chen\\trader\\abu\\abupy\\MarketBu\\ABuMarketDrawing.py\", line 166, in plot_candle_form_klpd\n",
      "    fn, day_sum, html_bk, save)\n",
      "  File \"D:\\sean.chen\\trader\\abu\\abupy\\MarketBu\\ABuMarketDrawing.py\", line 188, in plot_candle_stick\n",
      "    _do_plot_candle(date, p_open, high, low, close, volume, view_index, symbol, day_sum, save, minute)\n",
      "  File \"D:\\sean.chen\\trader\\abu\\abupy\\MarketBu\\ABuMarketDrawing.py\", line 257, in _do_plot_candle\n",
      "    import matplotlib.date as mdf\n",
      "ModuleNotFoundError: No module named 'matplotlib.date'\n"
     ]
    },
    {
     "name": "stdout",
     "output_type": "stream",
     "text": [
      "tw_TWSE:2330\n"
     ]
    },
    {
     "name": "stderr",
     "output_type": "stream",
     "text": [
      "No module named 'matplotlib.date'\n",
      "Traceback (most recent call last):\n",
      "  File \"D:\\sean.chen\\trader\\abu\\abupy\\MarketBu\\ABuMarketDrawing.py\", line 252, in _do_plot_candle\n",
      "    import matplotlib.date as mdf\n",
      "ModuleNotFoundError: No module named 'matplotlib.date'\n",
      "\n",
      "During handling of the above exception, another exception occurred:\n",
      "\n",
      "Traceback (most recent call last):\n",
      "  File \"D:\\sean.chen\\trader\\abu\\abupy\\MarketBu\\ABuMarketDrawing.py\", line 92, in plot_from_series\n",
      "    view_index=view_index_inner, save=save)\n",
      "  File \"D:\\sean.chen\\trader\\abu\\abupy\\MarketBu\\ABuMarketDrawing.py\", line 133, in plot_candle_from_symbol\n",
      "    plot_candle_form_klpd(kl_pd, day_sum, html_bk, view_index, save=save)\n",
      "  File \"D:\\sean.chen\\trader\\abu\\abupy\\MarketBu\\ABuMarketDrawing.py\", line 166, in plot_candle_form_klpd\n",
      "    fn, day_sum, html_bk, save)\n",
      "  File \"D:\\sean.chen\\trader\\abu\\abupy\\MarketBu\\ABuMarketDrawing.py\", line 188, in plot_candle_stick\n",
      "    _do_plot_candle(date, p_open, high, low, close, volume, view_index, symbol, day_sum, save, minute)\n",
      "  File \"D:\\sean.chen\\trader\\abu\\abupy\\MarketBu\\ABuMarketDrawing.py\", line 257, in _do_plot_candle\n",
      "    import matplotlib.date as mdf\n",
      "ModuleNotFoundError: No module named 'matplotlib.date'\n"
     ]
    },
    {
     "name": "stdout",
     "output_type": "stream",
     "text": [
      "tw_TWSE:2330\n"
     ]
    },
    {
     "name": "stderr",
     "output_type": "stream",
     "text": [
      "No module named 'matplotlib.date'\n",
      "Traceback (most recent call last):\n",
      "  File \"D:\\sean.chen\\trader\\abu\\abupy\\MarketBu\\ABuMarketDrawing.py\", line 252, in _do_plot_candle\n",
      "    import matplotlib.date as mdf\n",
      "ModuleNotFoundError: No module named 'matplotlib.date'\n",
      "\n",
      "During handling of the above exception, another exception occurred:\n",
      "\n",
      "Traceback (most recent call last):\n",
      "  File \"D:\\sean.chen\\trader\\abu\\abupy\\MarketBu\\ABuMarketDrawing.py\", line 92, in plot_from_series\n",
      "    view_index=view_index_inner, save=save)\n",
      "  File \"D:\\sean.chen\\trader\\abu\\abupy\\MarketBu\\ABuMarketDrawing.py\", line 133, in plot_candle_from_symbol\n",
      "    plot_candle_form_klpd(kl_pd, day_sum, html_bk, view_index, save=save)\n",
      "  File \"D:\\sean.chen\\trader\\abu\\abupy\\MarketBu\\ABuMarketDrawing.py\", line 166, in plot_candle_form_klpd\n",
      "    fn, day_sum, html_bk, save)\n",
      "  File \"D:\\sean.chen\\trader\\abu\\abupy\\MarketBu\\ABuMarketDrawing.py\", line 188, in plot_candle_stick\n",
      "    _do_plot_candle(date, p_open, high, low, close, volume, view_index, symbol, day_sum, save, minute)\n",
      "  File \"D:\\sean.chen\\trader\\abu\\abupy\\MarketBu\\ABuMarketDrawing.py\", line 257, in _do_plot_candle\n",
      "    import matplotlib.date as mdf\n",
      "ModuleNotFoundError: No module named 'matplotlib.date'\n"
     ]
    },
    {
     "name": "stdout",
     "output_type": "stream",
     "text": [
      "tw_TWSE:2330\n"
     ]
    },
    {
     "name": "stderr",
     "output_type": "stream",
     "text": [
      "No module named 'matplotlib.date'\n",
      "Traceback (most recent call last):\n",
      "  File \"D:\\sean.chen\\trader\\abu\\abupy\\MarketBu\\ABuMarketDrawing.py\", line 252, in _do_plot_candle\n",
      "    import matplotlib.date as mdf\n",
      "ModuleNotFoundError: No module named 'matplotlib.date'\n",
      "\n",
      "During handling of the above exception, another exception occurred:\n",
      "\n",
      "Traceback (most recent call last):\n",
      "  File \"D:\\sean.chen\\trader\\abu\\abupy\\MarketBu\\ABuMarketDrawing.py\", line 92, in plot_from_series\n",
      "    view_index=view_index_inner, save=save)\n",
      "  File \"D:\\sean.chen\\trader\\abu\\abupy\\MarketBu\\ABuMarketDrawing.py\", line 133, in plot_candle_from_symbol\n",
      "    plot_candle_form_klpd(kl_pd, day_sum, html_bk, view_index, save=save)\n",
      "  File \"D:\\sean.chen\\trader\\abu\\abupy\\MarketBu\\ABuMarketDrawing.py\", line 166, in plot_candle_form_klpd\n",
      "    fn, day_sum, html_bk, save)\n",
      "  File \"D:\\sean.chen\\trader\\abu\\abupy\\MarketBu\\ABuMarketDrawing.py\", line 188, in plot_candle_stick\n",
      "    _do_plot_candle(date, p_open, high, low, close, volume, view_index, symbol, day_sum, save, minute)\n",
      "  File \"D:\\sean.chen\\trader\\abu\\abupy\\MarketBu\\ABuMarketDrawing.py\", line 257, in _do_plot_candle\n",
      "    import matplotlib.date as mdf\n",
      "ModuleNotFoundError: No module named 'matplotlib.date'\n"
     ]
    },
    {
     "name": "stdout",
     "output_type": "stream",
     "text": [
      "tw_TWSE:2330\n"
     ]
    },
    {
     "name": "stderr",
     "output_type": "stream",
     "text": [
      "No module named 'matplotlib.date'\n",
      "Traceback (most recent call last):\n",
      "  File \"D:\\sean.chen\\trader\\abu\\abupy\\MarketBu\\ABuMarketDrawing.py\", line 252, in _do_plot_candle\n",
      "    import matplotlib.date as mdf\n",
      "ModuleNotFoundError: No module named 'matplotlib.date'\n",
      "\n",
      "During handling of the above exception, another exception occurred:\n",
      "\n",
      "Traceback (most recent call last):\n",
      "  File \"D:\\sean.chen\\trader\\abu\\abupy\\MarketBu\\ABuMarketDrawing.py\", line 92, in plot_from_series\n",
      "    view_index=view_index_inner, save=save)\n",
      "  File \"D:\\sean.chen\\trader\\abu\\abupy\\MarketBu\\ABuMarketDrawing.py\", line 133, in plot_candle_from_symbol\n",
      "    plot_candle_form_klpd(kl_pd, day_sum, html_bk, view_index, save=save)\n",
      "  File \"D:\\sean.chen\\trader\\abu\\abupy\\MarketBu\\ABuMarketDrawing.py\", line 166, in plot_candle_form_klpd\n",
      "    fn, day_sum, html_bk, save)\n",
      "  File \"D:\\sean.chen\\trader\\abu\\abupy\\MarketBu\\ABuMarketDrawing.py\", line 188, in plot_candle_stick\n",
      "    _do_plot_candle(date, p_open, high, low, close, volume, view_index, symbol, day_sum, save, minute)\n",
      "  File \"D:\\sean.chen\\trader\\abu\\abupy\\MarketBu\\ABuMarketDrawing.py\", line 257, in _do_plot_candle\n",
      "    import matplotlib.date as mdf\n",
      "ModuleNotFoundError: No module named 'matplotlib.date'\n"
     ]
    },
    {
     "name": "stdout",
     "output_type": "stream",
     "text": [
      "tw_TWSE:2330\n"
     ]
    },
    {
     "name": "stderr",
     "output_type": "stream",
     "text": [
      "No module named 'matplotlib.date'\n",
      "Traceback (most recent call last):\n",
      "  File \"D:\\sean.chen\\trader\\abu\\abupy\\MarketBu\\ABuMarketDrawing.py\", line 252, in _do_plot_candle\n",
      "    import matplotlib.date as mdf\n",
      "ModuleNotFoundError: No module named 'matplotlib.date'\n",
      "\n",
      "During handling of the above exception, another exception occurred:\n",
      "\n",
      "Traceback (most recent call last):\n",
      "  File \"D:\\sean.chen\\trader\\abu\\abupy\\MarketBu\\ABuMarketDrawing.py\", line 92, in plot_from_series\n",
      "    view_index=view_index_inner, save=save)\n",
      "  File \"D:\\sean.chen\\trader\\abu\\abupy\\MarketBu\\ABuMarketDrawing.py\", line 133, in plot_candle_from_symbol\n",
      "    plot_candle_form_klpd(kl_pd, day_sum, html_bk, view_index, save=save)\n",
      "  File \"D:\\sean.chen\\trader\\abu\\abupy\\MarketBu\\ABuMarketDrawing.py\", line 166, in plot_candle_form_klpd\n",
      "    fn, day_sum, html_bk, save)\n",
      "  File \"D:\\sean.chen\\trader\\abu\\abupy\\MarketBu\\ABuMarketDrawing.py\", line 188, in plot_candle_stick\n",
      "    _do_plot_candle(date, p_open, high, low, close, volume, view_index, symbol, day_sum, save, minute)\n",
      "  File \"D:\\sean.chen\\trader\\abu\\abupy\\MarketBu\\ABuMarketDrawing.py\", line 257, in _do_plot_candle\n",
      "    import matplotlib.date as mdf\n",
      "ModuleNotFoundError: No module named 'matplotlib.date'\n"
     ]
    },
    {
     "name": "stdout",
     "output_type": "stream",
     "text": [
      "tw_TWSE:2330\n"
     ]
    },
    {
     "name": "stderr",
     "output_type": "stream",
     "text": [
      "No module named 'matplotlib.date'\n",
      "Traceback (most recent call last):\n",
      "  File \"D:\\sean.chen\\trader\\abu\\abupy\\MarketBu\\ABuMarketDrawing.py\", line 252, in _do_plot_candle\n",
      "    import matplotlib.date as mdf\n",
      "ModuleNotFoundError: No module named 'matplotlib.date'\n",
      "\n",
      "During handling of the above exception, another exception occurred:\n",
      "\n",
      "Traceback (most recent call last):\n",
      "  File \"D:\\sean.chen\\trader\\abu\\abupy\\MarketBu\\ABuMarketDrawing.py\", line 92, in plot_from_series\n",
      "    view_index=view_index_inner, save=save)\n",
      "  File \"D:\\sean.chen\\trader\\abu\\abupy\\MarketBu\\ABuMarketDrawing.py\", line 133, in plot_candle_from_symbol\n",
      "    plot_candle_form_klpd(kl_pd, day_sum, html_bk, view_index, save=save)\n",
      "  File \"D:\\sean.chen\\trader\\abu\\abupy\\MarketBu\\ABuMarketDrawing.py\", line 166, in plot_candle_form_klpd\n",
      "    fn, day_sum, html_bk, save)\n",
      "  File \"D:\\sean.chen\\trader\\abu\\abupy\\MarketBu\\ABuMarketDrawing.py\", line 188, in plot_candle_stick\n",
      "    _do_plot_candle(date, p_open, high, low, close, volume, view_index, symbol, day_sum, save, minute)\n",
      "  File \"D:\\sean.chen\\trader\\abu\\abupy\\MarketBu\\ABuMarketDrawing.py\", line 257, in _do_plot_candle\n",
      "    import matplotlib.date as mdf\n",
      "ModuleNotFoundError: No module named 'matplotlib.date'\n"
     ]
    },
    {
     "name": "stdout",
     "output_type": "stream",
     "text": [
      "tw_TWSE:2330\n"
     ]
    },
    {
     "name": "stderr",
     "output_type": "stream",
     "text": [
      "No module named 'matplotlib.date'\n",
      "Traceback (most recent call last):\n",
      "  File \"D:\\sean.chen\\trader\\abu\\abupy\\MarketBu\\ABuMarketDrawing.py\", line 252, in _do_plot_candle\n",
      "    import matplotlib.date as mdf\n",
      "ModuleNotFoundError: No module named 'matplotlib.date'\n",
      "\n",
      "During handling of the above exception, another exception occurred:\n",
      "\n",
      "Traceback (most recent call last):\n",
      "  File \"D:\\sean.chen\\trader\\abu\\abupy\\MarketBu\\ABuMarketDrawing.py\", line 92, in plot_from_series\n",
      "    view_index=view_index_inner, save=save)\n",
      "  File \"D:\\sean.chen\\trader\\abu\\abupy\\MarketBu\\ABuMarketDrawing.py\", line 133, in plot_candle_from_symbol\n",
      "    plot_candle_form_klpd(kl_pd, day_sum, html_bk, view_index, save=save)\n",
      "  File \"D:\\sean.chen\\trader\\abu\\abupy\\MarketBu\\ABuMarketDrawing.py\", line 166, in plot_candle_form_klpd\n",
      "    fn, day_sum, html_bk, save)\n",
      "  File \"D:\\sean.chen\\trader\\abu\\abupy\\MarketBu\\ABuMarketDrawing.py\", line 188, in plot_candle_stick\n",
      "    _do_plot_candle(date, p_open, high, low, close, volume, view_index, symbol, day_sum, save, minute)\n",
      "  File \"D:\\sean.chen\\trader\\abu\\abupy\\MarketBu\\ABuMarketDrawing.py\", line 257, in _do_plot_candle\n",
      "    import matplotlib.date as mdf\n",
      "ModuleNotFoundError: No module named 'matplotlib.date'\n"
     ]
    },
    {
     "name": "stdout",
     "output_type": "stream",
     "text": [
      "tw_TWSE:2330\n"
     ]
    },
    {
     "name": "stderr",
     "output_type": "stream",
     "text": [
      "No module named 'matplotlib.date'\n",
      "Traceback (most recent call last):\n",
      "  File \"D:\\sean.chen\\trader\\abu\\abupy\\MarketBu\\ABuMarketDrawing.py\", line 252, in _do_plot_candle\n",
      "    import matplotlib.date as mdf\n",
      "ModuleNotFoundError: No module named 'matplotlib.date'\n",
      "\n",
      "During handling of the above exception, another exception occurred:\n",
      "\n",
      "Traceback (most recent call last):\n",
      "  File \"D:\\sean.chen\\trader\\abu\\abupy\\MarketBu\\ABuMarketDrawing.py\", line 92, in plot_from_series\n",
      "    view_index=view_index_inner, save=save)\n",
      "  File \"D:\\sean.chen\\trader\\abu\\abupy\\MarketBu\\ABuMarketDrawing.py\", line 133, in plot_candle_from_symbol\n",
      "    plot_candle_form_klpd(kl_pd, day_sum, html_bk, view_index, save=save)\n",
      "  File \"D:\\sean.chen\\trader\\abu\\abupy\\MarketBu\\ABuMarketDrawing.py\", line 166, in plot_candle_form_klpd\n",
      "    fn, day_sum, html_bk, save)\n",
      "  File \"D:\\sean.chen\\trader\\abu\\abupy\\MarketBu\\ABuMarketDrawing.py\", line 188, in plot_candle_stick\n",
      "    _do_plot_candle(date, p_open, high, low, close, volume, view_index, symbol, day_sum, save, minute)\n",
      "  File \"D:\\sean.chen\\trader\\abu\\abupy\\MarketBu\\ABuMarketDrawing.py\", line 257, in _do_plot_candle\n",
      "    import matplotlib.date as mdf\n",
      "ModuleNotFoundError: No module named 'matplotlib.date'\n"
     ]
    },
    {
     "name": "stdout",
     "output_type": "stream",
     "text": [
      "tw_TWSE:2330\n"
     ]
    },
    {
     "name": "stderr",
     "output_type": "stream",
     "text": [
      "No module named 'matplotlib.date'\n",
      "Traceback (most recent call last):\n",
      "  File \"D:\\sean.chen\\trader\\abu\\abupy\\MarketBu\\ABuMarketDrawing.py\", line 252, in _do_plot_candle\n",
      "    import matplotlib.date as mdf\n",
      "ModuleNotFoundError: No module named 'matplotlib.date'\n",
      "\n",
      "During handling of the above exception, another exception occurred:\n",
      "\n",
      "Traceback (most recent call last):\n",
      "  File \"D:\\sean.chen\\trader\\abu\\abupy\\MarketBu\\ABuMarketDrawing.py\", line 92, in plot_from_series\n",
      "    view_index=view_index_inner, save=save)\n",
      "  File \"D:\\sean.chen\\trader\\abu\\abupy\\MarketBu\\ABuMarketDrawing.py\", line 133, in plot_candle_from_symbol\n",
      "    plot_candle_form_klpd(kl_pd, day_sum, html_bk, view_index, save=save)\n",
      "  File \"D:\\sean.chen\\trader\\abu\\abupy\\MarketBu\\ABuMarketDrawing.py\", line 166, in plot_candle_form_klpd\n",
      "    fn, day_sum, html_bk, save)\n",
      "  File \"D:\\sean.chen\\trader\\abu\\abupy\\MarketBu\\ABuMarketDrawing.py\", line 188, in plot_candle_stick\n",
      "    _do_plot_candle(date, p_open, high, low, close, volume, view_index, symbol, day_sum, save, minute)\n",
      "  File \"D:\\sean.chen\\trader\\abu\\abupy\\MarketBu\\ABuMarketDrawing.py\", line 257, in _do_plot_candle\n",
      "    import matplotlib.date as mdf\n",
      "ModuleNotFoundError: No module named 'matplotlib.date'\n"
     ]
    },
    {
     "name": "stdout",
     "output_type": "stream",
     "text": [
      "tw_TWSE:2330\n"
     ]
    },
    {
     "name": "stderr",
     "output_type": "stream",
     "text": [
      "No module named 'matplotlib.date'\n",
      "Traceback (most recent call last):\n",
      "  File \"D:\\sean.chen\\trader\\abu\\abupy\\MarketBu\\ABuMarketDrawing.py\", line 252, in _do_plot_candle\n",
      "    import matplotlib.date as mdf\n",
      "ModuleNotFoundError: No module named 'matplotlib.date'\n",
      "\n",
      "During handling of the above exception, another exception occurred:\n",
      "\n",
      "Traceback (most recent call last):\n",
      "  File \"D:\\sean.chen\\trader\\abu\\abupy\\MarketBu\\ABuMarketDrawing.py\", line 92, in plot_from_series\n",
      "    view_index=view_index_inner, save=save)\n",
      "  File \"D:\\sean.chen\\trader\\abu\\abupy\\MarketBu\\ABuMarketDrawing.py\", line 133, in plot_candle_from_symbol\n",
      "    plot_candle_form_klpd(kl_pd, day_sum, html_bk, view_index, save=save)\n",
      "  File \"D:\\sean.chen\\trader\\abu\\abupy\\MarketBu\\ABuMarketDrawing.py\", line 166, in plot_candle_form_klpd\n",
      "    fn, day_sum, html_bk, save)\n",
      "  File \"D:\\sean.chen\\trader\\abu\\abupy\\MarketBu\\ABuMarketDrawing.py\", line 188, in plot_candle_stick\n",
      "    _do_plot_candle(date, p_open, high, low, close, volume, view_index, symbol, day_sum, save, minute)\n",
      "  File \"D:\\sean.chen\\trader\\abu\\abupy\\MarketBu\\ABuMarketDrawing.py\", line 257, in _do_plot_candle\n",
      "    import matplotlib.date as mdf\n",
      "ModuleNotFoundError: No module named 'matplotlib.date'\n"
     ]
    },
    {
     "name": "stdout",
     "output_type": "stream",
     "text": [
      "tw_TWSE:2330\n"
     ]
    },
    {
     "name": "stderr",
     "output_type": "stream",
     "text": [
      "No module named 'matplotlib.date'\n",
      "Traceback (most recent call last):\n",
      "  File \"D:\\sean.chen\\trader\\abu\\abupy\\MarketBu\\ABuMarketDrawing.py\", line 252, in _do_plot_candle\n",
      "    import matplotlib.date as mdf\n",
      "ModuleNotFoundError: No module named 'matplotlib.date'\n",
      "\n",
      "During handling of the above exception, another exception occurred:\n",
      "\n",
      "Traceback (most recent call last):\n",
      "  File \"D:\\sean.chen\\trader\\abu\\abupy\\MarketBu\\ABuMarketDrawing.py\", line 92, in plot_from_series\n",
      "    view_index=view_index_inner, save=save)\n",
      "  File \"D:\\sean.chen\\trader\\abu\\abupy\\MarketBu\\ABuMarketDrawing.py\", line 133, in plot_candle_from_symbol\n",
      "    plot_candle_form_klpd(kl_pd, day_sum, html_bk, view_index, save=save)\n",
      "  File \"D:\\sean.chen\\trader\\abu\\abupy\\MarketBu\\ABuMarketDrawing.py\", line 166, in plot_candle_form_klpd\n",
      "    fn, day_sum, html_bk, save)\n",
      "  File \"D:\\sean.chen\\trader\\abu\\abupy\\MarketBu\\ABuMarketDrawing.py\", line 188, in plot_candle_stick\n",
      "    _do_plot_candle(date, p_open, high, low, close, volume, view_index, symbol, day_sum, save, minute)\n",
      "  File \"D:\\sean.chen\\trader\\abu\\abupy\\MarketBu\\ABuMarketDrawing.py\", line 257, in _do_plot_candle\n",
      "    import matplotlib.date as mdf\n",
      "ModuleNotFoundError: No module named 'matplotlib.date'\n"
     ]
    },
    {
     "name": "stdout",
     "output_type": "stream",
     "text": [
      "tw_TWSE:2330\n"
     ]
    },
    {
     "name": "stderr",
     "output_type": "stream",
     "text": [
      "No module named 'matplotlib.date'\n",
      "Traceback (most recent call last):\n",
      "  File \"D:\\sean.chen\\trader\\abu\\abupy\\MarketBu\\ABuMarketDrawing.py\", line 252, in _do_plot_candle\n",
      "    import matplotlib.date as mdf\n",
      "ModuleNotFoundError: No module named 'matplotlib.date'\n",
      "\n",
      "During handling of the above exception, another exception occurred:\n",
      "\n",
      "Traceback (most recent call last):\n",
      "  File \"D:\\sean.chen\\trader\\abu\\abupy\\MarketBu\\ABuMarketDrawing.py\", line 92, in plot_from_series\n",
      "    view_index=view_index_inner, save=save)\n",
      "  File \"D:\\sean.chen\\trader\\abu\\abupy\\MarketBu\\ABuMarketDrawing.py\", line 133, in plot_candle_from_symbol\n",
      "    plot_candle_form_klpd(kl_pd, day_sum, html_bk, view_index, save=save)\n",
      "  File \"D:\\sean.chen\\trader\\abu\\abupy\\MarketBu\\ABuMarketDrawing.py\", line 166, in plot_candle_form_klpd\n",
      "    fn, day_sum, html_bk, save)\n",
      "  File \"D:\\sean.chen\\trader\\abu\\abupy\\MarketBu\\ABuMarketDrawing.py\", line 188, in plot_candle_stick\n",
      "    _do_plot_candle(date, p_open, high, low, close, volume, view_index, symbol, day_sum, save, minute)\n",
      "  File \"D:\\sean.chen\\trader\\abu\\abupy\\MarketBu\\ABuMarketDrawing.py\", line 257, in _do_plot_candle\n",
      "    import matplotlib.date as mdf\n",
      "ModuleNotFoundError: No module named 'matplotlib.date'\n"
     ]
    },
    {
     "name": "stdout",
     "output_type": "stream",
     "text": [
      "tw_TWSE:2330\n"
     ]
    },
    {
     "name": "stderr",
     "output_type": "stream",
     "text": [
      "No module named 'matplotlib.date'\n",
      "Traceback (most recent call last):\n",
      "  File \"D:\\sean.chen\\trader\\abu\\abupy\\MarketBu\\ABuMarketDrawing.py\", line 252, in _do_plot_candle\n",
      "    import matplotlib.date as mdf\n",
      "ModuleNotFoundError: No module named 'matplotlib.date'\n",
      "\n",
      "During handling of the above exception, another exception occurred:\n",
      "\n",
      "Traceback (most recent call last):\n",
      "  File \"D:\\sean.chen\\trader\\abu\\abupy\\MarketBu\\ABuMarketDrawing.py\", line 92, in plot_from_series\n",
      "    view_index=view_index_inner, save=save)\n",
      "  File \"D:\\sean.chen\\trader\\abu\\abupy\\MarketBu\\ABuMarketDrawing.py\", line 133, in plot_candle_from_symbol\n",
      "    plot_candle_form_klpd(kl_pd, day_sum, html_bk, view_index, save=save)\n",
      "  File \"D:\\sean.chen\\trader\\abu\\abupy\\MarketBu\\ABuMarketDrawing.py\", line 166, in plot_candle_form_klpd\n",
      "    fn, day_sum, html_bk, save)\n",
      "  File \"D:\\sean.chen\\trader\\abu\\abupy\\MarketBu\\ABuMarketDrawing.py\", line 188, in plot_candle_stick\n",
      "    _do_plot_candle(date, p_open, high, low, close, volume, view_index, symbol, day_sum, save, minute)\n",
      "  File \"D:\\sean.chen\\trader\\abu\\abupy\\MarketBu\\ABuMarketDrawing.py\", line 257, in _do_plot_candle\n",
      "    import matplotlib.date as mdf\n",
      "ModuleNotFoundError: No module named 'matplotlib.date'\n"
     ]
    },
    {
     "name": "stdout",
     "output_type": "stream",
     "text": [
      "tw_TWSE:2330\n"
     ]
    },
    {
     "name": "stderr",
     "output_type": "stream",
     "text": [
      "No module named 'matplotlib.date'\n",
      "Traceback (most recent call last):\n",
      "  File \"D:\\sean.chen\\trader\\abu\\abupy\\MarketBu\\ABuMarketDrawing.py\", line 252, in _do_plot_candle\n",
      "    import matplotlib.date as mdf\n",
      "ModuleNotFoundError: No module named 'matplotlib.date'\n",
      "\n",
      "During handling of the above exception, another exception occurred:\n",
      "\n",
      "Traceback (most recent call last):\n",
      "  File \"D:\\sean.chen\\trader\\abu\\abupy\\MarketBu\\ABuMarketDrawing.py\", line 92, in plot_from_series\n",
      "    view_index=view_index_inner, save=save)\n",
      "  File \"D:\\sean.chen\\trader\\abu\\abupy\\MarketBu\\ABuMarketDrawing.py\", line 133, in plot_candle_from_symbol\n",
      "    plot_candle_form_klpd(kl_pd, day_sum, html_bk, view_index, save=save)\n",
      "  File \"D:\\sean.chen\\trader\\abu\\abupy\\MarketBu\\ABuMarketDrawing.py\", line 166, in plot_candle_form_klpd\n",
      "    fn, day_sum, html_bk, save)\n",
      "  File \"D:\\sean.chen\\trader\\abu\\abupy\\MarketBu\\ABuMarketDrawing.py\", line 188, in plot_candle_stick\n",
      "    _do_plot_candle(date, p_open, high, low, close, volume, view_index, symbol, day_sum, save, minute)\n",
      "  File \"D:\\sean.chen\\trader\\abu\\abupy\\MarketBu\\ABuMarketDrawing.py\", line 257, in _do_plot_candle\n",
      "    import matplotlib.date as mdf\n",
      "ModuleNotFoundError: No module named 'matplotlib.date'\n"
     ]
    },
    {
     "name": "stdout",
     "output_type": "stream",
     "text": [
      "tw_TWSE:2330\n"
     ]
    },
    {
     "name": "stderr",
     "output_type": "stream",
     "text": [
      "No module named 'matplotlib.date'\n",
      "Traceback (most recent call last):\n",
      "  File \"D:\\sean.chen\\trader\\abu\\abupy\\MarketBu\\ABuMarketDrawing.py\", line 252, in _do_plot_candle\n",
      "    import matplotlib.date as mdf\n",
      "ModuleNotFoundError: No module named 'matplotlib.date'\n",
      "\n",
      "During handling of the above exception, another exception occurred:\n",
      "\n",
      "Traceback (most recent call last):\n",
      "  File \"D:\\sean.chen\\trader\\abu\\abupy\\MarketBu\\ABuMarketDrawing.py\", line 92, in plot_from_series\n",
      "    view_index=view_index_inner, save=save)\n",
      "  File \"D:\\sean.chen\\trader\\abu\\abupy\\MarketBu\\ABuMarketDrawing.py\", line 133, in plot_candle_from_symbol\n",
      "    plot_candle_form_klpd(kl_pd, day_sum, html_bk, view_index, save=save)\n",
      "  File \"D:\\sean.chen\\trader\\abu\\abupy\\MarketBu\\ABuMarketDrawing.py\", line 166, in plot_candle_form_klpd\n",
      "    fn, day_sum, html_bk, save)\n",
      "  File \"D:\\sean.chen\\trader\\abu\\abupy\\MarketBu\\ABuMarketDrawing.py\", line 188, in plot_candle_stick\n",
      "    _do_plot_candle(date, p_open, high, low, close, volume, view_index, symbol, day_sum, save, minute)\n",
      "  File \"D:\\sean.chen\\trader\\abu\\abupy\\MarketBu\\ABuMarketDrawing.py\", line 257, in _do_plot_candle\n",
      "    import matplotlib.date as mdf\n",
      "ModuleNotFoundError: No module named 'matplotlib.date'\n"
     ]
    },
    {
     "name": "stdout",
     "output_type": "stream",
     "text": [
      "tw_TWSE:2330\n"
     ]
    },
    {
     "name": "stderr",
     "output_type": "stream",
     "text": [
      "No module named 'matplotlib.date'\n",
      "Traceback (most recent call last):\n",
      "  File \"D:\\sean.chen\\trader\\abu\\abupy\\MarketBu\\ABuMarketDrawing.py\", line 252, in _do_plot_candle\n",
      "    import matplotlib.date as mdf\n",
      "ModuleNotFoundError: No module named 'matplotlib.date'\n",
      "\n",
      "During handling of the above exception, another exception occurred:\n",
      "\n",
      "Traceback (most recent call last):\n",
      "  File \"D:\\sean.chen\\trader\\abu\\abupy\\MarketBu\\ABuMarketDrawing.py\", line 92, in plot_from_series\n",
      "    view_index=view_index_inner, save=save)\n",
      "  File \"D:\\sean.chen\\trader\\abu\\abupy\\MarketBu\\ABuMarketDrawing.py\", line 133, in plot_candle_from_symbol\n",
      "    plot_candle_form_klpd(kl_pd, day_sum, html_bk, view_index, save=save)\n",
      "  File \"D:\\sean.chen\\trader\\abu\\abupy\\MarketBu\\ABuMarketDrawing.py\", line 166, in plot_candle_form_klpd\n",
      "    fn, day_sum, html_bk, save)\n",
      "  File \"D:\\sean.chen\\trader\\abu\\abupy\\MarketBu\\ABuMarketDrawing.py\", line 188, in plot_candle_stick\n",
      "    _do_plot_candle(date, p_open, high, low, close, volume, view_index, symbol, day_sum, save, minute)\n",
      "  File \"D:\\sean.chen\\trader\\abu\\abupy\\MarketBu\\ABuMarketDrawing.py\", line 257, in _do_plot_candle\n",
      "    import matplotlib.date as mdf\n",
      "ModuleNotFoundError: No module named 'matplotlib.date'\n"
     ]
    },
    {
     "name": "stdout",
     "output_type": "stream",
     "text": [
      "tw_TWSE:2330\n"
     ]
    },
    {
     "name": "stderr",
     "output_type": "stream",
     "text": [
      "No module named 'matplotlib.date'\n",
      "Traceback (most recent call last):\n",
      "  File \"D:\\sean.chen\\trader\\abu\\abupy\\MarketBu\\ABuMarketDrawing.py\", line 252, in _do_plot_candle\n",
      "    import matplotlib.date as mdf\n",
      "ModuleNotFoundError: No module named 'matplotlib.date'\n",
      "\n",
      "During handling of the above exception, another exception occurred:\n",
      "\n",
      "Traceback (most recent call last):\n",
      "  File \"D:\\sean.chen\\trader\\abu\\abupy\\MarketBu\\ABuMarketDrawing.py\", line 92, in plot_from_series\n",
      "    view_index=view_index_inner, save=save)\n",
      "  File \"D:\\sean.chen\\trader\\abu\\abupy\\MarketBu\\ABuMarketDrawing.py\", line 133, in plot_candle_from_symbol\n",
      "    plot_candle_form_klpd(kl_pd, day_sum, html_bk, view_index, save=save)\n",
      "  File \"D:\\sean.chen\\trader\\abu\\abupy\\MarketBu\\ABuMarketDrawing.py\", line 166, in plot_candle_form_klpd\n",
      "    fn, day_sum, html_bk, save)\n",
      "  File \"D:\\sean.chen\\trader\\abu\\abupy\\MarketBu\\ABuMarketDrawing.py\", line 188, in plot_candle_stick\n",
      "    _do_plot_candle(date, p_open, high, low, close, volume, view_index, symbol, day_sum, save, minute)\n",
      "  File \"D:\\sean.chen\\trader\\abu\\abupy\\MarketBu\\ABuMarketDrawing.py\", line 257, in _do_plot_candle\n",
      "    import matplotlib.date as mdf\n",
      "ModuleNotFoundError: No module named 'matplotlib.date'\n"
     ]
    },
    {
     "name": "stdout",
     "output_type": "stream",
     "text": [
      "tw_TWSE:2330\n"
     ]
    },
    {
     "name": "stderr",
     "output_type": "stream",
     "text": [
      "No module named 'matplotlib.date'\n",
      "Traceback (most recent call last):\n",
      "  File \"D:\\sean.chen\\trader\\abu\\abupy\\MarketBu\\ABuMarketDrawing.py\", line 252, in _do_plot_candle\n",
      "    import matplotlib.date as mdf\n",
      "ModuleNotFoundError: No module named 'matplotlib.date'\n",
      "\n",
      "During handling of the above exception, another exception occurred:\n",
      "\n",
      "Traceback (most recent call last):\n",
      "  File \"D:\\sean.chen\\trader\\abu\\abupy\\MarketBu\\ABuMarketDrawing.py\", line 92, in plot_from_series\n",
      "    view_index=view_index_inner, save=save)\n",
      "  File \"D:\\sean.chen\\trader\\abu\\abupy\\MarketBu\\ABuMarketDrawing.py\", line 133, in plot_candle_from_symbol\n",
      "    plot_candle_form_klpd(kl_pd, day_sum, html_bk, view_index, save=save)\n",
      "  File \"D:\\sean.chen\\trader\\abu\\abupy\\MarketBu\\ABuMarketDrawing.py\", line 166, in plot_candle_form_klpd\n",
      "    fn, day_sum, html_bk, save)\n",
      "  File \"D:\\sean.chen\\trader\\abu\\abupy\\MarketBu\\ABuMarketDrawing.py\", line 188, in plot_candle_stick\n",
      "    _do_plot_candle(date, p_open, high, low, close, volume, view_index, symbol, day_sum, save, minute)\n",
      "  File \"D:\\sean.chen\\trader\\abu\\abupy\\MarketBu\\ABuMarketDrawing.py\", line 257, in _do_plot_candle\n",
      "    import matplotlib.date as mdf\n",
      "ModuleNotFoundError: No module named 'matplotlib.date'\n"
     ]
    },
    {
     "name": "stdout",
     "output_type": "stream",
     "text": [
      "tw_TWSE:2330\n"
     ]
    },
    {
     "name": "stderr",
     "output_type": "stream",
     "text": [
      "No module named 'matplotlib.date'\n",
      "Traceback (most recent call last):\n",
      "  File \"D:\\sean.chen\\trader\\abu\\abupy\\MarketBu\\ABuMarketDrawing.py\", line 252, in _do_plot_candle\n",
      "    import matplotlib.date as mdf\n",
      "ModuleNotFoundError: No module named 'matplotlib.date'\n",
      "\n",
      "During handling of the above exception, another exception occurred:\n",
      "\n",
      "Traceback (most recent call last):\n",
      "  File \"D:\\sean.chen\\trader\\abu\\abupy\\MarketBu\\ABuMarketDrawing.py\", line 92, in plot_from_series\n",
      "    view_index=view_index_inner, save=save)\n",
      "  File \"D:\\sean.chen\\trader\\abu\\abupy\\MarketBu\\ABuMarketDrawing.py\", line 133, in plot_candle_from_symbol\n",
      "    plot_candle_form_klpd(kl_pd, day_sum, html_bk, view_index, save=save)\n",
      "  File \"D:\\sean.chen\\trader\\abu\\abupy\\MarketBu\\ABuMarketDrawing.py\", line 166, in plot_candle_form_klpd\n",
      "    fn, day_sum, html_bk, save)\n",
      "  File \"D:\\sean.chen\\trader\\abu\\abupy\\MarketBu\\ABuMarketDrawing.py\", line 188, in plot_candle_stick\n",
      "    _do_plot_candle(date, p_open, high, low, close, volume, view_index, symbol, day_sum, save, minute)\n",
      "  File \"D:\\sean.chen\\trader\\abu\\abupy\\MarketBu\\ABuMarketDrawing.py\", line 257, in _do_plot_candle\n",
      "    import matplotlib.date as mdf\n",
      "ModuleNotFoundError: No module named 'matplotlib.date'\n"
     ]
    },
    {
     "name": "stdout",
     "output_type": "stream",
     "text": [
      "tw_TWSE:2330\n"
     ]
    },
    {
     "name": "stderr",
     "output_type": "stream",
     "text": [
      "No module named 'matplotlib.date'\n",
      "Traceback (most recent call last):\n",
      "  File \"D:\\sean.chen\\trader\\abu\\abupy\\MarketBu\\ABuMarketDrawing.py\", line 252, in _do_plot_candle\n",
      "    import matplotlib.date as mdf\n",
      "ModuleNotFoundError: No module named 'matplotlib.date'\n",
      "\n",
      "During handling of the above exception, another exception occurred:\n",
      "\n",
      "Traceback (most recent call last):\n",
      "  File \"D:\\sean.chen\\trader\\abu\\abupy\\MarketBu\\ABuMarketDrawing.py\", line 92, in plot_from_series\n",
      "    view_index=view_index_inner, save=save)\n",
      "  File \"D:\\sean.chen\\trader\\abu\\abupy\\MarketBu\\ABuMarketDrawing.py\", line 133, in plot_candle_from_symbol\n",
      "    plot_candle_form_klpd(kl_pd, day_sum, html_bk, view_index, save=save)\n",
      "  File \"D:\\sean.chen\\trader\\abu\\abupy\\MarketBu\\ABuMarketDrawing.py\", line 166, in plot_candle_form_klpd\n",
      "    fn, day_sum, html_bk, save)\n",
      "  File \"D:\\sean.chen\\trader\\abu\\abupy\\MarketBu\\ABuMarketDrawing.py\", line 188, in plot_candle_stick\n",
      "    _do_plot_candle(date, p_open, high, low, close, volume, view_index, symbol, day_sum, save, minute)\n",
      "  File \"D:\\sean.chen\\trader\\abu\\abupy\\MarketBu\\ABuMarketDrawing.py\", line 257, in _do_plot_candle\n",
      "    import matplotlib.date as mdf\n",
      "ModuleNotFoundError: No module named 'matplotlib.date'\n"
     ]
    },
    {
     "name": "stdout",
     "output_type": "stream",
     "text": [
      "tw_TWSE:2330\n"
     ]
    },
    {
     "name": "stderr",
     "output_type": "stream",
     "text": [
      "No module named 'matplotlib.date'\n",
      "Traceback (most recent call last):\n",
      "  File \"D:\\sean.chen\\trader\\abu\\abupy\\MarketBu\\ABuMarketDrawing.py\", line 252, in _do_plot_candle\n",
      "    import matplotlib.date as mdf\n",
      "ModuleNotFoundError: No module named 'matplotlib.date'\n",
      "\n",
      "During handling of the above exception, another exception occurred:\n",
      "\n",
      "Traceback (most recent call last):\n",
      "  File \"D:\\sean.chen\\trader\\abu\\abupy\\MarketBu\\ABuMarketDrawing.py\", line 92, in plot_from_series\n",
      "    view_index=view_index_inner, save=save)\n",
      "  File \"D:\\sean.chen\\trader\\abu\\abupy\\MarketBu\\ABuMarketDrawing.py\", line 133, in plot_candle_from_symbol\n",
      "    plot_candle_form_klpd(kl_pd, day_sum, html_bk, view_index, save=save)\n",
      "  File \"D:\\sean.chen\\trader\\abu\\abupy\\MarketBu\\ABuMarketDrawing.py\", line 166, in plot_candle_form_klpd\n",
      "    fn, day_sum, html_bk, save)\n",
      "  File \"D:\\sean.chen\\trader\\abu\\abupy\\MarketBu\\ABuMarketDrawing.py\", line 188, in plot_candle_stick\n",
      "    _do_plot_candle(date, p_open, high, low, close, volume, view_index, symbol, day_sum, save, minute)\n",
      "  File \"D:\\sean.chen\\trader\\abu\\abupy\\MarketBu\\ABuMarketDrawing.py\", line 257, in _do_plot_candle\n",
      "    import matplotlib.date as mdf\n",
      "ModuleNotFoundError: No module named 'matplotlib.date'\n"
     ]
    },
    {
     "name": "stdout",
     "output_type": "stream",
     "text": [
      "tw_TWSE:2330\n"
     ]
    },
    {
     "name": "stderr",
     "output_type": "stream",
     "text": [
      "No module named 'matplotlib.date'\n",
      "Traceback (most recent call last):\n",
      "  File \"D:\\sean.chen\\trader\\abu\\abupy\\MarketBu\\ABuMarketDrawing.py\", line 252, in _do_plot_candle\n",
      "    import matplotlib.date as mdf\n",
      "ModuleNotFoundError: No module named 'matplotlib.date'\n",
      "\n",
      "During handling of the above exception, another exception occurred:\n",
      "\n",
      "Traceback (most recent call last):\n",
      "  File \"D:\\sean.chen\\trader\\abu\\abupy\\MarketBu\\ABuMarketDrawing.py\", line 92, in plot_from_series\n",
      "    view_index=view_index_inner, save=save)\n",
      "  File \"D:\\sean.chen\\trader\\abu\\abupy\\MarketBu\\ABuMarketDrawing.py\", line 133, in plot_candle_from_symbol\n",
      "    plot_candle_form_klpd(kl_pd, day_sum, html_bk, view_index, save=save)\n",
      "  File \"D:\\sean.chen\\trader\\abu\\abupy\\MarketBu\\ABuMarketDrawing.py\", line 166, in plot_candle_form_klpd\n",
      "    fn, day_sum, html_bk, save)\n",
      "  File \"D:\\sean.chen\\trader\\abu\\abupy\\MarketBu\\ABuMarketDrawing.py\", line 188, in plot_candle_stick\n",
      "    _do_plot_candle(date, p_open, high, low, close, volume, view_index, symbol, day_sum, save, minute)\n",
      "  File \"D:\\sean.chen\\trader\\abu\\abupy\\MarketBu\\ABuMarketDrawing.py\", line 257, in _do_plot_candle\n",
      "    import matplotlib.date as mdf\n",
      "ModuleNotFoundError: No module named 'matplotlib.date'\n"
     ]
    },
    {
     "name": "stdout",
     "output_type": "stream",
     "text": [
      "tw_TWSE:2330\n"
     ]
    },
    {
     "name": "stderr",
     "output_type": "stream",
     "text": [
      "No module named 'matplotlib.date'\n",
      "Traceback (most recent call last):\n",
      "  File \"D:\\sean.chen\\trader\\abu\\abupy\\MarketBu\\ABuMarketDrawing.py\", line 252, in _do_plot_candle\n",
      "    import matplotlib.date as mdf\n",
      "ModuleNotFoundError: No module named 'matplotlib.date'\n",
      "\n",
      "During handling of the above exception, another exception occurred:\n",
      "\n",
      "Traceback (most recent call last):\n",
      "  File \"D:\\sean.chen\\trader\\abu\\abupy\\MarketBu\\ABuMarketDrawing.py\", line 92, in plot_from_series\n",
      "    view_index=view_index_inner, save=save)\n",
      "  File \"D:\\sean.chen\\trader\\abu\\abupy\\MarketBu\\ABuMarketDrawing.py\", line 133, in plot_candle_from_symbol\n",
      "    plot_candle_form_klpd(kl_pd, day_sum, html_bk, view_index, save=save)\n",
      "  File \"D:\\sean.chen\\trader\\abu\\abupy\\MarketBu\\ABuMarketDrawing.py\", line 166, in plot_candle_form_klpd\n",
      "    fn, day_sum, html_bk, save)\n",
      "  File \"D:\\sean.chen\\trader\\abu\\abupy\\MarketBu\\ABuMarketDrawing.py\", line 188, in plot_candle_stick\n",
      "    _do_plot_candle(date, p_open, high, low, close, volume, view_index, symbol, day_sum, save, minute)\n",
      "  File \"D:\\sean.chen\\trader\\abu\\abupy\\MarketBu\\ABuMarketDrawing.py\", line 257, in _do_plot_candle\n",
      "    import matplotlib.date as mdf\n",
      "ModuleNotFoundError: No module named 'matplotlib.date'\n"
     ]
    },
    {
     "name": "stdout",
     "output_type": "stream",
     "text": [
      "tw_TWSE:2330\n"
     ]
    },
    {
     "name": "stderr",
     "output_type": "stream",
     "text": [
      "No module named 'matplotlib.date'\n",
      "Traceback (most recent call last):\n",
      "  File \"D:\\sean.chen\\trader\\abu\\abupy\\MarketBu\\ABuMarketDrawing.py\", line 252, in _do_plot_candle\n",
      "    import matplotlib.date as mdf\n",
      "ModuleNotFoundError: No module named 'matplotlib.date'\n",
      "\n",
      "During handling of the above exception, another exception occurred:\n",
      "\n",
      "Traceback (most recent call last):\n",
      "  File \"D:\\sean.chen\\trader\\abu\\abupy\\MarketBu\\ABuMarketDrawing.py\", line 92, in plot_from_series\n",
      "    view_index=view_index_inner, save=save)\n",
      "  File \"D:\\sean.chen\\trader\\abu\\abupy\\MarketBu\\ABuMarketDrawing.py\", line 133, in plot_candle_from_symbol\n",
      "    plot_candle_form_klpd(kl_pd, day_sum, html_bk, view_index, save=save)\n",
      "  File \"D:\\sean.chen\\trader\\abu\\abupy\\MarketBu\\ABuMarketDrawing.py\", line 166, in plot_candle_form_klpd\n",
      "    fn, day_sum, html_bk, save)\n",
      "  File \"D:\\sean.chen\\trader\\abu\\abupy\\MarketBu\\ABuMarketDrawing.py\", line 188, in plot_candle_stick\n",
      "    _do_plot_candle(date, p_open, high, low, close, volume, view_index, symbol, day_sum, save, minute)\n",
      "  File \"D:\\sean.chen\\trader\\abu\\abupy\\MarketBu\\ABuMarketDrawing.py\", line 257, in _do_plot_candle\n",
      "    import matplotlib.date as mdf\n",
      "ModuleNotFoundError: No module named 'matplotlib.date'\n"
     ]
    },
    {
     "name": "stdout",
     "output_type": "stream",
     "text": [
      "tw_TWSE:2330\n"
     ]
    },
    {
     "name": "stderr",
     "output_type": "stream",
     "text": [
      "No module named 'matplotlib.date'\n",
      "Traceback (most recent call last):\n",
      "  File \"D:\\sean.chen\\trader\\abu\\abupy\\MarketBu\\ABuMarketDrawing.py\", line 252, in _do_plot_candle\n",
      "    import matplotlib.date as mdf\n",
      "ModuleNotFoundError: No module named 'matplotlib.date'\n",
      "\n",
      "During handling of the above exception, another exception occurred:\n",
      "\n",
      "Traceback (most recent call last):\n",
      "  File \"D:\\sean.chen\\trader\\abu\\abupy\\MarketBu\\ABuMarketDrawing.py\", line 92, in plot_from_series\n",
      "    view_index=view_index_inner, save=save)\n",
      "  File \"D:\\sean.chen\\trader\\abu\\abupy\\MarketBu\\ABuMarketDrawing.py\", line 133, in plot_candle_from_symbol\n",
      "    plot_candle_form_klpd(kl_pd, day_sum, html_bk, view_index, save=save)\n",
      "  File \"D:\\sean.chen\\trader\\abu\\abupy\\MarketBu\\ABuMarketDrawing.py\", line 166, in plot_candle_form_klpd\n",
      "    fn, day_sum, html_bk, save)\n",
      "  File \"D:\\sean.chen\\trader\\abu\\abupy\\MarketBu\\ABuMarketDrawing.py\", line 188, in plot_candle_stick\n",
      "    _do_plot_candle(date, p_open, high, low, close, volume, view_index, symbol, day_sum, save, minute)\n",
      "  File \"D:\\sean.chen\\trader\\abu\\abupy\\MarketBu\\ABuMarketDrawing.py\", line 257, in _do_plot_candle\n",
      "    import matplotlib.date as mdf\n",
      "ModuleNotFoundError: No module named 'matplotlib.date'\n"
     ]
    },
    {
     "name": "stdout",
     "output_type": "stream",
     "text": [
      "tw_TWSE:2330\n"
     ]
    },
    {
     "name": "stderr",
     "output_type": "stream",
     "text": [
      "No module named 'matplotlib.date'\n",
      "Traceback (most recent call last):\n",
      "  File \"D:\\sean.chen\\trader\\abu\\abupy\\MarketBu\\ABuMarketDrawing.py\", line 252, in _do_plot_candle\n",
      "    import matplotlib.date as mdf\n",
      "ModuleNotFoundError: No module named 'matplotlib.date'\n",
      "\n",
      "During handling of the above exception, another exception occurred:\n",
      "\n",
      "Traceback (most recent call last):\n",
      "  File \"D:\\sean.chen\\trader\\abu\\abupy\\MarketBu\\ABuMarketDrawing.py\", line 92, in plot_from_series\n",
      "    view_index=view_index_inner, save=save)\n",
      "  File \"D:\\sean.chen\\trader\\abu\\abupy\\MarketBu\\ABuMarketDrawing.py\", line 133, in plot_candle_from_symbol\n",
      "    plot_candle_form_klpd(kl_pd, day_sum, html_bk, view_index, save=save)\n",
      "  File \"D:\\sean.chen\\trader\\abu\\abupy\\MarketBu\\ABuMarketDrawing.py\", line 166, in plot_candle_form_klpd\n",
      "    fn, day_sum, html_bk, save)\n",
      "  File \"D:\\sean.chen\\trader\\abu\\abupy\\MarketBu\\ABuMarketDrawing.py\", line 188, in plot_candle_stick\n",
      "    _do_plot_candle(date, p_open, high, low, close, volume, view_index, symbol, day_sum, save, minute)\n",
      "  File \"D:\\sean.chen\\trader\\abu\\abupy\\MarketBu\\ABuMarketDrawing.py\", line 257, in _do_plot_candle\n",
      "    import matplotlib.date as mdf\n",
      "ModuleNotFoundError: No module named 'matplotlib.date'\n"
     ]
    },
    {
     "name": "stdout",
     "output_type": "stream",
     "text": [
      "tw_TWSE:2330\n"
     ]
    },
    {
     "name": "stderr",
     "output_type": "stream",
     "text": [
      "No module named 'matplotlib.date'\n",
      "Traceback (most recent call last):\n",
      "  File \"D:\\sean.chen\\trader\\abu\\abupy\\MarketBu\\ABuMarketDrawing.py\", line 252, in _do_plot_candle\n",
      "    import matplotlib.date as mdf\n",
      "ModuleNotFoundError: No module named 'matplotlib.date'\n",
      "\n",
      "During handling of the above exception, another exception occurred:\n",
      "\n",
      "Traceback (most recent call last):\n",
      "  File \"D:\\sean.chen\\trader\\abu\\abupy\\MarketBu\\ABuMarketDrawing.py\", line 92, in plot_from_series\n",
      "    view_index=view_index_inner, save=save)\n",
      "  File \"D:\\sean.chen\\trader\\abu\\abupy\\MarketBu\\ABuMarketDrawing.py\", line 133, in plot_candle_from_symbol\n",
      "    plot_candle_form_klpd(kl_pd, day_sum, html_bk, view_index, save=save)\n",
      "  File \"D:\\sean.chen\\trader\\abu\\abupy\\MarketBu\\ABuMarketDrawing.py\", line 166, in plot_candle_form_klpd\n",
      "    fn, day_sum, html_bk, save)\n",
      "  File \"D:\\sean.chen\\trader\\abu\\abupy\\MarketBu\\ABuMarketDrawing.py\", line 188, in plot_candle_stick\n",
      "    _do_plot_candle(date, p_open, high, low, close, volume, view_index, symbol, day_sum, save, minute)\n",
      "  File \"D:\\sean.chen\\trader\\abu\\abupy\\MarketBu\\ABuMarketDrawing.py\", line 257, in _do_plot_candle\n",
      "    import matplotlib.date as mdf\n",
      "ModuleNotFoundError: No module named 'matplotlib.date'\n"
     ]
    },
    {
     "name": "stdout",
     "output_type": "stream",
     "text": [
      "tw_TWSE:2330\n"
     ]
    },
    {
     "name": "stderr",
     "output_type": "stream",
     "text": [
      "No module named 'matplotlib.date'\n",
      "Traceback (most recent call last):\n",
      "  File \"D:\\sean.chen\\trader\\abu\\abupy\\MarketBu\\ABuMarketDrawing.py\", line 252, in _do_plot_candle\n",
      "    import matplotlib.date as mdf\n",
      "ModuleNotFoundError: No module named 'matplotlib.date'\n",
      "\n",
      "During handling of the above exception, another exception occurred:\n",
      "\n",
      "Traceback (most recent call last):\n",
      "  File \"D:\\sean.chen\\trader\\abu\\abupy\\MarketBu\\ABuMarketDrawing.py\", line 92, in plot_from_series\n",
      "    view_index=view_index_inner, save=save)\n",
      "  File \"D:\\sean.chen\\trader\\abu\\abupy\\MarketBu\\ABuMarketDrawing.py\", line 133, in plot_candle_from_symbol\n",
      "    plot_candle_form_klpd(kl_pd, day_sum, html_bk, view_index, save=save)\n",
      "  File \"D:\\sean.chen\\trader\\abu\\abupy\\MarketBu\\ABuMarketDrawing.py\", line 166, in plot_candle_form_klpd\n",
      "    fn, day_sum, html_bk, save)\n",
      "  File \"D:\\sean.chen\\trader\\abu\\abupy\\MarketBu\\ABuMarketDrawing.py\", line 188, in plot_candle_stick\n",
      "    _do_plot_candle(date, p_open, high, low, close, volume, view_index, symbol, day_sum, save, minute)\n",
      "  File \"D:\\sean.chen\\trader\\abu\\abupy\\MarketBu\\ABuMarketDrawing.py\", line 257, in _do_plot_candle\n",
      "    import matplotlib.date as mdf\n",
      "ModuleNotFoundError: No module named 'matplotlib.date'\n"
     ]
    },
    {
     "name": "stdout",
     "output_type": "stream",
     "text": [
      "tw_TWSE:2330\n"
     ]
    },
    {
     "name": "stderr",
     "output_type": "stream",
     "text": [
      "No module named 'matplotlib.date'\n",
      "Traceback (most recent call last):\n",
      "  File \"D:\\sean.chen\\trader\\abu\\abupy\\MarketBu\\ABuMarketDrawing.py\", line 252, in _do_plot_candle\n",
      "    import matplotlib.date as mdf\n",
      "ModuleNotFoundError: No module named 'matplotlib.date'\n",
      "\n",
      "During handling of the above exception, another exception occurred:\n",
      "\n",
      "Traceback (most recent call last):\n",
      "  File \"D:\\sean.chen\\trader\\abu\\abupy\\MarketBu\\ABuMarketDrawing.py\", line 92, in plot_from_series\n",
      "    view_index=view_index_inner, save=save)\n",
      "  File \"D:\\sean.chen\\trader\\abu\\abupy\\MarketBu\\ABuMarketDrawing.py\", line 133, in plot_candle_from_symbol\n",
      "    plot_candle_form_klpd(kl_pd, day_sum, html_bk, view_index, save=save)\n",
      "  File \"D:\\sean.chen\\trader\\abu\\abupy\\MarketBu\\ABuMarketDrawing.py\", line 166, in plot_candle_form_klpd\n",
      "    fn, day_sum, html_bk, save)\n",
      "  File \"D:\\sean.chen\\trader\\abu\\abupy\\MarketBu\\ABuMarketDrawing.py\", line 188, in plot_candle_stick\n",
      "    _do_plot_candle(date, p_open, high, low, close, volume, view_index, symbol, day_sum, save, minute)\n",
      "  File \"D:\\sean.chen\\trader\\abu\\abupy\\MarketBu\\ABuMarketDrawing.py\", line 257, in _do_plot_candle\n",
      "    import matplotlib.date as mdf\n",
      "ModuleNotFoundError: No module named 'matplotlib.date'\n"
     ]
    },
    {
     "name": "stdout",
     "output_type": "stream",
     "text": [
      "tw_TWSE:2330\n"
     ]
    },
    {
     "name": "stderr",
     "output_type": "stream",
     "text": [
      "No module named 'matplotlib.date'\n",
      "Traceback (most recent call last):\n",
      "  File \"D:\\sean.chen\\trader\\abu\\abupy\\MarketBu\\ABuMarketDrawing.py\", line 252, in _do_plot_candle\n",
      "    import matplotlib.date as mdf\n",
      "ModuleNotFoundError: No module named 'matplotlib.date'\n",
      "\n",
      "During handling of the above exception, another exception occurred:\n",
      "\n",
      "Traceback (most recent call last):\n",
      "  File \"D:\\sean.chen\\trader\\abu\\abupy\\MarketBu\\ABuMarketDrawing.py\", line 92, in plot_from_series\n",
      "    view_index=view_index_inner, save=save)\n",
      "  File \"D:\\sean.chen\\trader\\abu\\abupy\\MarketBu\\ABuMarketDrawing.py\", line 133, in plot_candle_from_symbol\n",
      "    plot_candle_form_klpd(kl_pd, day_sum, html_bk, view_index, save=save)\n",
      "  File \"D:\\sean.chen\\trader\\abu\\abupy\\MarketBu\\ABuMarketDrawing.py\", line 166, in plot_candle_form_klpd\n",
      "    fn, day_sum, html_bk, save)\n",
      "  File \"D:\\sean.chen\\trader\\abu\\abupy\\MarketBu\\ABuMarketDrawing.py\", line 188, in plot_candle_stick\n",
      "    _do_plot_candle(date, p_open, high, low, close, volume, view_index, symbol, day_sum, save, minute)\n",
      "  File \"D:\\sean.chen\\trader\\abu\\abupy\\MarketBu\\ABuMarketDrawing.py\", line 257, in _do_plot_candle\n",
      "    import matplotlib.date as mdf\n",
      "ModuleNotFoundError: No module named 'matplotlib.date'\n"
     ]
    },
    {
     "name": "stdout",
     "output_type": "stream",
     "text": [
      "tw_TWSE:2330\n"
     ]
    },
    {
     "name": "stderr",
     "output_type": "stream",
     "text": [
      "No module named 'matplotlib.date'\n",
      "Traceback (most recent call last):\n",
      "  File \"D:\\sean.chen\\trader\\abu\\abupy\\MarketBu\\ABuMarketDrawing.py\", line 252, in _do_plot_candle\n",
      "    import matplotlib.date as mdf\n",
      "ModuleNotFoundError: No module named 'matplotlib.date'\n",
      "\n",
      "During handling of the above exception, another exception occurred:\n",
      "\n",
      "Traceback (most recent call last):\n",
      "  File \"D:\\sean.chen\\trader\\abu\\abupy\\MarketBu\\ABuMarketDrawing.py\", line 92, in plot_from_series\n",
      "    view_index=view_index_inner, save=save)\n",
      "  File \"D:\\sean.chen\\trader\\abu\\abupy\\MarketBu\\ABuMarketDrawing.py\", line 133, in plot_candle_from_symbol\n",
      "    plot_candle_form_klpd(kl_pd, day_sum, html_bk, view_index, save=save)\n",
      "  File \"D:\\sean.chen\\trader\\abu\\abupy\\MarketBu\\ABuMarketDrawing.py\", line 166, in plot_candle_form_klpd\n",
      "    fn, day_sum, html_bk, save)\n",
      "  File \"D:\\sean.chen\\trader\\abu\\abupy\\MarketBu\\ABuMarketDrawing.py\", line 188, in plot_candle_stick\n",
      "    _do_plot_candle(date, p_open, high, low, close, volume, view_index, symbol, day_sum, save, minute)\n",
      "  File \"D:\\sean.chen\\trader\\abu\\abupy\\MarketBu\\ABuMarketDrawing.py\", line 257, in _do_plot_candle\n",
      "    import matplotlib.date as mdf\n",
      "ModuleNotFoundError: No module named 'matplotlib.date'\n"
     ]
    },
    {
     "name": "stdout",
     "output_type": "stream",
     "text": [
      "tw_TWSE:2330\n"
     ]
    },
    {
     "name": "stderr",
     "output_type": "stream",
     "text": [
      "No module named 'matplotlib.date'\n",
      "Traceback (most recent call last):\n",
      "  File \"D:\\sean.chen\\trader\\abu\\abupy\\MarketBu\\ABuMarketDrawing.py\", line 252, in _do_plot_candle\n",
      "    import matplotlib.date as mdf\n",
      "ModuleNotFoundError: No module named 'matplotlib.date'\n",
      "\n",
      "During handling of the above exception, another exception occurred:\n",
      "\n",
      "Traceback (most recent call last):\n",
      "  File \"D:\\sean.chen\\trader\\abu\\abupy\\MarketBu\\ABuMarketDrawing.py\", line 92, in plot_from_series\n",
      "    view_index=view_index_inner, save=save)\n",
      "  File \"D:\\sean.chen\\trader\\abu\\abupy\\MarketBu\\ABuMarketDrawing.py\", line 133, in plot_candle_from_symbol\n",
      "    plot_candle_form_klpd(kl_pd, day_sum, html_bk, view_index, save=save)\n",
      "  File \"D:\\sean.chen\\trader\\abu\\abupy\\MarketBu\\ABuMarketDrawing.py\", line 166, in plot_candle_form_klpd\n",
      "    fn, day_sum, html_bk, save)\n",
      "  File \"D:\\sean.chen\\trader\\abu\\abupy\\MarketBu\\ABuMarketDrawing.py\", line 188, in plot_candle_stick\n",
      "    _do_plot_candle(date, p_open, high, low, close, volume, view_index, symbol, day_sum, save, minute)\n",
      "  File \"D:\\sean.chen\\trader\\abu\\abupy\\MarketBu\\ABuMarketDrawing.py\", line 257, in _do_plot_candle\n",
      "    import matplotlib.date as mdf\n",
      "ModuleNotFoundError: No module named 'matplotlib.date'\n"
     ]
    },
    {
     "name": "stdout",
     "output_type": "stream",
     "text": [
      "tw_TWSE:2330\n"
     ]
    },
    {
     "name": "stderr",
     "output_type": "stream",
     "text": [
      "No module named 'matplotlib.date'\n",
      "Traceback (most recent call last):\n",
      "  File \"D:\\sean.chen\\trader\\abu\\abupy\\MarketBu\\ABuMarketDrawing.py\", line 252, in _do_plot_candle\n",
      "    import matplotlib.date as mdf\n",
      "ModuleNotFoundError: No module named 'matplotlib.date'\n",
      "\n",
      "During handling of the above exception, another exception occurred:\n",
      "\n",
      "Traceback (most recent call last):\n",
      "  File \"D:\\sean.chen\\trader\\abu\\abupy\\MarketBu\\ABuMarketDrawing.py\", line 92, in plot_from_series\n",
      "    view_index=view_index_inner, save=save)\n",
      "  File \"D:\\sean.chen\\trader\\abu\\abupy\\MarketBu\\ABuMarketDrawing.py\", line 133, in plot_candle_from_symbol\n",
      "    plot_candle_form_klpd(kl_pd, day_sum, html_bk, view_index, save=save)\n",
      "  File \"D:\\sean.chen\\trader\\abu\\abupy\\MarketBu\\ABuMarketDrawing.py\", line 166, in plot_candle_form_klpd\n",
      "    fn, day_sum, html_bk, save)\n",
      "  File \"D:\\sean.chen\\trader\\abu\\abupy\\MarketBu\\ABuMarketDrawing.py\", line 188, in plot_candle_stick\n",
      "    _do_plot_candle(date, p_open, high, low, close, volume, view_index, symbol, day_sum, save, minute)\n",
      "  File \"D:\\sean.chen\\trader\\abu\\abupy\\MarketBu\\ABuMarketDrawing.py\", line 257, in _do_plot_candle\n",
      "    import matplotlib.date as mdf\n",
      "ModuleNotFoundError: No module named 'matplotlib.date'\n"
     ]
    },
    {
     "name": "stdout",
     "output_type": "stream",
     "text": [
      "tw_TWSE:2330\n"
     ]
    },
    {
     "name": "stderr",
     "output_type": "stream",
     "text": [
      "No module named 'matplotlib.date'\n",
      "Traceback (most recent call last):\n",
      "  File \"D:\\sean.chen\\trader\\abu\\abupy\\MarketBu\\ABuMarketDrawing.py\", line 252, in _do_plot_candle\n",
      "    import matplotlib.date as mdf\n",
      "ModuleNotFoundError: No module named 'matplotlib.date'\n",
      "\n",
      "During handling of the above exception, another exception occurred:\n",
      "\n",
      "Traceback (most recent call last):\n",
      "  File \"D:\\sean.chen\\trader\\abu\\abupy\\MarketBu\\ABuMarketDrawing.py\", line 92, in plot_from_series\n",
      "    view_index=view_index_inner, save=save)\n",
      "  File \"D:\\sean.chen\\trader\\abu\\abupy\\MarketBu\\ABuMarketDrawing.py\", line 133, in plot_candle_from_symbol\n",
      "    plot_candle_form_klpd(kl_pd, day_sum, html_bk, view_index, save=save)\n",
      "  File \"D:\\sean.chen\\trader\\abu\\abupy\\MarketBu\\ABuMarketDrawing.py\", line 166, in plot_candle_form_klpd\n",
      "    fn, day_sum, html_bk, save)\n",
      "  File \"D:\\sean.chen\\trader\\abu\\abupy\\MarketBu\\ABuMarketDrawing.py\", line 188, in plot_candle_stick\n",
      "    _do_plot_candle(date, p_open, high, low, close, volume, view_index, symbol, day_sum, save, minute)\n",
      "  File \"D:\\sean.chen\\trader\\abu\\abupy\\MarketBu\\ABuMarketDrawing.py\", line 257, in _do_plot_candle\n",
      "    import matplotlib.date as mdf\n",
      "ModuleNotFoundError: No module named 'matplotlib.date'\n"
     ]
    },
    {
     "name": "stdout",
     "output_type": "stream",
     "text": [
      "tw_TWSE:2330\n"
     ]
    },
    {
     "name": "stderr",
     "output_type": "stream",
     "text": [
      "No module named 'matplotlib.date'\n",
      "Traceback (most recent call last):\n",
      "  File \"D:\\sean.chen\\trader\\abu\\abupy\\MarketBu\\ABuMarketDrawing.py\", line 252, in _do_plot_candle\n",
      "    import matplotlib.date as mdf\n",
      "ModuleNotFoundError: No module named 'matplotlib.date'\n",
      "\n",
      "During handling of the above exception, another exception occurred:\n",
      "\n",
      "Traceback (most recent call last):\n",
      "  File \"D:\\sean.chen\\trader\\abu\\abupy\\MarketBu\\ABuMarketDrawing.py\", line 92, in plot_from_series\n",
      "    view_index=view_index_inner, save=save)\n",
      "  File \"D:\\sean.chen\\trader\\abu\\abupy\\MarketBu\\ABuMarketDrawing.py\", line 133, in plot_candle_from_symbol\n",
      "    plot_candle_form_klpd(kl_pd, day_sum, html_bk, view_index, save=save)\n",
      "  File \"D:\\sean.chen\\trader\\abu\\abupy\\MarketBu\\ABuMarketDrawing.py\", line 166, in plot_candle_form_klpd\n",
      "    fn, day_sum, html_bk, save)\n",
      "  File \"D:\\sean.chen\\trader\\abu\\abupy\\MarketBu\\ABuMarketDrawing.py\", line 188, in plot_candle_stick\n",
      "    _do_plot_candle(date, p_open, high, low, close, volume, view_index, symbol, day_sum, save, minute)\n",
      "  File \"D:\\sean.chen\\trader\\abu\\abupy\\MarketBu\\ABuMarketDrawing.py\", line 257, in _do_plot_candle\n",
      "    import matplotlib.date as mdf\n",
      "ModuleNotFoundError: No module named 'matplotlib.date'\n"
     ]
    },
    {
     "name": "stdout",
     "output_type": "stream",
     "text": [
      "tw_TWSE:2330\n"
     ]
    },
    {
     "name": "stderr",
     "output_type": "stream",
     "text": [
      "No module named 'matplotlib.date'\n",
      "Traceback (most recent call last):\n",
      "  File \"D:\\sean.chen\\trader\\abu\\abupy\\MarketBu\\ABuMarketDrawing.py\", line 252, in _do_plot_candle\n",
      "    import matplotlib.date as mdf\n",
      "ModuleNotFoundError: No module named 'matplotlib.date'\n",
      "\n",
      "During handling of the above exception, another exception occurred:\n",
      "\n",
      "Traceback (most recent call last):\n",
      "  File \"D:\\sean.chen\\trader\\abu\\abupy\\MarketBu\\ABuMarketDrawing.py\", line 92, in plot_from_series\n",
      "    view_index=view_index_inner, save=save)\n",
      "  File \"D:\\sean.chen\\trader\\abu\\abupy\\MarketBu\\ABuMarketDrawing.py\", line 133, in plot_candle_from_symbol\n",
      "    plot_candle_form_klpd(kl_pd, day_sum, html_bk, view_index, save=save)\n",
      "  File \"D:\\sean.chen\\trader\\abu\\abupy\\MarketBu\\ABuMarketDrawing.py\", line 166, in plot_candle_form_klpd\n",
      "    fn, day_sum, html_bk, save)\n",
      "  File \"D:\\sean.chen\\trader\\abu\\abupy\\MarketBu\\ABuMarketDrawing.py\", line 188, in plot_candle_stick\n",
      "    _do_plot_candle(date, p_open, high, low, close, volume, view_index, symbol, day_sum, save, minute)\n",
      "  File \"D:\\sean.chen\\trader\\abu\\abupy\\MarketBu\\ABuMarketDrawing.py\", line 257, in _do_plot_candle\n",
      "    import matplotlib.date as mdf\n",
      "ModuleNotFoundError: No module named 'matplotlib.date'\n"
     ]
    },
    {
     "name": "stdout",
     "output_type": "stream",
     "text": [
      "tw_TWSE:2330\n"
     ]
    },
    {
     "name": "stderr",
     "output_type": "stream",
     "text": [
      "No module named 'matplotlib.date'\n",
      "Traceback (most recent call last):\n",
      "  File \"D:\\sean.chen\\trader\\abu\\abupy\\MarketBu\\ABuMarketDrawing.py\", line 252, in _do_plot_candle\n",
      "    import matplotlib.date as mdf\n",
      "ModuleNotFoundError: No module named 'matplotlib.date'\n",
      "\n",
      "During handling of the above exception, another exception occurred:\n",
      "\n",
      "Traceback (most recent call last):\n",
      "  File \"D:\\sean.chen\\trader\\abu\\abupy\\MarketBu\\ABuMarketDrawing.py\", line 92, in plot_from_series\n",
      "    view_index=view_index_inner, save=save)\n",
      "  File \"D:\\sean.chen\\trader\\abu\\abupy\\MarketBu\\ABuMarketDrawing.py\", line 133, in plot_candle_from_symbol\n",
      "    plot_candle_form_klpd(kl_pd, day_sum, html_bk, view_index, save=save)\n",
      "  File \"D:\\sean.chen\\trader\\abu\\abupy\\MarketBu\\ABuMarketDrawing.py\", line 166, in plot_candle_form_klpd\n",
      "    fn, day_sum, html_bk, save)\n",
      "  File \"D:\\sean.chen\\trader\\abu\\abupy\\MarketBu\\ABuMarketDrawing.py\", line 188, in plot_candle_stick\n",
      "    _do_plot_candle(date, p_open, high, low, close, volume, view_index, symbol, day_sum, save, minute)\n",
      "  File \"D:\\sean.chen\\trader\\abu\\abupy\\MarketBu\\ABuMarketDrawing.py\", line 257, in _do_plot_candle\n",
      "    import matplotlib.date as mdf\n",
      "ModuleNotFoundError: No module named 'matplotlib.date'\n"
     ]
    },
    {
     "name": "stdout",
     "output_type": "stream",
     "text": [
      "tw_TWSE:2330\n"
     ]
    },
    {
     "name": "stderr",
     "output_type": "stream",
     "text": [
      "No module named 'matplotlib.date'\n",
      "Traceback (most recent call last):\n",
      "  File \"D:\\sean.chen\\trader\\abu\\abupy\\MarketBu\\ABuMarketDrawing.py\", line 252, in _do_plot_candle\n",
      "    import matplotlib.date as mdf\n",
      "ModuleNotFoundError: No module named 'matplotlib.date'\n",
      "\n",
      "During handling of the above exception, another exception occurred:\n",
      "\n",
      "Traceback (most recent call last):\n",
      "  File \"D:\\sean.chen\\trader\\abu\\abupy\\MarketBu\\ABuMarketDrawing.py\", line 92, in plot_from_series\n",
      "    view_index=view_index_inner, save=save)\n",
      "  File \"D:\\sean.chen\\trader\\abu\\abupy\\MarketBu\\ABuMarketDrawing.py\", line 133, in plot_candle_from_symbol\n",
      "    plot_candle_form_klpd(kl_pd, day_sum, html_bk, view_index, save=save)\n",
      "  File \"D:\\sean.chen\\trader\\abu\\abupy\\MarketBu\\ABuMarketDrawing.py\", line 166, in plot_candle_form_klpd\n",
      "    fn, day_sum, html_bk, save)\n",
      "  File \"D:\\sean.chen\\trader\\abu\\abupy\\MarketBu\\ABuMarketDrawing.py\", line 188, in plot_candle_stick\n",
      "    _do_plot_candle(date, p_open, high, low, close, volume, view_index, symbol, day_sum, save, minute)\n",
      "  File \"D:\\sean.chen\\trader\\abu\\abupy\\MarketBu\\ABuMarketDrawing.py\", line 257, in _do_plot_candle\n",
      "    import matplotlib.date as mdf\n",
      "ModuleNotFoundError: No module named 'matplotlib.date'\n"
     ]
    },
    {
     "name": "stdout",
     "output_type": "stream",
     "text": [
      "tw_TWSE:2330\n"
     ]
    },
    {
     "name": "stderr",
     "output_type": "stream",
     "text": [
      "No module named 'matplotlib.date'\n",
      "Traceback (most recent call last):\n",
      "  File \"D:\\sean.chen\\trader\\abu\\abupy\\MarketBu\\ABuMarketDrawing.py\", line 252, in _do_plot_candle\n",
      "    import matplotlib.date as mdf\n",
      "ModuleNotFoundError: No module named 'matplotlib.date'\n",
      "\n",
      "During handling of the above exception, another exception occurred:\n",
      "\n",
      "Traceback (most recent call last):\n",
      "  File \"D:\\sean.chen\\trader\\abu\\abupy\\MarketBu\\ABuMarketDrawing.py\", line 92, in plot_from_series\n",
      "    view_index=view_index_inner, save=save)\n",
      "  File \"D:\\sean.chen\\trader\\abu\\abupy\\MarketBu\\ABuMarketDrawing.py\", line 133, in plot_candle_from_symbol\n",
      "    plot_candle_form_klpd(kl_pd, day_sum, html_bk, view_index, save=save)\n",
      "  File \"D:\\sean.chen\\trader\\abu\\abupy\\MarketBu\\ABuMarketDrawing.py\", line 166, in plot_candle_form_klpd\n",
      "    fn, day_sum, html_bk, save)\n",
      "  File \"D:\\sean.chen\\trader\\abu\\abupy\\MarketBu\\ABuMarketDrawing.py\", line 188, in plot_candle_stick\n",
      "    _do_plot_candle(date, p_open, high, low, close, volume, view_index, symbol, day_sum, save, minute)\n",
      "  File \"D:\\sean.chen\\trader\\abu\\abupy\\MarketBu\\ABuMarketDrawing.py\", line 257, in _do_plot_candle\n",
      "    import matplotlib.date as mdf\n",
      "ModuleNotFoundError: No module named 'matplotlib.date'\n"
     ]
    },
    {
     "name": "stdout",
     "output_type": "stream",
     "text": [
      "tw_TWSE:2330\n"
     ]
    },
    {
     "name": "stderr",
     "output_type": "stream",
     "text": [
      "No module named 'matplotlib.date'\n",
      "Traceback (most recent call last):\n",
      "  File \"D:\\sean.chen\\trader\\abu\\abupy\\MarketBu\\ABuMarketDrawing.py\", line 252, in _do_plot_candle\n",
      "    import matplotlib.date as mdf\n",
      "ModuleNotFoundError: No module named 'matplotlib.date'\n",
      "\n",
      "During handling of the above exception, another exception occurred:\n",
      "\n",
      "Traceback (most recent call last):\n",
      "  File \"D:\\sean.chen\\trader\\abu\\abupy\\MarketBu\\ABuMarketDrawing.py\", line 92, in plot_from_series\n",
      "    view_index=view_index_inner, save=save)\n",
      "  File \"D:\\sean.chen\\trader\\abu\\abupy\\MarketBu\\ABuMarketDrawing.py\", line 133, in plot_candle_from_symbol\n",
      "    plot_candle_form_klpd(kl_pd, day_sum, html_bk, view_index, save=save)\n",
      "  File \"D:\\sean.chen\\trader\\abu\\abupy\\MarketBu\\ABuMarketDrawing.py\", line 166, in plot_candle_form_klpd\n",
      "    fn, day_sum, html_bk, save)\n",
      "  File \"D:\\sean.chen\\trader\\abu\\abupy\\MarketBu\\ABuMarketDrawing.py\", line 188, in plot_candle_stick\n",
      "    _do_plot_candle(date, p_open, high, low, close, volume, view_index, symbol, day_sum, save, minute)\n",
      "  File \"D:\\sean.chen\\trader\\abu\\abupy\\MarketBu\\ABuMarketDrawing.py\", line 257, in _do_plot_candle\n",
      "    import matplotlib.date as mdf\n",
      "ModuleNotFoundError: No module named 'matplotlib.date'\n"
     ]
    },
    {
     "name": "stdout",
     "output_type": "stream",
     "text": [
      "tw_TWSE:2330\n"
     ]
    },
    {
     "name": "stderr",
     "output_type": "stream",
     "text": [
      "No module named 'matplotlib.date'\n",
      "Traceback (most recent call last):\n",
      "  File \"D:\\sean.chen\\trader\\abu\\abupy\\MarketBu\\ABuMarketDrawing.py\", line 252, in _do_plot_candle\n",
      "    import matplotlib.date as mdf\n",
      "ModuleNotFoundError: No module named 'matplotlib.date'\n",
      "\n",
      "During handling of the above exception, another exception occurred:\n",
      "\n",
      "Traceback (most recent call last):\n",
      "  File \"D:\\sean.chen\\trader\\abu\\abupy\\MarketBu\\ABuMarketDrawing.py\", line 92, in plot_from_series\n",
      "    view_index=view_index_inner, save=save)\n",
      "  File \"D:\\sean.chen\\trader\\abu\\abupy\\MarketBu\\ABuMarketDrawing.py\", line 133, in plot_candle_from_symbol\n",
      "    plot_candle_form_klpd(kl_pd, day_sum, html_bk, view_index, save=save)\n",
      "  File \"D:\\sean.chen\\trader\\abu\\abupy\\MarketBu\\ABuMarketDrawing.py\", line 166, in plot_candle_form_klpd\n",
      "    fn, day_sum, html_bk, save)\n",
      "  File \"D:\\sean.chen\\trader\\abu\\abupy\\MarketBu\\ABuMarketDrawing.py\", line 188, in plot_candle_stick\n",
      "    _do_plot_candle(date, p_open, high, low, close, volume, view_index, symbol, day_sum, save, minute)\n",
      "  File \"D:\\sean.chen\\trader\\abu\\abupy\\MarketBu\\ABuMarketDrawing.py\", line 257, in _do_plot_candle\n",
      "    import matplotlib.date as mdf\n",
      "ModuleNotFoundError: No module named 'matplotlib.date'\n"
     ]
    },
    {
     "name": "stdout",
     "output_type": "stream",
     "text": [
      "tw_TWSE:2330\n"
     ]
    },
    {
     "name": "stderr",
     "output_type": "stream",
     "text": [
      "No module named 'matplotlib.date'\n",
      "Traceback (most recent call last):\n",
      "  File \"D:\\sean.chen\\trader\\abu\\abupy\\MarketBu\\ABuMarketDrawing.py\", line 252, in _do_plot_candle\n",
      "    import matplotlib.date as mdf\n",
      "ModuleNotFoundError: No module named 'matplotlib.date'\n",
      "\n",
      "During handling of the above exception, another exception occurred:\n",
      "\n",
      "Traceback (most recent call last):\n",
      "  File \"D:\\sean.chen\\trader\\abu\\abupy\\MarketBu\\ABuMarketDrawing.py\", line 92, in plot_from_series\n",
      "    view_index=view_index_inner, save=save)\n",
      "  File \"D:\\sean.chen\\trader\\abu\\abupy\\MarketBu\\ABuMarketDrawing.py\", line 133, in plot_candle_from_symbol\n",
      "    plot_candle_form_klpd(kl_pd, day_sum, html_bk, view_index, save=save)\n",
      "  File \"D:\\sean.chen\\trader\\abu\\abupy\\MarketBu\\ABuMarketDrawing.py\", line 166, in plot_candle_form_klpd\n",
      "    fn, day_sum, html_bk, save)\n",
      "  File \"D:\\sean.chen\\trader\\abu\\abupy\\MarketBu\\ABuMarketDrawing.py\", line 188, in plot_candle_stick\n",
      "    _do_plot_candle(date, p_open, high, low, close, volume, view_index, symbol, day_sum, save, minute)\n",
      "  File \"D:\\sean.chen\\trader\\abu\\abupy\\MarketBu\\ABuMarketDrawing.py\", line 257, in _do_plot_candle\n",
      "    import matplotlib.date as mdf\n",
      "ModuleNotFoundError: No module named 'matplotlib.date'\n"
     ]
    },
    {
     "name": "stdout",
     "output_type": "stream",
     "text": [
      "tw_TWSE:2330\n"
     ]
    },
    {
     "name": "stderr",
     "output_type": "stream",
     "text": [
      "No module named 'matplotlib.date'\n",
      "Traceback (most recent call last):\n",
      "  File \"D:\\sean.chen\\trader\\abu\\abupy\\MarketBu\\ABuMarketDrawing.py\", line 252, in _do_plot_candle\n",
      "    import matplotlib.date as mdf\n",
      "ModuleNotFoundError: No module named 'matplotlib.date'\n",
      "\n",
      "During handling of the above exception, another exception occurred:\n",
      "\n",
      "Traceback (most recent call last):\n",
      "  File \"D:\\sean.chen\\trader\\abu\\abupy\\MarketBu\\ABuMarketDrawing.py\", line 92, in plot_from_series\n",
      "    view_index=view_index_inner, save=save)\n",
      "  File \"D:\\sean.chen\\trader\\abu\\abupy\\MarketBu\\ABuMarketDrawing.py\", line 133, in plot_candle_from_symbol\n",
      "    plot_candle_form_klpd(kl_pd, day_sum, html_bk, view_index, save=save)\n",
      "  File \"D:\\sean.chen\\trader\\abu\\abupy\\MarketBu\\ABuMarketDrawing.py\", line 166, in plot_candle_form_klpd\n",
      "    fn, day_sum, html_bk, save)\n",
      "  File \"D:\\sean.chen\\trader\\abu\\abupy\\MarketBu\\ABuMarketDrawing.py\", line 188, in plot_candle_stick\n",
      "    _do_plot_candle(date, p_open, high, low, close, volume, view_index, symbol, day_sum, save, minute)\n",
      "  File \"D:\\sean.chen\\trader\\abu\\abupy\\MarketBu\\ABuMarketDrawing.py\", line 257, in _do_plot_candle\n",
      "    import matplotlib.date as mdf\n",
      "ModuleNotFoundError: No module named 'matplotlib.date'\n"
     ]
    },
    {
     "name": "stdout",
     "output_type": "stream",
     "text": [
      "tw_TWSE:2330\n"
     ]
    },
    {
     "name": "stderr",
     "output_type": "stream",
     "text": [
      "No module named 'matplotlib.date'\n",
      "Traceback (most recent call last):\n",
      "  File \"D:\\sean.chen\\trader\\abu\\abupy\\MarketBu\\ABuMarketDrawing.py\", line 252, in _do_plot_candle\n",
      "    import matplotlib.date as mdf\n",
      "ModuleNotFoundError: No module named 'matplotlib.date'\n",
      "\n",
      "During handling of the above exception, another exception occurred:\n",
      "\n",
      "Traceback (most recent call last):\n",
      "  File \"D:\\sean.chen\\trader\\abu\\abupy\\MarketBu\\ABuMarketDrawing.py\", line 92, in plot_from_series\n",
      "    view_index=view_index_inner, save=save)\n",
      "  File \"D:\\sean.chen\\trader\\abu\\abupy\\MarketBu\\ABuMarketDrawing.py\", line 133, in plot_candle_from_symbol\n",
      "    plot_candle_form_klpd(kl_pd, day_sum, html_bk, view_index, save=save)\n",
      "  File \"D:\\sean.chen\\trader\\abu\\abupy\\MarketBu\\ABuMarketDrawing.py\", line 166, in plot_candle_form_klpd\n",
      "    fn, day_sum, html_bk, save)\n",
      "  File \"D:\\sean.chen\\trader\\abu\\abupy\\MarketBu\\ABuMarketDrawing.py\", line 188, in plot_candle_stick\n",
      "    _do_plot_candle(date, p_open, high, low, close, volume, view_index, symbol, day_sum, save, minute)\n",
      "  File \"D:\\sean.chen\\trader\\abu\\abupy\\MarketBu\\ABuMarketDrawing.py\", line 257, in _do_plot_candle\n",
      "    import matplotlib.date as mdf\n",
      "ModuleNotFoundError: No module named 'matplotlib.date'\n"
     ]
    },
    {
     "name": "stdout",
     "output_type": "stream",
     "text": [
      "tw_TWSE:2330\n"
     ]
    },
    {
     "name": "stderr",
     "output_type": "stream",
     "text": [
      "No module named 'matplotlib.date'\n",
      "Traceback (most recent call last):\n",
      "  File \"D:\\sean.chen\\trader\\abu\\abupy\\MarketBu\\ABuMarketDrawing.py\", line 252, in _do_plot_candle\n",
      "    import matplotlib.date as mdf\n",
      "ModuleNotFoundError: No module named 'matplotlib.date'\n",
      "\n",
      "During handling of the above exception, another exception occurred:\n",
      "\n",
      "Traceback (most recent call last):\n",
      "  File \"D:\\sean.chen\\trader\\abu\\abupy\\MarketBu\\ABuMarketDrawing.py\", line 92, in plot_from_series\n",
      "    view_index=view_index_inner, save=save)\n",
      "  File \"D:\\sean.chen\\trader\\abu\\abupy\\MarketBu\\ABuMarketDrawing.py\", line 133, in plot_candle_from_symbol\n",
      "    plot_candle_form_klpd(kl_pd, day_sum, html_bk, view_index, save=save)\n",
      "  File \"D:\\sean.chen\\trader\\abu\\abupy\\MarketBu\\ABuMarketDrawing.py\", line 166, in plot_candle_form_klpd\n",
      "    fn, day_sum, html_bk, save)\n",
      "  File \"D:\\sean.chen\\trader\\abu\\abupy\\MarketBu\\ABuMarketDrawing.py\", line 188, in plot_candle_stick\n",
      "    _do_plot_candle(date, p_open, high, low, close, volume, view_index, symbol, day_sum, save, minute)\n",
      "  File \"D:\\sean.chen\\trader\\abu\\abupy\\MarketBu\\ABuMarketDrawing.py\", line 257, in _do_plot_candle\n",
      "    import matplotlib.date as mdf\n",
      "ModuleNotFoundError: No module named 'matplotlib.date'\n"
     ]
    },
    {
     "name": "stdout",
     "output_type": "stream",
     "text": [
      "tw_TWSE:2330\n"
     ]
    },
    {
     "name": "stderr",
     "output_type": "stream",
     "text": [
      "No module named 'matplotlib.date'\n",
      "Traceback (most recent call last):\n",
      "  File \"D:\\sean.chen\\trader\\abu\\abupy\\MarketBu\\ABuMarketDrawing.py\", line 252, in _do_plot_candle\n",
      "    import matplotlib.date as mdf\n",
      "ModuleNotFoundError: No module named 'matplotlib.date'\n",
      "\n",
      "During handling of the above exception, another exception occurred:\n",
      "\n",
      "Traceback (most recent call last):\n",
      "  File \"D:\\sean.chen\\trader\\abu\\abupy\\MarketBu\\ABuMarketDrawing.py\", line 92, in plot_from_series\n",
      "    view_index=view_index_inner, save=save)\n",
      "  File \"D:\\sean.chen\\trader\\abu\\abupy\\MarketBu\\ABuMarketDrawing.py\", line 133, in plot_candle_from_symbol\n",
      "    plot_candle_form_klpd(kl_pd, day_sum, html_bk, view_index, save=save)\n",
      "  File \"D:\\sean.chen\\trader\\abu\\abupy\\MarketBu\\ABuMarketDrawing.py\", line 166, in plot_candle_form_klpd\n",
      "    fn, day_sum, html_bk, save)\n",
      "  File \"D:\\sean.chen\\trader\\abu\\abupy\\MarketBu\\ABuMarketDrawing.py\", line 188, in plot_candle_stick\n",
      "    _do_plot_candle(date, p_open, high, low, close, volume, view_index, symbol, day_sum, save, minute)\n",
      "  File \"D:\\sean.chen\\trader\\abu\\abupy\\MarketBu\\ABuMarketDrawing.py\", line 257, in _do_plot_candle\n",
      "    import matplotlib.date as mdf\n",
      "ModuleNotFoundError: No module named 'matplotlib.date'\n"
     ]
    },
    {
     "name": "stdout",
     "output_type": "stream",
     "text": [
      "tw_TWSE:2330\n"
     ]
    },
    {
     "name": "stderr",
     "output_type": "stream",
     "text": [
      "No module named 'matplotlib.date'\n",
      "Traceback (most recent call last):\n",
      "  File \"D:\\sean.chen\\trader\\abu\\abupy\\MarketBu\\ABuMarketDrawing.py\", line 252, in _do_plot_candle\n",
      "    import matplotlib.date as mdf\n",
      "ModuleNotFoundError: No module named 'matplotlib.date'\n",
      "\n",
      "During handling of the above exception, another exception occurred:\n",
      "\n",
      "Traceback (most recent call last):\n",
      "  File \"D:\\sean.chen\\trader\\abu\\abupy\\MarketBu\\ABuMarketDrawing.py\", line 92, in plot_from_series\n",
      "    view_index=view_index_inner, save=save)\n",
      "  File \"D:\\sean.chen\\trader\\abu\\abupy\\MarketBu\\ABuMarketDrawing.py\", line 133, in plot_candle_from_symbol\n",
      "    plot_candle_form_klpd(kl_pd, day_sum, html_bk, view_index, save=save)\n",
      "  File \"D:\\sean.chen\\trader\\abu\\abupy\\MarketBu\\ABuMarketDrawing.py\", line 166, in plot_candle_form_klpd\n",
      "    fn, day_sum, html_bk, save)\n",
      "  File \"D:\\sean.chen\\trader\\abu\\abupy\\MarketBu\\ABuMarketDrawing.py\", line 188, in plot_candle_stick\n",
      "    _do_plot_candle(date, p_open, high, low, close, volume, view_index, symbol, day_sum, save, minute)\n",
      "  File \"D:\\sean.chen\\trader\\abu\\abupy\\MarketBu\\ABuMarketDrawing.py\", line 257, in _do_plot_candle\n",
      "    import matplotlib.date as mdf\n",
      "ModuleNotFoundError: No module named 'matplotlib.date'\n"
     ]
    },
    {
     "name": "stdout",
     "output_type": "stream",
     "text": [
      "tw_TWSE:2330\n"
     ]
    },
    {
     "name": "stderr",
     "output_type": "stream",
     "text": [
      "No module named 'matplotlib.date'\n",
      "Traceback (most recent call last):\n",
      "  File \"D:\\sean.chen\\trader\\abu\\abupy\\MarketBu\\ABuMarketDrawing.py\", line 252, in _do_plot_candle\n",
      "    import matplotlib.date as mdf\n",
      "ModuleNotFoundError: No module named 'matplotlib.date'\n",
      "\n",
      "During handling of the above exception, another exception occurred:\n",
      "\n",
      "Traceback (most recent call last):\n",
      "  File \"D:\\sean.chen\\trader\\abu\\abupy\\MarketBu\\ABuMarketDrawing.py\", line 92, in plot_from_series\n",
      "    view_index=view_index_inner, save=save)\n",
      "  File \"D:\\sean.chen\\trader\\abu\\abupy\\MarketBu\\ABuMarketDrawing.py\", line 133, in plot_candle_from_symbol\n",
      "    plot_candle_form_klpd(kl_pd, day_sum, html_bk, view_index, save=save)\n",
      "  File \"D:\\sean.chen\\trader\\abu\\abupy\\MarketBu\\ABuMarketDrawing.py\", line 166, in plot_candle_form_klpd\n",
      "    fn, day_sum, html_bk, save)\n",
      "  File \"D:\\sean.chen\\trader\\abu\\abupy\\MarketBu\\ABuMarketDrawing.py\", line 188, in plot_candle_stick\n",
      "    _do_plot_candle(date, p_open, high, low, close, volume, view_index, symbol, day_sum, save, minute)\n",
      "  File \"D:\\sean.chen\\trader\\abu\\abupy\\MarketBu\\ABuMarketDrawing.py\", line 257, in _do_plot_candle\n",
      "    import matplotlib.date as mdf\n",
      "ModuleNotFoundError: No module named 'matplotlib.date'\n"
     ]
    },
    {
     "name": "stdout",
     "output_type": "stream",
     "text": [
      "tw_TWSE:2330\n"
     ]
    },
    {
     "name": "stderr",
     "output_type": "stream",
     "text": [
      "No module named 'matplotlib.date'\n",
      "Traceback (most recent call last):\n",
      "  File \"D:\\sean.chen\\trader\\abu\\abupy\\MarketBu\\ABuMarketDrawing.py\", line 252, in _do_plot_candle\n",
      "    import matplotlib.date as mdf\n",
      "ModuleNotFoundError: No module named 'matplotlib.date'\n",
      "\n",
      "During handling of the above exception, another exception occurred:\n",
      "\n",
      "Traceback (most recent call last):\n",
      "  File \"D:\\sean.chen\\trader\\abu\\abupy\\MarketBu\\ABuMarketDrawing.py\", line 92, in plot_from_series\n",
      "    view_index=view_index_inner, save=save)\n",
      "  File \"D:\\sean.chen\\trader\\abu\\abupy\\MarketBu\\ABuMarketDrawing.py\", line 133, in plot_candle_from_symbol\n",
      "    plot_candle_form_klpd(kl_pd, day_sum, html_bk, view_index, save=save)\n",
      "  File \"D:\\sean.chen\\trader\\abu\\abupy\\MarketBu\\ABuMarketDrawing.py\", line 166, in plot_candle_form_klpd\n",
      "    fn, day_sum, html_bk, save)\n",
      "  File \"D:\\sean.chen\\trader\\abu\\abupy\\MarketBu\\ABuMarketDrawing.py\", line 188, in plot_candle_stick\n",
      "    _do_plot_candle(date, p_open, high, low, close, volume, view_index, symbol, day_sum, save, minute)\n",
      "  File \"D:\\sean.chen\\trader\\abu\\abupy\\MarketBu\\ABuMarketDrawing.py\", line 257, in _do_plot_candle\n",
      "    import matplotlib.date as mdf\n",
      "ModuleNotFoundError: No module named 'matplotlib.date'\n"
     ]
    },
    {
     "name": "stdout",
     "output_type": "stream",
     "text": [
      "tw_TWSE:2330\n"
     ]
    },
    {
     "name": "stderr",
     "output_type": "stream",
     "text": [
      "No module named 'matplotlib.date'\n",
      "Traceback (most recent call last):\n",
      "  File \"D:\\sean.chen\\trader\\abu\\abupy\\MarketBu\\ABuMarketDrawing.py\", line 252, in _do_plot_candle\n",
      "    import matplotlib.date as mdf\n",
      "ModuleNotFoundError: No module named 'matplotlib.date'\n",
      "\n",
      "During handling of the above exception, another exception occurred:\n",
      "\n",
      "Traceback (most recent call last):\n",
      "  File \"D:\\sean.chen\\trader\\abu\\abupy\\MarketBu\\ABuMarketDrawing.py\", line 92, in plot_from_series\n",
      "    view_index=view_index_inner, save=save)\n",
      "  File \"D:\\sean.chen\\trader\\abu\\abupy\\MarketBu\\ABuMarketDrawing.py\", line 133, in plot_candle_from_symbol\n",
      "    plot_candle_form_klpd(kl_pd, day_sum, html_bk, view_index, save=save)\n",
      "  File \"D:\\sean.chen\\trader\\abu\\abupy\\MarketBu\\ABuMarketDrawing.py\", line 166, in plot_candle_form_klpd\n",
      "    fn, day_sum, html_bk, save)\n",
      "  File \"D:\\sean.chen\\trader\\abu\\abupy\\MarketBu\\ABuMarketDrawing.py\", line 188, in plot_candle_stick\n",
      "    _do_plot_candle(date, p_open, high, low, close, volume, view_index, symbol, day_sum, save, minute)\n",
      "  File \"D:\\sean.chen\\trader\\abu\\abupy\\MarketBu\\ABuMarketDrawing.py\", line 257, in _do_plot_candle\n",
      "    import matplotlib.date as mdf\n",
      "ModuleNotFoundError: No module named 'matplotlib.date'\n"
     ]
    },
    {
     "name": "stdout",
     "output_type": "stream",
     "text": [
      "tw_TWSE:2330\n"
     ]
    },
    {
     "name": "stderr",
     "output_type": "stream",
     "text": [
      "No module named 'matplotlib.date'\n",
      "Traceback (most recent call last):\n",
      "  File \"D:\\sean.chen\\trader\\abu\\abupy\\MarketBu\\ABuMarketDrawing.py\", line 252, in _do_plot_candle\n",
      "    import matplotlib.date as mdf\n",
      "ModuleNotFoundError: No module named 'matplotlib.date'\n",
      "\n",
      "During handling of the above exception, another exception occurred:\n",
      "\n",
      "Traceback (most recent call last):\n",
      "  File \"D:\\sean.chen\\trader\\abu\\abupy\\MarketBu\\ABuMarketDrawing.py\", line 92, in plot_from_series\n",
      "    view_index=view_index_inner, save=save)\n",
      "  File \"D:\\sean.chen\\trader\\abu\\abupy\\MarketBu\\ABuMarketDrawing.py\", line 133, in plot_candle_from_symbol\n",
      "    plot_candle_form_klpd(kl_pd, day_sum, html_bk, view_index, save=save)\n",
      "  File \"D:\\sean.chen\\trader\\abu\\abupy\\MarketBu\\ABuMarketDrawing.py\", line 166, in plot_candle_form_klpd\n",
      "    fn, day_sum, html_bk, save)\n",
      "  File \"D:\\sean.chen\\trader\\abu\\abupy\\MarketBu\\ABuMarketDrawing.py\", line 188, in plot_candle_stick\n",
      "    _do_plot_candle(date, p_open, high, low, close, volume, view_index, symbol, day_sum, save, minute)\n",
      "  File \"D:\\sean.chen\\trader\\abu\\abupy\\MarketBu\\ABuMarketDrawing.py\", line 257, in _do_plot_candle\n",
      "    import matplotlib.date as mdf\n",
      "ModuleNotFoundError: No module named 'matplotlib.date'\n"
     ]
    },
    {
     "name": "stdout",
     "output_type": "stream",
     "text": [
      "tw_TWSE:2330\n"
     ]
    },
    {
     "name": "stderr",
     "output_type": "stream",
     "text": [
      "No module named 'matplotlib.date'\n",
      "Traceback (most recent call last):\n",
      "  File \"D:\\sean.chen\\trader\\abu\\abupy\\MarketBu\\ABuMarketDrawing.py\", line 252, in _do_plot_candle\n",
      "    import matplotlib.date as mdf\n",
      "ModuleNotFoundError: No module named 'matplotlib.date'\n",
      "\n",
      "During handling of the above exception, another exception occurred:\n",
      "\n",
      "Traceback (most recent call last):\n",
      "  File \"D:\\sean.chen\\trader\\abu\\abupy\\MarketBu\\ABuMarketDrawing.py\", line 92, in plot_from_series\n",
      "    view_index=view_index_inner, save=save)\n",
      "  File \"D:\\sean.chen\\trader\\abu\\abupy\\MarketBu\\ABuMarketDrawing.py\", line 133, in plot_candle_from_symbol\n",
      "    plot_candle_form_klpd(kl_pd, day_sum, html_bk, view_index, save=save)\n",
      "  File \"D:\\sean.chen\\trader\\abu\\abupy\\MarketBu\\ABuMarketDrawing.py\", line 166, in plot_candle_form_klpd\n",
      "    fn, day_sum, html_bk, save)\n",
      "  File \"D:\\sean.chen\\trader\\abu\\abupy\\MarketBu\\ABuMarketDrawing.py\", line 188, in plot_candle_stick\n",
      "    _do_plot_candle(date, p_open, high, low, close, volume, view_index, symbol, day_sum, save, minute)\n",
      "  File \"D:\\sean.chen\\trader\\abu\\abupy\\MarketBu\\ABuMarketDrawing.py\", line 257, in _do_plot_candle\n",
      "    import matplotlib.date as mdf\n",
      "ModuleNotFoundError: No module named 'matplotlib.date'\n"
     ]
    },
    {
     "name": "stdout",
     "output_type": "stream",
     "text": [
      "tw_TWSE:2330\n"
     ]
    },
    {
     "name": "stderr",
     "output_type": "stream",
     "text": [
      "No module named 'matplotlib.date'\n",
      "Traceback (most recent call last):\n",
      "  File \"D:\\sean.chen\\trader\\abu\\abupy\\MarketBu\\ABuMarketDrawing.py\", line 252, in _do_plot_candle\n",
      "    import matplotlib.date as mdf\n",
      "ModuleNotFoundError: No module named 'matplotlib.date'\n",
      "\n",
      "During handling of the above exception, another exception occurred:\n",
      "\n",
      "Traceback (most recent call last):\n",
      "  File \"D:\\sean.chen\\trader\\abu\\abupy\\MarketBu\\ABuMarketDrawing.py\", line 92, in plot_from_series\n",
      "    view_index=view_index_inner, save=save)\n",
      "  File \"D:\\sean.chen\\trader\\abu\\abupy\\MarketBu\\ABuMarketDrawing.py\", line 133, in plot_candle_from_symbol\n",
      "    plot_candle_form_klpd(kl_pd, day_sum, html_bk, view_index, save=save)\n",
      "  File \"D:\\sean.chen\\trader\\abu\\abupy\\MarketBu\\ABuMarketDrawing.py\", line 166, in plot_candle_form_klpd\n",
      "    fn, day_sum, html_bk, save)\n",
      "  File \"D:\\sean.chen\\trader\\abu\\abupy\\MarketBu\\ABuMarketDrawing.py\", line 188, in plot_candle_stick\n",
      "    _do_plot_candle(date, p_open, high, low, close, volume, view_index, symbol, day_sum, save, minute)\n",
      "  File \"D:\\sean.chen\\trader\\abu\\abupy\\MarketBu\\ABuMarketDrawing.py\", line 257, in _do_plot_candle\n",
      "    import matplotlib.date as mdf\n",
      "ModuleNotFoundError: No module named 'matplotlib.date'\n"
     ]
    },
    {
     "name": "stdout",
     "output_type": "stream",
     "text": [
      "tw_TWSE:2330\n"
     ]
    },
    {
     "name": "stderr",
     "output_type": "stream",
     "text": [
      "No module named 'matplotlib.date'\n",
      "Traceback (most recent call last):\n",
      "  File \"D:\\sean.chen\\trader\\abu\\abupy\\MarketBu\\ABuMarketDrawing.py\", line 252, in _do_plot_candle\n",
      "    import matplotlib.date as mdf\n",
      "ModuleNotFoundError: No module named 'matplotlib.date'\n",
      "\n",
      "During handling of the above exception, another exception occurred:\n",
      "\n",
      "Traceback (most recent call last):\n",
      "  File \"D:\\sean.chen\\trader\\abu\\abupy\\MarketBu\\ABuMarketDrawing.py\", line 92, in plot_from_series\n",
      "    view_index=view_index_inner, save=save)\n",
      "  File \"D:\\sean.chen\\trader\\abu\\abupy\\MarketBu\\ABuMarketDrawing.py\", line 133, in plot_candle_from_symbol\n",
      "    plot_candle_form_klpd(kl_pd, day_sum, html_bk, view_index, save=save)\n",
      "  File \"D:\\sean.chen\\trader\\abu\\abupy\\MarketBu\\ABuMarketDrawing.py\", line 166, in plot_candle_form_klpd\n",
      "    fn, day_sum, html_bk, save)\n",
      "  File \"D:\\sean.chen\\trader\\abu\\abupy\\MarketBu\\ABuMarketDrawing.py\", line 188, in plot_candle_stick\n",
      "    _do_plot_candle(date, p_open, high, low, close, volume, view_index, symbol, day_sum, save, minute)\n",
      "  File \"D:\\sean.chen\\trader\\abu\\abupy\\MarketBu\\ABuMarketDrawing.py\", line 257, in _do_plot_candle\n",
      "    import matplotlib.date as mdf\n",
      "ModuleNotFoundError: No module named 'matplotlib.date'\n"
     ]
    }
   ],
   "source": [
    "trade_df = ABuMarketDrawing.plot_candle_from_order(view_orders)"
   ]
  },
  {
   "cell_type": "code",
   "execution_count": null,
   "metadata": {},
   "outputs": [],
   "source": [
    " "
   ]
  },
  {
   "cell_type": "code",
   "execution_count": null,
   "metadata": {},
   "outputs": [],
   "source": []
  }
 ],
 "metadata": {
  "kernelspec": {
   "display_name": "Python 3",
   "language": "python",
   "name": "python3"
  },
  "language_info": {
   "codemirror_mode": {
    "name": "ipython",
    "version": 3
   },
   "file_extension": ".py",
   "mimetype": "text/x-python",
   "name": "python",
   "nbconvert_exporter": "python",
   "pygments_lexer": "ipython3",
   "version": "3.7.4"
  }
 },
 "nbformat": 4,
 "nbformat_minor": 2
}
