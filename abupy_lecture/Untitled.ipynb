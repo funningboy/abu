{
 "cells": [
  {
   "cell_type": "code",
   "execution_count": 1,
   "metadata": {},
   "outputs": [
    {
     "name": "stdout",
     "output_type": "stream",
     "text": [
      "UTF-8\n",
      "     industry symbol  co_name exchange\n",
      "0         ETF   0050   元大台灣50     twse\n",
      "1         ETF   0051  元大中型100     twse\n",
      "2         ETF   0052     富邦科技     twse\n",
      "3         ETF   0053     元大電子     twse\n",
      "4         ETF   0054   元大台商50     twse\n",
      "...       ...    ...      ...      ...\n",
      "2755     鋼鐵工業   9958      世紀鋼     twse\n",
      "2756     貿易百貨   9960      邁達康     tpex\n",
      "2757     鋼鐵工業   9962       有益     tpex\n",
      "2758       大盤  TAIEX     加權指數     twse\n",
      "2759       大盤   TPEx     櫃買指數     tpex\n",
      "\n",
      "[2760 rows x 4 columns]\n"
     ]
    }
   ],
   "source": [
    "import warnings\n",
    "warnings.filterwarnings('ignore')\n",
    "warnings.simplefilter('ignore')\n",
    "    \n",
    "import numpy as np\n",
    "import pandas as pd\n",
    "import matplotlib.pyplot as plt\n",
    "import mplfinance as mpf\n",
    "%matplotlib inline\n",
    "import os\n",
    "import sys\n",
    "\n",
    "print (sys.stdout.encoding)\n",
    "\n",
    "os.environ['E_FINMIND_USERID'] = 'funningboy'\n",
    "os.environ['E_FINMIND_PASSWORD'] = 'qwer1234'\n",
    "\n",
    "import requests\n",
    "import pandas as pd\n",
    "url = \"https://api.finmindtrade.com/api/v4/data\"\n",
    "parameter = {\n",
    "    \"dataset\": \"TaiwanStockInfo\",\n",
    "    \"token\": \"\", # 參考登入，獲取金鑰\n",
    "}\n",
    "resp = requests.get(url, params=parameter)\n",
    "data = resp.json()\n",
    "data = pd.DataFrame(data[\"data\"])\n",
    "\n",
    "rename = {\n",
    "    'stock_id': 'symbol',\n",
    "    'stock_name': 'co_name',\n",
    "    'type': 'exchange',\n",
    "    'industry_category': 'industry'\n",
    "}\n",
    "data = data.rename(columns=rename)\n",
    "#abu symbol frame\n",
    "#,co_name,symbol,market,asset,co_site,amplitude,pe_s_d,co_intro,sc,prospectus,co_tel,exchange,co_addr,mv,equity,industry,turnover,oo,pb_MRQ\n",
    "\n",
    "print(data)\n",
    "\n",
    "\n",
    "\n",
    "\n"
   ]
  },
  {
   "cell_type": "code",
   "execution_count": 2,
   "metadata": {},
   "outputs": [],
   "source": [
    "from bs4 import BeautifulSoup \n",
    "import requests\n",
    "import pandas as pd\n",
    "import numpy as np\n",
    "from datetime import date\n",
    "import matplotlib.pyplot as plt\n",
    "import sys\n",
    "%matplotlib inline\n",
    "import os"
   ]
  },
  {
   "cell_type": "code",
   "execution_count": 3,
   "metadata": {},
   "outputs": [
    {
     "name": "stdout",
     "output_type": "stream",
     "text": [
      "2021-02-07\n"
     ]
    }
   ],
   "source": [
    "td = date.today().isoformat()\n",
    "print (td)\n",
    "lls = lambda x: [x]"
   ]
  },
  {
   "cell_type": "code",
   "execution_count": 4,
   "metadata": {},
   "outputs": [
    {
     "data": {
      "text/html": [
       "<div>\n",
       "<style scoped>\n",
       "    .dataframe tbody tr th:only-of-type {\n",
       "        vertical-align: middle;\n",
       "    }\n",
       "\n",
       "    .dataframe tbody tr th {\n",
       "        vertical-align: top;\n",
       "    }\n",
       "\n",
       "    .dataframe thead th {\n",
       "        text-align: right;\n",
       "    }\n",
       "</style>\n",
       "<table border=\"1\" class=\"dataframe\">\n",
       "  <thead>\n",
       "    <tr style=\"text-align: right;\">\n",
       "      <th></th>\n",
       "      <th>O</th>\n",
       "      <th>H</th>\n",
       "      <th>L</th>\n",
       "      <th>C</th>\n",
       "      <th>V</th>\n",
       "    </tr>\n",
       "  </thead>\n",
       "  <tbody>\n",
       "    <tr>\n",
       "      <td>0</td>\n",
       "      <td>638.00</td>\n",
       "      <td>641.00</td>\n",
       "      <td>631.00</td>\n",
       "      <td>632.00</td>\n",
       "      <td>61633</td>\n",
       "    </tr>\n",
       "  </tbody>\n",
       "</table>\n",
       "</div>"
      ],
      "text/plain": [
       "        O       H       L       C      V\n",
       "0  638.00  641.00  631.00  632.00  61633"
      ]
     },
     "execution_count": 4,
     "metadata": {},
     "output_type": "execute_result"
    }
   ],
   "source": [
    "URL = 'http://fubon-ebrokerdj.fbs.com.tw/Z/ZC/ZCX/ZCX_2330.djhtm'\n",
    "\n",
    "resp = requests.get(URL)\n",
    "soup = BeautifulSoup(resp.text, 'html.parser')\n",
    "table = soup.find_all('table', {'class': 't01'})[1]\n",
    "values = list(map(lambda x: str(x.text).replace(',',''), table.find_all('td', {'class': 't3n1'})))\n",
    "ohlcV = {\n",
    "    'O': 0,\n",
    "    'H': 1,\n",
    "    'L': 2,\n",
    "    'C': 3,\n",
    "    'V': 11\n",
    "}\n",
    "for k,v in ohlcV.items():\n",
    "    ohlcV[k] = lls(values[ohlcV[k]])\n",
    "    \n",
    "ohlcV = pd.DataFrame(ohlcV)\n",
    "ohlcV"
   ]
  },
  {
   "cell_type": "code",
   "execution_count": 5,
   "metadata": {},
   "outputs": [
    {
     "name": "stdout",
     "output_type": "stream",
     "text": [
      "['1603', '2059', '75', '32450', '6482595', '0.50%', '80', '80', '1', '903', '2.78%', '16', '1169', '1139', '361', '32981', '6482595', '0.51%', '68', '117', '1', '904', '2.74%', '9', '1363', '2409', '95', '33312', '6482595', '0.51%', '56', '78', '0', '954', '2.86%', '19', '3093', '5174', '190', '34453', '6482595', '0.53%', '206', '166', '0', '976', '2.83%', '45', '2614', '2742', '49', '36724', '6482595', '0.57%', '270', '109', '0', '936', '2.55%', '38']\n"
     ]
    },
    {
     "data": {
      "text/html": [
       "<div>\n",
       "<style scoped>\n",
       "    .dataframe tbody tr th:only-of-type {\n",
       "        vertical-align: middle;\n",
       "    }\n",
       "\n",
       "    .dataframe tbody tr th {\n",
       "        vertical-align: top;\n",
       "    }\n",
       "\n",
       "    .dataframe thead th {\n",
       "        text-align: right;\n",
       "    }\n",
       "</style>\n",
       "<table border=\"1\" class=\"dataframe\">\n",
       "  <thead>\n",
       "    <tr style=\"text-align: right;\">\n",
       "      <th></th>\n",
       "      <th>MarginPurchaseBuy</th>\n",
       "      <th>MarginPurchaseCashRepayment</th>\n",
       "      <th>MarginPurchaseLimit</th>\n",
       "      <th>MarginPurchaseSell</th>\n",
       "      <th>MarginPurchaseTodayBalance</th>\n",
       "      <th>MarginPurchaseYesterdayBalance</th>\n",
       "      <th>date</th>\n",
       "      <th>stock_id</th>\n",
       "    </tr>\n",
       "  </thead>\n",
       "  <tbody>\n",
       "    <tr>\n",
       "      <td>0</td>\n",
       "      <td>1603</td>\n",
       "      <td>75</td>\n",
       "      <td>6482595</td>\n",
       "      <td>2059</td>\n",
       "      <td>32450</td>\n",
       "      <td>80</td>\n",
       "      <td>2021-02-07</td>\n",
       "      <td>2330</td>\n",
       "    </tr>\n",
       "  </tbody>\n",
       "</table>\n",
       "</div>"
      ],
      "text/plain": [
       "  MarginPurchaseBuy MarginPurchaseCashRepayment MarginPurchaseLimit  \\\n",
       "0              1603                          75             6482595   \n",
       "\n",
       "  MarginPurchaseSell MarginPurchaseTodayBalance  \\\n",
       "0               2059                      32450   \n",
       "\n",
       "  MarginPurchaseYesterdayBalance        date stock_id  \n",
       "0                             80  2021-02-07     2330  "
      ]
     },
     "execution_count": 5,
     "metadata": {},
     "output_type": "execute_result"
    }
   ],
   "source": [
    "URL= 'http://fubon-ebrokerdj.fbs.com.tw/z/zc/zcx/zcxD5.djjs?A=2330'\n",
    "\n",
    "resp = requests.get(URL)\n",
    "soup = BeautifulSoup(resp.text, 'html.parser')\n",
    "table = soup.find_all('table', {'class': 't01'})[0]\n",
    "values = list(map(lambda x: str(x.text).replace(',',''), table.find_all('td', {'class': 't3n1'})))\n",
    "print(values)\n",
    "MarginPS = {\n",
    "    'MarginPurchaseBuy': 0,\n",
    "    'MarginPurchaseCashRepayment' : 2,\n",
    "    'MarginPurchaseLimit': 4,\n",
    "    'MarginPurchaseSell': 1,\n",
    "    'MarginPurchaseTodayBalance': 3,\n",
    "    'MarginPurchaseYesterdayBalance': 7\n",
    "}\n",
    "for k,v in MarginPS.items():\n",
    "    MarginPS[k] = lls(values[MarginPS[k]])\n",
    "    \n",
    "MarginPS.update({\n",
    "    'date': [td],\n",
    "    'stock_id': ['2330']\n",
    "})\n",
    "data = pd.DataFrame(MarginPS)\n",
    "data\n",
    "\n"
   ]
  },
  {
   "cell_type": "code",
   "execution_count": 6,
   "metadata": {},
   "outputs": [
    {
     "data": {
      "text/html": [
       "<div>\n",
       "<style scoped>\n",
       "    .dataframe tbody tr th:only-of-type {\n",
       "        vertical-align: middle;\n",
       "    }\n",
       "\n",
       "    .dataframe tbody tr th {\n",
       "        vertical-align: top;\n",
       "    }\n",
       "\n",
       "    .dataframe thead th {\n",
       "        text-align: right;\n",
       "    }\n",
       "</style>\n",
       "<table border=\"1\" class=\"dataframe\">\n",
       "  <thead>\n",
       "    <tr style=\"text-align: right;\">\n",
       "      <th></th>\n",
       "    </tr>\n",
       "  </thead>\n",
       "  <tbody>\n",
       "  </tbody>\n",
       "</table>\n",
       "</div>"
      ],
      "text/plain": [
       "Empty DataFrame\n",
       "Columns: []\n",
       "Index: []"
      ]
     },
     "execution_count": 6,
     "metadata": {},
     "output_type": "execute_result"
    }
   ],
   "source": [
    "url = \"https://api.finmindtrade.com/api/v4/data\"\n",
    "parameter = {\n",
    "    \"dataset\": \"TaiwanStockMarginPurchaseShortSale\",\n",
    "    \"data_id\": \"2330\",\n",
    "    \"start_date\": td,\n",
    "    \"token\": \"\", # 參考登入，獲取金鑰\n",
    "}\n",
    "data = requests.get(url, params=parameter)\n",
    "data = data.json()\n",
    "data = pd.DataFrame(data['data'])\n",
    "data\n",
    "#data.head()"
   ]
  },
  {
   "cell_type": "code",
   "execution_count": null,
   "metadata": {},
   "outputs": [],
   "source": []
  },
  {
   "cell_type": "code",
   "execution_count": 7,
   "metadata": {},
   "outputs": [
    {
     "name": "stderr",
     "output_type": "stream",
     "text": [
      "NumExpr defaulting to 8 threads.\n"
     ]
    }
   ],
   "source": [
    "# 使用insert 0即只使用github，避免交叉使用了pip安装的abupy，导致的版本不一致问题\n",
    "sys.path.insert(0, os.path.abspath('../'))\n",
    "import abupy"
   ]
  },
  {
   "cell_type": "code",
   "execution_count": 11,
   "metadata": {},
   "outputs": [
    {
     "name": "stderr",
     "output_type": "stream",
     "text": [
      "disable example env\n",
      "enable example env will only read RomDataBu/csv\n"
     ]
    }
   ],
   "source": [
    "# 使用沙盒数据，目的是和书中一样的数据环境\n",
    "abupy.env.disable_example_env_ipython()\n",
    "# switch to test mode \n",
    "abupy.env.enable_example_env_ipython()"
   ]
  },
  {
   "cell_type": "code",
   "execution_count": 12,
   "metadata": {},
   "outputs": [
    {
     "data": {
      "text/plain": [
       "['2412', '2330', '3008']"
      ]
     },
     "execution_count": 12,
     "metadata": {},
     "output_type": "execute_result"
    }
   ],
   "source": [
    "from abupy.MarketBu.ABuSymbolStock import AbuSymbolTW\n",
    "from abupy.MarketBu.ABuMarket import all_symbol \n",
    "\n",
    "symbols = AbuSymbolTW().all_symbol()\n",
    "symbols = all_symbol()\n",
    "symbols"
   ]
  },
  {
   "cell_type": "code",
   "execution_count": null,
   "metadata": {},
   "outputs": [],
   "source": [
    "abupy.env.g_is_ipython = 0"
   ]
  },
  {
   "cell_type": "code",
   "execution_count": null,
   "metadata": {},
   "outputs": [],
   "source": [
    "abupy.env.g_data_fetch_mode"
   ]
  },
  {
   "cell_type": "code",
   "execution_count": null,
   "metadata": {},
   "outputs": [],
   "source": [
    "abupy.env.g_data_fetch_mode = abupy.EMarketDataFetchMode.E_DATA_FETCH_FORCE_NET"
   ]
  },
  {
   "cell_type": "code",
   "execution_count": null,
   "metadata": {},
   "outputs": [],
   "source": [
    "abupy.ABuSymbolPd.make_kl_df('2330', n_folds=4).tail()"
   ]
  },
  {
   "cell_type": "code",
   "execution_count": null,
   "metadata": {},
   "outputs": [],
   "source": [
    "from abupy import AbuDoubleMaBuy, AbuDoubleMaSell, AbuSDBreak, AbuFactorBuyBreak\n",
    "from abupy import AbuFactorCloseAtrNStop, AbuFactorAtrNStop, AbuFactorPreAtrNStop\n",
    "from abupy import abu, ABuProgress, AbuMetricsBase, EMarketTargetType, ABuMarketDrawing\n",
    "from abupy import AbuFactorSellNDay, AbuFactorBuyWD, AbuFactorSellBreak"
   ]
  },
  {
   "cell_type": "code",
   "execution_count": null,
   "metadata": {},
   "outputs": [],
   "source": [
    "buy_factors = [{'class': AbuDoubleMaBuy},\n",
    "               {'xd': 21, 'class': AbuFactorBuyBreak}, \n",
    "               {'xd': 7, 'class': AbuSDBreak}]\n",
    "\n",
    "sell_factors = [\n",
    "    {'class': AbuDoubleMaSell},\n",
    "    {'xd': 21, 'class': AbuFactorSellBreak},\n",
    "    {'stop_loss_n': 1.0, 'stop_win_n': 3.0, 'class': AbuFactorAtrNStop},\n",
    "    {'class': AbuFactorPreAtrNStop, 'pre_atr_n': 1.5},\n",
    "    {'class': AbuFactorCloseAtrNStop, 'close_atr_n': 1.5}\n",
    "]"
   ]
  },
  {
   "cell_type": "code",
   "execution_count": null,
   "metadata": {},
   "outputs": [],
   "source": [
    "# 使用沙盒内的美股做为回测目标\n",
    "choice_symbols = ['2330']\n",
    "\n",
    "# 初始资金量\n",
    "read_cash = 3000000\n",
    "# 使用run_loop_back运行策略\n",
    "abu_result_tuple, kl_pd_manger = abu.run_loop_back(read_cash,\n",
    "                                                   buy_factors,\n",
    "                                                   sell_factors,\n",
    "                                                   n_folds=6,\n",
    "                                                   choice_symbols=choice_symbols)\n",
    "ABuProgress.clear_output()"
   ]
  },
  {
   "cell_type": "code",
   "execution_count": null,
   "metadata": {
    "scrolled": false
   },
   "outputs": [],
   "source": [
    "AbuMetricsBase.show_general(*abu_result_tuple, only_show_returns=True)"
   ]
  },
  {
   "cell_type": "code",
   "execution_count": null,
   "metadata": {},
   "outputs": [],
   "source": [
    "orders_pd = abu_result_tuple.orders_pd\n",
    "view_orders = orders_pd[(orders_pd['symbol'] == '2330')]\n",
    "view_orders"
   ]
  },
  {
   "cell_type": "code",
   "execution_count": null,
   "metadata": {},
   "outputs": [],
   "source": [
    "trade_df = ABuMarketDrawing.plot_candle_from_order(view_orders)"
   ]
  },
  {
   "cell_type": "code",
   "execution_count": null,
   "metadata": {},
   "outputs": [],
   "source": []
  }
 ],
 "metadata": {
  "kernelspec": {
   "display_name": "Python 3",
   "language": "python",
   "name": "python3"
  },
  "language_info": {
   "codemirror_mode": {
    "name": "ipython",
    "version": 3
   },
   "file_extension": ".py",
   "mimetype": "text/x-python",
   "name": "python",
   "nbconvert_exporter": "python",
   "pygments_lexer": "ipython3",
   "version": "3.7.4"
  }
 },
 "nbformat": 4,
 "nbformat_minor": 2
}
