{
 "cells": [
  {
   "cell_type": "markdown",
   "metadata": {},
   "source": [
    "\n",
    "# ABU量化系统使用文档 \n",
    "\n",
    "<center>\n",
    "        <img src=\"./image/abu_logo.png\" alt=\"\" style=\"vertical-align:middle;padding:10px 20px;\"><font size=\"6\" color=\"black\"><b>第19节 数据源</b></font>\n",
    "</center>\n",
    "\n",
    "----------------- \n",
    "\n",
    "\n",
    "作者: 阿布\n",
    "\n",
    "阿布量化版权所有 未经允许 禁止转载\n",
    "\n",
    "[abu量化系统github地址](https://github.com/bbfamily/abu) (欢迎+star)\n",
    "\n",
    "[本节ipython notebook](https://github.com/bbfamily/abu/tree/master/abupy_lecture)\n",
    "\n",
    "abupy除了之前章节讲解示例时使用的内置沙盒数据外，也内置了几个数据源，支持实时获取美股，A股，港股，期货和比特币等类型数据，内置的数据源仅供学习使用，abupy提供了接入外部数据源的接口和规范，本节的示例将讲解内置数据源的切换，以及接入用户外部的数据源的接口规范。\n",
    "\n",
    "首先导入abupy中本节使用的模块："
   ]
  },
  {
   "cell_type": "code",
   "execution_count": 1,
   "metadata": {},
   "outputs": [
    {
     "name": "stderr",
     "output_type": "stream",
     "text": [
      "NumExpr defaulting to 8 threads.\n",
      "enable example env will only read RomDataBu/csv\n"
     ]
    }
   ],
   "source": [
    "# 基础库导入\n",
    "\n",
    "from __future__ import print_function\n",
    "from __future__ import division\n",
    "\n",
    "import warnings\n",
    "warnings.filterwarnings('ignore')\n",
    "warnings.simplefilter('ignore')\n",
    "\n",
    "import numpy as np\n",
    "import pandas as pd\n",
    "import matplotlib.pyplot as plt\n",
    "%matplotlib inline\n",
    "\n",
    "import os\n",
    "import sys\n",
    "# 使用insert 0即只使用github，避免交叉使用了pip安装的abupy，导致的版本不一致问题\n",
    "sys.path.insert(0, os.path.abspath('../'))\n",
    "import abupy\n",
    "\n",
    "# 使用沙盒数据，目的是和书中一样的数据环境\n",
    "abupy.env.enable_example_env_ipython()"
   ]
  },
  {
   "cell_type": "code",
   "execution_count": 2,
   "metadata": {},
   "outputs": [],
   "source": [
    "from abupy import abu, EMarketTargetType, AbuMetricsBase, ABuMarketDrawing, ABuProgress, ABuSymbolPd, get_price, ABuIndustries\n",
    "from abupy import EMarketDataFetchMode, EDataCacheType, EMarketSourceType, FuturesBaseMarket, TCBaseMarket, ABuDateUtil\n",
    "from abupy import AbuDataParseWrap, StockBaseMarket, SupportMixin, ABuNetWork, Symbol, code_to_symbol"
   ]
  },
  {
   "cell_type": "markdown",
   "metadata": {},
   "source": [
    "和之前的章节不一样，关闭沙盒数据接口，使用实时数据源提供数据："
   ]
  },
  {
   "cell_type": "code",
   "execution_count": 3,
   "metadata": {},
   "outputs": [
    {
     "name": "stderr",
     "output_type": "stream",
     "text": [
      "disable example env\n"
     ]
    }
   ],
   "source": [
    "abupy.env.disable_example_env_ipython()"
   ]
  },
  {
   "cell_type": "markdown",
   "metadata": {},
   "source": [
    "### 1. 数据模式的切换\n",
    "\n",
    "使用g_data_fetch_mode可以查看当前的数据模式："
   ]
  },
  {
   "cell_type": "code",
   "execution_count": 4,
   "metadata": {},
   "outputs": [
    {
     "data": {
      "text/plain": [
       "<EMarketDataFetchMode.E_DATA_FETCH_NORMAL: 0>"
      ]
     },
     "execution_count": 4,
     "metadata": {},
     "output_type": "execute_result"
    }
   ],
   "source": [
    "abupy.env.g_data_fetch_mode"
   ]
  },
  {
   "cell_type": "markdown",
   "metadata": {},
   "source": [
    "默认使用模式为E_DATA_FETCH_NORMAL，NORMAL的意义是默认优先从缓存中获取，如果缓存中不存在，再访问网络，尝试从网络获取，除此之外还有一些优化，比如虽然缓存中的数据也无法满足要求，但是缓存索引纪录今天已经尝试从网络获取，这种情况下也不再访问网络。\n",
    "\n",
    "更多详情请阅读ABuDataSource代码\n",
    "\n",
    "E_DATA_FETCH_FORCE_NET为强制使用网络进行数据更新，一般不推荐使用，如果切换了数据源，或者缓存中的数据存在问题的情况下会使用："
   ]
  },
  {
   "cell_type": "code",
   "execution_count": 5,
   "metadata": {},
   "outputs": [],
   "source": [
    "abupy.env.g_data_fetch_mode = EMarketDataFetchMode.E_DATA_FETCH_FORCE_NET"
   ]
  },
  {
   "cell_type": "code",
   "execution_count": 6,
   "metadata": {},
   "outputs": [
    {
     "data": {
      "text/html": [
       "<div>\n",
       "<style scoped>\n",
       "    .dataframe tbody tr th:only-of-type {\n",
       "        vertical-align: middle;\n",
       "    }\n",
       "\n",
       "    .dataframe tbody tr th {\n",
       "        vertical-align: top;\n",
       "    }\n",
       "\n",
       "    .dataframe thead th {\n",
       "        text-align: right;\n",
       "    }\n",
       "</style>\n",
       "<table border=\"1\" class=\"dataframe\">\n",
       "  <thead>\n",
       "    <tr style=\"text-align: right;\">\n",
       "      <th></th>\n",
       "      <th>open</th>\n",
       "      <th>close</th>\n",
       "      <th>high</th>\n",
       "      <th>low</th>\n",
       "      <th>volume</th>\n",
       "      <th>date</th>\n",
       "      <th>pre_close</th>\n",
       "      <th>date_week</th>\n",
       "      <th>p_change</th>\n",
       "      <th>atr21</th>\n",
       "      <th>atr14</th>\n",
       "      <th>key</th>\n",
       "    </tr>\n",
       "  </thead>\n",
       "  <tbody>\n",
       "    <tr>\n",
       "      <td>2020-12-24</td>\n",
       "      <td>189.75</td>\n",
       "      <td>191.02</td>\n",
       "      <td>192.88</td>\n",
       "      <td>189.00</td>\n",
       "      <td>2833285</td>\n",
       "      <td>20201224</td>\n",
       "      <td>193.36</td>\n",
       "      <td>3</td>\n",
       "      <td>-1.210</td>\n",
       "      <td>10.4256</td>\n",
       "      <td>11.1482</td>\n",
       "      <td>500</td>\n",
       "    </tr>\n",
       "    <tr>\n",
       "      <td>2020-12-28</td>\n",
       "      <td>189.63</td>\n",
       "      <td>193.08</td>\n",
       "      <td>198.74</td>\n",
       "      <td>189.34</td>\n",
       "      <td>5570932</td>\n",
       "      <td>20201228</td>\n",
       "      <td>191.02</td>\n",
       "      <td>0</td>\n",
       "      <td>1.078</td>\n",
       "      <td>10.3323</td>\n",
       "      <td>10.9151</td>\n",
       "      <td>501</td>\n",
       "    </tr>\n",
       "    <tr>\n",
       "      <td>2020-12-29</td>\n",
       "      <td>195.97</td>\n",
       "      <td>195.07</td>\n",
       "      <td>199.88</td>\n",
       "      <td>192.65</td>\n",
       "      <td>5157915</td>\n",
       "      <td>20201229</td>\n",
       "      <td>193.08</td>\n",
       "      <td>1</td>\n",
       "      <td>1.031</td>\n",
       "      <td>10.1985</td>\n",
       "      <td>10.6411</td>\n",
       "      <td>502</td>\n",
       "    </tr>\n",
       "    <tr>\n",
       "      <td>2020-12-30</td>\n",
       "      <td>198.10</td>\n",
       "      <td>219.63</td>\n",
       "      <td>220.60</td>\n",
       "      <td>198.05</td>\n",
       "      <td>25118635</td>\n",
       "      <td>20201230</td>\n",
       "      <td>195.07</td>\n",
       "      <td>2</td>\n",
       "      <td>12.590</td>\n",
       "      <td>11.7732</td>\n",
       "      <td>12.8916</td>\n",
       "      <td>503</td>\n",
       "    </tr>\n",
       "    <tr>\n",
       "      <td>2020-12-31</td>\n",
       "      <td>224.36</td>\n",
       "      <td>216.24</td>\n",
       "      <td>225.35</td>\n",
       "      <td>212.68</td>\n",
       "      <td>15295353</td>\n",
       "      <td>20201231</td>\n",
       "      <td>219.63</td>\n",
       "      <td>3</td>\n",
       "      <td>-1.544</td>\n",
       "      <td>13.4556</td>\n",
       "      <td>15.2101</td>\n",
       "      <td>504</td>\n",
       "    </tr>\n",
       "  </tbody>\n",
       "</table>\n",
       "</div>"
      ],
      "text/plain": [
       "              open   close    high     low    volume      date  pre_close  \\\n",
       "2020-12-24  189.75  191.02  192.88  189.00   2833285  20201224     193.36   \n",
       "2020-12-28  189.63  193.08  198.74  189.34   5570932  20201228     191.02   \n",
       "2020-12-29  195.97  195.07  199.88  192.65   5157915  20201229     193.08   \n",
       "2020-12-30  198.10  219.63  220.60  198.05  25118635  20201230     195.07   \n",
       "2020-12-31  224.36  216.24  225.35  212.68  15295353  20201231     219.63   \n",
       "\n",
       "            date_week  p_change    atr21    atr14  key  \n",
       "2020-12-24          3    -1.210  10.4256  11.1482  500  \n",
       "2020-12-28          0     1.078  10.3323  10.9151  501  \n",
       "2020-12-29          1     1.031  10.1985  10.6411  502  \n",
       "2020-12-30          2    12.590  11.7732  12.8916  503  \n",
       "2020-12-31          3    -1.544  13.4556  15.2101  504  "
      ]
     },
     "execution_count": 6,
     "metadata": {},
     "output_type": "execute_result"
    }
   ],
   "source": [
    "  "
   ]
  },
  {
   "cell_type": "markdown",
   "metadata": {},
   "source": [
    "E_DATA_FETCH_FORCE_LOCAL为强制从缓存获取，实际上在做回测的时候，使用的一般都是这种模式，因为比如编写了一个策略进行回测结果度量，通常情况下需要反复的修改策略，重新进行回测，强制使用缓存的好处是：\n",
    "\n",
    "1. 保证使用的数据集没有发生变化，度量结果有可比性\n",
    "2. 提高回测运行效率，特别是针对全市场回测\n",
    "3. 分类数据获取和回测，方便问题排除"
   ]
  },
  {
   "cell_type": "code",
   "execution_count": 7,
   "metadata": {},
   "outputs": [],
   "source": [
    "abupy.env.g_data_fetch_mode = EMarketDataFetchMode.E_DATA_FETCH_FORCE_LOCAL"
   ]
  },
  {
   "cell_type": "code",
   "execution_count": 8,
   "metadata": {},
   "outputs": [
    {
     "data": {
      "text/html": [
       "<div>\n",
       "<style scoped>\n",
       "    .dataframe tbody tr th:only-of-type {\n",
       "        vertical-align: middle;\n",
       "    }\n",
       "\n",
       "    .dataframe tbody tr th {\n",
       "        vertical-align: top;\n",
       "    }\n",
       "\n",
       "    .dataframe thead th {\n",
       "        text-align: right;\n",
       "    }\n",
       "</style>\n",
       "<table border=\"1\" class=\"dataframe\">\n",
       "  <thead>\n",
       "    <tr style=\"text-align: right;\">\n",
       "      <th></th>\n",
       "      <th>open</th>\n",
       "      <th>close</th>\n",
       "      <th>high</th>\n",
       "      <th>low</th>\n",
       "      <th>volume</th>\n",
       "      <th>date</th>\n",
       "      <th>pre_close</th>\n",
       "      <th>date_week</th>\n",
       "      <th>p_change</th>\n",
       "      <th>key</th>\n",
       "      <th>atr21</th>\n",
       "      <th>atr14</th>\n",
       "    </tr>\n",
       "  </thead>\n",
       "  <tbody>\n",
       "    <tr>\n",
       "      <td>2020-12-31</td>\n",
       "      <td>224.36</td>\n",
       "      <td>216.24</td>\n",
       "      <td>225.35</td>\n",
       "      <td>212.68</td>\n",
       "      <td>15295353</td>\n",
       "      <td>20201231</td>\n",
       "      <td>219.63</td>\n",
       "      <td>3</td>\n",
       "      <td>-1.544</td>\n",
       "      <td>503</td>\n",
       "      <td>13.4556</td>\n",
       "      <td>15.2101</td>\n",
       "    </tr>\n",
       "  </tbody>\n",
       "</table>\n",
       "</div>"
      ],
      "text/plain": [
       "              open   close    high     low    volume      date  pre_close  \\\n",
       "2020-12-31  224.36  216.24  225.35  212.68  15295353  20201231     219.63   \n",
       "\n",
       "            date_week  p_change  key    atr21    atr14  \n",
       "2020-12-31          3    -1.544  503  13.4556  15.2101  "
      ]
     },
     "execution_count": 8,
     "metadata": {},
     "output_type": "execute_result"
    }
   ],
   "source": [
    "ABuSymbolPd.make_kl_df('usBIDU').tail(1)"
   ]
  },
  {
   "cell_type": "markdown",
   "metadata": {},
   "source": [
    "下面把数据获取模式恢复为默认的E_DATA_FETCH_NORMAL："
   ]
  },
  {
   "cell_type": "code",
   "execution_count": 9,
   "metadata": {},
   "outputs": [],
   "source": [
    "abupy.env.g_data_fetch_mode = EMarketDataFetchMode.E_DATA_FETCH_NORMAL"
   ]
  },
  {
   "cell_type": "markdown",
   "metadata": {},
   "source": [
    "### 2. 数据存储的切换\n",
    "\n",
    "默认的缓存数据存储模式为CSV，如下所示："
   ]
  },
  {
   "cell_type": "code",
   "execution_count": 10,
   "metadata": {},
   "outputs": [
    {
     "data": {
      "text/plain": [
       "<EDataCacheType.E_DATA_CACHE_CSV: 1>"
      ]
     },
     "execution_count": 10,
     "metadata": {},
     "output_type": "execute_result"
    }
   ],
   "source": [
    "abupy.env.g_data_cache_type"
   ]
  },
  {
   "cell_type": "markdown",
   "metadata": {},
   "source": [
    "缓存的csv数据存贮文件路径在~/abu/data/csv/，可使运行下面命令直接打开目录："
   ]
  },
  {
   "cell_type": "code",
   "execution_count": 11,
   "metadata": {},
   "outputs": [
    {
     "name": "stdout",
     "output_type": "stream",
     "text": [
      "C:\\Users\\sean.chen\\abu\\data\\csv\n"
     ]
    }
   ],
   "source": [
    "if abupy.env.g_is_mac_os:\n",
    "    !open $abupy.env.g_project_kl_df_data_csv\n",
    "else:\n",
    "    !echo $abupy.env.g_project_kl_df_data_csv"
   ]
  },
  {
   "cell_type": "markdown",
   "metadata": {},
   "source": [
    "可以通过g_data_cache_type切换其它存贮模式，如下使用HDF5进行数据存贮："
   ]
  },
  {
   "cell_type": "code",
   "execution_count": 12,
   "metadata": {},
   "outputs": [],
   "source": [
    "abupy.env.g_data_cache_type = EDataCacheType.E_DATA_CACHE_HDF5"
   ]
  },
  {
   "cell_type": "markdown",
   "metadata": {},
   "source": [
    "缓存的hdf5文件路径在~/abu/data/df_kl.h5，可使运行下面命令直接打开目录, 或者显示完整路径："
   ]
  },
  {
   "cell_type": "code",
   "execution_count": 13,
   "metadata": {},
   "outputs": [
    {
     "name": "stdout",
     "output_type": "stream",
     "text": [
      "C:\\Users\\sean.chen\\abu\\data\n"
     ]
    }
   ],
   "source": [
    "if abupy.env.g_is_mac_os:\n",
    "    !open $abupy.env.g_project_data_dir\n",
    "else:\n",
    "    !echo $abupy.env.g_project_data_dir"
   ]
  },
  {
   "cell_type": "code",
   "execution_count": 14,
   "metadata": {},
   "outputs": [
    {
     "data": {
      "text/html": [
       "<div>\n",
       "<style scoped>\n",
       "    .dataframe tbody tr th:only-of-type {\n",
       "        vertical-align: middle;\n",
       "    }\n",
       "\n",
       "    .dataframe tbody tr th {\n",
       "        vertical-align: top;\n",
       "    }\n",
       "\n",
       "    .dataframe thead th {\n",
       "        text-align: right;\n",
       "    }\n",
       "</style>\n",
       "<table border=\"1\" class=\"dataframe\">\n",
       "  <thead>\n",
       "    <tr style=\"text-align: right;\">\n",
       "      <th></th>\n",
       "      <th>open</th>\n",
       "      <th>close</th>\n",
       "      <th>high</th>\n",
       "      <th>low</th>\n",
       "      <th>volume</th>\n",
       "      <th>date</th>\n",
       "      <th>pre_close</th>\n",
       "      <th>date_week</th>\n",
       "      <th>p_change</th>\n",
       "      <th>key</th>\n",
       "      <th>atr21</th>\n",
       "      <th>atr14</th>\n",
       "    </tr>\n",
       "  </thead>\n",
       "  <tbody>\n",
       "    <tr>\n",
       "      <td>2020-12-24</td>\n",
       "      <td>642.99</td>\n",
       "      <td>661.77</td>\n",
       "      <td>666.09</td>\n",
       "      <td>641.00</td>\n",
       "      <td>22150442</td>\n",
       "      <td>20201224</td>\n",
       "      <td>645.98</td>\n",
       "      <td>3</td>\n",
       "      <td>2.444</td>\n",
       "      <td>500</td>\n",
       "      <td>42.2047</td>\n",
       "      <td>42.5843</td>\n",
       "    </tr>\n",
       "    <tr>\n",
       "      <td>2020-12-28</td>\n",
       "      <td>674.51</td>\n",
       "      <td>663.69</td>\n",
       "      <td>681.40</td>\n",
       "      <td>660.80</td>\n",
       "      <td>30169329</td>\n",
       "      <td>20201228</td>\n",
       "      <td>661.77</td>\n",
       "      <td>0</td>\n",
       "      <td>0.290</td>\n",
       "      <td>501</td>\n",
       "      <td>41.5879</td>\n",
       "      <td>41.6291</td>\n",
       "    </tr>\n",
       "    <tr>\n",
       "      <td>2020-12-29</td>\n",
       "      <td>661.00</td>\n",
       "      <td>665.99</td>\n",
       "      <td>669.90</td>\n",
       "      <td>655.00</td>\n",
       "      <td>21350327</td>\n",
       "      <td>20201229</td>\n",
       "      <td>663.69</td>\n",
       "      <td>1</td>\n",
       "      <td>0.347</td>\n",
       "      <td>502</td>\n",
       "      <td>39.1617</td>\n",
       "      <td>38.0652</td>\n",
       "    </tr>\n",
       "    <tr>\n",
       "      <td>2020-12-30</td>\n",
       "      <td>672.00</td>\n",
       "      <td>694.78</td>\n",
       "      <td>696.60</td>\n",
       "      <td>668.36</td>\n",
       "      <td>41156562</td>\n",
       "      <td>20201230</td>\n",
       "      <td>665.99</td>\n",
       "      <td>2</td>\n",
       "      <td>4.323</td>\n",
       "      <td>503</td>\n",
       "      <td>38.5934</td>\n",
       "      <td>37.3778</td>\n",
       "    </tr>\n",
       "    <tr>\n",
       "      <td>2020-12-31</td>\n",
       "      <td>699.99</td>\n",
       "      <td>705.67</td>\n",
       "      <td>718.72</td>\n",
       "      <td>691.12</td>\n",
       "      <td>47912045</td>\n",
       "      <td>20201231</td>\n",
       "      <td>694.78</td>\n",
       "      <td>3</td>\n",
       "      <td>1.567</td>\n",
       "      <td>504</td>\n",
       "      <td>39.8785</td>\n",
       "      <td>39.4248</td>\n",
       "    </tr>\n",
       "  </tbody>\n",
       "</table>\n",
       "</div>"
      ],
      "text/plain": [
       "              open   close    high     low    volume      date  pre_close  \\\n",
       "2020-12-24  642.99  661.77  666.09  641.00  22150442  20201224     645.98   \n",
       "2020-12-28  674.51  663.69  681.40  660.80  30169329  20201228     661.77   \n",
       "2020-12-29  661.00  665.99  669.90  655.00  21350327  20201229     663.69   \n",
       "2020-12-30  672.00  694.78  696.60  668.36  41156562  20201230     665.99   \n",
       "2020-12-31  699.99  705.67  718.72  691.12  47912045  20201231     694.78   \n",
       "\n",
       "            date_week  p_change  key    atr21    atr14  \n",
       "2020-12-24          3     2.444  500  42.2047  42.5843  \n",
       "2020-12-28          0     0.290  501  41.5879  41.6291  \n",
       "2020-12-29          1     0.347  502  39.1617  38.0652  \n",
       "2020-12-30          2     4.323  503  38.5934  37.3778  \n",
       "2020-12-31          3     1.567  504  39.8785  39.4248  "
      ]
     },
     "execution_count": 14,
     "metadata": {},
     "output_type": "execute_result"
    }
   ],
   "source": [
    "ABuSymbolPd.make_kl_df('usTSLA').tail()"
   ]
  },
  {
   "cell_type": "markdown",
   "metadata": {},
   "source": [
    "下面仍然切换回默认的csv模式，csv的优点是存贮空间需要小，可以并行读写，且针对不同平台兼容性好："
   ]
  },
  {
   "cell_type": "code",
   "execution_count": 15,
   "metadata": {},
   "outputs": [],
   "source": [
    "abupy.env.g_data_cache_type = EDataCacheType.E_DATA_CACHE_CSV"
   ]
  },
  {
   "cell_type": "markdown",
   "metadata": {},
   "source": [
    "### 3. 数据源的切换\n",
    "\n",
    "如下显示当前的数据源g_market_source为百度数据源："
   ]
  },
  {
   "cell_type": "code",
   "execution_count": 16,
   "metadata": {},
   "outputs": [
    {
     "data": {
      "text/plain": [
       "<EMarketSourceType.E_MARKET_SOURCE_sn_us: 3>"
      ]
     },
     "execution_count": 16,
     "metadata": {},
     "output_type": "execute_result"
    }
   ],
   "source": [
    "abupy.env.g_market_source"
   ]
  },
  {
   "cell_type": "markdown",
   "metadata": {},
   "source": [
    "如下想要获取比特币的数据，但是输出显示百度的数据源不支持比特币："
   ]
  },
  {
   "cell_type": "code",
   "execution_count": 17,
   "metadata": {},
   "outputs": [
    {
     "name": "stderr",
     "output_type": "stream",
     "text": [
      "Exception kline_pd symbol:btc e:SNUSApi don't support tc_COIN:btc!\n"
     ]
    }
   ],
   "source": [
    "ABuSymbolPd.make_kl_df('btc')"
   ]
  },
  {
   "cell_type": "markdown",
   "metadata": {},
   "source": [
    "切换数据源为火币数据源，即可正常获取数据，如下："
   ]
  },
  {
   "cell_type": "code",
   "execution_count": 18,
   "metadata": {},
   "outputs": [],
   "source": [
    "#abupy.env.g_market_source = EMarketSourceType.E_MARKET_SOURCE_hb_tc\n",
    "#ABuSymbolPd.make_kl_df('btc').tail()"
   ]
  },
  {
   "cell_type": "markdown",
   "metadata": {},
   "source": [
    "类似，下面想要获取期货鸡蛋的数据，但是输出显示火币的数据源不支持期货市场："
   ]
  },
  {
   "cell_type": "code",
   "execution_count": 19,
   "metadata": {},
   "outputs": [
    {
     "name": "stderr",
     "output_type": "stream",
     "text": [
      "Exception kline_pd symbol:jd0 e:SNUSApi don't support futures_cn_DCE:JD0!\n"
     ]
    }
   ],
   "source": [
    "ABuSymbolPd.make_kl_df('jd0')"
   ]
  },
  {
   "cell_type": "markdown",
   "metadata": {},
   "source": [
    "切换数据源为新浪期货数据源，即可正常获取数据，如下："
   ]
  },
  {
   "cell_type": "code",
   "execution_count": 20,
   "metadata": {},
   "outputs": [],
   "source": [
    "abupy.env.g_market_source = EMarketSourceType.E_MARKET_SOURCE_sn_futures"
   ]
  },
  {
   "cell_type": "code",
   "execution_count": 21,
   "metadata": {},
   "outputs": [
    {
     "data": {
      "text/html": [
       "<div>\n",
       "<style scoped>\n",
       "    .dataframe tbody tr th:only-of-type {\n",
       "        vertical-align: middle;\n",
       "    }\n",
       "\n",
       "    .dataframe tbody tr th {\n",
       "        vertical-align: top;\n",
       "    }\n",
       "\n",
       "    .dataframe thead th {\n",
       "        text-align: right;\n",
       "    }\n",
       "</style>\n",
       "<table border=\"1\" class=\"dataframe\">\n",
       "  <thead>\n",
       "    <tr style=\"text-align: right;\">\n",
       "      <th></th>\n",
       "      <th>open</th>\n",
       "      <th>close</th>\n",
       "      <th>high</th>\n",
       "      <th>low</th>\n",
       "      <th>volume</th>\n",
       "      <th>date</th>\n",
       "      <th>pre_close</th>\n",
       "      <th>date_week</th>\n",
       "      <th>p_change</th>\n",
       "      <th>atr21</th>\n",
       "      <th>atr14</th>\n",
       "      <th>key</th>\n",
       "    </tr>\n",
       "  </thead>\n",
       "  <tbody>\n",
       "    <tr>\n",
       "      <td>2020-12-25</td>\n",
       "      <td>4168.0</td>\n",
       "      <td>4193.0</td>\n",
       "      <td>4269.0</td>\n",
       "      <td>4152.0</td>\n",
       "      <td>372212.0</td>\n",
       "      <td>2.0201e+07</td>\n",
       "      <td>4188.0</td>\n",
       "      <td>4.0</td>\n",
       "      <td>0.119</td>\n",
       "      <td>133.7231</td>\n",
       "      <td>135.3642</td>\n",
       "      <td>483</td>\n",
       "    </tr>\n",
       "    <tr>\n",
       "      <td>2020-12-28</td>\n",
       "      <td>4221.0</td>\n",
       "      <td>4178.0</td>\n",
       "      <td>4355.0</td>\n",
       "      <td>4132.0</td>\n",
       "      <td>569139.0</td>\n",
       "      <td>2.0201e+07</td>\n",
       "      <td>4193.0</td>\n",
       "      <td>0.0</td>\n",
       "      <td>-0.358</td>\n",
       "      <td>141.8392</td>\n",
       "      <td>147.0489</td>\n",
       "      <td>484</td>\n",
       "    </tr>\n",
       "    <tr>\n",
       "      <td>2020-12-29</td>\n",
       "      <td>4200.0</td>\n",
       "      <td>4109.0</td>\n",
       "      <td>4221.0</td>\n",
       "      <td>4089.0</td>\n",
       "      <td>328901.0</td>\n",
       "      <td>2.0201e+07</td>\n",
       "      <td>4178.0</td>\n",
       "      <td>1.0</td>\n",
       "      <td>-1.652</td>\n",
       "      <td>140.9447</td>\n",
       "      <td>145.0424</td>\n",
       "      <td>485</td>\n",
       "    </tr>\n",
       "    <tr>\n",
       "      <td>2020-12-30</td>\n",
       "      <td>4128.0</td>\n",
       "      <td>4135.0</td>\n",
       "      <td>4166.0</td>\n",
       "      <td>4082.0</td>\n",
       "      <td>296782.0</td>\n",
       "      <td>2.0201e+07</td>\n",
       "      <td>4109.0</td>\n",
       "      <td>2.0</td>\n",
       "      <td>0.633</td>\n",
       "      <td>136.8588</td>\n",
       "      <td>138.5034</td>\n",
       "      <td>486</td>\n",
       "    </tr>\n",
       "    <tr>\n",
       "      <td>2020-12-31</td>\n",
       "      <td>4136.0</td>\n",
       "      <td>4178.0</td>\n",
       "      <td>4180.0</td>\n",
       "      <td>4116.0</td>\n",
       "      <td>170754.0</td>\n",
       "      <td>2.0201e+07</td>\n",
       "      <td>4135.0</td>\n",
       "      <td>3.0</td>\n",
       "      <td>1.040</td>\n",
       "      <td>130.8717</td>\n",
       "      <td>129.5030</td>\n",
       "      <td>487</td>\n",
       "    </tr>\n",
       "  </tbody>\n",
       "</table>\n",
       "</div>"
      ],
      "text/plain": [
       "              open   close    high     low    volume        date  pre_close  \\\n",
       "2020-12-25  4168.0  4193.0  4269.0  4152.0  372212.0  2.0201e+07     4188.0   \n",
       "2020-12-28  4221.0  4178.0  4355.0  4132.0  569139.0  2.0201e+07     4193.0   \n",
       "2020-12-29  4200.0  4109.0  4221.0  4089.0  328901.0  2.0201e+07     4178.0   \n",
       "2020-12-30  4128.0  4135.0  4166.0  4082.0  296782.0  2.0201e+07     4109.0   \n",
       "2020-12-31  4136.0  4178.0  4180.0  4116.0  170754.0  2.0201e+07     4135.0   \n",
       "\n",
       "            date_week  p_change     atr21     atr14  key  \n",
       "2020-12-25        4.0     0.119  133.7231  135.3642  483  \n",
       "2020-12-28        0.0    -0.358  141.8392  147.0489  484  \n",
       "2020-12-29        1.0    -1.652  140.9447  145.0424  485  \n",
       "2020-12-30        2.0     0.633  136.8588  138.5034  486  \n",
       "2020-12-31        3.0     1.040  130.8717  129.5030  487  "
      ]
     },
     "execution_count": 21,
     "metadata": {},
     "output_type": "execute_result"
    }
   ],
   "source": [
    "ABuSymbolPd.make_kl_df('jd0').tail()"
   ]
  },
  {
   "cell_type": "markdown",
   "metadata": {},
   "source": [
    "### 4. 全市场数据的更新\n",
    "\n",
    "在之前的章节使用abu.run_loop_back进行交易回测，使用的都是沙盒数据，如果需要使用实时数据，特别是回测交易多的情况下，比如全市场测试，推荐在使用abu.run_loop_back进行回测前先使用abu.run_kl_update将数据进行更新。\n",
    "\n",
    "在run_kl_update中会首先强制使用网络数据进行全市场数据更新，在更新完毕后会将全市场的交易数据都写入缓存，再abu.run_loop_back运行回测的时候使用本地数据模式，即实现数据更新与策略回测分离，运行效率提高。\n",
    "\n",
    "下面的代码将分别获取美股，A股，港股，期货，比特币，莱特币6年的交易数据，在后面的章节将分别使用这些数据做回测示例，读者可只获取自己关心的市场的交易数据，不必全部运行。"
   ]
  },
  {
   "cell_type": "markdown",
   "metadata": {},
   "source": [
    "所有获取的数据已经存放在百度云盘上，后面的章节使用的数据都是本节更新的数据，建议直接从云盘下载入库完毕的数据库，不需要从各个数据源再一个一个的下载数据进行入库，百度云地址如下：\n",
    "\n",
    "[csv格式美股，A股，港股，币类，期货6年日k数据](https://pan.baidu.com/s/1geNZgqf) 密码: gvtr\n",
    "\n",
    "下面数据存贮格式为hdf5数据，由于hdf5文件解压后非常大，还需要区分python版本，所以如果没有足够的存贮空间\n",
    "特别是python2下，建议使用csv格式的缓存文件：\n",
    "\n",
    "[mac系统python3 美股，A股，港股，币类，期货6年日k数据](https://pan.baidu.com/s/1o8sldNk) 密码: ecyp\n",
    "\n",
    "[mac系统python2 A股6年日k数据: ](https://pan.baidu.com/s/1bptn25h) 密码: sid8\n",
    "\n",
    "[mac系统python2 美股6年日k数据: ](https://pan.baidu.com/s/1geHR9Lp) 密码: uaww\n",
    "\n",
    "[windows python3 美股，A股，港股，币类，期货6年日k数据](https://pan.baidu.com/s/1bzeVHO) 密码: 3cwe\n",
    "\n",
    "[windows python2 A股6年日k数据: ](https://pan.baidu.com/s/1skZOe7N) 密码: 78mb\n",
    "\n",
    "[windows python2 美股6年日k数据: ](https://pan.baidu.com/s/1i5MNzKx) 密码: 63r3\n",
    "\n",
    "下载完毕上述数据后，hdf5解压得到df_kl.h5文件，csv解压得到csv文件夹，解压后放到下面路径下即可"
   ]
  },
  {
   "cell_type": "code",
   "execution_count": 22,
   "metadata": {},
   "outputs": [
    {
     "name": "stdout",
     "output_type": "stream",
     "text": [
      "C:\\Users\\sean.chen\\abu\\data\n"
     ]
    }
   ],
   "source": [
    "if abupy.env.g_is_mac_os:\n",
    "    !open $abupy.env.g_project_data_dir\n",
    "else:\n",
    "    !echo $abupy.env.g_project_data_dir"
   ]
  },
  {
   "cell_type": "markdown",
   "metadata": {},
   "source": [
    "如果不想通过直接下载数据文件的方式，也可下面通过切换至腾讯数据源，然后进行美股数据全市场更新：\n",
    "\n",
    "备注：耗时操作，大概需要运行15分钟左右，可以在做其它事情的时候运行"
   ]
  },
  {
   "cell_type": "code",
   "execution_count": 23,
   "metadata": {},
   "outputs": [
    {
     "name": "stdout",
     "output_type": "stream",
     "text": [
      "Wall time: 2min 10s\n"
     ]
    }
   ],
   "source": [
    "%%time\n",
    "abupy.env.g_market_source = EMarketSourceType.E_MARKET_SOURCE_tx\n",
    "abupy.env.g_data_cache_type = EDataCacheType.E_DATA_CACHE_CSV\n",
    "abu.run_kl_update(start='2011-08-08', end='2017-08-08', market=EMarketTargetType.E_MARKET_TARGET_US, n_jobs=10)"
   ]
  },
  {
   "cell_type": "markdown",
   "metadata": {},
   "source": [
    "如果不想通过直接下载数据文件的方式，也可切换至百度数据源，然后进行A股数据全市场更新：\n",
    "\n",
    "备注：耗时操作，大概需要运行20分钟左右，可以在做其它事情的时候运行"
   ]
  },
  {
   "cell_type": "code",
   "execution_count": 24,
   "metadata": {},
   "outputs": [
    {
     "name": "stdout",
     "output_type": "stream",
     "text": [
      "Wall time: 9min 42s\n"
     ]
    }
   ],
   "source": [
    "%%time\n",
    "abupy.env.g_market_source = EMarketSourceType.E_MARKET_SOURCE_bd\n",
    "abupy.env.g_data_cache_type = EDataCacheType.E_DATA_CACHE_CSV\n",
    "abu.run_kl_update(start='2011-08-08', end='2017-08-08', market=EMarketTargetType.E_MARKET_TARGET_CN, n_jobs=10)"
   ]
  },
  {
   "cell_type": "markdown",
   "metadata": {},
   "source": [
    "如果不想通过直接下载数据文件的方式，也可切换至网易数据源，然后进行港股数据全市场更新：\n",
    "\n",
    "备注：耗时操作，大概需要运行5分钟左右，可以在做其它事情的时候运行"
   ]
  },
  {
   "cell_type": "code",
   "execution_count": 25,
   "metadata": {},
   "outputs": [
    {
     "ename": "FileNotFoundError",
     "evalue": "[Errno 2] File b'D:\\\\sean.chen\\\\trader\\\\abu\\\\abupy\\\\CoreBu\\\\../RomDataBu\\\\stock_code_TW.csv' does not exist: b'D:\\\\sean.chen\\\\trader\\\\abu\\\\abupy\\\\CoreBu\\\\../RomDataBu\\\\stock_code_TW.csv'",
     "output_type": "error",
     "traceback": [
      "\u001b[1;31m---------------------------------------------------------------------------\u001b[0m",
      "\u001b[1;31mFileNotFoundError\u001b[0m                         Traceback (most recent call last)",
      "\u001b[1;32m<timed exec>\u001b[0m in \u001b[0;36m<module>\u001b[1;34m\u001b[0m\n",
      "\u001b[1;32mD:\\sean.chen\\trader\\abu\\abupy\\CoreBu\\ABu.py\u001b[0m in \u001b[0;36mrun_kl_update\u001b[1;34m(n_folds, start, end, market, n_jobs, how)\u001b[0m\n\u001b[0;32m    173\u001b[0m     \u001b[0mABuEnv\u001b[0m\u001b[1;33m.\u001b[0m\u001b[0mg_data_fetch_mode\u001b[0m \u001b[1;33m=\u001b[0m \u001b[0mEMarketDataFetchMode\u001b[0m\u001b[1;33m.\u001b[0m\u001b[0mE_DATA_FETCH_FORCE_NET\u001b[0m\u001b[1;33m\u001b[0m\u001b[1;33m\u001b[0m\u001b[0m\n\u001b[0;32m    174\u001b[0m     \u001b[1;31m# index=True, 需要大盘数据\u001b[0m\u001b[1;33m\u001b[0m\u001b[1;33m\u001b[0m\u001b[1;33m\u001b[0m\u001b[0m\n\u001b[1;32m--> 175\u001b[1;33m     \u001b[0msymbols\u001b[0m \u001b[1;33m=\u001b[0m \u001b[0mall_symbol\u001b[0m\u001b[1;33m(\u001b[0m\u001b[0mindex\u001b[0m\u001b[1;33m=\u001b[0m\u001b[1;32mTrue\u001b[0m\u001b[1;33m)\u001b[0m\u001b[1;33m\u001b[0m\u001b[1;33m\u001b[0m\u001b[0m\n\u001b[0m\u001b[0;32m    176\u001b[0m     \u001b[0m_\u001b[0m \u001b[1;33m=\u001b[0m \u001b[0mkl_df_dict_parallel\u001b[0m\u001b[1;33m(\u001b[0m\u001b[0msymbols\u001b[0m\u001b[1;33m,\u001b[0m \u001b[0mn_folds\u001b[0m\u001b[1;33m=\u001b[0m\u001b[0mn_folds\u001b[0m\u001b[1;33m,\u001b[0m \u001b[0mstart\u001b[0m\u001b[1;33m=\u001b[0m\u001b[0mstart\u001b[0m\u001b[1;33m,\u001b[0m \u001b[0mend\u001b[0m\u001b[1;33m=\u001b[0m\u001b[0mend\u001b[0m\u001b[1;33m,\u001b[0m \u001b[0mn_jobs\u001b[0m\u001b[1;33m=\u001b[0m\u001b[0mn_jobs\u001b[0m\u001b[1;33m,\u001b[0m \u001b[0mhow\u001b[0m\u001b[1;33m=\u001b[0m\u001b[0mhow\u001b[0m\u001b[1;33m)\u001b[0m\u001b[1;33m\u001b[0m\u001b[1;33m\u001b[0m\u001b[0m\n\u001b[0;32m    177\u001b[0m     \u001b[1;31m# 完成更新后所有认为强制走本地数据\u001b[0m\u001b[1;33m\u001b[0m\u001b[1;33m\u001b[0m\u001b[1;33m\u001b[0m\u001b[0m\n",
      "\u001b[1;32mD:\\sean.chen\\trader\\abu\\abupy\\MarketBu\\ABuMarket.py\u001b[0m in \u001b[0;36mall_symbol\u001b[1;34m(market, ss, index, value)\u001b[0m\n\u001b[0;32m    217\u001b[0m         \u001b[0msymbols\u001b[0m \u001b[1;33m=\u001b[0m \u001b[0m_all_cn_symbol\u001b[0m\u001b[1;33m(\u001b[0m\u001b[0mindex\u001b[0m\u001b[1;33m)\u001b[0m\u001b[1;33m\u001b[0m\u001b[1;33m\u001b[0m\u001b[0m\n\u001b[0;32m    218\u001b[0m     \u001b[1;32melif\u001b[0m \u001b[0mmarket\u001b[0m \u001b[1;33m==\u001b[0m \u001b[0mEMarketTargetType\u001b[0m\u001b[1;33m.\u001b[0m\u001b[0mE_MARKET_TARGET_HK\u001b[0m\u001b[1;33m:\u001b[0m\u001b[1;33m\u001b[0m\u001b[1;33m\u001b[0m\u001b[0m\n\u001b[1;32m--> 219\u001b[1;33m         \u001b[0msymbols\u001b[0m \u001b[1;33m=\u001b[0m \u001b[0m_all_hk_symbol\u001b[0m\u001b[1;33m(\u001b[0m\u001b[0mindex\u001b[0m\u001b[1;33m)\u001b[0m\u001b[1;33m\u001b[0m\u001b[1;33m\u001b[0m\u001b[0m\n\u001b[0m\u001b[0;32m    220\u001b[0m     \u001b[1;32melif\u001b[0m \u001b[0mmarket\u001b[0m \u001b[1;33m==\u001b[0m \u001b[0mEMarketTargetType\u001b[0m\u001b[1;33m.\u001b[0m\u001b[0mE_MARKET_TARGET_FUTURES_CN\u001b[0m\u001b[1;33m:\u001b[0m\u001b[1;33m\u001b[0m\u001b[1;33m\u001b[0m\u001b[0m\n\u001b[0;32m    221\u001b[0m         \u001b[0msymbols\u001b[0m \u001b[1;33m=\u001b[0m \u001b[0m_all_futures_cn\u001b[0m\u001b[1;33m(\u001b[0m\u001b[1;33m)\u001b[0m\u001b[1;33m\u001b[0m\u001b[1;33m\u001b[0m\u001b[0m\n",
      "\u001b[1;32mD:\\sean.chen\\trader\\abu\\abupy\\MarketBu\\ABuMarket.py\u001b[0m in \u001b[0;36m_all_hk_symbol\u001b[1;34m(index)\u001b[0m\n\u001b[0;32m    172\u001b[0m     \u001b[1;32mif\u001b[0m \u001b[0mABuEnv\u001b[0m\u001b[1;33m.\u001b[0m\u001b[0m_g_enable_example_env_ipython\u001b[0m\u001b[1;33m:\u001b[0m\u001b[1;33m\u001b[0m\u001b[1;33m\u001b[0m\u001b[0m\n\u001b[0;32m    173\u001b[0m         \u001b[1;32mreturn\u001b[0m \u001b[0mK_SAND_BOX_HK\u001b[0m\u001b[1;33m\u001b[0m\u001b[1;33m\u001b[0m\u001b[0m\n\u001b[1;32m--> 174\u001b[1;33m     \u001b[1;32mreturn\u001b[0m \u001b[0mAbuSymbolHK\u001b[0m\u001b[1;33m(\u001b[0m\u001b[1;33m)\u001b[0m\u001b[1;33m.\u001b[0m\u001b[0mall_symbol\u001b[0m\u001b[1;33m(\u001b[0m\u001b[0mindex\u001b[0m\u001b[1;33m=\u001b[0m\u001b[0mindex\u001b[0m\u001b[1;33m)\u001b[0m\u001b[1;33m\u001b[0m\u001b[1;33m\u001b[0m\u001b[0m\n\u001b[0m\u001b[0;32m    175\u001b[0m \u001b[1;33m\u001b[0m\u001b[0m\n\u001b[0;32m    176\u001b[0m \u001b[1;33m\u001b[0m\u001b[0m\n",
      "\u001b[1;32mD:\\sean.chen\\trader\\abu\\abupy\\UtilBu\\ABuDTUtil.py\u001b[0m in \u001b[0;36mget_instance\u001b[1;34m(*args, **kw)\u001b[0m\n\u001b[0;32m     54\u001b[0m         \u001b[1;32mif\u001b[0m \u001b[0mcls\u001b[0m \u001b[1;32mnot\u001b[0m \u001b[1;32min\u001b[0m \u001b[0minstances\u001b[0m\u001b[1;33m:\u001b[0m\u001b[1;33m\u001b[0m\u001b[1;33m\u001b[0m\u001b[0m\n\u001b[0;32m     55\u001b[0m             \u001b[1;31m# 不存在实例instances才进行构造\u001b[0m\u001b[1;33m\u001b[0m\u001b[1;33m\u001b[0m\u001b[1;33m\u001b[0m\u001b[0m\n\u001b[1;32m---> 56\u001b[1;33m             \u001b[0minstances\u001b[0m\u001b[1;33m[\u001b[0m\u001b[0mcls\u001b[0m\u001b[1;33m]\u001b[0m \u001b[1;33m=\u001b[0m \u001b[0mcls\u001b[0m\u001b[1;33m(\u001b[0m\u001b[1;33m*\u001b[0m\u001b[0margs\u001b[0m\u001b[1;33m,\u001b[0m \u001b[1;33m**\u001b[0m\u001b[0mkw\u001b[0m\u001b[1;33m)\u001b[0m\u001b[1;33m\u001b[0m\u001b[1;33m\u001b[0m\u001b[0m\n\u001b[0m\u001b[0;32m     57\u001b[0m         \u001b[1;32mreturn\u001b[0m \u001b[0minstances\u001b[0m\u001b[1;33m[\u001b[0m\u001b[0mcls\u001b[0m\u001b[1;33m]\u001b[0m\u001b[1;33m\u001b[0m\u001b[1;33m\u001b[0m\u001b[0m\n\u001b[0;32m     58\u001b[0m \u001b[1;33m\u001b[0m\u001b[0m\n",
      "\u001b[1;32mD:\\sean.chen\\trader\\abu\\abupy\\MarketBu\\ABuSymbolStock.py\u001b[0m in \u001b[0;36mwrapped\u001b[1;34m(*args, **kwargs)\u001b[0m\n\u001b[0;32m     46\u001b[0m                 \u001b[0mwarp_self\u001b[0m\u001b[1;33m.\u001b[0m\u001b[0mdf\u001b[0m \u001b[1;33m=\u001b[0m \u001b[1;32mNone\u001b[0m\u001b[1;33m\u001b[0m\u001b[1;33m\u001b[0m\u001b[0m\n\u001b[0;32m     47\u001b[0m \u001b[1;33m\u001b[0m\u001b[0m\n\u001b[1;32m---> 48\u001b[1;33m                 \u001b[0minit\u001b[0m\u001b[1;33m(\u001b[0m\u001b[1;33m*\u001b[0m\u001b[0margs\u001b[0m\u001b[1;33m,\u001b[0m \u001b[1;33m**\u001b[0m\u001b[0mkwargs\u001b[0m\u001b[1;33m)\u001b[0m\u001b[1;33m\u001b[0m\u001b[1;33m\u001b[0m\u001b[0m\n\u001b[0m\u001b[0;32m     49\u001b[0m \u001b[1;33m\u001b[0m\u001b[0m\n\u001b[0;32m     50\u001b[0m                 \u001b[1;31m# 剔除重复数据\u001b[0m\u001b[1;33m\u001b[0m\u001b[1;33m\u001b[0m\u001b[1;33m\u001b[0m\u001b[0m\n",
      "\u001b[1;32mD:\\sean.chen\\trader\\abu\\abupy\\MarketBu\\ABuSymbolStock.py\u001b[0m in \u001b[0;36m__init__\u001b[1;34m(self)\u001b[0m\n\u001b[0;32m    314\u001b[0m     \u001b[1;32mdef\u001b[0m \u001b[0m__init__\u001b[0m\u001b[1;33m(\u001b[0m\u001b[0mself\u001b[0m\u001b[1;33m)\u001b[0m\u001b[1;33m:\u001b[0m\u001b[1;33m\u001b[0m\u001b[1;33m\u001b[0m\u001b[0m\n\u001b[0;32m    315\u001b[0m         \u001b[1;34m\"\"\"被AbuStockBaseWrap替换__init__，即只需读取港股数据到self.df 后续在类装饰器完成\"\"\"\u001b[0m\u001b[1;33m\u001b[0m\u001b[1;33m\u001b[0m\u001b[0m\n\u001b[1;32m--> 316\u001b[1;33m         \u001b[0mself\u001b[0m\u001b[1;33m.\u001b[0m\u001b[0mdf\u001b[0m \u001b[1;33m=\u001b[0m \u001b[0mpd\u001b[0m\u001b[1;33m.\u001b[0m\u001b[0mread_csv\u001b[0m\u001b[1;33m(\u001b[0m\u001b[0m_stock_code_hk\u001b[0m\u001b[1;33m,\u001b[0m \u001b[0mindex_col\u001b[0m\u001b[1;33m=\u001b[0m\u001b[1;36m0\u001b[0m\u001b[1;33m,\u001b[0m \u001b[0mdtype\u001b[0m\u001b[1;33m=\u001b[0m\u001b[0mstr\u001b[0m\u001b[1;33m)\u001b[0m\u001b[1;33m\u001b[0m\u001b[1;33m\u001b[0m\u001b[0m\n\u001b[0m\u001b[0;32m    317\u001b[0m \u001b[1;33m\u001b[0m\u001b[0m\n\u001b[0;32m    318\u001b[0m     \u001b[1;32mdef\u001b[0m \u001b[0m__contains__\u001b[0m\u001b[1;33m(\u001b[0m\u001b[0mself\u001b[0m\u001b[1;33m,\u001b[0m \u001b[0mitem\u001b[0m\u001b[1;33m)\u001b[0m\u001b[1;33m:\u001b[0m\u001b[1;33m\u001b[0m\u001b[1;33m\u001b[0m\u001b[0m\n",
      "\u001b[1;32m~\\AppData\\Local\\Continuum\\anaconda3\\lib\\site-packages\\pandas\\io\\parsers.py\u001b[0m in \u001b[0;36mparser_f\u001b[1;34m(filepath_or_buffer, sep, delimiter, header, names, index_col, usecols, squeeze, prefix, mangle_dupe_cols, dtype, engine, converters, true_values, false_values, skipinitialspace, skiprows, skipfooter, nrows, na_values, keep_default_na, na_filter, verbose, skip_blank_lines, parse_dates, infer_datetime_format, keep_date_col, date_parser, dayfirst, cache_dates, iterator, chunksize, compression, thousands, decimal, lineterminator, quotechar, quoting, doublequote, escapechar, comment, encoding, dialect, error_bad_lines, warn_bad_lines, delim_whitespace, low_memory, memory_map, float_precision)\u001b[0m\n\u001b[0;32m    683\u001b[0m         )\n\u001b[0;32m    684\u001b[0m \u001b[1;33m\u001b[0m\u001b[0m\n\u001b[1;32m--> 685\u001b[1;33m         \u001b[1;32mreturn\u001b[0m \u001b[0m_read\u001b[0m\u001b[1;33m(\u001b[0m\u001b[0mfilepath_or_buffer\u001b[0m\u001b[1;33m,\u001b[0m \u001b[0mkwds\u001b[0m\u001b[1;33m)\u001b[0m\u001b[1;33m\u001b[0m\u001b[1;33m\u001b[0m\u001b[0m\n\u001b[0m\u001b[0;32m    686\u001b[0m \u001b[1;33m\u001b[0m\u001b[0m\n\u001b[0;32m    687\u001b[0m     \u001b[0mparser_f\u001b[0m\u001b[1;33m.\u001b[0m\u001b[0m__name__\u001b[0m \u001b[1;33m=\u001b[0m \u001b[0mname\u001b[0m\u001b[1;33m\u001b[0m\u001b[1;33m\u001b[0m\u001b[0m\n",
      "\u001b[1;32m~\\AppData\\Local\\Continuum\\anaconda3\\lib\\site-packages\\pandas\\io\\parsers.py\u001b[0m in \u001b[0;36m_read\u001b[1;34m(filepath_or_buffer, kwds)\u001b[0m\n\u001b[0;32m    455\u001b[0m \u001b[1;33m\u001b[0m\u001b[0m\n\u001b[0;32m    456\u001b[0m     \u001b[1;31m# Create the parser.\u001b[0m\u001b[1;33m\u001b[0m\u001b[1;33m\u001b[0m\u001b[1;33m\u001b[0m\u001b[0m\n\u001b[1;32m--> 457\u001b[1;33m     \u001b[0mparser\u001b[0m \u001b[1;33m=\u001b[0m \u001b[0mTextFileReader\u001b[0m\u001b[1;33m(\u001b[0m\u001b[0mfp_or_buf\u001b[0m\u001b[1;33m,\u001b[0m \u001b[1;33m**\u001b[0m\u001b[0mkwds\u001b[0m\u001b[1;33m)\u001b[0m\u001b[1;33m\u001b[0m\u001b[1;33m\u001b[0m\u001b[0m\n\u001b[0m\u001b[0;32m    458\u001b[0m \u001b[1;33m\u001b[0m\u001b[0m\n\u001b[0;32m    459\u001b[0m     \u001b[1;32mif\u001b[0m \u001b[0mchunksize\u001b[0m \u001b[1;32mor\u001b[0m \u001b[0miterator\u001b[0m\u001b[1;33m:\u001b[0m\u001b[1;33m\u001b[0m\u001b[1;33m\u001b[0m\u001b[0m\n",
      "\u001b[1;32m~\\AppData\\Local\\Continuum\\anaconda3\\lib\\site-packages\\pandas\\io\\parsers.py\u001b[0m in \u001b[0;36m__init__\u001b[1;34m(self, f, engine, **kwds)\u001b[0m\n\u001b[0;32m    893\u001b[0m             \u001b[0mself\u001b[0m\u001b[1;33m.\u001b[0m\u001b[0moptions\u001b[0m\u001b[1;33m[\u001b[0m\u001b[1;34m\"has_index_names\"\u001b[0m\u001b[1;33m]\u001b[0m \u001b[1;33m=\u001b[0m \u001b[0mkwds\u001b[0m\u001b[1;33m[\u001b[0m\u001b[1;34m\"has_index_names\"\u001b[0m\u001b[1;33m]\u001b[0m\u001b[1;33m\u001b[0m\u001b[1;33m\u001b[0m\u001b[0m\n\u001b[0;32m    894\u001b[0m \u001b[1;33m\u001b[0m\u001b[0m\n\u001b[1;32m--> 895\u001b[1;33m         \u001b[0mself\u001b[0m\u001b[1;33m.\u001b[0m\u001b[0m_make_engine\u001b[0m\u001b[1;33m(\u001b[0m\u001b[0mself\u001b[0m\u001b[1;33m.\u001b[0m\u001b[0mengine\u001b[0m\u001b[1;33m)\u001b[0m\u001b[1;33m\u001b[0m\u001b[1;33m\u001b[0m\u001b[0m\n\u001b[0m\u001b[0;32m    896\u001b[0m \u001b[1;33m\u001b[0m\u001b[0m\n\u001b[0;32m    897\u001b[0m     \u001b[1;32mdef\u001b[0m \u001b[0mclose\u001b[0m\u001b[1;33m(\u001b[0m\u001b[0mself\u001b[0m\u001b[1;33m)\u001b[0m\u001b[1;33m:\u001b[0m\u001b[1;33m\u001b[0m\u001b[1;33m\u001b[0m\u001b[0m\n",
      "\u001b[1;32m~\\AppData\\Local\\Continuum\\anaconda3\\lib\\site-packages\\pandas\\io\\parsers.py\u001b[0m in \u001b[0;36m_make_engine\u001b[1;34m(self, engine)\u001b[0m\n\u001b[0;32m   1133\u001b[0m     \u001b[1;32mdef\u001b[0m \u001b[0m_make_engine\u001b[0m\u001b[1;33m(\u001b[0m\u001b[0mself\u001b[0m\u001b[1;33m,\u001b[0m \u001b[0mengine\u001b[0m\u001b[1;33m=\u001b[0m\u001b[1;34m\"c\"\u001b[0m\u001b[1;33m)\u001b[0m\u001b[1;33m:\u001b[0m\u001b[1;33m\u001b[0m\u001b[1;33m\u001b[0m\u001b[0m\n\u001b[0;32m   1134\u001b[0m         \u001b[1;32mif\u001b[0m \u001b[0mengine\u001b[0m \u001b[1;33m==\u001b[0m \u001b[1;34m\"c\"\u001b[0m\u001b[1;33m:\u001b[0m\u001b[1;33m\u001b[0m\u001b[1;33m\u001b[0m\u001b[0m\n\u001b[1;32m-> 1135\u001b[1;33m             \u001b[0mself\u001b[0m\u001b[1;33m.\u001b[0m\u001b[0m_engine\u001b[0m \u001b[1;33m=\u001b[0m \u001b[0mCParserWrapper\u001b[0m\u001b[1;33m(\u001b[0m\u001b[0mself\u001b[0m\u001b[1;33m.\u001b[0m\u001b[0mf\u001b[0m\u001b[1;33m,\u001b[0m \u001b[1;33m**\u001b[0m\u001b[0mself\u001b[0m\u001b[1;33m.\u001b[0m\u001b[0moptions\u001b[0m\u001b[1;33m)\u001b[0m\u001b[1;33m\u001b[0m\u001b[1;33m\u001b[0m\u001b[0m\n\u001b[0m\u001b[0;32m   1136\u001b[0m         \u001b[1;32melse\u001b[0m\u001b[1;33m:\u001b[0m\u001b[1;33m\u001b[0m\u001b[1;33m\u001b[0m\u001b[0m\n\u001b[0;32m   1137\u001b[0m             \u001b[1;32mif\u001b[0m \u001b[0mengine\u001b[0m \u001b[1;33m==\u001b[0m \u001b[1;34m\"python\"\u001b[0m\u001b[1;33m:\u001b[0m\u001b[1;33m\u001b[0m\u001b[1;33m\u001b[0m\u001b[0m\n",
      "\u001b[1;32m~\\AppData\\Local\\Continuum\\anaconda3\\lib\\site-packages\\pandas\\io\\parsers.py\u001b[0m in \u001b[0;36m__init__\u001b[1;34m(self, src, **kwds)\u001b[0m\n\u001b[0;32m   1915\u001b[0m         \u001b[0mkwds\u001b[0m\u001b[1;33m[\u001b[0m\u001b[1;34m\"usecols\"\u001b[0m\u001b[1;33m]\u001b[0m \u001b[1;33m=\u001b[0m \u001b[0mself\u001b[0m\u001b[1;33m.\u001b[0m\u001b[0musecols\u001b[0m\u001b[1;33m\u001b[0m\u001b[1;33m\u001b[0m\u001b[0m\n\u001b[0;32m   1916\u001b[0m \u001b[1;33m\u001b[0m\u001b[0m\n\u001b[1;32m-> 1917\u001b[1;33m         \u001b[0mself\u001b[0m\u001b[1;33m.\u001b[0m\u001b[0m_reader\u001b[0m \u001b[1;33m=\u001b[0m \u001b[0mparsers\u001b[0m\u001b[1;33m.\u001b[0m\u001b[0mTextReader\u001b[0m\u001b[1;33m(\u001b[0m\u001b[0msrc\u001b[0m\u001b[1;33m,\u001b[0m \u001b[1;33m**\u001b[0m\u001b[0mkwds\u001b[0m\u001b[1;33m)\u001b[0m\u001b[1;33m\u001b[0m\u001b[1;33m\u001b[0m\u001b[0m\n\u001b[0m\u001b[0;32m   1918\u001b[0m         \u001b[0mself\u001b[0m\u001b[1;33m.\u001b[0m\u001b[0munnamed_cols\u001b[0m \u001b[1;33m=\u001b[0m \u001b[0mself\u001b[0m\u001b[1;33m.\u001b[0m\u001b[0m_reader\u001b[0m\u001b[1;33m.\u001b[0m\u001b[0munnamed_cols\u001b[0m\u001b[1;33m\u001b[0m\u001b[1;33m\u001b[0m\u001b[0m\n\u001b[0;32m   1919\u001b[0m \u001b[1;33m\u001b[0m\u001b[0m\n",
      "\u001b[1;32mpandas\\_libs\\parsers.pyx\u001b[0m in \u001b[0;36mpandas._libs.parsers.TextReader.__cinit__\u001b[1;34m()\u001b[0m\n",
      "\u001b[1;32mpandas\\_libs\\parsers.pyx\u001b[0m in \u001b[0;36mpandas._libs.parsers.TextReader._setup_parser_source\u001b[1;34m()\u001b[0m\n",
      "\u001b[1;31mFileNotFoundError\u001b[0m: [Errno 2] File b'D:\\\\sean.chen\\\\trader\\\\abu\\\\abupy\\\\CoreBu\\\\../RomDataBu\\\\stock_code_TW.csv' does not exist: b'D:\\\\sean.chen\\\\trader\\\\abu\\\\abupy\\\\CoreBu\\\\../RomDataBu\\\\stock_code_TW.csv'"
     ]
    }
   ],
   "source": [
    "%%time\n",
    "abupy.env.g_market_source = EMarketSourceType.E_MARKET_SOURCE_nt\n",
    "abupy.env.g_data_cache_type = EDataCacheType.E_DATA_CACHE_CSV\n",
    "abu.run_kl_update(start='2011-08-08', end='2017-08-08', market=EMarketTargetType.E_MARKET_TARGET_HK, n_jobs=10)"
   ]
  },
  {
   "cell_type": "markdown",
   "metadata": {},
   "source": [
    "切换至新浪期货数据源，然后进行期货数据全市场更新：\n",
    "\n",
    "备注：非耗时操作，大概30秒"
   ]
  },
  {
   "cell_type": "code",
   "execution_count": 26,
   "metadata": {},
   "outputs": [
    {
     "name": "stdout",
     "output_type": "stream",
     "text": [
      "Wall time: 17.7 s\n"
     ]
    }
   ],
   "source": [
    "%%time\n",
    "abupy.env.g_market_source = EMarketSourceType.E_MARKET_SOURCE_sn_futures\n",
    "abupy.env.g_data_cache_type = EDataCacheType.E_DATA_CACHE_CSV\n",
    "abu.run_kl_update(start='2011-08-08', end='2017-08-08', market=EMarketTargetType.E_MARKET_TARGET_FUTURES_CN, n_jobs=4)"
   ]
  },
  {
   "cell_type": "markdown",
   "metadata": {},
   "source": [
    "切换至火币数据源，然后进行比特币，莱特币数据全市场更新：\n",
    "\n",
    "备注：非耗时操作，大概需要5秒"
   ]
  },
  {
   "cell_type": "code",
   "execution_count": 27,
   "metadata": {},
   "outputs": [
    {
     "name": "stdout",
     "output_type": "stream",
     "text": [
      "Wall time: 2.17 s\n"
     ]
    }
   ],
   "source": [
    "%%time\n",
    "abupy.env.g_market_source = EMarketSourceType.E_MARKET_SOURCE_hb_tc\n",
    "abupy.env.g_data_cache_type = EDataCacheType.E_DATA_CACHE_CSV\n",
    "abu.run_kl_update(start='2011-08-08', end='2017-08-08', market=EMarketTargetType.E_MARKET_TARGET_TC, n_jobs=2)"
   ]
  },
  {
   "cell_type": "markdown",
   "metadata": {},
   "source": [
    "### 5. 接入外部数据源，股票数据源\n",
    "\n",
    "abupy中内置的数据源：\n",
    "\n",
    "* 美股市场：腾讯数据源，百度数据源，网易数据源，新浪数据源\n",
    "* 港股市场：腾讯数据源，百度数据源，网易数据源\n",
    "* A股市场： 腾讯数据源，百度数据源，网易数据源\n",
    "* 期货市场：新浪期货数据源，新浪国际期货数据源\n",
    "* 比特币，莱特币：火币网数据源\n",
    "\n",
    "这些数据源都只是为用户学习使用，并不能保证数据一直通畅，而且如果用户很在乎数据质量，比如有些数据源会有前复权数据错误问题，有些数据源成交量不准确等问题，那么就需要接入用户自己的数据源。\n",
    "\n",
    "下面首先示例接入股票类型的数据源，首先实现一个数据源返回数据解析类，如下所示："
   ]
  },
  {
   "cell_type": "code",
   "execution_count": 28,
   "metadata": {},
   "outputs": [],
   "source": [
    "@AbuDataParseWrap()\n",
    "class SNUSParser(object):\n",
    "    \"\"\"snus数据源解析类，被类装饰器AbuDataParseWrap装饰\"\"\"\n",
    "    def __init__(self, symbol, json_dict):\n",
    "        \"\"\"\n",
    "        :param symbol: 请求的symbol str对象\n",
    "        :param json_dict: 请求返回的json数据\n",
    "        \"\"\"\n",
    "        data = json_dict\n",
    "        # 为AbuDataParseWrap准备类必须的属性序列\n",
    "        if len(data) > 0:\n",
    "            # 时间日期序列\n",
    "            self.date = [item['d'] for item in data]\n",
    "            # 开盘价格序列\n",
    "            self.open = [item['o'] for item in data]\n",
    "            # 收盘价格序列\n",
    "            self.close = [item['c'] for item in data]\n",
    "            # 最高价格序列\n",
    "            self.high = [item['h'] for item in data]\n",
    "            # 最低价格序列\n",
    "            self.low = [item['l'] for item in data]\n",
    "            # 成交量序列\n",
    "            self.volume = [item['v'] for item in data]"
   ]
  },
  {
   "cell_type": "markdown",
   "metadata": {},
   "source": [
    "上面编写的SNUSParser即为一个数据源返回数据解析类：\n",
    "\n",
    "1. 数据源解析类需要被类装饰器AbuDataParseWrap装饰\n",
    "2. 完成`__init__`函数，根据这里的数据json_dict来拆分成self.date，self.open，self.close，self.high，self.low，self.volume\n",
    "\n",
    "如本例中每一条json数据的格式为：\n",
    "\n",
    "    {'d': '2017-08-08', 'o': '102.29', 'h': '102.35', 'l': '99.16', 'c': '100.07', 'v': '1834706'}\n",
    "\n",
    "init函数目的就是通过拆解网络原始数据形成上述的五个基本序列，之后在类装饰器AbuDataParseWrap中会进行数据的再次加工以及规范标准化处理\n",
    "\n",
    "更多详情请阅读源代码ABuDataParser\n",
    "\n",
    "备注：这里拆解的过程没有在乎效率，只为好理解过程"
   ]
  },
  {
   "cell_type": "markdown",
   "metadata": {},
   "source": [
    "在编写数据解析类后就需要编写个数据源类，如下所示，以新浪美股数据源为例："
   ]
  },
  {
   "cell_type": "code",
   "execution_count": 29,
   "metadata": {},
   "outputs": [],
   "source": [
    "class SNUSApi(StockBaseMarket, SupportMixin):\n",
    "    \"\"\"snus数据源，支持美股\"\"\"\n",
    "    K_NET_BASE = \"http://stock.finance.sina.com.cn/usstock/api/json_v2.php/US_MinKService.getDailyK?\" \\\n",
    "                 \"symbol=%s&___qn=3n\"\n",
    "\n",
    "    def __init__(self, symbol):\n",
    "        \"\"\"\n",
    "        :param symbol: Symbol类型对象\n",
    "        \"\"\"\n",
    "        super(SNUSApi, self).__init__(symbol)\n",
    "        # 设置数据源解析对象类\n",
    "        self.data_parser_cls = SNUSParser\n",
    "\n",
    "    def _support_market(self):\n",
    "        \"\"\"声明数据源支持美股\"\"\"\n",
    "        return [EMarketTargetType.E_MARKET_TARGET_US]\n",
    "\n",
    "    def kline(self, n_folds=2, start=None, end=None):\n",
    "        \"\"\"日k线接口\"\"\"\n",
    "        url = SNUSApi.K_NET_BASE % self._symbol.symbol_code\n",
    "        data = ABuNetWork.get(url=url, timeout=(10, 60)).json()\n",
    "        kl_df = self.data_parser_cls(self._symbol, data).df\n",
    "        if kl_df is None:\n",
    "            return None\n",
    "        return StockBaseMarket._fix_kline_pd(kl_df, n_folds, start, end)\n",
    "\n",
    "    def minute(self, n_fold=5, *args, **kwargs):\n",
    "        \"\"\"分钟k线接口\"\"\"\n",
    "        raise NotImplementedError('SNUSApi minute NotImplementedError!')"
   ]
  },
  {
   "cell_type": "markdown",
   "metadata": {},
   "source": [
    "上面编写的SNUSApi即为一个股票数据源类：\n",
    "\n",
    "1. 股票类型数据源类需要继承StockBaseMarket\n",
    "2. `__init__`函数中指定数据源解析类\n",
    "3. 数据源类需要混入SupportMixin类，实现_support_market方法，声明支持的市场，本例只支持美股市场\n",
    "4. 数据源类需要实现kline接口，完成获取指定symbol的日线数据，将日线数据交给数据源解析类进行处理\n",
    "5. 数据源类需要实现分钟k线接口，也可以直接raise NotImplementedError"
   ]
  },
  {
   "cell_type": "markdown",
   "metadata": {},
   "source": [
    "下面示例使用，如下通过check_support检测是否支持A股，结果显示False:"
   ]
  },
  {
   "cell_type": "code",
   "execution_count": 30,
   "metadata": {},
   "outputs": [
    {
     "data": {
      "text/plain": [
       "False"
      ]
     },
     "execution_count": 30,
     "metadata": {},
     "output_type": "execute_result"
    }
   ],
   "source": [
    "SNUSApi(code_to_symbol('sh601766')).check_support(rs=False)"
   ]
  },
  {
   "cell_type": "markdown",
   "metadata": {
    "collapsed": true
   },
   "source": [
    "如下通过check_support检测是否支持美股，结果显示True:"
   ]
  },
  {
   "cell_type": "code",
   "execution_count": 31,
   "metadata": {},
   "outputs": [
    {
     "data": {
      "text/plain": [
       "True"
      ]
     },
     "execution_count": 31,
     "metadata": {},
     "output_type": "execute_result"
    }
   ],
   "source": [
    "SNUSApi(code_to_symbol('usSINA')).check_support(rs=False)"
   ]
  },
  {
   "cell_type": "markdown",
   "metadata": {},
   "source": [
    "如下通过kline接口获取数据，如下所示："
   ]
  },
  {
   "cell_type": "code",
   "execution_count": 32,
   "metadata": {},
   "outputs": [
    {
     "data": {
      "text/html": [
       "<div>\n",
       "<style scoped>\n",
       "    .dataframe tbody tr th:only-of-type {\n",
       "        vertical-align: middle;\n",
       "    }\n",
       "\n",
       "    .dataframe tbody tr th {\n",
       "        vertical-align: top;\n",
       "    }\n",
       "\n",
       "    .dataframe thead th {\n",
       "        text-align: right;\n",
       "    }\n",
       "</style>\n",
       "<table border=\"1\" class=\"dataframe\">\n",
       "  <thead>\n",
       "    <tr style=\"text-align: right;\">\n",
       "      <th></th>\n",
       "      <th>open</th>\n",
       "      <th>close</th>\n",
       "      <th>high</th>\n",
       "      <th>low</th>\n",
       "      <th>volume</th>\n",
       "      <th>date</th>\n",
       "      <th>pre_close</th>\n",
       "      <th>date_week</th>\n",
       "      <th>p_change</th>\n",
       "    </tr>\n",
       "  </thead>\n",
       "  <tbody>\n",
       "    <tr>\n",
       "      <td>2020-12-24</td>\n",
       "      <td>43.14</td>\n",
       "      <td>42.45</td>\n",
       "      <td>43.16</td>\n",
       "      <td>42.45</td>\n",
       "      <td>210974</td>\n",
       "      <td>20201224</td>\n",
       "      <td>43.20</td>\n",
       "      <td>3</td>\n",
       "      <td>-1.736</td>\n",
       "    </tr>\n",
       "    <tr>\n",
       "      <td>2020-12-28</td>\n",
       "      <td>42.85</td>\n",
       "      <td>42.20</td>\n",
       "      <td>42.86</td>\n",
       "      <td>42.08</td>\n",
       "      <td>434238</td>\n",
       "      <td>20201228</td>\n",
       "      <td>42.45</td>\n",
       "      <td>0</td>\n",
       "      <td>-0.589</td>\n",
       "    </tr>\n",
       "    <tr>\n",
       "      <td>2020-12-29</td>\n",
       "      <td>42.06</td>\n",
       "      <td>41.73</td>\n",
       "      <td>42.49</td>\n",
       "      <td>41.50</td>\n",
       "      <td>432688</td>\n",
       "      <td>20201229</td>\n",
       "      <td>42.20</td>\n",
       "      <td>1</td>\n",
       "      <td>-1.114</td>\n",
       "    </tr>\n",
       "    <tr>\n",
       "      <td>2020-12-30</td>\n",
       "      <td>41.66</td>\n",
       "      <td>42.08</td>\n",
       "      <td>42.25</td>\n",
       "      <td>41.66</td>\n",
       "      <td>261242</td>\n",
       "      <td>20201230</td>\n",
       "      <td>41.73</td>\n",
       "      <td>2</td>\n",
       "      <td>0.839</td>\n",
       "    </tr>\n",
       "    <tr>\n",
       "      <td>2020-12-31</td>\n",
       "      <td>42.04</td>\n",
       "      <td>42.38</td>\n",
       "      <td>42.50</td>\n",
       "      <td>41.81</td>\n",
       "      <td>225524</td>\n",
       "      <td>20201231</td>\n",
       "      <td>42.08</td>\n",
       "      <td>3</td>\n",
       "      <td>0.713</td>\n",
       "    </tr>\n",
       "  </tbody>\n",
       "</table>\n",
       "</div>"
      ],
      "text/plain": [
       "             open  close   high    low  volume      date  pre_close  \\\n",
       "2020-12-24  43.14  42.45  43.16  42.45  210974  20201224      43.20   \n",
       "2020-12-28  42.85  42.20  42.86  42.08  434238  20201228      42.45   \n",
       "2020-12-29  42.06  41.73  42.49  41.50  432688  20201229      42.20   \n",
       "2020-12-30  41.66  42.08  42.25  41.66  261242  20201230      41.73   \n",
       "2020-12-31  42.04  42.38  42.50  41.81  225524  20201231      42.08   \n",
       "\n",
       "            date_week  p_change  \n",
       "2020-12-24          3    -1.736  \n",
       "2020-12-28          0    -0.589  \n",
       "2020-12-29          1    -1.114  \n",
       "2020-12-30          2     0.839  \n",
       "2020-12-31          3     0.713  "
      ]
     },
     "execution_count": 32,
     "metadata": {},
     "output_type": "execute_result"
    }
   ],
   "source": [
    "SNUSApi(code_to_symbol('usSINA')).kline().tail()"
   ]
  },
  {
   "cell_type": "markdown",
   "metadata": {},
   "source": [
    "接入SNUSApi至abupy系统中，只需要将数据源类名称直接赋予abupy.env.g_private_data_source："
   ]
  },
  {
   "cell_type": "code",
   "execution_count": 33,
   "metadata": {},
   "outputs": [],
   "source": [
    "abupy.env.g_private_data_source = SNUSApi"
   ]
  },
  {
   "cell_type": "markdown",
   "metadata": {},
   "source": [
    "下面使用make_kl_df接口获取sh601766数据，显示SNUSApi不支持："
   ]
  },
  {
   "cell_type": "code",
   "execution_count": 34,
   "metadata": {},
   "outputs": [],
   "source": [
    "ABuSymbolPd.make_kl_df('sh601766')"
   ]
  },
  {
   "cell_type": "markdown",
   "metadata": {},
   "source": [
    "下面使用make_kl_df接口获取美股数据, 返回的数据即是通过上面实现的SNUSApi返回的："
   ]
  },
  {
   "cell_type": "code",
   "execution_count": 35,
   "metadata": {},
   "outputs": [
    {
     "ename": "AttributeError",
     "evalue": "'NoneType' object has no attribute 'tail'",
     "output_type": "error",
     "traceback": [
      "\u001b[1;31m---------------------------------------------------------------------------\u001b[0m",
      "\u001b[1;31mAttributeError\u001b[0m                            Traceback (most recent call last)",
      "\u001b[1;32m<ipython-input-35-63406b1931d7>\u001b[0m in \u001b[0;36m<module>\u001b[1;34m\u001b[0m\n\u001b[1;32m----> 1\u001b[1;33m \u001b[0mABuSymbolPd\u001b[0m\u001b[1;33m.\u001b[0m\u001b[0mmake_kl_df\u001b[0m\u001b[1;33m(\u001b[0m\u001b[1;34m'usSINA'\u001b[0m\u001b[1;33m)\u001b[0m\u001b[1;33m.\u001b[0m\u001b[0mtail\u001b[0m\u001b[1;33m(\u001b[0m\u001b[1;33m)\u001b[0m\u001b[1;33m\u001b[0m\u001b[1;33m\u001b[0m\u001b[0m\n\u001b[0m",
      "\u001b[1;31mAttributeError\u001b[0m: 'NoneType' object has no attribute 'tail'"
     ]
    }
   ],
   "source": [
    "ABuSymbolPd.make_kl_df('usSINA').tail()"
   ]
  },
  {
   "cell_type": "markdown",
   "metadata": {},
   "source": [
    "### 6. 接入外部数据源，期货数据源\n",
    "\n",
    "下面示例接入期货类型的数据源，首先实现一个数据源返回数据解析类，如下所示："
   ]
  },
  {
   "cell_type": "code",
   "execution_count": null,
   "metadata": {},
   "outputs": [],
   "source": [
    "@AbuDataParseWrap()\n",
    "class SNFuturesParser(object):\n",
    "    \"\"\"示例期货数据源解析类，被类装饰器AbuDataParseWrap装饰\"\"\"\n",
    "    # noinspection PyUnusedLocal\n",
    "    def __init__(self, symbol, json_dict):\n",
    "        \"\"\"\n",
    "        :param symbol: 请求的symbol str对象\n",
    "        :param json_dict: 请求返回的json数据\n",
    "        \"\"\"\n",
    "        data = json_dict\n",
    "        # 为AbuDataParseWrap准备类必须的属性序列\n",
    "        if len(data) > 0:\n",
    "            # 时间日期序列\n",
    "            self.date = [item[0] for item in data]\n",
    "            # 开盘价格序列\n",
    "            self.open = [item[1] for item in data]\n",
    "            # 最高价格序列\n",
    "            self.high = [item[2] for item in data]\n",
    "            # 最低价格序列\n",
    "            self.low = [item[3] for item in data]\n",
    "            # 收盘价格序列\n",
    "            self.close = [item[4] for item in data]\n",
    "            # 成交量序列\n",
    "            self.volume = [item[5] for item in data]"
   ]
  },
  {
   "cell_type": "markdown",
   "metadata": {},
   "source": [
    "上面编写的SNFuturesParser与SNUSParser基本相同：被类装饰器AbuDataParseWrap装饰，实现`__init__`函数\n",
    "\n",
    "如本例中每一条json数据的格式为, 所以通过序号解析对应的值：\n",
    "\n",
    "    ['2017-08-08', '4295.000', '4358.000', '4281.000', '4345.000', '175570']\n",
    "\n",
    "在编写数据解析类后就需要编写个数据源类，如下所示，以新浪期货数据源为例："
   ]
  },
  {
   "cell_type": "code",
   "execution_count": null,
   "metadata": {},
   "outputs": [],
   "source": [
    "class SNFuturesApi(FuturesBaseMarket, SupportMixin):\n",
    "    \"\"\"sn futures数据源，支持国内期货\"\"\"\n",
    "\n",
    "    K_NET_BASE = \"http://stock.finance.sina.com.cn/futures/api/json_v2.php/\" \\\n",
    "                 \"IndexService.getInnerFuturesDailyKLine?symbol=%s\"\n",
    "\n",
    "    def __init__(self, symbol):\n",
    "        \"\"\"\n",
    "        :param symbol: Symbol类型对象\n",
    "        \"\"\"\n",
    "        super(SNFuturesApi, self).__init__(symbol)\n",
    "        # 设置数据源解析对象类\n",
    "        self.data_parser_cls = SNFuturesParser\n",
    "\n",
    "    def _support_market(self):\n",
    "        \"\"\"声明数据源支持期货数据\"\"\"\n",
    "        return [EMarketTargetType.E_MARKET_TARGET_FUTURES_CN]\n",
    "\n",
    "    def kline(self, n_folds=2, start=None, end=None):\n",
    "        \"\"\"日k线接口\"\"\"\n",
    "        url = SNFuturesApi.K_NET_BASE % self._symbol.symbol_code\n",
    "        data = ABuNetWork.get(url=url, timeout=(10, 60)).json()\n",
    "        kl_df = self.data_parser_cls(self._symbol, data).df\n",
    "        if kl_df is None:\n",
    "            return None\n",
    "        return FuturesBaseMarket._fix_kline_pd(kl_df, n_folds, start, end)"
   ]
  },
  {
   "cell_type": "markdown",
   "metadata": {},
   "source": [
    "上面编写的SNFuturesApi即为一个期货数据源类：\n",
    "\n",
    "1. 期货类型数据源类需要继承FuturesBaseMarket\n",
    "2. `__init__`函数中指定数据源解析类\n",
    "3. 数据源类需要混入SupportMixin类，实现_support_market方法，声明支持的市场，本例只支持期货市场\n",
    "4. 数据源类需要实现kline接口，完成获取指定symbol的日线数据，将日线数据交给数据源解析类进行处理"
   ]
  },
  {
   "cell_type": "markdown",
   "metadata": {},
   "source": [
    "下面示例使用，如下通过check_support检测是否支持美股，结果显示False:"
   ]
  },
  {
   "cell_type": "code",
   "execution_count": null,
   "metadata": {},
   "outputs": [],
   "source": [
    "SNFuturesApi(code_to_symbol('usSINA')).check_support(rs=False)"
   ]
  },
  {
   "cell_type": "markdown",
   "metadata": {},
   "source": [
    "如下通过check_support检测是否支持期货，结果显示True："
   ]
  },
  {
   "cell_type": "code",
   "execution_count": null,
   "metadata": {},
   "outputs": [],
   "source": [
    "SNFuturesApi(code_to_symbol('jd0')).check_support(rs=False)"
   ]
  },
  {
   "cell_type": "markdown",
   "metadata": {},
   "source": [
    "接入SNFuturesApi至abupy系统中, 使用make_kl_df接口获取期货鸡蛋连续数据："
   ]
  },
  {
   "cell_type": "code",
   "execution_count": null,
   "metadata": {},
   "outputs": [],
   "source": [
    "abupy.env.g_private_data_source = SNFuturesApi\n",
    "ABuSymbolPd.make_kl_df('jd0').tail()"
   ]
  },
  {
   "cell_type": "markdown",
   "metadata": {},
   "source": [
    "与期货市场类似的是美股期权市场，abupy同样支持美股期权市场的回测分析等操作，但由于暂时没有合适的可对外的数据源提供，所以暂时无示例，用户也可以在abupy中接入自己的美股期权数据源。"
   ]
  },
  {
   "cell_type": "markdown",
   "metadata": {},
   "source": [
    "### 7. 接入外部数据源，比特币，莱特币数据源\n",
    "\n",
    "下面示例接入币类市场数据源，首先实现一个数据源返回数据解析类，如下所示："
   ]
  },
  {
   "cell_type": "code",
   "execution_count": null,
   "metadata": {},
   "outputs": [],
   "source": [
    "@AbuDataParseWrap()\n",
    "class HBTCParser(object):\n",
    "    \"\"\"示例币类市场数据源解析类，被类装饰器AbuDataParseWrap装饰\"\"\"\n",
    "    def __init__(self, symbol, json_dict):\n",
    "        \"\"\"\n",
    "        :param symbol: 请求的symbol str对象\n",
    "        :param json_dict: 请求返回的json数据\n",
    "        \"\"\"\n",
    "        data = json_dict\n",
    "        # 为AbuDataParseWrap准备类必须的属性序列\n",
    "        if len(data) > 0:\n",
    "            # 时间日期序列\n",
    "            self.date = [item[0] for item in data]\n",
    "            # 开盘价格序列\n",
    "            self.open = [item[1] for item in data]\n",
    "            # 最高价格序列\n",
    "            self.high = [item[2] for item in data]\n",
    "            # 最低价格序列\n",
    "            self.low = [item[3] for item in data]\n",
    "            # 收盘价格序列\n",
    "            self.close = [item[4] for item in data]\n",
    "            # 成交量序列\n",
    "            self.volume = [item[5] for item in data]\n",
    "\n",
    "            # 时间日期进行格式转化，转化为如2017-07-26格式字符串\n",
    "            self.date = list(map(lambda date: ABuDateUtil.fmt_date(date), self.date))"
   ]
  },
  {
   "cell_type": "markdown",
   "metadata": {},
   "source": [
    "上面编写的HBTCParser与上面的数据解析类基本相同：被类装饰器AbuDataParseWrap装饰，实现`__init__`函数\n",
    "\n",
    "如本例中每一条json数据的格式为, 所以通过序号解析对应的值：\n",
    "\n",
    "    ['20170809000000000', 22588.08, 23149.99, 22250.0, 22730.0, 7425.5134]\n",
    "    \n",
    "所以需要使用ABuDateUtil.fmt_date将时间进行格式转化，下面编写对应的数据源类，如下所示，以火币数据源为例："
   ]
  },
  {
   "cell_type": "code",
   "execution_count": null,
   "metadata": {},
   "outputs": [],
   "source": [
    "class HBApi(TCBaseMarket, SupportMixin):\n",
    "    \"\"\"hb数据源，支持币类，比特币，莱特币\"\"\"\n",
    "\n",
    "    K_NET_BASE = 'https://www.huobi.com/qt/staticmarket/%s_kline_100_json.js?length=%d'\n",
    "\n",
    "    def __init__(self, symbol):\n",
    "        \"\"\"\n",
    "        :param symbol: Symbol类型对象\n",
    "        \"\"\"\n",
    "        super(HBApi, self).__init__(symbol)\n",
    "        # 设置数据源解析对象类\n",
    "        self.data_parser_cls = HBTCParser\n",
    "\n",
    "    def _support_market(self):\n",
    "        \"\"\"只支持币类市场\"\"\"\n",
    "        return [EMarketTargetType.E_MARKET_TARGET_TC]\n",
    "\n",
    "    def kline(self, n_folds=2, start=None, end=None):\n",
    "        \"\"\"日k线接口\"\"\"\n",
    "        req_cnt = n_folds * 365\n",
    "        if start is not None and end is not None:\n",
    "            # 向上取整数，下面使用_fix_kline_pd再次进行剪裁, 要使用current_str_date不能是end\n",
    "            folds = math.ceil(ABuDateUtil.diff(ABuDateUtil.date_str_to_int(start),\n",
    "                                               ABuDateUtil.current_str_date()) / 365)\n",
    "            req_cnt = folds * 365\n",
    "\n",
    "        url = HBApi.K_NET_BASE % (self._symbol.symbol_code, req_cnt)\n",
    "        data = ABuNetWork.get(url=url, timeout=(10, 60)).json()\n",
    "        kl_df = self.data_parser_cls(self._symbol, data).df\n",
    "        if kl_df is None:\n",
    "            return None\n",
    "        return TCBaseMarket._fix_kline_pd(kl_df, n_folds, start, end)\n",
    "\n",
    "    def minute(self, *args, **kwargs):\n",
    "        \"\"\"分钟k线接口\"\"\"\n",
    "        raise NotImplementedError('HBApi minute NotImplementedError!')"
   ]
  },
  {
   "cell_type": "markdown",
   "metadata": {},
   "source": [
    "上面编写的HBApi即为一个支持比特币，莱特币数据源类：\n",
    "\n",
    "1. 期货类型数据源类需要继承TCBaseMarket\n",
    "2. `__init__`函数中指定数据源解析类\n",
    "3. 数据源类需要混入SupportMixin类，实现_support_market方法，声明支持的市场，本例只支持币类市场\n",
    "4. 数据源类需要实现kline接口，完成获取指定symbol的日线数据，将日线数据交给数据源解析类进行处理\n",
    "4. 数据源类需要实现分钟k线接口minute，也可raise NotImplementedError"
   ]
  },
  {
   "cell_type": "markdown",
   "metadata": {},
   "source": [
    "下面示例使用，如下通过check_support检测是否支持美股，结果显示False:"
   ]
  },
  {
   "cell_type": "code",
   "execution_count": null,
   "metadata": {},
   "outputs": [],
   "source": [
    "HBApi(code_to_symbol('usSINA')).check_support(rs=False)"
   ]
  },
  {
   "cell_type": "markdown",
   "metadata": {},
   "source": [
    "如下通过check_support检测是否支持比特币，结果显示True："
   ]
  },
  {
   "cell_type": "code",
   "execution_count": null,
   "metadata": {},
   "outputs": [],
   "source": [
    "HBApi(code_to_symbol('btc')).check_support(rs=False)"
   ]
  },
  {
   "cell_type": "markdown",
   "metadata": {},
   "source": [
    "接入HBApi至abupy系统中, 使用make_kl_df接口获取期货比特币数据："
   ]
  },
  {
   "cell_type": "code",
   "execution_count": null,
   "metadata": {},
   "outputs": [],
   "source": [
    "abupy.env.g_private_data_source = HBApi\n",
    "ABuSymbolPd.make_kl_df('btc').tail()"
   ]
  },
  {
   "cell_type": "markdown",
   "metadata": {},
   "source": [
    "小结：\n",
    "\n",
    "abupy内置的数据源仅供学习使用，abupy提供了接入外部数据源的接口和规范，推荐购买数据源接入使用，特别是在实盘中。"
   ]
  },
  {
   "cell_type": "markdown",
   "metadata": {
    "collapsed": true
   },
   "source": [
    "#### abu量化文档目录章节\n",
    "\n",
    "1. [择时策略的开发](http://www.abuquant.com/lecture/lecture_1.html)\n",
    "2. [择时策略的优化](http://www.abuquant.com/lecture/lecture_2.html)\n",
    "3. [滑点策略与交易手续费](http://www.abuquant.com/lecture/lecture_3.html)\n",
    "4. [多支股票择时回测与仓位管理](http://www.abuquant.com/lecture/lecture_4.html)\n",
    "5. [选股策略的开发](http://www.abuquant.com/lecture/lecture_5.html)\n",
    "6. [回测结果的度量](http://www.abuquant.com/lecture/lecture_6.html)\n",
    "7. [寻找策略最优参数和评分](http://www.abuquant.com/lecture/lecture_7.html)\n",
    "8. [A股市场的回测](http://www.abuquant.com/lecture/lecture_8.html)\n",
    "9. [港股市场的回测](http://www.abuquant.com/lecture/lecture_9.html)\n",
    "10. [比特币，莱特币的回测](http://www.abuquant.com/lecture/lecture_10.html)\n",
    "11. [期货市场的回测](http://www.abuquant.com/lecture/lecture_11.html)\n",
    "12. [机器学习与比特币示例](http://www.abuquant.com/lecture/lecture_12.html)\n",
    "13. [量化技术分析应用](http://www.abuquant.com/lecture/lecture_13.html)\n",
    "14. [量化相关性分析应用](http://www.abuquant.com/lecture/lecture_14.html)\n",
    "15. [量化交易和搜索引擎](http://www.abuquant.com/lecture/lecture_15.html)\n",
    "16. [UMP主裁交易决策](http://www.abuquant.com/lecture/lecture_16.html)\n",
    "17. [UMP边裁交易决策](http://www.abuquant.com/lecture/lecture_17.html)\n",
    "18. [自定义裁判决策交易](http://www.abuquant.com/lecture/lecture_18.html)\n",
    "19. [数据源](http://www.abuquant.com/lecture/lecture_19.html)\n",
    "20. [A股全市场回测](http://www.abuquant.com/lecture/lecture_20.html)\n",
    "21. [A股UMP决策](http://www.abuquant.com/lecture/lecture_21.html)\n",
    "22. [美股全市场回测](http://www.abuquant.com/lecture/lecture_22.html)\n",
    "23. [美股UMP决策](http://www.abuquant.com/lecture/lecture_23.html)\n",
    "\n",
    "abu量化系统文档教程持续更新中，请关注公众号中的更新提醒。\n",
    "\n",
    "#### 《量化交易之路》目录章节及随书代码地址\n",
    "\n",
    "1. [第二章 量化语言——Python](https://github.com/bbfamily/abu/tree/master/ipython/第二章-量化语言——Python.ipynb)\n",
    "2. [第三章 量化工具——NumPy](https://github.com/bbfamily/abu/tree/master/ipython/第三章-量化工具——NumPy.ipynb)\n",
    "3. [第四章 量化工具——pandas](https://github.com/bbfamily/abu/tree/master/ipython/第四章-量化工具——pandas.ipynb)\n",
    "4. [第五章 量化工具——可视化](https://github.com/bbfamily/abu/tree/master/ipython/第五章-量化工具——可视化.ipynb)\n",
    "5. [第六章 量化工具——数学：你一生的追求到底能带来多少幸福](https://github.com/bbfamily/abu/tree/master/ipython/第六章-量化工具——数学.ipynb)\n",
    "6. [第七章 量化系统——入门：三只小猪股票投资的故事](https://github.com/bbfamily/abu/tree/master/ipython/第七章-量化系统——入门.ipynb)\n",
    "7. [第八章 量化系统——开发](https://github.com/bbfamily/abu/tree/master/ipython/第八章-量化系统——开发.ipynb)\n",
    "8. [第九章 量化系统——度量与优化](https://github.com/bbfamily/abu/tree/master/ipython/第九章-量化系统——度量与优化.ipynb)\n",
    "9. [第十章 量化系统——机器学习•猪老三](https://github.com/bbfamily/abu/tree/master/ipython/第十章-量化系统——机器学习•猪老三.ipynb)\n",
    "10. [第十一章 量化系统——机器学习•ABU](https://github.com/bbfamily/abu/tree/master/ipython/第十一章-量化系统——机器学习•ABU.ipynb)\n",
    "11. [附录A 量化环境部署](https://github.com/bbfamily/abu/tree/master/ipython/附录A-量化环境部署.ipynb)\n",
    "12. [附录B 量化相关性分析](https://github.com/bbfamily/abu/tree/master/ipython/附录B-量化相关性分析.ipynb)\n",
    "13. [附录C 量化统计分析及指标应用](https://github.com/bbfamily/abu/tree/master/ipython/附录C-量化统计分析及指标应用.ipynb)\n",
    "\n",
    "[更多阿布量化量化技术文章](http://www.abuquant.com/article)\n",
    "\n",
    "\n",
    "更多关于量化交易相关请阅读[《量化交易之路》](http://www.abuquant.com/books/quantify-trading-road.html)\n",
    "\n",
    "更多关于量化交易与机器学习相关请阅读[《机器学习之路》](http://www.abuquant.com/books/machine-learning-road.html)\n",
    "\n",
    "更多关于abu量化系统请关注微信公众号: abu_quant\n",
    "\n",
    "![](./image/qrcode.jpg)"
   ]
  }
 ],
 "metadata": {
  "kernelspec": {
   "display_name": "Python 3",
   "language": "python",
   "name": "python3"
  },
  "language_info": {
   "codemirror_mode": {
    "name": "ipython",
    "version": 3
   },
   "file_extension": ".py",
   "mimetype": "text/x-python",
   "name": "python",
   "nbconvert_exporter": "python",
   "pygments_lexer": "ipython3",
   "version": "3.7.4"
  }
 },
 "nbformat": 4,
 "nbformat_minor": 2
}
