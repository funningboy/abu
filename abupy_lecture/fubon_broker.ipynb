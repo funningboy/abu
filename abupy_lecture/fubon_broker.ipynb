{
 "cells": [
  {
   "cell_type": "code",
   "execution_count": 1,
   "metadata": {},
   "outputs": [],
   "source": [
    "from bs4 import BeautifulSoup \n",
    "import requests\n",
    "import pandas as pd\n",
    "import numpy as np\n",
    "from datetime import date\n",
    "import matplotlib.pyplot as plt\n",
    "from string import Template\n",
    "import os\n",
    "import re\n",
    "from collections import defaultdict\n",
    "import random\n",
    "import json\n",
    "%matplotlib inline\n"
   ]
  },
  {
   "cell_type": "code",
   "execution_count": 2,
   "metadata": {},
   "outputs": [],
   "source": [
    "from datetime import datetime, timedelta\n",
    "\n",
    "dateString = \"2013/12/21\"\n",
    "dateFormatter = \"%Y/%m/%d\"\n",
    "datetime.strptime(dateString, dateFormatter)\n",
    "test_symbols = ['2330', '3008', '2317', '2412']\n",
    "DEBUG = False"
   ]
  },
  {
   "cell_type": "code",
   "execution_count": 3,
   "metadata": {},
   "outputs": [],
   "source": [
    "# Test broker id fetch \n",
    "def fetch_brokerId():\n",
    "    global BkrMap\n",
    "    URL = 'https://fubon-ebrokerdj.fbs.com.tw/z/js/zbrokerjs.djjs'\n",
    "    resp = requests.get(URL)\n",
    "    resp.encoding = 'cp950' # 中文\n",
    "    #print (resp.text)\n",
    "    reBkr = re.compile(r\".*g_BrokerList = \\'(.*)\\'\", re.MULTILINE|re.DOTALL)\n",
    "    reBkr2Id = re.compile(r\"(.*),(.*)\", re.DOTALL)\n",
    "    BkrGrps = reBkr.match(resp.text).group(1).split(';') # slice to broker groups\n",
    "    BkrMap = defaultdict(lambda: defaultdict(str))\n",
    "\n",
    "    for bkrgrp in BkrGrps:\n",
    "        bkrlist = bkrgrp.split('!') # slice to sub broker\n",
    "        for i, bkr in enumerate(bkrlist):\n",
    "            bmt = reBkr2Id.match(bkr)\n",
    "            if bmt:\n",
    "                top_bkr = bmt.group(2) if i == 0 else top_bkr\n",
    "                BkrMap[top_bkr].update({bmt.group(2): bmt.group(1)}) #group(1) = b\n",
    "\n",
    "    # debug            \n",
    "    #for k in sorted(BkrMap.keys())[:1]:\n",
    "    #    print(BkrMap[k])\n",
    "fetch_brokerId()"
   ]
  },
  {
   "cell_type": "code",
   "execution_count": 4,
   "metadata": {},
   "outputs": [],
   "source": [
    "# random pick BHID, SBHIDS\n",
    "def random_pick_BHIDs():\n",
    "    global BkrMap\n",
    "    test_BHIDS = list(BkrMap[random.choice(list(BkrMap.keys()))].items())\n",
    "    print (test_BHIDS)\n",
    "    BHID = test_BHIDS[0][1]\n",
    "    SBHID = random.choice(test_BHIDS[1:])[1] if len(test_BHIDS) > 2 else BHID # if have sub SBHIDS\n",
    "    #print (BHID, SBHID)\n",
    "    return (BHID, SBHID)\n",
    "    "
   ]
  },
  {
   "cell_type": "code",
   "execution_count": 5,
   "metadata": {},
   "outputs": [
    {
     "name": "stdout",
     "output_type": "stream",
     "text": [
      "[('台灣匯立證券', '1380')]\n",
      "1380 1380\n"
     ]
    }
   ],
   "source": [
    "BHID = '8150' # 台新\n",
    "SBHID = '8151' # 台新建北\n",
    "\n",
    "if not DEBUG:\n",
    "    BHID, SBHID = random_pick_BHIDs()\n",
    "    \n",
    "print (BHID, SBHID)"
   ]
  },
  {
   "cell_type": "code",
   "execution_count": 27,
   "metadata": {},
   "outputs": [],
   "source": [
    "#http://fubon-ebrokerdj.fbs.com.tw/z/zc/zco/zco0/zco0.djhtm?a=2330&BHID=9800&b=9800\n",
    "# get broker stock position detail put/call volume\n",
    "def get_broker_sub_symbol_position(BHID, SBHID, symbol):\n",
    "    URLStr = Template('https://fubon-ebrokerdj.fbs.com.tw/z/zc/zco/zco0/zco0.djhtm?a=$SYMBOL&BHID=$BHID&b=$SBHID')\n",
    "    URLPar = {\n",
    "        'SYMBOL': symbol,\n",
    "        'BHID' : BHID,\n",
    "        'SBHID': SBHID\n",
    "    }\n",
    "    urlStr = URLStr.substitute(URLPar)\n",
    "    resp = requests.get(urlStr)\n",
    "    soup = BeautifulSoup(resp.text, 'html.parser')\n",
    "    table = soup.find_all('table', {'class': 't01'})[1]\n",
    "    values = list(map(lambda x: str(x.text).replace(',',''), table.find_all('td', {'class': ['t3n1', 't3r1']})))\n",
    "    ddates = list(map(lambda x: datetime.strptime(str(x.text), dateFormatter), table.find_all('td', {'class': 't4n0'})))\n",
    "    #print (values)\n",
    "    #print (len(values))\n",
    "    calls = [values[i] for i in range(0, len(values), 4)]  #買\n",
    "    puts = [values[i+1] for i in range(0, len(values), 4)] #賣\n",
    "    BkrPutCall = {\n",
    "        'date': ddates,\n",
    "        'symbol': symbol,\n",
    "        'puts': puts,\n",
    "        'calls': calls\n",
    "    }\n",
    "    return  pd.DataFrame(BkrPutCall)"
   ]
  },
  {
   "cell_type": "code",
   "execution_count": 28,
   "metadata": {},
   "outputs": [
    {
     "data": {
      "text/html": [
       "<div>\n",
       "<style scoped>\n",
       "    .dataframe tbody tr th:only-of-type {\n",
       "        vertical-align: middle;\n",
       "    }\n",
       "\n",
       "    .dataframe tbody tr th {\n",
       "        vertical-align: top;\n",
       "    }\n",
       "\n",
       "    .dataframe thead th {\n",
       "        text-align: right;\n",
       "    }\n",
       "</style>\n",
       "<table border=\"1\" class=\"dataframe\">\n",
       "  <thead>\n",
       "    <tr style=\"text-align: right;\">\n",
       "      <th></th>\n",
       "      <th>date</th>\n",
       "      <th>symbol</th>\n",
       "      <th>puts</th>\n",
       "      <th>calls</th>\n",
       "    </tr>\n",
       "  </thead>\n",
       "  <tbody>\n",
       "    <tr>\n",
       "      <td>0</td>\n",
       "      <td>2021-02-04</td>\n",
       "      <td>3008</td>\n",
       "      <td>1</td>\n",
       "      <td>0</td>\n",
       "    </tr>\n",
       "    <tr>\n",
       "      <td>1</td>\n",
       "      <td>2021-02-03</td>\n",
       "      <td>3008</td>\n",
       "      <td>0</td>\n",
       "      <td>246</td>\n",
       "    </tr>\n",
       "    <tr>\n",
       "      <td>2</td>\n",
       "      <td>2021-02-02</td>\n",
       "      <td>3008</td>\n",
       "      <td>14</td>\n",
       "      <td>73</td>\n",
       "    </tr>\n",
       "    <tr>\n",
       "      <td>3</td>\n",
       "      <td>2021-02-01</td>\n",
       "      <td>3008</td>\n",
       "      <td>4</td>\n",
       "      <td>0</td>\n",
       "    </tr>\n",
       "  </tbody>\n",
       "</table>\n",
       "</div>"
      ],
      "text/plain": [
       "        date symbol puts calls\n",
       "0 2021-02-04   3008    1     0\n",
       "1 2021-02-03   3008    0   246\n",
       "2 2021-02-02   3008   14    73\n",
       "3 2021-02-01   3008    4     0"
      ]
     },
     "execution_count": 28,
     "metadata": {},
     "output_type": "execute_result"
    }
   ],
   "source": [
    "symbol = '2330'\n",
    "if not DEBUG:\n",
    "    symbol = random.choice(test_symbols)\n",
    "\n",
    "BkrPutCallpf = get_broker_sub_symbol_position(BHID, SBHID, symbol)\n",
    "BkrPutCallpf[:4]"
   ]
  },
  {
   "cell_type": "code",
   "execution_count": 29,
   "metadata": {},
   "outputs": [],
   "source": [
    "#https://fubon-ebrokerdj.fbs.com.tw/z/zg/zgb/zgb0.djhtm?a=1440&b=1440&c=E&d=1\n",
    "def get_broker_all_symbol_position(BHID, SBHID):\n",
    "    \n",
    "    # parser GenLink2stk('AS3481','群創');\n",
    "    reSymbol2Id = re.compile(r\".*GenLink2stk\\(\\'AS(.*)\\',\\'(.*)\\'\\);\", re.M|re.DOTALL)  \n",
    "    \n",
    "    #parser <a href=\"javascript:Link2Stk('00677U');\">00677U富邦VIX</a>\n",
    "    # no support yet\n",
    "    #reSymbol2Id2 = re.compile(r\".*Link2Stk\\(\\'(.*)\\'\\);\\\"\\>(.*)\\<\\/a\\>\", re.M|re.DOTALL)\n",
    "    \n",
    "    def get_symbol(text): \n",
    "        smt = reSymbol2Id.match(text)\n",
    "        if smt:\n",
    "            return smt.group(1)\n",
    "            \n",
    "    def get_puts_calls(table, Bkrlist):\n",
    "        values = list(map(lambda x: str(x.text).replace(',',''), table.find_all('td', {'class': ['t3n1', 't3r1']})))\n",
    "        symbols = list(map(lambda x:  get_symbol(str(x.text)), table.find_all('td', {'class': 't4t1'})))\n",
    "        \n",
    "        for i, symbol in enumerate(symbols):\n",
    "            if symbol == None:\n",
    "                continue\n",
    "            Bkrlist.append({\n",
    "            'symbol': symbol,\n",
    "            'calls': values[i*3+0], #買\n",
    "            'puts': values[i*3+1]   #賣\n",
    "            })\n",
    "        \n",
    "    URLStr = Template('https://fubon-ebrokerdj.fbs.com.tw/z/zg/zgb/zgb0.djhtm?a=$BHID&b=$SBHID&c=E&d=1')\n",
    "    URLPar = {\n",
    "        'BHID' : BHID,\n",
    "        'SBHID': SBHID\n",
    "    }\n",
    "    urlStr = URLStr.substitute(URLPar)\n",
    "    resp = requests.get(urlStr)\n",
    "    soup = BeautifulSoup(resp.text, 'html.parser')\n",
    "    \n",
    "    tables = soup.find_all('table', {'class': 't0'})\n",
    "    Bkrlist = list()\n",
    "    get_puts_calls(tables[0], Bkrlist) # 買超\n",
    "    get_puts_calls(tables[1], Bkrlist) # 賣超\n",
    "    \n",
    "    return pd.DataFrame(Bkrlist)"
   ]
  },
  {
   "cell_type": "code",
   "execution_count": 30,
   "metadata": {},
   "outputs": [
    {
     "data": {
      "text/html": [
       "<div>\n",
       "<style scoped>\n",
       "    .dataframe tbody tr th:only-of-type {\n",
       "        vertical-align: middle;\n",
       "    }\n",
       "\n",
       "    .dataframe tbody tr th {\n",
       "        vertical-align: top;\n",
       "    }\n",
       "\n",
       "    .dataframe thead th {\n",
       "        text-align: right;\n",
       "    }\n",
       "</style>\n",
       "<table border=\"1\" class=\"dataframe\">\n",
       "  <thead>\n",
       "    <tr style=\"text-align: right;\">\n",
       "      <th></th>\n",
       "      <th>symbol</th>\n",
       "      <th>calls</th>\n",
       "      <th>puts</th>\n",
       "    </tr>\n",
       "  </thead>\n",
       "  <tbody>\n",
       "    <tr>\n",
       "      <td>0</td>\n",
       "      <td>2885</td>\n",
       "      <td>2858</td>\n",
       "      <td>119</td>\n",
       "    </tr>\n",
       "    <tr>\n",
       "      <td>1</td>\n",
       "      <td>2324</td>\n",
       "      <td>996</td>\n",
       "      <td>88</td>\n",
       "    </tr>\n",
       "    <tr>\n",
       "      <td>2</td>\n",
       "      <td>3576</td>\n",
       "      <td>609</td>\n",
       "      <td>0</td>\n",
       "    </tr>\n",
       "    <tr>\n",
       "      <td>3</td>\n",
       "      <td>2317</td>\n",
       "      <td>634</td>\n",
       "      <td>166</td>\n",
       "    </tr>\n",
       "    <tr>\n",
       "      <td>4</td>\n",
       "      <td>3081</td>\n",
       "      <td>451</td>\n",
       "      <td>0</td>\n",
       "    </tr>\n",
       "  </tbody>\n",
       "</table>\n",
       "</div>"
      ],
      "text/plain": [
       "  symbol calls puts\n",
       "0   2885  2858  119\n",
       "1   2324   996   88\n",
       "2   3576   609    0\n",
       "3   2317   634  166\n",
       "4   3081   451    0"
      ]
     },
     "execution_count": 30,
     "metadata": {},
     "output_type": "execute_result"
    }
   ],
   "source": [
    "BHID2Symbolpf = get_broker_all_symbol_position(BHID, SBHID)\n",
    "BHID2Symbolpf.head()"
   ]
  },
  {
   "cell_type": "code",
   "execution_count": 10,
   "metadata": {},
   "outputs": [],
   "source": [
    "from mongoengine import *"
   ]
  },
  {
   "cell_type": "code",
   "execution_count": 11,
   "metadata": {},
   "outputs": [
    {
     "data": {
      "text/plain": [
       "MongoClient(host=['localhost:27017'], document_class=dict, tz_aware=False, connect=True, read_preference=Primary())"
      ]
     },
     "execution_count": 11,
     "metadata": {},
     "output_type": "execute_result"
    }
   ],
   "source": [
    "disconnect()\n",
    "connect(alias='symbol-db-alias', db='symbol-db')\n",
    "connect(alias='broker-db-alias', db='broker-db')\n",
    "connect(alias='symbol-broker-db-alias', db='symbol-broker-db')"
   ]
  },
  {
   "cell_type": "code",
   "execution_count": 12,
   "metadata": {},
   "outputs": [],
   "source": [
    "#TopBroker = {\n",
    "#  'BrokerId' : {\n",
    "#  [\n",
    "#       'date0': { [{'symbolId', 'puts', 'calls'}, ...]},\n",
    "#]\n",
    "#}\n",
    "#}\n",
    "class BrokerPositionDB(EmbeddedDocument): #embed\n",
    "    symbol = IntField() # ref symbol to Symbol Top \n",
    "    puts = IntField()   # puts volume\n",
    "    calls = IntField()  # call volume\n",
    "\n",
    "class BrokerDB(Document):\n",
    "    date = DateTimeField(default=datetime.utcnow)\n",
    "    position = ListField(EmbeddedDocumentField(BrokerPositionDB))\n",
    "    \n",
    "    meta = {'db_alias': 'broker-db-alias'}\n",
    "    \n",
    "class BarDB(Document):\n",
    "    O = FloatField()\n",
    "    L = FloatField()\n",
    "    V = IntField()\n",
    "    \n",
    "#MarginPS(Document):\n",
    "\n",
    "class SymbolDB(Document):\n",
    "    date = DateTimeField(default=datetime.utcnow)\n",
    "    broker = ReferenceField(BrokerDB)\n",
    "    bar = ReferenceField(BarDB)\n",
    "\n",
    "    meta = {'db_alias': 'symbol-broker-db-alias'}\n",
    "    "
   ]
  },
  {
   "cell_type": "code",
   "execution_count": 13,
   "metadata": {},
   "outputs": [],
   "source": [
    "#bkrPost = BkrPutCallpf.iloc[0].to_dict()\n",
    "BrkSymbolDic = BHID2Symbolpf.to_dict(orient=\"records\")"
   ]
  },
  {
   "cell_type": "code",
   "execution_count": 31,
   "metadata": {},
   "outputs": [],
   "source": [
    "# clean BrokerDB as empty\n",
    "BrokerDB.drop_collection()\n",
    "\n",
    "# random gen 10 broker symbols to mongodb\n",
    "for i in range(10):\n",
    "    brokerDb = BrokerDB()\n",
    "    brokerDb.date = datetime.now() - timedelta(days=i)\n",
    "    # pipeline from scrapy to MongoeEngine store\n",
    "    brokerDb.position = [BrokerPositionDB(**bb) for bb in BrkSymbolDic]\n",
    "    brokerDb.save()\n",
    "\n",
    "#broker.objects"
   ]
  },
  {
   "cell_type": "code",
   "execution_count": 85,
   "metadata": {},
   "outputs": [
    {
     "name": "stdout",
     "output_type": "stream",
     "text": [
      "10\n",
      "{'_id': 3037, 'sum_puts': 16, 'sum_calls': 6014}\n",
      "{'_id': 1101, 'sum_puts': 48, 'sum_calls': 5954}\n",
      "{'_id': 3105, 'sum_puts': 2, 'sum_calls': 3566}\n"
     ]
    },
    {
     "data": {
      "text/plain": [
       "3037"
      ]
     },
     "execution_count": 85,
     "metadata": {},
     "output_type": "execute_result"
    }
   ],
   "source": [
    "obj = BrokerDB.objects()[0]\n",
    "print(BrokerDB.objects.count())\n",
    "\n",
    "# test find max count of call symbols at sample time window\n",
    "pipeline = [\n",
    "    {\"$match\": { \"date\": { \"$lte\": datetime.now()} } },\n",
    "    {\"$match\": { \"date\": { \"$gte\": datetime.now() - timedelta(days=2) } } },\n",
    "    {\"$unwind\": \"$position\" },\n",
    "    {\"$group\": { \"_id\": \"$position.symbol\", \"sum_puts\": { \"$sum\": \"$position.puts\" }, \"sum_calls\": { \"$sum\": \"$position.calls\" } }  },\n",
    "    {\"$sort\": { \"sum_calls\": -1, \"sum_puts\": 1 } },\n",
    "    {\"$limit\": 3 }\n",
    "    ]\n",
    "collect = BrokerDB.objects().aggregate(pipeline)\n",
    "items = [cursor for cursor in list(collect)] # clean cursor ptr and store to list\n",
    "for it in items:\n",
    "    print (it)\n",
    "    \n",
    "MaxCallSymbol = items[0]['_id']\n",
    "MaxCallSymbol"
   ]
  },
  {
   "cell_type": "code",
   "execution_count": 62,
   "metadata": {},
   "outputs": [
    {
     "name": "stdout",
     "output_type": "stream",
     "text": [
      "2021-02-03 20:35:32.593000\n",
      "2021-02-04 20:35:32.570000\n"
     ]
    }
   ],
   "source": [
    "# test find symbol's call event at sample time window\n",
    "pipeline = [\n",
    "    {\"$match\": { \"date\": { \"$lte\": datetime.now()} } },\n",
    "    {\"$match\": { \"date\": { \"$gte\": datetime.now() - timedelta(days=2) } } },\n",
    "    {\"$unwind\": \"$position\" },\n",
    "    {\"$match\": { \"position.symbol\": MaxCallSymbol } },\n",
    "    {\"$sort\": { \"date\": 1} }\n",
    "    ]\n",
    "collect = BrokerDB.objects().aggregate(pipeline)\n",
    "items = [cursor for cursor in list(collect)] # clean cursor ptr and store to list\n",
    "# put to abu backtest algorithm to test broker win rate\n",
    "for it in items:\n",
    "    print (it['date'])"
   ]
  },
  {
   "cell_type": "code",
   "execution_count": 91,
   "metadata": {},
   "outputs": [
    {
     "name": "stdout",
     "output_type": "stream",
     "text": [
      "{'_id': 2330, 'times': 2}\n",
      "{'_id': 2313, 'times': 2}\n",
      "{'_id': 3708, 'times': 2}\n"
     ]
    },
    {
     "data": {
      "text/plain": [
       "2330"
      ]
     },
     "execution_count": 91,
     "metadata": {},
     "output_type": "execute_result"
    }
   ],
   "source": [
    "# test find max time of call(at least Call 5units threshold) symbols at sample time window\n",
    "# stage1\n",
    "pipeline = [\n",
    "    {\"$match\": { \"date\": { \"$lte\": datetime.now()} } },\n",
    "    {\"$match\": { \"date\": { \"$gte\": datetime.now() - timedelta(days=2) } } },\n",
    "    {\"$match\": { \"position.calls\": { \"$gte\": 5} } },\n",
    "    {\"$match\": { \"position.puts\": { \"$lte\": 5} } },\n",
    "    {\"$unwind\": \"$position\" },\n",
    "    {\"$group\": { \"_id\": \"$position.symbol\", \"times\": { \"$sum\": 1 } } },\n",
    "    {\"$sort\":  { \"times\": -1 } },\n",
    "    {\"$limit\": 3 }\n",
    "    ]\n",
    "collect = BrokerDB.objects().aggregate(pipeline)\n",
    "items = [cursor for cursor in list(collect)] # clean cursor ptr and store to list\n",
    "for it in items:\n",
    "    print (it)\n",
    "    \n",
    "MaxCallSymbol = items[0]['_id']\n",
    "MaxCallSymbol\n"
   ]
  },
  {
   "cell_type": "code",
   "execution_count": 93,
   "metadata": {},
   "outputs": [
    {
     "name": "stdout",
     "output_type": "stream",
     "text": [
      "{'_id': ObjectId('601bea149e75e0420e607eb2'), 'date': datetime.datetime(2021, 2, 4, 20, 35, 32, 570000), 'position': [{'symbol': 2885, 'puts': 2858, 'calls': 119}, {'symbol': 2324, 'puts': 996, 'calls': 88}, {'symbol': 3576, 'puts': 609, 'calls': 0}, {'symbol': 2317, 'puts': 634, 'calls': 166}, {'symbol': 3081, 'puts': 451, 'calls': 0}, {'symbol': 3481, 'puts': 400, 'calls': 0}, {'symbol': 2308, 'puts': 442, 'calls': 141}, {'symbol': 6239, 'puts': 286, 'calls': 0}, {'symbol': 2633, 'puts': 189, 'calls': 0}, {'symbol': 2382, 'puts': 193, 'calls': 11}, {'symbol': 2393, 'puts': 175, 'calls': 0}, {'symbol': 6669, 'puts': 137, 'calls': 0}, {'symbol': 6712, 'puts': 100, 'calls': 0}, {'symbol': 2883, 'puts': 93, 'calls': 0}, {'symbol': 5347, 'puts': 102, 'calls': 22}, {'symbol': 2887, 'puts': 67, 'calls': 0}, {'symbol': 2891, 'puts': 64, 'calls': 3}, {'symbol': 2605, 'puts': 61, 'calls': 0}, {'symbol': 2105, 'puts': 56, 'calls': 0}, {'symbol': 9911, 'puts': 56, 'calls': 0}, {'symbol': 2206, 'puts': 53, 'calls': 0}, {'symbol': 5483, 'puts': 49, 'calls': 0}, {'symbol': 2892, 'puts': 47, 'calls': 0}, {'symbol': 1319, 'puts': 46, 'calls': 0}, {'symbol': 1229, 'puts': 41, 'calls': 0}, {'symbol': 2344, 'puts': 34, 'calls': 0}, {'symbol': 3413, 'puts': 34, 'calls': 0}, {'symbol': 1216, 'puts': 33, 'calls': 0}, {'symbol': 3010, 'puts': 32, 'calls': 0}, {'symbol': 2886, 'puts': 32, 'calls': 0}, {'symbol': 3702, 'puts': 31, 'calls': 0}, {'symbol': 2356, 'puts': 29, 'calls': 0}, {'symbol': 2353, 'puts': 104, 'calls': 75}, {'symbol': 2603, 'puts': 29, 'calls': 0}, {'symbol': 2002, 'puts': 27, 'calls': 0}, {'symbol': 2347, 'puts': 26, 'calls': 0}, {'symbol': 1722, 'puts': 23, 'calls': 0}, {'symbol': 1560, 'puts': 22, 'calls': 0}, {'symbol': 1102, 'puts': 20, 'calls': 0}, {'symbol': 5903, 'puts': 18, 'calls': 0}, {'symbol': 8464, 'puts': 20, 'calls': 3}, {'symbol': 3711, 'puts': 17, 'calls': 0}, {'symbol': 1227, 'puts': 16, 'calls': 0}, {'symbol': 2354, 'puts': 13, 'calls': 0}, {'symbol': 3218, 'puts': 10, 'calls': 0}, {'symbol': 2412, 'puts': 13, 'calls': 3}, {'symbol': 2377, 'puts': 10, 'calls': 0}, {'symbol': 1301, 'puts': 10, 'calls': 0}, {'symbol': 2408, 'puts': 9, 'calls': 0}, {'symbol': 3045, 'puts': 9, 'calls': 0}, {'symbol': 3037, 'puts': 8, 'calls': 3007}, {'symbol': 1101, 'puts': 24, 'calls': 2977}, {'symbol': 3105, 'puts': 1, 'calls': 1783}, {'symbol': 2454, 'puts': 10, 'calls': 1664}, {'symbol': 2303, 'puts': 239, 'calls': 1076}, {'symbol': 2881, 'puts': 92, 'calls': 720}, {'symbol': 2330, 'puts': 506, 'calls': 1070}, {'symbol': 3189, 'puts': 0, 'calls': 495}, {'symbol': 2345, 'puts': 18, 'calls': 284}, {'symbol': 6147, 'puts': 6, 'calls': 261}, {'symbol': 5871, 'puts': 15, 'calls': 247}, {'symbol': 9933, 'puts': 0, 'calls': 195}, {'symbol': 2912, 'puts': 27, 'calls': 216}, {'symbol': 2103, 'puts': 0, 'calls': 143}, {'symbol': 2915, 'puts': 0, 'calls': 139}, {'symbol': 2313, 'puts': 0, 'calls': 133}, {'symbol': 1608, 'puts': 0, 'calls': 125}, {'symbol': 6121, 'puts': 31, 'calls': 141}, {'symbol': 2395, 'puts': 8, 'calls': 94}, {'symbol': 2014, 'puts': 0, 'calls': 84}, {'symbol': 3708, 'puts': 0, 'calls': 76}, {'symbol': 5269, 'puts': 0, 'calls': 70}, {'symbol': 2301, 'puts': 21, 'calls': 91}, {'symbol': 2031, 'puts': 0, 'calls': 57}, {'symbol': 3231, 'puts': 32, 'calls': 88}, {'symbol': 5469, 'puts': 0, 'calls': 54}, {'symbol': 9939, 'puts': 0, 'calls': 48}, {'symbol': 2368, 'puts': 0, 'calls': 47}, {'symbol': 2385, 'puts': 10, 'calls': 38}, {'symbol': 2890, 'puts': 59, 'calls': 84}, {'symbol': 6271, 'puts': 0, 'calls': 24}, {'symbol': 8069, 'puts': 0, 'calls': 22}, {'symbol': 2006, 'puts': 0, 'calls': 19}, {'symbol': 1904, 'puts': 0, 'calls': 19}, {'symbol': 2404, 'puts': 0, 'calls': 16}, {'symbol': 5234, 'puts': 0, 'calls': 14}, {'symbol': 2376, 'puts': 0, 'calls': 13}, {'symbol': 9904, 'puts': 26, 'calls': 38}, {'symbol': 1234, 'puts': 0, 'calls': 12}, {'symbol': 4938, 'puts': 0, 'calls': 12}, {'symbol': 4915, 'puts': 0, 'calls': 11}, {'symbol': 2360, 'puts': 0, 'calls': 10}, {'symbol': 2441, 'puts': 0, 'calls': 8}, {'symbol': 9908, 'puts': 0, 'calls': 7}, {'symbol': 2882, 'puts': 26, 'calls': 32}, {'symbol': 2474, 'puts': 0, 'calls': 5}, {'symbol': 1590, 'puts': 1, 'calls': 3}, {'symbol': 3023, 'puts': 0, 'calls': 2}]}\n",
      "{'_id': ObjectId('601bea149e75e0420e607eb3'), 'date': datetime.datetime(2021, 2, 3, 20, 35, 32, 593000), 'position': [{'symbol': 2885, 'puts': 2858, 'calls': 119}, {'symbol': 2324, 'puts': 996, 'calls': 88}, {'symbol': 3576, 'puts': 609, 'calls': 0}, {'symbol': 2317, 'puts': 634, 'calls': 166}, {'symbol': 3081, 'puts': 451, 'calls': 0}, {'symbol': 3481, 'puts': 400, 'calls': 0}, {'symbol': 2308, 'puts': 442, 'calls': 141}, {'symbol': 6239, 'puts': 286, 'calls': 0}, {'symbol': 2633, 'puts': 189, 'calls': 0}, {'symbol': 2382, 'puts': 193, 'calls': 11}, {'symbol': 2393, 'puts': 175, 'calls': 0}, {'symbol': 6669, 'puts': 137, 'calls': 0}, {'symbol': 6712, 'puts': 100, 'calls': 0}, {'symbol': 2883, 'puts': 93, 'calls': 0}, {'symbol': 5347, 'puts': 102, 'calls': 22}, {'symbol': 2887, 'puts': 67, 'calls': 0}, {'symbol': 2891, 'puts': 64, 'calls': 3}, {'symbol': 2605, 'puts': 61, 'calls': 0}, {'symbol': 2105, 'puts': 56, 'calls': 0}, {'symbol': 9911, 'puts': 56, 'calls': 0}, {'symbol': 2206, 'puts': 53, 'calls': 0}, {'symbol': 5483, 'puts': 49, 'calls': 0}, {'symbol': 2892, 'puts': 47, 'calls': 0}, {'symbol': 1319, 'puts': 46, 'calls': 0}, {'symbol': 1229, 'puts': 41, 'calls': 0}, {'symbol': 2344, 'puts': 34, 'calls': 0}, {'symbol': 3413, 'puts': 34, 'calls': 0}, {'symbol': 1216, 'puts': 33, 'calls': 0}, {'symbol': 3010, 'puts': 32, 'calls': 0}, {'symbol': 2886, 'puts': 32, 'calls': 0}, {'symbol': 3702, 'puts': 31, 'calls': 0}, {'symbol': 2356, 'puts': 29, 'calls': 0}, {'symbol': 2353, 'puts': 104, 'calls': 75}, {'symbol': 2603, 'puts': 29, 'calls': 0}, {'symbol': 2002, 'puts': 27, 'calls': 0}, {'symbol': 2347, 'puts': 26, 'calls': 0}, {'symbol': 1722, 'puts': 23, 'calls': 0}, {'symbol': 1560, 'puts': 22, 'calls': 0}, {'symbol': 1102, 'puts': 20, 'calls': 0}, {'symbol': 5903, 'puts': 18, 'calls': 0}, {'symbol': 8464, 'puts': 20, 'calls': 3}, {'symbol': 3711, 'puts': 17, 'calls': 0}, {'symbol': 1227, 'puts': 16, 'calls': 0}, {'symbol': 2354, 'puts': 13, 'calls': 0}, {'symbol': 3218, 'puts': 10, 'calls': 0}, {'symbol': 2412, 'puts': 13, 'calls': 3}, {'symbol': 2377, 'puts': 10, 'calls': 0}, {'symbol': 1301, 'puts': 10, 'calls': 0}, {'symbol': 2408, 'puts': 9, 'calls': 0}, {'symbol': 3045, 'puts': 9, 'calls': 0}, {'symbol': 3037, 'puts': 8, 'calls': 3007}, {'symbol': 1101, 'puts': 24, 'calls': 2977}, {'symbol': 3105, 'puts': 1, 'calls': 1783}, {'symbol': 2454, 'puts': 10, 'calls': 1664}, {'symbol': 2303, 'puts': 239, 'calls': 1076}, {'symbol': 2881, 'puts': 92, 'calls': 720}, {'symbol': 2330, 'puts': 506, 'calls': 1070}, {'symbol': 3189, 'puts': 0, 'calls': 495}, {'symbol': 2345, 'puts': 18, 'calls': 284}, {'symbol': 6147, 'puts': 6, 'calls': 261}, {'symbol': 5871, 'puts': 15, 'calls': 247}, {'symbol': 9933, 'puts': 0, 'calls': 195}, {'symbol': 2912, 'puts': 27, 'calls': 216}, {'symbol': 2103, 'puts': 0, 'calls': 143}, {'symbol': 2915, 'puts': 0, 'calls': 139}, {'symbol': 2313, 'puts': 0, 'calls': 133}, {'symbol': 1608, 'puts': 0, 'calls': 125}, {'symbol': 6121, 'puts': 31, 'calls': 141}, {'symbol': 2395, 'puts': 8, 'calls': 94}, {'symbol': 2014, 'puts': 0, 'calls': 84}, {'symbol': 3708, 'puts': 0, 'calls': 76}, {'symbol': 5269, 'puts': 0, 'calls': 70}, {'symbol': 2301, 'puts': 21, 'calls': 91}, {'symbol': 2031, 'puts': 0, 'calls': 57}, {'symbol': 3231, 'puts': 32, 'calls': 88}, {'symbol': 5469, 'puts': 0, 'calls': 54}, {'symbol': 9939, 'puts': 0, 'calls': 48}, {'symbol': 2368, 'puts': 0, 'calls': 47}, {'symbol': 2385, 'puts': 10, 'calls': 38}, {'symbol': 2890, 'puts': 59, 'calls': 84}, {'symbol': 6271, 'puts': 0, 'calls': 24}, {'symbol': 8069, 'puts': 0, 'calls': 22}, {'symbol': 2006, 'puts': 0, 'calls': 19}, {'symbol': 1904, 'puts': 0, 'calls': 19}, {'symbol': 2404, 'puts': 0, 'calls': 16}, {'symbol': 5234, 'puts': 0, 'calls': 14}, {'symbol': 2376, 'puts': 0, 'calls': 13}, {'symbol': 9904, 'puts': 26, 'calls': 38}, {'symbol': 1234, 'puts': 0, 'calls': 12}, {'symbol': 4938, 'puts': 0, 'calls': 12}, {'symbol': 4915, 'puts': 0, 'calls': 11}, {'symbol': 2360, 'puts': 0, 'calls': 10}, {'symbol': 2441, 'puts': 0, 'calls': 8}, {'symbol': 9908, 'puts': 0, 'calls': 7}, {'symbol': 2882, 'puts': 26, 'calls': 32}, {'symbol': 2474, 'puts': 0, 'calls': 5}, {'symbol': 1590, 'puts': 1, 'calls': 3}, {'symbol': 3023, 'puts': 0, 'calls': 2}]}\n"
     ]
    },
    {
     "data": {
      "text/plain": [
       "ObjectId('601bea149e75e0420e607eb2')"
      ]
     },
     "execution_count": 93,
     "metadata": {},
     "output_type": "execute_result"
    }
   ],
   "source": [
    "# test find max time of Daily punch(隔(n)日沖) symbols at sample time window\n",
    "# stage0\n",
    "pipeline = [\n",
    "    {\"$match\": { \"date\": { \"$lte\": datetime.now()} } },\n",
    "    {\"$match\": { \"date\": { \"$gte\": datetime.now() - timedelta(days=2) } } },\n",
    "    {\"$match\": { \"position.calls\": { \"$gte\": 5} } },\n",
    "    {\"$match\": { \"position.puts\": { \"$gte\": 5} } }\n",
    "    ]\n",
    "collect = BrokerDB.objects().aggregate(pipeline)\n",
    "items = [cursor for cursor in list(collect)] # clean cursor ptr and store to list\n",
    "for it in items:\n",
    "    print (it)\n",
    "    \n",
    "MaxCallSymbol = items[0]['_id']\n",
    "MaxCallSymbol\n",
    "\n"
   ]
  },
  {
   "cell_type": "code",
   "execution_count": null,
   "metadata": {},
   "outputs": [],
   "source": []
  }
 ],
 "metadata": {
  "kernelspec": {
   "display_name": "Python 3",
   "language": "python",
   "name": "python3"
  },
  "language_info": {
   "codemirror_mode": {
    "name": "ipython",
    "version": 3
   },
   "file_extension": ".py",
   "mimetype": "text/x-python",
   "name": "python",
   "nbconvert_exporter": "python",
   "pygments_lexer": "ipython3",
   "version": "3.7.4"
  }
 },
 "nbformat": 4,
 "nbformat_minor": 2
}
