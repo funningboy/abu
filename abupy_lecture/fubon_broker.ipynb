{
 "cells": [
  {
   "cell_type": "code",
   "execution_count": 1,
   "metadata": {},
   "outputs": [],
   "source": [
    "from bs4 import BeautifulSoup \n",
    "import requests\n",
    "import pandas as pd\n",
    "import numpy as np\n",
    "from datetime import date, datetime\n",
    "import matplotlib.pyplot as plt\n",
    "from string import Template\n",
    "import os\n",
    "import re\n",
    "from collections import defaultdict\n",
    "import random\n",
    "import json\n",
    "import asyncio\n",
    "import nest_asyncio\n",
    "nest_asyncio.apply()\n",
    "%matplotlib inline\n"
   ]
  },
  {
   "cell_type": "code",
   "execution_count": 2,
   "metadata": {},
   "outputs": [],
   "source": [
    "from datetime import datetime, timedelta\n",
    "\n",
    "dateString = \"2013/12/21\"\n",
    "dateFormatter = \"%Y/%m/%d\"\n",
    "datetime.strptime(dateString, dateFormatter)\n",
    "test_symbols = ['2330', '3008', '2317', '2412']\n",
    "DEBUG = False\n",
    "\n",
    "loop = asyncio.get_event_loop()"
   ]
  },
  {
   "cell_type": "code",
   "execution_count": 3,
   "metadata": {},
   "outputs": [],
   "source": [
    "# async pipline Test brokerId fetch  \n",
    "async def fetch_brokerId():\n",
    "    URL = 'https://fubon-ebrokerdj.fbs.com.tw/z/js/zbrokerjs.djjs'\n",
    "    \n",
    "    resp = requests.get(URL)\n",
    "    resp.encoding = 'cp950' # 中文\n",
    "    return resp.text\n",
    "  \n",
    "async def post_brokerId():\n",
    "    global BkrMap\n",
    "    text =  await fetch_brokerId()\n",
    "    reBkr = re.compile(r\".*g_BrokerList = \\'(.*)\\'\", re.MULTILINE|re.DOTALL)\n",
    "    reBkr2Id = re.compile(r\"(.*),(.*)\", re.DOTALL)\n",
    "    BkrGrps = reBkr.match(text).group(1).split(';') # slice to broker groups\n",
    "    BkrMap = defaultdict(lambda: defaultdict(str))\n",
    "\n",
    "    for bkrgrp in BkrGrps:\n",
    "        bkrlist = bkrgrp.split('!') # slice to sub broker\n",
    "        for i, bkr in enumerate(bkrlist):\n",
    "            bmt = reBkr2Id.match(bkr)\n",
    "            if bmt:\n",
    "                top_bkr = bmt.group(2) if i == 0 else top_bkr\n",
    "                BkrMap[top_bkr].update({bmt.group(2): bmt.group(1)}) #group(1) = b\n",
    "\n",
    "    # debug            \n",
    "    #for k in sorted(BkrMap.keys())[:1]:\n",
    "    #    print(BkrMap[k])\n",
    "loop = asyncio.get_event_loop()\n",
    "loop.run_until_complete(post_brokerId())\n",
    "#post_brokerId()"
   ]
  },
  {
   "cell_type": "code",
   "execution_count": 4,
   "metadata": {},
   "outputs": [],
   "source": [
    "# random pick BHID, SBHIDS\n",
    "def random_pick_BHIDs():\n",
    "    global BkrMap\n",
    "    test_BHIDS = list(BkrMap[random.choice(list(BkrMap.keys()))].items())\n",
    "    print (test_BHIDS)\n",
    "    BHID = test_BHIDS[0][1]\n",
    "    SBHID = random.choice(test_BHIDS[1:])[1] if len(test_BHIDS) > 2 else BHID # if have sub SBHIDS\n",
    "    #print (BHID, SBHID)\n",
    "    return (BHID, SBHID)\n",
    "    "
   ]
  },
  {
   "cell_type": "code",
   "execution_count": 5,
   "metadata": {},
   "outputs": [
    {
     "name": "stdout",
     "output_type": "stream",
     "text": [
      "[('永豐金', '9A00'), ('永豐金證券', '0039004100300030'), ('永豐金-三民(停)', '0039004100390056'), ('永豐金-三重', '003900410039004b'), ('永豐金-大園', '0039004100390038'), ('永豐金-大稻埕(停)', '0039004100390033'), ('永豐金-中正', '0039004100390055'), ('永豐金-中和', '0039004100390042'), ('永豐金-中盛', '0039004100390066'), ('永豐金-中壢', '0039004100390039'), ('永豐金-五權(停)', '0039004100360038'), ('永豐金-內湖', '0039004100390067'), ('永豐金-天母', '0039004100390047'), ('永豐金-北高雄', '0039004100390072'), ('永豐金-古亭', '0039004100390064'), ('永豐金-台中', '003900410039004c'), ('永豐金-台南', '0039004100390068'), ('永豐金-市政', '0039004100390057'), ('永豐金-永康', '0039004100390063'), ('永豐金-光復(停)', '0039004100390076'), ('永豐金-安和(停)', '0039004100390046'), ('永豐金-竹北', '0039004100390050'), ('永豐金-竹科', '0039004100390058'), ('永豐金-府城(停)', '0039004100390070'), ('永豐金-忠孝', '0039004100390044'), ('永豐金-板盛', '0039004100390059'), ('永豐金-板新', '003900410039004a'), ('永豐金-板橋', '0039004100390045'), ('永豐金-松山', '0039004100390031'), ('永豐金-虎尾', '0039004100390062'), ('永豐金-信義', '0039004100390052'), ('永豐金-南投', '003900410039004d'), ('永豐金-南京', '0039004100390053'), ('永豐金-屏東', '0039004100360039'), ('永豐金-苓雅', '0039004100390061'), ('永豐金-員林', '0039004100390043'), ('永豐金-埔里', '0039004100370039'), ('永豐金-桃中(停)', '003900410039006b'), ('永豐金-桃盛', '003900410039004e'), ('永豐金-桃園', '0039004100390078'), ('永豐金-高雄', '0039004100390065'), ('永豐金-國際證券', '0039004100380038'), ('永豐金-博愛', '0039004100390036'), ('永豐金-復興', '003900410039005a'), ('永豐金-敦北', '0039004100380039'), ('永豐金-敦南', '0039004100380046'), ('永豐金-新竹', '0039004100390037'), ('永豐金-新店', '0039004100390069'), ('永豐金-新莊', '0039004100390048'), ('永豐金-萬盛', '0039004100390032'), ('永豐金-經紀部(停)', '0039004100390035'), ('永豐金-嘉義', '003900410039006a'), ('永豐金-彰化', '0039004100390073'), ('永豐金-鳳山', '0039004100360031'), ('永豐金-數位(停)', '0039004100370047'), ('永豐金-潮州', '0039004100390071'), ('永豐金-豐原', '0039004100390051'), ('永豐金-羅東', '0039004100390041')]\n",
      "9A00 0039004100390053\n"
     ]
    }
   ],
   "source": [
    "BHID = '8150' # 台新\n",
    "SBHID = '8151' # 台新建北\n",
    "\n",
    "if not DEBUG:\n",
    "    BHID, SBHID = random_pick_BHIDs()\n",
    "    \n",
    "print (BHID, SBHID)"
   ]
  },
  {
   "cell_type": "code",
   "execution_count": 6,
   "metadata": {},
   "outputs": [],
   "source": [
    "#http://fubon-ebrokerdj.fbs.com.tw/z/zc/zco/zco0/zco0.djhtm?a=2330&BHID=9800&b=9800\n",
    "# get broker stock position detail put/call volume\n",
    "def get_broker_sub_symbol_position(BHID, SBHID, symbol):\n",
    "    URLStr = Template('https://fubon-ebrokerdj.fbs.com.tw/z/zc/zco/zco0/zco0.djhtm?a=$SYMBOL&BHID=$BHID&b=$SBHID')\n",
    "    URLPar = {\n",
    "        'SYMBOL': symbol,\n",
    "        'BHID' : BHID,\n",
    "        'SBHID': SBHID\n",
    "    }\n",
    "    urlStr = URLStr.substitute(URLPar)\n",
    "    resp = requests.get(urlStr)\n",
    "    soup = BeautifulSoup(resp.text, 'html.parser')\n",
    "    table = soup.find_all('table', {'class': 't01'})[0]\n",
    "    values = list(map(lambda x: str(x.text).replace(',',''), table.find_all('td', {'class': ['t3n1', 't3r1']})))\n",
    "    ddates = list(map(lambda x: datetime.strptime(str(x.text), dateFormatter), table.find_all('td', {'class': 't4n0'})))\n",
    "    #print (values)\n",
    "    #print (len(values))\n",
    "    calls = [values[i] for i in range(0, len(values), 4)]  #買\n",
    "    puts = [values[i+1] for i in range(0, len(values), 4)] #賣\n",
    "    BkrPutCall = {\n",
    "        'date': ddates,\n",
    "        'symbol': symbol,\n",
    "        'puts': puts,\n",
    "        'calls': calls\n",
    "    }\n",
    "    return  pd.DataFrame(BkrPutCall)"
   ]
  },
  {
   "cell_type": "code",
   "execution_count": 7,
   "metadata": {},
   "outputs": [
    {
     "data": {
      "text/html": [
       "<div>\n",
       "<style scoped>\n",
       "    .dataframe tbody tr th:only-of-type {\n",
       "        vertical-align: middle;\n",
       "    }\n",
       "\n",
       "    .dataframe tbody tr th {\n",
       "        vertical-align: top;\n",
       "    }\n",
       "\n",
       "    .dataframe thead th {\n",
       "        text-align: right;\n",
       "    }\n",
       "</style>\n",
       "<table border=\"1\" class=\"dataframe\">\n",
       "  <thead>\n",
       "    <tr style=\"text-align: right;\">\n",
       "      <th></th>\n",
       "      <th>date</th>\n",
       "      <th>symbol</th>\n",
       "      <th>puts</th>\n",
       "      <th>calls</th>\n",
       "    </tr>\n",
       "  </thead>\n",
       "  <tbody>\n",
       "    <tr>\n",
       "      <td>0</td>\n",
       "      <td>2021-02-17</td>\n",
       "      <td>2317</td>\n",
       "      <td>27</td>\n",
       "      <td>20</td>\n",
       "    </tr>\n",
       "    <tr>\n",
       "      <td>1</td>\n",
       "      <td>2021-02-05</td>\n",
       "      <td>2317</td>\n",
       "      <td>21</td>\n",
       "      <td>24</td>\n",
       "    </tr>\n",
       "    <tr>\n",
       "      <td>2</td>\n",
       "      <td>2021-02-04</td>\n",
       "      <td>2317</td>\n",
       "      <td>19</td>\n",
       "      <td>18</td>\n",
       "    </tr>\n",
       "    <tr>\n",
       "      <td>3</td>\n",
       "      <td>2021-02-03</td>\n",
       "      <td>2317</td>\n",
       "      <td>19</td>\n",
       "      <td>7</td>\n",
       "    </tr>\n",
       "  </tbody>\n",
       "</table>\n",
       "</div>"
      ],
      "text/plain": [
       "        date symbol puts calls\n",
       "0 2021-02-17   2317   27    20\n",
       "1 2021-02-05   2317   21    24\n",
       "2 2021-02-04   2317   19    18\n",
       "3 2021-02-03   2317   19     7"
      ]
     },
     "execution_count": 7,
     "metadata": {},
     "output_type": "execute_result"
    }
   ],
   "source": [
    "symbol = '2330'\n",
    "if not DEBUG:\n",
    "    symbol = random.choice(test_symbols)\n",
    "\n",
    "BkrPutCallpf = get_broker_sub_symbol_position(BHID, SBHID, symbol)\n",
    "BkrPutCallpf[:4]"
   ]
  },
  {
   "cell_type": "code",
   "execution_count": 8,
   "metadata": {},
   "outputs": [],
   "source": [
    "#https://fubon-ebrokerdj.fbs.com.tw/z/zg/zgb/zgb0.djhtm?a=1440&b=1440&c=E&d=1\n",
    "def get_broker_all_symbol_position(BHID, SBHID):\n",
    "    \n",
    "    # parser GenLink2stk('AS3481','群創');\n",
    "    reSymbol2Id = re.compile(r\".*GenLink2stk\\(\\'AS(.*)\\',\\'(.*)\\'\\);\", re.M|re.DOTALL)  \n",
    "    \n",
    "    #parser <a href=\"javascript:Link2Stk('00677U');\">00677U富邦VIX</a>\n",
    "    # no support yet\n",
    "    #reSymbol2Id2 = re.compile(r\".*Link2Stk\\(\\'(.*)\\'\\);\\\"\\>(.*)\\<\\/a\\>\", re.M|re.DOTALL)\n",
    "    \n",
    "    def get_symbol(text): \n",
    "        smt = reSymbol2Id.match(text)\n",
    "        if smt:\n",
    "            return smt.group(1)\n",
    "            \n",
    "    def get_puts_calls(table, Bkrlist):\n",
    "        values = list(map(lambda x: str(x.text).replace(',',''), table.find_all('td', {'class': ['t3n1', 't3r1']})))\n",
    "        symbols = list(map(lambda x:  get_symbol(str(x.text)), table.find_all('td', {'class': 't4t1'})))\n",
    "        \n",
    "        for i, symbol in enumerate(symbols):\n",
    "            if symbol == None:\n",
    "                continue\n",
    "            Bkrlist.append({\n",
    "            'symbol': symbol,\n",
    "            'calls': values[i*3+0], #買\n",
    "            'puts': values[i*3+1]   #賣\n",
    "            })\n",
    "        \n",
    "    URLStr = Template('https://fubon-ebrokerdj.fbs.com.tw/z/zg/zgb/zgb0.djhtm?a=$BHID&b=$SBHID&c=E&d=1')\n",
    "    URLPar = {\n",
    "        'BHID' : BHID,\n",
    "        'SBHID': SBHID\n",
    "    }\n",
    "    urlStr = URLStr.substitute(URLPar)\n",
    "    resp = requests.get(urlStr)\n",
    "    soup = BeautifulSoup(resp.text, 'html.parser')\n",
    "    \n",
    "    tables = soup.find_all('table', {'class': 't0'})\n",
    "    Bkrlist = list()\n",
    "    get_puts_calls(tables[0], Bkrlist) # 買超\n",
    "    get_puts_calls(tables[1], Bkrlist) # 賣超\n",
    "    \n",
    "    return pd.DataFrame(Bkrlist)"
   ]
  },
  {
   "cell_type": "code",
   "execution_count": 9,
   "metadata": {},
   "outputs": [
    {
     "data": {
      "text/html": [
       "<div>\n",
       "<style scoped>\n",
       "    .dataframe tbody tr th:only-of-type {\n",
       "        vertical-align: middle;\n",
       "    }\n",
       "\n",
       "    .dataframe tbody tr th {\n",
       "        vertical-align: top;\n",
       "    }\n",
       "\n",
       "    .dataframe thead th {\n",
       "        text-align: right;\n",
       "    }\n",
       "</style>\n",
       "<table border=\"1\" class=\"dataframe\">\n",
       "  <thead>\n",
       "    <tr style=\"text-align: right;\">\n",
       "      <th></th>\n",
       "      <th>symbol</th>\n",
       "      <th>calls</th>\n",
       "      <th>puts</th>\n",
       "    </tr>\n",
       "  </thead>\n",
       "  <tbody>\n",
       "    <tr>\n",
       "      <td>0</td>\n",
       "      <td>2603</td>\n",
       "      <td>504</td>\n",
       "      <td>348</td>\n",
       "    </tr>\n",
       "    <tr>\n",
       "      <td>1</td>\n",
       "      <td>2409</td>\n",
       "      <td>147</td>\n",
       "      <td>49</td>\n",
       "    </tr>\n",
       "    <tr>\n",
       "      <td>2</td>\n",
       "      <td>6282</td>\n",
       "      <td>77</td>\n",
       "      <td>1</td>\n",
       "    </tr>\n",
       "    <tr>\n",
       "      <td>3</td>\n",
       "      <td>6120</td>\n",
       "      <td>51</td>\n",
       "      <td>0</td>\n",
       "    </tr>\n",
       "    <tr>\n",
       "      <td>4</td>\n",
       "      <td>6208</td>\n",
       "      <td>52</td>\n",
       "      <td>1</td>\n",
       "    </tr>\n",
       "  </tbody>\n",
       "</table>\n",
       "</div>"
      ],
      "text/plain": [
       "  symbol calls puts\n",
       "0   2603   504  348\n",
       "1   2409   147   49\n",
       "2   6282    77    1\n",
       "3   6120    51    0\n",
       "4   6208    52    1"
      ]
     },
     "execution_count": 9,
     "metadata": {},
     "output_type": "execute_result"
    }
   ],
   "source": [
    "BHID2Symbolpf = get_broker_all_symbol_position(BHID, SBHID)\n",
    "BHID2Symbolpf.head()"
   ]
  },
  {
   "cell_type": "code",
   "execution_count": 10,
   "metadata": {},
   "outputs": [],
   "source": [
    "from mongoengine import *"
   ]
  },
  {
   "cell_type": "code",
   "execution_count": 11,
   "metadata": {},
   "outputs": [
    {
     "data": {
      "text/plain": [
       "MongoClient(host=['localhost:27017'], document_class=dict, tz_aware=False, connect=True, read_preference=Primary())"
      ]
     },
     "execution_count": 11,
     "metadata": {},
     "output_type": "execute_result"
    }
   ],
   "source": [
    "disconnect()\n",
    "connect(alias='symbol-db-alias', db='symbol-db')\n",
    "connect(alias='broker-db-alias', db='broker-db')\n",
    "connect(alias='symbol-broker-db-alias', db='symbol-broker-db')"
   ]
  },
  {
   "cell_type": "code",
   "execution_count": 12,
   "metadata": {},
   "outputs": [],
   "source": [
    "#TopBroker = {\n",
    "#  'BrokerId' : {\n",
    "#  [\n",
    "#       'date0': { [{'symbolId', 'puts', 'calls'}, ...]},\n",
    "#]\n",
    "#}\n",
    "#}\n",
    "class BrokerPositionDB(EmbeddedDocument): #embed\n",
    "    symbol = IntField() # ref symbol to Symbol Top \n",
    "    puts = IntField()   # puts volume\n",
    "    calls = IntField()  # call volume\n",
    "\n",
    "class BrokerDB(Document):\n",
    "    date = DateTimeField(default=datetime.utcnow)\n",
    "    position = ListField(EmbeddedDocumentField(BrokerPositionDB))\n",
    "    \n",
    "    meta = {'db_alias': 'broker-db-alias'}\n",
    "    \n",
    "class BarDB(Document):\n",
    "    O = FloatField()\n",
    "    L = FloatField()\n",
    "    V = IntField()\n",
    "    \n",
    "#MarginPS(Document):\n",
    "\n",
    "class SymbolDB(Document):\n",
    "    date = DateTimeField(default=datetime.utcnow)\n",
    "    broker = ReferenceField(BrokerDB)\n",
    "    bar = ReferenceField(BarDB)\n",
    "\n",
    "    meta = {'db_alias': 'symbol-broker-db-alias'}\n",
    "    "
   ]
  },
  {
   "cell_type": "code",
   "execution_count": 13,
   "metadata": {},
   "outputs": [],
   "source": [
    "#bkrPost = BkrPutCallpf.iloc[0].to_dict()\n",
    "BrkSymbolDic = BHID2Symbolpf.to_dict(orient=\"records\")"
   ]
  },
  {
   "cell_type": "code",
   "execution_count": 14,
   "metadata": {},
   "outputs": [],
   "source": [
    "# clean BrokerDB as empty\n",
    "BrokerDB.drop_collection()\n",
    "\n",
    "# random gen 10 broker symbols to mongodb\n",
    "for i in range(10):\n",
    "    brokerDb = BrokerDB()\n",
    "    brokerDb.date = datetime.now() - timedelta(days=i)\n",
    "    # pipeline from scrapy to MongoeEngine store\n",
    "    brokerDb.position = [BrokerPositionDB(**bb) for bb in BrkSymbolDic]\n",
    "    brokerDb.save()\n",
    "\n",
    "#broker.objects"
   ]
  },
  {
   "cell_type": "code",
   "execution_count": 15,
   "metadata": {},
   "outputs": [
    {
     "name": "stdout",
     "output_type": "stream",
     "text": [
      "10\n",
      "{'_id': 6116, 'sum_puts': 2794, 'sum_calls': 2696}\n",
      "{'_id': 2603, 'sum_puts': 696, 'sum_calls': 1008}\n",
      "{'_id': 2610, 'sum_puts': 784, 'sum_calls': 662}\n"
     ]
    },
    {
     "data": {
      "text/plain": [
       "6116"
      ]
     },
     "execution_count": 15,
     "metadata": {},
     "output_type": "execute_result"
    }
   ],
   "source": [
    "obj = BrokerDB.objects()[0]\n",
    "print(BrokerDB.objects.count())\n",
    "\n",
    "# test find max count of call symbols at sample time window\n",
    "pipeline = [\n",
    "    {\"$match\": { \"date\": { \"$lte\": datetime.now()} } },\n",
    "    {\"$match\": { \"date\": { \"$gte\": datetime.now() - timedelta(days=2) } } },\n",
    "    {\"$unwind\": \"$position\" },\n",
    "    {\"$group\": { \"_id\": \"$position.symbol\", \"sum_puts\": { \"$sum\": \"$position.puts\" }, \"sum_calls\": { \"$sum\": \"$position.calls\" } }  },\n",
    "    {\"$sort\": { \"sum_calls\": -1, \"sum_puts\": 1 } },\n",
    "    {\"$limit\": 3 }\n",
    "    ]\n",
    "collect = BrokerDB.objects().aggregate(pipeline)\n",
    "items = [cursor for cursor in list(collect)] # clean cursor ptr and store to list\n",
    "for it in items:\n",
    "    print (it)\n",
    "    \n",
    "MaxCallSymbol = items[0]['_id']\n",
    "MaxCallSymbol"
   ]
  },
  {
   "cell_type": "code",
   "execution_count": 16,
   "metadata": {},
   "outputs": [
    {
     "name": "stdout",
     "output_type": "stream",
     "text": [
      "2021-02-16 21:41:46.464000\n",
      "2021-02-17 21:41:46.444000\n"
     ]
    }
   ],
   "source": [
    "# test find symbol's call event at sample time window\n",
    "pipeline = [\n",
    "    {\"$match\": { \"date\": { \"$lte\": datetime.now()} } },\n",
    "    {\"$match\": { \"date\": { \"$gte\": datetime.now() - timedelta(days=2) } } },\n",
    "    {\"$unwind\": \"$position\" },\n",
    "    {\"$match\": { \"position.symbol\": MaxCallSymbol } },\n",
    "    {\"$sort\": { \"date\": 1} }\n",
    "    ]\n",
    "collect = BrokerDB.objects().aggregate(pipeline)\n",
    "items = [cursor for cursor in list(collect)] # clean cursor ptr and store to list\n",
    "# put to abu backtest algorithm to test broker win rate\n",
    "for it in items:\n",
    "    print (it['date'])"
   ]
  },
  {
   "cell_type": "code",
   "execution_count": 17,
   "metadata": {},
   "outputs": [
    {
     "name": "stdout",
     "output_type": "stream",
     "text": [
      "{'_id': 2313, 'times': 2}\n",
      "{'_id': 3526, 'times': 2}\n",
      "{'_id': 6282, 'times': 2}\n"
     ]
    },
    {
     "data": {
      "text/plain": [
       "2313"
      ]
     },
     "execution_count": 17,
     "metadata": {},
     "output_type": "execute_result"
    }
   ],
   "source": [
    "# test find max time of call(at least Call 5units threshold) symbols at sample time window\n",
    "# stage1\n",
    "pipeline = [\n",
    "    {\"$match\": { \"date\": { \"$lte\": datetime.now()} } },\n",
    "    {\"$match\": { \"date\": { \"$gte\": datetime.now() - timedelta(days=2) } } },\n",
    "    {\"$match\": { \"position.calls\": { \"$gte\": 5} } },\n",
    "    {\"$match\": { \"position.puts\": { \"$lte\": 5} } },\n",
    "    {\"$unwind\": \"$position\" },\n",
    "    {\"$group\": { \"_id\": \"$position.symbol\", \"times\": { \"$sum\": 1 } } },\n",
    "    {\"$sort\":  { \"times\": -1 } },\n",
    "    {\"$limit\": 3 }\n",
    "    ]\n",
    "collect = BrokerDB.objects().aggregate(pipeline)\n",
    "items = [cursor for cursor in list(collect)] # clean cursor ptr and store to list\n",
    "for it in items:\n",
    "    print (it)\n",
    "    \n",
    "MaxCallSymbol = items[0]['_id']\n",
    "MaxCallSymbol\n"
   ]
  },
  {
   "cell_type": "code",
   "execution_count": 18,
   "metadata": {},
   "outputs": [
    {
     "name": "stdout",
     "output_type": "stream",
     "text": [
      "{'_id': 2313, 'times': 1}\n",
      "{'_id': 3526, 'times': 1}\n",
      "{'_id': 6282, 'times': 1}\n"
     ]
    }
   ],
   "source": [
    "# test find max time of Daily punch(隔(n)日沖) symbols at sample time window\n",
    "# stage0\n",
    "pipeline = [\n",
    "    {\"$match\": { \"date\": { \"$lte\": datetime.now() - timedelta(days=1)} } },\n",
    "    {\"$match\": { \"date\": { \"$gte\": datetime.now() - timedelta(days=2)} } },\n",
    "    {\"$match\": { \"position.calls\": { \"$gte\": 5} } },\n",
    "    {\"$match\": { \"position.puts\": { \"$gte\": 5} } },\n",
    "    {\"$unwind\": \"$position\" },\n",
    "    {\"$group\": { \"_id\": \"$position.symbol\", \"times\": { \"$sum\": 1 } } },\n",
    "    {\"$sort\":  { \"times\": -1 } },\n",
    "    {\"$limit\": 3 }\n",
    "    ]\n",
    "collect = BrokerDB.objects().aggregate(pipeline)\n",
    "items = [cursor for cursor in list(collect)] # clean cursor ptr and store to list\n",
    "for it in items:\n",
    "    print (it)\n",
    "    \n",
    "MaxCallSymbol = items[0]['_id']\n",
    "MaxCallSymbol\n",
    "\n",
    "\n",
    "# stage1\n",
    "pipeline = [\n",
    "    {\"$match\": { \"date\": { \"$lte\": datetime.now()} } },\n",
    "    {\"$match\": { \"date\": { \"$gte\": datetime.now() - timedelta(days=1) } } },\n",
    "    {\"$unwind\": \"$position\" },\n",
    "    {\"$match\": { \"_id\": \"$position.symbol\" } },\n",
    "    {\"$sort\":  { \"times\": -1 } },\n",
    "    {\"$limit\": 3 }\n",
    "    ]\n",
    "collect = BrokerDB.objects().aggregate(pipeline)\n",
    "items = [cursor for cursor in list(collect)] # clean cursor ptr and store to list"
   ]
  },
  {
   "cell_type": "code",
   "execution_count": 19,
   "metadata": {},
   "outputs": [
    {
     "name": "stderr",
     "output_type": "stream",
     "text": [
      "NumExpr defaulting to 8 threads.\n"
     ]
    }
   ],
   "source": [
    "import asyncio\n",
    "import motor.motor_asyncio\n",
    "from datetime import date, datetime\n",
    "import pprint\n",
    "import sys\n",
    "\n",
    "sys.path.insert(0, os.path.abspath('../'))\n",
    "import abupy\n",
    "from abupy.UtilBu.ABuDateUtil import str_to_datetime"
   ]
  },
  {
   "cell_type": "code",
   "execution_count": 20,
   "metadata": {},
   "outputs": [],
   "source": [
    "\n",
    "client = motor.motor_asyncio.AsyncIOMotorClient('mongodb://localhost:27017')"
   ]
  },
  {
   "cell_type": "code",
   "execution_count": 24,
   "metadata": {},
   "outputs": [],
   "source": [
    "db = client['symbol-db']\n",
    "collection = db['StockHisTrader']\n",
    "loop = asyncio.get_event_loop()"
   ]
  },
  {
   "cell_type": "code",
   "execution_count": 25,
   "metadata": {},
   "outputs": [
    {
     "name": "stdout",
     "output_type": "stream",
     "text": [
      "{'_id': ObjectId('602d135f5e500f73b3d33d6e'),\n",
      " 'date': datetime.datetime(2021, 2, 17, 0, 0),\n",
      " 'symbol': '3617',\n",
      " 'traders': [{'call': '6', 'put': '0', 'tdname': '大昌-新店', 'weight': '8.11'},\n",
      "             {'call': '0', 'put': '12', 'tdname': '元大-新竹', 'weight': '16.22'},\n",
      "             {'call': '5', 'put': '0', 'tdname': '國泰-館前', 'weight': '6.76'},\n",
      "             {'call': '0', 'put': '4', 'tdname': '日盛-中壢', 'weight': '5.41'},\n",
      "             {'call': '5', 'put': '0', 'tdname': '富邦-仁愛', 'weight': '6.76'},\n",
      "             {'call': '0', 'put': '3', 'tdname': '中國信託-忠孝', 'weight': '4.05'},\n",
      "             {'call': '4', 'put': '0', 'tdname': '土銀-建國', 'weight': '5.41'},\n",
      "             {'call': '0', 'put': '3', 'tdname': '玉山-桃園', 'weight': '4.05'},\n",
      "             {'call': '4', 'put': '0', 'tdname': '瑞士信貸', 'weight': '5.41'},\n",
      "             {'call': '0', 'put': '3', 'tdname': '元大-景美', 'weight': '4.05'},\n",
      "             {'call': '4', 'put': '1', 'tdname': '美林', 'weight': '4.05'},\n",
      "             {'call': '0', 'put': '2', 'tdname': '美商高盛', 'weight': '2.7'},\n",
      "             {'call': '2', 'put': '0', 'tdname': '統一-嘉義', 'weight': '2.7'},\n",
      "             {'call': '0', 'put': '2', 'tdname': '統一', 'weight': '2.7'},\n",
      "             {'call': '2', 'put': '0', 'tdname': '中國信託-文心', 'weight': '2.7'},\n",
      "             {'call': '0', 'put': '2', 'tdname': '凱基-市府', 'weight': '2.7'},\n",
      "             {'call': '2', 'put': '0', 'tdname': '兆豐-台中港', 'weight': '2.7'},\n",
      "             {'call': '0', 'put': '2', 'tdname': '元大-大雅', 'weight': '2.7'},\n",
      "             {'call': '2', 'put': '0', 'tdname': '兆豐-鹿港', 'weight': '2.7'},\n",
      "             {'call': '0', 'put': '1', 'tdname': '亞東', 'weight': '1.35'},\n",
      "             {'call': '2', 'put': '0', 'tdname': '兆豐-新莊', 'weight': '2.7'},\n",
      "             {'call': '0', 'put': '1', 'tdname': '統一-桃園', 'weight': '1.35'},\n",
      "             {'call': '2', 'put': '0', 'tdname': '國泰-台中', 'weight': '2.7'},\n",
      "             {'call': '0', 'put': '1', 'tdname': '土銀-新竹', 'weight': '1.35'},\n",
      "             {'call': '2', 'put': '0', 'tdname': '國泰-板橋', 'weight': '2.7'},\n",
      "             {'call': '0', 'put': '1', 'tdname': '合庫-彰化', 'weight': '1.35'},\n",
      "             {'call': '2', 'put': '0', 'tdname': '元大-清水', 'weight': '2.7'},\n",
      "             {'call': '0', 'put': '1', 'tdname': '臺銀-高雄', 'weight': '1.35'},\n",
      "             {'call': '2', 'put': '0', 'tdname': '元大-南京', 'weight': '2.7'},\n",
      "             {'call': '1', 'put': '2', 'tdname': '康和-內湖', 'weight': '1.35'}]}\n"
     ]
    }
   ],
   "source": [
    "# spider cmd\n",
    "#%scrapy crawl StockHisTraderSpider --logfile test.log\n",
    "yy, mm, dd = date.today().isoformat().split(\"-\")[0:3]\n",
    "cdate = \"{0}-{1}-{2}\".format(yy, mm, dd)\n",
    "dd = str_to_datetime(cdate)\n",
    "symbol = '3617'\n",
    "\n",
    "async def do_find_one():\n",
    "    document = await db['StockHisTrader'].find_one({'symbol': symbol, 'date': dd})\n",
    "    pprint.pprint(document)\n",
    "    \n",
    "\n",
    "loop.run_until_complete(do_find_one())"
   ]
  },
  {
   "cell_type": "code",
   "execution_count": 39,
   "metadata": {},
   "outputs": [
    {
     "name": "stdout",
     "output_type": "stream",
     "text": [
      "{'_id': {'symbol': '912000', 'tdname': '凱基-大直'},\n",
      " 'sum_calls': 780000.0,\n",
      " 'sum_puts': 0.0}\n",
      "{'_id': {'symbol': '00663L', 'tdname': '元大證券'},\n",
      " 'sum_calls': 591000.0,\n",
      " 'sum_puts': 630000.0}\n",
      "{'_id': {'symbol': '00733', 'tdname': '富邦證券'},\n",
      " 'sum_calls': 257000.0,\n",
      " 'sum_puts': 144000.0}\n"
     ]
    }
   ],
   "source": [
    "\n",
    "async def do_find_max_calls_symbol():\n",
    "    # test find max count of call symbols at sample time window\n",
    "    pipeline = [\n",
    "        # add lookup hisstock filter min/max close and margin rate, total_calls/total_volume = total_weight\n",
    "        {\"$match\": { \"date\": { \"$lte\": datetime.now()} } },\n",
    "        {\"$match\": { \"date\": { \"$gte\": datetime.now() - timedelta(days=2) } } },\n",
    "        {\"$unwind\": \"$traders\" },\n",
    "        {\"$group\": { \"_id\": { \"tdname\": \"$traders.tdname\", \"symbol\": \"$symbol\"}, \n",
    "                    \"sum_puts\": { \"$sum\": \"$traders.put\" }, \n",
    "                    \"sum_calls\": { \"$sum\": \"$traders.call\" } }  },\n",
    "        {\"$sort\": { \"sum_calls\": -1, \"sum_puts\": 1 } },\n",
    "        {\"$limit\": 3 }\n",
    "        ]\n",
    "    collect = db['StockHisTrader'].aggregate(pipeline)\n",
    "    async for cursor in collect: # clean cursor ptr and store to list\n",
    "        pprint.pprint(cursor)\n",
    "        \n",
    "\n",
    "loop.run_until_complete(do_find_max_calls_symbol())        "
   ]
  },
  {
   "cell_type": "code",
   "execution_count": null,
   "metadata": {},
   "outputs": [],
   "source": []
  },
  {
   "cell_type": "code",
   "execution_count": null,
   "metadata": {},
   "outputs": [],
   "source": []
  },
  {
   "cell_type": "code",
   "execution_count": null,
   "metadata": {},
   "outputs": [],
   "source": []
  }
 ],
 "metadata": {
  "kernelspec": {
   "display_name": "Python 3",
   "language": "python",
   "name": "python3"
  },
  "language_info": {
   "codemirror_mode": {
    "name": "ipython",
    "version": 3
   },
   "file_extension": ".py",
   "mimetype": "text/x-python",
   "name": "python",
   "nbconvert_exporter": "python",
   "pygments_lexer": "ipython3",
   "version": "3.7.4"
  }
 },
 "nbformat": 4,
 "nbformat_minor": 2
}
